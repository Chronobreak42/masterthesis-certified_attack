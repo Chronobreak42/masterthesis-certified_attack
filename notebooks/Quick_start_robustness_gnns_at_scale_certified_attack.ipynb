{
 "nbformat": 4,
 "nbformat_minor": 0,
 "metadata": {
  "colab": {
   "name": "Quick_start-robustness_gnns_at_scale.ipynb",
   "provenance": [],
   "include_colab_link": true
  },
  "kernelspec": {
   "name": "python3",
   "language": "python",
   "display_name": "Python 3 (ipykernel)"
  },
  "language_info": {
   "name": "python"
  },
  "widgets": {
   "application/vnd.jupyter.widget-state+json": {
    "22737c8a2e514705b67a371df5efa80d": {
     "model_module": "@jupyter-widgets/controls",
     "model_name": "HBoxModel",
     "model_module_version": "1.5.0",
     "state": {
      "_dom_classes": [],
      "_model_module": "@jupyter-widgets/controls",
      "_model_module_version": "1.5.0",
      "_model_name": "HBoxModel",
      "_view_count": null,
      "_view_module": "@jupyter-widgets/controls",
      "_view_module_version": "1.5.0",
      "_view_name": "HBoxView",
      "box_style": "",
      "children": [
       "IPY_MODEL_b327d356e05248d8936bb6d7b72c42d5",
       "IPY_MODEL_d07630ee143e41b28e99cc5dba05eb71",
       "IPY_MODEL_78517141da964ca8a6c165840abc95e2"
      ],
      "layout": "IPY_MODEL_eec19e7ba9cd4039883ecc48a280b0a6"
     }
    },
    "b327d356e05248d8936bb6d7b72c42d5": {
     "model_module": "@jupyter-widgets/controls",
     "model_name": "HTMLModel",
     "model_module_version": "1.5.0",
     "state": {
      "_dom_classes": [],
      "_model_module": "@jupyter-widgets/controls",
      "_model_module_version": "1.5.0",
      "_model_name": "HTMLModel",
      "_view_count": null,
      "_view_module": "@jupyter-widgets/controls",
      "_view_module_version": "1.5.0",
      "_view_name": "HTMLView",
      "description": "",
      "description_tooltip": null,
      "layout": "IPY_MODEL_57e0eb7b8c104ea9ad224c49bcf003ba",
      "placeholder": "​",
      "style": "IPY_MODEL_b3f12e2a75164523aee4dceb4e1e204a",
      "value": "Training...:  22%"
     }
    },
    "d07630ee143e41b28e99cc5dba05eb71": {
     "model_module": "@jupyter-widgets/controls",
     "model_name": "FloatProgressModel",
     "model_module_version": "1.5.0",
     "state": {
      "_dom_classes": [],
      "_model_module": "@jupyter-widgets/controls",
      "_model_module_version": "1.5.0",
      "_model_name": "FloatProgressModel",
      "_view_count": null,
      "_view_module": "@jupyter-widgets/controls",
      "_view_module_version": "1.5.0",
      "_view_name": "ProgressView",
      "bar_style": "danger",
      "description": "",
      "description_tooltip": null,
      "layout": "IPY_MODEL_9ed1649272524285943ede29436174f6",
      "max": 3000,
      "min": 0,
      "orientation": "horizontal",
      "style": "IPY_MODEL_dfac61d2a44e4e15af62421430701383",
      "value": 665
     }
    },
    "78517141da964ca8a6c165840abc95e2": {
     "model_module": "@jupyter-widgets/controls",
     "model_name": "HTMLModel",
     "model_module_version": "1.5.0",
     "state": {
      "_dom_classes": [],
      "_model_module": "@jupyter-widgets/controls",
      "_model_module_version": "1.5.0",
      "_model_name": "HTMLModel",
      "_view_count": null,
      "_view_module": "@jupyter-widgets/controls",
      "_view_module_version": "1.5.0",
      "_view_name": "HTMLView",
      "description": "",
      "description_tooltip": null,
      "layout": "IPY_MODEL_2057b1ca6f104fca86cdebc03cc1a28d",
      "placeholder": "​",
      "style": "IPY_MODEL_31770a4d11914717972b8561c3f5d973",
      "value": " 665/3000 [01:14&lt;03:42, 10.52it/s]"
     }
    },
    "eec19e7ba9cd4039883ecc48a280b0a6": {
     "model_module": "@jupyter-widgets/base",
     "model_name": "LayoutModel",
     "model_module_version": "1.2.0",
     "state": {
      "_model_module": "@jupyter-widgets/base",
      "_model_module_version": "1.2.0",
      "_model_name": "LayoutModel",
      "_view_count": null,
      "_view_module": "@jupyter-widgets/base",
      "_view_module_version": "1.2.0",
      "_view_name": "LayoutView",
      "align_content": null,
      "align_items": null,
      "align_self": null,
      "border": null,
      "bottom": null,
      "display": null,
      "flex": null,
      "flex_flow": null,
      "grid_area": null,
      "grid_auto_columns": null,
      "grid_auto_flow": null,
      "grid_auto_rows": null,
      "grid_column": null,
      "grid_gap": null,
      "grid_row": null,
      "grid_template_areas": null,
      "grid_template_columns": null,
      "grid_template_rows": null,
      "height": null,
      "justify_content": null,
      "justify_items": null,
      "left": null,
      "margin": null,
      "max_height": null,
      "max_width": null,
      "min_height": null,
      "min_width": null,
      "object_fit": null,
      "object_position": null,
      "order": null,
      "overflow": null,
      "overflow_x": null,
      "overflow_y": null,
      "padding": null,
      "right": null,
      "top": null,
      "visibility": null,
      "width": null
     }
    },
    "57e0eb7b8c104ea9ad224c49bcf003ba": {
     "model_module": "@jupyter-widgets/base",
     "model_name": "LayoutModel",
     "model_module_version": "1.2.0",
     "state": {
      "_model_module": "@jupyter-widgets/base",
      "_model_module_version": "1.2.0",
      "_model_name": "LayoutModel",
      "_view_count": null,
      "_view_module": "@jupyter-widgets/base",
      "_view_module_version": "1.2.0",
      "_view_name": "LayoutView",
      "align_content": null,
      "align_items": null,
      "align_self": null,
      "border": null,
      "bottom": null,
      "display": null,
      "flex": null,
      "flex_flow": null,
      "grid_area": null,
      "grid_auto_columns": null,
      "grid_auto_flow": null,
      "grid_auto_rows": null,
      "grid_column": null,
      "grid_gap": null,
      "grid_row": null,
      "grid_template_areas": null,
      "grid_template_columns": null,
      "grid_template_rows": null,
      "height": null,
      "justify_content": null,
      "justify_items": null,
      "left": null,
      "margin": null,
      "max_height": null,
      "max_width": null,
      "min_height": null,
      "min_width": null,
      "object_fit": null,
      "object_position": null,
      "order": null,
      "overflow": null,
      "overflow_x": null,
      "overflow_y": null,
      "padding": null,
      "right": null,
      "top": null,
      "visibility": null,
      "width": null
     }
    },
    "b3f12e2a75164523aee4dceb4e1e204a": {
     "model_module": "@jupyter-widgets/controls",
     "model_name": "DescriptionStyleModel",
     "model_module_version": "1.5.0",
     "state": {
      "_model_module": "@jupyter-widgets/controls",
      "_model_module_version": "1.5.0",
      "_model_name": "DescriptionStyleModel",
      "_view_count": null,
      "_view_module": "@jupyter-widgets/base",
      "_view_module_version": "1.2.0",
      "_view_name": "StyleView",
      "description_width": ""
     }
    },
    "9ed1649272524285943ede29436174f6": {
     "model_module": "@jupyter-widgets/base",
     "model_name": "LayoutModel",
     "model_module_version": "1.2.0",
     "state": {
      "_model_module": "@jupyter-widgets/base",
      "_model_module_version": "1.2.0",
      "_model_name": "LayoutModel",
      "_view_count": null,
      "_view_module": "@jupyter-widgets/base",
      "_view_module_version": "1.2.0",
      "_view_name": "LayoutView",
      "align_content": null,
      "align_items": null,
      "align_self": null,
      "border": null,
      "bottom": null,
      "display": null,
      "flex": null,
      "flex_flow": null,
      "grid_area": null,
      "grid_auto_columns": null,
      "grid_auto_flow": null,
      "grid_auto_rows": null,
      "grid_column": null,
      "grid_gap": null,
      "grid_row": null,
      "grid_template_areas": null,
      "grid_template_columns": null,
      "grid_template_rows": null,
      "height": null,
      "justify_content": null,
      "justify_items": null,
      "left": null,
      "margin": null,
      "max_height": null,
      "max_width": null,
      "min_height": null,
      "min_width": null,
      "object_fit": null,
      "object_position": null,
      "order": null,
      "overflow": null,
      "overflow_x": null,
      "overflow_y": null,
      "padding": null,
      "right": null,
      "top": null,
      "visibility": null,
      "width": null
     }
    },
    "dfac61d2a44e4e15af62421430701383": {
     "model_module": "@jupyter-widgets/controls",
     "model_name": "ProgressStyleModel",
     "model_module_version": "1.5.0",
     "state": {
      "_model_module": "@jupyter-widgets/controls",
      "_model_module_version": "1.5.0",
      "_model_name": "ProgressStyleModel",
      "_view_count": null,
      "_view_module": "@jupyter-widgets/base",
      "_view_module_version": "1.2.0",
      "_view_name": "StyleView",
      "bar_color": null,
      "description_width": ""
     }
    },
    "2057b1ca6f104fca86cdebc03cc1a28d": {
     "model_module": "@jupyter-widgets/base",
     "model_name": "LayoutModel",
     "model_module_version": "1.2.0",
     "state": {
      "_model_module": "@jupyter-widgets/base",
      "_model_module_version": "1.2.0",
      "_model_name": "LayoutModel",
      "_view_count": null,
      "_view_module": "@jupyter-widgets/base",
      "_view_module_version": "1.2.0",
      "_view_name": "LayoutView",
      "align_content": null,
      "align_items": null,
      "align_self": null,
      "border": null,
      "bottom": null,
      "display": null,
      "flex": null,
      "flex_flow": null,
      "grid_area": null,
      "grid_auto_columns": null,
      "grid_auto_flow": null,
      "grid_auto_rows": null,
      "grid_column": null,
      "grid_gap": null,
      "grid_row": null,
      "grid_template_areas": null,
      "grid_template_columns": null,
      "grid_template_rows": null,
      "height": null,
      "justify_content": null,
      "justify_items": null,
      "left": null,
      "margin": null,
      "max_height": null,
      "max_width": null,
      "min_height": null,
      "min_width": null,
      "object_fit": null,
      "object_position": null,
      "order": null,
      "overflow": null,
      "overflow_x": null,
      "overflow_y": null,
      "padding": null,
      "right": null,
      "top": null,
      "visibility": null,
      "width": null
     }
    },
    "31770a4d11914717972b8561c3f5d973": {
     "model_module": "@jupyter-widgets/controls",
     "model_name": "DescriptionStyleModel",
     "model_module_version": "1.5.0",
     "state": {
      "_model_module": "@jupyter-widgets/controls",
      "_model_module_version": "1.5.0",
      "_model_name": "DescriptionStyleModel",
      "_view_count": null,
      "_view_module": "@jupyter-widgets/base",
      "_view_module_version": "1.2.0",
      "_view_name": "StyleView",
      "description_width": ""
     }
    }
   }
  }
 },
 "cells": [
  {
   "cell_type": "markdown",
   "source": [
    "# Robustness of Graph Neural Networks at Scale - Quick Start\n",
    "\n",
    "This notebook can be run in google colab and serves as a quick introduction to the [Robustness of Graph Neural Networks at Scale](https://github.com/sigeisler/robustness_of_gnns_at_scale) repository.\n",
    "\n",
    "## 0. Setup\n",
    "\n",
    "First, let's get the code and install requirements.\n"
   ],
   "metadata": {
    "id": "ixdVBV5PugOh"
   }
  },
  {
   "cell_type": "code",
   "source": [
    "import config\n",
    "%cd {config.PROJECT_DIR}"
   ],
   "metadata": {
    "id": "Vb3p2trlhuqK",
    "outputId": "4e94d35a-b70c-4365-e4e1-99418b990f65",
    "colab": {
     "base_uri": "https://localhost:8080/"
    },
    "ExecuteTime": {
     "end_time": "2025-04-15T11:43:14.185337100Z",
     "start_time": "2025-04-15T11:43:14.169993300Z"
    }
   },
   "outputs": [
    {
     "name": "stdout",
     "output_type": "stream",
     "text": [
      "C:\\Users\\kyawk\\Desktop\\robustness_of_gnns_at_scale-main\n"
     ]
    },
    {
     "name": "stderr",
     "output_type": "stream",
     "text": [
      "C:\\Users\\kyawk\\anaconda3\\envs\\Masterarbeit_2_0\\Lib\\site-packages\\IPython\\core\\magics\\osm.py:417: UserWarning: This is now an optional IPython functionality, setting dhist requires you to install the `pickleshare` library.\n",
      "  self.shell.db['dhist'] = compress_dhist(dhist)[-100:]\n"
     ]
    }
   ],
   "execution_count": 1
  },
  {
   "cell_type": "markdown",
   "source": [
    "### Imports"
   ],
   "metadata": {
    "id": "FQScUvGr-b08"
   }
  },
  {
   "cell_type": "code",
   "source": [
    "# run\n",
    "import seml"
   ],
   "metadata": {
    "id": "Mj15BeWkb2vU",
    "ExecuteTime": {
     "end_time": "2025-04-15T11:43:14.545945800Z",
     "start_time": "2025-04-15T11:43:14.183330Z"
    }
   },
   "outputs": [],
   "execution_count": 2
  },
  {
   "cell_type": "code",
   "source": [
    "#7 run\n",
    "#%cd robustness_of_gnns_at_scale\n",
    "from matplotlib import pyplot as plt\n",
    "\n",
    "from experiments import (\n",
    "    experiment_train,\n",
    "    experiment_local_attack_direct,\n",
    "    experiment_global_attack_direct\n",
    ")\n",
    "\n",
    "%matplotlib inline\n",
    "\n",
    "%load_ext autoreload\n",
    "%autoreload 2"
   ],
   "metadata": {
    "id": "dla6ioi_FBWn",
    "outputId": "98e40cf8-4f6c-426f-edc4-6802630765ab",
    "colab": {
     "base_uri": "https://localhost:8080/",
     "height": 359
    },
    "ExecuteTime": {
     "end_time": "2025-04-15T11:43:27.586630800Z",
     "start_time": "2025-04-15T11:43:14.548936Z"
    }
   },
   "outputs": [
    {
     "name": "stderr",
     "output_type": "stream",
     "text": [
      "C:\\Users\\kyawk\\anaconda3\\envs\\Masterarbeit_2_0\\Lib\\site-packages\\torch\\utils\\cpp_extension.py:414: UserWarning: Error checking compiler version for cl: [WinError 2] Das System kann die angegebene Datei nicht finden\n",
      "  warnings.warn(f'Error checking compiler version for {compiler}: {error}')\n",
      "WARNING:root:Cuda kernels could not loaded -> no CUDA support!\n",
      "WARNING:root:Importing setup_logger directly from seml is deprecated.\n",
      "Use from seml.experiment import setup_logger instead.\n",
      "Note that seml.experiment.Experiment already includes the logger setup.\n",
      "See https://github.com/TUM-DAML/seml/blob/master/examples/example_experiment.py\n"
     ]
    },
    {
     "data": {
      "text/plain": "\u001B[2;36m[04/15/25 13:43:26]\u001B[0m\u001B[2;36m \u001B[0m\u001B[33mWARNING \u001B[0m Importing setup_logger directly from seml is deprecated.                \u001B]8;id=136378;file://C:\\Users\\kyawk\\anaconda3\\envs\\Masterarbeit_2_0\\Lib\\site-packages\\seml\\__init__.py\u001B\\\u001B[2m__init__.py\u001B[0m\u001B]8;;\u001B\\\u001B[2m:\u001B[0m\u001B]8;id=879569;file://C:\\Users\\kyawk\\anaconda3\\envs\\Masterarbeit_2_0\\Lib\\site-packages\\seml\\__init__.py#10\u001B\\\u001B[2m10\u001B[0m\u001B]8;;\u001B\\\n\u001B[2;36m                    \u001B[0m         Use from seml.experiment import setup_logger instead.                   \u001B[2m              \u001B[0m\n\u001B[2;36m                    \u001B[0m         Note that seml.experiment.Experiment already includes the logger setup. \u001B[2m              \u001B[0m\n\u001B[2;36m                    \u001B[0m         See                                                                     \u001B[2m              \u001B[0m\n\u001B[2;36m                    \u001B[0m         \u001B[4;94mhttps://github.com/TUM-DAML/seml/blob/master/examples/example_experimen\u001B[0m \u001B[2m              \u001B[0m\n\u001B[2;36m                    \u001B[0m         \u001B[4;94mt.py\u001B[0m                                                                    \u001B[2m              \u001B[0m\n",
      "text/html": "<pre style=\"white-space:pre;overflow-x:auto;line-height:normal;font-family:Menlo,'DejaVu Sans Mono',consolas,'Courier New',monospace\"><span style=\"color: #7fbfbf; text-decoration-color: #7fbfbf\">[04/15/25 13:43:26] </span><span style=\"color: #808000; text-decoration-color: #808000\">WARNING </span> Importing setup_logger directly from seml is deprecated.                <a href=\"file://C:\\Users\\kyawk\\anaconda3\\envs\\Masterarbeit_2_0\\Lib\\site-packages\\seml\\__init__.py\" target=\"_blank\"><span style=\"color: #7f7f7f; text-decoration-color: #7f7f7f\">__init__.py</span></a><span style=\"color: #7f7f7f; text-decoration-color: #7f7f7f\">:</span><a href=\"file://C:\\Users\\kyawk\\anaconda3\\envs\\Masterarbeit_2_0\\Lib\\site-packages\\seml\\__init__.py#10\" target=\"_blank\"><span style=\"color: #7f7f7f; text-decoration-color: #7f7f7f\">10</span></a>\n<span style=\"color: #7fbfbf; text-decoration-color: #7fbfbf\">                    </span>         Use from seml.experiment import setup_logger instead.                   <span style=\"color: #7f7f7f; text-decoration-color: #7f7f7f\">              </span>\n<span style=\"color: #7fbfbf; text-decoration-color: #7fbfbf\">                    </span>         Note that seml.experiment.Experiment already includes the logger setup. <span style=\"color: #7f7f7f; text-decoration-color: #7f7f7f\">              </span>\n<span style=\"color: #7fbfbf; text-decoration-color: #7fbfbf\">                    </span>         See                                                                     <span style=\"color: #7f7f7f; text-decoration-color: #7f7f7f\">              </span>\n<span style=\"color: #7fbfbf; text-decoration-color: #7fbfbf\">                    </span>         <span style=\"color: #0000ff; text-decoration-color: #0000ff; text-decoration: underline\">https://github.com/TUM-DAML/seml/blob/master/examples/example_experimen</span> <span style=\"color: #7f7f7f; text-decoration-color: #7f7f7f\">              </span>\n<span style=\"color: #7fbfbf; text-decoration-color: #7fbfbf\">                    </span>         <span style=\"color: #0000ff; text-decoration-color: #0000ff; text-decoration: underline\">t.py</span>                                                                    <span style=\"color: #7f7f7f; text-decoration-color: #7f7f7f\">              </span>\n</pre>\n"
     },
     "metadata": {},
     "output_type": "display_data"
    },
    {
     "data": {
      "text/plain": "\u001B[2;36m[04/15/25 13:43:27]\u001B[0m\u001B[2;36m \u001B[0m\u001B[33mWARNING \u001B[0m Importing setup_logger directly from seml is deprecated.                \u001B]8;id=202168;file://C:\\Users\\kyawk\\anaconda3\\envs\\Masterarbeit_2_0\\Lib\\site-packages\\seml\\__init__.py\u001B\\\u001B[2m__init__.py\u001B[0m\u001B]8;;\u001B\\\u001B[2m:\u001B[0m\u001B]8;id=242790;file://C:\\Users\\kyawk\\anaconda3\\envs\\Masterarbeit_2_0\\Lib\\site-packages\\seml\\__init__.py#10\u001B\\\u001B[2m10\u001B[0m\u001B]8;;\u001B\\\n\u001B[2;36m                    \u001B[0m         Use from seml.experiment import setup_logger instead.                   \u001B[2m              \u001B[0m\n\u001B[2;36m                    \u001B[0m         Note that seml.experiment.Experiment already includes the logger setup. \u001B[2m              \u001B[0m\n\u001B[2;36m                    \u001B[0m         See                                                                     \u001B[2m              \u001B[0m\n\u001B[2;36m                    \u001B[0m         \u001B[4;94mhttps://github.com/TUM-DAML/seml/blob/master/examples/example_experimen\u001B[0m \u001B[2m              \u001B[0m\n\u001B[2;36m                    \u001B[0m         \u001B[4;94mt.py\u001B[0m                                                                    \u001B[2m              \u001B[0m\n",
      "text/html": "<pre style=\"white-space:pre;overflow-x:auto;line-height:normal;font-family:Menlo,'DejaVu Sans Mono',consolas,'Courier New',monospace\"><span style=\"color: #7fbfbf; text-decoration-color: #7fbfbf\">[04/15/25 13:43:27] </span><span style=\"color: #808000; text-decoration-color: #808000\">WARNING </span> Importing setup_logger directly from seml is deprecated.                <a href=\"file://C:\\Users\\kyawk\\anaconda3\\envs\\Masterarbeit_2_0\\Lib\\site-packages\\seml\\__init__.py\" target=\"_blank\"><span style=\"color: #7f7f7f; text-decoration-color: #7f7f7f\">__init__.py</span></a><span style=\"color: #7f7f7f; text-decoration-color: #7f7f7f\">:</span><a href=\"file://C:\\Users\\kyawk\\anaconda3\\envs\\Masterarbeit_2_0\\Lib\\site-packages\\seml\\__init__.py#10\" target=\"_blank\"><span style=\"color: #7f7f7f; text-decoration-color: #7f7f7f\">10</span></a>\n<span style=\"color: #7fbfbf; text-decoration-color: #7fbfbf\">                    </span>         Use from seml.experiment import setup_logger instead.                   <span style=\"color: #7f7f7f; text-decoration-color: #7f7f7f\">              </span>\n<span style=\"color: #7fbfbf; text-decoration-color: #7fbfbf\">                    </span>         Note that seml.experiment.Experiment already includes the logger setup. <span style=\"color: #7f7f7f; text-decoration-color: #7f7f7f\">              </span>\n<span style=\"color: #7fbfbf; text-decoration-color: #7fbfbf\">                    </span>         See                                                                     <span style=\"color: #7f7f7f; text-decoration-color: #7f7f7f\">              </span>\n<span style=\"color: #7fbfbf; text-decoration-color: #7fbfbf\">                    </span>         <span style=\"color: #0000ff; text-decoration-color: #0000ff; text-decoration: underline\">https://github.com/TUM-DAML/seml/blob/master/examples/example_experimen</span> <span style=\"color: #7f7f7f; text-decoration-color: #7f7f7f\">              </span>\n<span style=\"color: #7fbfbf; text-decoration-color: #7fbfbf\">                    </span>         <span style=\"color: #0000ff; text-decoration-color: #0000ff; text-decoration: underline\">t.py</span>                                                                    <span style=\"color: #7f7f7f; text-decoration-color: #7f7f7f\">              </span>\n</pre>\n"
     },
     "metadata": {},
     "output_type": "display_data"
    }
   ],
   "execution_count": 3
  },
  {
   "cell_type": "markdown",
   "source": [
    "## 1. Training\n",
    "\n",
    "For the training and evaluation code we decided to provide Sacred experiments which make it very easy to run the same code from the command line or on your cluster. To train or attack the models you can use the `script_execute_experiment` script and simply specify the respective configuration or execute the experiment directly by passing the desired configuration in [experiments/experiment_train.py](https://github.com/sigeisler/robustness_of_gnns_at_scale/blob/main/experiments/experiment_train.py#L74).\n",
    "\n",
    "In the example below, we train a `GCN` on `Cora ML`."
   ],
   "metadata": {
    "id": "Rb2y6lUbdYi_"
   }
  },
  {
   "cell_type": "code",
   "source": [
    "train_statistics = experiment_train.run(\n",
    "    data_dir = './data',\n",
    "    dataset = 'cora_ml',\n",
    "    model_params = dict(\n",
    "        label=\"Vanilla GCN\",\n",
    "        model=\"GCN\",\n",
    "        do_cache_adj_prep=True,\n",
    "        n_filters=64,\n",
    "        dropout=0.5,\n",
    "        svd_params=None,\n",
    "        jaccard_params=None,\n",
    "        gdc_params={\"alpha\": 0.15, \"k\": 64}),\n",
    "    train_params = dict(\n",
    "        lr=1e-2,\n",
    "        weight_decay=1e-3,\n",
    "        patience=300,\n",
    "        max_epochs=3000),\n",
    "    binary_attr = False,\n",
    "    make_undirected = True,\n",
    "    seed=0,\n",
    "    artifact_dir = 'cache',\n",
    "    model_storage_type = 'demo',\n",
    "    ppr_cache_params = dict(),\n",
    "    #device = 0,\n",
    "    #data_device = 0,\n",
    "    device = \"cpu\",\n",
    "    data_device = \"cpu\",\n",
    "    display_steps = 100,\n",
    "    debug_level = \"info\"\n",
    ")\n",
    "\n",
    "# plot train and val loss curves\n",
    "fig, ax = plt.subplots()\n",
    "\n",
    "color = plt.rcParams['axes.prop_cycle'].by_key()['color'][0]\n",
    "ax.set_xlabel('Epoch $t$')\n",
    "ax.set_ylabel(\"Loss\")\n",
    "ax.plot(train_statistics['trace_train'], color=color, label='Train')\n",
    "\n",
    "color = plt.rcParams['axes.prop_cycle'].by_key()['color'][1]\n",
    "ax.plot(train_statistics['trace_val'], color=color, label='Val')\n",
    "ax.legend()\n",
    "\"123\"\n",
    "plt.show()"
   ],
   "metadata": {
    "id": "6mga1GGvdbLp",
    "colab": {
     "base_uri": "https://localhost:8080/",
     "height": 1000,
     "referenced_widgets": [
      "22737c8a2e514705b67a371df5efa80d",
      "b327d356e05248d8936bb6d7b72c42d5",
      "d07630ee143e41b28e99cc5dba05eb71",
      "78517141da964ca8a6c165840abc95e2",
      "eec19e7ba9cd4039883ecc48a280b0a6",
      "57e0eb7b8c104ea9ad224c49bcf003ba",
      "b3f12e2a75164523aee4dceb4e1e204a",
      "9ed1649272524285943ede29436174f6",
      "dfac61d2a44e4e15af62421430701383",
      "2057b1ca6f104fca86cdebc03cc1a28d",
      "31770a4d11914717972b8561c3f5d973"
     ]
    },
    "outputId": "4c331251-321e-46eb-dc48-1ce5205845cf",
    "ExecuteTime": {
     "end_time": "2025-04-15T11:44:10.486780700Z",
     "start_time": "2025-04-15T11:43:27.590636800Z"
    }
   },
   "outputs": [
    {
     "data": {
      "text/plain": "\u001B[2;36m[04/15/25 13:43:27]\u001B[0m\u001B[2;36m \u001B[0m\u001B[34mINFO    \u001B[0m \u001B[1m{\u001B[0m\u001B[32m'dataset'\u001B[0m: \u001B[32m'cora_ml'\u001B[0m, \u001B[32m'model_params'\u001B[0m: \u001B[1m{\u001B[0m\u001B[32m'label'\u001B[0m: \u001B[32m'Vanilla \u001B[0m     \u001B]8;id=903915;file://C:\\Users\\kyawk\\Desktop\\robustness_of_gnns_at_scale-main\\experiments\\experiment_train.py\u001B\\\u001B[2mexperiment_train.py\u001B[0m\u001B]8;;\u001B\\\u001B[2m:\u001B[0m\u001B]8;id=860625;file://C:\\Users\\kyawk\\Desktop\\robustness_of_gnns_at_scale-main\\experiments\\experiment_train.py#140\u001B\\\u001B[2m140\u001B[0m\u001B]8;;\u001B\\\n\u001B[2;36m                    \u001B[0m         \u001B[32mGCN'\u001B[0m, \u001B[32m'model'\u001B[0m: \u001B[32m'GCN'\u001B[0m, \u001B[32m'do_cache_adj_prep'\u001B[0m: \u001B[3;92mTrue\u001B[0m, \u001B[32m'n_filters'\u001B[0m:  \u001B[2m                       \u001B[0m\n\u001B[2;36m                    \u001B[0m         \u001B[1;36m64\u001B[0m, \u001B[32m'dropout'\u001B[0m: \u001B[1;36m0.5\u001B[0m, \u001B[32m'svd_params'\u001B[0m: \u001B[3;35mNone\u001B[0m, \u001B[32m'jaccard_params'\u001B[0m:      \u001B[2m                       \u001B[0m\n\u001B[2;36m                    \u001B[0m         \u001B[3;35mNone\u001B[0m, \u001B[32m'gdc_params'\u001B[0m: \u001B[1m{\u001B[0m\u001B[32m'alpha'\u001B[0m: \u001B[1;36m0.15\u001B[0m, \u001B[32m'k'\u001B[0m: \u001B[1;36m64\u001B[0m\u001B[1m}\u001B[0m\u001B[1m}\u001B[0m, \u001B[32m'train_params'\u001B[0m: \u001B[2m                       \u001B[0m\n\u001B[2;36m                    \u001B[0m         \u001B[1m{\u001B[0m\u001B[32m'lr'\u001B[0m: \u001B[1;36m0.01\u001B[0m, \u001B[32m'weight_decay'\u001B[0m: \u001B[1;36m0.001\u001B[0m, \u001B[32m'patience'\u001B[0m: \u001B[1;36m300\u001B[0m,           \u001B[2m                       \u001B[0m\n\u001B[2;36m                    \u001B[0m         \u001B[32m'max_epochs'\u001B[0m: \u001B[1;36m3000\u001B[0m\u001B[1m}\u001B[0m, \u001B[32m'binary_attr'\u001B[0m: \u001B[3;91mFalse\u001B[0m, \u001B[32m'make_undirected'\u001B[0m:  \u001B[2m                       \u001B[0m\n\u001B[2;36m                    \u001B[0m         \u001B[3;92mTrue\u001B[0m, \u001B[32m'seed'\u001B[0m: \u001B[1;36m0\u001B[0m, \u001B[32m'artifact_dir'\u001B[0m: \u001B[32m'cache'\u001B[0m,                      \u001B[2m                       \u001B[0m\n\u001B[2;36m                    \u001B[0m         \u001B[32m'model_storage_type'\u001B[0m: \u001B[32m'demo'\u001B[0m, \u001B[32m'ppr_cache_params'\u001B[0m: \u001B[1m{\u001B[0m\u001B[1m}\u001B[0m,          \u001B[2m                       \u001B[0m\n\u001B[2;36m                    \u001B[0m         \u001B[32m'device'\u001B[0m: \u001B[32m'cpu'\u001B[0m, \u001B[32m'display_steps'\u001B[0m: \u001B[1;36m100\u001B[0m, \u001B[32m'data_device'\u001B[0m: \u001B[32m'cpu'\u001B[0m\u001B[1m}\u001B[0m   \u001B[2m                       \u001B[0m\n",
      "text/html": "<pre style=\"white-space:pre;overflow-x:auto;line-height:normal;font-family:Menlo,'DejaVu Sans Mono',consolas,'Courier New',monospace\"><span style=\"color: #7fbfbf; text-decoration-color: #7fbfbf\">[04/15/25 13:43:27] </span><span style=\"color: #000080; text-decoration-color: #000080\">INFO    </span> <span style=\"font-weight: bold\">{</span><span style=\"color: #008000; text-decoration-color: #008000\">'dataset'</span>: <span style=\"color: #008000; text-decoration-color: #008000\">'cora_ml'</span>, <span style=\"color: #008000; text-decoration-color: #008000\">'model_params'</span>: <span style=\"font-weight: bold\">{</span><span style=\"color: #008000; text-decoration-color: #008000\">'label'</span>: <span style=\"color: #008000; text-decoration-color: #008000\">'Vanilla </span>     <a href=\"file://C:\\Users\\kyawk\\Desktop\\robustness_of_gnns_at_scale-main\\experiments\\experiment_train.py\" target=\"_blank\"><span style=\"color: #7f7f7f; text-decoration-color: #7f7f7f\">experiment_train.py</span></a><span style=\"color: #7f7f7f; text-decoration-color: #7f7f7f\">:</span><a href=\"file://C:\\Users\\kyawk\\Desktop\\robustness_of_gnns_at_scale-main\\experiments\\experiment_train.py#140\" target=\"_blank\"><span style=\"color: #7f7f7f; text-decoration-color: #7f7f7f\">140</span></a>\n<span style=\"color: #7fbfbf; text-decoration-color: #7fbfbf\">                    </span>         <span style=\"color: #008000; text-decoration-color: #008000\">GCN'</span>, <span style=\"color: #008000; text-decoration-color: #008000\">'model'</span>: <span style=\"color: #008000; text-decoration-color: #008000\">'GCN'</span>, <span style=\"color: #008000; text-decoration-color: #008000\">'do_cache_adj_prep'</span>: <span style=\"color: #00ff00; text-decoration-color: #00ff00; font-style: italic\">True</span>, <span style=\"color: #008000; text-decoration-color: #008000\">'n_filters'</span>:  <span style=\"color: #7f7f7f; text-decoration-color: #7f7f7f\">                       </span>\n<span style=\"color: #7fbfbf; text-decoration-color: #7fbfbf\">                    </span>         <span style=\"color: #008080; text-decoration-color: #008080; font-weight: bold\">64</span>, <span style=\"color: #008000; text-decoration-color: #008000\">'dropout'</span>: <span style=\"color: #008080; text-decoration-color: #008080; font-weight: bold\">0.5</span>, <span style=\"color: #008000; text-decoration-color: #008000\">'svd_params'</span>: <span style=\"color: #800080; text-decoration-color: #800080; font-style: italic\">None</span>, <span style=\"color: #008000; text-decoration-color: #008000\">'jaccard_params'</span>:      <span style=\"color: #7f7f7f; text-decoration-color: #7f7f7f\">                       </span>\n<span style=\"color: #7fbfbf; text-decoration-color: #7fbfbf\">                    </span>         <span style=\"color: #800080; text-decoration-color: #800080; font-style: italic\">None</span>, <span style=\"color: #008000; text-decoration-color: #008000\">'gdc_params'</span>: <span style=\"font-weight: bold\">{</span><span style=\"color: #008000; text-decoration-color: #008000\">'alpha'</span>: <span style=\"color: #008080; text-decoration-color: #008080; font-weight: bold\">0.15</span>, <span style=\"color: #008000; text-decoration-color: #008000\">'k'</span>: <span style=\"color: #008080; text-decoration-color: #008080; font-weight: bold\">64</span><span style=\"font-weight: bold\">}}</span>, <span style=\"color: #008000; text-decoration-color: #008000\">'train_params'</span>: <span style=\"color: #7f7f7f; text-decoration-color: #7f7f7f\">                       </span>\n<span style=\"color: #7fbfbf; text-decoration-color: #7fbfbf\">                    </span>         <span style=\"font-weight: bold\">{</span><span style=\"color: #008000; text-decoration-color: #008000\">'lr'</span>: <span style=\"color: #008080; text-decoration-color: #008080; font-weight: bold\">0.01</span>, <span style=\"color: #008000; text-decoration-color: #008000\">'weight_decay'</span>: <span style=\"color: #008080; text-decoration-color: #008080; font-weight: bold\">0.001</span>, <span style=\"color: #008000; text-decoration-color: #008000\">'patience'</span>: <span style=\"color: #008080; text-decoration-color: #008080; font-weight: bold\">300</span>,           <span style=\"color: #7f7f7f; text-decoration-color: #7f7f7f\">                       </span>\n<span style=\"color: #7fbfbf; text-decoration-color: #7fbfbf\">                    </span>         <span style=\"color: #008000; text-decoration-color: #008000\">'max_epochs'</span>: <span style=\"color: #008080; text-decoration-color: #008080; font-weight: bold\">3000</span><span style=\"font-weight: bold\">}</span>, <span style=\"color: #008000; text-decoration-color: #008000\">'binary_attr'</span>: <span style=\"color: #ff0000; text-decoration-color: #ff0000; font-style: italic\">False</span>, <span style=\"color: #008000; text-decoration-color: #008000\">'make_undirected'</span>:  <span style=\"color: #7f7f7f; text-decoration-color: #7f7f7f\">                       </span>\n<span style=\"color: #7fbfbf; text-decoration-color: #7fbfbf\">                    </span>         <span style=\"color: #00ff00; text-decoration-color: #00ff00; font-style: italic\">True</span>, <span style=\"color: #008000; text-decoration-color: #008000\">'seed'</span>: <span style=\"color: #008080; text-decoration-color: #008080; font-weight: bold\">0</span>, <span style=\"color: #008000; text-decoration-color: #008000\">'artifact_dir'</span>: <span style=\"color: #008000; text-decoration-color: #008000\">'cache'</span>,                      <span style=\"color: #7f7f7f; text-decoration-color: #7f7f7f\">                       </span>\n<span style=\"color: #7fbfbf; text-decoration-color: #7fbfbf\">                    </span>         <span style=\"color: #008000; text-decoration-color: #008000\">'model_storage_type'</span>: <span style=\"color: #008000; text-decoration-color: #008000\">'demo'</span>, <span style=\"color: #008000; text-decoration-color: #008000\">'ppr_cache_params'</span>: <span style=\"font-weight: bold\">{}</span>,          <span style=\"color: #7f7f7f; text-decoration-color: #7f7f7f\">                       </span>\n<span style=\"color: #7fbfbf; text-decoration-color: #7fbfbf\">                    </span>         <span style=\"color: #008000; text-decoration-color: #008000\">'device'</span>: <span style=\"color: #008000; text-decoration-color: #008000\">'cpu'</span>, <span style=\"color: #008000; text-decoration-color: #008000\">'display_steps'</span>: <span style=\"color: #008080; text-decoration-color: #008080; font-weight: bold\">100</span>, <span style=\"color: #008000; text-decoration-color: #008000\">'data_device'</span>: <span style=\"color: #008000; text-decoration-color: #008000\">'cpu'</span><span style=\"font-weight: bold\">}</span>   <span style=\"color: #7f7f7f; text-decoration-color: #7f7f7f\">                       </span>\n</pre>\n"
     },
     "metadata": {},
     "output_type": "display_data"
    },
    {
     "data": {
      "text/plain": "\u001B[2;36m[04/15/25 13:43:28]\u001B[0m\u001B[2;36m \u001B[0m\u001B[34mINFO    \u001B[0m Training set size: \u001B[1;36m140\u001B[0m                                         \u001B]8;id=467106;file://C:\\Users\\kyawk\\Desktop\\robustness_of_gnns_at_scale-main\\experiments\\experiment_train.py\u001B\\\u001B[2mexperiment_train.py\u001B[0m\u001B]8;;\u001B\\\u001B[2m:\u001B[0m\u001B]8;id=634557;file://C:\\Users\\kyawk\\Desktop\\robustness_of_gnns_at_scale-main\\experiments\\experiment_train.py#161\u001B\\\u001B[2m161\u001B[0m\u001B]8;;\u001B\\\n",
      "text/html": "<pre style=\"white-space:pre;overflow-x:auto;line-height:normal;font-family:Menlo,'DejaVu Sans Mono',consolas,'Courier New',monospace\"><span style=\"color: #7fbfbf; text-decoration-color: #7fbfbf\">[04/15/25 13:43:28] </span><span style=\"color: #000080; text-decoration-color: #000080\">INFO    </span> Training set size: <span style=\"color: #008080; text-decoration-color: #008080; font-weight: bold\">140</span>                                         <a href=\"file://C:\\Users\\kyawk\\Desktop\\robustness_of_gnns_at_scale-main\\experiments\\experiment_train.py\" target=\"_blank\"><span style=\"color: #7f7f7f; text-decoration-color: #7f7f7f\">experiment_train.py</span></a><span style=\"color: #7f7f7f; text-decoration-color: #7f7f7f\">:</span><a href=\"file://C:\\Users\\kyawk\\Desktop\\robustness_of_gnns_at_scale-main\\experiments\\experiment_train.py#161\" target=\"_blank\"><span style=\"color: #7f7f7f; text-decoration-color: #7f7f7f\">161</span></a>\n</pre>\n"
     },
     "metadata": {},
     "output_type": "display_data"
    },
    {
     "data": {
      "text/plain": "\u001B[2;36m                   \u001B[0m\u001B[2;36m \u001B[0m\u001B[34mINFO    \u001B[0m Validation set size: \u001B[1;36m140\u001B[0m                                       \u001B]8;id=894783;file://C:\\Users\\kyawk\\Desktop\\robustness_of_gnns_at_scale-main\\experiments\\experiment_train.py\u001B\\\u001B[2mexperiment_train.py\u001B[0m\u001B]8;;\u001B\\\u001B[2m:\u001B[0m\u001B]8;id=345352;file://C:\\Users\\kyawk\\Desktop\\robustness_of_gnns_at_scale-main\\experiments\\experiment_train.py#162\u001B\\\u001B[2m162\u001B[0m\u001B]8;;\u001B\\\n",
      "text/html": "<pre style=\"white-space:pre;overflow-x:auto;line-height:normal;font-family:Menlo,'DejaVu Sans Mono',consolas,'Courier New',monospace\"><span style=\"color: #7fbfbf; text-decoration-color: #7fbfbf\">                    </span><span style=\"color: #000080; text-decoration-color: #000080\">INFO    </span> Validation set size: <span style=\"color: #008080; text-decoration-color: #008080; font-weight: bold\">140</span>                                       <a href=\"file://C:\\Users\\kyawk\\Desktop\\robustness_of_gnns_at_scale-main\\experiments\\experiment_train.py\" target=\"_blank\"><span style=\"color: #7f7f7f; text-decoration-color: #7f7f7f\">experiment_train.py</span></a><span style=\"color: #7f7f7f; text-decoration-color: #7f7f7f\">:</span><a href=\"file://C:\\Users\\kyawk\\Desktop\\robustness_of_gnns_at_scale-main\\experiments\\experiment_train.py#162\" target=\"_blank\"><span style=\"color: #7f7f7f; text-decoration-color: #7f7f7f\">162</span></a>\n</pre>\n"
     },
     "metadata": {},
     "output_type": "display_data"
    },
    {
     "data": {
      "text/plain": "\u001B[2;36m                   \u001B[0m\u001B[2;36m \u001B[0m\u001B[34mINFO    \u001B[0m Test set size: \u001B[1;36m2530\u001B[0m                                            \u001B]8;id=90101;file://C:\\Users\\kyawk\\Desktop\\robustness_of_gnns_at_scale-main\\experiments\\experiment_train.py\u001B\\\u001B[2mexperiment_train.py\u001B[0m\u001B]8;;\u001B\\\u001B[2m:\u001B[0m\u001B]8;id=91865;file://C:\\Users\\kyawk\\Desktop\\robustness_of_gnns_at_scale-main\\experiments\\experiment_train.py#163\u001B\\\u001B[2m163\u001B[0m\u001B]8;;\u001B\\\n",
      "text/html": "<pre style=\"white-space:pre;overflow-x:auto;line-height:normal;font-family:Menlo,'DejaVu Sans Mono',consolas,'Courier New',monospace\"><span style=\"color: #7fbfbf; text-decoration-color: #7fbfbf\">                    </span><span style=\"color: #000080; text-decoration-color: #000080\">INFO    </span> Test set size: <span style=\"color: #008080; text-decoration-color: #008080; font-weight: bold\">2530</span>                                            <a href=\"file://C:\\Users\\kyawk\\Desktop\\robustness_of_gnns_at_scale-main\\experiments\\experiment_train.py\" target=\"_blank\"><span style=\"color: #7f7f7f; text-decoration-color: #7f7f7f\">experiment_train.py</span></a><span style=\"color: #7f7f7f; text-decoration-color: #7f7f7f\">:</span><a href=\"file://C:\\Users\\kyawk\\Desktop\\robustness_of_gnns_at_scale-main\\experiments\\experiment_train.py#163\" target=\"_blank\"><span style=\"color: #7f7f7f; text-decoration-color: #7f7f7f\">163</span></a>\n</pre>\n"
     },
     "metadata": {},
     "output_type": "display_data"
    },
    {
     "data": {
      "text/plain": "\u001B[2;36m                   \u001B[0m\u001B[2;36m \u001B[0m\u001B[34mINFO    \u001B[0m Memory Usage after loading the dataset:                        \u001B]8;id=419302;file://C:\\Users\\kyawk\\Desktop\\robustness_of_gnns_at_scale-main\\experiments\\experiment_train.py\u001B\\\u001B[2mexperiment_train.py\u001B[0m\u001B]8;;\u001B\\\u001B[2m:\u001B[0m\u001B]8;id=859091;file://C:\\Users\\kyawk\\Desktop\\robustness_of_gnns_at_scale-main\\experiments\\experiment_train.py#183\u001B\\\u001B[2m183\u001B[0m\u001B]8;;\u001B\\\n",
      "text/html": "<pre style=\"white-space:pre;overflow-x:auto;line-height:normal;font-family:Menlo,'DejaVu Sans Mono',consolas,'Courier New',monospace\"><span style=\"color: #7fbfbf; text-decoration-color: #7fbfbf\">                    </span><span style=\"color: #000080; text-decoration-color: #000080\">INFO    </span> Memory Usage after loading the dataset:                        <a href=\"file://C:\\Users\\kyawk\\Desktop\\robustness_of_gnns_at_scale-main\\experiments\\experiment_train.py\" target=\"_blank\"><span style=\"color: #7f7f7f; text-decoration-color: #7f7f7f\">experiment_train.py</span></a><span style=\"color: #7f7f7f; text-decoration-color: #7f7f7f\">:</span><a href=\"file://C:\\Users\\kyawk\\Desktop\\robustness_of_gnns_at_scale-main\\experiments\\experiment_train.py#183\" target=\"_blank\"><span style=\"color: #7f7f7f; text-decoration-color: #7f7f7f\">183</span></a>\n</pre>\n"
     },
     "metadata": {},
     "output_type": "display_data"
    },
    {
     "data": {
      "text/plain": "\u001B[2;36m                   \u001B[0m\u001B[2;36m \u001B[0m\u001B[34mINFO    \u001B[0m nan                                                            \u001B]8;id=974117;file://C:\\Users\\kyawk\\Desktop\\robustness_of_gnns_at_scale-main\\experiments\\experiment_train.py\u001B\\\u001B[2mexperiment_train.py\u001B[0m\u001B]8;;\u001B\\\u001B[2m:\u001B[0m\u001B]8;id=580698;file://C:\\Users\\kyawk\\Desktop\\robustness_of_gnns_at_scale-main\\experiments\\experiment_train.py#184\u001B\\\u001B[2m184\u001B[0m\u001B]8;;\u001B\\\n",
      "text/html": "<pre style=\"white-space:pre;overflow-x:auto;line-height:normal;font-family:Menlo,'DejaVu Sans Mono',consolas,'Courier New',monospace\"><span style=\"color: #7fbfbf; text-decoration-color: #7fbfbf\">                    </span><span style=\"color: #000080; text-decoration-color: #000080\">INFO    </span> nan                                                            <a href=\"file://C:\\Users\\kyawk\\Desktop\\robustness_of_gnns_at_scale-main\\experiments\\experiment_train.py\" target=\"_blank\"><span style=\"color: #7f7f7f; text-decoration-color: #7f7f7f\">experiment_train.py</span></a><span style=\"color: #7f7f7f; text-decoration-color: #7f7f7f\">:</span><a href=\"file://C:\\Users\\kyawk\\Desktop\\robustness_of_gnns_at_scale-main\\experiments\\experiment_train.py#184\" target=\"_blank\"><span style=\"color: #7f7f7f; text-decoration-color: #7f7f7f\">184</span></a>\n</pre>\n"
     },
     "metadata": {},
     "output_type": "display_data"
    },
    {
     "data": {
      "text/plain": "HBox(children=(FloatProgress(value=0.0, description='Training...', max=3000.0, style=ProgressStyle(description…",
      "application/vnd.jupyter.widget-view+json": {
       "version_major": 2,
       "version_minor": 0,
       "model_id": "110bf923d21f42709078b315e522b7d3"
      }
     },
     "metadata": {},
     "output_type": "display_data"
    },
    {
     "name": "stderr",
     "output_type": "stream",
     "text": [
      "C:\\Users\\kyawk\\Desktop\\robustness_of_gnns_at_scale-main\\rgnn_at_scale\\models\\gcn.py:315: UserWarning: torch.sparse.SparseTensor(indices, values, *, device=) is deprecated.  Please use torch.sparse_coo_tensor(indices, values, dtype=, device=). (Triggered internally at C:\\actions-runner\\_work\\pytorch\\pytorch\\pytorch\\torch\\csrc\\utils\\tensor_new.cpp:634.)\n",
      "  adj = get_ppr_matrix(torch.sparse.FloatTensor(edge_idx, edge_weight), **self.gdc_params)\n",
      "C:\\Users\\kyawk\\anaconda3\\envs\\Masterarbeit_2_0\\Lib\\site-packages\\torch_sparse\\tensor.py:574: UserWarning: Sparse CSR tensor support is in beta state. If you miss a functionality in the sparse tensor support, please submit a feature request to https://github.com/pytorch/pytorch/issues. (Triggered internally at C:\\actions-runner\\_work\\pytorch\\pytorch\\pytorch\\aten\\src\\ATen\\SparseCsrTensorImpl.cpp:55.)\n",
      "  return torch.sparse_csr_tensor(rowptr, col, value, self.sizes())\n"
     ]
    },
    {
     "data": {
      "text/plain": "\u001B[2;36m                   \u001B[0m\u001B[2;36m \u001B[0m\u001B[34mINFO    \u001B[0m                                                                            \u001B]8;id=435366;file://C:\\Users\\kyawk\\Desktop\\robustness_of_gnns_at_scale-main\\rgnn_at_scale\\train.py\u001B\\\u001B[2mtrain.py\u001B[0m\u001B]8;;\u001B\\\u001B[2m:\u001B[0m\u001B]8;id=23442;file://C:\\Users\\kyawk\\Desktop\\robustness_of_gnns_at_scale-main\\rgnn_at_scale\\train.py#81\u001B\\\u001B[2m81\u001B[0m\u001B]8;;\u001B\\\n\u001B[2;36m                    \u001B[0m         Epoch    \u001B[1;36m0\u001B[0m: loss_train: \u001B[1;36m1.94657\u001B[0m, loss_val: \u001B[1;36m1.94479\u001B[0m, acc_train: \u001B[1;36m0.10000\u001B[0m,    \u001B[2m           \u001B[0m\n\u001B[2;36m                    \u001B[0m         acc_val: \u001B[1;36m0.18571\u001B[0m                                                           \u001B[2m           \u001B[0m\n",
      "text/html": "<pre style=\"white-space:pre;overflow-x:auto;line-height:normal;font-family:Menlo,'DejaVu Sans Mono',consolas,'Courier New',monospace\"><span style=\"color: #7fbfbf; text-decoration-color: #7fbfbf\">                    </span><span style=\"color: #000080; text-decoration-color: #000080\">INFO    </span>                                                                            <a href=\"file://C:\\Users\\kyawk\\Desktop\\robustness_of_gnns_at_scale-main\\rgnn_at_scale\\train.py\" target=\"_blank\"><span style=\"color: #7f7f7f; text-decoration-color: #7f7f7f\">train.py</span></a><span style=\"color: #7f7f7f; text-decoration-color: #7f7f7f\">:</span><a href=\"file://C:\\Users\\kyawk\\Desktop\\robustness_of_gnns_at_scale-main\\rgnn_at_scale\\train.py#81\" target=\"_blank\"><span style=\"color: #7f7f7f; text-decoration-color: #7f7f7f\">81</span></a>\n<span style=\"color: #7fbfbf; text-decoration-color: #7fbfbf\">                    </span>         Epoch    <span style=\"color: #008080; text-decoration-color: #008080; font-weight: bold\">0</span>: loss_train: <span style=\"color: #008080; text-decoration-color: #008080; font-weight: bold\">1.94657</span>, loss_val: <span style=\"color: #008080; text-decoration-color: #008080; font-weight: bold\">1.94479</span>, acc_train: <span style=\"color: #008080; text-decoration-color: #008080; font-weight: bold\">0.10000</span>,    <span style=\"color: #7f7f7f; text-decoration-color: #7f7f7f\">           </span>\n<span style=\"color: #7fbfbf; text-decoration-color: #7fbfbf\">                    </span>         acc_val: <span style=\"color: #008080; text-decoration-color: #008080; font-weight: bold\">0.18571</span>                                                           <span style=\"color: #7f7f7f; text-decoration-color: #7f7f7f\">           </span>\n</pre>\n"
     },
     "metadata": {},
     "output_type": "display_data"
    },
    {
     "data": {
      "text/plain": "\u001B[2;36m[04/15/25 13:43:33]\u001B[0m\u001B[2;36m \u001B[0m\u001B[34mINFO    \u001B[0m                                                                            \u001B]8;id=34931;file://C:\\Users\\kyawk\\Desktop\\robustness_of_gnns_at_scale-main\\rgnn_at_scale\\train.py\u001B\\\u001B[2mtrain.py\u001B[0m\u001B]8;;\u001B\\\u001B[2m:\u001B[0m\u001B]8;id=701697;file://C:\\Users\\kyawk\\Desktop\\robustness_of_gnns_at_scale-main\\rgnn_at_scale\\train.py#81\u001B\\\u001B[2m81\u001B[0m\u001B]8;;\u001B\\\n\u001B[2;36m                    \u001B[0m         Epoch  \u001B[1;36m100\u001B[0m: loss_train: \u001B[1;36m0.09288\u001B[0m, loss_val: \u001B[1;36m0.42195\u001B[0m, acc_train: \u001B[1;36m1.00000\u001B[0m,    \u001B[2m           \u001B[0m\n\u001B[2;36m                    \u001B[0m         acc_val: \u001B[1;36m0.88571\u001B[0m                                                           \u001B[2m           \u001B[0m\n",
      "text/html": "<pre style=\"white-space:pre;overflow-x:auto;line-height:normal;font-family:Menlo,'DejaVu Sans Mono',consolas,'Courier New',monospace\"><span style=\"color: #7fbfbf; text-decoration-color: #7fbfbf\">[04/15/25 13:43:33] </span><span style=\"color: #000080; text-decoration-color: #000080\">INFO    </span>                                                                            <a href=\"file://C:\\Users\\kyawk\\Desktop\\robustness_of_gnns_at_scale-main\\rgnn_at_scale\\train.py\" target=\"_blank\"><span style=\"color: #7f7f7f; text-decoration-color: #7f7f7f\">train.py</span></a><span style=\"color: #7f7f7f; text-decoration-color: #7f7f7f\">:</span><a href=\"file://C:\\Users\\kyawk\\Desktop\\robustness_of_gnns_at_scale-main\\rgnn_at_scale\\train.py#81\" target=\"_blank\"><span style=\"color: #7f7f7f; text-decoration-color: #7f7f7f\">81</span></a>\n<span style=\"color: #7fbfbf; text-decoration-color: #7fbfbf\">                    </span>         Epoch  <span style=\"color: #008080; text-decoration-color: #008080; font-weight: bold\">100</span>: loss_train: <span style=\"color: #008080; text-decoration-color: #008080; font-weight: bold\">0.09288</span>, loss_val: <span style=\"color: #008080; text-decoration-color: #008080; font-weight: bold\">0.42195</span>, acc_train: <span style=\"color: #008080; text-decoration-color: #008080; font-weight: bold\">1.00000</span>,    <span style=\"color: #7f7f7f; text-decoration-color: #7f7f7f\">           </span>\n<span style=\"color: #7fbfbf; text-decoration-color: #7fbfbf\">                    </span>         acc_val: <span style=\"color: #008080; text-decoration-color: #008080; font-weight: bold\">0.88571</span>                                                           <span style=\"color: #7f7f7f; text-decoration-color: #7f7f7f\">           </span>\n</pre>\n"
     },
     "metadata": {},
     "output_type": "display_data"
    },
    {
     "data": {
      "text/plain": "\u001B[2;36m[04/15/25 13:43:39]\u001B[0m\u001B[2;36m \u001B[0m\u001B[34mINFO    \u001B[0m                                                                            \u001B]8;id=400366;file://C:\\Users\\kyawk\\Desktop\\robustness_of_gnns_at_scale-main\\rgnn_at_scale\\train.py\u001B\\\u001B[2mtrain.py\u001B[0m\u001B]8;;\u001B\\\u001B[2m:\u001B[0m\u001B]8;id=204329;file://C:\\Users\\kyawk\\Desktop\\robustness_of_gnns_at_scale-main\\rgnn_at_scale\\train.py#81\u001B\\\u001B[2m81\u001B[0m\u001B]8;;\u001B\\\n\u001B[2;36m                    \u001B[0m         Epoch  \u001B[1;36m200\u001B[0m: loss_train: \u001B[1;36m0.07167\u001B[0m, loss_val: \u001B[1;36m0.37600\u001B[0m, acc_train: \u001B[1;36m1.00000\u001B[0m,    \u001B[2m           \u001B[0m\n\u001B[2;36m                    \u001B[0m         acc_val: \u001B[1;36m0.90714\u001B[0m                                                           \u001B[2m           \u001B[0m\n",
      "text/html": "<pre style=\"white-space:pre;overflow-x:auto;line-height:normal;font-family:Menlo,'DejaVu Sans Mono',consolas,'Courier New',monospace\"><span style=\"color: #7fbfbf; text-decoration-color: #7fbfbf\">[04/15/25 13:43:39] </span><span style=\"color: #000080; text-decoration-color: #000080\">INFO    </span>                                                                            <a href=\"file://C:\\Users\\kyawk\\Desktop\\robustness_of_gnns_at_scale-main\\rgnn_at_scale\\train.py\" target=\"_blank\"><span style=\"color: #7f7f7f; text-decoration-color: #7f7f7f\">train.py</span></a><span style=\"color: #7f7f7f; text-decoration-color: #7f7f7f\">:</span><a href=\"file://C:\\Users\\kyawk\\Desktop\\robustness_of_gnns_at_scale-main\\rgnn_at_scale\\train.py#81\" target=\"_blank\"><span style=\"color: #7f7f7f; text-decoration-color: #7f7f7f\">81</span></a>\n<span style=\"color: #7fbfbf; text-decoration-color: #7fbfbf\">                    </span>         Epoch  <span style=\"color: #008080; text-decoration-color: #008080; font-weight: bold\">200</span>: loss_train: <span style=\"color: #008080; text-decoration-color: #008080; font-weight: bold\">0.07167</span>, loss_val: <span style=\"color: #008080; text-decoration-color: #008080; font-weight: bold\">0.37600</span>, acc_train: <span style=\"color: #008080; text-decoration-color: #008080; font-weight: bold\">1.00000</span>,    <span style=\"color: #7f7f7f; text-decoration-color: #7f7f7f\">           </span>\n<span style=\"color: #7fbfbf; text-decoration-color: #7fbfbf\">                    </span>         acc_val: <span style=\"color: #008080; text-decoration-color: #008080; font-weight: bold\">0.90714</span>                                                           <span style=\"color: #7f7f7f; text-decoration-color: #7f7f7f\">           </span>\n</pre>\n"
     },
     "metadata": {},
     "output_type": "display_data"
    },
    {
     "data": {
      "text/plain": "\u001B[2;36m[04/15/25 13:43:50]\u001B[0m\u001B[2;36m \u001B[0m\u001B[34mINFO    \u001B[0m                                                                            \u001B]8;id=427878;file://C:\\Users\\kyawk\\Desktop\\robustness_of_gnns_at_scale-main\\rgnn_at_scale\\train.py\u001B\\\u001B[2mtrain.py\u001B[0m\u001B]8;;\u001B\\\u001B[2m:\u001B[0m\u001B]8;id=441766;file://C:\\Users\\kyawk\\Desktop\\robustness_of_gnns_at_scale-main\\rgnn_at_scale\\train.py#81\u001B\\\u001B[2m81\u001B[0m\u001B]8;;\u001B\\\n\u001B[2;36m                    \u001B[0m         Epoch  \u001B[1;36m300\u001B[0m: loss_train: \u001B[1;36m0.07151\u001B[0m, loss_val: \u001B[1;36m0.39939\u001B[0m, acc_train: \u001B[1;36m1.00000\u001B[0m,    \u001B[2m           \u001B[0m\n\u001B[2;36m                    \u001B[0m         acc_val: \u001B[1;36m0.88571\u001B[0m                                                           \u001B[2m           \u001B[0m\n",
      "text/html": "<pre style=\"white-space:pre;overflow-x:auto;line-height:normal;font-family:Menlo,'DejaVu Sans Mono',consolas,'Courier New',monospace\"><span style=\"color: #7fbfbf; text-decoration-color: #7fbfbf\">[04/15/25 13:43:50] </span><span style=\"color: #000080; text-decoration-color: #000080\">INFO    </span>                                                                            <a href=\"file://C:\\Users\\kyawk\\Desktop\\robustness_of_gnns_at_scale-main\\rgnn_at_scale\\train.py\" target=\"_blank\"><span style=\"color: #7f7f7f; text-decoration-color: #7f7f7f\">train.py</span></a><span style=\"color: #7f7f7f; text-decoration-color: #7f7f7f\">:</span><a href=\"file://C:\\Users\\kyawk\\Desktop\\robustness_of_gnns_at_scale-main\\rgnn_at_scale\\train.py#81\" target=\"_blank\"><span style=\"color: #7f7f7f; text-decoration-color: #7f7f7f\">81</span></a>\n<span style=\"color: #7fbfbf; text-decoration-color: #7fbfbf\">                    </span>         Epoch  <span style=\"color: #008080; text-decoration-color: #008080; font-weight: bold\">300</span>: loss_train: <span style=\"color: #008080; text-decoration-color: #008080; font-weight: bold\">0.07151</span>, loss_val: <span style=\"color: #008080; text-decoration-color: #008080; font-weight: bold\">0.39939</span>, acc_train: <span style=\"color: #008080; text-decoration-color: #008080; font-weight: bold\">1.00000</span>,    <span style=\"color: #7f7f7f; text-decoration-color: #7f7f7f\">           </span>\n<span style=\"color: #7fbfbf; text-decoration-color: #7fbfbf\">                    </span>         acc_val: <span style=\"color: #008080; text-decoration-color: #008080; font-weight: bold\">0.88571</span>                                                           <span style=\"color: #7f7f7f; text-decoration-color: #7f7f7f\">           </span>\n</pre>\n"
     },
     "metadata": {},
     "output_type": "display_data"
    },
    {
     "data": {
      "text/plain": "\u001B[2;36m[04/15/25 13:43:56]\u001B[0m\u001B[2;36m \u001B[0m\u001B[34mINFO    \u001B[0m                                                                            \u001B]8;id=133575;file://C:\\Users\\kyawk\\Desktop\\robustness_of_gnns_at_scale-main\\rgnn_at_scale\\train.py\u001B\\\u001B[2mtrain.py\u001B[0m\u001B]8;;\u001B\\\u001B[2m:\u001B[0m\u001B]8;id=164203;file://C:\\Users\\kyawk\\Desktop\\robustness_of_gnns_at_scale-main\\rgnn_at_scale\\train.py#81\u001B\\\u001B[2m81\u001B[0m\u001B]8;;\u001B\\\n\u001B[2;36m                    \u001B[0m         Epoch  \u001B[1;36m400\u001B[0m: loss_train: \u001B[1;36m0.06845\u001B[0m, loss_val: \u001B[1;36m0.38217\u001B[0m, acc_train: \u001B[1;36m1.00000\u001B[0m,    \u001B[2m           \u001B[0m\n\u001B[2;36m                    \u001B[0m         acc_val: \u001B[1;36m0.90714\u001B[0m                                                           \u001B[2m           \u001B[0m\n",
      "text/html": "<pre style=\"white-space:pre;overflow-x:auto;line-height:normal;font-family:Menlo,'DejaVu Sans Mono',consolas,'Courier New',monospace\"><span style=\"color: #7fbfbf; text-decoration-color: #7fbfbf\">[04/15/25 13:43:56] </span><span style=\"color: #000080; text-decoration-color: #000080\">INFO    </span>                                                                            <a href=\"file://C:\\Users\\kyawk\\Desktop\\robustness_of_gnns_at_scale-main\\rgnn_at_scale\\train.py\" target=\"_blank\"><span style=\"color: #7f7f7f; text-decoration-color: #7f7f7f\">train.py</span></a><span style=\"color: #7f7f7f; text-decoration-color: #7f7f7f\">:</span><a href=\"file://C:\\Users\\kyawk\\Desktop\\robustness_of_gnns_at_scale-main\\rgnn_at_scale\\train.py#81\" target=\"_blank\"><span style=\"color: #7f7f7f; text-decoration-color: #7f7f7f\">81</span></a>\n<span style=\"color: #7fbfbf; text-decoration-color: #7fbfbf\">                    </span>         Epoch  <span style=\"color: #008080; text-decoration-color: #008080; font-weight: bold\">400</span>: loss_train: <span style=\"color: #008080; text-decoration-color: #008080; font-weight: bold\">0.06845</span>, loss_val: <span style=\"color: #008080; text-decoration-color: #008080; font-weight: bold\">0.38217</span>, acc_train: <span style=\"color: #008080; text-decoration-color: #008080; font-weight: bold\">1.00000</span>,    <span style=\"color: #7f7f7f; text-decoration-color: #7f7f7f\">           </span>\n<span style=\"color: #7fbfbf; text-decoration-color: #7fbfbf\">                    </span>         acc_val: <span style=\"color: #008080; text-decoration-color: #008080; font-weight: bold\">0.90714</span>                                                           <span style=\"color: #7f7f7f; text-decoration-color: #7f7f7f\">           </span>\n</pre>\n"
     },
     "metadata": {},
     "output_type": "display_data"
    },
    {
     "data": {
      "text/plain": "\u001B[2;36m[04/15/25 13:44:01]\u001B[0m\u001B[2;36m \u001B[0m\u001B[34mINFO    \u001B[0m                                                                            \u001B]8;id=966549;file://C:\\Users\\kyawk\\Desktop\\robustness_of_gnns_at_scale-main\\rgnn_at_scale\\train.py\u001B\\\u001B[2mtrain.py\u001B[0m\u001B]8;;\u001B\\\u001B[2m:\u001B[0m\u001B]8;id=512112;file://C:\\Users\\kyawk\\Desktop\\robustness_of_gnns_at_scale-main\\rgnn_at_scale\\train.py#81\u001B\\\u001B[2m81\u001B[0m\u001B]8;;\u001B\\\n\u001B[2;36m                    \u001B[0m         Epoch  \u001B[1;36m500\u001B[0m: loss_train: \u001B[1;36m0.06988\u001B[0m, loss_val: \u001B[1;36m0.36415\u001B[0m, acc_train: \u001B[1;36m1.00000\u001B[0m,    \u001B[2m           \u001B[0m\n\u001B[2;36m                    \u001B[0m         acc_val: \u001B[1;36m0.89286\u001B[0m                                                           \u001B[2m           \u001B[0m\n",
      "text/html": "<pre style=\"white-space:pre;overflow-x:auto;line-height:normal;font-family:Menlo,'DejaVu Sans Mono',consolas,'Courier New',monospace\"><span style=\"color: #7fbfbf; text-decoration-color: #7fbfbf\">[04/15/25 13:44:01] </span><span style=\"color: #000080; text-decoration-color: #000080\">INFO    </span>                                                                            <a href=\"file://C:\\Users\\kyawk\\Desktop\\robustness_of_gnns_at_scale-main\\rgnn_at_scale\\train.py\" target=\"_blank\"><span style=\"color: #7f7f7f; text-decoration-color: #7f7f7f\">train.py</span></a><span style=\"color: #7f7f7f; text-decoration-color: #7f7f7f\">:</span><a href=\"file://C:\\Users\\kyawk\\Desktop\\robustness_of_gnns_at_scale-main\\rgnn_at_scale\\train.py#81\" target=\"_blank\"><span style=\"color: #7f7f7f; text-decoration-color: #7f7f7f\">81</span></a>\n<span style=\"color: #7fbfbf; text-decoration-color: #7fbfbf\">                    </span>         Epoch  <span style=\"color: #008080; text-decoration-color: #008080; font-weight: bold\">500</span>: loss_train: <span style=\"color: #008080; text-decoration-color: #008080; font-weight: bold\">0.06988</span>, loss_val: <span style=\"color: #008080; text-decoration-color: #008080; font-weight: bold\">0.36415</span>, acc_train: <span style=\"color: #008080; text-decoration-color: #008080; font-weight: bold\">1.00000</span>,    <span style=\"color: #7f7f7f; text-decoration-color: #7f7f7f\">           </span>\n<span style=\"color: #7fbfbf; text-decoration-color: #7fbfbf\">                    </span>         acc_val: <span style=\"color: #008080; text-decoration-color: #008080; font-weight: bold\">0.89286</span>                                                           <span style=\"color: #7f7f7f; text-decoration-color: #7f7f7f\">           </span>\n</pre>\n"
     },
     "metadata": {},
     "output_type": "display_data"
    },
    {
     "data": {
      "text/plain": "\u001B[2;36m[04/15/25 13:44:06]\u001B[0m\u001B[2;36m \u001B[0m\u001B[34mINFO    \u001B[0m                                                                            \u001B]8;id=799977;file://C:\\Users\\kyawk\\Desktop\\robustness_of_gnns_at_scale-main\\rgnn_at_scale\\train.py\u001B\\\u001B[2mtrain.py\u001B[0m\u001B]8;;\u001B\\\u001B[2m:\u001B[0m\u001B]8;id=753666;file://C:\\Users\\kyawk\\Desktop\\robustness_of_gnns_at_scale-main\\rgnn_at_scale\\train.py#81\u001B\\\u001B[2m81\u001B[0m\u001B]8;;\u001B\\\n\u001B[2;36m                    \u001B[0m         Epoch  \u001B[1;36m600\u001B[0m: loss_train: \u001B[1;36m0.06436\u001B[0m, loss_val: \u001B[1;36m0.40361\u001B[0m, acc_train: \u001B[1;36m1.00000\u001B[0m,    \u001B[2m           \u001B[0m\n\u001B[2;36m                    \u001B[0m         acc_val: \u001B[1;36m0.87857\u001B[0m                                                           \u001B[2m           \u001B[0m\n",
      "text/html": "<pre style=\"white-space:pre;overflow-x:auto;line-height:normal;font-family:Menlo,'DejaVu Sans Mono',consolas,'Courier New',monospace\"><span style=\"color: #7fbfbf; text-decoration-color: #7fbfbf\">[04/15/25 13:44:06] </span><span style=\"color: #000080; text-decoration-color: #000080\">INFO    </span>                                                                            <a href=\"file://C:\\Users\\kyawk\\Desktop\\robustness_of_gnns_at_scale-main\\rgnn_at_scale\\train.py\" target=\"_blank\"><span style=\"color: #7f7f7f; text-decoration-color: #7f7f7f\">train.py</span></a><span style=\"color: #7f7f7f; text-decoration-color: #7f7f7f\">:</span><a href=\"file://C:\\Users\\kyawk\\Desktop\\robustness_of_gnns_at_scale-main\\rgnn_at_scale\\train.py#81\" target=\"_blank\"><span style=\"color: #7f7f7f; text-decoration-color: #7f7f7f\">81</span></a>\n<span style=\"color: #7fbfbf; text-decoration-color: #7fbfbf\">                    </span>         Epoch  <span style=\"color: #008080; text-decoration-color: #008080; font-weight: bold\">600</span>: loss_train: <span style=\"color: #008080; text-decoration-color: #008080; font-weight: bold\">0.06436</span>, loss_val: <span style=\"color: #008080; text-decoration-color: #008080; font-weight: bold\">0.40361</span>, acc_train: <span style=\"color: #008080; text-decoration-color: #008080; font-weight: bold\">1.00000</span>,    <span style=\"color: #7f7f7f; text-decoration-color: #7f7f7f\">           </span>\n<span style=\"color: #7fbfbf; text-decoration-color: #7fbfbf\">                    </span>         acc_val: <span style=\"color: #008080; text-decoration-color: #008080; font-weight: bold\">0.87857</span>                                                           <span style=\"color: #7f7f7f; text-decoration-color: #7f7f7f\">           </span>\n</pre>\n"
     },
     "metadata": {},
     "output_type": "display_data"
    },
    {
     "data": {
      "text/plain": "\u001B[2;36m[04/15/25 13:44:10]\u001B[0m\u001B[2;36m \u001B[0m\u001B[34mINFO    \u001B[0m Test accuracy is \u001B[1;36m0.834782600402832\u001B[0m with seed \u001B[1;36m0\u001B[0m                 \u001B]8;id=442067;file://C:\\Users\\kyawk\\Desktop\\robustness_of_gnns_at_scale-main\\experiments\\experiment_train.py\u001B\\\u001B[2mexperiment_train.py\u001B[0m\u001B]8;;\u001B\\\u001B[2m:\u001B[0m\u001B]8;id=681946;file://C:\\Users\\kyawk\\Desktop\\robustness_of_gnns_at_scale-main\\experiments\\experiment_train.py#216\u001B\\\u001B[2m216\u001B[0m\u001B]8;;\u001B\\\n",
      "text/html": "<pre style=\"white-space:pre;overflow-x:auto;line-height:normal;font-family:Menlo,'DejaVu Sans Mono',consolas,'Courier New',monospace\"><span style=\"color: #7fbfbf; text-decoration-color: #7fbfbf\">[04/15/25 13:44:10] </span><span style=\"color: #000080; text-decoration-color: #000080\">INFO    </span> Test accuracy is <span style=\"color: #008080; text-decoration-color: #008080; font-weight: bold\">0.834782600402832</span> with seed <span style=\"color: #008080; text-decoration-color: #008080; font-weight: bold\">0</span>                 <a href=\"file://C:\\Users\\kyawk\\Desktop\\robustness_of_gnns_at_scale-main\\experiments\\experiment_train.py\" target=\"_blank\"><span style=\"color: #7f7f7f; text-decoration-color: #7f7f7f\">experiment_train.py</span></a><span style=\"color: #7f7f7f; text-decoration-color: #7f7f7f\">:</span><a href=\"file://C:\\Users\\kyawk\\Desktop\\robustness_of_gnns_at_scale-main\\experiments\\experiment_train.py#216\" target=\"_blank\"><span style=\"color: #7f7f7f; text-decoration-color: #7f7f7f\">216</span></a>\n</pre>\n"
     },
     "metadata": {},
     "output_type": "display_data"
    },
    {
     "data": {
      "text/plain": "\u001B[2;36m                   \u001B[0m\u001B[2;36m \u001B[0m\u001B[34mINFO    \u001B[0m Lock \u001B[1;36m2547705619216\u001B[0m acquired on cache\\demo.json.lock                    \u001B]8;id=163926;file://C:\\Users\\kyawk\\anaconda3\\envs\\Masterarbeit_2_0\\Lib\\site-packages\\filelock.py\u001B\\\u001B[2mfilelock.py\u001B[0m\u001B]8;;\u001B\\\u001B[2m:\u001B[0m\u001B]8;id=816794;file://C:\\Users\\kyawk\\anaconda3\\envs\\Masterarbeit_2_0\\Lib\\site-packages\\filelock.py#274\u001B\\\u001B[2m274\u001B[0m\u001B]8;;\u001B\\\n",
      "text/html": "<pre style=\"white-space:pre;overflow-x:auto;line-height:normal;font-family:Menlo,'DejaVu Sans Mono',consolas,'Courier New',monospace\"><span style=\"color: #7fbfbf; text-decoration-color: #7fbfbf\">                    </span><span style=\"color: #000080; text-decoration-color: #000080\">INFO    </span> Lock <span style=\"color: #008080; text-decoration-color: #008080; font-weight: bold\">2547705619216</span> acquired on cache\\demo.json.lock                    <a href=\"file://C:\\Users\\kyawk\\anaconda3\\envs\\Masterarbeit_2_0\\Lib\\site-packages\\filelock.py\" target=\"_blank\"><span style=\"color: #7f7f7f; text-decoration-color: #7f7f7f\">filelock.py</span></a><span style=\"color: #7f7f7f; text-decoration-color: #7f7f7f\">:</span><a href=\"file://C:\\Users\\kyawk\\anaconda3\\envs\\Masterarbeit_2_0\\Lib\\site-packages\\filelock.py#274\" target=\"_blank\"><span style=\"color: #7f7f7f; text-decoration-color: #7f7f7f\">274</span></a>\n</pre>\n"
     },
     "metadata": {},
     "output_type": "display_data"
    },
    {
     "data": {
      "text/plain": "\u001B[2;36m                   \u001B[0m\u001B[2;36m \u001B[0m\u001B[34mINFO    \u001B[0m Lock \u001B[1;36m2547705619216\u001B[0m released on cache\\demo.json.lock                    \u001B]8;id=460809;file://C:\\Users\\kyawk\\anaconda3\\envs\\Masterarbeit_2_0\\Lib\\site-packages\\filelock.py\u001B\\\u001B[2mfilelock.py\u001B[0m\u001B]8;;\u001B\\\u001B[2m:\u001B[0m\u001B]8;id=166749;file://C:\\Users\\kyawk\\anaconda3\\envs\\Masterarbeit_2_0\\Lib\\site-packages\\filelock.py#318\u001B\\\u001B[2m318\u001B[0m\u001B]8;;\u001B\\\n",
      "text/html": "<pre style=\"white-space:pre;overflow-x:auto;line-height:normal;font-family:Menlo,'DejaVu Sans Mono',consolas,'Courier New',monospace\"><span style=\"color: #7fbfbf; text-decoration-color: #7fbfbf\">                    </span><span style=\"color: #000080; text-decoration-color: #000080\">INFO    </span> Lock <span style=\"color: #008080; text-decoration-color: #008080; font-weight: bold\">2547705619216</span> released on cache\\demo.json.lock                    <a href=\"file://C:\\Users\\kyawk\\anaconda3\\envs\\Masterarbeit_2_0\\Lib\\site-packages\\filelock.py\" target=\"_blank\"><span style=\"color: #7f7f7f; text-decoration-color: #7f7f7f\">filelock.py</span></a><span style=\"color: #7f7f7f; text-decoration-color: #7f7f7f\">:</span><a href=\"file://C:\\Users\\kyawk\\anaconda3\\envs\\Masterarbeit_2_0\\Lib\\site-packages\\filelock.py#318\" target=\"_blank\"><span style=\"color: #7f7f7f; text-decoration-color: #7f7f7f\">318</span></a>\n</pre>\n"
     },
     "metadata": {},
     "output_type": "display_data"
    },
    {
     "data": {
      "text/plain": "<Figure size 640x480 with 1 Axes>",
      "image/png": "[encoded data removed]"
     },
     "metadata": {},
     "output_type": "display_data"
    }
   ],
   "execution_count": 4
  },
  {
   "cell_type": "code",
   "source": [
    "clean_acc = train_statistics[\"accuracy\"]\n",
    "print(f'Accuracy of the model: {100*clean_acc:.2f}%')"
   ],
   "metadata": {
    "collapsed": false,
    "ExecuteTime": {
     "end_time": "2025-04-08T14:34:41.884224700Z",
     "start_time": "2025-04-08T14:34:41.272388900Z"
    }
   },
   "outputs": [
    {
     "name": "stdout",
     "output_type": "stream",
     "text": [
      "Accuracy of the model: 83.48%\n"
     ]
    }
   ],
   "execution_count": 71
  },
  {
   "cell_type": "markdown",
   "source": [
    "## 1.1 Certificate integration"
   ],
   "metadata": {
    "collapsed": false
   }
  },
  {
   "metadata": {
    "ExecuteTime": {
     "end_time": "2025-04-15T11:44:11.309961900Z",
     "start_time": "2025-04-15T11:44:10.490237700Z"
    }
   },
   "cell_type": "code",
   "source": [
    "# certificate integration\n",
    "import torch\n",
    "import numpy as np\n",
    "import copy\n",
    "from sparse_smoothing.models import GCN\n",
    "from sparse_smoothing.utils import load_and_standardize\n",
    "\n",
    "loaded_from_robustness = torch.load(f'cache/demo/demo_1.pt', map_location='cpu', weights_only=False)\n",
    "\n",
    "trained_state_dict = copy.deepcopy(loaded_from_robustness)\n",
    "\n",
    "for key in list(trained_state_dict.keys()):\n",
    "    if 'layers.0.' in key:\n",
    "        new_key = key.replace('layers.0.gcn_0', 'conv1')\n",
    "        trained_state_dict[new_key] = trained_state_dict.pop(key)  # Transpose if necessary\n",
    "\n",
    "for key in list(trained_state_dict.keys()):\n",
    "    if 'layers.1.' in key:\n",
    "        new_key = key.replace('layers.1.gcn_1', 'conv2')\n",
    "        trained_state_dict[new_key] = trained_state_dict.pop(key)  # Transpose if necessary"
   ],
   "outputs": [],
   "execution_count": 5
  },
  {
   "cell_type": "code",
   "source": [
    "graph = load_and_standardize('data/cora_ml.npz')\n",
    "n, d = graph.attr_matrix.shape\n",
    "nc = graph.labels.max() + 1\n",
    "pf_plus_att = 0.01\n",
    "pf_minus_att = 0.6"
   ],
   "metadata": {
    "collapsed": false,
    "ExecuteTime": {
     "end_time": "2025-04-15T11:44:11.708290800Z",
     "start_time": "2025-04-15T11:44:11.309961900Z"
    }
   },
   "outputs": [],
   "execution_count": 6
  },
  {
   "cell_type": "code",
   "source": [
    "model = GCN(n_features=d, n_classes=nc, n_hidden=64)#.cuda()\n",
    "# Load the modified state dictionary\n",
    "model.load_state_dict(trained_state_dict)"
   ],
   "metadata": {
    "collapsed": false,
    "ExecuteTime": {
     "end_time": "2025-04-15T11:44:12.257529100Z",
     "start_time": "2025-04-15T11:44:11.710297900Z"
    }
   },
   "outputs": [
    {
     "data": {
      "text/plain": "<All keys matched successfully>"
     },
     "execution_count": 7,
     "metadata": {},
     "output_type": "execute_result"
    }
   ],
   "execution_count": 7
  },
  {
   "metadata": {
    "ExecuteTime": {
     "end_time": "2025-04-15T11:44:12.653319Z",
     "start_time": "2025-04-15T11:44:12.248803500Z"
    }
   },
   "cell_type": "code",
   "source": [
    "print(model)\n",
    "print(model.conv1.lin.weight)\n",
    "print(model.conv2)\n",
    "\n"
   ],
   "outputs": [
    {
     "name": "stdout",
     "output_type": "stream",
     "text": [
      "GCN(\n",
      "  (conv1): SparseGCNConv(2879, 64)\n",
      "  (conv2): GCNConv(64, 7)\n",
      ")\n",
      "Parameter containing:\n",
      "tensor([[-0.0023, -0.0189, -0.0035,  ..., -0.0007, -0.0108, -0.0372],\n",
      "        [-0.0070, -0.0108,  0.0022,  ..., -0.0066,  0.0141, -0.0339],\n",
      "        [-0.0054, -0.0265, -0.0035,  ..., -0.0038, -0.0105, -0.0156],\n",
      "        ...,\n",
      "        [-0.0097, -0.0432,  0.0009,  ..., -0.0076, -0.0051, -0.0220],\n",
      "        [ 0.0114,  0.0189,  0.0013,  ...,  0.0031,  0.0030, -0.0291],\n",
      "        [ 0.0093, -0.0134, -0.0022,  ...,  0.0038,  0.0085,  0.0331]],\n",
      "       requires_grad=True)\n",
      "GCNConv(64, 7)\n"
     ]
    }
   ],
   "execution_count": 8
  },
  {
   "cell_type": "code",
   "source": [
    "edge_idx = torch.LongTensor(np.stack(graph.adj_matrix.nonzero()))#.cuda()\n",
    "attr_idx = torch.LongTensor(np.stack(graph.attr_matrix.nonzero()))#.cuda()"
   ],
   "metadata": {
    "collapsed": false,
    "ExecuteTime": {
     "end_time": "2025-04-15T11:44:13.004459500Z",
     "start_time": "2025-04-15T11:44:12.648795200Z"
    }
   },
   "outputs": [],
   "execution_count": 9
  },
  {
   "cell_type": "code",
   "source": [
    "from sparse_smoothing.prediction import predict_smooth_gnn\n",
    "#n_samples_eval = 100_000\n",
    "#n_samples_eval = 10_000\n",
    "#n_samples_eval = 1000\n",
    "n_samples_eval = 100\n",
    "\n",
    "sample_config = {\n",
    "    'n_samples': n_samples_eval,\n",
    "    'pf_plus_adj': 0,\n",
    "    'pf_minus_adj': 0,\n",
    "    'pf_plus_att': 0.01,\n",
    "    'pf_minus_att': 0.6,\n",
    "}\n",
    "batch_size = 50\n",
    "\n",
    "sample_config_pre_eval = sample_config.copy()\n",
    "sample_config_pre_eval['n_samples'] = 1_000\n",
    "\n",
    "\n",
    "import torch\n",
    "\n",
    "\n",
    "# we a small number of samples to estimate the majority class\n",
    "pre_votes = predict_smooth_gnn(attr_idx=attr_idx, edge_idx=edge_idx,\n",
    "                               sample_config=sample_config_pre_eval,\n",
    "                               model=model, n=n, d=d, nc=nc,\n",
    "                               batch_size=batch_size)\n",
    "\n",
    "# we use a larger number of samples to estimate a lower bound\n",
    "# on the probability of observing the majority class\n",
    "votes = predict_smooth_gnn(attr_idx=attr_idx, edge_idx=edge_idx,\n",
    "                           sample_config=sample_config,\n",
    "                           model=model, n=n, d=d, nc=nc,\n",
    "                           batch_size=batch_size)\n",
    "\n",
    "print(votes)"
   ],
   "metadata": {
    "collapsed": false,
    "ExecuteTime": {
     "end_time": "2025-04-15T11:46:08.787341Z",
     "start_time": "2025-04-15T11:44:13.001443400Z"
    }
   },
   "outputs": [
    {
     "data": {
      "text/plain": "HBox(children=(FloatProgress(value=0.0, max=20.0), HTML(value='')))",
      "application/vnd.jupyter.widget-view+json": {
       "version_major": 2,
       "version_minor": 0,
       "model_id": "c696f05cb7034b64a437a58ff434815d"
      }
     },
     "metadata": {},
     "output_type": "display_data"
    },
    {
     "name": "stdout",
     "output_type": "stream",
     "text": []
    },
    {
     "data": {
      "text/plain": "HBox(children=(FloatProgress(value=0.0, max=20.0), HTML(value='')))",
      "application/vnd.jupyter.widget-view+json": {
       "version_major": 2,
       "version_minor": 0,
       "model_id": "bb6b0e5ea7994c66a6f978e7b18b2d9f"
      }
     },
     "metadata": {},
     "output_type": "display_data"
    },
    {
     "name": "stdout",
     "output_type": "stream",
     "text": [
      "\n",
      "[[ 992    0    0 ...    0    3    5]\n",
      " [   0 1000    0 ...    0    0    0]\n",
      " [   0  991    0 ...    0    9    0]\n",
      " ...\n",
      " [ 817    1    0 ...  151   28    3]\n",
      " [   0    0    0 ...    0    0 1000]\n",
      " [  30  259    0 ...  168    3  506]]\n"
     ]
    }
   ],
   "execution_count": 10
  },
  {
   "cell_type": "code",
   "source": [
    "from sparse_smoothing.cert import p_lower_from_votes, binary_certificate_grid\n",
    "\n",
    "\n",
    "conf_alpha = 0.01\n",
    "\n",
    "# compute the lower bound on the probability of the majority class\n",
    "p_lower = p_lower_from_votes(votes=votes, pre_votes=pre_votes, alpha=conf_alpha, n_samples=n_samples_eval)\n",
    "\n",
    "# compute the binary-class certificate 2D grid (for all pairs of ra and rd radii)\n",
    "# where grid_binary_class > 0.5 means the instance is robust\n",
    "grid_binary_class, *_ = binary_certificate_grid(pf_plus=pf_plus_att, pf_minus=pf_minus_att,\n",
    "                                            p_emps=p_lower, reverse=False, progress_bar=True)\n"
   ],
   "metadata": {
    "collapsed": false,
    "ExecuteTime": {
     "end_time": "2025-04-15T11:46:09.788099800Z",
     "start_time": "2025-04-15T11:46:08.791860400Z"
    }
   },
   "outputs": [
    {
     "name": "stdout",
     "output_type": "stream",
     "text": [
      "max_ra=3, max_rd=9, min_p_emp=0.6970\n"
     ]
    },
    {
     "data": {
      "text/plain": "HBox(children=(FloatProgress(value=0.0, max=5.0), HTML(value='')))",
      "application/vnd.jupyter.widget-view+json": {
       "version_major": 2,
       "version_minor": 0,
       "model_id": "68980ebbb7fc421390fdfa52cbcf6304"
      }
     },
     "metadata": {},
     "output_type": "display_data"
    },
    {
     "name": "stdout",
     "output_type": "stream",
     "text": []
    },
    {
     "data": {
      "text/plain": "HBox(children=(FloatProgress(value=0.0, max=55.0), HTML(value='')))",
      "application/vnd.jupyter.widget-view+json": {
       "version_major": 2,
       "version_minor": 0,
       "model_id": "5a06666bc84e407d8d7a50adb6e52a39"
      }
     },
     "metadata": {},
     "output_type": "display_data"
    },
    {
     "name": "stdout",
     "output_type": "stream",
     "text": [
      "\n"
     ]
    }
   ],
   "execution_count": 11
  },
  {
   "metadata": {
    "ExecuteTime": {
     "end_time": "2025-04-15T11:46:10.139595700Z",
     "start_time": "2025-04-15T11:46:09.790102900Z"
    }
   },
   "cell_type": "code",
   "source": [
    "grid_radii = (grid_binary_class>0.5)"
   ],
   "outputs": [],
   "execution_count": 12
  },
  {
   "metadata": {
    "ExecuteTime": {
     "end_time": "2025-04-15T11:46:10.685357300Z",
     "start_time": "2025-04-15T11:46:10.144117500Z"
    }
   },
   "cell_type": "code",
   "source": [
    "import seaborn as sns\n",
    "\n",
    "heatmap = (grid_binary_class>0.5).mean(0)\n",
    "sns.set_context('talk')\n",
    "sns.heatmap(heatmap,\n",
    "            cmap='viridis',\n",
    "            vmin=0, vmax=1, square=True, cbar_kws={\"shrink\": .5})\n",
    "plt.xlim(0, heatmap.shape[1])\n",
    "plt.ylim(0, heatmap.shape[0])\n",
    "plt.xlabel('$r_d$ radius')\n",
    "plt.ylabel('$r_a$ radius')\n",
    "plt.show()"
   ],
   "outputs": [
    {
     "data": {
      "text/plain": "<Figure size 640x480 with 2 Axes>",
      "image/png": "[encoded data removed]"
     },
     "metadata": {},
     "output_type": "display_data"
    }
   ],
   "execution_count": 13
  },
  {
   "cell_type": "code",
   "source": [
    "from sparse_smoothing.cert import regions_discrete, compute_rho_for_many\n",
    "# if pf_plus = pf_minus any combination of ra+rd+rc=r gives the same result.\n",
    "pf_plus = pf_minus = 0.8\n",
    "ra = 1\n",
    "rd = 0\n",
    "rc = 0\n",
    "\n",
    "n_discrete_categories = 2\n",
    "\n",
    "regions = regions_discrete(ra=ra, rd=rd, rc=rc, k=n_discrete_categories, pf_plus=pf_plus, pf_minus=pf_minus)\n",
    "\n",
    "percent_robust = (compute_rho_for_many(regions=regions, p_emps=p_lower)>0.5).mean() * 100\n",
    "\n",
    "print(f'At radius r={ra+rd+rc}, {percent_robust} percent of nodes are certifiably robust')"
   ],
   "metadata": {
    "collapsed": false,
    "ExecuteTime": {
     "end_time": "2025-04-15T11:46:11.169477400Z",
     "start_time": "2025-04-15T11:46:10.687366600Z"
    }
   },
   "outputs": [
    {
     "name": "stdout",
     "output_type": "stream",
     "text": [
      "At radius r=1, 69.7508896797153 percent of nodes are certifiably robust\n"
     ]
    }
   ],
   "execution_count": 14
  },
  {
   "metadata": {
    "ExecuteTime": {
     "end_time": "2025-04-15T11:46:11.555050300Z",
     "start_time": "2025-04-15T11:46:11.150898Z"
    }
   },
   "cell_type": "code",
   "source": [
    "grid_radii_one_deletion_false = grid_radii[:,0,1]"
   ],
   "outputs": [],
   "execution_count": 15
  },
  {
   "cell_type": "markdown",
   "source": [
    "## 2. Evaluation\n",
    "\n",
    "For evaluation, we use the locally stored models. Similarly to training, we provide a script that runs the attacks for different seeds for all pretrained models. For all experiments, please check out the [config](https://github.com/sigeisler/robustness_of_gnns_at_scale/tree/main/config) folder.\n",
    "\n",
    "### 2.1 Local PR-BCD Attack with grid_radii initialization\n",
    "We provide an example for a `local PR-BCD` attack on the `Vanilla GCN` model trained previously by passing the desired configuration in [experiments/experiment_local_attack_direct.py](https://github.com/sigeisler/robustness_of_gnns_at_scale/blob/main/experiments/experiment_local_attack_direct.py#L68)."
   ],
   "metadata": {
    "id": "JzCocLocdb2y"
   }
  },
  {
   "cell_type": "code",
   "source": [
    "local_prbcd_statistics_cert = experiment_local_attack_direct.run(\n",
    "    data_dir = './data',\n",
    "    dataset = 'cora_ml',\n",
    "    attack = 'LocalPRBCD',\n",
    "    attack_params = dict(\n",
    "        ppr_cache_params = dict(\n",
    "            data_artifact_dir = 'cache',\n",
    "            data_storage_type = 'ppr'),\n",
    "        #epochs = 500, # -> way too high for my setup, use 40-100\n",
    "        epochs = 50,\n",
    "        fine_tune_epochs = 100, #this may have to be adjusted to epochs\n",
    "        search_space_size = 100, #is here the same varibale error as in global_attack ?\n",
    "        block_size = 100,\n",
    "        ppr_recalc_at_end = True,\n",
    "        loss_type = 'Margin',\n",
    "        lr_factor = 0.05),\n",
    "    nodes = None,\n",
    "    nodes_topk = 5,\n",
    "    seed=0,\n",
    "    epsilons = [1],\n",
    "    min_node_degree = None,\n",
    "    binary_attr = False,\n",
    "    make_undirected = True,\n",
    "    artifact_dir = 'cache',\n",
    "    model_label = 'Vanilla GCN',\n",
    "    model_storage_type = 'demo',\n",
    "    #device = 0,\n",
    "    #data_device = 0,\n",
    "    device = \"cpu\",\n",
    "    data_device = \"cpu\",\n",
    "    debug_level = \"info\",\n",
    "    grid_radii=grid_radii,\n",
    "    use_cert=True,\n",
    ")"
   ],
   "metadata": {
    "colab": {
     "base_uri": "https://localhost:8080/",
     "height": 1000
    },
    "id": "A-n0IWrJC1QQ",
    "outputId": "43f39721-13e9-4596-f260-4cdf79cf54d1",
    "ExecuteTime": {
     "end_time": "2025-04-01T10:59:02.334266Z",
     "start_time": "2025-04-01T10:56:27.236666Z"
    }
   },
   "outputs": [
    {
     "data": {
      "text/plain": [
       "\u001B[2;36m[04/01/25 12:56:27]\u001B[0m\u001B[2;36m \u001B[0m\u001B[34mINFO    \u001B[0m \u001B[1m{\u001B[0m\u001B[32m'dataset'\u001B[0m: \u001B[32m'cora_ml'\u001B[0m, \u001B[32m'attack'\u001B[0m: \u001B[32m'LocalPRBCD'\u001B[0m, \u001B[32m'attack_params'\u001B[0m:           \u001B]8;id=731199;file://E:\\Masterarbeit\\ProjectCombined\\experiments\\common.py\u001B\\\u001B[2mcommon.py\u001B[0m\u001B]8;;\u001B\\\u001B[2m:\u001B[0m\u001B]8;id=199490;file://E:\\Masterarbeit\\ProjectCombined\\experiments\\common.py#38\u001B\\\u001B[2m38\u001B[0m\u001B]8;;\u001B\\\n",
       "\u001B[2;36m                    \u001B[0m         \u001B[1m{\u001B[0m\u001B[32m'ppr_cache_params'\u001B[0m: \u001B[1m{\u001B[0m\u001B[32m'data_artifact_dir'\u001B[0m: \u001B[32m'cache'\u001B[0m, \u001B[32m'data_storage_type'\u001B[0m:  \u001B[2m            \u001B[0m\n",
       "\u001B[2;36m                    \u001B[0m         \u001B[32m'ppr'\u001B[0m\u001B[1m}\u001B[0m, \u001B[32m'epochs'\u001B[0m: \u001B[1;36m50\u001B[0m, \u001B[32m'fine_tune_epochs'\u001B[0m: \u001B[1;36m100\u001B[0m, \u001B[32m'search_space_size'\u001B[0m: \u001B[1;36m100\u001B[0m,  \u001B[2m            \u001B[0m\n",
       "\u001B[2;36m                    \u001B[0m         \u001B[32m'block_size'\u001B[0m: \u001B[1;36m100\u001B[0m, \u001B[32m'ppr_recalc_at_end'\u001B[0m: \u001B[3;92mTrue\u001B[0m, \u001B[32m'loss_type'\u001B[0m: \u001B[32m'Margin'\u001B[0m,      \u001B[2m            \u001B[0m\n",
       "\u001B[2;36m                    \u001B[0m         \u001B[32m'lr_factor'\u001B[0m: \u001B[1;36m0.05\u001B[0m\u001B[1m}\u001B[0m, \u001B[32m'epsilons'\u001B[0m: \u001B[1m[\u001B[0m\u001B[1;36m1\u001B[0m\u001B[1m]\u001B[0m, \u001B[32m'make_undirected'\u001B[0m: \u001B[3;92mTrue\u001B[0m,             \u001B[2m            \u001B[0m\n",
       "\u001B[2;36m                    \u001B[0m         \u001B[32m'binary_attr'\u001B[0m: \u001B[3;91mFalse\u001B[0m, \u001B[32m'seed'\u001B[0m: \u001B[1;36m0\u001B[0m, \u001B[32m'artifact_dir'\u001B[0m: \u001B[32m'cache'\u001B[0m,                 \u001B[2m            \u001B[0m\n",
       "\u001B[2;36m                    \u001B[0m         \u001B[32m'pert_adj_storage_type'\u001B[0m: \u001B[3;35mNone\u001B[0m, \u001B[32m'pert_attr_storage_type'\u001B[0m: \u001B[3;35mNone\u001B[0m,            \u001B[2m            \u001B[0m\n",
       "\u001B[2;36m                    \u001B[0m         \u001B[32m'model_label'\u001B[0m: \u001B[32m'Vanilla GCN'\u001B[0m, \u001B[32m'model_storage_type'\u001B[0m: \u001B[32m'demo'\u001B[0m, \u001B[32m'device'\u001B[0m:     \u001B[2m            \u001B[0m\n",
       "\u001B[2;36m                    \u001B[0m         \u001B[32m'cpu'\u001B[0m, \u001B[32m'data_device'\u001B[0m: \u001B[32m'cpu'\u001B[0m\u001B[1m}\u001B[0m                                              \u001B[2m            \u001B[0m\n"
      ],
      "text/html": [
       "<pre style=\"white-space:pre;overflow-x:auto;line-height:normal;font-family:Menlo,'DejaVu Sans Mono',consolas,'Courier New',monospace\"><span style=\"color: #7fbfbf; text-decoration-color: #7fbfbf\">[04/01/25 12:56:27] </span><span style=\"color: #000080; text-decoration-color: #000080\">INFO    </span> <span style=\"font-weight: bold\">{</span><span style=\"color: #008000; text-decoration-color: #008000\">'dataset'</span>: <span style=\"color: #008000; text-decoration-color: #008000\">'cora_ml'</span>, <span style=\"color: #008000; text-decoration-color: #008000\">'attack'</span>: <span style=\"color: #008000; text-decoration-color: #008000\">'LocalPRBCD'</span>, <span style=\"color: #008000; text-decoration-color: #008000\">'attack_params'</span>:           <a href=\"file://E:\\Masterarbeit\\ProjectCombined\\experiments\\common.py\" target=\"_blank\"><span style=\"color: #7f7f7f; text-decoration-color: #7f7f7f\">common.py</span></a><span style=\"color: #7f7f7f; text-decoration-color: #7f7f7f\">:</span><a href=\"file://E:\\Masterarbeit\\ProjectCombined\\experiments\\common.py#38\" target=\"_blank\"><span style=\"color: #7f7f7f; text-decoration-color: #7f7f7f\">38</span></a>\n",
       "<span style=\"color: #7fbfbf; text-decoration-color: #7fbfbf\">                    </span>         <span style=\"font-weight: bold\">{</span><span style=\"color: #008000; text-decoration-color: #008000\">'ppr_cache_params'</span>: <span style=\"font-weight: bold\">{</span><span style=\"color: #008000; text-decoration-color: #008000\">'data_artifact_dir'</span>: <span style=\"color: #008000; text-decoration-color: #008000\">'cache'</span>, <span style=\"color: #008000; text-decoration-color: #008000\">'data_storage_type'</span>:  <span style=\"color: #7f7f7f; text-decoration-color: #7f7f7f\">            </span>\n",
       "<span style=\"color: #7fbfbf; text-decoration-color: #7fbfbf\">                    </span>         <span style=\"color: #008000; text-decoration-color: #008000\">'ppr'</span><span style=\"font-weight: bold\">}</span>, <span style=\"color: #008000; text-decoration-color: #008000\">'epochs'</span>: <span style=\"color: #008080; text-decoration-color: #008080; font-weight: bold\">50</span>, <span style=\"color: #008000; text-decoration-color: #008000\">'fine_tune_epochs'</span>: <span style=\"color: #008080; text-decoration-color: #008080; font-weight: bold\">100</span>, <span style=\"color: #008000; text-decoration-color: #008000\">'search_space_size'</span>: <span style=\"color: #008080; text-decoration-color: #008080; font-weight: bold\">100</span>,  <span style=\"color: #7f7f7f; text-decoration-color: #7f7f7f\">            </span>\n",
       "<span style=\"color: #7fbfbf; text-decoration-color: #7fbfbf\">                    </span>         <span style=\"color: #008000; text-decoration-color: #008000\">'block_size'</span>: <span style=\"color: #008080; text-decoration-color: #008080; font-weight: bold\">100</span>, <span style=\"color: #008000; text-decoration-color: #008000\">'ppr_recalc_at_end'</span>: <span style=\"color: #00ff00; text-decoration-color: #00ff00; font-style: italic\">True</span>, <span style=\"color: #008000; text-decoration-color: #008000\">'loss_type'</span>: <span style=\"color: #008000; text-decoration-color: #008000\">'Margin'</span>,      <span style=\"color: #7f7f7f; text-decoration-color: #7f7f7f\">            </span>\n",
       "<span style=\"color: #7fbfbf; text-decoration-color: #7fbfbf\">                    </span>         <span style=\"color: #008000; text-decoration-color: #008000\">'lr_factor'</span>: <span style=\"color: #008080; text-decoration-color: #008080; font-weight: bold\">0.05</span><span style=\"font-weight: bold\">}</span>, <span style=\"color: #008000; text-decoration-color: #008000\">'epsilons'</span>: <span style=\"font-weight: bold\">[</span><span style=\"color: #008080; text-decoration-color: #008080; font-weight: bold\">1</span><span style=\"font-weight: bold\">]</span>, <span style=\"color: #008000; text-decoration-color: #008000\">'make_undirected'</span>: <span style=\"color: #00ff00; text-decoration-color: #00ff00; font-style: italic\">True</span>,             <span style=\"color: #7f7f7f; text-decoration-color: #7f7f7f\">            </span>\n",
       "<span style=\"color: #7fbfbf; text-decoration-color: #7fbfbf\">                    </span>         <span style=\"color: #008000; text-decoration-color: #008000\">'binary_attr'</span>: <span style=\"color: #ff0000; text-decoration-color: #ff0000; font-style: italic\">False</span>, <span style=\"color: #008000; text-decoration-color: #008000\">'seed'</span>: <span style=\"color: #008080; text-decoration-color: #008080; font-weight: bold\">0</span>, <span style=\"color: #008000; text-decoration-color: #008000\">'artifact_dir'</span>: <span style=\"color: #008000; text-decoration-color: #008000\">'cache'</span>,                 <span style=\"color: #7f7f7f; text-decoration-color: #7f7f7f\">            </span>\n",
       "<span style=\"color: #7fbfbf; text-decoration-color: #7fbfbf\">                    </span>         <span style=\"color: #008000; text-decoration-color: #008000\">'pert_adj_storage_type'</span>: <span style=\"color: #800080; text-decoration-color: #800080; font-style: italic\">None</span>, <span style=\"color: #008000; text-decoration-color: #008000\">'pert_attr_storage_type'</span>: <span style=\"color: #800080; text-decoration-color: #800080; font-style: italic\">None</span>,            <span style=\"color: #7f7f7f; text-decoration-color: #7f7f7f\">            </span>\n",
       "<span style=\"color: #7fbfbf; text-decoration-color: #7fbfbf\">                    </span>         <span style=\"color: #008000; text-decoration-color: #008000\">'model_label'</span>: <span style=\"color: #008000; text-decoration-color: #008000\">'Vanilla GCN'</span>, <span style=\"color: #008000; text-decoration-color: #008000\">'model_storage_type'</span>: <span style=\"color: #008000; text-decoration-color: #008000\">'demo'</span>, <span style=\"color: #008000; text-decoration-color: #008000\">'device'</span>:     <span style=\"color: #7f7f7f; text-decoration-color: #7f7f7f\">            </span>\n",
       "<span style=\"color: #7fbfbf; text-decoration-color: #7fbfbf\">                    </span>         <span style=\"color: #008000; text-decoration-color: #008000\">'cpu'</span>, <span style=\"color: #008000; text-decoration-color: #008000\">'data_device'</span>: <span style=\"color: #008000; text-decoration-color: #008000\">'cpu'</span><span style=\"font-weight: bold\">}</span>                                              <span style=\"color: #7f7f7f; text-decoration-color: #7f7f7f\">            </span>\n",
       "</pre>\n"
      ]
     },
     "metadata": {},
     "output_type": "display_data"
    },
    {
     "data": {
      "text/plain": [
       "\u001B[2;36m                   \u001B[0m\u001B[2;36m \u001B[0m\u001B[34mINFO    \u001B[0m Lock \u001B[1;36m2073803943632\u001B[0m acquired on cache\\demo.json.lock                    \u001B]8;id=921831;file://E:\\Anaconda\\envs\\Masterarbeit\\Lib\\site-packages\\filelock.py\u001B\\\u001B[2mfilelock.py\u001B[0m\u001B]8;;\u001B\\\u001B[2m:\u001B[0m\u001B]8;id=778192;file://E:\\Anaconda\\envs\\Masterarbeit\\Lib\\site-packages\\filelock.py#274\u001B\\\u001B[2m274\u001B[0m\u001B]8;;\u001B\\\n"
      ],
      "text/html": [
       "<pre style=\"white-space:pre;overflow-x:auto;line-height:normal;font-family:Menlo,'DejaVu Sans Mono',consolas,'Courier New',monospace\"><span style=\"color: #7fbfbf; text-decoration-color: #7fbfbf\">                    </span><span style=\"color: #000080; text-decoration-color: #000080\">INFO    </span> Lock <span style=\"color: #008080; text-decoration-color: #008080; font-weight: bold\">2073803943632</span> acquired on cache\\demo.json.lock                    <a href=\"file://E:\\Anaconda\\envs\\Masterarbeit\\Lib\\site-packages\\filelock.py\" target=\"_blank\"><span style=\"color: #7f7f7f; text-decoration-color: #7f7f7f\">filelock.py</span></a><span style=\"color: #7f7f7f; text-decoration-color: #7f7f7f\">:</span><a href=\"file://E:\\Anaconda\\envs\\Masterarbeit\\Lib\\site-packages\\filelock.py#274\" target=\"_blank\"><span style=\"color: #7f7f7f; text-decoration-color: #7f7f7f\">274</span></a>\n",
       "</pre>\n"
      ]
     },
     "metadata": {},
     "output_type": "display_data"
    },
    {
     "data": {
      "text/plain": [
       "\u001B[2;36m                   \u001B[0m\u001B[2;36m \u001B[0m\u001B[34mINFO    \u001B[0m Lock \u001B[1;36m2073803943632\u001B[0m released on cache\\demo.json.lock                    \u001B]8;id=559971;file://E:\\Anaconda\\envs\\Masterarbeit\\Lib\\site-packages\\filelock.py\u001B\\\u001B[2mfilelock.py\u001B[0m\u001B]8;;\u001B\\\u001B[2m:\u001B[0m\u001B]8;id=436419;file://E:\\Anaconda\\envs\\Masterarbeit\\Lib\\site-packages\\filelock.py#318\u001B\\\u001B[2m318\u001B[0m\u001B]8;;\u001B\\\n"
      ],
      "text/html": [
       "<pre style=\"white-space:pre;overflow-x:auto;line-height:normal;font-family:Menlo,'DejaVu Sans Mono',consolas,'Courier New',monospace\"><span style=\"color: #7fbfbf; text-decoration-color: #7fbfbf\">                    </span><span style=\"color: #000080; text-decoration-color: #000080\">INFO    </span> Lock <span style=\"color: #008080; text-decoration-color: #008080; font-weight: bold\">2073803943632</span> released on cache\\demo.json.lock                    <a href=\"file://E:\\Anaconda\\envs\\Masterarbeit\\Lib\\site-packages\\filelock.py\" target=\"_blank\"><span style=\"color: #7f7f7f; text-decoration-color: #7f7f7f\">filelock.py</span></a><span style=\"color: #7f7f7f; text-decoration-color: #7f7f7f\">:</span><a href=\"file://E:\\Anaconda\\envs\\Masterarbeit\\Lib\\site-packages\\filelock.py#318\" target=\"_blank\"><span style=\"color: #7f7f7f; text-decoration-color: #7f7f7f\">318</span></a>\n",
       "</pre>\n"
      ]
     },
     "metadata": {},
     "output_type": "display_data"
    },
    {
     "data": {
      "text/plain": [
       "\u001B[2;36m                   \u001B[0m\u001B[2;36m \u001B[0m\u001B[34mINFO    \u001B[0m Found \u001B[1;36m1\u001B[0m models with label \u001B[32m'Vanilla GCN'\u001B[0m to       \u001B]8;id=91936;file://E:\\Masterarbeit\\ProjectCombined\\experiments\\experiment_local_attack_direct.py\u001B\\\u001B[2mexperiment_local_attack_direct.py\u001B[0m\u001B]8;;\u001B\\\u001B[2m:\u001B[0m\u001B]8;id=504688;file://E:\\Masterarbeit\\ProjectCombined\\experiments\\experiment_local_attack_direct.py#141\u001B\\\u001B[2m141\u001B[0m\u001B]8;;\u001B\\\n",
       "\u001B[2;36m                    \u001B[0m         attack.                                          \u001B[2m                                     \u001B[0m\n"
      ],
      "text/html": [
       "<pre style=\"white-space:pre;overflow-x:auto;line-height:normal;font-family:Menlo,'DejaVu Sans Mono',consolas,'Courier New',monospace\"><span style=\"color: #7fbfbf; text-decoration-color: #7fbfbf\">                    </span><span style=\"color: #000080; text-decoration-color: #000080\">INFO    </span> Found <span style=\"color: #008080; text-decoration-color: #008080; font-weight: bold\">1</span> models with label <span style=\"color: #008000; text-decoration-color: #008000\">'Vanilla GCN'</span> to       <a href=\"file://E:\\Masterarbeit\\ProjectCombined\\experiments\\experiment_local_attack_direct.py\" target=\"_blank\"><span style=\"color: #7f7f7f; text-decoration-color: #7f7f7f\">experiment_local_attack_direct.py</span></a><span style=\"color: #7f7f7f; text-decoration-color: #7f7f7f\">:</span><a href=\"file://E:\\Masterarbeit\\ProjectCombined\\experiments\\experiment_local_attack_direct.py#141\" target=\"_blank\"><span style=\"color: #7f7f7f; text-decoration-color: #7f7f7f\">141</span></a>\n",
       "<span style=\"color: #7fbfbf; text-decoration-color: #7fbfbf\">                    </span>         attack.                                          <span style=\"color: #7f7f7f; text-decoration-color: #7f7f7f\">                                     </span>\n",
       "</pre>\n"
      ]
     },
     "metadata": {},
     "output_type": "display_data"
    },
    {
     "data": {
      "text/plain": [
       "\u001B[2;36m                   \u001B[0m\u001B[2;36m \u001B[0m\u001B[34mINFO    \u001B[0m Sample Attack Nodes for model with accuracy \u001B[1;36m0.8352\u001B[0m                       \u001B]8;id=884401;file://E:\\Masterarbeit\\ProjectCombined\\experiments\\common.py\u001B\\\u001B[2mcommon.py\u001B[0m\u001B]8;;\u001B\\\u001B[2m:\u001B[0m\u001B]8;id=852062;file://E:\\Masterarbeit\\ProjectCombined\\experiments\\common.py#166\u001B\\\u001B[2m166\u001B[0m\u001B]8;;\u001B\\\n"
      ],
      "text/html": [
       "<pre style=\"white-space:pre;overflow-x:auto;line-height:normal;font-family:Menlo,'DejaVu Sans Mono',consolas,'Courier New',monospace\"><span style=\"color: #7fbfbf; text-decoration-color: #7fbfbf\">                    </span><span style=\"color: #000080; text-decoration-color: #000080\">INFO    </span> Sample Attack Nodes for model with accuracy <span style=\"color: #008080; text-decoration-color: #008080; font-weight: bold\">0.8352</span>                       <a href=\"file://E:\\Masterarbeit\\ProjectCombined\\experiments\\common.py\" target=\"_blank\"><span style=\"color: #7f7f7f; text-decoration-color: #7f7f7f\">common.py</span></a><span style=\"color: #7f7f7f; text-decoration-color: #7f7f7f\">:</span><a href=\"file://E:\\Masterarbeit\\ProjectCombined\\experiments\\common.py#166\" target=\"_blank\"><span style=\"color: #7f7f7f; text-decoration-color: #7f7f7f\">166</span></a>\n",
       "</pre>\n"
      ]
     },
     "metadata": {},
     "output_type": "display_data"
    },
    {
     "data": {
      "text/plain": [
       "\u001B[2;36m[04/01/25 12:56:28]\u001B[0m\u001B[2;36m \u001B[0m\u001B[34mINFO    \u001B[0m Found \u001B[1;36m2530\u001B[0m suitable \u001B[32m'1+ degree'\u001B[0m nodes out of \u001B[1;36m2530\u001B[0m candidate nodes to be  \u001B]8;id=23872;file://E:\\Masterarbeit\\ProjectCombined\\experiments\\common.py\u001B\\\u001B[2mcommon.py\u001B[0m\u001B]8;;\u001B\\\u001B[2m:\u001B[0m\u001B]8;id=300441;file://E:\\Masterarbeit\\ProjectCombined\\experiments\\common.py#132\u001B\\\u001B[2m132\u001B[0m\u001B]8;;\u001B\\\n",
       "\u001B[2;36m                    \u001B[0m         sampled from for the attack of which \u001B[1;36m2113\u001B[0m have the correct class label   \u001B[2m             \u001B[0m\n"
      ],
      "text/html": [
       "<pre style=\"white-space:pre;overflow-x:auto;line-height:normal;font-family:Menlo,'DejaVu Sans Mono',consolas,'Courier New',monospace\"><span style=\"color: #7fbfbf; text-decoration-color: #7fbfbf\">[04/01/25 12:56:28] </span><span style=\"color: #000080; text-decoration-color: #000080\">INFO    </span> Found <span style=\"color: #008080; text-decoration-color: #008080; font-weight: bold\">2530</span> suitable <span style=\"color: #008000; text-decoration-color: #008000\">'1+ degree'</span> nodes out of <span style=\"color: #008080; text-decoration-color: #008080; font-weight: bold\">2530</span> candidate nodes to be  <a href=\"file://E:\\Masterarbeit\\ProjectCombined\\experiments\\common.py\" target=\"_blank\"><span style=\"color: #7f7f7f; text-decoration-color: #7f7f7f\">common.py</span></a><span style=\"color: #7f7f7f; text-decoration-color: #7f7f7f\">:</span><a href=\"file://E:\\Masterarbeit\\ProjectCombined\\experiments\\common.py#132\" target=\"_blank\"><span style=\"color: #7f7f7f; text-decoration-color: #7f7f7f\">132</span></a>\n",
       "<span style=\"color: #7fbfbf; text-decoration-color: #7fbfbf\">                    </span>         sampled from for the attack of which <span style=\"color: #008080; text-decoration-color: #008080; font-weight: bold\">2113</span> have the correct class label   <span style=\"color: #7f7f7f; text-decoration-color: #7f7f7f\">             </span>\n",
       "</pre>\n"
      ]
     },
     "metadata": {},
     "output_type": "display_data"
    },
    {
     "data": {
      "text/plain": [
       "\u001B[2;36m                   \u001B[0m\u001B[2;36m \u001B[0m\u001B[34mINFO    \u001B[0m Sample the following attack nodes:                                       \u001B]8;id=159453;file://E:\\Masterarbeit\\ProjectCombined\\experiments\\common.py\u001B\\\u001B[2mcommon.py\u001B[0m\u001B]8;;\u001B\\\u001B[2m:\u001B[0m\u001B]8;id=180615;file://E:\\Masterarbeit\\ProjectCombined\\experiments\\common.py#171\u001B\\\u001B[2m171\u001B[0m\u001B]8;;\u001B\\\n",
       "\u001B[2;36m                    \u001B[0m         \u001B[1m[\u001B[0m\u001B[1;36m475\u001B[0m\u001B[1m]\u001B[0m                                                                    \u001B[2m             \u001B[0m\n",
       "\u001B[2;36m                    \u001B[0m         \u001B[1m[\u001B[0m\u001B[1;36m2105\u001B[0m\u001B[1m]\u001B[0m                                                                   \u001B[2m             \u001B[0m\n",
       "\u001B[2;36m                    \u001B[0m         \u001B[1m[\u001B[0m\u001B[1;36m1707\u001B[0m  \u001B[1;36m834\u001B[0m\u001B[1m]\u001B[0m                                                              \u001B[2m             \u001B[0m\n"
      ],
      "text/html": [
       "<pre style=\"white-space:pre;overflow-x:auto;line-height:normal;font-family:Menlo,'DejaVu Sans Mono',consolas,'Courier New',monospace\"><span style=\"color: #7fbfbf; text-decoration-color: #7fbfbf\">                    </span><span style=\"color: #000080; text-decoration-color: #000080\">INFO    </span> Sample the following attack nodes:                                       <a href=\"file://E:\\Masterarbeit\\ProjectCombined\\experiments\\common.py\" target=\"_blank\"><span style=\"color: #7f7f7f; text-decoration-color: #7f7f7f\">common.py</span></a><span style=\"color: #7f7f7f; text-decoration-color: #7f7f7f\">:</span><a href=\"file://E:\\Masterarbeit\\ProjectCombined\\experiments\\common.py#171\" target=\"_blank\"><span style=\"color: #7f7f7f; text-decoration-color: #7f7f7f\">171</span></a>\n",
       "<span style=\"color: #7fbfbf; text-decoration-color: #7fbfbf\">                    </span>         <span style=\"font-weight: bold\">[</span><span style=\"color: #008080; text-decoration-color: #008080; font-weight: bold\">475</span><span style=\"font-weight: bold\">]</span>                                                                    <span style=\"color: #7f7f7f; text-decoration-color: #7f7f7f\">             </span>\n",
       "<span style=\"color: #7fbfbf; text-decoration-color: #7fbfbf\">                    </span>         <span style=\"font-weight: bold\">[</span><span style=\"color: #008080; text-decoration-color: #008080; font-weight: bold\">2105</span><span style=\"font-weight: bold\">]</span>                                                                   <span style=\"color: #7f7f7f; text-decoration-color: #7f7f7f\">             </span>\n",
       "<span style=\"color: #7fbfbf; text-decoration-color: #7fbfbf\">                    </span>         <span style=\"font-weight: bold\">[</span><span style=\"color: #008080; text-decoration-color: #008080; font-weight: bold\">1707</span>  <span style=\"color: #008080; text-decoration-color: #008080; font-weight: bold\">834</span><span style=\"font-weight: bold\">]</span>                                                              <span style=\"color: #7f7f7f; text-decoration-color: #7f7f7f\">             </span>\n",
       "</pre>\n"
      ]
     },
     "metadata": {},
     "output_type": "display_data"
    },
    {
     "data": {
      "text/plain": [
       "\u001B[2;36m                   \u001B[0m\u001B[2;36m \u001B[0m\u001B[34mINFO    \u001B[0m Original: Loss: \u001B[1;36m-9.881260871887207\u001B[0m Statstics: \u001B[1m{\u001B[0m\u001B[32m'logit_target'\u001B[0m:       \u001B]8;id=509150;file://E:\\Masterarbeit\\ProjectCombined\\rgnn_at_scale\\attacks\\local_prbcd.py\u001B\\\u001B[2mlocal_prbcd.py\u001B[0m\u001B]8;;\u001B\\\u001B[2m:\u001B[0m\u001B]8;id=62652;file://E:\\Masterarbeit\\ProjectCombined\\rgnn_at_scale\\attacks\\local_prbcd.py#79\u001B\\\u001B[2m79\u001B[0m\u001B]8;;\u001B\\\n",
       "\u001B[2;36m                    \u001B[0m         \u001B[1;36m-0.0002615109842736274\u001B[0m, \u001B[32m'logit_best_non_target'\u001B[0m: \u001B[1;36m-9.881522178649902\u001B[0m, \u001B[2m                 \u001B[0m\n",
       "\u001B[2;36m                    \u001B[0m         \u001B[32m'confidence_target'\u001B[0m: \u001B[1;35mnp.float64\u001B[0m\u001B[1m(\u001B[0m\u001B[1;36m0.9997385232067433\u001B[0m\u001B[1m)\u001B[0m,                 \u001B[2m                 \u001B[0m\n",
       "\u001B[2;36m                    \u001B[0m         \u001B[32m'confidence_non_target'\u001B[0m: \u001B[1;35mnp.float64\u001B[0m\u001B[1m(\u001B[0m\u001B[1;36m5.1110419437683184e-05\u001B[0m\u001B[1m)\u001B[0m,         \u001B[2m                 \u001B[0m\n",
       "\u001B[2;36m                    \u001B[0m         \u001B[32m'margin'\u001B[0m: \u001B[1;35mnp.float64\u001B[0m\u001B[1m(\u001B[0m\u001B[1;36m0.9996874127873056\u001B[0m\u001B[1m)\u001B[0m\u001B[1m}\u001B[0m                            \u001B[2m                 \u001B[0m\n",
       "\u001B[2;36m                    \u001B[0m                                                                              \u001B[2m                 \u001B[0m\n"
      ],
      "text/html": [
       "<pre style=\"white-space:pre;overflow-x:auto;line-height:normal;font-family:Menlo,'DejaVu Sans Mono',consolas,'Courier New',monospace\"><span style=\"color: #7fbfbf; text-decoration-color: #7fbfbf\">                    </span><span style=\"color: #000080; text-decoration-color: #000080\">INFO    </span> Original: Loss: <span style=\"color: #008080; text-decoration-color: #008080; font-weight: bold\">-9.881260871887207</span> Statstics: <span style=\"font-weight: bold\">{</span><span style=\"color: #008000; text-decoration-color: #008000\">'logit_target'</span>:       <a href=\"file://E:\\Masterarbeit\\ProjectCombined\\rgnn_at_scale\\attacks\\local_prbcd.py\" target=\"_blank\"><span style=\"color: #7f7f7f; text-decoration-color: #7f7f7f\">local_prbcd.py</span></a><span style=\"color: #7f7f7f; text-decoration-color: #7f7f7f\">:</span><a href=\"file://E:\\Masterarbeit\\ProjectCombined\\rgnn_at_scale\\attacks\\local_prbcd.py#79\" target=\"_blank\"><span style=\"color: #7f7f7f; text-decoration-color: #7f7f7f\">79</span></a>\n",
       "<span style=\"color: #7fbfbf; text-decoration-color: #7fbfbf\">                    </span>         <span style=\"color: #008080; text-decoration-color: #008080; font-weight: bold\">-0.0002615109842736274</span>, <span style=\"color: #008000; text-decoration-color: #008000\">'logit_best_non_target'</span>: <span style=\"color: #008080; text-decoration-color: #008080; font-weight: bold\">-9.881522178649902</span>, <span style=\"color: #7f7f7f; text-decoration-color: #7f7f7f\">                 </span>\n",
       "<span style=\"color: #7fbfbf; text-decoration-color: #7fbfbf\">                    </span>         <span style=\"color: #008000; text-decoration-color: #008000\">'confidence_target'</span>: <span style=\"color: #800080; text-decoration-color: #800080; font-weight: bold\">np.float64</span><span style=\"font-weight: bold\">(</span><span style=\"color: #008080; text-decoration-color: #008080; font-weight: bold\">0.9997385232067433</span><span style=\"font-weight: bold\">)</span>,                 <span style=\"color: #7f7f7f; text-decoration-color: #7f7f7f\">                 </span>\n",
       "<span style=\"color: #7fbfbf; text-decoration-color: #7fbfbf\">                    </span>         <span style=\"color: #008000; text-decoration-color: #008000\">'confidence_non_target'</span>: <span style=\"color: #800080; text-decoration-color: #800080; font-weight: bold\">np.float64</span><span style=\"font-weight: bold\">(</span><span style=\"color: #008080; text-decoration-color: #008080; font-weight: bold\">5.1110419437683184e-05</span><span style=\"font-weight: bold\">)</span>,         <span style=\"color: #7f7f7f; text-decoration-color: #7f7f7f\">                 </span>\n",
       "<span style=\"color: #7fbfbf; text-decoration-color: #7fbfbf\">                    </span>         <span style=\"color: #008000; text-decoration-color: #008000\">'margin'</span>: <span style=\"color: #800080; text-decoration-color: #800080; font-weight: bold\">np.float64</span><span style=\"font-weight: bold\">(</span><span style=\"color: #008080; text-decoration-color: #008080; font-weight: bold\">0.9996874127873056</span><span style=\"font-weight: bold\">)}</span>                            <span style=\"color: #7f7f7f; text-decoration-color: #7f7f7f\">                 </span>\n",
       "<span style=\"color: #7fbfbf; text-decoration-color: #7fbfbf\">                    </span>                                                                              <span style=\"color: #7f7f7f; text-decoration-color: #7f7f7f\">                 </span>\n",
       "</pre>\n"
      ]
     },
     "metadata": {},
     "output_type": "display_data"
    },
    {
     "name": "stderr",
     "output_type": "stream",
     "text": [
      "  0%|          | 0/50 [00:00<?, ?it/s]"
     ]
    },
    {
     "data": {
      "text/plain": [
       "\u001B[2;36m                   \u001B[0m\u001B[2;36m \u001B[0m\u001B[34mINFO    \u001B[0m Initial: Loss: \u001B[1;36m-9.881260871887207\u001B[0m Statstics: \u001B[1m{\u001B[0m\u001B[32m'logit_target'\u001B[0m:        \u001B]8;id=632689;file://E:\\Masterarbeit\\ProjectCombined\\rgnn_at_scale\\attacks\\local_prbcd.py\u001B\\\u001B[2mlocal_prbcd.py\u001B[0m\u001B]8;;\u001B\\\u001B[2m:\u001B[0m\u001B]8;id=416137;file://E:\\Masterarbeit\\ProjectCombined\\rgnn_at_scale\\attacks\\local_prbcd.py#97\u001B\\\u001B[2m97\u001B[0m\u001B]8;;\u001B\\\n",
       "\u001B[2;36m                    \u001B[0m         \u001B[1;36m-0.0002615109842736274\u001B[0m, \u001B[32m'logit_best_non_target'\u001B[0m: \u001B[1;36m-9.881522178649902\u001B[0m, \u001B[2m                 \u001B[0m\n",
       "\u001B[2;36m                    \u001B[0m         \u001B[32m'confidence_target'\u001B[0m: \u001B[1;35mnp.float64\u001B[0m\u001B[1m(\u001B[0m\u001B[1;36m0.9997385232067433\u001B[0m\u001B[1m)\u001B[0m,                 \u001B[2m                 \u001B[0m\n",
       "\u001B[2;36m                    \u001B[0m         \u001B[32m'confidence_non_target'\u001B[0m: \u001B[1;35mnp.float64\u001B[0m\u001B[1m(\u001B[0m\u001B[1;36m5.1110419437683184e-05\u001B[0m\u001B[1m)\u001B[0m,         \u001B[2m                 \u001B[0m\n",
       "\u001B[2;36m                    \u001B[0m         \u001B[32m'margin'\u001B[0m: \u001B[1;35mnp.float64\u001B[0m\u001B[1m(\u001B[0m\u001B[1;36m0.9996874127873056\u001B[0m\u001B[1m)\u001B[0m\u001B[1m}\u001B[0m                            \u001B[2m                 \u001B[0m\n",
       "\u001B[2;36m                    \u001B[0m                                                                              \u001B[2m                 \u001B[0m\n"
      ],
      "text/html": [
       "<pre style=\"white-space:pre;overflow-x:auto;line-height:normal;font-family:Menlo,'DejaVu Sans Mono',consolas,'Courier New',monospace\"><span style=\"color: #7fbfbf; text-decoration-color: #7fbfbf\">                    </span><span style=\"color: #000080; text-decoration-color: #000080\">INFO    </span> Initial: Loss: <span style=\"color: #008080; text-decoration-color: #008080; font-weight: bold\">-9.881260871887207</span> Statstics: <span style=\"font-weight: bold\">{</span><span style=\"color: #008000; text-decoration-color: #008000\">'logit_target'</span>:        <a href=\"file://E:\\Masterarbeit\\ProjectCombined\\rgnn_at_scale\\attacks\\local_prbcd.py\" target=\"_blank\"><span style=\"color: #7f7f7f; text-decoration-color: #7f7f7f\">local_prbcd.py</span></a><span style=\"color: #7f7f7f; text-decoration-color: #7f7f7f\">:</span><a href=\"file://E:\\Masterarbeit\\ProjectCombined\\rgnn_at_scale\\attacks\\local_prbcd.py#97\" target=\"_blank\"><span style=\"color: #7f7f7f; text-decoration-color: #7f7f7f\">97</span></a>\n",
       "<span style=\"color: #7fbfbf; text-decoration-color: #7fbfbf\">                    </span>         <span style=\"color: #008080; text-decoration-color: #008080; font-weight: bold\">-0.0002615109842736274</span>, <span style=\"color: #008000; text-decoration-color: #008000\">'logit_best_non_target'</span>: <span style=\"color: #008080; text-decoration-color: #008080; font-weight: bold\">-9.881522178649902</span>, <span style=\"color: #7f7f7f; text-decoration-color: #7f7f7f\">                 </span>\n",
       "<span style=\"color: #7fbfbf; text-decoration-color: #7fbfbf\">                    </span>         <span style=\"color: #008000; text-decoration-color: #008000\">'confidence_target'</span>: <span style=\"color: #800080; text-decoration-color: #800080; font-weight: bold\">np.float64</span><span style=\"font-weight: bold\">(</span><span style=\"color: #008080; text-decoration-color: #008080; font-weight: bold\">0.9997385232067433</span><span style=\"font-weight: bold\">)</span>,                 <span style=\"color: #7f7f7f; text-decoration-color: #7f7f7f\">                 </span>\n",
       "<span style=\"color: #7fbfbf; text-decoration-color: #7fbfbf\">                    </span>         <span style=\"color: #008000; text-decoration-color: #008000\">'confidence_non_target'</span>: <span style=\"color: #800080; text-decoration-color: #800080; font-weight: bold\">np.float64</span><span style=\"font-weight: bold\">(</span><span style=\"color: #008080; text-decoration-color: #008080; font-weight: bold\">5.1110419437683184e-05</span><span style=\"font-weight: bold\">)</span>,         <span style=\"color: #7f7f7f; text-decoration-color: #7f7f7f\">                 </span>\n",
       "<span style=\"color: #7fbfbf; text-decoration-color: #7fbfbf\">                    </span>         <span style=\"color: #008000; text-decoration-color: #008000\">'margin'</span>: <span style=\"color: #800080; text-decoration-color: #800080; font-weight: bold\">np.float64</span><span style=\"font-weight: bold\">(</span><span style=\"color: #008080; text-decoration-color: #008080; font-weight: bold\">0.9996874127873056</span><span style=\"font-weight: bold\">)}</span>                            <span style=\"color: #7f7f7f; text-decoration-color: #7f7f7f\">                 </span>\n",
       "<span style=\"color: #7fbfbf; text-decoration-color: #7fbfbf\">                    </span>                                                                              <span style=\"color: #7f7f7f; text-decoration-color: #7f7f7f\">                 </span>\n",
       "</pre>\n"
      ]
     },
     "metadata": {},
     "output_type": "display_data"
    },
    {
     "data": {
      "text/plain": [
       "\u001B[2;36m[04/01/25 12:56:29]\u001B[0m\u001B[2;36m \u001B[0m\u001B[34mINFO    \u001B[0m                                                                     \u001B]8;id=742046;file://E:\\Masterarbeit\\ProjectCombined\\rgnn_at_scale\\attacks\\local_prbcd.py\u001B\\\u001B[2mlocal_prbcd.py\u001B[0m\u001B]8;;\u001B\\\u001B[2m:\u001B[0m\u001B]8;id=92948;file://E:\\Masterarbeit\\ProjectCombined\\rgnn_at_scale\\attacks\\local_prbcd.py#118\u001B\\\u001B[2m118\u001B[0m\u001B]8;;\u001B\\\n",
       "\u001B[2;36m                    \u001B[0m         Epoch: \u001B[1;36m0\u001B[0m Loss: \u001B[1;36m-9.881260871887207\u001B[0m Statstics: \u001B[1m{\u001B[0m\u001B[32m'logit_target'\u001B[0m:       \u001B[2m                  \u001B[0m\n",
       "\u001B[2;36m                    \u001B[0m         \u001B[1;36m-0.0002615109842736274\u001B[0m, \u001B[32m'logit_best_non_target'\u001B[0m:                    \u001B[2m                  \u001B[0m\n",
       "\u001B[2;36m                    \u001B[0m         \u001B[1;36m-9.881522178649902\u001B[0m, \u001B[32m'confidence_target'\u001B[0m:                            \u001B[2m                  \u001B[0m\n",
       "\u001B[2;36m                    \u001B[0m         \u001B[1;35mnp.float64\u001B[0m\u001B[1m(\u001B[0m\u001B[1;36m0.9997385232067433\u001B[0m\u001B[1m)\u001B[0m, \u001B[32m'confidence_non_target'\u001B[0m:            \u001B[2m                  \u001B[0m\n",
       "\u001B[2;36m                    \u001B[0m         \u001B[1;35mnp.float64\u001B[0m\u001B[1m(\u001B[0m\u001B[1;36m5.1110419437683184e-05\u001B[0m\u001B[1m)\u001B[0m, \u001B[32m'margin'\u001B[0m:                       \u001B[2m                  \u001B[0m\n",
       "\u001B[2;36m                    \u001B[0m         \u001B[1;35mnp.float64\u001B[0m\u001B[1m(\u001B[0m\u001B[1;36m0.9996874127873056\u001B[0m\u001B[1m)\u001B[0m\u001B[1m}\u001B[0m                                     \u001B[2m                  \u001B[0m\n",
       "\u001B[2;36m                    \u001B[0m                                                                             \u001B[2m                  \u001B[0m\n"
      ],
      "text/html": [
       "<pre style=\"white-space:pre;overflow-x:auto;line-height:normal;font-family:Menlo,'DejaVu Sans Mono',consolas,'Courier New',monospace\"><span style=\"color: #7fbfbf; text-decoration-color: #7fbfbf\">[04/01/25 12:56:29] </span><span style=\"color: #000080; text-decoration-color: #000080\">INFO    </span>                                                                     <a href=\"file://E:\\Masterarbeit\\ProjectCombined\\rgnn_at_scale\\attacks\\local_prbcd.py\" target=\"_blank\"><span style=\"color: #7f7f7f; text-decoration-color: #7f7f7f\">local_prbcd.py</span></a><span style=\"color: #7f7f7f; text-decoration-color: #7f7f7f\">:</span><a href=\"file://E:\\Masterarbeit\\ProjectCombined\\rgnn_at_scale\\attacks\\local_prbcd.py#118\" target=\"_blank\"><span style=\"color: #7f7f7f; text-decoration-color: #7f7f7f\">118</span></a>\n",
       "<span style=\"color: #7fbfbf; text-decoration-color: #7fbfbf\">                    </span>         Epoch: <span style=\"color: #008080; text-decoration-color: #008080; font-weight: bold\">0</span> Loss: <span style=\"color: #008080; text-decoration-color: #008080; font-weight: bold\">-9.881260871887207</span> Statstics: <span style=\"font-weight: bold\">{</span><span style=\"color: #008000; text-decoration-color: #008000\">'logit_target'</span>:       <span style=\"color: #7f7f7f; text-decoration-color: #7f7f7f\">                  </span>\n",
       "<span style=\"color: #7fbfbf; text-decoration-color: #7fbfbf\">                    </span>         <span style=\"color: #008080; text-decoration-color: #008080; font-weight: bold\">-0.0002615109842736274</span>, <span style=\"color: #008000; text-decoration-color: #008000\">'logit_best_non_target'</span>:                    <span style=\"color: #7f7f7f; text-decoration-color: #7f7f7f\">                  </span>\n",
       "<span style=\"color: #7fbfbf; text-decoration-color: #7fbfbf\">                    </span>         <span style=\"color: #008080; text-decoration-color: #008080; font-weight: bold\">-9.881522178649902</span>, <span style=\"color: #008000; text-decoration-color: #008000\">'confidence_target'</span>:                            <span style=\"color: #7f7f7f; text-decoration-color: #7f7f7f\">                  </span>\n",
       "<span style=\"color: #7fbfbf; text-decoration-color: #7fbfbf\">                    </span>         <span style=\"color: #800080; text-decoration-color: #800080; font-weight: bold\">np.float64</span><span style=\"font-weight: bold\">(</span><span style=\"color: #008080; text-decoration-color: #008080; font-weight: bold\">0.9997385232067433</span><span style=\"font-weight: bold\">)</span>, <span style=\"color: #008000; text-decoration-color: #008000\">'confidence_non_target'</span>:            <span style=\"color: #7f7f7f; text-decoration-color: #7f7f7f\">                  </span>\n",
       "<span style=\"color: #7fbfbf; text-decoration-color: #7fbfbf\">                    </span>         <span style=\"color: #800080; text-decoration-color: #800080; font-weight: bold\">np.float64</span><span style=\"font-weight: bold\">(</span><span style=\"color: #008080; text-decoration-color: #008080; font-weight: bold\">5.1110419437683184e-05</span><span style=\"font-weight: bold\">)</span>, <span style=\"color: #008000; text-decoration-color: #008000\">'margin'</span>:                       <span style=\"color: #7f7f7f; text-decoration-color: #7f7f7f\">                  </span>\n",
       "<span style=\"color: #7fbfbf; text-decoration-color: #7fbfbf\">                    </span>         <span style=\"color: #800080; text-decoration-color: #800080; font-weight: bold\">np.float64</span><span style=\"font-weight: bold\">(</span><span style=\"color: #008080; text-decoration-color: #008080; font-weight: bold\">0.9996874127873056</span><span style=\"font-weight: bold\">)}</span>                                     <span style=\"color: #7f7f7f; text-decoration-color: #7f7f7f\">                  </span>\n",
       "<span style=\"color: #7fbfbf; text-decoration-color: #7fbfbf\">                    </span>                                                                             <span style=\"color: #7f7f7f; text-decoration-color: #7f7f7f\">                  </span>\n",
       "</pre>\n"
      ]
     },
     "metadata": {},
     "output_type": "display_data"
    },
    {
     "data": {
      "text/plain": [
       "\u001B[2;36m                   \u001B[0m\u001B[2;36m \u001B[0m\u001B[34mINFO    \u001B[0m Gradient mean \u001B[1;36m0.430370032787323\u001B[0m std \u001B[1;36m0.4110572040081024\u001B[0m with base    \u001B]8;id=581499;file://E:\\Masterarbeit\\ProjectCombined\\rgnn_at_scale\\attacks\\local_prbcd.py\u001B\\\u001B[2mlocal_prbcd.py\u001B[0m\u001B]8;;\u001B\\\u001B[2m:\u001B[0m\u001B]8;id=44410;file://E:\\Masterarbeit\\ProjectCombined\\rgnn_at_scale\\attacks\\local_prbcd.py#119\u001B\\\u001B[2m119\u001B[0m\u001B]8;;\u001B\\\n",
       "\u001B[2;36m                    \u001B[0m         learning rate \u001B[1;36m0.5300943312279429\u001B[0m                                    \u001B[2m                  \u001B[0m\n"
      ],
      "text/html": [
       "<pre style=\"white-space:pre;overflow-x:auto;line-height:normal;font-family:Menlo,'DejaVu Sans Mono',consolas,'Courier New',monospace\"><span style=\"color: #7fbfbf; text-decoration-color: #7fbfbf\">                    </span><span style=\"color: #000080; text-decoration-color: #000080\">INFO    </span> Gradient mean <span style=\"color: #008080; text-decoration-color: #008080; font-weight: bold\">0.430370032787323</span> std <span style=\"color: #008080; text-decoration-color: #008080; font-weight: bold\">0.4110572040081024</span> with base    <a href=\"file://E:\\Masterarbeit\\ProjectCombined\\rgnn_at_scale\\attacks\\local_prbcd.py\" target=\"_blank\"><span style=\"color: #7f7f7f; text-decoration-color: #7f7f7f\">local_prbcd.py</span></a><span style=\"color: #7f7f7f; text-decoration-color: #7f7f7f\">:</span><a href=\"file://E:\\Masterarbeit\\ProjectCombined\\rgnn_at_scale\\attacks\\local_prbcd.py#119\" target=\"_blank\"><span style=\"color: #7f7f7f; text-decoration-color: #7f7f7f\">119</span></a>\n",
       "<span style=\"color: #7fbfbf; text-decoration-color: #7fbfbf\">                    </span>         learning rate <span style=\"color: #008080; text-decoration-color: #008080; font-weight: bold\">0.5300943312279429</span>                                    <span style=\"color: #7f7f7f; text-decoration-color: #7f7f7f\">                  </span>\n",
       "</pre>\n"
      ]
     },
     "metadata": {},
     "output_type": "display_data"
    },
    {
     "name": "stderr",
     "output_type": "stream",
     "text": [
      " 40%|████      | 20/50 [00:14<00:20,  1.45it/s]"
     ]
    },
    {
     "data": {
      "text/plain": [
       "\u001B[2;36m[04/01/25 12:56:43]\u001B[0m\u001B[2;36m \u001B[0m\u001B[34mINFO    \u001B[0m                                                                     \u001B]8;id=415982;file://E:\\Masterarbeit\\ProjectCombined\\rgnn_at_scale\\attacks\\local_prbcd.py\u001B\\\u001B[2mlocal_prbcd.py\u001B[0m\u001B]8;;\u001B\\\u001B[2m:\u001B[0m\u001B]8;id=554377;file://E:\\Masterarbeit\\ProjectCombined\\rgnn_at_scale\\attacks\\local_prbcd.py#118\u001B\\\u001B[2m118\u001B[0m\u001B]8;;\u001B\\\n",
       "\u001B[2;36m                    \u001B[0m         Epoch: \u001B[1;36m20\u001B[0m Loss: \u001B[1;36m-9.881260871887207\u001B[0m Statstics: \u001B[1m{\u001B[0m\u001B[32m'logit_target'\u001B[0m:      \u001B[2m                  \u001B[0m\n",
       "\u001B[2;36m                    \u001B[0m         \u001B[1;36m-0.0002615109842736274\u001B[0m, \u001B[32m'logit_best_non_target'\u001B[0m:                    \u001B[2m                  \u001B[0m\n",
       "\u001B[2;36m                    \u001B[0m         \u001B[1;36m-9.881522178649902\u001B[0m, \u001B[32m'confidence_target'\u001B[0m:                            \u001B[2m                  \u001B[0m\n",
       "\u001B[2;36m                    \u001B[0m         \u001B[1;35mnp.float64\u001B[0m\u001B[1m(\u001B[0m\u001B[1;36m0.9997385232067433\u001B[0m\u001B[1m)\u001B[0m, \u001B[32m'confidence_non_target'\u001B[0m:            \u001B[2m                  \u001B[0m\n",
       "\u001B[2;36m                    \u001B[0m         \u001B[1;35mnp.float64\u001B[0m\u001B[1m(\u001B[0m\u001B[1;36m5.1110419437683184e-05\u001B[0m\u001B[1m)\u001B[0m, \u001B[32m'margin'\u001B[0m:                       \u001B[2m                  \u001B[0m\n",
       "\u001B[2;36m                    \u001B[0m         \u001B[1;35mnp.float64\u001B[0m\u001B[1m(\u001B[0m\u001B[1;36m0.9996874127873056\u001B[0m\u001B[1m)\u001B[0m\u001B[1m}\u001B[0m                                     \u001B[2m                  \u001B[0m\n",
       "\u001B[2;36m                    \u001B[0m                                                                             \u001B[2m                  \u001B[0m\n"
      ],
      "text/html": [
       "<pre style=\"white-space:pre;overflow-x:auto;line-height:normal;font-family:Menlo,'DejaVu Sans Mono',consolas,'Courier New',monospace\"><span style=\"color: #7fbfbf; text-decoration-color: #7fbfbf\">[04/01/25 12:56:43] </span><span style=\"color: #000080; text-decoration-color: #000080\">INFO    </span>                                                                     <a href=\"file://E:\\Masterarbeit\\ProjectCombined\\rgnn_at_scale\\attacks\\local_prbcd.py\" target=\"_blank\"><span style=\"color: #7f7f7f; text-decoration-color: #7f7f7f\">local_prbcd.py</span></a><span style=\"color: #7f7f7f; text-decoration-color: #7f7f7f\">:</span><a href=\"file://E:\\Masterarbeit\\ProjectCombined\\rgnn_at_scale\\attacks\\local_prbcd.py#118\" target=\"_blank\"><span style=\"color: #7f7f7f; text-decoration-color: #7f7f7f\">118</span></a>\n",
       "<span style=\"color: #7fbfbf; text-decoration-color: #7fbfbf\">                    </span>         Epoch: <span style=\"color: #008080; text-decoration-color: #008080; font-weight: bold\">20</span> Loss: <span style=\"color: #008080; text-decoration-color: #008080; font-weight: bold\">-9.881260871887207</span> Statstics: <span style=\"font-weight: bold\">{</span><span style=\"color: #008000; text-decoration-color: #008000\">'logit_target'</span>:      <span style=\"color: #7f7f7f; text-decoration-color: #7f7f7f\">                  </span>\n",
       "<span style=\"color: #7fbfbf; text-decoration-color: #7fbfbf\">                    </span>         <span style=\"color: #008080; text-decoration-color: #008080; font-weight: bold\">-0.0002615109842736274</span>, <span style=\"color: #008000; text-decoration-color: #008000\">'logit_best_non_target'</span>:                    <span style=\"color: #7f7f7f; text-decoration-color: #7f7f7f\">                  </span>\n",
       "<span style=\"color: #7fbfbf; text-decoration-color: #7fbfbf\">                    </span>         <span style=\"color: #008080; text-decoration-color: #008080; font-weight: bold\">-9.881522178649902</span>, <span style=\"color: #008000; text-decoration-color: #008000\">'confidence_target'</span>:                            <span style=\"color: #7f7f7f; text-decoration-color: #7f7f7f\">                  </span>\n",
       "<span style=\"color: #7fbfbf; text-decoration-color: #7fbfbf\">                    </span>         <span style=\"color: #800080; text-decoration-color: #800080; font-weight: bold\">np.float64</span><span style=\"font-weight: bold\">(</span><span style=\"color: #008080; text-decoration-color: #008080; font-weight: bold\">0.9997385232067433</span><span style=\"font-weight: bold\">)</span>, <span style=\"color: #008000; text-decoration-color: #008000\">'confidence_non_target'</span>:            <span style=\"color: #7f7f7f; text-decoration-color: #7f7f7f\">                  </span>\n",
       "<span style=\"color: #7fbfbf; text-decoration-color: #7fbfbf\">                    </span>         <span style=\"color: #800080; text-decoration-color: #800080; font-weight: bold\">np.float64</span><span style=\"font-weight: bold\">(</span><span style=\"color: #008080; text-decoration-color: #008080; font-weight: bold\">5.1110419437683184e-05</span><span style=\"font-weight: bold\">)</span>, <span style=\"color: #008000; text-decoration-color: #008000\">'margin'</span>:                       <span style=\"color: #7f7f7f; text-decoration-color: #7f7f7f\">                  </span>\n",
       "<span style=\"color: #7fbfbf; text-decoration-color: #7fbfbf\">                    </span>         <span style=\"color: #800080; text-decoration-color: #800080; font-weight: bold\">np.float64</span><span style=\"font-weight: bold\">(</span><span style=\"color: #008080; text-decoration-color: #008080; font-weight: bold\">0.9996874127873056</span><span style=\"font-weight: bold\">)}</span>                                     <span style=\"color: #7f7f7f; text-decoration-color: #7f7f7f\">                  </span>\n",
       "<span style=\"color: #7fbfbf; text-decoration-color: #7fbfbf\">                    </span>                                                                             <span style=\"color: #7f7f7f; text-decoration-color: #7f7f7f\">                  </span>\n",
       "</pre>\n"
      ]
     },
     "metadata": {},
     "output_type": "display_data"
    },
    {
     "data": {
      "text/plain": [
       "\u001B[2;36m                   \u001B[0m\u001B[2;36m \u001B[0m\u001B[34mINFO    \u001B[0m Gradient mean \u001B[1;36m0.430370032787323\u001B[0m std \u001B[1;36m0.4110572040081024\u001B[0m with base    \u001B]8;id=770579;file://E:\\Masterarbeit\\ProjectCombined\\rgnn_at_scale\\attacks\\local_prbcd.py\u001B\\\u001B[2mlocal_prbcd.py\u001B[0m\u001B]8;;\u001B\\\u001B[2m:\u001B[0m\u001B]8;id=77259;file://E:\\Masterarbeit\\ProjectCombined\\rgnn_at_scale\\attacks\\local_prbcd.py#119\u001B\\\u001B[2m119\u001B[0m\u001B]8;;\u001B\\\n",
       "\u001B[2;36m                    \u001B[0m         learning rate \u001B[1;36m0.5300943312279429\u001B[0m                                    \u001B[2m                  \u001B[0m\n"
      ],
      "text/html": [
       "<pre style=\"white-space:pre;overflow-x:auto;line-height:normal;font-family:Menlo,'DejaVu Sans Mono',consolas,'Courier New',monospace\"><span style=\"color: #7fbfbf; text-decoration-color: #7fbfbf\">                    </span><span style=\"color: #000080; text-decoration-color: #000080\">INFO    </span> Gradient mean <span style=\"color: #008080; text-decoration-color: #008080; font-weight: bold\">0.430370032787323</span> std <span style=\"color: #008080; text-decoration-color: #008080; font-weight: bold\">0.4110572040081024</span> with base    <a href=\"file://E:\\Masterarbeit\\ProjectCombined\\rgnn_at_scale\\attacks\\local_prbcd.py\" target=\"_blank\"><span style=\"color: #7f7f7f; text-decoration-color: #7f7f7f\">local_prbcd.py</span></a><span style=\"color: #7f7f7f; text-decoration-color: #7f7f7f\">:</span><a href=\"file://E:\\Masterarbeit\\ProjectCombined\\rgnn_at_scale\\attacks\\local_prbcd.py#119\" target=\"_blank\"><span style=\"color: #7f7f7f; text-decoration-color: #7f7f7f\">119</span></a>\n",
       "<span style=\"color: #7fbfbf; text-decoration-color: #7fbfbf\">                    </span>         learning rate <span style=\"color: #008080; text-decoration-color: #008080; font-weight: bold\">0.5300943312279429</span>                                    <span style=\"color: #7f7f7f; text-decoration-color: #7f7f7f\">                  </span>\n",
       "</pre>\n"
      ]
     },
     "metadata": {},
     "output_type": "display_data"
    },
    {
     "name": "stderr",
     "output_type": "stream",
     "text": [
      " 80%|████████  | 40/50 [00:27<00:06,  1.47it/s]"
     ]
    },
    {
     "data": {
      "text/plain": [
       "\u001B[2;36m[04/01/25 12:56:56]\u001B[0m\u001B[2;36m \u001B[0m\u001B[34mINFO    \u001B[0m                                                                     \u001B]8;id=960859;file://E:\\Masterarbeit\\ProjectCombined\\rgnn_at_scale\\attacks\\local_prbcd.py\u001B\\\u001B[2mlocal_prbcd.py\u001B[0m\u001B]8;;\u001B\\\u001B[2m:\u001B[0m\u001B]8;id=759786;file://E:\\Masterarbeit\\ProjectCombined\\rgnn_at_scale\\attacks\\local_prbcd.py#118\u001B\\\u001B[2m118\u001B[0m\u001B]8;;\u001B\\\n",
       "\u001B[2;36m                    \u001B[0m         Epoch: \u001B[1;36m40\u001B[0m Loss: \u001B[1;36m-9.881260871887207\u001B[0m Statstics: \u001B[1m{\u001B[0m\u001B[32m'logit_target'\u001B[0m:      \u001B[2m                  \u001B[0m\n",
       "\u001B[2;36m                    \u001B[0m         \u001B[1;36m-0.0002615109842736274\u001B[0m, \u001B[32m'logit_best_non_target'\u001B[0m:                    \u001B[2m                  \u001B[0m\n",
       "\u001B[2;36m                    \u001B[0m         \u001B[1;36m-9.881522178649902\u001B[0m, \u001B[32m'confidence_target'\u001B[0m:                            \u001B[2m                  \u001B[0m\n",
       "\u001B[2;36m                    \u001B[0m         \u001B[1;35mnp.float64\u001B[0m\u001B[1m(\u001B[0m\u001B[1;36m0.9997385232067433\u001B[0m\u001B[1m)\u001B[0m, \u001B[32m'confidence_non_target'\u001B[0m:            \u001B[2m                  \u001B[0m\n",
       "\u001B[2;36m                    \u001B[0m         \u001B[1;35mnp.float64\u001B[0m\u001B[1m(\u001B[0m\u001B[1;36m5.1110419437683184e-05\u001B[0m\u001B[1m)\u001B[0m, \u001B[32m'margin'\u001B[0m:                       \u001B[2m                  \u001B[0m\n",
       "\u001B[2;36m                    \u001B[0m         \u001B[1;35mnp.float64\u001B[0m\u001B[1m(\u001B[0m\u001B[1;36m0.9996874127873056\u001B[0m\u001B[1m)\u001B[0m\u001B[1m}\u001B[0m                                     \u001B[2m                  \u001B[0m\n",
       "\u001B[2;36m                    \u001B[0m                                                                             \u001B[2m                  \u001B[0m\n"
      ],
      "text/html": [
       "<pre style=\"white-space:pre;overflow-x:auto;line-height:normal;font-family:Menlo,'DejaVu Sans Mono',consolas,'Courier New',monospace\"><span style=\"color: #7fbfbf; text-decoration-color: #7fbfbf\">[04/01/25 12:56:56] </span><span style=\"color: #000080; text-decoration-color: #000080\">INFO    </span>                                                                     <a href=\"file://E:\\Masterarbeit\\ProjectCombined\\rgnn_at_scale\\attacks\\local_prbcd.py\" target=\"_blank\"><span style=\"color: #7f7f7f; text-decoration-color: #7f7f7f\">local_prbcd.py</span></a><span style=\"color: #7f7f7f; text-decoration-color: #7f7f7f\">:</span><a href=\"file://E:\\Masterarbeit\\ProjectCombined\\rgnn_at_scale\\attacks\\local_prbcd.py#118\" target=\"_blank\"><span style=\"color: #7f7f7f; text-decoration-color: #7f7f7f\">118</span></a>\n",
       "<span style=\"color: #7fbfbf; text-decoration-color: #7fbfbf\">                    </span>         Epoch: <span style=\"color: #008080; text-decoration-color: #008080; font-weight: bold\">40</span> Loss: <span style=\"color: #008080; text-decoration-color: #008080; font-weight: bold\">-9.881260871887207</span> Statstics: <span style=\"font-weight: bold\">{</span><span style=\"color: #008000; text-decoration-color: #008000\">'logit_target'</span>:      <span style=\"color: #7f7f7f; text-decoration-color: #7f7f7f\">                  </span>\n",
       "<span style=\"color: #7fbfbf; text-decoration-color: #7fbfbf\">                    </span>         <span style=\"color: #008080; text-decoration-color: #008080; font-weight: bold\">-0.0002615109842736274</span>, <span style=\"color: #008000; text-decoration-color: #008000\">'logit_best_non_target'</span>:                    <span style=\"color: #7f7f7f; text-decoration-color: #7f7f7f\">                  </span>\n",
       "<span style=\"color: #7fbfbf; text-decoration-color: #7fbfbf\">                    </span>         <span style=\"color: #008080; text-decoration-color: #008080; font-weight: bold\">-9.881522178649902</span>, <span style=\"color: #008000; text-decoration-color: #008000\">'confidence_target'</span>:                            <span style=\"color: #7f7f7f; text-decoration-color: #7f7f7f\">                  </span>\n",
       "<span style=\"color: #7fbfbf; text-decoration-color: #7fbfbf\">                    </span>         <span style=\"color: #800080; text-decoration-color: #800080; font-weight: bold\">np.float64</span><span style=\"font-weight: bold\">(</span><span style=\"color: #008080; text-decoration-color: #008080; font-weight: bold\">0.9997385232067433</span><span style=\"font-weight: bold\">)</span>, <span style=\"color: #008000; text-decoration-color: #008000\">'confidence_non_target'</span>:            <span style=\"color: #7f7f7f; text-decoration-color: #7f7f7f\">                  </span>\n",
       "<span style=\"color: #7fbfbf; text-decoration-color: #7fbfbf\">                    </span>         <span style=\"color: #800080; text-decoration-color: #800080; font-weight: bold\">np.float64</span><span style=\"font-weight: bold\">(</span><span style=\"color: #008080; text-decoration-color: #008080; font-weight: bold\">5.1110419437683184e-05</span><span style=\"font-weight: bold\">)</span>, <span style=\"color: #008000; text-decoration-color: #008000\">'margin'</span>:                       <span style=\"color: #7f7f7f; text-decoration-color: #7f7f7f\">                  </span>\n",
       "<span style=\"color: #7fbfbf; text-decoration-color: #7fbfbf\">                    </span>         <span style=\"color: #800080; text-decoration-color: #800080; font-weight: bold\">np.float64</span><span style=\"font-weight: bold\">(</span><span style=\"color: #008080; text-decoration-color: #008080; font-weight: bold\">0.9996874127873056</span><span style=\"font-weight: bold\">)}</span>                                     <span style=\"color: #7f7f7f; text-decoration-color: #7f7f7f\">                  </span>\n",
       "<span style=\"color: #7fbfbf; text-decoration-color: #7fbfbf\">                    </span>                                                                             <span style=\"color: #7f7f7f; text-decoration-color: #7f7f7f\">                  </span>\n",
       "</pre>\n"
      ]
     },
     "metadata": {},
     "output_type": "display_data"
    },
    {
     "data": {
      "text/plain": [
       "\u001B[2;36m                   \u001B[0m\u001B[2;36m \u001B[0m\u001B[34mINFO    \u001B[0m Gradient mean \u001B[1;36m0.430370032787323\u001B[0m std \u001B[1;36m0.4110572040081024\u001B[0m with base    \u001B]8;id=164191;file://E:\\Masterarbeit\\ProjectCombined\\rgnn_at_scale\\attacks\\local_prbcd.py\u001B\\\u001B[2mlocal_prbcd.py\u001B[0m\u001B]8;;\u001B\\\u001B[2m:\u001B[0m\u001B]8;id=688831;file://E:\\Masterarbeit\\ProjectCombined\\rgnn_at_scale\\attacks\\local_prbcd.py#119\u001B\\\u001B[2m119\u001B[0m\u001B]8;;\u001B\\\n",
       "\u001B[2;36m                    \u001B[0m         learning rate \u001B[1;36m0.5300943312279429\u001B[0m                                    \u001B[2m                  \u001B[0m\n"
      ],
      "text/html": [
       "<pre style=\"white-space:pre;overflow-x:auto;line-height:normal;font-family:Menlo,'DejaVu Sans Mono',consolas,'Courier New',monospace\"><span style=\"color: #7fbfbf; text-decoration-color: #7fbfbf\">                    </span><span style=\"color: #000080; text-decoration-color: #000080\">INFO    </span> Gradient mean <span style=\"color: #008080; text-decoration-color: #008080; font-weight: bold\">0.430370032787323</span> std <span style=\"color: #008080; text-decoration-color: #008080; font-weight: bold\">0.4110572040081024</span> with base    <a href=\"file://E:\\Masterarbeit\\ProjectCombined\\rgnn_at_scale\\attacks\\local_prbcd.py\" target=\"_blank\"><span style=\"color: #7f7f7f; text-decoration-color: #7f7f7f\">local_prbcd.py</span></a><span style=\"color: #7f7f7f; text-decoration-color: #7f7f7f\">:</span><a href=\"file://E:\\Masterarbeit\\ProjectCombined\\rgnn_at_scale\\attacks\\local_prbcd.py#119\" target=\"_blank\"><span style=\"color: #7f7f7f; text-decoration-color: #7f7f7f\">119</span></a>\n",
       "<span style=\"color: #7fbfbf; text-decoration-color: #7fbfbf\">                    </span>         learning rate <span style=\"color: #008080; text-decoration-color: #008080; font-weight: bold\">0.5300943312279429</span>                                    <span style=\"color: #7f7f7f; text-decoration-color: #7f7f7f\">                  </span>\n",
       "</pre>\n"
      ]
     },
     "metadata": {},
     "output_type": "display_data"
    },
    {
     "name": "stderr",
     "output_type": "stream",
     "text": [
      "100%|██████████| 50/50 [00:34<00:00,  1.43it/s]\n"
     ]
    },
    {
     "data": {
      "text/plain": [
       "\u001B[2;36m[04/01/25 12:57:03]\u001B[0m\u001B[2;36m \u001B[0m\u001B[34mINFO    \u001B[0m Evaluated model Vanilla GCN using LocalPRBCD     \u001B]8;id=252143;file://E:\\Masterarbeit\\ProjectCombined\\experiments\\experiment_local_attack_direct.py\u001B\\\u001B[2mexperiment_local_attack_direct.py\u001B[0m\u001B]8;;\u001B\\\u001B[2m:\u001B[0m\u001B]8;id=402697;file://E:\\Masterarbeit\\ProjectCombined\\experiments\\experiment_local_attack_direct.py#194\u001B\\\u001B[2m194\u001B[0m\u001B]8;;\u001B\\\n",
       "\u001B[2;36m                    \u001B[0m         with pert. edges for node \u001B[1;36m475\u001B[0m and budget \u001B[1;36m2\u001B[0m:      \u001B[2m                                     \u001B[0m\n"
      ],
      "text/html": [
       "<pre style=\"white-space:pre;overflow-x:auto;line-height:normal;font-family:Menlo,'DejaVu Sans Mono',consolas,'Courier New',monospace\"><span style=\"color: #7fbfbf; text-decoration-color: #7fbfbf\">[04/01/25 12:57:03] </span><span style=\"color: #000080; text-decoration-color: #000080\">INFO    </span> Evaluated model Vanilla GCN using LocalPRBCD     <a href=\"file://E:\\Masterarbeit\\ProjectCombined\\experiments\\experiment_local_attack_direct.py\" target=\"_blank\"><span style=\"color: #7f7f7f; text-decoration-color: #7f7f7f\">experiment_local_attack_direct.py</span></a><span style=\"color: #7f7f7f; text-decoration-color: #7f7f7f\">:</span><a href=\"file://E:\\Masterarbeit\\ProjectCombined\\experiments\\experiment_local_attack_direct.py#194\" target=\"_blank\"><span style=\"color: #7f7f7f; text-decoration-color: #7f7f7f\">194</span></a>\n",
       "<span style=\"color: #7fbfbf; text-decoration-color: #7fbfbf\">                    </span>         with pert. edges for node <span style=\"color: #008080; text-decoration-color: #008080; font-weight: bold\">475</span> and budget <span style=\"color: #008080; text-decoration-color: #008080; font-weight: bold\">2</span>:      <span style=\"color: #7f7f7f; text-decoration-color: #7f7f7f\">                                     </span>\n",
       "</pre>\n"
      ]
     },
     "metadata": {},
     "output_type": "display_data"
    },
    {
     "data": {
      "text/plain": [
       "\u001B[2;36m                   \u001B[0m\u001B[2;36m \u001B[0m\u001B[34mINFO    \u001B[0m \u001B[1m{\u001B[0m\u001B[32m'label'\u001B[0m: \u001B[32m'Vanilla GCN'\u001B[0m, \u001B[32m'epsilon'\u001B[0m: \u001B[1;36m1\u001B[0m,           \u001B]8;id=658840;file://E:\\Masterarbeit\\ProjectCombined\\experiments\\experiment_local_attack_direct.py\u001B\\\u001B[2mexperiment_local_attack_direct.py\u001B[0m\u001B]8;;\u001B\\\u001B[2m:\u001B[0m\u001B]8;id=950634;file://E:\\Masterarbeit\\ProjectCombined\\experiments\\experiment_local_attack_direct.py#215\u001B\\\u001B[2m215\u001B[0m\u001B]8;;\u001B\\\n",
       "\u001B[2;36m                    \u001B[0m         \u001B[32m'n_perturbations'\u001B[0m: \u001B[1;36m2\u001B[0m, \u001B[32m'degree'\u001B[0m: \u001B[1;36m2\u001B[0m, \u001B[32m'logits'\u001B[0m:     \u001B[2m                                     \u001B[0m\n",
       "\u001B[2;36m                    \u001B[0m         \u001B[1m[\u001B[0m\u001B[1m[\u001B[0m\u001B[1;36m-1.3916124105453491\u001B[0m, \u001B[1;36m-1.4649813175201416\u001B[0m,      \u001B[2m                                     \u001B[0m\n",
       "\u001B[2;36m                    \u001B[0m         \u001B[1;36m3.196052312850952\u001B[0m, \u001B[1;36m0.07975733280181885\u001B[0m,          \u001B[2m                                     \u001B[0m\n",
       "\u001B[2;36m                    \u001B[0m         \u001B[1;36m0.2694832980632782\u001B[0m, \u001B[1;36m-1.5252845287322998\u001B[0m,         \u001B[2m                                     \u001B[0m\n",
       "\u001B[2;36m                    \u001B[0m         \u001B[1;36m0.6296548843383789\u001B[0m\u001B[1m]\u001B[0m\u001B[1m]\u001B[0m, \u001B[32m'initial_logits'\u001B[0m:          \u001B[2m                                     \u001B[0m\n",
       "\u001B[2;36m                    \u001B[0m         \u001B[1m[\u001B[0m\u001B[1m[\u001B[0m\u001B[1;36m-1.2917386293411255\u001B[0m, \u001B[1;36m-2.2045154571533203\u001B[0m,      \u001B[2m                                     \u001B[0m\n",
       "\u001B[2;36m                    \u001B[0m         \u001B[1;36m8.618408203125\u001B[0m, \u001B[1;36m-1.396083116531372\u001B[0m,              \u001B[2m                                     \u001B[0m\n",
       "\u001B[2;36m                    \u001B[0m         \u001B[1;36m-1.2628530263900757\u001B[0m, \u001B[1;36m-1.275286078453064\u001B[0m,         \u001B[2m                                     \u001B[0m\n",
       "\u001B[2;36m                    \u001B[0m         \u001B[1;36m-1.3779186010360718\u001B[0m\u001B[1m]\u001B[0m\u001B[1m]\u001B[0m, \u001B[32m'larget'\u001B[0m: \u001B[1;36m2\u001B[0m, \u001B[32m'node_id'\u001B[0m:   \u001B[2m                                     \u001B[0m\n",
       "\u001B[2;36m                    \u001B[0m         \u001B[1;36m475\u001B[0m, \u001B[32m'perturbed_edges'\u001B[0m: \u001B[1m[\u001B[0m\u001B[1m[\u001B[0m\u001B[1;36m475\u001B[0m, \u001B[1;36m475\u001B[0m\u001B[1m]\u001B[0m, \u001B[1m[\u001B[0m\u001B[1;36m12\u001B[0m, \u001B[1;36m60\u001B[0m\u001B[1m]\u001B[0m\u001B[1m]\u001B[0m,  \u001B[2m                                     \u001B[0m\n",
       "\u001B[2;36m                    \u001B[0m         \u001B[32m'logit_target'\u001B[0m: \u001B[1;36m-0.1850261688232422\u001B[0m,             \u001B[2m                                     \u001B[0m\n",
       "\u001B[2;36m                    \u001B[0m         \u001B[32m'logit_best_non_target'\u001B[0m: \u001B[1;36m-2.7514235973358154\u001B[0m,    \u001B[2m                                     \u001B[0m\n",
       "\u001B[2;36m                    \u001B[0m         \u001B[32m'confidence_target'\u001B[0m:                             \u001B[2m                                     \u001B[0m\n",
       "\u001B[2;36m                    \u001B[0m         \u001B[1;35mnp.float64\u001B[0m\u001B[1m(\u001B[0m\u001B[1;36m0.8310825351155964\u001B[0m\u001B[1m)\u001B[0m,                  \u001B[2m                                     \u001B[0m\n",
       "\u001B[2;36m                    \u001B[0m         \u001B[32m'confidence_non_target'\u001B[0m:                         \u001B[2m                                     \u001B[0m\n",
       "\u001B[2;36m                    \u001B[0m         \u001B[1;35mnp.float64\u001B[0m\u001B[1m(\u001B[0m\u001B[1;36m0.06383691842212119\u001B[0m\u001B[1m)\u001B[0m, \u001B[32m'margin'\u001B[0m:       \u001B[2m                                     \u001B[0m\n",
       "\u001B[2;36m                    \u001B[0m         \u001B[1;35mnp.float64\u001B[0m\u001B[1m(\u001B[0m\u001B[1;36m0.7672456166934751\u001B[0m\u001B[1m)\u001B[0m,                  \u001B[2m                                     \u001B[0m\n",
       "\u001B[2;36m                    \u001B[0m         \u001B[32m'initial_logit_target'\u001B[0m: \u001B[1;36m-0.0002615109842736274\u001B[0m,  \u001B[2m                                     \u001B[0m\n",
       "\u001B[2;36m                    \u001B[0m         \u001B[32m'initial_logit_best_non_target'\u001B[0m:                 \u001B[2m                                     \u001B[0m\n",
       "\u001B[2;36m                    \u001B[0m         \u001B[1;36m-9.881522178649902\u001B[0m, \u001B[32m'initial_confidence_target'\u001B[0m: \u001B[2m                                     \u001B[0m\n",
       "\u001B[2;36m                    \u001B[0m         \u001B[1;35mnp.float64\u001B[0m\u001B[1m(\u001B[0m\u001B[1;36m0.9997385232067433\u001B[0m\u001B[1m)\u001B[0m,                  \u001B[2m                                     \u001B[0m\n",
       "\u001B[2;36m                    \u001B[0m         \u001B[32m'initial_confidence_non_target'\u001B[0m:                 \u001B[2m                                     \u001B[0m\n",
       "\u001B[2;36m                    \u001B[0m         \u001B[1;35mnp.float64\u001B[0m\u001B[1m(\u001B[0m\u001B[1;36m5.1110419437683184e-05\u001B[0m\u001B[1m)\u001B[0m,              \u001B[2m                                     \u001B[0m\n",
       "\u001B[2;36m                    \u001B[0m         \u001B[32m'initial_margin'\u001B[0m:                                \u001B[2m                                     \u001B[0m\n",
       "\u001B[2;36m                    \u001B[0m         \u001B[1;35mnp.float64\u001B[0m\u001B[1m(\u001B[0m\u001B[1;36m0.9996874127873056\u001B[0m\u001B[1m)\u001B[0m\u001B[1m}\u001B[0m                  \u001B[2m                                     \u001B[0m\n"
      ],
      "text/html": [
       "<pre style=\"white-space:pre;overflow-x:auto;line-height:normal;font-family:Menlo,'DejaVu Sans Mono',consolas,'Courier New',monospace\"><span style=\"color: #7fbfbf; text-decoration-color: #7fbfbf\">                    </span><span style=\"color: #000080; text-decoration-color: #000080\">INFO    </span> <span style=\"font-weight: bold\">{</span><span style=\"color: #008000; text-decoration-color: #008000\">'label'</span>: <span style=\"color: #008000; text-decoration-color: #008000\">'Vanilla GCN'</span>, <span style=\"color: #008000; text-decoration-color: #008000\">'epsilon'</span>: <span style=\"color: #008080; text-decoration-color: #008080; font-weight: bold\">1</span>,           <a href=\"file://E:\\Masterarbeit\\ProjectCombined\\experiments\\experiment_local_attack_direct.py\" target=\"_blank\"><span style=\"color: #7f7f7f; text-decoration-color: #7f7f7f\">experiment_local_attack_direct.py</span></a><span style=\"color: #7f7f7f; text-decoration-color: #7f7f7f\">:</span><a href=\"file://E:\\Masterarbeit\\ProjectCombined\\experiments\\experiment_local_attack_direct.py#215\" target=\"_blank\"><span style=\"color: #7f7f7f; text-decoration-color: #7f7f7f\">215</span></a>\n",
       "<span style=\"color: #7fbfbf; text-decoration-color: #7fbfbf\">                    </span>         <span style=\"color: #008000; text-decoration-color: #008000\">'n_perturbations'</span>: <span style=\"color: #008080; text-decoration-color: #008080; font-weight: bold\">2</span>, <span style=\"color: #008000; text-decoration-color: #008000\">'degree'</span>: <span style=\"color: #008080; text-decoration-color: #008080; font-weight: bold\">2</span>, <span style=\"color: #008000; text-decoration-color: #008000\">'logits'</span>:     <span style=\"color: #7f7f7f; text-decoration-color: #7f7f7f\">                                     </span>\n",
       "<span style=\"color: #7fbfbf; text-decoration-color: #7fbfbf\">                    </span>         <span style=\"font-weight: bold\">[[</span><span style=\"color: #008080; text-decoration-color: #008080; font-weight: bold\">-1.3916124105453491</span>, <span style=\"color: #008080; text-decoration-color: #008080; font-weight: bold\">-1.4649813175201416</span>,      <span style=\"color: #7f7f7f; text-decoration-color: #7f7f7f\">                                     </span>\n",
       "<span style=\"color: #7fbfbf; text-decoration-color: #7fbfbf\">                    </span>         <span style=\"color: #008080; text-decoration-color: #008080; font-weight: bold\">3.196052312850952</span>, <span style=\"color: #008080; text-decoration-color: #008080; font-weight: bold\">0.07975733280181885</span>,          <span style=\"color: #7f7f7f; text-decoration-color: #7f7f7f\">                                     </span>\n",
       "<span style=\"color: #7fbfbf; text-decoration-color: #7fbfbf\">                    </span>         <span style=\"color: #008080; text-decoration-color: #008080; font-weight: bold\">0.2694832980632782</span>, <span style=\"color: #008080; text-decoration-color: #008080; font-weight: bold\">-1.5252845287322998</span>,         <span style=\"color: #7f7f7f; text-decoration-color: #7f7f7f\">                                     </span>\n",
       "<span style=\"color: #7fbfbf; text-decoration-color: #7fbfbf\">                    </span>         <span style=\"color: #008080; text-decoration-color: #008080; font-weight: bold\">0.6296548843383789</span><span style=\"font-weight: bold\">]]</span>, <span style=\"color: #008000; text-decoration-color: #008000\">'initial_logits'</span>:          <span style=\"color: #7f7f7f; text-decoration-color: #7f7f7f\">                                     </span>\n",
       "<span style=\"color: #7fbfbf; text-decoration-color: #7fbfbf\">                    </span>         <span style=\"font-weight: bold\">[[</span><span style=\"color: #008080; text-decoration-color: #008080; font-weight: bold\">-1.2917386293411255</span>, <span style=\"color: #008080; text-decoration-color: #008080; font-weight: bold\">-2.2045154571533203</span>,      <span style=\"color: #7f7f7f; text-decoration-color: #7f7f7f\">                                     </span>\n",
       "<span style=\"color: #7fbfbf; text-decoration-color: #7fbfbf\">                    </span>         <span style=\"color: #008080; text-decoration-color: #008080; font-weight: bold\">8.618408203125</span>, <span style=\"color: #008080; text-decoration-color: #008080; font-weight: bold\">-1.396083116531372</span>,              <span style=\"color: #7f7f7f; text-decoration-color: #7f7f7f\">                                     </span>\n",
       "<span style=\"color: #7fbfbf; text-decoration-color: #7fbfbf\">                    </span>         <span style=\"color: #008080; text-decoration-color: #008080; font-weight: bold\">-1.2628530263900757</span>, <span style=\"color: #008080; text-decoration-color: #008080; font-weight: bold\">-1.275286078453064</span>,         <span style=\"color: #7f7f7f; text-decoration-color: #7f7f7f\">                                     </span>\n",
       "<span style=\"color: #7fbfbf; text-decoration-color: #7fbfbf\">                    </span>         <span style=\"color: #008080; text-decoration-color: #008080; font-weight: bold\">-1.3779186010360718</span><span style=\"font-weight: bold\">]]</span>, <span style=\"color: #008000; text-decoration-color: #008000\">'larget'</span>: <span style=\"color: #008080; text-decoration-color: #008080; font-weight: bold\">2</span>, <span style=\"color: #008000; text-decoration-color: #008000\">'node_id'</span>:   <span style=\"color: #7f7f7f; text-decoration-color: #7f7f7f\">                                     </span>\n",
       "<span style=\"color: #7fbfbf; text-decoration-color: #7fbfbf\">                    </span>         <span style=\"color: #008080; text-decoration-color: #008080; font-weight: bold\">475</span>, <span style=\"color: #008000; text-decoration-color: #008000\">'perturbed_edges'</span>: <span style=\"font-weight: bold\">[[</span><span style=\"color: #008080; text-decoration-color: #008080; font-weight: bold\">475</span>, <span style=\"color: #008080; text-decoration-color: #008080; font-weight: bold\">475</span><span style=\"font-weight: bold\">]</span>, <span style=\"font-weight: bold\">[</span><span style=\"color: #008080; text-decoration-color: #008080; font-weight: bold\">12</span>, <span style=\"color: #008080; text-decoration-color: #008080; font-weight: bold\">60</span><span style=\"font-weight: bold\">]]</span>,  <span style=\"color: #7f7f7f; text-decoration-color: #7f7f7f\">                                     </span>\n",
       "<span style=\"color: #7fbfbf; text-decoration-color: #7fbfbf\">                    </span>         <span style=\"color: #008000; text-decoration-color: #008000\">'logit_target'</span>: <span style=\"color: #008080; text-decoration-color: #008080; font-weight: bold\">-0.1850261688232422</span>,             <span style=\"color: #7f7f7f; text-decoration-color: #7f7f7f\">                                     </span>\n",
       "<span style=\"color: #7fbfbf; text-decoration-color: #7fbfbf\">                    </span>         <span style=\"color: #008000; text-decoration-color: #008000\">'logit_best_non_target'</span>: <span style=\"color: #008080; text-decoration-color: #008080; font-weight: bold\">-2.7514235973358154</span>,    <span style=\"color: #7f7f7f; text-decoration-color: #7f7f7f\">                                     </span>\n",
       "<span style=\"color: #7fbfbf; text-decoration-color: #7fbfbf\">                    </span>         <span style=\"color: #008000; text-decoration-color: #008000\">'confidence_target'</span>:                             <span style=\"color: #7f7f7f; text-decoration-color: #7f7f7f\">                                     </span>\n",
       "<span style=\"color: #7fbfbf; text-decoration-color: #7fbfbf\">                    </span>         <span style=\"color: #800080; text-decoration-color: #800080; font-weight: bold\">np.float64</span><span style=\"font-weight: bold\">(</span><span style=\"color: #008080; text-decoration-color: #008080; font-weight: bold\">0.8310825351155964</span><span style=\"font-weight: bold\">)</span>,                  <span style=\"color: #7f7f7f; text-decoration-color: #7f7f7f\">                                     </span>\n",
       "<span style=\"color: #7fbfbf; text-decoration-color: #7fbfbf\">                    </span>         <span style=\"color: #008000; text-decoration-color: #008000\">'confidence_non_target'</span>:                         <span style=\"color: #7f7f7f; text-decoration-color: #7f7f7f\">                                     </span>\n",
       "<span style=\"color: #7fbfbf; text-decoration-color: #7fbfbf\">                    </span>         <span style=\"color: #800080; text-decoration-color: #800080; font-weight: bold\">np.float64</span><span style=\"font-weight: bold\">(</span><span style=\"color: #008080; text-decoration-color: #008080; font-weight: bold\">0.06383691842212119</span><span style=\"font-weight: bold\">)</span>, <span style=\"color: #008000; text-decoration-color: #008000\">'margin'</span>:       <span style=\"color: #7f7f7f; text-decoration-color: #7f7f7f\">                                     </span>\n",
       "<span style=\"color: #7fbfbf; text-decoration-color: #7fbfbf\">                    </span>         <span style=\"color: #800080; text-decoration-color: #800080; font-weight: bold\">np.float64</span><span style=\"font-weight: bold\">(</span><span style=\"color: #008080; text-decoration-color: #008080; font-weight: bold\">0.7672456166934751</span><span style=\"font-weight: bold\">)</span>,                  <span style=\"color: #7f7f7f; text-decoration-color: #7f7f7f\">                                     </span>\n",
       "<span style=\"color: #7fbfbf; text-decoration-color: #7fbfbf\">                    </span>         <span style=\"color: #008000; text-decoration-color: #008000\">'initial_logit_target'</span>: <span style=\"color: #008080; text-decoration-color: #008080; font-weight: bold\">-0.0002615109842736274</span>,  <span style=\"color: #7f7f7f; text-decoration-color: #7f7f7f\">                                     </span>\n",
       "<span style=\"color: #7fbfbf; text-decoration-color: #7fbfbf\">                    </span>         <span style=\"color: #008000; text-decoration-color: #008000\">'initial_logit_best_non_target'</span>:                 <span style=\"color: #7f7f7f; text-decoration-color: #7f7f7f\">                                     </span>\n",
       "<span style=\"color: #7fbfbf; text-decoration-color: #7fbfbf\">                    </span>         <span style=\"color: #008080; text-decoration-color: #008080; font-weight: bold\">-9.881522178649902</span>, <span style=\"color: #008000; text-decoration-color: #008000\">'initial_confidence_target'</span>: <span style=\"color: #7f7f7f; text-decoration-color: #7f7f7f\">                                     </span>\n",
       "<span style=\"color: #7fbfbf; text-decoration-color: #7fbfbf\">                    </span>         <span style=\"color: #800080; text-decoration-color: #800080; font-weight: bold\">np.float64</span><span style=\"font-weight: bold\">(</span><span style=\"color: #008080; text-decoration-color: #008080; font-weight: bold\">0.9997385232067433</span><span style=\"font-weight: bold\">)</span>,                  <span style=\"color: #7f7f7f; text-decoration-color: #7f7f7f\">                                     </span>\n",
       "<span style=\"color: #7fbfbf; text-decoration-color: #7fbfbf\">                    </span>         <span style=\"color: #008000; text-decoration-color: #008000\">'initial_confidence_non_target'</span>:                 <span style=\"color: #7f7f7f; text-decoration-color: #7f7f7f\">                                     </span>\n",
       "<span style=\"color: #7fbfbf; text-decoration-color: #7fbfbf\">                    </span>         <span style=\"color: #800080; text-decoration-color: #800080; font-weight: bold\">np.float64</span><span style=\"font-weight: bold\">(</span><span style=\"color: #008080; text-decoration-color: #008080; font-weight: bold\">5.1110419437683184e-05</span><span style=\"font-weight: bold\">)</span>,              <span style=\"color: #7f7f7f; text-decoration-color: #7f7f7f\">                                     </span>\n",
       "<span style=\"color: #7fbfbf; text-decoration-color: #7fbfbf\">                    </span>         <span style=\"color: #008000; text-decoration-color: #008000\">'initial_margin'</span>:                                <span style=\"color: #7f7f7f; text-decoration-color: #7f7f7f\">                                     </span>\n",
       "<span style=\"color: #7fbfbf; text-decoration-color: #7fbfbf\">                    </span>         <span style=\"color: #800080; text-decoration-color: #800080; font-weight: bold\">np.float64</span><span style=\"font-weight: bold\">(</span><span style=\"color: #008080; text-decoration-color: #008080; font-weight: bold\">0.9996874127873056</span><span style=\"font-weight: bold\">)}</span>                  <span style=\"color: #7f7f7f; text-decoration-color: #7f7f7f\">                                     </span>\n",
       "</pre>\n"
      ]
     },
     "metadata": {},
     "output_type": "display_data"
    },
    {
     "data": {
      "text/plain": [
       "\u001B[2;36m                   \u001B[0m\u001B[2;36m \u001B[0m\u001B[34mINFO    \u001B[0m Completed attack and evaluation of Vanilla GCN   \u001B]8;id=497086;file://E:\\Masterarbeit\\ProjectCombined\\experiments\\experiment_local_attack_direct.py\u001B\\\u001B[2mexperiment_local_attack_direct.py\u001B[0m\u001B]8;;\u001B\\\u001B[2m:\u001B[0m\u001B]8;id=355753;file://E:\\Masterarbeit\\ProjectCombined\\experiments\\experiment_local_attack_direct.py#216\u001B\\\u001B[2m216\u001B[0m\u001B]8;;\u001B\\\n",
       "\u001B[2;36m                    \u001B[0m         using LocalPRBCD with pert. edges for node \u001B[1;36m475\u001B[0m   \u001B[2m                                     \u001B[0m\n",
       "\u001B[2;36m                    \u001B[0m         and budget \u001B[1;36m2\u001B[0m                                     \u001B[2m                                     \u001B[0m\n"
      ],
      "text/html": [
       "<pre style=\"white-space:pre;overflow-x:auto;line-height:normal;font-family:Menlo,'DejaVu Sans Mono',consolas,'Courier New',monospace\"><span style=\"color: #7fbfbf; text-decoration-color: #7fbfbf\">                    </span><span style=\"color: #000080; text-decoration-color: #000080\">INFO    </span> Completed attack and evaluation of Vanilla GCN   <a href=\"file://E:\\Masterarbeit\\ProjectCombined\\experiments\\experiment_local_attack_direct.py\" target=\"_blank\"><span style=\"color: #7f7f7f; text-decoration-color: #7f7f7f\">experiment_local_attack_direct.py</span></a><span style=\"color: #7f7f7f; text-decoration-color: #7f7f7f\">:</span><a href=\"file://E:\\Masterarbeit\\ProjectCombined\\experiments\\experiment_local_attack_direct.py#216\" target=\"_blank\"><span style=\"color: #7f7f7f; text-decoration-color: #7f7f7f\">216</span></a>\n",
       "<span style=\"color: #7fbfbf; text-decoration-color: #7fbfbf\">                    </span>         using LocalPRBCD with pert. edges for node <span style=\"color: #008080; text-decoration-color: #008080; font-weight: bold\">475</span>   <span style=\"color: #7f7f7f; text-decoration-color: #7f7f7f\">                                     </span>\n",
       "<span style=\"color: #7fbfbf; text-decoration-color: #7fbfbf\">                    </span>         and budget <span style=\"color: #008080; text-decoration-color: #008080; font-weight: bold\">2</span>                                     <span style=\"color: #7f7f7f; text-decoration-color: #7f7f7f\">                                     </span>\n",
       "</pre>\n"
      ]
     },
     "metadata": {},
     "output_type": "display_data"
    },
    {
     "data": {
      "text/plain": [
       "\u001B[2;36m[04/01/25 12:57:04]\u001B[0m\u001B[2;36m \u001B[0m\u001B[34mINFO    \u001B[0m Original: Loss: \u001B[1;36m-0.25007206201553345\u001B[0m Statstics: \u001B[1m{\u001B[0m\u001B[32m'logit_target'\u001B[0m:     \u001B]8;id=694154;file://E:\\Masterarbeit\\ProjectCombined\\rgnn_at_scale\\attacks\\local_prbcd.py\u001B\\\u001B[2mlocal_prbcd.py\u001B[0m\u001B]8;;\u001B\\\u001B[2m:\u001B[0m\u001B]8;id=352472;file://E:\\Masterarbeit\\ProjectCombined\\rgnn_at_scale\\attacks\\local_prbcd.py#79\u001B\\\u001B[2m79\u001B[0m\u001B]8;;\u001B\\\n",
       "\u001B[2;36m                    \u001B[0m         \u001B[1;36m-1.458761215209961\u001B[0m, \u001B[32m'logit_best_non_target'\u001B[0m: \u001B[1;36m-1.7088332176208496\u001B[0m,    \u001B[2m                 \u001B[0m\n",
       "\u001B[2;36m                    \u001B[0m         \u001B[32m'confidence_target'\u001B[0m: \u001B[1;35mnp.float64\u001B[0m\u001B[1m(\u001B[0m\u001B[1;36m0.23252414376166514\u001B[0m\u001B[1m)\u001B[0m,                \u001B[2m                 \u001B[0m\n",
       "\u001B[2;36m                    \u001B[0m         \u001B[32m'confidence_non_target'\u001B[0m: \u001B[1;35mnp.float64\u001B[0m\u001B[1m(\u001B[0m\u001B[1;36m0.18107694679847275\u001B[0m\u001B[1m)\u001B[0m, \u001B[32m'margin'\u001B[0m:  \u001B[2m                 \u001B[0m\n",
       "\u001B[2;36m                    \u001B[0m         \u001B[1;35mnp.float64\u001B[0m\u001B[1m(\u001B[0m\u001B[1;36m0.05144719696319239\u001B[0m\u001B[1m)\u001B[0m\u001B[1m}\u001B[0m                                     \u001B[2m                 \u001B[0m\n",
       "\u001B[2;36m                    \u001B[0m                                                                              \u001B[2m                 \u001B[0m\n"
      ],
      "text/html": [
       "<pre style=\"white-space:pre;overflow-x:auto;line-height:normal;font-family:Menlo,'DejaVu Sans Mono',consolas,'Courier New',monospace\"><span style=\"color: #7fbfbf; text-decoration-color: #7fbfbf\">[04/01/25 12:57:04] </span><span style=\"color: #000080; text-decoration-color: #000080\">INFO    </span> Original: Loss: <span style=\"color: #008080; text-decoration-color: #008080; font-weight: bold\">-0.25007206201553345</span> Statstics: <span style=\"font-weight: bold\">{</span><span style=\"color: #008000; text-decoration-color: #008000\">'logit_target'</span>:     <a href=\"file://E:\\Masterarbeit\\ProjectCombined\\rgnn_at_scale\\attacks\\local_prbcd.py\" target=\"_blank\"><span style=\"color: #7f7f7f; text-decoration-color: #7f7f7f\">local_prbcd.py</span></a><span style=\"color: #7f7f7f; text-decoration-color: #7f7f7f\">:</span><a href=\"file://E:\\Masterarbeit\\ProjectCombined\\rgnn_at_scale\\attacks\\local_prbcd.py#79\" target=\"_blank\"><span style=\"color: #7f7f7f; text-decoration-color: #7f7f7f\">79</span></a>\n",
       "<span style=\"color: #7fbfbf; text-decoration-color: #7fbfbf\">                    </span>         <span style=\"color: #008080; text-decoration-color: #008080; font-weight: bold\">-1.458761215209961</span>, <span style=\"color: #008000; text-decoration-color: #008000\">'logit_best_non_target'</span>: <span style=\"color: #008080; text-decoration-color: #008080; font-weight: bold\">-1.7088332176208496</span>,    <span style=\"color: #7f7f7f; text-decoration-color: #7f7f7f\">                 </span>\n",
       "<span style=\"color: #7fbfbf; text-decoration-color: #7fbfbf\">                    </span>         <span style=\"color: #008000; text-decoration-color: #008000\">'confidence_target'</span>: <span style=\"color: #800080; text-decoration-color: #800080; font-weight: bold\">np.float64</span><span style=\"font-weight: bold\">(</span><span style=\"color: #008080; text-decoration-color: #008080; font-weight: bold\">0.23252414376166514</span><span style=\"font-weight: bold\">)</span>,                <span style=\"color: #7f7f7f; text-decoration-color: #7f7f7f\">                 </span>\n",
       "<span style=\"color: #7fbfbf; text-decoration-color: #7fbfbf\">                    </span>         <span style=\"color: #008000; text-decoration-color: #008000\">'confidence_non_target'</span>: <span style=\"color: #800080; text-decoration-color: #800080; font-weight: bold\">np.float64</span><span style=\"font-weight: bold\">(</span><span style=\"color: #008080; text-decoration-color: #008080; font-weight: bold\">0.18107694679847275</span><span style=\"font-weight: bold\">)</span>, <span style=\"color: #008000; text-decoration-color: #008000\">'margin'</span>:  <span style=\"color: #7f7f7f; text-decoration-color: #7f7f7f\">                 </span>\n",
       "<span style=\"color: #7fbfbf; text-decoration-color: #7fbfbf\">                    </span>         <span style=\"color: #800080; text-decoration-color: #800080; font-weight: bold\">np.float64</span><span style=\"font-weight: bold\">(</span><span style=\"color: #008080; text-decoration-color: #008080; font-weight: bold\">0.05144719696319239</span><span style=\"font-weight: bold\">)}</span>                                     <span style=\"color: #7f7f7f; text-decoration-color: #7f7f7f\">                 </span>\n",
       "<span style=\"color: #7fbfbf; text-decoration-color: #7fbfbf\">                    </span>                                                                              <span style=\"color: #7f7f7f; text-decoration-color: #7f7f7f\">                 </span>\n",
       "</pre>\n"
      ]
     },
     "metadata": {},
     "output_type": "display_data"
    },
    {
     "name": "stderr",
     "output_type": "stream",
     "text": [
      "  0%|          | 0/50 [00:00<?, ?it/s]"
     ]
    },
    {
     "data": {
      "text/plain": [
       "\u001B[2;36m                   \u001B[0m\u001B[2;36m \u001B[0m\u001B[34mINFO    \u001B[0m Initial: Loss: \u001B[1;36m-0.25007206201553345\u001B[0m Statstics: \u001B[1m{\u001B[0m\u001B[32m'logit_target'\u001B[0m:      \u001B]8;id=47098;file://E:\\Masterarbeit\\ProjectCombined\\rgnn_at_scale\\attacks\\local_prbcd.py\u001B\\\u001B[2mlocal_prbcd.py\u001B[0m\u001B]8;;\u001B\\\u001B[2m:\u001B[0m\u001B]8;id=874942;file://E:\\Masterarbeit\\ProjectCombined\\rgnn_at_scale\\attacks\\local_prbcd.py#97\u001B\\\u001B[2m97\u001B[0m\u001B]8;;\u001B\\\n",
       "\u001B[2;36m                    \u001B[0m         \u001B[1;36m-1.458761215209961\u001B[0m, \u001B[32m'logit_best_non_target'\u001B[0m: \u001B[1;36m-1.7088332176208496\u001B[0m,    \u001B[2m                 \u001B[0m\n",
       "\u001B[2;36m                    \u001B[0m         \u001B[32m'confidence_target'\u001B[0m: \u001B[1;35mnp.float64\u001B[0m\u001B[1m(\u001B[0m\u001B[1;36m0.23252414376166514\u001B[0m\u001B[1m)\u001B[0m,                \u001B[2m                 \u001B[0m\n",
       "\u001B[2;36m                    \u001B[0m         \u001B[32m'confidence_non_target'\u001B[0m: \u001B[1;35mnp.float64\u001B[0m\u001B[1m(\u001B[0m\u001B[1;36m0.18107694679847275\u001B[0m\u001B[1m)\u001B[0m, \u001B[32m'margin'\u001B[0m:  \u001B[2m                 \u001B[0m\n",
       "\u001B[2;36m                    \u001B[0m         \u001B[1;35mnp.float64\u001B[0m\u001B[1m(\u001B[0m\u001B[1;36m0.05144719696319239\u001B[0m\u001B[1m)\u001B[0m\u001B[1m}\u001B[0m                                     \u001B[2m                 \u001B[0m\n",
       "\u001B[2;36m                    \u001B[0m                                                                              \u001B[2m                 \u001B[0m\n"
      ],
      "text/html": [
       "<pre style=\"white-space:pre;overflow-x:auto;line-height:normal;font-family:Menlo,'DejaVu Sans Mono',consolas,'Courier New',monospace\"><span style=\"color: #7fbfbf; text-decoration-color: #7fbfbf\">                    </span><span style=\"color: #000080; text-decoration-color: #000080\">INFO    </span> Initial: Loss: <span style=\"color: #008080; text-decoration-color: #008080; font-weight: bold\">-0.25007206201553345</span> Statstics: <span style=\"font-weight: bold\">{</span><span style=\"color: #008000; text-decoration-color: #008000\">'logit_target'</span>:      <a href=\"file://E:\\Masterarbeit\\ProjectCombined\\rgnn_at_scale\\attacks\\local_prbcd.py\" target=\"_blank\"><span style=\"color: #7f7f7f; text-decoration-color: #7f7f7f\">local_prbcd.py</span></a><span style=\"color: #7f7f7f; text-decoration-color: #7f7f7f\">:</span><a href=\"file://E:\\Masterarbeit\\ProjectCombined\\rgnn_at_scale\\attacks\\local_prbcd.py#97\" target=\"_blank\"><span style=\"color: #7f7f7f; text-decoration-color: #7f7f7f\">97</span></a>\n",
       "<span style=\"color: #7fbfbf; text-decoration-color: #7fbfbf\">                    </span>         <span style=\"color: #008080; text-decoration-color: #008080; font-weight: bold\">-1.458761215209961</span>, <span style=\"color: #008000; text-decoration-color: #008000\">'logit_best_non_target'</span>: <span style=\"color: #008080; text-decoration-color: #008080; font-weight: bold\">-1.7088332176208496</span>,    <span style=\"color: #7f7f7f; text-decoration-color: #7f7f7f\">                 </span>\n",
       "<span style=\"color: #7fbfbf; text-decoration-color: #7fbfbf\">                    </span>         <span style=\"color: #008000; text-decoration-color: #008000\">'confidence_target'</span>: <span style=\"color: #800080; text-decoration-color: #800080; font-weight: bold\">np.float64</span><span style=\"font-weight: bold\">(</span><span style=\"color: #008080; text-decoration-color: #008080; font-weight: bold\">0.23252414376166514</span><span style=\"font-weight: bold\">)</span>,                <span style=\"color: #7f7f7f; text-decoration-color: #7f7f7f\">                 </span>\n",
       "<span style=\"color: #7fbfbf; text-decoration-color: #7fbfbf\">                    </span>         <span style=\"color: #008000; text-decoration-color: #008000\">'confidence_non_target'</span>: <span style=\"color: #800080; text-decoration-color: #800080; font-weight: bold\">np.float64</span><span style=\"font-weight: bold\">(</span><span style=\"color: #008080; text-decoration-color: #008080; font-weight: bold\">0.18107694679847275</span><span style=\"font-weight: bold\">)</span>, <span style=\"color: #008000; text-decoration-color: #008000\">'margin'</span>:  <span style=\"color: #7f7f7f; text-decoration-color: #7f7f7f\">                 </span>\n",
       "<span style=\"color: #7fbfbf; text-decoration-color: #7fbfbf\">                    </span>         <span style=\"color: #800080; text-decoration-color: #800080; font-weight: bold\">np.float64</span><span style=\"font-weight: bold\">(</span><span style=\"color: #008080; text-decoration-color: #008080; font-weight: bold\">0.05144719696319239</span><span style=\"font-weight: bold\">)}</span>                                     <span style=\"color: #7f7f7f; text-decoration-color: #7f7f7f\">                 </span>\n",
       "<span style=\"color: #7fbfbf; text-decoration-color: #7fbfbf\">                    </span>                                                                              <span style=\"color: #7f7f7f; text-decoration-color: #7f7f7f\">                 </span>\n",
       "</pre>\n"
      ]
     },
     "metadata": {},
     "output_type": "display_data"
    },
    {
     "data": {
      "text/plain": [
       "\u001B[2;36m[04/01/25 12:57:05]\u001B[0m\u001B[2;36m \u001B[0m\u001B[34mINFO    \u001B[0m                                                                     \u001B]8;id=980805;file://E:\\Masterarbeit\\ProjectCombined\\rgnn_at_scale\\attacks\\local_prbcd.py\u001B\\\u001B[2mlocal_prbcd.py\u001B[0m\u001B]8;;\u001B\\\u001B[2m:\u001B[0m\u001B]8;id=674789;file://E:\\Masterarbeit\\ProjectCombined\\rgnn_at_scale\\attacks\\local_prbcd.py#118\u001B\\\u001B[2m118\u001B[0m\u001B]8;;\u001B\\\n",
       "\u001B[2;36m                    \u001B[0m         Epoch: \u001B[1;36m0\u001B[0m Loss: \u001B[1;36m-0.25007206201553345\u001B[0m Statstics: \u001B[1m{\u001B[0m\u001B[32m'logit_target'\u001B[0m:     \u001B[2m                  \u001B[0m\n",
       "\u001B[2;36m                    \u001B[0m         \u001B[1;36m-1.4618462324142456\u001B[0m, \u001B[32m'logit_best_non_target'\u001B[0m: \u001B[1;36m-1.7193727493286133\u001B[0m,  \u001B[2m                  \u001B[0m\n",
       "\u001B[2;36m                    \u001B[0m         \u001B[32m'confidence_target'\u001B[0m: \u001B[1;35mnp.float64\u001B[0m\u001B[1m(\u001B[0m\u001B[1;36m0.2318079081454023\u001B[0m\u001B[1m)\u001B[0m,                \u001B[2m                  \u001B[0m\n",
       "\u001B[2;36m                    \u001B[0m         \u001B[32m'confidence_non_target'\u001B[0m: \u001B[1;35mnp.float64\u001B[0m\u001B[1m(\u001B[0m\u001B[1;36m0.17917850250655717\u001B[0m\u001B[1m)\u001B[0m, \u001B[32m'margin'\u001B[0m: \u001B[2m                  \u001B[0m\n",
       "\u001B[2;36m                    \u001B[0m         \u001B[1;35mnp.float64\u001B[0m\u001B[1m(\u001B[0m\u001B[1;36m0.052629405638845134\u001B[0m\u001B[1m)\u001B[0m\u001B[1m}\u001B[0m                                   \u001B[2m                  \u001B[0m\n",
       "\u001B[2;36m                    \u001B[0m                                                                             \u001B[2m                  \u001B[0m\n"
      ],
      "text/html": [
       "<pre style=\"white-space:pre;overflow-x:auto;line-height:normal;font-family:Menlo,'DejaVu Sans Mono',consolas,'Courier New',monospace\"><span style=\"color: #7fbfbf; text-decoration-color: #7fbfbf\">[04/01/25 12:57:05] </span><span style=\"color: #000080; text-decoration-color: #000080\">INFO    </span>                                                                     <a href=\"file://E:\\Masterarbeit\\ProjectCombined\\rgnn_at_scale\\attacks\\local_prbcd.py\" target=\"_blank\"><span style=\"color: #7f7f7f; text-decoration-color: #7f7f7f\">local_prbcd.py</span></a><span style=\"color: #7f7f7f; text-decoration-color: #7f7f7f\">:</span><a href=\"file://E:\\Masterarbeit\\ProjectCombined\\rgnn_at_scale\\attacks\\local_prbcd.py#118\" target=\"_blank\"><span style=\"color: #7f7f7f; text-decoration-color: #7f7f7f\">118</span></a>\n",
       "<span style=\"color: #7fbfbf; text-decoration-color: #7fbfbf\">                    </span>         Epoch: <span style=\"color: #008080; text-decoration-color: #008080; font-weight: bold\">0</span> Loss: <span style=\"color: #008080; text-decoration-color: #008080; font-weight: bold\">-0.25007206201553345</span> Statstics: <span style=\"font-weight: bold\">{</span><span style=\"color: #008000; text-decoration-color: #008000\">'logit_target'</span>:     <span style=\"color: #7f7f7f; text-decoration-color: #7f7f7f\">                  </span>\n",
       "<span style=\"color: #7fbfbf; text-decoration-color: #7fbfbf\">                    </span>         <span style=\"color: #008080; text-decoration-color: #008080; font-weight: bold\">-1.4618462324142456</span>, <span style=\"color: #008000; text-decoration-color: #008000\">'logit_best_non_target'</span>: <span style=\"color: #008080; text-decoration-color: #008080; font-weight: bold\">-1.7193727493286133</span>,  <span style=\"color: #7f7f7f; text-decoration-color: #7f7f7f\">                  </span>\n",
       "<span style=\"color: #7fbfbf; text-decoration-color: #7fbfbf\">                    </span>         <span style=\"color: #008000; text-decoration-color: #008000\">'confidence_target'</span>: <span style=\"color: #800080; text-decoration-color: #800080; font-weight: bold\">np.float64</span><span style=\"font-weight: bold\">(</span><span style=\"color: #008080; text-decoration-color: #008080; font-weight: bold\">0.2318079081454023</span><span style=\"font-weight: bold\">)</span>,                <span style=\"color: #7f7f7f; text-decoration-color: #7f7f7f\">                  </span>\n",
       "<span style=\"color: #7fbfbf; text-decoration-color: #7fbfbf\">                    </span>         <span style=\"color: #008000; text-decoration-color: #008000\">'confidence_non_target'</span>: <span style=\"color: #800080; text-decoration-color: #800080; font-weight: bold\">np.float64</span><span style=\"font-weight: bold\">(</span><span style=\"color: #008080; text-decoration-color: #008080; font-weight: bold\">0.17917850250655717</span><span style=\"font-weight: bold\">)</span>, <span style=\"color: #008000; text-decoration-color: #008000\">'margin'</span>: <span style=\"color: #7f7f7f; text-decoration-color: #7f7f7f\">                  </span>\n",
       "<span style=\"color: #7fbfbf; text-decoration-color: #7fbfbf\">                    </span>         <span style=\"color: #800080; text-decoration-color: #800080; font-weight: bold\">np.float64</span><span style=\"font-weight: bold\">(</span><span style=\"color: #008080; text-decoration-color: #008080; font-weight: bold\">0.052629405638845134</span><span style=\"font-weight: bold\">)}</span>                                   <span style=\"color: #7f7f7f; text-decoration-color: #7f7f7f\">                  </span>\n",
       "<span style=\"color: #7fbfbf; text-decoration-color: #7fbfbf\">                    </span>                                                                             <span style=\"color: #7f7f7f; text-decoration-color: #7f7f7f\">                  </span>\n",
       "</pre>\n"
      ]
     },
     "metadata": {},
     "output_type": "display_data"
    },
    {
     "data": {
      "text/plain": [
       "\u001B[2;36m                   \u001B[0m\u001B[2;36m \u001B[0m\u001B[34mINFO    \u001B[0m Gradient mean \u001B[1;36m0.008018186315894127\u001B[0m std \u001B[1;36m0.014131813310086727\u001B[0m with    \u001B]8;id=914313;file://E:\\Masterarbeit\\ProjectCombined\\rgnn_at_scale\\attacks\\local_prbcd.py\u001B\\\u001B[2mlocal_prbcd.py\u001B[0m\u001B]8;;\u001B\\\u001B[2m:\u001B[0m\u001B]8;id=105339;file://E:\\Masterarbeit\\ProjectCombined\\rgnn_at_scale\\attacks\\local_prbcd.py#119\u001B\\\u001B[2m119\u001B[0m\u001B]8;;\u001B\\\n",
       "\u001B[2;36m                    \u001B[0m         base learning rate \u001B[1;36m2.385424490525743\u001B[0m                                \u001B[2m                  \u001B[0m\n"
      ],
      "text/html": [
       "<pre style=\"white-space:pre;overflow-x:auto;line-height:normal;font-family:Menlo,'DejaVu Sans Mono',consolas,'Courier New',monospace\"><span style=\"color: #7fbfbf; text-decoration-color: #7fbfbf\">                    </span><span style=\"color: #000080; text-decoration-color: #000080\">INFO    </span> Gradient mean <span style=\"color: #008080; text-decoration-color: #008080; font-weight: bold\">0.008018186315894127</span> std <span style=\"color: #008080; text-decoration-color: #008080; font-weight: bold\">0.014131813310086727</span> with    <a href=\"file://E:\\Masterarbeit\\ProjectCombined\\rgnn_at_scale\\attacks\\local_prbcd.py\" target=\"_blank\"><span style=\"color: #7f7f7f; text-decoration-color: #7f7f7f\">local_prbcd.py</span></a><span style=\"color: #7f7f7f; text-decoration-color: #7f7f7f\">:</span><a href=\"file://E:\\Masterarbeit\\ProjectCombined\\rgnn_at_scale\\attacks\\local_prbcd.py#119\" target=\"_blank\"><span style=\"color: #7f7f7f; text-decoration-color: #7f7f7f\">119</span></a>\n",
       "<span style=\"color: #7fbfbf; text-decoration-color: #7fbfbf\">                    </span>         base learning rate <span style=\"color: #008080; text-decoration-color: #008080; font-weight: bold\">2.385424490525743</span>                                <span style=\"color: #7f7f7f; text-decoration-color: #7f7f7f\">                  </span>\n",
       "</pre>\n"
      ]
     },
     "metadata": {},
     "output_type": "display_data"
    },
    {
     "name": "stderr",
     "output_type": "stream",
     "text": [
      " 40%|████      | 20/50 [00:14<00:20,  1.44it/s]"
     ]
    },
    {
     "data": {
      "text/plain": [
       "\u001B[2;36m[04/01/25 12:57:19]\u001B[0m\u001B[2;36m \u001B[0m\u001B[34mINFO    \u001B[0m                                                                     \u001B]8;id=6410;file://E:\\Masterarbeit\\ProjectCombined\\rgnn_at_scale\\attacks\\local_prbcd.py\u001B\\\u001B[2mlocal_prbcd.py\u001B[0m\u001B]8;;\u001B\\\u001B[2m:\u001B[0m\u001B]8;id=992901;file://E:\\Masterarbeit\\ProjectCombined\\rgnn_at_scale\\attacks\\local_prbcd.py#118\u001B\\\u001B[2m118\u001B[0m\u001B]8;;\u001B\\\n",
       "\u001B[2;36m                    \u001B[0m         Epoch: \u001B[1;36m20\u001B[0m Loss: \u001B[1;36m0.8457335233688354\u001B[0m Statstics: \u001B[1m{\u001B[0m\u001B[32m'logit_target'\u001B[0m:      \u001B[2m                  \u001B[0m\n",
       "\u001B[2;36m                    \u001B[0m         \u001B[1;36m-1.8619410991668701\u001B[0m, \u001B[32m'logit_best_non_target'\u001B[0m: \u001B[1;36m-0.9798507690429688\u001B[0m,  \u001B[2m                  \u001B[0m\n",
       "\u001B[2;36m                    \u001B[0m         \u001B[32m'confidence_target'\u001B[0m: \u001B[1;35mnp.float64\u001B[0m\u001B[1m(\u001B[0m\u001B[1;36m0.15537074744202142\u001B[0m\u001B[1m)\u001B[0m,               \u001B[2m                  \u001B[0m\n",
       "\u001B[2;36m                    \u001B[0m         \u001B[32m'confidence_non_target'\u001B[0m: \u001B[1;35mnp.float64\u001B[0m\u001B[1m(\u001B[0m\u001B[1;36m0.37536711106513976\u001B[0m\u001B[1m)\u001B[0m, \u001B[32m'margin'\u001B[0m: \u001B[2m                  \u001B[0m\n",
       "\u001B[2;36m                    \u001B[0m         \u001B[1;35mnp.float64\u001B[0m\u001B[1m(\u001B[0m\u001B[1;36m-0.21999636362311834\u001B[0m\u001B[1m)\u001B[0m\u001B[1m}\u001B[0m                                   \u001B[2m                  \u001B[0m\n",
       "\u001B[2;36m                    \u001B[0m                                                                             \u001B[2m                  \u001B[0m\n"
      ],
      "text/html": [
       "<pre style=\"white-space:pre;overflow-x:auto;line-height:normal;font-family:Menlo,'DejaVu Sans Mono',consolas,'Courier New',monospace\"><span style=\"color: #7fbfbf; text-decoration-color: #7fbfbf\">[04/01/25 12:57:19] </span><span style=\"color: #000080; text-decoration-color: #000080\">INFO    </span>                                                                     <a href=\"file://E:\\Masterarbeit\\ProjectCombined\\rgnn_at_scale\\attacks\\local_prbcd.py\" target=\"_blank\"><span style=\"color: #7f7f7f; text-decoration-color: #7f7f7f\">local_prbcd.py</span></a><span style=\"color: #7f7f7f; text-decoration-color: #7f7f7f\">:</span><a href=\"file://E:\\Masterarbeit\\ProjectCombined\\rgnn_at_scale\\attacks\\local_prbcd.py#118\" target=\"_blank\"><span style=\"color: #7f7f7f; text-decoration-color: #7f7f7f\">118</span></a>\n",
       "<span style=\"color: #7fbfbf; text-decoration-color: #7fbfbf\">                    </span>         Epoch: <span style=\"color: #008080; text-decoration-color: #008080; font-weight: bold\">20</span> Loss: <span style=\"color: #008080; text-decoration-color: #008080; font-weight: bold\">0.8457335233688354</span> Statstics: <span style=\"font-weight: bold\">{</span><span style=\"color: #008000; text-decoration-color: #008000\">'logit_target'</span>:      <span style=\"color: #7f7f7f; text-decoration-color: #7f7f7f\">                  </span>\n",
       "<span style=\"color: #7fbfbf; text-decoration-color: #7fbfbf\">                    </span>         <span style=\"color: #008080; text-decoration-color: #008080; font-weight: bold\">-1.8619410991668701</span>, <span style=\"color: #008000; text-decoration-color: #008000\">'logit_best_non_target'</span>: <span style=\"color: #008080; text-decoration-color: #008080; font-weight: bold\">-0.9798507690429688</span>,  <span style=\"color: #7f7f7f; text-decoration-color: #7f7f7f\">                  </span>\n",
       "<span style=\"color: #7fbfbf; text-decoration-color: #7fbfbf\">                    </span>         <span style=\"color: #008000; text-decoration-color: #008000\">'confidence_target'</span>: <span style=\"color: #800080; text-decoration-color: #800080; font-weight: bold\">np.float64</span><span style=\"font-weight: bold\">(</span><span style=\"color: #008080; text-decoration-color: #008080; font-weight: bold\">0.15537074744202142</span><span style=\"font-weight: bold\">)</span>,               <span style=\"color: #7f7f7f; text-decoration-color: #7f7f7f\">                  </span>\n",
       "<span style=\"color: #7fbfbf; text-decoration-color: #7fbfbf\">                    </span>         <span style=\"color: #008000; text-decoration-color: #008000\">'confidence_non_target'</span>: <span style=\"color: #800080; text-decoration-color: #800080; font-weight: bold\">np.float64</span><span style=\"font-weight: bold\">(</span><span style=\"color: #008080; text-decoration-color: #008080; font-weight: bold\">0.37536711106513976</span><span style=\"font-weight: bold\">)</span>, <span style=\"color: #008000; text-decoration-color: #008000\">'margin'</span>: <span style=\"color: #7f7f7f; text-decoration-color: #7f7f7f\">                  </span>\n",
       "<span style=\"color: #7fbfbf; text-decoration-color: #7fbfbf\">                    </span>         <span style=\"color: #800080; text-decoration-color: #800080; font-weight: bold\">np.float64</span><span style=\"font-weight: bold\">(</span><span style=\"color: #008080; text-decoration-color: #008080; font-weight: bold\">-0.21999636362311834</span><span style=\"font-weight: bold\">)}</span>                                   <span style=\"color: #7f7f7f; text-decoration-color: #7f7f7f\">                  </span>\n",
       "<span style=\"color: #7fbfbf; text-decoration-color: #7fbfbf\">                    </span>                                                                             <span style=\"color: #7f7f7f; text-decoration-color: #7f7f7f\">                  </span>\n",
       "</pre>\n"
      ]
     },
     "metadata": {},
     "output_type": "display_data"
    },
    {
     "data": {
      "text/plain": [
       "\u001B[2;36m                   \u001B[0m\u001B[2;36m \u001B[0m\u001B[34mINFO    \u001B[0m Gradient mean \u001B[1;36m0.018534526228904724\u001B[0m std \u001B[1;36m0.03604188188910484\u001B[0m with     \u001B]8;id=676564;file://E:\\Masterarbeit\\ProjectCombined\\rgnn_at_scale\\attacks\\local_prbcd.py\u001B\\\u001B[2mlocal_prbcd.py\u001B[0m\u001B]8;;\u001B\\\u001B[2m:\u001B[0m\u001B]8;id=243429;file://E:\\Masterarbeit\\ProjectCombined\\rgnn_at_scale\\attacks\\local_prbcd.py#119\u001B\\\u001B[2m119\u001B[0m\u001B]8;;\u001B\\\n",
       "\u001B[2;36m                    \u001B[0m         base learning rate \u001B[1;36m2.385424490525743\u001B[0m                                \u001B[2m                  \u001B[0m\n"
      ],
      "text/html": [
       "<pre style=\"white-space:pre;overflow-x:auto;line-height:normal;font-family:Menlo,'DejaVu Sans Mono',consolas,'Courier New',monospace\"><span style=\"color: #7fbfbf; text-decoration-color: #7fbfbf\">                    </span><span style=\"color: #000080; text-decoration-color: #000080\">INFO    </span> Gradient mean <span style=\"color: #008080; text-decoration-color: #008080; font-weight: bold\">0.018534526228904724</span> std <span style=\"color: #008080; text-decoration-color: #008080; font-weight: bold\">0.03604188188910484</span> with     <a href=\"file://E:\\Masterarbeit\\ProjectCombined\\rgnn_at_scale\\attacks\\local_prbcd.py\" target=\"_blank\"><span style=\"color: #7f7f7f; text-decoration-color: #7f7f7f\">local_prbcd.py</span></a><span style=\"color: #7f7f7f; text-decoration-color: #7f7f7f\">:</span><a href=\"file://E:\\Masterarbeit\\ProjectCombined\\rgnn_at_scale\\attacks\\local_prbcd.py#119\" target=\"_blank\"><span style=\"color: #7f7f7f; text-decoration-color: #7f7f7f\">119</span></a>\n",
       "<span style=\"color: #7fbfbf; text-decoration-color: #7fbfbf\">                    </span>         base learning rate <span style=\"color: #008080; text-decoration-color: #008080; font-weight: bold\">2.385424490525743</span>                                <span style=\"color: #7f7f7f; text-decoration-color: #7f7f7f\">                  </span>\n",
       "</pre>\n"
      ]
     },
     "metadata": {},
     "output_type": "display_data"
    },
    {
     "name": "stderr",
     "output_type": "stream",
     "text": [
      " 80%|████████  | 40/50 [00:28<00:07,  1.42it/s]"
     ]
    },
    {
     "data": {
      "text/plain": [
       "\u001B[2;36m[04/01/25 12:57:33]\u001B[0m\u001B[2;36m \u001B[0m\u001B[34mINFO    \u001B[0m                                                                     \u001B]8;id=677019;file://E:\\Masterarbeit\\ProjectCombined\\rgnn_at_scale\\attacks\\local_prbcd.py\u001B\\\u001B[2mlocal_prbcd.py\u001B[0m\u001B]8;;\u001B\\\u001B[2m:\u001B[0m\u001B]8;id=972113;file://E:\\Masterarbeit\\ProjectCombined\\rgnn_at_scale\\attacks\\local_prbcd.py#118\u001B\\\u001B[2m118\u001B[0m\u001B]8;;\u001B\\\n",
       "\u001B[2;36m                    \u001B[0m         Epoch: \u001B[1;36m40\u001B[0m Loss: \u001B[1;36m1.758270502090454\u001B[0m Statstics: \u001B[1m{\u001B[0m\u001B[32m'logit_target'\u001B[0m:       \u001B[2m                  \u001B[0m\n",
       "\u001B[2;36m                    \u001B[0m         \u001B[1;36m-2.30540132522583\u001B[0m, \u001B[32m'logit_best_non_target'\u001B[0m: \u001B[1;36m-0.5466302037239075\u001B[0m,    \u001B[2m                  \u001B[0m\n",
       "\u001B[2;36m                    \u001B[0m         \u001B[32m'confidence_target'\u001B[0m: \u001B[1;35mnp.float64\u001B[0m\u001B[1m(\u001B[0m\u001B[1;36m0.09971877296301601\u001B[0m\u001B[1m)\u001B[0m,               \u001B[2m                  \u001B[0m\n",
       "\u001B[2;36m                    \u001B[0m         \u001B[32m'confidence_non_target'\u001B[0m: \u001B[1;35mnp.float64\u001B[0m\u001B[1m(\u001B[0m\u001B[1;36m0.5788972931702348\u001B[0m\u001B[1m)\u001B[0m, \u001B[32m'margin'\u001B[0m:  \u001B[2m                  \u001B[0m\n",
       "\u001B[2;36m                    \u001B[0m         \u001B[1;35mnp.float64\u001B[0m\u001B[1m(\u001B[0m\u001B[1;36m-0.47917852020721874\u001B[0m\u001B[1m)\u001B[0m\u001B[1m}\u001B[0m                                   \u001B[2m                  \u001B[0m\n",
       "\u001B[2;36m                    \u001B[0m                                                                             \u001B[2m                  \u001B[0m\n"
      ],
      "text/html": [
       "<pre style=\"white-space:pre;overflow-x:auto;line-height:normal;font-family:Menlo,'DejaVu Sans Mono',consolas,'Courier New',monospace\"><span style=\"color: #7fbfbf; text-decoration-color: #7fbfbf\">[04/01/25 12:57:33] </span><span style=\"color: #000080; text-decoration-color: #000080\">INFO    </span>                                                                     <a href=\"file://E:\\Masterarbeit\\ProjectCombined\\rgnn_at_scale\\attacks\\local_prbcd.py\" target=\"_blank\"><span style=\"color: #7f7f7f; text-decoration-color: #7f7f7f\">local_prbcd.py</span></a><span style=\"color: #7f7f7f; text-decoration-color: #7f7f7f\">:</span><a href=\"file://E:\\Masterarbeit\\ProjectCombined\\rgnn_at_scale\\attacks\\local_prbcd.py#118\" target=\"_blank\"><span style=\"color: #7f7f7f; text-decoration-color: #7f7f7f\">118</span></a>\n",
       "<span style=\"color: #7fbfbf; text-decoration-color: #7fbfbf\">                    </span>         Epoch: <span style=\"color: #008080; text-decoration-color: #008080; font-weight: bold\">40</span> Loss: <span style=\"color: #008080; text-decoration-color: #008080; font-weight: bold\">1.758270502090454</span> Statstics: <span style=\"font-weight: bold\">{</span><span style=\"color: #008000; text-decoration-color: #008000\">'logit_target'</span>:       <span style=\"color: #7f7f7f; text-decoration-color: #7f7f7f\">                  </span>\n",
       "<span style=\"color: #7fbfbf; text-decoration-color: #7fbfbf\">                    </span>         <span style=\"color: #008080; text-decoration-color: #008080; font-weight: bold\">-2.30540132522583</span>, <span style=\"color: #008000; text-decoration-color: #008000\">'logit_best_non_target'</span>: <span style=\"color: #008080; text-decoration-color: #008080; font-weight: bold\">-0.5466302037239075</span>,    <span style=\"color: #7f7f7f; text-decoration-color: #7f7f7f\">                  </span>\n",
       "<span style=\"color: #7fbfbf; text-decoration-color: #7fbfbf\">                    </span>         <span style=\"color: #008000; text-decoration-color: #008000\">'confidence_target'</span>: <span style=\"color: #800080; text-decoration-color: #800080; font-weight: bold\">np.float64</span><span style=\"font-weight: bold\">(</span><span style=\"color: #008080; text-decoration-color: #008080; font-weight: bold\">0.09971877296301601</span><span style=\"font-weight: bold\">)</span>,               <span style=\"color: #7f7f7f; text-decoration-color: #7f7f7f\">                  </span>\n",
       "<span style=\"color: #7fbfbf; text-decoration-color: #7fbfbf\">                    </span>         <span style=\"color: #008000; text-decoration-color: #008000\">'confidence_non_target'</span>: <span style=\"color: #800080; text-decoration-color: #800080; font-weight: bold\">np.float64</span><span style=\"font-weight: bold\">(</span><span style=\"color: #008080; text-decoration-color: #008080; font-weight: bold\">0.5788972931702348</span><span style=\"font-weight: bold\">)</span>, <span style=\"color: #008000; text-decoration-color: #008000\">'margin'</span>:  <span style=\"color: #7f7f7f; text-decoration-color: #7f7f7f\">                  </span>\n",
       "<span style=\"color: #7fbfbf; text-decoration-color: #7fbfbf\">                    </span>         <span style=\"color: #800080; text-decoration-color: #800080; font-weight: bold\">np.float64</span><span style=\"font-weight: bold\">(</span><span style=\"color: #008080; text-decoration-color: #008080; font-weight: bold\">-0.47917852020721874</span><span style=\"font-weight: bold\">)}</span>                                   <span style=\"color: #7f7f7f; text-decoration-color: #7f7f7f\">                  </span>\n",
       "<span style=\"color: #7fbfbf; text-decoration-color: #7fbfbf\">                    </span>                                                                             <span style=\"color: #7f7f7f; text-decoration-color: #7f7f7f\">                  </span>\n",
       "</pre>\n"
      ]
     },
     "metadata": {},
     "output_type": "display_data"
    },
    {
     "data": {
      "text/plain": [
       "\u001B[2;36m                   \u001B[0m\u001B[2;36m \u001B[0m\u001B[34mINFO    \u001B[0m Gradient mean \u001B[1;36m0.027300097048282623\u001B[0m std \u001B[1;36m0.04515243321657181\u001B[0m with     \u001B]8;id=353995;file://E:\\Masterarbeit\\ProjectCombined\\rgnn_at_scale\\attacks\\local_prbcd.py\u001B\\\u001B[2mlocal_prbcd.py\u001B[0m\u001B]8;;\u001B\\\u001B[2m:\u001B[0m\u001B]8;id=247083;file://E:\\Masterarbeit\\ProjectCombined\\rgnn_at_scale\\attacks\\local_prbcd.py#119\u001B\\\u001B[2m119\u001B[0m\u001B]8;;\u001B\\\n",
       "\u001B[2;36m                    \u001B[0m         base learning rate \u001B[1;36m2.385424490525743\u001B[0m                                \u001B[2m                  \u001B[0m\n"
      ],
      "text/html": [
       "<pre style=\"white-space:pre;overflow-x:auto;line-height:normal;font-family:Menlo,'DejaVu Sans Mono',consolas,'Courier New',monospace\"><span style=\"color: #7fbfbf; text-decoration-color: #7fbfbf\">                    </span><span style=\"color: #000080; text-decoration-color: #000080\">INFO    </span> Gradient mean <span style=\"color: #008080; text-decoration-color: #008080; font-weight: bold\">0.027300097048282623</span> std <span style=\"color: #008080; text-decoration-color: #008080; font-weight: bold\">0.04515243321657181</span> with     <a href=\"file://E:\\Masterarbeit\\ProjectCombined\\rgnn_at_scale\\attacks\\local_prbcd.py\" target=\"_blank\"><span style=\"color: #7f7f7f; text-decoration-color: #7f7f7f\">local_prbcd.py</span></a><span style=\"color: #7f7f7f; text-decoration-color: #7f7f7f\">:</span><a href=\"file://E:\\Masterarbeit\\ProjectCombined\\rgnn_at_scale\\attacks\\local_prbcd.py#119\" target=\"_blank\"><span style=\"color: #7f7f7f; text-decoration-color: #7f7f7f\">119</span></a>\n",
       "<span style=\"color: #7fbfbf; text-decoration-color: #7fbfbf\">                    </span>         base learning rate <span style=\"color: #008080; text-decoration-color: #008080; font-weight: bold\">2.385424490525743</span>                                <span style=\"color: #7f7f7f; text-decoration-color: #7f7f7f\">                  </span>\n",
       "</pre>\n"
      ]
     },
     "metadata": {},
     "output_type": "display_data"
    },
    {
     "name": "stderr",
     "output_type": "stream",
     "text": [
      "100%|██████████| 50/50 [00:35<00:00,  1.40it/s]\n"
     ]
    },
    {
     "data": {
      "text/plain": [
       "\u001B[2;36m[04/01/25 12:57:43]\u001B[0m\u001B[2;36m \u001B[0m\u001B[34mINFO    \u001B[0m Evaluated model Vanilla GCN using LocalPRBCD     \u001B]8;id=344131;file://E:\\Masterarbeit\\ProjectCombined\\experiments\\experiment_local_attack_direct.py\u001B\\\u001B[2mexperiment_local_attack_direct.py\u001B[0m\u001B]8;;\u001B\\\u001B[2m:\u001B[0m\u001B]8;id=443958;file://E:\\Masterarbeit\\ProjectCombined\\experiments\\experiment_local_attack_direct.py#194\u001B\\\u001B[2m194\u001B[0m\u001B]8;;\u001B\\\n",
       "\u001B[2;36m                    \u001B[0m         with pert. edges for node \u001B[1;36m2105\u001B[0m and budget \u001B[1;36m9\u001B[0m:     \u001B[2m                                     \u001B[0m\n"
      ],
      "text/html": [
       "<pre style=\"white-space:pre;overflow-x:auto;line-height:normal;font-family:Menlo,'DejaVu Sans Mono',consolas,'Courier New',monospace\"><span style=\"color: #7fbfbf; text-decoration-color: #7fbfbf\">[04/01/25 12:57:43] </span><span style=\"color: #000080; text-decoration-color: #000080\">INFO    </span> Evaluated model Vanilla GCN using LocalPRBCD     <a href=\"file://E:\\Masterarbeit\\ProjectCombined\\experiments\\experiment_local_attack_direct.py\" target=\"_blank\"><span style=\"color: #7f7f7f; text-decoration-color: #7f7f7f\">experiment_local_attack_direct.py</span></a><span style=\"color: #7f7f7f; text-decoration-color: #7f7f7f\">:</span><a href=\"file://E:\\Masterarbeit\\ProjectCombined\\experiments\\experiment_local_attack_direct.py#194\" target=\"_blank\"><span style=\"color: #7f7f7f; text-decoration-color: #7f7f7f\">194</span></a>\n",
       "<span style=\"color: #7fbfbf; text-decoration-color: #7fbfbf\">                    </span>         with pert. edges for node <span style=\"color: #008080; text-decoration-color: #008080; font-weight: bold\">2105</span> and budget <span style=\"color: #008080; text-decoration-color: #008080; font-weight: bold\">9</span>:     <span style=\"color: #7f7f7f; text-decoration-color: #7f7f7f\">                                     </span>\n",
       "</pre>\n"
      ]
     },
     "metadata": {},
     "output_type": "display_data"
    },
    {
     "data": {
      "text/plain": [
       "\u001B[2;36m                   \u001B[0m\u001B[2;36m \u001B[0m\u001B[34mINFO    \u001B[0m \u001B[1m{\u001B[0m\u001B[32m'label'\u001B[0m: \u001B[32m'Vanilla GCN'\u001B[0m, \u001B[32m'epsilon'\u001B[0m: \u001B[1;36m1\u001B[0m,           \u001B]8;id=636671;file://E:\\Masterarbeit\\ProjectCombined\\experiments\\experiment_local_attack_direct.py\u001B\\\u001B[2mexperiment_local_attack_direct.py\u001B[0m\u001B]8;;\u001B\\\u001B[2m:\u001B[0m\u001B]8;id=646829;file://E:\\Masterarbeit\\ProjectCombined\\experiments\\experiment_local_attack_direct.py#215\u001B\\\u001B[2m215\u001B[0m\u001B]8;;\u001B\\\n",
       "\u001B[2;36m                    \u001B[0m         \u001B[32m'n_perturbations'\u001B[0m: \u001B[1;36m9\u001B[0m, \u001B[32m'degree'\u001B[0m: \u001B[1;36m9\u001B[0m, \u001B[32m'logits'\u001B[0m:     \u001B[2m                                     \u001B[0m\n",
       "\u001B[2;36m                    \u001B[0m         \u001B[1m[\u001B[0m\u001B[1m[\u001B[0m\u001B[1;36m1.731629729270935\u001B[0m, \u001B[1;36m-0.21725714206695557\u001B[0m,       \u001B[2m                                     \u001B[0m\n",
       "\u001B[2;36m                    \u001B[0m         \u001B[1;36m-1.0829761028289795\u001B[0m, \u001B[1;36m0.00267714262008667\u001B[0m,        \u001B[2m                                     \u001B[0m\n",
       "\u001B[2;36m                    \u001B[0m         \u001B[1;36m-0.4153834581375122\u001B[0m, \u001B[1;36m0.041517436504364014\u001B[0m,       \u001B[2m                                     \u001B[0m\n",
       "\u001B[2;36m                    \u001B[0m         \u001B[1;36m-0.27298903465270996\u001B[0m\u001B[1m]\u001B[0m\u001B[1m]\u001B[0m, \u001B[32m'initial_logits'\u001B[0m:        \u001B[2m                                     \u001B[0m\n",
       "\u001B[2;36m                    \u001B[0m         \u001B[1m[\u001B[0m\u001B[1m[\u001B[0m\u001B[1;36m0.372422456741333\u001B[0m, \u001B[1;36m0.34323951601982117\u001B[0m,        \u001B[2m                                     \u001B[0m\n",
       "\u001B[2;36m                    \u001B[0m         \u001B[1;36m-1.2484652996063232\u001B[0m, \u001B[1;36m0.6224945187568665\u001B[0m,         \u001B[2m                                     \u001B[0m\n",
       "\u001B[2;36m                    \u001B[0m         \u001B[1;36m0.10877785086631775\u001B[0m, \u001B[1;36m0.35100388526916504\u001B[0m,        \u001B[2m                                     \u001B[0m\n",
       "\u001B[2;36m                    \u001B[0m         \u001B[1;36m-0.7596051692962646\u001B[0m\u001B[1m]\u001B[0m\u001B[1m]\u001B[0m, \u001B[32m'larget'\u001B[0m: \u001B[1;36m3\u001B[0m, \u001B[32m'node_id'\u001B[0m:   \u001B[2m                                     \u001B[0m\n",
       "\u001B[2;36m                    \u001B[0m         \u001B[1;36m2105\u001B[0m, \u001B[32m'perturbed_edges'\u001B[0m: \u001B[1m[\u001B[0m\u001B[1m[\u001B[0m\u001B[1;36m2105\u001B[0m, \u001B[1;36m2105\u001B[0m, \u001B[1;36m2105\u001B[0m,     \u001B[2m                                     \u001B[0m\n",
       "\u001B[2;36m                    \u001B[0m         \u001B[1;36m2105\u001B[0m, \u001B[1;36m2105\u001B[0m, \u001B[1;36m2105\u001B[0m, \u001B[1;36m2105\u001B[0m, \u001B[1;36m2105\u001B[0m, \u001B[1;36m2105\u001B[0m\u001B[1m]\u001B[0m, \u001B[1m[\u001B[0m\u001B[1;36m100\u001B[0m, \u001B[1;36m103\u001B[0m,  \u001B[2m                                     \u001B[0m\n",
       "\u001B[2;36m                    \u001B[0m         \u001B[1;36m234\u001B[0m, \u001B[1;36m1259\u001B[0m, \u001B[1;36m1311\u001B[0m, \u001B[1;36m1377\u001B[0m, \u001B[1;36m1675\u001B[0m, \u001B[1;36m2171\u001B[0m, \u001B[1;36m2697\u001B[0m\u001B[1m]\u001B[0m\u001B[1m]\u001B[0m,       \u001B[2m                                     \u001B[0m\n",
       "\u001B[2;36m                    \u001B[0m         \u001B[32m'logit_target'\u001B[0m: \u001B[1;36m-2.325519561767578\u001B[0m,              \u001B[2m                                     \u001B[0m\n",
       "\u001B[2;36m                    \u001B[0m         \u001B[32m'logit_best_non_target'\u001B[0m: \u001B[1;36m-0.5965669751167297\u001B[0m,    \u001B[2m                                     \u001B[0m\n",
       "\u001B[2;36m                    \u001B[0m         \u001B[32m'confidence_target'\u001B[0m:                             \u001B[2m                                     \u001B[0m\n",
       "\u001B[2;36m                    \u001B[0m         \u001B[1;35mnp.float64\u001B[0m\u001B[1m(\u001B[0m\u001B[1;36m0.09773265270808149\u001B[0m\u001B[1m)\u001B[0m,                 \u001B[2m                                     \u001B[0m\n",
       "\u001B[2;36m                    \u001B[0m         \u001B[32m'confidence_non_target'\u001B[0m:                         \u001B[2m                                     \u001B[0m\n",
       "\u001B[2;36m                    \u001B[0m         \u001B[1;35mnp.float64\u001B[0m\u001B[1m(\u001B[0m\u001B[1;36m0.5506989578546383\u001B[0m\u001B[1m)\u001B[0m, \u001B[32m'margin'\u001B[0m:        \u001B[2m                                     \u001B[0m\n",
       "\u001B[2;36m                    \u001B[0m         \u001B[1;35mnp.float64\u001B[0m\u001B[1m(\u001B[0m\u001B[1;36m-0.4529663051465568\u001B[0m\u001B[1m)\u001B[0m,                 \u001B[2m                                     \u001B[0m\n",
       "\u001B[2;36m                    \u001B[0m         \u001B[32m'initial_logit_target'\u001B[0m: \u001B[1;36m-1.458761215209961\u001B[0m,      \u001B[2m                                     \u001B[0m\n",
       "\u001B[2;36m                    \u001B[0m         \u001B[32m'initial_logit_best_non_target'\u001B[0m:                 \u001B[2m                                     \u001B[0m\n",
       "\u001B[2;36m                    \u001B[0m         \u001B[1;36m-1.7088332176208496\u001B[0m,                             \u001B[2m                                     \u001B[0m\n",
       "\u001B[2;36m                    \u001B[0m         \u001B[32m'initial_confidence_target'\u001B[0m:                     \u001B[2m                                     \u001B[0m\n",
       "\u001B[2;36m                    \u001B[0m         \u001B[1;35mnp.float64\u001B[0m\u001B[1m(\u001B[0m\u001B[1;36m0.23252414376166514\u001B[0m\u001B[1m)\u001B[0m,                 \u001B[2m                                     \u001B[0m\n",
       "\u001B[2;36m                    \u001B[0m         \u001B[32m'initial_confidence_non_target'\u001B[0m:                 \u001B[2m                                     \u001B[0m\n",
       "\u001B[2;36m                    \u001B[0m         \u001B[1;35mnp.float64\u001B[0m\u001B[1m(\u001B[0m\u001B[1;36m0.18107694679847275\u001B[0m\u001B[1m)\u001B[0m,                 \u001B[2m                                     \u001B[0m\n",
       "\u001B[2;36m                    \u001B[0m         \u001B[32m'initial_margin'\u001B[0m:                                \u001B[2m                                     \u001B[0m\n",
       "\u001B[2;36m                    \u001B[0m         \u001B[1;35mnp.float64\u001B[0m\u001B[1m(\u001B[0m\u001B[1;36m0.05144719696319239\u001B[0m\u001B[1m)\u001B[0m\u001B[1m}\u001B[0m                 \u001B[2m                                     \u001B[0m\n"
      ],
      "text/html": [
       "<pre style=\"white-space:pre;overflow-x:auto;line-height:normal;font-family:Menlo,'DejaVu Sans Mono',consolas,'Courier New',monospace\"><span style=\"color: #7fbfbf; text-decoration-color: #7fbfbf\">                    </span><span style=\"color: #000080; text-decoration-color: #000080\">INFO    </span> <span style=\"font-weight: bold\">{</span><span style=\"color: #008000; text-decoration-color: #008000\">'label'</span>: <span style=\"color: #008000; text-decoration-color: #008000\">'Vanilla GCN'</span>, <span style=\"color: #008000; text-decoration-color: #008000\">'epsilon'</span>: <span style=\"color: #008080; text-decoration-color: #008080; font-weight: bold\">1</span>,           <a href=\"file://E:\\Masterarbeit\\ProjectCombined\\experiments\\experiment_local_attack_direct.py\" target=\"_blank\"><span style=\"color: #7f7f7f; text-decoration-color: #7f7f7f\">experiment_local_attack_direct.py</span></a><span style=\"color: #7f7f7f; text-decoration-color: #7f7f7f\">:</span><a href=\"file://E:\\Masterarbeit\\ProjectCombined\\experiments\\experiment_local_attack_direct.py#215\" target=\"_blank\"><span style=\"color: #7f7f7f; text-decoration-color: #7f7f7f\">215</span></a>\n",
       "<span style=\"color: #7fbfbf; text-decoration-color: #7fbfbf\">                    </span>         <span style=\"color: #008000; text-decoration-color: #008000\">'n_perturbations'</span>: <span style=\"color: #008080; text-decoration-color: #008080; font-weight: bold\">9</span>, <span style=\"color: #008000; text-decoration-color: #008000\">'degree'</span>: <span style=\"color: #008080; text-decoration-color: #008080; font-weight: bold\">9</span>, <span style=\"color: #008000; text-decoration-color: #008000\">'logits'</span>:     <span style=\"color: #7f7f7f; text-decoration-color: #7f7f7f\">                                     </span>\n",
       "<span style=\"color: #7fbfbf; text-decoration-color: #7fbfbf\">                    </span>         <span style=\"font-weight: bold\">[[</span><span style=\"color: #008080; text-decoration-color: #008080; font-weight: bold\">1.731629729270935</span>, <span style=\"color: #008080; text-decoration-color: #008080; font-weight: bold\">-0.21725714206695557</span>,       <span style=\"color: #7f7f7f; text-decoration-color: #7f7f7f\">                                     </span>\n",
       "<span style=\"color: #7fbfbf; text-decoration-color: #7fbfbf\">                    </span>         <span style=\"color: #008080; text-decoration-color: #008080; font-weight: bold\">-1.0829761028289795</span>, <span style=\"color: #008080; text-decoration-color: #008080; font-weight: bold\">0.00267714262008667</span>,        <span style=\"color: #7f7f7f; text-decoration-color: #7f7f7f\">                                     </span>\n",
       "<span style=\"color: #7fbfbf; text-decoration-color: #7fbfbf\">                    </span>         <span style=\"color: #008080; text-decoration-color: #008080; font-weight: bold\">-0.4153834581375122</span>, <span style=\"color: #008080; text-decoration-color: #008080; font-weight: bold\">0.041517436504364014</span>,       <span style=\"color: #7f7f7f; text-decoration-color: #7f7f7f\">                                     </span>\n",
       "<span style=\"color: #7fbfbf; text-decoration-color: #7fbfbf\">                    </span>         <span style=\"color: #008080; text-decoration-color: #008080; font-weight: bold\">-0.27298903465270996</span><span style=\"font-weight: bold\">]]</span>, <span style=\"color: #008000; text-decoration-color: #008000\">'initial_logits'</span>:        <span style=\"color: #7f7f7f; text-decoration-color: #7f7f7f\">                                     </span>\n",
       "<span style=\"color: #7fbfbf; text-decoration-color: #7fbfbf\">                    </span>         <span style=\"font-weight: bold\">[[</span><span style=\"color: #008080; text-decoration-color: #008080; font-weight: bold\">0.372422456741333</span>, <span style=\"color: #008080; text-decoration-color: #008080; font-weight: bold\">0.34323951601982117</span>,        <span style=\"color: #7f7f7f; text-decoration-color: #7f7f7f\">                                     </span>\n",
       "<span style=\"color: #7fbfbf; text-decoration-color: #7fbfbf\">                    </span>         <span style=\"color: #008080; text-decoration-color: #008080; font-weight: bold\">-1.2484652996063232</span>, <span style=\"color: #008080; text-decoration-color: #008080; font-weight: bold\">0.6224945187568665</span>,         <span style=\"color: #7f7f7f; text-decoration-color: #7f7f7f\">                                     </span>\n",
       "<span style=\"color: #7fbfbf; text-decoration-color: #7fbfbf\">                    </span>         <span style=\"color: #008080; text-decoration-color: #008080; font-weight: bold\">0.10877785086631775</span>, <span style=\"color: #008080; text-decoration-color: #008080; font-weight: bold\">0.35100388526916504</span>,        <span style=\"color: #7f7f7f; text-decoration-color: #7f7f7f\">                                     </span>\n",
       "<span style=\"color: #7fbfbf; text-decoration-color: #7fbfbf\">                    </span>         <span style=\"color: #008080; text-decoration-color: #008080; font-weight: bold\">-0.7596051692962646</span><span style=\"font-weight: bold\">]]</span>, <span style=\"color: #008000; text-decoration-color: #008000\">'larget'</span>: <span style=\"color: #008080; text-decoration-color: #008080; font-weight: bold\">3</span>, <span style=\"color: #008000; text-decoration-color: #008000\">'node_id'</span>:   <span style=\"color: #7f7f7f; text-decoration-color: #7f7f7f\">                                     </span>\n",
       "<span style=\"color: #7fbfbf; text-decoration-color: #7fbfbf\">                    </span>         <span style=\"color: #008080; text-decoration-color: #008080; font-weight: bold\">2105</span>, <span style=\"color: #008000; text-decoration-color: #008000\">'perturbed_edges'</span>: <span style=\"font-weight: bold\">[[</span><span style=\"color: #008080; text-decoration-color: #008080; font-weight: bold\">2105</span>, <span style=\"color: #008080; text-decoration-color: #008080; font-weight: bold\">2105</span>, <span style=\"color: #008080; text-decoration-color: #008080; font-weight: bold\">2105</span>,     <span style=\"color: #7f7f7f; text-decoration-color: #7f7f7f\">                                     </span>\n",
       "<span style=\"color: #7fbfbf; text-decoration-color: #7fbfbf\">                    </span>         <span style=\"color: #008080; text-decoration-color: #008080; font-weight: bold\">2105</span>, <span style=\"color: #008080; text-decoration-color: #008080; font-weight: bold\">2105</span>, <span style=\"color: #008080; text-decoration-color: #008080; font-weight: bold\">2105</span>, <span style=\"color: #008080; text-decoration-color: #008080; font-weight: bold\">2105</span>, <span style=\"color: #008080; text-decoration-color: #008080; font-weight: bold\">2105</span>, <span style=\"color: #008080; text-decoration-color: #008080; font-weight: bold\">2105</span><span style=\"font-weight: bold\">]</span>, <span style=\"font-weight: bold\">[</span><span style=\"color: #008080; text-decoration-color: #008080; font-weight: bold\">100</span>, <span style=\"color: #008080; text-decoration-color: #008080; font-weight: bold\">103</span>,  <span style=\"color: #7f7f7f; text-decoration-color: #7f7f7f\">                                     </span>\n",
       "<span style=\"color: #7fbfbf; text-decoration-color: #7fbfbf\">                    </span>         <span style=\"color: #008080; text-decoration-color: #008080; font-weight: bold\">234</span>, <span style=\"color: #008080; text-decoration-color: #008080; font-weight: bold\">1259</span>, <span style=\"color: #008080; text-decoration-color: #008080; font-weight: bold\">1311</span>, <span style=\"color: #008080; text-decoration-color: #008080; font-weight: bold\">1377</span>, <span style=\"color: #008080; text-decoration-color: #008080; font-weight: bold\">1675</span>, <span style=\"color: #008080; text-decoration-color: #008080; font-weight: bold\">2171</span>, <span style=\"color: #008080; text-decoration-color: #008080; font-weight: bold\">2697</span><span style=\"font-weight: bold\">]]</span>,       <span style=\"color: #7f7f7f; text-decoration-color: #7f7f7f\">                                     </span>\n",
       "<span style=\"color: #7fbfbf; text-decoration-color: #7fbfbf\">                    </span>         <span style=\"color: #008000; text-decoration-color: #008000\">'logit_target'</span>: <span style=\"color: #008080; text-decoration-color: #008080; font-weight: bold\">-2.325519561767578</span>,              <span style=\"color: #7f7f7f; text-decoration-color: #7f7f7f\">                                     </span>\n",
       "<span style=\"color: #7fbfbf; text-decoration-color: #7fbfbf\">                    </span>         <span style=\"color: #008000; text-decoration-color: #008000\">'logit_best_non_target'</span>: <span style=\"color: #008080; text-decoration-color: #008080; font-weight: bold\">-0.5965669751167297</span>,    <span style=\"color: #7f7f7f; text-decoration-color: #7f7f7f\">                                     </span>\n",
       "<span style=\"color: #7fbfbf; text-decoration-color: #7fbfbf\">                    </span>         <span style=\"color: #008000; text-decoration-color: #008000\">'confidence_target'</span>:                             <span style=\"color: #7f7f7f; text-decoration-color: #7f7f7f\">                                     </span>\n",
       "<span style=\"color: #7fbfbf; text-decoration-color: #7fbfbf\">                    </span>         <span style=\"color: #800080; text-decoration-color: #800080; font-weight: bold\">np.float64</span><span style=\"font-weight: bold\">(</span><span style=\"color: #008080; text-decoration-color: #008080; font-weight: bold\">0.09773265270808149</span><span style=\"font-weight: bold\">)</span>,                 <span style=\"color: #7f7f7f; text-decoration-color: #7f7f7f\">                                     </span>\n",
       "<span style=\"color: #7fbfbf; text-decoration-color: #7fbfbf\">                    </span>         <span style=\"color: #008000; text-decoration-color: #008000\">'confidence_non_target'</span>:                         <span style=\"color: #7f7f7f; text-decoration-color: #7f7f7f\">                                     </span>\n",
       "<span style=\"color: #7fbfbf; text-decoration-color: #7fbfbf\">                    </span>         <span style=\"color: #800080; text-decoration-color: #800080; font-weight: bold\">np.float64</span><span style=\"font-weight: bold\">(</span><span style=\"color: #008080; text-decoration-color: #008080; font-weight: bold\">0.5506989578546383</span><span style=\"font-weight: bold\">)</span>, <span style=\"color: #008000; text-decoration-color: #008000\">'margin'</span>:        <span style=\"color: #7f7f7f; text-decoration-color: #7f7f7f\">                                     </span>\n",
       "<span style=\"color: #7fbfbf; text-decoration-color: #7fbfbf\">                    </span>         <span style=\"color: #800080; text-decoration-color: #800080; font-weight: bold\">np.float64</span><span style=\"font-weight: bold\">(</span><span style=\"color: #008080; text-decoration-color: #008080; font-weight: bold\">-0.4529663051465568</span><span style=\"font-weight: bold\">)</span>,                 <span style=\"color: #7f7f7f; text-decoration-color: #7f7f7f\">                                     </span>\n",
       "<span style=\"color: #7fbfbf; text-decoration-color: #7fbfbf\">                    </span>         <span style=\"color: #008000; text-decoration-color: #008000\">'initial_logit_target'</span>: <span style=\"color: #008080; text-decoration-color: #008080; font-weight: bold\">-1.458761215209961</span>,      <span style=\"color: #7f7f7f; text-decoration-color: #7f7f7f\">                                     </span>\n",
       "<span style=\"color: #7fbfbf; text-decoration-color: #7fbfbf\">                    </span>         <span style=\"color: #008000; text-decoration-color: #008000\">'initial_logit_best_non_target'</span>:                 <span style=\"color: #7f7f7f; text-decoration-color: #7f7f7f\">                                     </span>\n",
       "<span style=\"color: #7fbfbf; text-decoration-color: #7fbfbf\">                    </span>         <span style=\"color: #008080; text-decoration-color: #008080; font-weight: bold\">-1.7088332176208496</span>,                             <span style=\"color: #7f7f7f; text-decoration-color: #7f7f7f\">                                     </span>\n",
       "<span style=\"color: #7fbfbf; text-decoration-color: #7fbfbf\">                    </span>         <span style=\"color: #008000; text-decoration-color: #008000\">'initial_confidence_target'</span>:                     <span style=\"color: #7f7f7f; text-decoration-color: #7f7f7f\">                                     </span>\n",
       "<span style=\"color: #7fbfbf; text-decoration-color: #7fbfbf\">                    </span>         <span style=\"color: #800080; text-decoration-color: #800080; font-weight: bold\">np.float64</span><span style=\"font-weight: bold\">(</span><span style=\"color: #008080; text-decoration-color: #008080; font-weight: bold\">0.23252414376166514</span><span style=\"font-weight: bold\">)</span>,                 <span style=\"color: #7f7f7f; text-decoration-color: #7f7f7f\">                                     </span>\n",
       "<span style=\"color: #7fbfbf; text-decoration-color: #7fbfbf\">                    </span>         <span style=\"color: #008000; text-decoration-color: #008000\">'initial_confidence_non_target'</span>:                 <span style=\"color: #7f7f7f; text-decoration-color: #7f7f7f\">                                     </span>\n",
       "<span style=\"color: #7fbfbf; text-decoration-color: #7fbfbf\">                    </span>         <span style=\"color: #800080; text-decoration-color: #800080; font-weight: bold\">np.float64</span><span style=\"font-weight: bold\">(</span><span style=\"color: #008080; text-decoration-color: #008080; font-weight: bold\">0.18107694679847275</span><span style=\"font-weight: bold\">)</span>,                 <span style=\"color: #7f7f7f; text-decoration-color: #7f7f7f\">                                     </span>\n",
       "<span style=\"color: #7fbfbf; text-decoration-color: #7fbfbf\">                    </span>         <span style=\"color: #008000; text-decoration-color: #008000\">'initial_margin'</span>:                                <span style=\"color: #7f7f7f; text-decoration-color: #7f7f7f\">                                     </span>\n",
       "<span style=\"color: #7fbfbf; text-decoration-color: #7fbfbf\">                    </span>         <span style=\"color: #800080; text-decoration-color: #800080; font-weight: bold\">np.float64</span><span style=\"font-weight: bold\">(</span><span style=\"color: #008080; text-decoration-color: #008080; font-weight: bold\">0.05144719696319239</span><span style=\"font-weight: bold\">)}</span>                 <span style=\"color: #7f7f7f; text-decoration-color: #7f7f7f\">                                     </span>\n",
       "</pre>\n"
      ]
     },
     "metadata": {},
     "output_type": "display_data"
    },
    {
     "data": {
      "text/plain": [
       "\u001B[2;36m                   \u001B[0m\u001B[2;36m \u001B[0m\u001B[34mINFO    \u001B[0m Completed attack and evaluation of Vanilla GCN   \u001B]8;id=333499;file://E:\\Masterarbeit\\ProjectCombined\\experiments\\experiment_local_attack_direct.py\u001B\\\u001B[2mexperiment_local_attack_direct.py\u001B[0m\u001B]8;;\u001B\\\u001B[2m:\u001B[0m\u001B]8;id=661190;file://E:\\Masterarbeit\\ProjectCombined\\experiments\\experiment_local_attack_direct.py#216\u001B\\\u001B[2m216\u001B[0m\u001B]8;;\u001B\\\n",
       "\u001B[2;36m                    \u001B[0m         using LocalPRBCD with pert. edges for node \u001B[1;36m2105\u001B[0m  \u001B[2m                                     \u001B[0m\n",
       "\u001B[2;36m                    \u001B[0m         and budget \u001B[1;36m9\u001B[0m                                     \u001B[2m                                     \u001B[0m\n"
      ],
      "text/html": [
       "<pre style=\"white-space:pre;overflow-x:auto;line-height:normal;font-family:Menlo,'DejaVu Sans Mono',consolas,'Courier New',monospace\"><span style=\"color: #7fbfbf; text-decoration-color: #7fbfbf\">                    </span><span style=\"color: #000080; text-decoration-color: #000080\">INFO    </span> Completed attack and evaluation of Vanilla GCN   <a href=\"file://E:\\Masterarbeit\\ProjectCombined\\experiments\\experiment_local_attack_direct.py\" target=\"_blank\"><span style=\"color: #7f7f7f; text-decoration-color: #7f7f7f\">experiment_local_attack_direct.py</span></a><span style=\"color: #7f7f7f; text-decoration-color: #7f7f7f\">:</span><a href=\"file://E:\\Masterarbeit\\ProjectCombined\\experiments\\experiment_local_attack_direct.py#216\" target=\"_blank\"><span style=\"color: #7f7f7f; text-decoration-color: #7f7f7f\">216</span></a>\n",
       "<span style=\"color: #7fbfbf; text-decoration-color: #7fbfbf\">                    </span>         using LocalPRBCD with pert. edges for node <span style=\"color: #008080; text-decoration-color: #008080; font-weight: bold\">2105</span>  <span style=\"color: #7f7f7f; text-decoration-color: #7f7f7f\">                                     </span>\n",
       "<span style=\"color: #7fbfbf; text-decoration-color: #7fbfbf\">                    </span>         and budget <span style=\"color: #008080; text-decoration-color: #008080; font-weight: bold\">9</span>                                     <span style=\"color: #7f7f7f; text-decoration-color: #7f7f7f\">                                     </span>\n",
       "</pre>\n"
      ]
     },
     "metadata": {},
     "output_type": "display_data"
    },
    {
     "data": {
      "text/plain": [
       "\u001B[2;36m                   \u001B[0m\u001B[2;36m \u001B[0m\u001B[34mINFO    \u001B[0m Original: Loss: \u001B[1;36m-1.3678680658340454\u001B[0m Statstics: \u001B[1m{\u001B[0m\u001B[32m'logit_target'\u001B[0m:      \u001B]8;id=841865;file://E:\\Masterarbeit\\ProjectCombined\\rgnn_at_scale\\attacks\\local_prbcd.py\u001B\\\u001B[2mlocal_prbcd.py\u001B[0m\u001B]8;;\u001B\\\u001B[2m:\u001B[0m\u001B]8;id=960997;file://E:\\Masterarbeit\\ProjectCombined\\rgnn_at_scale\\attacks\\local_prbcd.py#79\u001B\\\u001B[2m79\u001B[0m\u001B]8;;\u001B\\\n",
       "\u001B[2;36m                    \u001B[0m         \u001B[1;36m-0.40800008177757263\u001B[0m, \u001B[32m'logit_best_non_target'\u001B[0m: \u001B[1;36m-1.7758681774139404\u001B[0m,  \u001B[2m                 \u001B[0m\n",
       "\u001B[2;36m                    \u001B[0m         \u001B[32m'confidence_target'\u001B[0m: \u001B[1;35mnp.float64\u001B[0m\u001B[1m(\u001B[0m\u001B[1;36m0.6649788244420456\u001B[0m\u001B[1m)\u001B[0m,                 \u001B[2m                 \u001B[0m\n",
       "\u001B[2;36m                    \u001B[0m         \u001B[32m'confidence_non_target'\u001B[0m: \u001B[1;35mnp.float64\u001B[0m\u001B[1m(\u001B[0m\u001B[1;36m0.16933637165064927\u001B[0m\u001B[1m)\u001B[0m, \u001B[32m'margin'\u001B[0m:  \u001B[2m                 \u001B[0m\n",
       "\u001B[2;36m                    \u001B[0m         \u001B[1;35mnp.float64\u001B[0m\u001B[1m(\u001B[0m\u001B[1;36m0.4956424527913963\u001B[0m\u001B[1m)\u001B[0m\u001B[1m}\u001B[0m                                      \u001B[2m                 \u001B[0m\n",
       "\u001B[2;36m                    \u001B[0m                                                                              \u001B[2m                 \u001B[0m\n"
      ],
      "text/html": [
       "<pre style=\"white-space:pre;overflow-x:auto;line-height:normal;font-family:Menlo,'DejaVu Sans Mono',consolas,'Courier New',monospace\"><span style=\"color: #7fbfbf; text-decoration-color: #7fbfbf\">                    </span><span style=\"color: #000080; text-decoration-color: #000080\">INFO    </span> Original: Loss: <span style=\"color: #008080; text-decoration-color: #008080; font-weight: bold\">-1.3678680658340454</span> Statstics: <span style=\"font-weight: bold\">{</span><span style=\"color: #008000; text-decoration-color: #008000\">'logit_target'</span>:      <a href=\"file://E:\\Masterarbeit\\ProjectCombined\\rgnn_at_scale\\attacks\\local_prbcd.py\" target=\"_blank\"><span style=\"color: #7f7f7f; text-decoration-color: #7f7f7f\">local_prbcd.py</span></a><span style=\"color: #7f7f7f; text-decoration-color: #7f7f7f\">:</span><a href=\"file://E:\\Masterarbeit\\ProjectCombined\\rgnn_at_scale\\attacks\\local_prbcd.py#79\" target=\"_blank\"><span style=\"color: #7f7f7f; text-decoration-color: #7f7f7f\">79</span></a>\n",
       "<span style=\"color: #7fbfbf; text-decoration-color: #7fbfbf\">                    </span>         <span style=\"color: #008080; text-decoration-color: #008080; font-weight: bold\">-0.40800008177757263</span>, <span style=\"color: #008000; text-decoration-color: #008000\">'logit_best_non_target'</span>: <span style=\"color: #008080; text-decoration-color: #008080; font-weight: bold\">-1.7758681774139404</span>,  <span style=\"color: #7f7f7f; text-decoration-color: #7f7f7f\">                 </span>\n",
       "<span style=\"color: #7fbfbf; text-decoration-color: #7fbfbf\">                    </span>         <span style=\"color: #008000; text-decoration-color: #008000\">'confidence_target'</span>: <span style=\"color: #800080; text-decoration-color: #800080; font-weight: bold\">np.float64</span><span style=\"font-weight: bold\">(</span><span style=\"color: #008080; text-decoration-color: #008080; font-weight: bold\">0.6649788244420456</span><span style=\"font-weight: bold\">)</span>,                 <span style=\"color: #7f7f7f; text-decoration-color: #7f7f7f\">                 </span>\n",
       "<span style=\"color: #7fbfbf; text-decoration-color: #7fbfbf\">                    </span>         <span style=\"color: #008000; text-decoration-color: #008000\">'confidence_non_target'</span>: <span style=\"color: #800080; text-decoration-color: #800080; font-weight: bold\">np.float64</span><span style=\"font-weight: bold\">(</span><span style=\"color: #008080; text-decoration-color: #008080; font-weight: bold\">0.16933637165064927</span><span style=\"font-weight: bold\">)</span>, <span style=\"color: #008000; text-decoration-color: #008000\">'margin'</span>:  <span style=\"color: #7f7f7f; text-decoration-color: #7f7f7f\">                 </span>\n",
       "<span style=\"color: #7fbfbf; text-decoration-color: #7fbfbf\">                    </span>         <span style=\"color: #800080; text-decoration-color: #800080; font-weight: bold\">np.float64</span><span style=\"font-weight: bold\">(</span><span style=\"color: #008080; text-decoration-color: #008080; font-weight: bold\">0.4956424527913963</span><span style=\"font-weight: bold\">)}</span>                                      <span style=\"color: #7f7f7f; text-decoration-color: #7f7f7f\">                 </span>\n",
       "<span style=\"color: #7fbfbf; text-decoration-color: #7fbfbf\">                    </span>                                                                              <span style=\"color: #7f7f7f; text-decoration-color: #7f7f7f\">                 </span>\n",
       "</pre>\n"
      ]
     },
     "metadata": {},
     "output_type": "display_data"
    },
    {
     "name": "stderr",
     "output_type": "stream",
     "text": [
      "  0%|          | 0/50 [00:00<?, ?it/s]"
     ]
    },
    {
     "data": {
      "text/plain": [
       "\u001B[2;36m                   \u001B[0m\u001B[2;36m \u001B[0m\u001B[34mINFO    \u001B[0m Initial: Loss: \u001B[1;36m-1.3678680658340454\u001B[0m Statstics: \u001B[1m{\u001B[0m\u001B[32m'logit_target'\u001B[0m:       \u001B]8;id=300798;file://E:\\Masterarbeit\\ProjectCombined\\rgnn_at_scale\\attacks\\local_prbcd.py\u001B\\\u001B[2mlocal_prbcd.py\u001B[0m\u001B]8;;\u001B\\\u001B[2m:\u001B[0m\u001B]8;id=366448;file://E:\\Masterarbeit\\ProjectCombined\\rgnn_at_scale\\attacks\\local_prbcd.py#97\u001B\\\u001B[2m97\u001B[0m\u001B]8;;\u001B\\\n",
       "\u001B[2;36m                    \u001B[0m         \u001B[1;36m-0.40800008177757263\u001B[0m, \u001B[32m'logit_best_non_target'\u001B[0m: \u001B[1;36m-1.7758681774139404\u001B[0m,  \u001B[2m                 \u001B[0m\n",
       "\u001B[2;36m                    \u001B[0m         \u001B[32m'confidence_target'\u001B[0m: \u001B[1;35mnp.float64\u001B[0m\u001B[1m(\u001B[0m\u001B[1;36m0.6649788244420456\u001B[0m\u001B[1m)\u001B[0m,                 \u001B[2m                 \u001B[0m\n",
       "\u001B[2;36m                    \u001B[0m         \u001B[32m'confidence_non_target'\u001B[0m: \u001B[1;35mnp.float64\u001B[0m\u001B[1m(\u001B[0m\u001B[1;36m0.16933637165064927\u001B[0m\u001B[1m)\u001B[0m, \u001B[32m'margin'\u001B[0m:  \u001B[2m                 \u001B[0m\n",
       "\u001B[2;36m                    \u001B[0m         \u001B[1;35mnp.float64\u001B[0m\u001B[1m(\u001B[0m\u001B[1;36m0.4956424527913963\u001B[0m\u001B[1m)\u001B[0m\u001B[1m}\u001B[0m                                      \u001B[2m                 \u001B[0m\n",
       "\u001B[2;36m                    \u001B[0m                                                                              \u001B[2m                 \u001B[0m\n"
      ],
      "text/html": [
       "<pre style=\"white-space:pre;overflow-x:auto;line-height:normal;font-family:Menlo,'DejaVu Sans Mono',consolas,'Courier New',monospace\"><span style=\"color: #7fbfbf; text-decoration-color: #7fbfbf\">                    </span><span style=\"color: #000080; text-decoration-color: #000080\">INFO    </span> Initial: Loss: <span style=\"color: #008080; text-decoration-color: #008080; font-weight: bold\">-1.3678680658340454</span> Statstics: <span style=\"font-weight: bold\">{</span><span style=\"color: #008000; text-decoration-color: #008000\">'logit_target'</span>:       <a href=\"file://E:\\Masterarbeit\\ProjectCombined\\rgnn_at_scale\\attacks\\local_prbcd.py\" target=\"_blank\"><span style=\"color: #7f7f7f; text-decoration-color: #7f7f7f\">local_prbcd.py</span></a><span style=\"color: #7f7f7f; text-decoration-color: #7f7f7f\">:</span><a href=\"file://E:\\Masterarbeit\\ProjectCombined\\rgnn_at_scale\\attacks\\local_prbcd.py#97\" target=\"_blank\"><span style=\"color: #7f7f7f; text-decoration-color: #7f7f7f\">97</span></a>\n",
       "<span style=\"color: #7fbfbf; text-decoration-color: #7fbfbf\">                    </span>         <span style=\"color: #008080; text-decoration-color: #008080; font-weight: bold\">-0.40800008177757263</span>, <span style=\"color: #008000; text-decoration-color: #008000\">'logit_best_non_target'</span>: <span style=\"color: #008080; text-decoration-color: #008080; font-weight: bold\">-1.7758681774139404</span>,  <span style=\"color: #7f7f7f; text-decoration-color: #7f7f7f\">                 </span>\n",
       "<span style=\"color: #7fbfbf; text-decoration-color: #7fbfbf\">                    </span>         <span style=\"color: #008000; text-decoration-color: #008000\">'confidence_target'</span>: <span style=\"color: #800080; text-decoration-color: #800080; font-weight: bold\">np.float64</span><span style=\"font-weight: bold\">(</span><span style=\"color: #008080; text-decoration-color: #008080; font-weight: bold\">0.6649788244420456</span><span style=\"font-weight: bold\">)</span>,                 <span style=\"color: #7f7f7f; text-decoration-color: #7f7f7f\">                 </span>\n",
       "<span style=\"color: #7fbfbf; text-decoration-color: #7fbfbf\">                    </span>         <span style=\"color: #008000; text-decoration-color: #008000\">'confidence_non_target'</span>: <span style=\"color: #800080; text-decoration-color: #800080; font-weight: bold\">np.float64</span><span style=\"font-weight: bold\">(</span><span style=\"color: #008080; text-decoration-color: #008080; font-weight: bold\">0.16933637165064927</span><span style=\"font-weight: bold\">)</span>, <span style=\"color: #008000; text-decoration-color: #008000\">'margin'</span>:  <span style=\"color: #7f7f7f; text-decoration-color: #7f7f7f\">                 </span>\n",
       "<span style=\"color: #7fbfbf; text-decoration-color: #7fbfbf\">                    </span>         <span style=\"color: #800080; text-decoration-color: #800080; font-weight: bold\">np.float64</span><span style=\"font-weight: bold\">(</span><span style=\"color: #008080; text-decoration-color: #008080; font-weight: bold\">0.4956424527913963</span><span style=\"font-weight: bold\">)}</span>                                      <span style=\"color: #7f7f7f; text-decoration-color: #7f7f7f\">                 </span>\n",
       "<span style=\"color: #7fbfbf; text-decoration-color: #7fbfbf\">                    </span>                                                                              <span style=\"color: #7f7f7f; text-decoration-color: #7f7f7f\">                 </span>\n",
       "</pre>\n"
      ]
     },
     "metadata": {},
     "output_type": "display_data"
    },
    {
     "data": {
      "text/plain": [
       "\u001B[2;36m[04/01/25 12:57:44]\u001B[0m\u001B[2;36m \u001B[0m\u001B[34mINFO    \u001B[0m                                                                     \u001B]8;id=86069;file://E:\\Masterarbeit\\ProjectCombined\\rgnn_at_scale\\attacks\\local_prbcd.py\u001B\\\u001B[2mlocal_prbcd.py\u001B[0m\u001B]8;;\u001B\\\u001B[2m:\u001B[0m\u001B]8;id=744229;file://E:\\Masterarbeit\\ProjectCombined\\rgnn_at_scale\\attacks\\local_prbcd.py#118\u001B\\\u001B[2m118\u001B[0m\u001B]8;;\u001B\\\n",
       "\u001B[2;36m                    \u001B[0m         Epoch: \u001B[1;36m0\u001B[0m Loss: \u001B[1;36m-1.3678680658340454\u001B[0m Statstics: \u001B[1m{\u001B[0m\u001B[32m'logit_target'\u001B[0m:      \u001B[2m                  \u001B[0m\n",
       "\u001B[2;36m                    \u001B[0m         \u001B[1;36m-0.4084863066673279\u001B[0m, \u001B[32m'logit_best_non_target'\u001B[0m: \u001B[1;36m-1.776069164276123\u001B[0m,   \u001B[2m                  \u001B[0m\n",
       "\u001B[2;36m                    \u001B[0m         \u001B[32m'confidence_target'\u001B[0m: \u001B[1;35mnp.float64\u001B[0m\u001B[1m(\u001B[0m\u001B[1;36m0.664655573779069\u001B[0m\u001B[1m)\u001B[0m,                 \u001B[2m                  \u001B[0m\n",
       "\u001B[2;36m                    \u001B[0m         \u001B[32m'confidence_non_target'\u001B[0m: \u001B[1;35mnp.float64\u001B[0m\u001B[1m(\u001B[0m\u001B[1;36m0.1693023406846609\u001B[0m\u001B[1m)\u001B[0m, \u001B[32m'margin'\u001B[0m:  \u001B[2m                  \u001B[0m\n",
       "\u001B[2;36m                    \u001B[0m         \u001B[1;35mnp.float64\u001B[0m\u001B[1m(\u001B[0m\u001B[1;36m0.49535323309440815\u001B[0m\u001B[1m)\u001B[0m\u001B[1m}\u001B[0m                                    \u001B[2m                  \u001B[0m\n",
       "\u001B[2;36m                    \u001B[0m                                                                             \u001B[2m                  \u001B[0m\n"
      ],
      "text/html": [
       "<pre style=\"white-space:pre;overflow-x:auto;line-height:normal;font-family:Menlo,'DejaVu Sans Mono',consolas,'Courier New',monospace\"><span style=\"color: #7fbfbf; text-decoration-color: #7fbfbf\">[04/01/25 12:57:44] </span><span style=\"color: #000080; text-decoration-color: #000080\">INFO    </span>                                                                     <a href=\"file://E:\\Masterarbeit\\ProjectCombined\\rgnn_at_scale\\attacks\\local_prbcd.py\" target=\"_blank\"><span style=\"color: #7f7f7f; text-decoration-color: #7f7f7f\">local_prbcd.py</span></a><span style=\"color: #7f7f7f; text-decoration-color: #7f7f7f\">:</span><a href=\"file://E:\\Masterarbeit\\ProjectCombined\\rgnn_at_scale\\attacks\\local_prbcd.py#118\" target=\"_blank\"><span style=\"color: #7f7f7f; text-decoration-color: #7f7f7f\">118</span></a>\n",
       "<span style=\"color: #7fbfbf; text-decoration-color: #7fbfbf\">                    </span>         Epoch: <span style=\"color: #008080; text-decoration-color: #008080; font-weight: bold\">0</span> Loss: <span style=\"color: #008080; text-decoration-color: #008080; font-weight: bold\">-1.3678680658340454</span> Statstics: <span style=\"font-weight: bold\">{</span><span style=\"color: #008000; text-decoration-color: #008000\">'logit_target'</span>:      <span style=\"color: #7f7f7f; text-decoration-color: #7f7f7f\">                  </span>\n",
       "<span style=\"color: #7fbfbf; text-decoration-color: #7fbfbf\">                    </span>         <span style=\"color: #008080; text-decoration-color: #008080; font-weight: bold\">-0.4084863066673279</span>, <span style=\"color: #008000; text-decoration-color: #008000\">'logit_best_non_target'</span>: <span style=\"color: #008080; text-decoration-color: #008080; font-weight: bold\">-1.776069164276123</span>,   <span style=\"color: #7f7f7f; text-decoration-color: #7f7f7f\">                  </span>\n",
       "<span style=\"color: #7fbfbf; text-decoration-color: #7fbfbf\">                    </span>         <span style=\"color: #008000; text-decoration-color: #008000\">'confidence_target'</span>: <span style=\"color: #800080; text-decoration-color: #800080; font-weight: bold\">np.float64</span><span style=\"font-weight: bold\">(</span><span style=\"color: #008080; text-decoration-color: #008080; font-weight: bold\">0.664655573779069</span><span style=\"font-weight: bold\">)</span>,                 <span style=\"color: #7f7f7f; text-decoration-color: #7f7f7f\">                  </span>\n",
       "<span style=\"color: #7fbfbf; text-decoration-color: #7fbfbf\">                    </span>         <span style=\"color: #008000; text-decoration-color: #008000\">'confidence_non_target'</span>: <span style=\"color: #800080; text-decoration-color: #800080; font-weight: bold\">np.float64</span><span style=\"font-weight: bold\">(</span><span style=\"color: #008080; text-decoration-color: #008080; font-weight: bold\">0.1693023406846609</span><span style=\"font-weight: bold\">)</span>, <span style=\"color: #008000; text-decoration-color: #008000\">'margin'</span>:  <span style=\"color: #7f7f7f; text-decoration-color: #7f7f7f\">                  </span>\n",
       "<span style=\"color: #7fbfbf; text-decoration-color: #7fbfbf\">                    </span>         <span style=\"color: #800080; text-decoration-color: #800080; font-weight: bold\">np.float64</span><span style=\"font-weight: bold\">(</span><span style=\"color: #008080; text-decoration-color: #008080; font-weight: bold\">0.49535323309440815</span><span style=\"font-weight: bold\">)}</span>                                    <span style=\"color: #7f7f7f; text-decoration-color: #7f7f7f\">                  </span>\n",
       "<span style=\"color: #7fbfbf; text-decoration-color: #7fbfbf\">                    </span>                                                                             <span style=\"color: #7f7f7f; text-decoration-color: #7f7f7f\">                  </span>\n",
       "</pre>\n"
      ]
     },
     "metadata": {},
     "output_type": "display_data"
    },
    {
     "data": {
      "text/plain": [
       "\u001B[2;36m                   \u001B[0m\u001B[2;36m \u001B[0m\u001B[34mINFO    \u001B[0m Gradient mean \u001B[1;36m0.023720765486359596\u001B[0m std \u001B[1;36m0.009957296773791313\u001B[0m with    \u001B]8;id=961210;file://E:\\Masterarbeit\\ProjectCombined\\rgnn_at_scale\\attacks\\local_prbcd.py\u001B\\\u001B[2mlocal_prbcd.py\u001B[0m\u001B]8;;\u001B\\\u001B[2m:\u001B[0m\u001B]8;id=599601;file://E:\\Masterarbeit\\ProjectCombined\\rgnn_at_scale\\attacks\\local_prbcd.py#119\u001B\\\u001B[2m119\u001B[0m\u001B]8;;\u001B\\\n",
       "\u001B[2;36m                    \u001B[0m         base learning rate \u001B[1;36m2.385424490525743\u001B[0m                                \u001B[2m                  \u001B[0m\n"
      ],
      "text/html": [
       "<pre style=\"white-space:pre;overflow-x:auto;line-height:normal;font-family:Menlo,'DejaVu Sans Mono',consolas,'Courier New',monospace\"><span style=\"color: #7fbfbf; text-decoration-color: #7fbfbf\">                    </span><span style=\"color: #000080; text-decoration-color: #000080\">INFO    </span> Gradient mean <span style=\"color: #008080; text-decoration-color: #008080; font-weight: bold\">0.023720765486359596</span> std <span style=\"color: #008080; text-decoration-color: #008080; font-weight: bold\">0.009957296773791313</span> with    <a href=\"file://E:\\Masterarbeit\\ProjectCombined\\rgnn_at_scale\\attacks\\local_prbcd.py\" target=\"_blank\"><span style=\"color: #7f7f7f; text-decoration-color: #7f7f7f\">local_prbcd.py</span></a><span style=\"color: #7f7f7f; text-decoration-color: #7f7f7f\">:</span><a href=\"file://E:\\Masterarbeit\\ProjectCombined\\rgnn_at_scale\\attacks\\local_prbcd.py#119\" target=\"_blank\"><span style=\"color: #7f7f7f; text-decoration-color: #7f7f7f\">119</span></a>\n",
       "<span style=\"color: #7fbfbf; text-decoration-color: #7fbfbf\">                    </span>         base learning rate <span style=\"color: #008080; text-decoration-color: #008080; font-weight: bold\">2.385424490525743</span>                                <span style=\"color: #7f7f7f; text-decoration-color: #7f7f7f\">                  </span>\n",
       "</pre>\n"
      ]
     },
     "metadata": {},
     "output_type": "display_data"
    },
    {
     "name": "stderr",
     "output_type": "stream",
     "text": [
      " 40%|████      | 20/50 [00:14<00:22,  1.33it/s]"
     ]
    },
    {
     "data": {
      "text/plain": [
       "\u001B[2;36m[04/01/25 12:57:58]\u001B[0m\u001B[2;36m \u001B[0m\u001B[34mINFO    \u001B[0m                                                                     \u001B]8;id=751822;file://E:\\Masterarbeit\\ProjectCombined\\rgnn_at_scale\\attacks\\local_prbcd.py\u001B\\\u001B[2mlocal_prbcd.py\u001B[0m\u001B]8;;\u001B\\\u001B[2m:\u001B[0m\u001B]8;id=706518;file://E:\\Masterarbeit\\ProjectCombined\\rgnn_at_scale\\attacks\\local_prbcd.py#118\u001B\\\u001B[2m118\u001B[0m\u001B]8;;\u001B\\\n",
       "\u001B[2;36m                    \u001B[0m         Epoch: \u001B[1;36m20\u001B[0m Loss: \u001B[1;36m-1.1487948894500732\u001B[0m Statstics: \u001B[1m{\u001B[0m\u001B[32m'logit_target'\u001B[0m:     \u001B[2m                  \u001B[0m\n",
       "\u001B[2;36m                    \u001B[0m         \u001B[1;36m-0.5927602052688599\u001B[0m, \u001B[32m'logit_best_non_target'\u001B[0m: \u001B[1;36m-1.7376515865325928\u001B[0m,  \u001B[2m                  \u001B[0m\n",
       "\u001B[2;36m                    \u001B[0m         \u001B[32m'confidence_target'\u001B[0m: \u001B[1;35mnp.float64\u001B[0m\u001B[1m(\u001B[0m\u001B[1;36m0.5527993373368241\u001B[0m\u001B[1m)\u001B[0m,                \u001B[2m                  \u001B[0m\n",
       "\u001B[2;36m                    \u001B[0m         \u001B[32m'confidence_non_target'\u001B[0m: \u001B[1;35mnp.float64\u001B[0m\u001B[1m(\u001B[0m\u001B[1;36m0.17593307947023698\u001B[0m\u001B[1m)\u001B[0m, \u001B[32m'margin'\u001B[0m: \u001B[2m                  \u001B[0m\n",
       "\u001B[2;36m                    \u001B[0m         \u001B[1;35mnp.float64\u001B[0m\u001B[1m(\u001B[0m\u001B[1;36m0.3768662578665871\u001B[0m\u001B[1m)\u001B[0m\u001B[1m}\u001B[0m                                     \u001B[2m                  \u001B[0m\n",
       "\u001B[2;36m                    \u001B[0m                                                                             \u001B[2m                  \u001B[0m\n"
      ],
      "text/html": [
       "<pre style=\"white-space:pre;overflow-x:auto;line-height:normal;font-family:Menlo,'DejaVu Sans Mono',consolas,'Courier New',monospace\"><span style=\"color: #7fbfbf; text-decoration-color: #7fbfbf\">[04/01/25 12:57:58] </span><span style=\"color: #000080; text-decoration-color: #000080\">INFO    </span>                                                                     <a href=\"file://E:\\Masterarbeit\\ProjectCombined\\rgnn_at_scale\\attacks\\local_prbcd.py\" target=\"_blank\"><span style=\"color: #7f7f7f; text-decoration-color: #7f7f7f\">local_prbcd.py</span></a><span style=\"color: #7f7f7f; text-decoration-color: #7f7f7f\">:</span><a href=\"file://E:\\Masterarbeit\\ProjectCombined\\rgnn_at_scale\\attacks\\local_prbcd.py#118\" target=\"_blank\"><span style=\"color: #7f7f7f; text-decoration-color: #7f7f7f\">118</span></a>\n",
       "<span style=\"color: #7fbfbf; text-decoration-color: #7fbfbf\">                    </span>         Epoch: <span style=\"color: #008080; text-decoration-color: #008080; font-weight: bold\">20</span> Loss: <span style=\"color: #008080; text-decoration-color: #008080; font-weight: bold\">-1.1487948894500732</span> Statstics: <span style=\"font-weight: bold\">{</span><span style=\"color: #008000; text-decoration-color: #008000\">'logit_target'</span>:     <span style=\"color: #7f7f7f; text-decoration-color: #7f7f7f\">                  </span>\n",
       "<span style=\"color: #7fbfbf; text-decoration-color: #7fbfbf\">                    </span>         <span style=\"color: #008080; text-decoration-color: #008080; font-weight: bold\">-0.5927602052688599</span>, <span style=\"color: #008000; text-decoration-color: #008000\">'logit_best_non_target'</span>: <span style=\"color: #008080; text-decoration-color: #008080; font-weight: bold\">-1.7376515865325928</span>,  <span style=\"color: #7f7f7f; text-decoration-color: #7f7f7f\">                  </span>\n",
       "<span style=\"color: #7fbfbf; text-decoration-color: #7fbfbf\">                    </span>         <span style=\"color: #008000; text-decoration-color: #008000\">'confidence_target'</span>: <span style=\"color: #800080; text-decoration-color: #800080; font-weight: bold\">np.float64</span><span style=\"font-weight: bold\">(</span><span style=\"color: #008080; text-decoration-color: #008080; font-weight: bold\">0.5527993373368241</span><span style=\"font-weight: bold\">)</span>,                <span style=\"color: #7f7f7f; text-decoration-color: #7f7f7f\">                  </span>\n",
       "<span style=\"color: #7fbfbf; text-decoration-color: #7fbfbf\">                    </span>         <span style=\"color: #008000; text-decoration-color: #008000\">'confidence_non_target'</span>: <span style=\"color: #800080; text-decoration-color: #800080; font-weight: bold\">np.float64</span><span style=\"font-weight: bold\">(</span><span style=\"color: #008080; text-decoration-color: #008080; font-weight: bold\">0.17593307947023698</span><span style=\"font-weight: bold\">)</span>, <span style=\"color: #008000; text-decoration-color: #008000\">'margin'</span>: <span style=\"color: #7f7f7f; text-decoration-color: #7f7f7f\">                  </span>\n",
       "<span style=\"color: #7fbfbf; text-decoration-color: #7fbfbf\">                    </span>         <span style=\"color: #800080; text-decoration-color: #800080; font-weight: bold\">np.float64</span><span style=\"font-weight: bold\">(</span><span style=\"color: #008080; text-decoration-color: #008080; font-weight: bold\">0.3768662578665871</span><span style=\"font-weight: bold\">)}</span>                                     <span style=\"color: #7f7f7f; text-decoration-color: #7f7f7f\">                  </span>\n",
       "<span style=\"color: #7fbfbf; text-decoration-color: #7fbfbf\">                    </span>                                                                             <span style=\"color: #7f7f7f; text-decoration-color: #7f7f7f\">                  </span>\n",
       "</pre>\n"
      ]
     },
     "metadata": {},
     "output_type": "display_data"
    },
    {
     "data": {
      "text/plain": [
       "\u001B[2;36m                   \u001B[0m\u001B[2;36m \u001B[0m\u001B[34mINFO    \u001B[0m Gradient mean \u001B[1;36m0.015579277649521828\u001B[0m std \u001B[1;36m0.01649630442261696\u001B[0m with     \u001B]8;id=139386;file://E:\\Masterarbeit\\ProjectCombined\\rgnn_at_scale\\attacks\\local_prbcd.py\u001B\\\u001B[2mlocal_prbcd.py\u001B[0m\u001B]8;;\u001B\\\u001B[2m:\u001B[0m\u001B]8;id=38868;file://E:\\Masterarbeit\\ProjectCombined\\rgnn_at_scale\\attacks\\local_prbcd.py#119\u001B\\\u001B[2m119\u001B[0m\u001B]8;;\u001B\\\n",
       "\u001B[2;36m                    \u001B[0m         base learning rate \u001B[1;36m2.385424490525743\u001B[0m                                \u001B[2m                  \u001B[0m\n"
      ],
      "text/html": [
       "<pre style=\"white-space:pre;overflow-x:auto;line-height:normal;font-family:Menlo,'DejaVu Sans Mono',consolas,'Courier New',monospace\"><span style=\"color: #7fbfbf; text-decoration-color: #7fbfbf\">                    </span><span style=\"color: #000080; text-decoration-color: #000080\">INFO    </span> Gradient mean <span style=\"color: #008080; text-decoration-color: #008080; font-weight: bold\">0.015579277649521828</span> std <span style=\"color: #008080; text-decoration-color: #008080; font-weight: bold\">0.01649630442261696</span> with     <a href=\"file://E:\\Masterarbeit\\ProjectCombined\\rgnn_at_scale\\attacks\\local_prbcd.py\" target=\"_blank\"><span style=\"color: #7f7f7f; text-decoration-color: #7f7f7f\">local_prbcd.py</span></a><span style=\"color: #7f7f7f; text-decoration-color: #7f7f7f\">:</span><a href=\"file://E:\\Masterarbeit\\ProjectCombined\\rgnn_at_scale\\attacks\\local_prbcd.py#119\" target=\"_blank\"><span style=\"color: #7f7f7f; text-decoration-color: #7f7f7f\">119</span></a>\n",
       "<span style=\"color: #7fbfbf; text-decoration-color: #7fbfbf\">                    </span>         base learning rate <span style=\"color: #008080; text-decoration-color: #008080; font-weight: bold\">2.385424490525743</span>                                <span style=\"color: #7f7f7f; text-decoration-color: #7f7f7f\">                  </span>\n",
       "</pre>\n"
      ]
     },
     "metadata": {},
     "output_type": "display_data"
    },
    {
     "name": "stderr",
     "output_type": "stream",
     "text": [
      " 80%|████████  | 40/50 [00:29<00:07,  1.38it/s]"
     ]
    },
    {
     "data": {
      "text/plain": [
       "\u001B[2;36m[04/01/25 12:58:12]\u001B[0m\u001B[2;36m \u001B[0m\u001B[34mINFO    \u001B[0m                                                                     \u001B]8;id=909297;file://E:\\Masterarbeit\\ProjectCombined\\rgnn_at_scale\\attacks\\local_prbcd.py\u001B\\\u001B[2mlocal_prbcd.py\u001B[0m\u001B]8;;\u001B\\\u001B[2m:\u001B[0m\u001B]8;id=612831;file://E:\\Masterarbeit\\ProjectCombined\\rgnn_at_scale\\attacks\\local_prbcd.py#118\u001B\\\u001B[2m118\u001B[0m\u001B]8;;\u001B\\\n",
       "\u001B[2;36m                    \u001B[0m         Epoch: \u001B[1;36m40\u001B[0m Loss: \u001B[1;36m-1.1138585805892944\u001B[0m Statstics: \u001B[1m{\u001B[0m\u001B[32m'logit_target'\u001B[0m:     \u001B[2m                  \u001B[0m\n",
       "\u001B[2;36m                    \u001B[0m         \u001B[1;36m-0.655018150806427\u001B[0m, \u001B[32m'logit_best_non_target'\u001B[0m: \u001B[1;36m-1.768200397491455\u001B[0m,    \u001B[2m                  \u001B[0m\n",
       "\u001B[2;36m                    \u001B[0m         \u001B[32m'confidence_target'\u001B[0m: \u001B[1;35mnp.float64\u001B[0m\u001B[1m(\u001B[0m\u001B[1;36m0.5194326343802851\u001B[0m\u001B[1m)\u001B[0m,                \u001B[2m                  \u001B[0m\n",
       "\u001B[2;36m                    \u001B[0m         \u001B[32m'confidence_non_target'\u001B[0m: \u001B[1;35mnp.float64\u001B[0m\u001B[1m(\u001B[0m\u001B[1;36m0.17063979648250077\u001B[0m\u001B[1m)\u001B[0m, \u001B[32m'margin'\u001B[0m: \u001B[2m                  \u001B[0m\n",
       "\u001B[2;36m                    \u001B[0m         \u001B[1;35mnp.float64\u001B[0m\u001B[1m(\u001B[0m\u001B[1;36m0.3487928378977843\u001B[0m\u001B[1m)\u001B[0m\u001B[1m}\u001B[0m                                     \u001B[2m                  \u001B[0m\n",
       "\u001B[2;36m                    \u001B[0m                                                                             \u001B[2m                  \u001B[0m\n"
      ],
      "text/html": [
       "<pre style=\"white-space:pre;overflow-x:auto;line-height:normal;font-family:Menlo,'DejaVu Sans Mono',consolas,'Courier New',monospace\"><span style=\"color: #7fbfbf; text-decoration-color: #7fbfbf\">[04/01/25 12:58:12] </span><span style=\"color: #000080; text-decoration-color: #000080\">INFO    </span>                                                                     <a href=\"file://E:\\Masterarbeit\\ProjectCombined\\rgnn_at_scale\\attacks\\local_prbcd.py\" target=\"_blank\"><span style=\"color: #7f7f7f; text-decoration-color: #7f7f7f\">local_prbcd.py</span></a><span style=\"color: #7f7f7f; text-decoration-color: #7f7f7f\">:</span><a href=\"file://E:\\Masterarbeit\\ProjectCombined\\rgnn_at_scale\\attacks\\local_prbcd.py#118\" target=\"_blank\"><span style=\"color: #7f7f7f; text-decoration-color: #7f7f7f\">118</span></a>\n",
       "<span style=\"color: #7fbfbf; text-decoration-color: #7fbfbf\">                    </span>         Epoch: <span style=\"color: #008080; text-decoration-color: #008080; font-weight: bold\">40</span> Loss: <span style=\"color: #008080; text-decoration-color: #008080; font-weight: bold\">-1.1138585805892944</span> Statstics: <span style=\"font-weight: bold\">{</span><span style=\"color: #008000; text-decoration-color: #008000\">'logit_target'</span>:     <span style=\"color: #7f7f7f; text-decoration-color: #7f7f7f\">                  </span>\n",
       "<span style=\"color: #7fbfbf; text-decoration-color: #7fbfbf\">                    </span>         <span style=\"color: #008080; text-decoration-color: #008080; font-weight: bold\">-0.655018150806427</span>, <span style=\"color: #008000; text-decoration-color: #008000\">'logit_best_non_target'</span>: <span style=\"color: #008080; text-decoration-color: #008080; font-weight: bold\">-1.768200397491455</span>,    <span style=\"color: #7f7f7f; text-decoration-color: #7f7f7f\">                  </span>\n",
       "<span style=\"color: #7fbfbf; text-decoration-color: #7fbfbf\">                    </span>         <span style=\"color: #008000; text-decoration-color: #008000\">'confidence_target'</span>: <span style=\"color: #800080; text-decoration-color: #800080; font-weight: bold\">np.float64</span><span style=\"font-weight: bold\">(</span><span style=\"color: #008080; text-decoration-color: #008080; font-weight: bold\">0.5194326343802851</span><span style=\"font-weight: bold\">)</span>,                <span style=\"color: #7f7f7f; text-decoration-color: #7f7f7f\">                  </span>\n",
       "<span style=\"color: #7fbfbf; text-decoration-color: #7fbfbf\">                    </span>         <span style=\"color: #008000; text-decoration-color: #008000\">'confidence_non_target'</span>: <span style=\"color: #800080; text-decoration-color: #800080; font-weight: bold\">np.float64</span><span style=\"font-weight: bold\">(</span><span style=\"color: #008080; text-decoration-color: #008080; font-weight: bold\">0.17063979648250077</span><span style=\"font-weight: bold\">)</span>, <span style=\"color: #008000; text-decoration-color: #008000\">'margin'</span>: <span style=\"color: #7f7f7f; text-decoration-color: #7f7f7f\">                  </span>\n",
       "<span style=\"color: #7fbfbf; text-decoration-color: #7fbfbf\">                    </span>         <span style=\"color: #800080; text-decoration-color: #800080; font-weight: bold\">np.float64</span><span style=\"font-weight: bold\">(</span><span style=\"color: #008080; text-decoration-color: #008080; font-weight: bold\">0.3487928378977843</span><span style=\"font-weight: bold\">)}</span>                                     <span style=\"color: #7f7f7f; text-decoration-color: #7f7f7f\">                  </span>\n",
       "<span style=\"color: #7fbfbf; text-decoration-color: #7fbfbf\">                    </span>                                                                             <span style=\"color: #7f7f7f; text-decoration-color: #7f7f7f\">                  </span>\n",
       "</pre>\n"
      ]
     },
     "metadata": {},
     "output_type": "display_data"
    },
    {
     "data": {
      "text/plain": [
       "\u001B[2;36m                   \u001B[0m\u001B[2;36m \u001B[0m\u001B[34mINFO    \u001B[0m Gradient mean \u001B[1;36m0.011670058593153954\u001B[0m std \u001B[1;36m0.013505931943655014\u001B[0m with    \u001B]8;id=569724;file://E:\\Masterarbeit\\ProjectCombined\\rgnn_at_scale\\attacks\\local_prbcd.py\u001B\\\u001B[2mlocal_prbcd.py\u001B[0m\u001B]8;;\u001B\\\u001B[2m:\u001B[0m\u001B]8;id=846711;file://E:\\Masterarbeit\\ProjectCombined\\rgnn_at_scale\\attacks\\local_prbcd.py#119\u001B\\\u001B[2m119\u001B[0m\u001B]8;;\u001B\\\n",
       "\u001B[2;36m                    \u001B[0m         base learning rate \u001B[1;36m2.385424490525743\u001B[0m                                \u001B[2m                  \u001B[0m\n"
      ],
      "text/html": [
       "<pre style=\"white-space:pre;overflow-x:auto;line-height:normal;font-family:Menlo,'DejaVu Sans Mono',consolas,'Courier New',monospace\"><span style=\"color: #7fbfbf; text-decoration-color: #7fbfbf\">                    </span><span style=\"color: #000080; text-decoration-color: #000080\">INFO    </span> Gradient mean <span style=\"color: #008080; text-decoration-color: #008080; font-weight: bold\">0.011670058593153954</span> std <span style=\"color: #008080; text-decoration-color: #008080; font-weight: bold\">0.013505931943655014</span> with    <a href=\"file://E:\\Masterarbeit\\ProjectCombined\\rgnn_at_scale\\attacks\\local_prbcd.py\" target=\"_blank\"><span style=\"color: #7f7f7f; text-decoration-color: #7f7f7f\">local_prbcd.py</span></a><span style=\"color: #7f7f7f; text-decoration-color: #7f7f7f\">:</span><a href=\"file://E:\\Masterarbeit\\ProjectCombined\\rgnn_at_scale\\attacks\\local_prbcd.py#119\" target=\"_blank\"><span style=\"color: #7f7f7f; text-decoration-color: #7f7f7f\">119</span></a>\n",
       "<span style=\"color: #7fbfbf; text-decoration-color: #7fbfbf\">                    </span>         base learning rate <span style=\"color: #008080; text-decoration-color: #008080; font-weight: bold\">2.385424490525743</span>                                <span style=\"color: #7f7f7f; text-decoration-color: #7f7f7f\">                  </span>\n",
       "</pre>\n"
      ]
     },
     "metadata": {},
     "output_type": "display_data"
    },
    {
     "name": "stderr",
     "output_type": "stream",
     "text": [
      "100%|██████████| 50/50 [00:36<00:00,  1.38it/s]\n"
     ]
    },
    {
     "data": {
      "text/plain": [
       "\u001B[2;36m[04/01/25 12:58:24]\u001B[0m\u001B[2;36m \u001B[0m\u001B[34mINFO    \u001B[0m Evaluated model Vanilla GCN using LocalPRBCD     \u001B]8;id=615399;file://E:\\Masterarbeit\\ProjectCombined\\experiments\\experiment_local_attack_direct.py\u001B\\\u001B[2mexperiment_local_attack_direct.py\u001B[0m\u001B]8;;\u001B\\\u001B[2m:\u001B[0m\u001B]8;id=499464;file://E:\\Masterarbeit\\ProjectCombined\\experiments\\experiment_local_attack_direct.py#194\u001B\\\u001B[2m194\u001B[0m\u001B]8;;\u001B\\\n",
       "\u001B[2;36m                    \u001B[0m         with pert. edges for node \u001B[1;36m1707\u001B[0m and budget \u001B[1;36m9\u001B[0m:     \u001B[2m                                     \u001B[0m\n"
      ],
      "text/html": [
       "<pre style=\"white-space:pre;overflow-x:auto;line-height:normal;font-family:Menlo,'DejaVu Sans Mono',consolas,'Courier New',monospace\"><span style=\"color: #7fbfbf; text-decoration-color: #7fbfbf\">[04/01/25 12:58:24] </span><span style=\"color: #000080; text-decoration-color: #000080\">INFO    </span> Evaluated model Vanilla GCN using LocalPRBCD     <a href=\"file://E:\\Masterarbeit\\ProjectCombined\\experiments\\experiment_local_attack_direct.py\" target=\"_blank\"><span style=\"color: #7f7f7f; text-decoration-color: #7f7f7f\">experiment_local_attack_direct.py</span></a><span style=\"color: #7f7f7f; text-decoration-color: #7f7f7f\">:</span><a href=\"file://E:\\Masterarbeit\\ProjectCombined\\experiments\\experiment_local_attack_direct.py#194\" target=\"_blank\"><span style=\"color: #7f7f7f; text-decoration-color: #7f7f7f\">194</span></a>\n",
       "<span style=\"color: #7fbfbf; text-decoration-color: #7fbfbf\">                    </span>         with pert. edges for node <span style=\"color: #008080; text-decoration-color: #008080; font-weight: bold\">1707</span> and budget <span style=\"color: #008080; text-decoration-color: #008080; font-weight: bold\">9</span>:     <span style=\"color: #7f7f7f; text-decoration-color: #7f7f7f\">                                     </span>\n",
       "</pre>\n"
      ]
     },
     "metadata": {},
     "output_type": "display_data"
    },
    {
     "data": {
      "text/plain": [
       "\u001B[2;36m                   \u001B[0m\u001B[2;36m \u001B[0m\u001B[34mINFO    \u001B[0m \u001B[1m{\u001B[0m\u001B[32m'label'\u001B[0m: \u001B[32m'Vanilla GCN'\u001B[0m, \u001B[32m'epsilon'\u001B[0m: \u001B[1;36m1\u001B[0m,           \u001B]8;id=727624;file://E:\\Masterarbeit\\ProjectCombined\\experiments\\experiment_local_attack_direct.py\u001B\\\u001B[2mexperiment_local_attack_direct.py\u001B[0m\u001B]8;;\u001B\\\u001B[2m:\u001B[0m\u001B]8;id=379197;file://E:\\Masterarbeit\\ProjectCombined\\experiments\\experiment_local_attack_direct.py#215\u001B\\\u001B[2m215\u001B[0m\u001B]8;;\u001B\\\n",
       "\u001B[2;36m                    \u001B[0m         \u001B[32m'n_perturbations'\u001B[0m: \u001B[1;36m9\u001B[0m, \u001B[32m'degree'\u001B[0m: \u001B[1;36m9\u001B[0m, \u001B[32m'logits'\u001B[0m:     \u001B[2m                                     \u001B[0m\n",
       "\u001B[2;36m                    \u001B[0m         \u001B[1m[\u001B[0m\u001B[1m[\u001B[0m\u001B[1;36m-0.4711725115776062\u001B[0m, \u001B[1;36m0.8848893046379089\u001B[0m,       \u001B[2m                                     \u001B[0m\n",
       "\u001B[2;36m                    \u001B[0m         \u001B[1;36m-0.3173137605190277\u001B[0m, \u001B[1;36m-0.6995822191238403\u001B[0m,        \u001B[2m                                     \u001B[0m\n",
       "\u001B[2;36m                    \u001B[0m         \u001B[1;36m-0.27273547649383545\u001B[0m, \u001B[1;36m0.13512086868286133\u001B[0m,       \u001B[2m                                     \u001B[0m\n",
       "\u001B[2;36m                    \u001B[0m         \u001B[1;36m0.5381736159324646\u001B[0m\u001B[1m]\u001B[0m\u001B[1m]\u001B[0m, \u001B[32m'initial_logits'\u001B[0m:          \u001B[2m                                     \u001B[0m\n",
       "\u001B[2;36m                    \u001B[0m         \u001B[1m[\u001B[0m\u001B[1m[\u001B[0m\u001B[1;36m-0.5017836689949036\u001B[0m, \u001B[1;36m2.3457679748535156\u001B[0m,       \u001B[2m                                     \u001B[0m\n",
       "\u001B[2;36m                    \u001B[0m         \u001B[1;36m-1.2517706155776978\u001B[0m, \u001B[1;36m-0.7327775955200195\u001B[0m,        \u001B[2m                                     \u001B[0m\n",
       "\u001B[2;36m                    \u001B[0m         \u001B[1;36m-0.24876393377780914\u001B[0m, \u001B[1;36m0.9778999090194702\u001B[0m,        \u001B[2m                                     \u001B[0m\n",
       "\u001B[2;36m                    \u001B[0m         \u001B[1;36m-0.7990709543228149\u001B[0m\u001B[1m]\u001B[0m\u001B[1m]\u001B[0m, \u001B[32m'larget'\u001B[0m: \u001B[1;36m1\u001B[0m, \u001B[32m'node_id'\u001B[0m:   \u001B[2m                                     \u001B[0m\n",
       "\u001B[2;36m                    \u001B[0m         \u001B[1;36m1707\u001B[0m, \u001B[32m'perturbed_edges'\u001B[0m: \u001B[1m[\u001B[0m\u001B[1m[\u001B[0m\u001B[1;36m1707\u001B[0m, \u001B[1;36m1707\u001B[0m, \u001B[1;36m1707\u001B[0m,     \u001B[2m                                     \u001B[0m\n",
       "\u001B[2;36m                    \u001B[0m         \u001B[1;36m1707\u001B[0m, \u001B[1;36m1707\u001B[0m, \u001B[1;36m1707\u001B[0m, \u001B[1;36m1707\u001B[0m, \u001B[1;36m1707\u001B[0m, \u001B[1;36m1707\u001B[0m\u001B[1m]\u001B[0m, \u001B[1m[\u001B[0m\u001B[1;36m77\u001B[0m, \u001B[1;36m85\u001B[0m,    \u001B[2m                                     \u001B[0m\n",
       "\u001B[2;36m                    \u001B[0m         \u001B[1;36m98\u001B[0m, \u001B[1;36m101\u001B[0m, \u001B[1;36m122\u001B[0m, \u001B[1;36m188\u001B[0m, \u001B[1;36m228\u001B[0m, \u001B[1;36m1560\u001B[0m, \u001B[1;36m1840\u001B[0m\u001B[1m]\u001B[0m\u001B[1m]\u001B[0m,            \u001B[2m                                     \u001B[0m\n",
       "\u001B[2;36m                    \u001B[0m         \u001B[32m'logit_target'\u001B[0m: \u001B[1;36m-1.180798888206482\u001B[0m,              \u001B[2m                                     \u001B[0m\n",
       "\u001B[2;36m                    \u001B[0m         \u001B[32m'logit_best_non_target'\u001B[0m: \u001B[1;36m-1.5275145769119263\u001B[0m,    \u001B[2m                                     \u001B[0m\n",
       "\u001B[2;36m                    \u001B[0m         \u001B[32m'confidence_target'\u001B[0m:                             \u001B[2m                                     \u001B[0m\n",
       "\u001B[2;36m                    \u001B[0m         \u001B[1;35mnp.float64\u001B[0m\u001B[1m(\u001B[0m\u001B[1;36m0.3070333552707353\u001B[0m\u001B[1m)\u001B[0m,                  \u001B[2m                                     \u001B[0m\n",
       "\u001B[2;36m                    \u001B[0m         \u001B[32m'confidence_non_target'\u001B[0m:                         \u001B[2m                                     \u001B[0m\n",
       "\u001B[2;36m                    \u001B[0m         \u001B[1;35mnp.float64\u001B[0m\u001B[1m(\u001B[0m\u001B[1;36m0.21707451942329115\u001B[0m\u001B[1m)\u001B[0m, \u001B[32m'margin'\u001B[0m:       \u001B[2m                                     \u001B[0m\n",
       "\u001B[2;36m                    \u001B[0m         \u001B[1;35mnp.float64\u001B[0m\u001B[1m(\u001B[0m\u001B[1;36m0.08995883584744413\u001B[0m\u001B[1m)\u001B[0m,                 \u001B[2m                                     \u001B[0m\n",
       "\u001B[2;36m                    \u001B[0m         \u001B[32m'initial_logit_target'\u001B[0m: \u001B[1;36m-0.40800008177757263\u001B[0m,    \u001B[2m                                     \u001B[0m\n",
       "\u001B[2;36m                    \u001B[0m         \u001B[32m'initial_logit_best_non_target'\u001B[0m:                 \u001B[2m                                     \u001B[0m\n",
       "\u001B[2;36m                    \u001B[0m         \u001B[1;36m-1.7758681774139404\u001B[0m,                             \u001B[2m                                     \u001B[0m\n",
       "\u001B[2;36m                    \u001B[0m         \u001B[32m'initial_confidence_target'\u001B[0m:                     \u001B[2m                                     \u001B[0m\n",
       "\u001B[2;36m                    \u001B[0m         \u001B[1;35mnp.float64\u001B[0m\u001B[1m(\u001B[0m\u001B[1;36m0.6649788244420456\u001B[0m\u001B[1m)\u001B[0m,                  \u001B[2m                                     \u001B[0m\n",
       "\u001B[2;36m                    \u001B[0m         \u001B[32m'initial_confidence_non_target'\u001B[0m:                 \u001B[2m                                     \u001B[0m\n",
       "\u001B[2;36m                    \u001B[0m         \u001B[1;35mnp.float64\u001B[0m\u001B[1m(\u001B[0m\u001B[1;36m0.16933637165064927\u001B[0m\u001B[1m)\u001B[0m,                 \u001B[2m                                     \u001B[0m\n",
       "\u001B[2;36m                    \u001B[0m         \u001B[32m'initial_margin'\u001B[0m:                                \u001B[2m                                     \u001B[0m\n",
       "\u001B[2;36m                    \u001B[0m         \u001B[1;35mnp.float64\u001B[0m\u001B[1m(\u001B[0m\u001B[1;36m0.4956424527913963\u001B[0m\u001B[1m)\u001B[0m\u001B[1m}\u001B[0m                  \u001B[2m                                     \u001B[0m\n"
      ],
      "text/html": [
       "<pre style=\"white-space:pre;overflow-x:auto;line-height:normal;font-family:Menlo,'DejaVu Sans Mono',consolas,'Courier New',monospace\"><span style=\"color: #7fbfbf; text-decoration-color: #7fbfbf\">                    </span><span style=\"color: #000080; text-decoration-color: #000080\">INFO    </span> <span style=\"font-weight: bold\">{</span><span style=\"color: #008000; text-decoration-color: #008000\">'label'</span>: <span style=\"color: #008000; text-decoration-color: #008000\">'Vanilla GCN'</span>, <span style=\"color: #008000; text-decoration-color: #008000\">'epsilon'</span>: <span style=\"color: #008080; text-decoration-color: #008080; font-weight: bold\">1</span>,           <a href=\"file://E:\\Masterarbeit\\ProjectCombined\\experiments\\experiment_local_attack_direct.py\" target=\"_blank\"><span style=\"color: #7f7f7f; text-decoration-color: #7f7f7f\">experiment_local_attack_direct.py</span></a><span style=\"color: #7f7f7f; text-decoration-color: #7f7f7f\">:</span><a href=\"file://E:\\Masterarbeit\\ProjectCombined\\experiments\\experiment_local_attack_direct.py#215\" target=\"_blank\"><span style=\"color: #7f7f7f; text-decoration-color: #7f7f7f\">215</span></a>\n",
       "<span style=\"color: #7fbfbf; text-decoration-color: #7fbfbf\">                    </span>         <span style=\"color: #008000; text-decoration-color: #008000\">'n_perturbations'</span>: <span style=\"color: #008080; text-decoration-color: #008080; font-weight: bold\">9</span>, <span style=\"color: #008000; text-decoration-color: #008000\">'degree'</span>: <span style=\"color: #008080; text-decoration-color: #008080; font-weight: bold\">9</span>, <span style=\"color: #008000; text-decoration-color: #008000\">'logits'</span>:     <span style=\"color: #7f7f7f; text-decoration-color: #7f7f7f\">                                     </span>\n",
       "<span style=\"color: #7fbfbf; text-decoration-color: #7fbfbf\">                    </span>         <span style=\"font-weight: bold\">[[</span><span style=\"color: #008080; text-decoration-color: #008080; font-weight: bold\">-0.4711725115776062</span>, <span style=\"color: #008080; text-decoration-color: #008080; font-weight: bold\">0.8848893046379089</span>,       <span style=\"color: #7f7f7f; text-decoration-color: #7f7f7f\">                                     </span>\n",
       "<span style=\"color: #7fbfbf; text-decoration-color: #7fbfbf\">                    </span>         <span style=\"color: #008080; text-decoration-color: #008080; font-weight: bold\">-0.3173137605190277</span>, <span style=\"color: #008080; text-decoration-color: #008080; font-weight: bold\">-0.6995822191238403</span>,        <span style=\"color: #7f7f7f; text-decoration-color: #7f7f7f\">                                     </span>\n",
       "<span style=\"color: #7fbfbf; text-decoration-color: #7fbfbf\">                    </span>         <span style=\"color: #008080; text-decoration-color: #008080; font-weight: bold\">-0.27273547649383545</span>, <span style=\"color: #008080; text-decoration-color: #008080; font-weight: bold\">0.13512086868286133</span>,       <span style=\"color: #7f7f7f; text-decoration-color: #7f7f7f\">                                     </span>\n",
       "<span style=\"color: #7fbfbf; text-decoration-color: #7fbfbf\">                    </span>         <span style=\"color: #008080; text-decoration-color: #008080; font-weight: bold\">0.5381736159324646</span><span style=\"font-weight: bold\">]]</span>, <span style=\"color: #008000; text-decoration-color: #008000\">'initial_logits'</span>:          <span style=\"color: #7f7f7f; text-decoration-color: #7f7f7f\">                                     </span>\n",
       "<span style=\"color: #7fbfbf; text-decoration-color: #7fbfbf\">                    </span>         <span style=\"font-weight: bold\">[[</span><span style=\"color: #008080; text-decoration-color: #008080; font-weight: bold\">-0.5017836689949036</span>, <span style=\"color: #008080; text-decoration-color: #008080; font-weight: bold\">2.3457679748535156</span>,       <span style=\"color: #7f7f7f; text-decoration-color: #7f7f7f\">                                     </span>\n",
       "<span style=\"color: #7fbfbf; text-decoration-color: #7fbfbf\">                    </span>         <span style=\"color: #008080; text-decoration-color: #008080; font-weight: bold\">-1.2517706155776978</span>, <span style=\"color: #008080; text-decoration-color: #008080; font-weight: bold\">-0.7327775955200195</span>,        <span style=\"color: #7f7f7f; text-decoration-color: #7f7f7f\">                                     </span>\n",
       "<span style=\"color: #7fbfbf; text-decoration-color: #7fbfbf\">                    </span>         <span style=\"color: #008080; text-decoration-color: #008080; font-weight: bold\">-0.24876393377780914</span>, <span style=\"color: #008080; text-decoration-color: #008080; font-weight: bold\">0.9778999090194702</span>,        <span style=\"color: #7f7f7f; text-decoration-color: #7f7f7f\">                                     </span>\n",
       "<span style=\"color: #7fbfbf; text-decoration-color: #7fbfbf\">                    </span>         <span style=\"color: #008080; text-decoration-color: #008080; font-weight: bold\">-0.7990709543228149</span><span style=\"font-weight: bold\">]]</span>, <span style=\"color: #008000; text-decoration-color: #008000\">'larget'</span>: <span style=\"color: #008080; text-decoration-color: #008080; font-weight: bold\">1</span>, <span style=\"color: #008000; text-decoration-color: #008000\">'node_id'</span>:   <span style=\"color: #7f7f7f; text-decoration-color: #7f7f7f\">                                     </span>\n",
       "<span style=\"color: #7fbfbf; text-decoration-color: #7fbfbf\">                    </span>         <span style=\"color: #008080; text-decoration-color: #008080; font-weight: bold\">1707</span>, <span style=\"color: #008000; text-decoration-color: #008000\">'perturbed_edges'</span>: <span style=\"font-weight: bold\">[[</span><span style=\"color: #008080; text-decoration-color: #008080; font-weight: bold\">1707</span>, <span style=\"color: #008080; text-decoration-color: #008080; font-weight: bold\">1707</span>, <span style=\"color: #008080; text-decoration-color: #008080; font-weight: bold\">1707</span>,     <span style=\"color: #7f7f7f; text-decoration-color: #7f7f7f\">                                     </span>\n",
       "<span style=\"color: #7fbfbf; text-decoration-color: #7fbfbf\">                    </span>         <span style=\"color: #008080; text-decoration-color: #008080; font-weight: bold\">1707</span>, <span style=\"color: #008080; text-decoration-color: #008080; font-weight: bold\">1707</span>, <span style=\"color: #008080; text-decoration-color: #008080; font-weight: bold\">1707</span>, <span style=\"color: #008080; text-decoration-color: #008080; font-weight: bold\">1707</span>, <span style=\"color: #008080; text-decoration-color: #008080; font-weight: bold\">1707</span>, <span style=\"color: #008080; text-decoration-color: #008080; font-weight: bold\">1707</span><span style=\"font-weight: bold\">]</span>, <span style=\"font-weight: bold\">[</span><span style=\"color: #008080; text-decoration-color: #008080; font-weight: bold\">77</span>, <span style=\"color: #008080; text-decoration-color: #008080; font-weight: bold\">85</span>,    <span style=\"color: #7f7f7f; text-decoration-color: #7f7f7f\">                                     </span>\n",
       "<span style=\"color: #7fbfbf; text-decoration-color: #7fbfbf\">                    </span>         <span style=\"color: #008080; text-decoration-color: #008080; font-weight: bold\">98</span>, <span style=\"color: #008080; text-decoration-color: #008080; font-weight: bold\">101</span>, <span style=\"color: #008080; text-decoration-color: #008080; font-weight: bold\">122</span>, <span style=\"color: #008080; text-decoration-color: #008080; font-weight: bold\">188</span>, <span style=\"color: #008080; text-decoration-color: #008080; font-weight: bold\">228</span>, <span style=\"color: #008080; text-decoration-color: #008080; font-weight: bold\">1560</span>, <span style=\"color: #008080; text-decoration-color: #008080; font-weight: bold\">1840</span><span style=\"font-weight: bold\">]]</span>,            <span style=\"color: #7f7f7f; text-decoration-color: #7f7f7f\">                                     </span>\n",
       "<span style=\"color: #7fbfbf; text-decoration-color: #7fbfbf\">                    </span>         <span style=\"color: #008000; text-decoration-color: #008000\">'logit_target'</span>: <span style=\"color: #008080; text-decoration-color: #008080; font-weight: bold\">-1.180798888206482</span>,              <span style=\"color: #7f7f7f; text-decoration-color: #7f7f7f\">                                     </span>\n",
       "<span style=\"color: #7fbfbf; text-decoration-color: #7fbfbf\">                    </span>         <span style=\"color: #008000; text-decoration-color: #008000\">'logit_best_non_target'</span>: <span style=\"color: #008080; text-decoration-color: #008080; font-weight: bold\">-1.5275145769119263</span>,    <span style=\"color: #7f7f7f; text-decoration-color: #7f7f7f\">                                     </span>\n",
       "<span style=\"color: #7fbfbf; text-decoration-color: #7fbfbf\">                    </span>         <span style=\"color: #008000; text-decoration-color: #008000\">'confidence_target'</span>:                             <span style=\"color: #7f7f7f; text-decoration-color: #7f7f7f\">                                     </span>\n",
       "<span style=\"color: #7fbfbf; text-decoration-color: #7fbfbf\">                    </span>         <span style=\"color: #800080; text-decoration-color: #800080; font-weight: bold\">np.float64</span><span style=\"font-weight: bold\">(</span><span style=\"color: #008080; text-decoration-color: #008080; font-weight: bold\">0.3070333552707353</span><span style=\"font-weight: bold\">)</span>,                  <span style=\"color: #7f7f7f; text-decoration-color: #7f7f7f\">                                     </span>\n",
       "<span style=\"color: #7fbfbf; text-decoration-color: #7fbfbf\">                    </span>         <span style=\"color: #008000; text-decoration-color: #008000\">'confidence_non_target'</span>:                         <span style=\"color: #7f7f7f; text-decoration-color: #7f7f7f\">                                     </span>\n",
       "<span style=\"color: #7fbfbf; text-decoration-color: #7fbfbf\">                    </span>         <span style=\"color: #800080; text-decoration-color: #800080; font-weight: bold\">np.float64</span><span style=\"font-weight: bold\">(</span><span style=\"color: #008080; text-decoration-color: #008080; font-weight: bold\">0.21707451942329115</span><span style=\"font-weight: bold\">)</span>, <span style=\"color: #008000; text-decoration-color: #008000\">'margin'</span>:       <span style=\"color: #7f7f7f; text-decoration-color: #7f7f7f\">                                     </span>\n",
       "<span style=\"color: #7fbfbf; text-decoration-color: #7fbfbf\">                    </span>         <span style=\"color: #800080; text-decoration-color: #800080; font-weight: bold\">np.float64</span><span style=\"font-weight: bold\">(</span><span style=\"color: #008080; text-decoration-color: #008080; font-weight: bold\">0.08995883584744413</span><span style=\"font-weight: bold\">)</span>,                 <span style=\"color: #7f7f7f; text-decoration-color: #7f7f7f\">                                     </span>\n",
       "<span style=\"color: #7fbfbf; text-decoration-color: #7fbfbf\">                    </span>         <span style=\"color: #008000; text-decoration-color: #008000\">'initial_logit_target'</span>: <span style=\"color: #008080; text-decoration-color: #008080; font-weight: bold\">-0.40800008177757263</span>,    <span style=\"color: #7f7f7f; text-decoration-color: #7f7f7f\">                                     </span>\n",
       "<span style=\"color: #7fbfbf; text-decoration-color: #7fbfbf\">                    </span>         <span style=\"color: #008000; text-decoration-color: #008000\">'initial_logit_best_non_target'</span>:                 <span style=\"color: #7f7f7f; text-decoration-color: #7f7f7f\">                                     </span>\n",
       "<span style=\"color: #7fbfbf; text-decoration-color: #7fbfbf\">                    </span>         <span style=\"color: #008080; text-decoration-color: #008080; font-weight: bold\">-1.7758681774139404</span>,                             <span style=\"color: #7f7f7f; text-decoration-color: #7f7f7f\">                                     </span>\n",
       "<span style=\"color: #7fbfbf; text-decoration-color: #7fbfbf\">                    </span>         <span style=\"color: #008000; text-decoration-color: #008000\">'initial_confidence_target'</span>:                     <span style=\"color: #7f7f7f; text-decoration-color: #7f7f7f\">                                     </span>\n",
       "<span style=\"color: #7fbfbf; text-decoration-color: #7fbfbf\">                    </span>         <span style=\"color: #800080; text-decoration-color: #800080; font-weight: bold\">np.float64</span><span style=\"font-weight: bold\">(</span><span style=\"color: #008080; text-decoration-color: #008080; font-weight: bold\">0.6649788244420456</span><span style=\"font-weight: bold\">)</span>,                  <span style=\"color: #7f7f7f; text-decoration-color: #7f7f7f\">                                     </span>\n",
       "<span style=\"color: #7fbfbf; text-decoration-color: #7fbfbf\">                    </span>         <span style=\"color: #008000; text-decoration-color: #008000\">'initial_confidence_non_target'</span>:                 <span style=\"color: #7f7f7f; text-decoration-color: #7f7f7f\">                                     </span>\n",
       "<span style=\"color: #7fbfbf; text-decoration-color: #7fbfbf\">                    </span>         <span style=\"color: #800080; text-decoration-color: #800080; font-weight: bold\">np.float64</span><span style=\"font-weight: bold\">(</span><span style=\"color: #008080; text-decoration-color: #008080; font-weight: bold\">0.16933637165064927</span><span style=\"font-weight: bold\">)</span>,                 <span style=\"color: #7f7f7f; text-decoration-color: #7f7f7f\">                                     </span>\n",
       "<span style=\"color: #7fbfbf; text-decoration-color: #7fbfbf\">                    </span>         <span style=\"color: #008000; text-decoration-color: #008000\">'initial_margin'</span>:                                <span style=\"color: #7f7f7f; text-decoration-color: #7f7f7f\">                                     </span>\n",
       "<span style=\"color: #7fbfbf; text-decoration-color: #7fbfbf\">                    </span>         <span style=\"color: #800080; text-decoration-color: #800080; font-weight: bold\">np.float64</span><span style=\"font-weight: bold\">(</span><span style=\"color: #008080; text-decoration-color: #008080; font-weight: bold\">0.4956424527913963</span><span style=\"font-weight: bold\">)}</span>                  <span style=\"color: #7f7f7f; text-decoration-color: #7f7f7f\">                                     </span>\n",
       "</pre>\n"
      ]
     },
     "metadata": {},
     "output_type": "display_data"
    },
    {
     "data": {
      "text/plain": [
       "\u001B[2;36m                   \u001B[0m\u001B[2;36m \u001B[0m\u001B[34mINFO    \u001B[0m Completed attack and evaluation of Vanilla GCN   \u001B]8;id=78330;file://E:\\Masterarbeit\\ProjectCombined\\experiments\\experiment_local_attack_direct.py\u001B\\\u001B[2mexperiment_local_attack_direct.py\u001B[0m\u001B]8;;\u001B\\\u001B[2m:\u001B[0m\u001B]8;id=77860;file://E:\\Masterarbeit\\ProjectCombined\\experiments\\experiment_local_attack_direct.py#216\u001B\\\u001B[2m216\u001B[0m\u001B]8;;\u001B\\\n",
       "\u001B[2;36m                    \u001B[0m         using LocalPRBCD with pert. edges for node \u001B[1;36m1707\u001B[0m  \u001B[2m                                     \u001B[0m\n",
       "\u001B[2;36m                    \u001B[0m         and budget \u001B[1;36m9\u001B[0m                                     \u001B[2m                                     \u001B[0m\n"
      ],
      "text/html": [
       "<pre style=\"white-space:pre;overflow-x:auto;line-height:normal;font-family:Menlo,'DejaVu Sans Mono',consolas,'Courier New',monospace\"><span style=\"color: #7fbfbf; text-decoration-color: #7fbfbf\">                    </span><span style=\"color: #000080; text-decoration-color: #000080\">INFO    </span> Completed attack and evaluation of Vanilla GCN   <a href=\"file://E:\\Masterarbeit\\ProjectCombined\\experiments\\experiment_local_attack_direct.py\" target=\"_blank\"><span style=\"color: #7f7f7f; text-decoration-color: #7f7f7f\">experiment_local_attack_direct.py</span></a><span style=\"color: #7f7f7f; text-decoration-color: #7f7f7f\">:</span><a href=\"file://E:\\Masterarbeit\\ProjectCombined\\experiments\\experiment_local_attack_direct.py#216\" target=\"_blank\"><span style=\"color: #7f7f7f; text-decoration-color: #7f7f7f\">216</span></a>\n",
       "<span style=\"color: #7fbfbf; text-decoration-color: #7fbfbf\">                    </span>         using LocalPRBCD with pert. edges for node <span style=\"color: #008080; text-decoration-color: #008080; font-weight: bold\">1707</span>  <span style=\"color: #7f7f7f; text-decoration-color: #7f7f7f\">                                     </span>\n",
       "<span style=\"color: #7fbfbf; text-decoration-color: #7fbfbf\">                    </span>         and budget <span style=\"color: #008080; text-decoration-color: #008080; font-weight: bold\">9</span>                                     <span style=\"color: #7f7f7f; text-decoration-color: #7f7f7f\">                                     </span>\n",
       "</pre>\n"
      ]
     },
     "metadata": {},
     "output_type": "display_data"
    },
    {
     "data": {
      "text/plain": [
       "\u001B[2;36m                   \u001B[0m\u001B[2;36m \u001B[0m\u001B[34mINFO    \u001B[0m Original: Loss: \u001B[1;36m-1.854461431503296\u001B[0m Statstics: \u001B[1m{\u001B[0m\u001B[32m'logit_target'\u001B[0m:       \u001B]8;id=455196;file://E:\\Masterarbeit\\ProjectCombined\\rgnn_at_scale\\attacks\\local_prbcd.py\u001B\\\u001B[2mlocal_prbcd.py\u001B[0m\u001B]8;;\u001B\\\u001B[2m:\u001B[0m\u001B]8;id=141437;file://E:\\Masterarbeit\\ProjectCombined\\rgnn_at_scale\\attacks\\local_prbcd.py#79\u001B\\\u001B[2m79\u001B[0m\u001B]8;;\u001B\\\n",
       "\u001B[2;36m                    \u001B[0m         \u001B[1;36m-0.2538212537765503\u001B[0m, \u001B[32m'logit_best_non_target'\u001B[0m: \u001B[1;36m-2.1082825660705566\u001B[0m,   \u001B[2m                 \u001B[0m\n",
       "\u001B[2;36m                    \u001B[0m         \u001B[32m'confidence_target'\u001B[0m: \u001B[1;35mnp.float64\u001B[0m\u001B[1m(\u001B[0m\u001B[1;36m0.77583046641915\u001B[0m\u001B[1m)\u001B[0m,                   \u001B[2m                 \u001B[0m\n",
       "\u001B[2;36m                    \u001B[0m         \u001B[32m'confidence_non_target'\u001B[0m: \u001B[1;35mnp.float64\u001B[0m\u001B[1m(\u001B[0m\u001B[1;36m0.12144636353337258\u001B[0m\u001B[1m)\u001B[0m, \u001B[32m'margin'\u001B[0m:  \u001B[2m                 \u001B[0m\n",
       "\u001B[2;36m                    \u001B[0m         \u001B[1;35mnp.float64\u001B[0m\u001B[1m(\u001B[0m\u001B[1;36m0.6543841028857774\u001B[0m\u001B[1m)\u001B[0m\u001B[1m}\u001B[0m                                      \u001B[2m                 \u001B[0m\n",
       "\u001B[2;36m                    \u001B[0m                                                                              \u001B[2m                 \u001B[0m\n"
      ],
      "text/html": [
       "<pre style=\"white-space:pre;overflow-x:auto;line-height:normal;font-family:Menlo,'DejaVu Sans Mono',consolas,'Courier New',monospace\"><span style=\"color: #7fbfbf; text-decoration-color: #7fbfbf\">                    </span><span style=\"color: #000080; text-decoration-color: #000080\">INFO    </span> Original: Loss: <span style=\"color: #008080; text-decoration-color: #008080; font-weight: bold\">-1.854461431503296</span> Statstics: <span style=\"font-weight: bold\">{</span><span style=\"color: #008000; text-decoration-color: #008000\">'logit_target'</span>:       <a href=\"file://E:\\Masterarbeit\\ProjectCombined\\rgnn_at_scale\\attacks\\local_prbcd.py\" target=\"_blank\"><span style=\"color: #7f7f7f; text-decoration-color: #7f7f7f\">local_prbcd.py</span></a><span style=\"color: #7f7f7f; text-decoration-color: #7f7f7f\">:</span><a href=\"file://E:\\Masterarbeit\\ProjectCombined\\rgnn_at_scale\\attacks\\local_prbcd.py#79\" target=\"_blank\"><span style=\"color: #7f7f7f; text-decoration-color: #7f7f7f\">79</span></a>\n",
       "<span style=\"color: #7fbfbf; text-decoration-color: #7fbfbf\">                    </span>         <span style=\"color: #008080; text-decoration-color: #008080; font-weight: bold\">-0.2538212537765503</span>, <span style=\"color: #008000; text-decoration-color: #008000\">'logit_best_non_target'</span>: <span style=\"color: #008080; text-decoration-color: #008080; font-weight: bold\">-2.1082825660705566</span>,   <span style=\"color: #7f7f7f; text-decoration-color: #7f7f7f\">                 </span>\n",
       "<span style=\"color: #7fbfbf; text-decoration-color: #7fbfbf\">                    </span>         <span style=\"color: #008000; text-decoration-color: #008000\">'confidence_target'</span>: <span style=\"color: #800080; text-decoration-color: #800080; font-weight: bold\">np.float64</span><span style=\"font-weight: bold\">(</span><span style=\"color: #008080; text-decoration-color: #008080; font-weight: bold\">0.77583046641915</span><span style=\"font-weight: bold\">)</span>,                   <span style=\"color: #7f7f7f; text-decoration-color: #7f7f7f\">                 </span>\n",
       "<span style=\"color: #7fbfbf; text-decoration-color: #7fbfbf\">                    </span>         <span style=\"color: #008000; text-decoration-color: #008000\">'confidence_non_target'</span>: <span style=\"color: #800080; text-decoration-color: #800080; font-weight: bold\">np.float64</span><span style=\"font-weight: bold\">(</span><span style=\"color: #008080; text-decoration-color: #008080; font-weight: bold\">0.12144636353337258</span><span style=\"font-weight: bold\">)</span>, <span style=\"color: #008000; text-decoration-color: #008000\">'margin'</span>:  <span style=\"color: #7f7f7f; text-decoration-color: #7f7f7f\">                 </span>\n",
       "<span style=\"color: #7fbfbf; text-decoration-color: #7fbfbf\">                    </span>         <span style=\"color: #800080; text-decoration-color: #800080; font-weight: bold\">np.float64</span><span style=\"font-weight: bold\">(</span><span style=\"color: #008080; text-decoration-color: #008080; font-weight: bold\">0.6543841028857774</span><span style=\"font-weight: bold\">)}</span>                                      <span style=\"color: #7f7f7f; text-decoration-color: #7f7f7f\">                 </span>\n",
       "<span style=\"color: #7fbfbf; text-decoration-color: #7fbfbf\">                    </span>                                                                              <span style=\"color: #7f7f7f; text-decoration-color: #7f7f7f\">                 </span>\n",
       "</pre>\n"
      ]
     },
     "metadata": {},
     "output_type": "display_data"
    },
    {
     "name": "stderr",
     "output_type": "stream",
     "text": [
      "  0%|          | 0/50 [00:00<?, ?it/s]"
     ]
    },
    {
     "data": {
      "text/plain": [
       "\u001B[2;36m                   \u001B[0m\u001B[2;36m \u001B[0m\u001B[34mINFO    \u001B[0m Initial: Loss: \u001B[1;36m-1.854461431503296\u001B[0m Statstics: \u001B[1m{\u001B[0m\u001B[32m'logit_target'\u001B[0m:        \u001B]8;id=565559;file://E:\\Masterarbeit\\ProjectCombined\\rgnn_at_scale\\attacks\\local_prbcd.py\u001B\\\u001B[2mlocal_prbcd.py\u001B[0m\u001B]8;;\u001B\\\u001B[2m:\u001B[0m\u001B]8;id=471698;file://E:\\Masterarbeit\\ProjectCombined\\rgnn_at_scale\\attacks\\local_prbcd.py#97\u001B\\\u001B[2m97\u001B[0m\u001B]8;;\u001B\\\n",
       "\u001B[2;36m                    \u001B[0m         \u001B[1;36m-0.2538212537765503\u001B[0m, \u001B[32m'logit_best_non_target'\u001B[0m: \u001B[1;36m-2.1082825660705566\u001B[0m,   \u001B[2m                 \u001B[0m\n",
       "\u001B[2;36m                    \u001B[0m         \u001B[32m'confidence_target'\u001B[0m: \u001B[1;35mnp.float64\u001B[0m\u001B[1m(\u001B[0m\u001B[1;36m0.77583046641915\u001B[0m\u001B[1m)\u001B[0m,                   \u001B[2m                 \u001B[0m\n",
       "\u001B[2;36m                    \u001B[0m         \u001B[32m'confidence_non_target'\u001B[0m: \u001B[1;35mnp.float64\u001B[0m\u001B[1m(\u001B[0m\u001B[1;36m0.12144636353337258\u001B[0m\u001B[1m)\u001B[0m, \u001B[32m'margin'\u001B[0m:  \u001B[2m                 \u001B[0m\n",
       "\u001B[2;36m                    \u001B[0m         \u001B[1;35mnp.float64\u001B[0m\u001B[1m(\u001B[0m\u001B[1;36m0.6543841028857774\u001B[0m\u001B[1m)\u001B[0m\u001B[1m}\u001B[0m                                      \u001B[2m                 \u001B[0m\n",
       "\u001B[2;36m                    \u001B[0m                                                                              \u001B[2m                 \u001B[0m\n"
      ],
      "text/html": [
       "<pre style=\"white-space:pre;overflow-x:auto;line-height:normal;font-family:Menlo,'DejaVu Sans Mono',consolas,'Courier New',monospace\"><span style=\"color: #7fbfbf; text-decoration-color: #7fbfbf\">                    </span><span style=\"color: #000080; text-decoration-color: #000080\">INFO    </span> Initial: Loss: <span style=\"color: #008080; text-decoration-color: #008080; font-weight: bold\">-1.854461431503296</span> Statstics: <span style=\"font-weight: bold\">{</span><span style=\"color: #008000; text-decoration-color: #008000\">'logit_target'</span>:        <a href=\"file://E:\\Masterarbeit\\ProjectCombined\\rgnn_at_scale\\attacks\\local_prbcd.py\" target=\"_blank\"><span style=\"color: #7f7f7f; text-decoration-color: #7f7f7f\">local_prbcd.py</span></a><span style=\"color: #7f7f7f; text-decoration-color: #7f7f7f\">:</span><a href=\"file://E:\\Masterarbeit\\ProjectCombined\\rgnn_at_scale\\attacks\\local_prbcd.py#97\" target=\"_blank\"><span style=\"color: #7f7f7f; text-decoration-color: #7f7f7f\">97</span></a>\n",
       "<span style=\"color: #7fbfbf; text-decoration-color: #7fbfbf\">                    </span>         <span style=\"color: #008080; text-decoration-color: #008080; font-weight: bold\">-0.2538212537765503</span>, <span style=\"color: #008000; text-decoration-color: #008000\">'logit_best_non_target'</span>: <span style=\"color: #008080; text-decoration-color: #008080; font-weight: bold\">-2.1082825660705566</span>,   <span style=\"color: #7f7f7f; text-decoration-color: #7f7f7f\">                 </span>\n",
       "<span style=\"color: #7fbfbf; text-decoration-color: #7fbfbf\">                    </span>         <span style=\"color: #008000; text-decoration-color: #008000\">'confidence_target'</span>: <span style=\"color: #800080; text-decoration-color: #800080; font-weight: bold\">np.float64</span><span style=\"font-weight: bold\">(</span><span style=\"color: #008080; text-decoration-color: #008080; font-weight: bold\">0.77583046641915</span><span style=\"font-weight: bold\">)</span>,                   <span style=\"color: #7f7f7f; text-decoration-color: #7f7f7f\">                 </span>\n",
       "<span style=\"color: #7fbfbf; text-decoration-color: #7fbfbf\">                    </span>         <span style=\"color: #008000; text-decoration-color: #008000\">'confidence_non_target'</span>: <span style=\"color: #800080; text-decoration-color: #800080; font-weight: bold\">np.float64</span><span style=\"font-weight: bold\">(</span><span style=\"color: #008080; text-decoration-color: #008080; font-weight: bold\">0.12144636353337258</span><span style=\"font-weight: bold\">)</span>, <span style=\"color: #008000; text-decoration-color: #008000\">'margin'</span>:  <span style=\"color: #7f7f7f; text-decoration-color: #7f7f7f\">                 </span>\n",
       "<span style=\"color: #7fbfbf; text-decoration-color: #7fbfbf\">                    </span>         <span style=\"color: #800080; text-decoration-color: #800080; font-weight: bold\">np.float64</span><span style=\"font-weight: bold\">(</span><span style=\"color: #008080; text-decoration-color: #008080; font-weight: bold\">0.6543841028857774</span><span style=\"font-weight: bold\">)}</span>                                      <span style=\"color: #7f7f7f; text-decoration-color: #7f7f7f\">                 </span>\n",
       "<span style=\"color: #7fbfbf; text-decoration-color: #7fbfbf\">                    </span>                                                                              <span style=\"color: #7f7f7f; text-decoration-color: #7f7f7f\">                 </span>\n",
       "</pre>\n"
      ]
     },
     "metadata": {},
     "output_type": "display_data"
    },
    {
     "data": {
      "text/plain": [
       "\u001B[2;36m[04/01/25 12:58:25]\u001B[0m\u001B[2;36m \u001B[0m\u001B[34mINFO    \u001B[0m                                                                     \u001B]8;id=242293;file://E:\\Masterarbeit\\ProjectCombined\\rgnn_at_scale\\attacks\\local_prbcd.py\u001B\\\u001B[2mlocal_prbcd.py\u001B[0m\u001B]8;;\u001B\\\u001B[2m:\u001B[0m\u001B]8;id=305797;file://E:\\Masterarbeit\\ProjectCombined\\rgnn_at_scale\\attacks\\local_prbcd.py#118\u001B\\\u001B[2m118\u001B[0m\u001B]8;;\u001B\\\n",
       "\u001B[2;36m                    \u001B[0m         Epoch: \u001B[1;36m0\u001B[0m Loss: \u001B[1;36m-1.854461431503296\u001B[0m Statstics: \u001B[1m{\u001B[0m\u001B[32m'logit_target'\u001B[0m:       \u001B[2m                  \u001B[0m\n",
       "\u001B[2;36m                    \u001B[0m         \u001B[1;36m-0.2521698474884033\u001B[0m, \u001B[32m'logit_best_non_target'\u001B[0m: \u001B[1;36m-2.1147689819335938\u001B[0m,  \u001B[2m                  \u001B[0m\n",
       "\u001B[2;36m                    \u001B[0m         \u001B[32m'confidence_target'\u001B[0m: \u001B[1;35mnp.float64\u001B[0m\u001B[1m(\u001B[0m\u001B[1;36m0.7771127362127197\u001B[0m\u001B[1m)\u001B[0m,                \u001B[2m                  \u001B[0m\n",
       "\u001B[2;36m                    \u001B[0m         \u001B[32m'confidence_non_target'\u001B[0m: \u001B[1;35mnp.float64\u001B[0m\u001B[1m(\u001B[0m\u001B[1;36m0.12066116124176293\u001B[0m\u001B[1m)\u001B[0m, \u001B[32m'margin'\u001B[0m: \u001B[2m                  \u001B[0m\n",
       "\u001B[2;36m                    \u001B[0m         \u001B[1;35mnp.float64\u001B[0m\u001B[1m(\u001B[0m\u001B[1;36m0.6564515749709567\u001B[0m\u001B[1m)\u001B[0m\u001B[1m}\u001B[0m                                     \u001B[2m                  \u001B[0m\n",
       "\u001B[2;36m                    \u001B[0m                                                                             \u001B[2m                  \u001B[0m\n"
      ],
      "text/html": [
       "<pre style=\"white-space:pre;overflow-x:auto;line-height:normal;font-family:Menlo,'DejaVu Sans Mono',consolas,'Courier New',monospace\"><span style=\"color: #7fbfbf; text-decoration-color: #7fbfbf\">[04/01/25 12:58:25] </span><span style=\"color: #000080; text-decoration-color: #000080\">INFO    </span>                                                                     <a href=\"file://E:\\Masterarbeit\\ProjectCombined\\rgnn_at_scale\\attacks\\local_prbcd.py\" target=\"_blank\"><span style=\"color: #7f7f7f; text-decoration-color: #7f7f7f\">local_prbcd.py</span></a><span style=\"color: #7f7f7f; text-decoration-color: #7f7f7f\">:</span><a href=\"file://E:\\Masterarbeit\\ProjectCombined\\rgnn_at_scale\\attacks\\local_prbcd.py#118\" target=\"_blank\"><span style=\"color: #7f7f7f; text-decoration-color: #7f7f7f\">118</span></a>\n",
       "<span style=\"color: #7fbfbf; text-decoration-color: #7fbfbf\">                    </span>         Epoch: <span style=\"color: #008080; text-decoration-color: #008080; font-weight: bold\">0</span> Loss: <span style=\"color: #008080; text-decoration-color: #008080; font-weight: bold\">-1.854461431503296</span> Statstics: <span style=\"font-weight: bold\">{</span><span style=\"color: #008000; text-decoration-color: #008000\">'logit_target'</span>:       <span style=\"color: #7f7f7f; text-decoration-color: #7f7f7f\">                  </span>\n",
       "<span style=\"color: #7fbfbf; text-decoration-color: #7fbfbf\">                    </span>         <span style=\"color: #008080; text-decoration-color: #008080; font-weight: bold\">-0.2521698474884033</span>, <span style=\"color: #008000; text-decoration-color: #008000\">'logit_best_non_target'</span>: <span style=\"color: #008080; text-decoration-color: #008080; font-weight: bold\">-2.1147689819335938</span>,  <span style=\"color: #7f7f7f; text-decoration-color: #7f7f7f\">                  </span>\n",
       "<span style=\"color: #7fbfbf; text-decoration-color: #7fbfbf\">                    </span>         <span style=\"color: #008000; text-decoration-color: #008000\">'confidence_target'</span>: <span style=\"color: #800080; text-decoration-color: #800080; font-weight: bold\">np.float64</span><span style=\"font-weight: bold\">(</span><span style=\"color: #008080; text-decoration-color: #008080; font-weight: bold\">0.7771127362127197</span><span style=\"font-weight: bold\">)</span>,                <span style=\"color: #7f7f7f; text-decoration-color: #7f7f7f\">                  </span>\n",
       "<span style=\"color: #7fbfbf; text-decoration-color: #7fbfbf\">                    </span>         <span style=\"color: #008000; text-decoration-color: #008000\">'confidence_non_target'</span>: <span style=\"color: #800080; text-decoration-color: #800080; font-weight: bold\">np.float64</span><span style=\"font-weight: bold\">(</span><span style=\"color: #008080; text-decoration-color: #008080; font-weight: bold\">0.12066116124176293</span><span style=\"font-weight: bold\">)</span>, <span style=\"color: #008000; text-decoration-color: #008000\">'margin'</span>: <span style=\"color: #7f7f7f; text-decoration-color: #7f7f7f\">                  </span>\n",
       "<span style=\"color: #7fbfbf; text-decoration-color: #7fbfbf\">                    </span>         <span style=\"color: #800080; text-decoration-color: #800080; font-weight: bold\">np.float64</span><span style=\"font-weight: bold\">(</span><span style=\"color: #008080; text-decoration-color: #008080; font-weight: bold\">0.6564515749709567</span><span style=\"font-weight: bold\">)}</span>                                     <span style=\"color: #7f7f7f; text-decoration-color: #7f7f7f\">                  </span>\n",
       "<span style=\"color: #7fbfbf; text-decoration-color: #7fbfbf\">                    </span>                                                                             <span style=\"color: #7f7f7f; text-decoration-color: #7f7f7f\">                  </span>\n",
       "</pre>\n"
      ]
     },
     "metadata": {},
     "output_type": "display_data"
    },
    {
     "data": {
      "text/plain": [
       "\u001B[2;36m                   \u001B[0m\u001B[2;36m \u001B[0m\u001B[34mINFO    \u001B[0m Gradient mean \u001B[1;36m0.14168691635131836\u001B[0m std \u001B[1;36m0.019508372992277145\u001B[0m with     \u001B]8;id=953812;file://E:\\Masterarbeit\\ProjectCombined\\rgnn_at_scale\\attacks\\local_prbcd.py\u001B\\\u001B[2mlocal_prbcd.py\u001B[0m\u001B]8;;\u001B\\\u001B[2m:\u001B[0m\u001B]8;id=886757;file://E:\\Masterarbeit\\ProjectCombined\\rgnn_at_scale\\attacks\\local_prbcd.py#119\u001B\\\u001B[2m119\u001B[0m\u001B]8;;\u001B\\\n",
       "\u001B[2;36m                    \u001B[0m         base learning rate \u001B[1;36m1.0601886624558858\u001B[0m                               \u001B[2m                  \u001B[0m\n"
      ],
      "text/html": [
       "<pre style=\"white-space:pre;overflow-x:auto;line-height:normal;font-family:Menlo,'DejaVu Sans Mono',consolas,'Courier New',monospace\"><span style=\"color: #7fbfbf; text-decoration-color: #7fbfbf\">                    </span><span style=\"color: #000080; text-decoration-color: #000080\">INFO    </span> Gradient mean <span style=\"color: #008080; text-decoration-color: #008080; font-weight: bold\">0.14168691635131836</span> std <span style=\"color: #008080; text-decoration-color: #008080; font-weight: bold\">0.019508372992277145</span> with     <a href=\"file://E:\\Masterarbeit\\ProjectCombined\\rgnn_at_scale\\attacks\\local_prbcd.py\" target=\"_blank\"><span style=\"color: #7f7f7f; text-decoration-color: #7f7f7f\">local_prbcd.py</span></a><span style=\"color: #7f7f7f; text-decoration-color: #7f7f7f\">:</span><a href=\"file://E:\\Masterarbeit\\ProjectCombined\\rgnn_at_scale\\attacks\\local_prbcd.py#119\" target=\"_blank\"><span style=\"color: #7f7f7f; text-decoration-color: #7f7f7f\">119</span></a>\n",
       "<span style=\"color: #7fbfbf; text-decoration-color: #7fbfbf\">                    </span>         base learning rate <span style=\"color: #008080; text-decoration-color: #008080; font-weight: bold\">1.0601886624558858</span>                               <span style=\"color: #7f7f7f; text-decoration-color: #7f7f7f\">                  </span>\n",
       "</pre>\n"
      ]
     },
     "metadata": {},
     "output_type": "display_data"
    },
    {
     "name": "stderr",
     "output_type": "stream",
     "text": [
      " 40%|████      | 20/50 [00:15<00:22,  1.36it/s]"
     ]
    },
    {
     "data": {
      "text/plain": [
       "\u001B[2;36m[04/01/25 12:58:40]\u001B[0m\u001B[2;36m \u001B[0m\u001B[34mINFO    \u001B[0m                                                                     \u001B]8;id=540755;file://E:\\Masterarbeit\\ProjectCombined\\rgnn_at_scale\\attacks\\local_prbcd.py\u001B\\\u001B[2mlocal_prbcd.py\u001B[0m\u001B]8;;\u001B\\\u001B[2m:\u001B[0m\u001B]8;id=663218;file://E:\\Masterarbeit\\ProjectCombined\\rgnn_at_scale\\attacks\\local_prbcd.py#118\u001B\\\u001B[2m118\u001B[0m\u001B]8;;\u001B\\\n",
       "\u001B[2;36m                    \u001B[0m         Epoch: \u001B[1;36m20\u001B[0m Loss: \u001B[1;36m-1.854461431503296\u001B[0m Statstics: \u001B[1m{\u001B[0m\u001B[32m'logit_target'\u001B[0m:      \u001B[2m                  \u001B[0m\n",
       "\u001B[2;36m                    \u001B[0m         \u001B[1;36m-0.2519262731075287\u001B[0m, \u001B[32m'logit_best_non_target'\u001B[0m: \u001B[1;36m-2.114673137664795\u001B[0m,   \u001B[2m                  \u001B[0m\n",
       "\u001B[2;36m                    \u001B[0m         \u001B[32m'confidence_target'\u001B[0m: \u001B[1;35mnp.float64\u001B[0m\u001B[1m(\u001B[0m\u001B[1;36m0.7773020440206425\u001B[0m\u001B[1m)\u001B[0m,                \u001B[2m                  \u001B[0m\n",
       "\u001B[2;36m                    \u001B[0m         \u001B[32m'confidence_non_target'\u001B[0m: \u001B[1;35mnp.float64\u001B[0m\u001B[1m(\u001B[0m\u001B[1;36m0.12067272647675646\u001B[0m\u001B[1m)\u001B[0m, \u001B[32m'margin'\u001B[0m: \u001B[2m                  \u001B[0m\n",
       "\u001B[2;36m                    \u001B[0m         \u001B[1;35mnp.float64\u001B[0m\u001B[1m(\u001B[0m\u001B[1;36m0.6566293175438861\u001B[0m\u001B[1m)\u001B[0m\u001B[1m}\u001B[0m                                     \u001B[2m                  \u001B[0m\n",
       "\u001B[2;36m                    \u001B[0m                                                                             \u001B[2m                  \u001B[0m\n"
      ],
      "text/html": [
       "<pre style=\"white-space:pre;overflow-x:auto;line-height:normal;font-family:Menlo,'DejaVu Sans Mono',consolas,'Courier New',monospace\"><span style=\"color: #7fbfbf; text-decoration-color: #7fbfbf\">[04/01/25 12:58:40] </span><span style=\"color: #000080; text-decoration-color: #000080\">INFO    </span>                                                                     <a href=\"file://E:\\Masterarbeit\\ProjectCombined\\rgnn_at_scale\\attacks\\local_prbcd.py\" target=\"_blank\"><span style=\"color: #7f7f7f; text-decoration-color: #7f7f7f\">local_prbcd.py</span></a><span style=\"color: #7f7f7f; text-decoration-color: #7f7f7f\">:</span><a href=\"file://E:\\Masterarbeit\\ProjectCombined\\rgnn_at_scale\\attacks\\local_prbcd.py#118\" target=\"_blank\"><span style=\"color: #7f7f7f; text-decoration-color: #7f7f7f\">118</span></a>\n",
       "<span style=\"color: #7fbfbf; text-decoration-color: #7fbfbf\">                    </span>         Epoch: <span style=\"color: #008080; text-decoration-color: #008080; font-weight: bold\">20</span> Loss: <span style=\"color: #008080; text-decoration-color: #008080; font-weight: bold\">-1.854461431503296</span> Statstics: <span style=\"font-weight: bold\">{</span><span style=\"color: #008000; text-decoration-color: #008000\">'logit_target'</span>:      <span style=\"color: #7f7f7f; text-decoration-color: #7f7f7f\">                  </span>\n",
       "<span style=\"color: #7fbfbf; text-decoration-color: #7fbfbf\">                    </span>         <span style=\"color: #008080; text-decoration-color: #008080; font-weight: bold\">-0.2519262731075287</span>, <span style=\"color: #008000; text-decoration-color: #008000\">'logit_best_non_target'</span>: <span style=\"color: #008080; text-decoration-color: #008080; font-weight: bold\">-2.114673137664795</span>,   <span style=\"color: #7f7f7f; text-decoration-color: #7f7f7f\">                  </span>\n",
       "<span style=\"color: #7fbfbf; text-decoration-color: #7fbfbf\">                    </span>         <span style=\"color: #008000; text-decoration-color: #008000\">'confidence_target'</span>: <span style=\"color: #800080; text-decoration-color: #800080; font-weight: bold\">np.float64</span><span style=\"font-weight: bold\">(</span><span style=\"color: #008080; text-decoration-color: #008080; font-weight: bold\">0.7773020440206425</span><span style=\"font-weight: bold\">)</span>,                <span style=\"color: #7f7f7f; text-decoration-color: #7f7f7f\">                  </span>\n",
       "<span style=\"color: #7fbfbf; text-decoration-color: #7fbfbf\">                    </span>         <span style=\"color: #008000; text-decoration-color: #008000\">'confidence_non_target'</span>: <span style=\"color: #800080; text-decoration-color: #800080; font-weight: bold\">np.float64</span><span style=\"font-weight: bold\">(</span><span style=\"color: #008080; text-decoration-color: #008080; font-weight: bold\">0.12067272647675646</span><span style=\"font-weight: bold\">)</span>, <span style=\"color: #008000; text-decoration-color: #008000\">'margin'</span>: <span style=\"color: #7f7f7f; text-decoration-color: #7f7f7f\">                  </span>\n",
       "<span style=\"color: #7fbfbf; text-decoration-color: #7fbfbf\">                    </span>         <span style=\"color: #800080; text-decoration-color: #800080; font-weight: bold\">np.float64</span><span style=\"font-weight: bold\">(</span><span style=\"color: #008080; text-decoration-color: #008080; font-weight: bold\">0.6566293175438861</span><span style=\"font-weight: bold\">)}</span>                                     <span style=\"color: #7f7f7f; text-decoration-color: #7f7f7f\">                  </span>\n",
       "<span style=\"color: #7fbfbf; text-decoration-color: #7fbfbf\">                    </span>                                                                             <span style=\"color: #7f7f7f; text-decoration-color: #7f7f7f\">                  </span>\n",
       "</pre>\n"
      ]
     },
     "metadata": {},
     "output_type": "display_data"
    },
    {
     "data": {
      "text/plain": [
       "\u001B[2;36m                   \u001B[0m\u001B[2;36m \u001B[0m\u001B[34mINFO    \u001B[0m Gradient mean \u001B[1;36m0.14168690145015717\u001B[0m std \u001B[1;36m0.019508372992277145\u001B[0m with     \u001B]8;id=658625;file://E:\\Masterarbeit\\ProjectCombined\\rgnn_at_scale\\attacks\\local_prbcd.py\u001B\\\u001B[2mlocal_prbcd.py\u001B[0m\u001B]8;;\u001B\\\u001B[2m:\u001B[0m\u001B]8;id=635161;file://E:\\Masterarbeit\\ProjectCombined\\rgnn_at_scale\\attacks\\local_prbcd.py#119\u001B\\\u001B[2m119\u001B[0m\u001B]8;;\u001B\\\n",
       "\u001B[2;36m                    \u001B[0m         base learning rate \u001B[1;36m1.0601886624558858\u001B[0m                               \u001B[2m                  \u001B[0m\n"
      ],
      "text/html": [
       "<pre style=\"white-space:pre;overflow-x:auto;line-height:normal;font-family:Menlo,'DejaVu Sans Mono',consolas,'Courier New',monospace\"><span style=\"color: #7fbfbf; text-decoration-color: #7fbfbf\">                    </span><span style=\"color: #000080; text-decoration-color: #000080\">INFO    </span> Gradient mean <span style=\"color: #008080; text-decoration-color: #008080; font-weight: bold\">0.14168690145015717</span> std <span style=\"color: #008080; text-decoration-color: #008080; font-weight: bold\">0.019508372992277145</span> with     <a href=\"file://E:\\Masterarbeit\\ProjectCombined\\rgnn_at_scale\\attacks\\local_prbcd.py\" target=\"_blank\"><span style=\"color: #7f7f7f; text-decoration-color: #7f7f7f\">local_prbcd.py</span></a><span style=\"color: #7f7f7f; text-decoration-color: #7f7f7f\">:</span><a href=\"file://E:\\Masterarbeit\\ProjectCombined\\rgnn_at_scale\\attacks\\local_prbcd.py#119\" target=\"_blank\"><span style=\"color: #7f7f7f; text-decoration-color: #7f7f7f\">119</span></a>\n",
       "<span style=\"color: #7fbfbf; text-decoration-color: #7fbfbf\">                    </span>         base learning rate <span style=\"color: #008080; text-decoration-color: #008080; font-weight: bold\">1.0601886624558858</span>                               <span style=\"color: #7f7f7f; text-decoration-color: #7f7f7f\">                  </span>\n",
       "</pre>\n"
      ]
     },
     "metadata": {},
     "output_type": "display_data"
    },
    {
     "name": "stderr",
     "output_type": "stream",
     "text": [
      " 80%|████████  | 40/50 [00:29<00:07,  1.41it/s]"
     ]
    },
    {
     "data": {
      "text/plain": [
       "\u001B[2;36m[04/01/25 12:58:54]\u001B[0m\u001B[2;36m \u001B[0m\u001B[34mINFO    \u001B[0m                                                                     \u001B]8;id=808493;file://E:\\Masterarbeit\\ProjectCombined\\rgnn_at_scale\\attacks\\local_prbcd.py\u001B\\\u001B[2mlocal_prbcd.py\u001B[0m\u001B]8;;\u001B\\\u001B[2m:\u001B[0m\u001B]8;id=627272;file://E:\\Masterarbeit\\ProjectCombined\\rgnn_at_scale\\attacks\\local_prbcd.py#118\u001B\\\u001B[2m118\u001B[0m\u001B]8;;\u001B\\\n",
       "\u001B[2;36m                    \u001B[0m         Epoch: \u001B[1;36m40\u001B[0m Loss: \u001B[1;36m-1.854461431503296\u001B[0m Statstics: \u001B[1m{\u001B[0m\u001B[32m'logit_target'\u001B[0m:      \u001B[2m                  \u001B[0m\n",
       "\u001B[2;36m                    \u001B[0m         \u001B[1;36m-0.25174352526664734\u001B[0m, \u001B[32m'logit_best_non_target'\u001B[0m: \u001B[1;36m-2.1144914627075195\u001B[0m, \u001B[2m                  \u001B[0m\n",
       "\u001B[2;36m                    \u001B[0m         \u001B[32m'confidence_target'\u001B[0m: \u001B[1;35mnp.float64\u001B[0m\u001B[1m(\u001B[0m\u001B[1;36m0.7774441072713808\u001B[0m\u001B[1m)\u001B[0m,                \u001B[2m                  \u001B[0m\n",
       "\u001B[2;36m                    \u001B[0m         \u001B[32m'confidence_non_target'\u001B[0m: \u001B[1;35mnp.float64\u001B[0m\u001B[1m(\u001B[0m\u001B[1;36m0.12069465168075337\u001B[0m\u001B[1m)\u001B[0m, \u001B[32m'margin'\u001B[0m: \u001B[2m                  \u001B[0m\n",
       "\u001B[2;36m                    \u001B[0m         \u001B[1;35mnp.float64\u001B[0m\u001B[1m(\u001B[0m\u001B[1;36m0.6567494555906275\u001B[0m\u001B[1m)\u001B[0m\u001B[1m}\u001B[0m                                     \u001B[2m                  \u001B[0m\n",
       "\u001B[2;36m                    \u001B[0m                                                                             \u001B[2m                  \u001B[0m\n"
      ],
      "text/html": [
       "<pre style=\"white-space:pre;overflow-x:auto;line-height:normal;font-family:Menlo,'DejaVu Sans Mono',consolas,'Courier New',monospace\"><span style=\"color: #7fbfbf; text-decoration-color: #7fbfbf\">[04/01/25 12:58:54] </span><span style=\"color: #000080; text-decoration-color: #000080\">INFO    </span>                                                                     <a href=\"file://E:\\Masterarbeit\\ProjectCombined\\rgnn_at_scale\\attacks\\local_prbcd.py\" target=\"_blank\"><span style=\"color: #7f7f7f; text-decoration-color: #7f7f7f\">local_prbcd.py</span></a><span style=\"color: #7f7f7f; text-decoration-color: #7f7f7f\">:</span><a href=\"file://E:\\Masterarbeit\\ProjectCombined\\rgnn_at_scale\\attacks\\local_prbcd.py#118\" target=\"_blank\"><span style=\"color: #7f7f7f; text-decoration-color: #7f7f7f\">118</span></a>\n",
       "<span style=\"color: #7fbfbf; text-decoration-color: #7fbfbf\">                    </span>         Epoch: <span style=\"color: #008080; text-decoration-color: #008080; font-weight: bold\">40</span> Loss: <span style=\"color: #008080; text-decoration-color: #008080; font-weight: bold\">-1.854461431503296</span> Statstics: <span style=\"font-weight: bold\">{</span><span style=\"color: #008000; text-decoration-color: #008000\">'logit_target'</span>:      <span style=\"color: #7f7f7f; text-decoration-color: #7f7f7f\">                  </span>\n",
       "<span style=\"color: #7fbfbf; text-decoration-color: #7fbfbf\">                    </span>         <span style=\"color: #008080; text-decoration-color: #008080; font-weight: bold\">-0.25174352526664734</span>, <span style=\"color: #008000; text-decoration-color: #008000\">'logit_best_non_target'</span>: <span style=\"color: #008080; text-decoration-color: #008080; font-weight: bold\">-2.1144914627075195</span>, <span style=\"color: #7f7f7f; text-decoration-color: #7f7f7f\">                  </span>\n",
       "<span style=\"color: #7fbfbf; text-decoration-color: #7fbfbf\">                    </span>         <span style=\"color: #008000; text-decoration-color: #008000\">'confidence_target'</span>: <span style=\"color: #800080; text-decoration-color: #800080; font-weight: bold\">np.float64</span><span style=\"font-weight: bold\">(</span><span style=\"color: #008080; text-decoration-color: #008080; font-weight: bold\">0.7774441072713808</span><span style=\"font-weight: bold\">)</span>,                <span style=\"color: #7f7f7f; text-decoration-color: #7f7f7f\">                  </span>\n",
       "<span style=\"color: #7fbfbf; text-decoration-color: #7fbfbf\">                    </span>         <span style=\"color: #008000; text-decoration-color: #008000\">'confidence_non_target'</span>: <span style=\"color: #800080; text-decoration-color: #800080; font-weight: bold\">np.float64</span><span style=\"font-weight: bold\">(</span><span style=\"color: #008080; text-decoration-color: #008080; font-weight: bold\">0.12069465168075337</span><span style=\"font-weight: bold\">)</span>, <span style=\"color: #008000; text-decoration-color: #008000\">'margin'</span>: <span style=\"color: #7f7f7f; text-decoration-color: #7f7f7f\">                  </span>\n",
       "<span style=\"color: #7fbfbf; text-decoration-color: #7fbfbf\">                    </span>         <span style=\"color: #800080; text-decoration-color: #800080; font-weight: bold\">np.float64</span><span style=\"font-weight: bold\">(</span><span style=\"color: #008080; text-decoration-color: #008080; font-weight: bold\">0.6567494555906275</span><span style=\"font-weight: bold\">)}</span>                                     <span style=\"color: #7f7f7f; text-decoration-color: #7f7f7f\">                  </span>\n",
       "<span style=\"color: #7fbfbf; text-decoration-color: #7fbfbf\">                    </span>                                                                             <span style=\"color: #7f7f7f; text-decoration-color: #7f7f7f\">                  </span>\n",
       "</pre>\n"
      ]
     },
     "metadata": {},
     "output_type": "display_data"
    },
    {
     "data": {
      "text/plain": [
       "\u001B[2;36m                   \u001B[0m\u001B[2;36m \u001B[0m\u001B[34mINFO    \u001B[0m Gradient mean \u001B[1;36m0.14168691635131836\u001B[0m std \u001B[1;36m0.019508372992277145\u001B[0m with     \u001B]8;id=181939;file://E:\\Masterarbeit\\ProjectCombined\\rgnn_at_scale\\attacks\\local_prbcd.py\u001B\\\u001B[2mlocal_prbcd.py\u001B[0m\u001B]8;;\u001B\\\u001B[2m:\u001B[0m\u001B]8;id=192828;file://E:\\Masterarbeit\\ProjectCombined\\rgnn_at_scale\\attacks\\local_prbcd.py#119\u001B\\\u001B[2m119\u001B[0m\u001B]8;;\u001B\\\n",
       "\u001B[2;36m                    \u001B[0m         base learning rate \u001B[1;36m1.0601886624558858\u001B[0m                               \u001B[2m                  \u001B[0m\n"
      ],
      "text/html": [
       "<pre style=\"white-space:pre;overflow-x:auto;line-height:normal;font-family:Menlo,'DejaVu Sans Mono',consolas,'Courier New',monospace\"><span style=\"color: #7fbfbf; text-decoration-color: #7fbfbf\">                    </span><span style=\"color: #000080; text-decoration-color: #000080\">INFO    </span> Gradient mean <span style=\"color: #008080; text-decoration-color: #008080; font-weight: bold\">0.14168691635131836</span> std <span style=\"color: #008080; text-decoration-color: #008080; font-weight: bold\">0.019508372992277145</span> with     <a href=\"file://E:\\Masterarbeit\\ProjectCombined\\rgnn_at_scale\\attacks\\local_prbcd.py\" target=\"_blank\"><span style=\"color: #7f7f7f; text-decoration-color: #7f7f7f\">local_prbcd.py</span></a><span style=\"color: #7f7f7f; text-decoration-color: #7f7f7f\">:</span><a href=\"file://E:\\Masterarbeit\\ProjectCombined\\rgnn_at_scale\\attacks\\local_prbcd.py#119\" target=\"_blank\"><span style=\"color: #7f7f7f; text-decoration-color: #7f7f7f\">119</span></a>\n",
       "<span style=\"color: #7fbfbf; text-decoration-color: #7fbfbf\">                    </span>         base learning rate <span style=\"color: #008080; text-decoration-color: #008080; font-weight: bold\">1.0601886624558858</span>                               <span style=\"color: #7f7f7f; text-decoration-color: #7f7f7f\">                  </span>\n",
       "</pre>\n"
      ]
     },
     "metadata": {},
     "output_type": "display_data"
    },
    {
     "name": "stderr",
     "output_type": "stream",
     "text": [
      "100%|██████████| 50/50 [00:37<00:00,  1.35it/s]\n"
     ]
    },
    {
     "data": {
      "text/plain": [
       "\u001B[2;36m[04/01/25 12:59:02]\u001B[0m\u001B[2;36m \u001B[0m\u001B[34mINFO    \u001B[0m Evaluated model Vanilla GCN using LocalPRBCD     \u001B]8;id=96008;file://E:\\Masterarbeit\\ProjectCombined\\experiments\\experiment_local_attack_direct.py\u001B\\\u001B[2mexperiment_local_attack_direct.py\u001B[0m\u001B]8;;\u001B\\\u001B[2m:\u001B[0m\u001B]8;id=42837;file://E:\\Masterarbeit\\ProjectCombined\\experiments\\experiment_local_attack_direct.py#194\u001B\\\u001B[2m194\u001B[0m\u001B]8;;\u001B\\\n",
       "\u001B[2;36m                    \u001B[0m         with pert. edges for node \u001B[1;36m834\u001B[0m and budget \u001B[1;36m4\u001B[0m:      \u001B[2m                                     \u001B[0m\n"
      ],
      "text/html": [
       "<pre style=\"white-space:pre;overflow-x:auto;line-height:normal;font-family:Menlo,'DejaVu Sans Mono',consolas,'Courier New',monospace\"><span style=\"color: #7fbfbf; text-decoration-color: #7fbfbf\">[04/01/25 12:59:02] </span><span style=\"color: #000080; text-decoration-color: #000080\">INFO    </span> Evaluated model Vanilla GCN using LocalPRBCD     <a href=\"file://E:\\Masterarbeit\\ProjectCombined\\experiments\\experiment_local_attack_direct.py\" target=\"_blank\"><span style=\"color: #7f7f7f; text-decoration-color: #7f7f7f\">experiment_local_attack_direct.py</span></a><span style=\"color: #7f7f7f; text-decoration-color: #7f7f7f\">:</span><a href=\"file://E:\\Masterarbeit\\ProjectCombined\\experiments\\experiment_local_attack_direct.py#194\" target=\"_blank\"><span style=\"color: #7f7f7f; text-decoration-color: #7f7f7f\">194</span></a>\n",
       "<span style=\"color: #7fbfbf; text-decoration-color: #7fbfbf\">                    </span>         with pert. edges for node <span style=\"color: #008080; text-decoration-color: #008080; font-weight: bold\">834</span> and budget <span style=\"color: #008080; text-decoration-color: #008080; font-weight: bold\">4</span>:      <span style=\"color: #7f7f7f; text-decoration-color: #7f7f7f\">                                     </span>\n",
       "</pre>\n"
      ]
     },
     "metadata": {},
     "output_type": "display_data"
    },
    {
     "data": {
      "text/plain": [
       "\u001B[2;36m                   \u001B[0m\u001B[2;36m \u001B[0m\u001B[34mINFO    \u001B[0m \u001B[1m{\u001B[0m\u001B[32m'label'\u001B[0m: \u001B[32m'Vanilla GCN'\u001B[0m, \u001B[32m'epsilon'\u001B[0m: \u001B[1;36m1\u001B[0m,           \u001B]8;id=520309;file://E:\\Masterarbeit\\ProjectCombined\\experiments\\experiment_local_attack_direct.py\u001B\\\u001B[2mexperiment_local_attack_direct.py\u001B[0m\u001B]8;;\u001B\\\u001B[2m:\u001B[0m\u001B]8;id=968898;file://E:\\Masterarbeit\\ProjectCombined\\experiments\\experiment_local_attack_direct.py#215\u001B\\\u001B[2m215\u001B[0m\u001B]8;;\u001B\\\n",
       "\u001B[2;36m                    \u001B[0m         \u001B[32m'n_perturbations'\u001B[0m: \u001B[1;36m4\u001B[0m, \u001B[32m'degree'\u001B[0m: \u001B[1;36m4\u001B[0m, \u001B[32m'logits'\u001B[0m:     \u001B[2m                                     \u001B[0m\n",
       "\u001B[2;36m                    \u001B[0m         \u001B[1m[\u001B[0m\u001B[1m[\u001B[0m\u001B[1;36m-0.8315818309783936\u001B[0m, \u001B[1;36m-0.6294172406196594\u001B[0m,      \u001B[2m                                     \u001B[0m\n",
       "\u001B[2;36m                    \u001B[0m         \u001B[1;36m-0.9313475489616394\u001B[0m, \u001B[1;36m-0.8464639782905579\u001B[0m,        \u001B[2m                                     \u001B[0m\n",
       "\u001B[2;36m                    \u001B[0m         \u001B[1;36m1.1451414823532104\u001B[0m, \u001B[1;36m-1.55745530128479\u001B[0m,           \u001B[2m                                     \u001B[0m\n",
       "\u001B[2;36m                    \u001B[0m         \u001B[1;36m3.419384479522705\u001B[0m\u001B[1m]\u001B[0m\u001B[1m]\u001B[0m, \u001B[32m'initial_logits'\u001B[0m:           \u001B[2m                                     \u001B[0m\n",
       "\u001B[2;36m                    \u001B[0m         \u001B[1m[\u001B[0m\u001B[1m[\u001B[0m\u001B[1;36m-0.9971190690994263\u001B[0m, \u001B[1;36m-0.4643632173538208\u001B[0m,      \u001B[2m                                     \u001B[0m\n",
       "\u001B[2;36m                    \u001B[0m         \u001B[1;36m-0.5644691586494446\u001B[0m, \u001B[1;36m-0.3773425817489624\u001B[0m,        \u001B[2m                                     \u001B[0m\n",
       "\u001B[2;36m                    \u001B[0m         \u001B[1;36m2.905974864959717\u001B[0m, \u001B[1;36m-1.778262972831726\u001B[0m,           \u001B[2m                                     \u001B[0m\n",
       "\u001B[2;36m                    \u001B[0m         \u001B[1;36m1.051513433456421\u001B[0m\u001B[1m]\u001B[0m\u001B[1m]\u001B[0m, \u001B[32m'larget'\u001B[0m: \u001B[1;36m4\u001B[0m, \u001B[32m'node_id'\u001B[0m:     \u001B[2m                                     \u001B[0m\n",
       "\u001B[2;36m                    \u001B[0m         \u001B[1;36m834\u001B[0m, \u001B[32m'perturbed_edges'\u001B[0m: \u001B[1m[\u001B[0m\u001B[1m[\u001B[0m\u001B[1;36m834\u001B[0m, \u001B[1;36m834\u001B[0m, \u001B[1;36m834\u001B[0m, \u001B[1;36m834\u001B[0m\u001B[1m]\u001B[0m,   \u001B[2m                                     \u001B[0m\n",
       "\u001B[2;36m                    \u001B[0m         \u001B[1m[\u001B[0m\u001B[1;36m26\u001B[0m, \u001B[1;36m31\u001B[0m, \u001B[1;36m36\u001B[0m, \u001B[1;36m117\u001B[0m\u001B[1m]\u001B[0m\u001B[1m]\u001B[0m, \u001B[32m'logit_target'\u001B[0m:              \u001B[2m                                     \u001B[0m\n",
       "\u001B[2;36m                    \u001B[0m         \u001B[1;36m-2.4298794269561768\u001B[0m, \u001B[32m'logit_best_non_target'\u001B[0m:    \u001B[2m                                     \u001B[0m\n",
       "\u001B[2;36m                    \u001B[0m         \u001B[1;36m-0.15563665330410004\u001B[0m, \u001B[32m'confidence_target'\u001B[0m:       \u001B[2m                                     \u001B[0m\n",
       "\u001B[2;36m                    \u001B[0m         \u001B[1;35mnp.float64\u001B[0m\u001B[1m(\u001B[0m\u001B[1;36m0.08804744809120482\u001B[0m\u001B[1m)\u001B[0m,                 \u001B[2m                                     \u001B[0m\n",
       "\u001B[2;36m                    \u001B[0m         \u001B[32m'confidence_non_target'\u001B[0m:                         \u001B[2m                                     \u001B[0m\n",
       "\u001B[2;36m                    \u001B[0m         \u001B[1;35mnp.float64\u001B[0m\u001B[1m(\u001B[0m\u001B[1;36m0.8558701114586409\u001B[0m\u001B[1m)\u001B[0m, \u001B[32m'margin'\u001B[0m:        \u001B[2m                                     \u001B[0m\n",
       "\u001B[2;36m                    \u001B[0m         \u001B[1;35mnp.float64\u001B[0m\u001B[1m(\u001B[0m\u001B[1;36m-0.7678226633674361\u001B[0m\u001B[1m)\u001B[0m,                 \u001B[2m                                     \u001B[0m\n",
       "\u001B[2;36m                    \u001B[0m         \u001B[32m'initial_logit_target'\u001B[0m: \u001B[1;36m-0.2538212537765503\u001B[0m,     \u001B[2m                                     \u001B[0m\n",
       "\u001B[2;36m                    \u001B[0m         \u001B[32m'initial_logit_best_non_target'\u001B[0m:                 \u001B[2m                                     \u001B[0m\n",
       "\u001B[2;36m                    \u001B[0m         \u001B[1;36m-2.1082825660705566\u001B[0m,                             \u001B[2m                                     \u001B[0m\n",
       "\u001B[2;36m                    \u001B[0m         \u001B[32m'initial_confidence_target'\u001B[0m:                     \u001B[2m                                     \u001B[0m\n",
       "\u001B[2;36m                    \u001B[0m         \u001B[1;35mnp.float64\u001B[0m\u001B[1m(\u001B[0m\u001B[1;36m0.77583046641915\u001B[0m\u001B[1m)\u001B[0m,                    \u001B[2m                                     \u001B[0m\n",
       "\u001B[2;36m                    \u001B[0m         \u001B[32m'initial_confidence_non_target'\u001B[0m:                 \u001B[2m                                     \u001B[0m\n",
       "\u001B[2;36m                    \u001B[0m         \u001B[1;35mnp.float64\u001B[0m\u001B[1m(\u001B[0m\u001B[1;36m0.12144636353337258\u001B[0m\u001B[1m)\u001B[0m,                 \u001B[2m                                     \u001B[0m\n",
       "\u001B[2;36m                    \u001B[0m         \u001B[32m'initial_margin'\u001B[0m:                                \u001B[2m                                     \u001B[0m\n",
       "\u001B[2;36m                    \u001B[0m         \u001B[1;35mnp.float64\u001B[0m\u001B[1m(\u001B[0m\u001B[1;36m0.6543841028857774\u001B[0m\u001B[1m)\u001B[0m\u001B[1m}\u001B[0m                  \u001B[2m                                     \u001B[0m\n"
      ],
      "text/html": [
       "<pre style=\"white-space:pre;overflow-x:auto;line-height:normal;font-family:Menlo,'DejaVu Sans Mono',consolas,'Courier New',monospace\"><span style=\"color: #7fbfbf; text-decoration-color: #7fbfbf\">                    </span><span style=\"color: #000080; text-decoration-color: #000080\">INFO    </span> <span style=\"font-weight: bold\">{</span><span style=\"color: #008000; text-decoration-color: #008000\">'label'</span>: <span style=\"color: #008000; text-decoration-color: #008000\">'Vanilla GCN'</span>, <span style=\"color: #008000; text-decoration-color: #008000\">'epsilon'</span>: <span style=\"color: #008080; text-decoration-color: #008080; font-weight: bold\">1</span>,           <a href=\"file://E:\\Masterarbeit\\ProjectCombined\\experiments\\experiment_local_attack_direct.py\" target=\"_blank\"><span style=\"color: #7f7f7f; text-decoration-color: #7f7f7f\">experiment_local_attack_direct.py</span></a><span style=\"color: #7f7f7f; text-decoration-color: #7f7f7f\">:</span><a href=\"file://E:\\Masterarbeit\\ProjectCombined\\experiments\\experiment_local_attack_direct.py#215\" target=\"_blank\"><span style=\"color: #7f7f7f; text-decoration-color: #7f7f7f\">215</span></a>\n",
       "<span style=\"color: #7fbfbf; text-decoration-color: #7fbfbf\">                    </span>         <span style=\"color: #008000; text-decoration-color: #008000\">'n_perturbations'</span>: <span style=\"color: #008080; text-decoration-color: #008080; font-weight: bold\">4</span>, <span style=\"color: #008000; text-decoration-color: #008000\">'degree'</span>: <span style=\"color: #008080; text-decoration-color: #008080; font-weight: bold\">4</span>, <span style=\"color: #008000; text-decoration-color: #008000\">'logits'</span>:     <span style=\"color: #7f7f7f; text-decoration-color: #7f7f7f\">                                     </span>\n",
       "<span style=\"color: #7fbfbf; text-decoration-color: #7fbfbf\">                    </span>         <span style=\"font-weight: bold\">[[</span><span style=\"color: #008080; text-decoration-color: #008080; font-weight: bold\">-0.8315818309783936</span>, <span style=\"color: #008080; text-decoration-color: #008080; font-weight: bold\">-0.6294172406196594</span>,      <span style=\"color: #7f7f7f; text-decoration-color: #7f7f7f\">                                     </span>\n",
       "<span style=\"color: #7fbfbf; text-decoration-color: #7fbfbf\">                    </span>         <span style=\"color: #008080; text-decoration-color: #008080; font-weight: bold\">-0.9313475489616394</span>, <span style=\"color: #008080; text-decoration-color: #008080; font-weight: bold\">-0.8464639782905579</span>,        <span style=\"color: #7f7f7f; text-decoration-color: #7f7f7f\">                                     </span>\n",
       "<span style=\"color: #7fbfbf; text-decoration-color: #7fbfbf\">                    </span>         <span style=\"color: #008080; text-decoration-color: #008080; font-weight: bold\">1.1451414823532104</span>, <span style=\"color: #008080; text-decoration-color: #008080; font-weight: bold\">-1.55745530128479</span>,           <span style=\"color: #7f7f7f; text-decoration-color: #7f7f7f\">                                     </span>\n",
       "<span style=\"color: #7fbfbf; text-decoration-color: #7fbfbf\">                    </span>         <span style=\"color: #008080; text-decoration-color: #008080; font-weight: bold\">3.419384479522705</span><span style=\"font-weight: bold\">]]</span>, <span style=\"color: #008000; text-decoration-color: #008000\">'initial_logits'</span>:           <span style=\"color: #7f7f7f; text-decoration-color: #7f7f7f\">                                     </span>\n",
       "<span style=\"color: #7fbfbf; text-decoration-color: #7fbfbf\">                    </span>         <span style=\"font-weight: bold\">[[</span><span style=\"color: #008080; text-decoration-color: #008080; font-weight: bold\">-0.9971190690994263</span>, <span style=\"color: #008080; text-decoration-color: #008080; font-weight: bold\">-0.4643632173538208</span>,      <span style=\"color: #7f7f7f; text-decoration-color: #7f7f7f\">                                     </span>\n",
       "<span style=\"color: #7fbfbf; text-decoration-color: #7fbfbf\">                    </span>         <span style=\"color: #008080; text-decoration-color: #008080; font-weight: bold\">-0.5644691586494446</span>, <span style=\"color: #008080; text-decoration-color: #008080; font-weight: bold\">-0.3773425817489624</span>,        <span style=\"color: #7f7f7f; text-decoration-color: #7f7f7f\">                                     </span>\n",
       "<span style=\"color: #7fbfbf; text-decoration-color: #7fbfbf\">                    </span>         <span style=\"color: #008080; text-decoration-color: #008080; font-weight: bold\">2.905974864959717</span>, <span style=\"color: #008080; text-decoration-color: #008080; font-weight: bold\">-1.778262972831726</span>,           <span style=\"color: #7f7f7f; text-decoration-color: #7f7f7f\">                                     </span>\n",
       "<span style=\"color: #7fbfbf; text-decoration-color: #7fbfbf\">                    </span>         <span style=\"color: #008080; text-decoration-color: #008080; font-weight: bold\">1.051513433456421</span><span style=\"font-weight: bold\">]]</span>, <span style=\"color: #008000; text-decoration-color: #008000\">'larget'</span>: <span style=\"color: #008080; text-decoration-color: #008080; font-weight: bold\">4</span>, <span style=\"color: #008000; text-decoration-color: #008000\">'node_id'</span>:     <span style=\"color: #7f7f7f; text-decoration-color: #7f7f7f\">                                     </span>\n",
       "<span style=\"color: #7fbfbf; text-decoration-color: #7fbfbf\">                    </span>         <span style=\"color: #008080; text-decoration-color: #008080; font-weight: bold\">834</span>, <span style=\"color: #008000; text-decoration-color: #008000\">'perturbed_edges'</span>: <span style=\"font-weight: bold\">[[</span><span style=\"color: #008080; text-decoration-color: #008080; font-weight: bold\">834</span>, <span style=\"color: #008080; text-decoration-color: #008080; font-weight: bold\">834</span>, <span style=\"color: #008080; text-decoration-color: #008080; font-weight: bold\">834</span>, <span style=\"color: #008080; text-decoration-color: #008080; font-weight: bold\">834</span><span style=\"font-weight: bold\">]</span>,   <span style=\"color: #7f7f7f; text-decoration-color: #7f7f7f\">                                     </span>\n",
       "<span style=\"color: #7fbfbf; text-decoration-color: #7fbfbf\">                    </span>         <span style=\"font-weight: bold\">[</span><span style=\"color: #008080; text-decoration-color: #008080; font-weight: bold\">26</span>, <span style=\"color: #008080; text-decoration-color: #008080; font-weight: bold\">31</span>, <span style=\"color: #008080; text-decoration-color: #008080; font-weight: bold\">36</span>, <span style=\"color: #008080; text-decoration-color: #008080; font-weight: bold\">117</span><span style=\"font-weight: bold\">]]</span>, <span style=\"color: #008000; text-decoration-color: #008000\">'logit_target'</span>:              <span style=\"color: #7f7f7f; text-decoration-color: #7f7f7f\">                                     </span>\n",
       "<span style=\"color: #7fbfbf; text-decoration-color: #7fbfbf\">                    </span>         <span style=\"color: #008080; text-decoration-color: #008080; font-weight: bold\">-2.4298794269561768</span>, <span style=\"color: #008000; text-decoration-color: #008000\">'logit_best_non_target'</span>:    <span style=\"color: #7f7f7f; text-decoration-color: #7f7f7f\">                                     </span>\n",
       "<span style=\"color: #7fbfbf; text-decoration-color: #7fbfbf\">                    </span>         <span style=\"color: #008080; text-decoration-color: #008080; font-weight: bold\">-0.15563665330410004</span>, <span style=\"color: #008000; text-decoration-color: #008000\">'confidence_target'</span>:       <span style=\"color: #7f7f7f; text-decoration-color: #7f7f7f\">                                     </span>\n",
       "<span style=\"color: #7fbfbf; text-decoration-color: #7fbfbf\">                    </span>         <span style=\"color: #800080; text-decoration-color: #800080; font-weight: bold\">np.float64</span><span style=\"font-weight: bold\">(</span><span style=\"color: #008080; text-decoration-color: #008080; font-weight: bold\">0.08804744809120482</span><span style=\"font-weight: bold\">)</span>,                 <span style=\"color: #7f7f7f; text-decoration-color: #7f7f7f\">                                     </span>\n",
       "<span style=\"color: #7fbfbf; text-decoration-color: #7fbfbf\">                    </span>         <span style=\"color: #008000; text-decoration-color: #008000\">'confidence_non_target'</span>:                         <span style=\"color: #7f7f7f; text-decoration-color: #7f7f7f\">                                     </span>\n",
       "<span style=\"color: #7fbfbf; text-decoration-color: #7fbfbf\">                    </span>         <span style=\"color: #800080; text-decoration-color: #800080; font-weight: bold\">np.float64</span><span style=\"font-weight: bold\">(</span><span style=\"color: #008080; text-decoration-color: #008080; font-weight: bold\">0.8558701114586409</span><span style=\"font-weight: bold\">)</span>, <span style=\"color: #008000; text-decoration-color: #008000\">'margin'</span>:        <span style=\"color: #7f7f7f; text-decoration-color: #7f7f7f\">                                     </span>\n",
       "<span style=\"color: #7fbfbf; text-decoration-color: #7fbfbf\">                    </span>         <span style=\"color: #800080; text-decoration-color: #800080; font-weight: bold\">np.float64</span><span style=\"font-weight: bold\">(</span><span style=\"color: #008080; text-decoration-color: #008080; font-weight: bold\">-0.7678226633674361</span><span style=\"font-weight: bold\">)</span>,                 <span style=\"color: #7f7f7f; text-decoration-color: #7f7f7f\">                                     </span>\n",
       "<span style=\"color: #7fbfbf; text-decoration-color: #7fbfbf\">                    </span>         <span style=\"color: #008000; text-decoration-color: #008000\">'initial_logit_target'</span>: <span style=\"color: #008080; text-decoration-color: #008080; font-weight: bold\">-0.2538212537765503</span>,     <span style=\"color: #7f7f7f; text-decoration-color: #7f7f7f\">                                     </span>\n",
       "<span style=\"color: #7fbfbf; text-decoration-color: #7fbfbf\">                    </span>         <span style=\"color: #008000; text-decoration-color: #008000\">'initial_logit_best_non_target'</span>:                 <span style=\"color: #7f7f7f; text-decoration-color: #7f7f7f\">                                     </span>\n",
       "<span style=\"color: #7fbfbf; text-decoration-color: #7fbfbf\">                    </span>         <span style=\"color: #008080; text-decoration-color: #008080; font-weight: bold\">-2.1082825660705566</span>,                             <span style=\"color: #7f7f7f; text-decoration-color: #7f7f7f\">                                     </span>\n",
       "<span style=\"color: #7fbfbf; text-decoration-color: #7fbfbf\">                    </span>         <span style=\"color: #008000; text-decoration-color: #008000\">'initial_confidence_target'</span>:                     <span style=\"color: #7f7f7f; text-decoration-color: #7f7f7f\">                                     </span>\n",
       "<span style=\"color: #7fbfbf; text-decoration-color: #7fbfbf\">                    </span>         <span style=\"color: #800080; text-decoration-color: #800080; font-weight: bold\">np.float64</span><span style=\"font-weight: bold\">(</span><span style=\"color: #008080; text-decoration-color: #008080; font-weight: bold\">0.77583046641915</span><span style=\"font-weight: bold\">)</span>,                    <span style=\"color: #7f7f7f; text-decoration-color: #7f7f7f\">                                     </span>\n",
       "<span style=\"color: #7fbfbf; text-decoration-color: #7fbfbf\">                    </span>         <span style=\"color: #008000; text-decoration-color: #008000\">'initial_confidence_non_target'</span>:                 <span style=\"color: #7f7f7f; text-decoration-color: #7f7f7f\">                                     </span>\n",
       "<span style=\"color: #7fbfbf; text-decoration-color: #7fbfbf\">                    </span>         <span style=\"color: #800080; text-decoration-color: #800080; font-weight: bold\">np.float64</span><span style=\"font-weight: bold\">(</span><span style=\"color: #008080; text-decoration-color: #008080; font-weight: bold\">0.12144636353337258</span><span style=\"font-weight: bold\">)</span>,                 <span style=\"color: #7f7f7f; text-decoration-color: #7f7f7f\">                                     </span>\n",
       "<span style=\"color: #7fbfbf; text-decoration-color: #7fbfbf\">                    </span>         <span style=\"color: #008000; text-decoration-color: #008000\">'initial_margin'</span>:                                <span style=\"color: #7f7f7f; text-decoration-color: #7f7f7f\">                                     </span>\n",
       "<span style=\"color: #7fbfbf; text-decoration-color: #7fbfbf\">                    </span>         <span style=\"color: #800080; text-decoration-color: #800080; font-weight: bold\">np.float64</span><span style=\"font-weight: bold\">(</span><span style=\"color: #008080; text-decoration-color: #008080; font-weight: bold\">0.6543841028857774</span><span style=\"font-weight: bold\">)}</span>                  <span style=\"color: #7f7f7f; text-decoration-color: #7f7f7f\">                                     </span>\n",
       "</pre>\n"
      ]
     },
     "metadata": {},
     "output_type": "display_data"
    },
    {
     "data": {
      "text/plain": [
       "\u001B[2;36m                   \u001B[0m\u001B[2;36m \u001B[0m\u001B[34mINFO    \u001B[0m Completed attack and evaluation of Vanilla GCN   \u001B]8;id=952222;file://E:\\Masterarbeit\\ProjectCombined\\experiments\\experiment_local_attack_direct.py\u001B\\\u001B[2mexperiment_local_attack_direct.py\u001B[0m\u001B]8;;\u001B\\\u001B[2m:\u001B[0m\u001B]8;id=121027;file://E:\\Masterarbeit\\ProjectCombined\\experiments\\experiment_local_attack_direct.py#216\u001B\\\u001B[2m216\u001B[0m\u001B]8;;\u001B\\\n",
       "\u001B[2;36m                    \u001B[0m         using LocalPRBCD with pert. edges for node \u001B[1;36m834\u001B[0m   \u001B[2m                                     \u001B[0m\n",
       "\u001B[2;36m                    \u001B[0m         and budget \u001B[1;36m4\u001B[0m                                     \u001B[2m                                     \u001B[0m\n"
      ],
      "text/html": [
       "<pre style=\"white-space:pre;overflow-x:auto;line-height:normal;font-family:Menlo,'DejaVu Sans Mono',consolas,'Courier New',monospace\"><span style=\"color: #7fbfbf; text-decoration-color: #7fbfbf\">                    </span><span style=\"color: #000080; text-decoration-color: #000080\">INFO    </span> Completed attack and evaluation of Vanilla GCN   <a href=\"file://E:\\Masterarbeit\\ProjectCombined\\experiments\\experiment_local_attack_direct.py\" target=\"_blank\"><span style=\"color: #7f7f7f; text-decoration-color: #7f7f7f\">experiment_local_attack_direct.py</span></a><span style=\"color: #7f7f7f; text-decoration-color: #7f7f7f\">:</span><a href=\"file://E:\\Masterarbeit\\ProjectCombined\\experiments\\experiment_local_attack_direct.py#216\" target=\"_blank\"><span style=\"color: #7f7f7f; text-decoration-color: #7f7f7f\">216</span></a>\n",
       "<span style=\"color: #7fbfbf; text-decoration-color: #7fbfbf\">                    </span>         using LocalPRBCD with pert. edges for node <span style=\"color: #008080; text-decoration-color: #008080; font-weight: bold\">834</span>   <span style=\"color: #7f7f7f; text-decoration-color: #7f7f7f\">                                     </span>\n",
       "<span style=\"color: #7fbfbf; text-decoration-color: #7fbfbf\">                    </span>         and budget <span style=\"color: #008080; text-decoration-color: #008080; font-weight: bold\">4</span>                                     <span style=\"color: #7f7f7f; text-decoration-color: #7f7f7f\">                                     </span>\n",
       "</pre>\n"
      ]
     },
     "metadata": {},
     "output_type": "display_data"
    }
   ],
   "execution_count": 18
  },
  {
   "metadata": {
    "ExecuteTime": {
     "end_time": "2025-04-08T14:03:18.740705400Z",
     "start_time": "2025-04-08T14:03:18.307318200Z"
    }
   },
   "cell_type": "code",
   "source": [
    "n_change = 0\n",
    "for node in local_prbcd_statistics_cert['results']:\n",
    "    if node['margin'] < 0:\n",
    "        n_change += 1\n",
    "flipped_ratio_cert =  n_change / len(local_prbcd_statistics_cert['results'])\n",
    "print(f'Percentage of changed node predictions for init with cert : {100*flipped_ratio_cert:.2f}%')"
   ],
   "outputs": [
    {
     "ename": "NameError",
     "evalue": "name 'local_prbcd_statistics_cert' is not defined",
     "output_type": "error",
     "traceback": [
      "\u001B[1;31m---------------------------------------------------------------------------\u001B[0m",
      "\u001B[1;31mNameError\u001B[0m                                 Traceback (most recent call last)",
      "Cell \u001B[1;32mIn[65], line 2\u001B[0m\n\u001B[0;32m      1\u001B[0m n_change \u001B[38;5;241m=\u001B[39m \u001B[38;5;241m0\u001B[39m\n\u001B[1;32m----> 2\u001B[0m \u001B[38;5;28;01mfor\u001B[39;00m node \u001B[38;5;129;01min\u001B[39;00m local_prbcd_statistics_cert[\u001B[38;5;124m'\u001B[39m\u001B[38;5;124mresults\u001B[39m\u001B[38;5;124m'\u001B[39m]:\n\u001B[0;32m      3\u001B[0m     \u001B[38;5;28;01mif\u001B[39;00m node[\u001B[38;5;124m'\u001B[39m\u001B[38;5;124mmargin\u001B[39m\u001B[38;5;124m'\u001B[39m] \u001B[38;5;241m<\u001B[39m \u001B[38;5;241m0\u001B[39m:\n\u001B[0;32m      4\u001B[0m         n_change \u001B[38;5;241m+\u001B[39m\u001B[38;5;241m=\u001B[39m \u001B[38;5;241m1\u001B[39m\n",
      "\u001B[1;31mNameError\u001B[0m: name 'local_prbcd_statistics_cert' is not defined"
     ]
    }
   ],
   "execution_count": 65
  },
  {
   "metadata": {},
   "cell_type": "markdown",
   "source": [
    "### 2.1.1 Local PR-BCD Attack without grid_radii initialization\n",
    "We provide an example for a `local PR-BCD` attack on the `Vanilla GCN` model trained previously by passing the desired configuration in [experiments/experiment_local_attack_direct.py](https://github.com/sigeisler/robustness_of_gnns_at_scale/blob/main/experiments/experiment_local_attack_direct.py#L68)."
   ]
  },
  {
   "metadata": {
    "ExecuteTime": {
     "end_time": "2025-04-01T11:02:27.226417Z",
     "start_time": "2025-04-01T10:59:52.392678Z"
    }
   },
   "cell_type": "code",
   "source": [
    "local_prbcd_statistics = experiment_local_attack_direct.run(\n",
    "    data_dir = './data',\n",
    "    dataset = 'cora_ml',\n",
    "    attack = 'LocalPRBCD',\n",
    "    attack_params = dict(\n",
    "        ppr_cache_params = dict(\n",
    "            data_artifact_dir = 'cache',\n",
    "            data_storage_type = 'ppr'),\n",
    "        #epochs = 500, # -> way too high for my setup, use 40-100\n",
    "        epochs = 50,\n",
    "        fine_tune_epochs = 100,\n",
    "        search_space_size = 100,\n",
    "        block_size = 100,\n",
    "        ppr_recalc_at_end = True,\n",
    "        loss_type = 'Margin',\n",
    "        lr_factor = 0.05),\n",
    "    nodes = None,\n",
    "    nodes_topk = 5,\n",
    "    seed=0,\n",
    "    epsilons = [1],\n",
    "    min_node_degree = None,\n",
    "    binary_attr = False,\n",
    "    make_undirected = True,\n",
    "    artifact_dir = 'cache',\n",
    "    model_label = 'Vanilla GCN',\n",
    "    model_storage_type = 'demo',\n",
    "    #device = 0,\n",
    "    #data_device = 0,\n",
    "    device = \"cpu\",\n",
    "    data_device = \"cpu\",\n",
    "    debug_level = \"info\",\n",
    "    grid_radii=grid_radii\n",
    ")"
   ],
   "outputs": [
    {
     "data": {
      "text/plain": [
       "\u001B[2;36m[04/01/25 12:59:52]\u001B[0m\u001B[2;36m \u001B[0m\u001B[34mINFO    \u001B[0m \u001B[1m{\u001B[0m\u001B[32m'dataset'\u001B[0m: \u001B[32m'cora_ml'\u001B[0m, \u001B[32m'attack'\u001B[0m: \u001B[32m'LocalPRBCD'\u001B[0m, \u001B[32m'attack_params'\u001B[0m:           \u001B]8;id=228621;file://E:\\Masterarbeit\\ProjectCombined\\experiments\\common.py\u001B\\\u001B[2mcommon.py\u001B[0m\u001B]8;;\u001B\\\u001B[2m:\u001B[0m\u001B]8;id=33333;file://E:\\Masterarbeit\\ProjectCombined\\experiments\\common.py#38\u001B\\\u001B[2m38\u001B[0m\u001B]8;;\u001B\\\n",
       "\u001B[2;36m                    \u001B[0m         \u001B[1m{\u001B[0m\u001B[32m'ppr_cache_params'\u001B[0m: \u001B[1m{\u001B[0m\u001B[32m'data_artifact_dir'\u001B[0m: \u001B[32m'cache'\u001B[0m, \u001B[32m'data_storage_type'\u001B[0m:  \u001B[2m            \u001B[0m\n",
       "\u001B[2;36m                    \u001B[0m         \u001B[32m'ppr'\u001B[0m\u001B[1m}\u001B[0m, \u001B[32m'epochs'\u001B[0m: \u001B[1;36m50\u001B[0m, \u001B[32m'fine_tune_epochs'\u001B[0m: \u001B[1;36m100\u001B[0m, \u001B[32m'search_space_size'\u001B[0m: \u001B[1;36m100\u001B[0m,  \u001B[2m            \u001B[0m\n",
       "\u001B[2;36m                    \u001B[0m         \u001B[32m'block_size'\u001B[0m: \u001B[1;36m100\u001B[0m, \u001B[32m'ppr_recalc_at_end'\u001B[0m: \u001B[3;92mTrue\u001B[0m, \u001B[32m'loss_type'\u001B[0m: \u001B[32m'Margin'\u001B[0m,      \u001B[2m            \u001B[0m\n",
       "\u001B[2;36m                    \u001B[0m         \u001B[32m'lr_factor'\u001B[0m: \u001B[1;36m0.05\u001B[0m\u001B[1m}\u001B[0m, \u001B[32m'epsilons'\u001B[0m: \u001B[1m[\u001B[0m\u001B[1;36m1\u001B[0m\u001B[1m]\u001B[0m, \u001B[32m'make_undirected'\u001B[0m: \u001B[3;92mTrue\u001B[0m,             \u001B[2m            \u001B[0m\n",
       "\u001B[2;36m                    \u001B[0m         \u001B[32m'binary_attr'\u001B[0m: \u001B[3;91mFalse\u001B[0m, \u001B[32m'seed'\u001B[0m: \u001B[1;36m0\u001B[0m, \u001B[32m'artifact_dir'\u001B[0m: \u001B[32m'cache'\u001B[0m,                 \u001B[2m            \u001B[0m\n",
       "\u001B[2;36m                    \u001B[0m         \u001B[32m'pert_adj_storage_type'\u001B[0m: \u001B[3;35mNone\u001B[0m, \u001B[32m'pert_attr_storage_type'\u001B[0m: \u001B[3;35mNone\u001B[0m,            \u001B[2m            \u001B[0m\n",
       "\u001B[2;36m                    \u001B[0m         \u001B[32m'model_label'\u001B[0m: \u001B[32m'Vanilla GCN'\u001B[0m, \u001B[32m'model_storage_type'\u001B[0m: \u001B[32m'demo'\u001B[0m, \u001B[32m'device'\u001B[0m:     \u001B[2m            \u001B[0m\n",
       "\u001B[2;36m                    \u001B[0m         \u001B[32m'cpu'\u001B[0m, \u001B[32m'data_device'\u001B[0m: \u001B[32m'cpu'\u001B[0m\u001B[1m}\u001B[0m                                              \u001B[2m            \u001B[0m\n"
      ],
      "text/html": [
       "<pre style=\"white-space:pre;overflow-x:auto;line-height:normal;font-family:Menlo,'DejaVu Sans Mono',consolas,'Courier New',monospace\"><span style=\"color: #7fbfbf; text-decoration-color: #7fbfbf\">[04/01/25 12:59:52] </span><span style=\"color: #000080; text-decoration-color: #000080\">INFO    </span> <span style=\"font-weight: bold\">{</span><span style=\"color: #008000; text-decoration-color: #008000\">'dataset'</span>: <span style=\"color: #008000; text-decoration-color: #008000\">'cora_ml'</span>, <span style=\"color: #008000; text-decoration-color: #008000\">'attack'</span>: <span style=\"color: #008000; text-decoration-color: #008000\">'LocalPRBCD'</span>, <span style=\"color: #008000; text-decoration-color: #008000\">'attack_params'</span>:           <a href=\"file://E:\\Masterarbeit\\ProjectCombined\\experiments\\common.py\" target=\"_blank\"><span style=\"color: #7f7f7f; text-decoration-color: #7f7f7f\">common.py</span></a><span style=\"color: #7f7f7f; text-decoration-color: #7f7f7f\">:</span><a href=\"file://E:\\Masterarbeit\\ProjectCombined\\experiments\\common.py#38\" target=\"_blank\"><span style=\"color: #7f7f7f; text-decoration-color: #7f7f7f\">38</span></a>\n",
       "<span style=\"color: #7fbfbf; text-decoration-color: #7fbfbf\">                    </span>         <span style=\"font-weight: bold\">{</span><span style=\"color: #008000; text-decoration-color: #008000\">'ppr_cache_params'</span>: <span style=\"font-weight: bold\">{</span><span style=\"color: #008000; text-decoration-color: #008000\">'data_artifact_dir'</span>: <span style=\"color: #008000; text-decoration-color: #008000\">'cache'</span>, <span style=\"color: #008000; text-decoration-color: #008000\">'data_storage_type'</span>:  <span style=\"color: #7f7f7f; text-decoration-color: #7f7f7f\">            </span>\n",
       "<span style=\"color: #7fbfbf; text-decoration-color: #7fbfbf\">                    </span>         <span style=\"color: #008000; text-decoration-color: #008000\">'ppr'</span><span style=\"font-weight: bold\">}</span>, <span style=\"color: #008000; text-decoration-color: #008000\">'epochs'</span>: <span style=\"color: #008080; text-decoration-color: #008080; font-weight: bold\">50</span>, <span style=\"color: #008000; text-decoration-color: #008000\">'fine_tune_epochs'</span>: <span style=\"color: #008080; text-decoration-color: #008080; font-weight: bold\">100</span>, <span style=\"color: #008000; text-decoration-color: #008000\">'search_space_size'</span>: <span style=\"color: #008080; text-decoration-color: #008080; font-weight: bold\">100</span>,  <span style=\"color: #7f7f7f; text-decoration-color: #7f7f7f\">            </span>\n",
       "<span style=\"color: #7fbfbf; text-decoration-color: #7fbfbf\">                    </span>         <span style=\"color: #008000; text-decoration-color: #008000\">'block_size'</span>: <span style=\"color: #008080; text-decoration-color: #008080; font-weight: bold\">100</span>, <span style=\"color: #008000; text-decoration-color: #008000\">'ppr_recalc_at_end'</span>: <span style=\"color: #00ff00; text-decoration-color: #00ff00; font-style: italic\">True</span>, <span style=\"color: #008000; text-decoration-color: #008000\">'loss_type'</span>: <span style=\"color: #008000; text-decoration-color: #008000\">'Margin'</span>,      <span style=\"color: #7f7f7f; text-decoration-color: #7f7f7f\">            </span>\n",
       "<span style=\"color: #7fbfbf; text-decoration-color: #7fbfbf\">                    </span>         <span style=\"color: #008000; text-decoration-color: #008000\">'lr_factor'</span>: <span style=\"color: #008080; text-decoration-color: #008080; font-weight: bold\">0.05</span><span style=\"font-weight: bold\">}</span>, <span style=\"color: #008000; text-decoration-color: #008000\">'epsilons'</span>: <span style=\"font-weight: bold\">[</span><span style=\"color: #008080; text-decoration-color: #008080; font-weight: bold\">1</span><span style=\"font-weight: bold\">]</span>, <span style=\"color: #008000; text-decoration-color: #008000\">'make_undirected'</span>: <span style=\"color: #00ff00; text-decoration-color: #00ff00; font-style: italic\">True</span>,             <span style=\"color: #7f7f7f; text-decoration-color: #7f7f7f\">            </span>\n",
       "<span style=\"color: #7fbfbf; text-decoration-color: #7fbfbf\">                    </span>         <span style=\"color: #008000; text-decoration-color: #008000\">'binary_attr'</span>: <span style=\"color: #ff0000; text-decoration-color: #ff0000; font-style: italic\">False</span>, <span style=\"color: #008000; text-decoration-color: #008000\">'seed'</span>: <span style=\"color: #008080; text-decoration-color: #008080; font-weight: bold\">0</span>, <span style=\"color: #008000; text-decoration-color: #008000\">'artifact_dir'</span>: <span style=\"color: #008000; text-decoration-color: #008000\">'cache'</span>,                 <span style=\"color: #7f7f7f; text-decoration-color: #7f7f7f\">            </span>\n",
       "<span style=\"color: #7fbfbf; text-decoration-color: #7fbfbf\">                    </span>         <span style=\"color: #008000; text-decoration-color: #008000\">'pert_adj_storage_type'</span>: <span style=\"color: #800080; text-decoration-color: #800080; font-style: italic\">None</span>, <span style=\"color: #008000; text-decoration-color: #008000\">'pert_attr_storage_type'</span>: <span style=\"color: #800080; text-decoration-color: #800080; font-style: italic\">None</span>,            <span style=\"color: #7f7f7f; text-decoration-color: #7f7f7f\">            </span>\n",
       "<span style=\"color: #7fbfbf; text-decoration-color: #7fbfbf\">                    </span>         <span style=\"color: #008000; text-decoration-color: #008000\">'model_label'</span>: <span style=\"color: #008000; text-decoration-color: #008000\">'Vanilla GCN'</span>, <span style=\"color: #008000; text-decoration-color: #008000\">'model_storage_type'</span>: <span style=\"color: #008000; text-decoration-color: #008000\">'demo'</span>, <span style=\"color: #008000; text-decoration-color: #008000\">'device'</span>:     <span style=\"color: #7f7f7f; text-decoration-color: #7f7f7f\">            </span>\n",
       "<span style=\"color: #7fbfbf; text-decoration-color: #7fbfbf\">                    </span>         <span style=\"color: #008000; text-decoration-color: #008000\">'cpu'</span>, <span style=\"color: #008000; text-decoration-color: #008000\">'data_device'</span>: <span style=\"color: #008000; text-decoration-color: #008000\">'cpu'</span><span style=\"font-weight: bold\">}</span>                                              <span style=\"color: #7f7f7f; text-decoration-color: #7f7f7f\">            </span>\n",
       "</pre>\n"
      ]
     },
     "metadata": {},
     "output_type": "display_data"
    },
    {
     "data": {
      "text/plain": [
       "\u001B[2;36m                   \u001B[0m\u001B[2;36m \u001B[0m\u001B[34mINFO    \u001B[0m Lock \u001B[1;36m2073803885840\u001B[0m acquired on cache\\demo.json.lock                    \u001B]8;id=970532;file://E:\\Anaconda\\envs\\Masterarbeit\\Lib\\site-packages\\filelock.py\u001B\\\u001B[2mfilelock.py\u001B[0m\u001B]8;;\u001B\\\u001B[2m:\u001B[0m\u001B]8;id=917275;file://E:\\Anaconda\\envs\\Masterarbeit\\Lib\\site-packages\\filelock.py#274\u001B\\\u001B[2m274\u001B[0m\u001B]8;;\u001B\\\n"
      ],
      "text/html": [
       "<pre style=\"white-space:pre;overflow-x:auto;line-height:normal;font-family:Menlo,'DejaVu Sans Mono',consolas,'Courier New',monospace\"><span style=\"color: #7fbfbf; text-decoration-color: #7fbfbf\">                    </span><span style=\"color: #000080; text-decoration-color: #000080\">INFO    </span> Lock <span style=\"color: #008080; text-decoration-color: #008080; font-weight: bold\">2073803885840</span> acquired on cache\\demo.json.lock                    <a href=\"file://E:\\Anaconda\\envs\\Masterarbeit\\Lib\\site-packages\\filelock.py\" target=\"_blank\"><span style=\"color: #7f7f7f; text-decoration-color: #7f7f7f\">filelock.py</span></a><span style=\"color: #7f7f7f; text-decoration-color: #7f7f7f\">:</span><a href=\"file://E:\\Anaconda\\envs\\Masterarbeit\\Lib\\site-packages\\filelock.py#274\" target=\"_blank\"><span style=\"color: #7f7f7f; text-decoration-color: #7f7f7f\">274</span></a>\n",
       "</pre>\n"
      ]
     },
     "metadata": {},
     "output_type": "display_data"
    },
    {
     "data": {
      "text/plain": [
       "\u001B[2;36m                   \u001B[0m\u001B[2;36m \u001B[0m\u001B[34mINFO    \u001B[0m Lock \u001B[1;36m2073803885840\u001B[0m released on cache\\demo.json.lock                    \u001B]8;id=392005;file://E:\\Anaconda\\envs\\Masterarbeit\\Lib\\site-packages\\filelock.py\u001B\\\u001B[2mfilelock.py\u001B[0m\u001B]8;;\u001B\\\u001B[2m:\u001B[0m\u001B]8;id=377575;file://E:\\Anaconda\\envs\\Masterarbeit\\Lib\\site-packages\\filelock.py#318\u001B\\\u001B[2m318\u001B[0m\u001B]8;;\u001B\\\n"
      ],
      "text/html": [
       "<pre style=\"white-space:pre;overflow-x:auto;line-height:normal;font-family:Menlo,'DejaVu Sans Mono',consolas,'Courier New',monospace\"><span style=\"color: #7fbfbf; text-decoration-color: #7fbfbf\">                    </span><span style=\"color: #000080; text-decoration-color: #000080\">INFO    </span> Lock <span style=\"color: #008080; text-decoration-color: #008080; font-weight: bold\">2073803885840</span> released on cache\\demo.json.lock                    <a href=\"file://E:\\Anaconda\\envs\\Masterarbeit\\Lib\\site-packages\\filelock.py\" target=\"_blank\"><span style=\"color: #7f7f7f; text-decoration-color: #7f7f7f\">filelock.py</span></a><span style=\"color: #7f7f7f; text-decoration-color: #7f7f7f\">:</span><a href=\"file://E:\\Anaconda\\envs\\Masterarbeit\\Lib\\site-packages\\filelock.py#318\" target=\"_blank\"><span style=\"color: #7f7f7f; text-decoration-color: #7f7f7f\">318</span></a>\n",
       "</pre>\n"
      ]
     },
     "metadata": {},
     "output_type": "display_data"
    },
    {
     "data": {
      "text/plain": [
       "\u001B[2;36m                   \u001B[0m\u001B[2;36m \u001B[0m\u001B[34mINFO    \u001B[0m Found \u001B[1;36m1\u001B[0m models with label \u001B[32m'Vanilla GCN'\u001B[0m to       \u001B]8;id=112366;file://E:\\Masterarbeit\\ProjectCombined\\experiments\\experiment_local_attack_direct.py\u001B\\\u001B[2mexperiment_local_attack_direct.py\u001B[0m\u001B]8;;\u001B\\\u001B[2m:\u001B[0m\u001B]8;id=856808;file://E:\\Masterarbeit\\ProjectCombined\\experiments\\experiment_local_attack_direct.py#141\u001B\\\u001B[2m141\u001B[0m\u001B]8;;\u001B\\\n",
       "\u001B[2;36m                    \u001B[0m         attack.                                          \u001B[2m                                     \u001B[0m\n"
      ],
      "text/html": [
       "<pre style=\"white-space:pre;overflow-x:auto;line-height:normal;font-family:Menlo,'DejaVu Sans Mono',consolas,'Courier New',monospace\"><span style=\"color: #7fbfbf; text-decoration-color: #7fbfbf\">                    </span><span style=\"color: #000080; text-decoration-color: #000080\">INFO    </span> Found <span style=\"color: #008080; text-decoration-color: #008080; font-weight: bold\">1</span> models with label <span style=\"color: #008000; text-decoration-color: #008000\">'Vanilla GCN'</span> to       <a href=\"file://E:\\Masterarbeit\\ProjectCombined\\experiments\\experiment_local_attack_direct.py\" target=\"_blank\"><span style=\"color: #7f7f7f; text-decoration-color: #7f7f7f\">experiment_local_attack_direct.py</span></a><span style=\"color: #7f7f7f; text-decoration-color: #7f7f7f\">:</span><a href=\"file://E:\\Masterarbeit\\ProjectCombined\\experiments\\experiment_local_attack_direct.py#141\" target=\"_blank\"><span style=\"color: #7f7f7f; text-decoration-color: #7f7f7f\">141</span></a>\n",
       "<span style=\"color: #7fbfbf; text-decoration-color: #7fbfbf\">                    </span>         attack.                                          <span style=\"color: #7f7f7f; text-decoration-color: #7f7f7f\">                                     </span>\n",
       "</pre>\n"
      ]
     },
     "metadata": {},
     "output_type": "display_data"
    },
    {
     "data": {
      "text/plain": [
       "\u001B[2;36m[04/01/25 12:59:53]\u001B[0m\u001B[2;36m \u001B[0m\u001B[34mINFO    \u001B[0m Sample Attack Nodes for model with accuracy \u001B[1;36m0.8352\u001B[0m                       \u001B]8;id=146996;file://E:\\Masterarbeit\\ProjectCombined\\experiments\\common.py\u001B\\\u001B[2mcommon.py\u001B[0m\u001B]8;;\u001B\\\u001B[2m:\u001B[0m\u001B]8;id=789320;file://E:\\Masterarbeit\\ProjectCombined\\experiments\\common.py#166\u001B\\\u001B[2m166\u001B[0m\u001B]8;;\u001B\\\n"
      ],
      "text/html": [
       "<pre style=\"white-space:pre;overflow-x:auto;line-height:normal;font-family:Menlo,'DejaVu Sans Mono',consolas,'Courier New',monospace\"><span style=\"color: #7fbfbf; text-decoration-color: #7fbfbf\">[04/01/25 12:59:53] </span><span style=\"color: #000080; text-decoration-color: #000080\">INFO    </span> Sample Attack Nodes for model with accuracy <span style=\"color: #008080; text-decoration-color: #008080; font-weight: bold\">0.8352</span>                       <a href=\"file://E:\\Masterarbeit\\ProjectCombined\\experiments\\common.py\" target=\"_blank\"><span style=\"color: #7f7f7f; text-decoration-color: #7f7f7f\">common.py</span></a><span style=\"color: #7f7f7f; text-decoration-color: #7f7f7f\">:</span><a href=\"file://E:\\Masterarbeit\\ProjectCombined\\experiments\\common.py#166\" target=\"_blank\"><span style=\"color: #7f7f7f; text-decoration-color: #7f7f7f\">166</span></a>\n",
       "</pre>\n"
      ]
     },
     "metadata": {},
     "output_type": "display_data"
    },
    {
     "data": {
      "text/plain": [
       "\u001B[2;36m                   \u001B[0m\u001B[2;36m \u001B[0m\u001B[34mINFO    \u001B[0m Found \u001B[1;36m2530\u001B[0m suitable \u001B[32m'1+ degree'\u001B[0m nodes out of \u001B[1;36m2530\u001B[0m candidate nodes to be  \u001B]8;id=693789;file://E:\\Masterarbeit\\ProjectCombined\\experiments\\common.py\u001B\\\u001B[2mcommon.py\u001B[0m\u001B]8;;\u001B\\\u001B[2m:\u001B[0m\u001B]8;id=42219;file://E:\\Masterarbeit\\ProjectCombined\\experiments\\common.py#132\u001B\\\u001B[2m132\u001B[0m\u001B]8;;\u001B\\\n",
       "\u001B[2;36m                    \u001B[0m         sampled from for the attack of which \u001B[1;36m2113\u001B[0m have the correct class label   \u001B[2m             \u001B[0m\n"
      ],
      "text/html": [
       "<pre style=\"white-space:pre;overflow-x:auto;line-height:normal;font-family:Menlo,'DejaVu Sans Mono',consolas,'Courier New',monospace\"><span style=\"color: #7fbfbf; text-decoration-color: #7fbfbf\">                    </span><span style=\"color: #000080; text-decoration-color: #000080\">INFO    </span> Found <span style=\"color: #008080; text-decoration-color: #008080; font-weight: bold\">2530</span> suitable <span style=\"color: #008000; text-decoration-color: #008000\">'1+ degree'</span> nodes out of <span style=\"color: #008080; text-decoration-color: #008080; font-weight: bold\">2530</span> candidate nodes to be  <a href=\"file://E:\\Masterarbeit\\ProjectCombined\\experiments\\common.py\" target=\"_blank\"><span style=\"color: #7f7f7f; text-decoration-color: #7f7f7f\">common.py</span></a><span style=\"color: #7f7f7f; text-decoration-color: #7f7f7f\">:</span><a href=\"file://E:\\Masterarbeit\\ProjectCombined\\experiments\\common.py#132\" target=\"_blank\"><span style=\"color: #7f7f7f; text-decoration-color: #7f7f7f\">132</span></a>\n",
       "<span style=\"color: #7fbfbf; text-decoration-color: #7fbfbf\">                    </span>         sampled from for the attack of which <span style=\"color: #008080; text-decoration-color: #008080; font-weight: bold\">2113</span> have the correct class label   <span style=\"color: #7f7f7f; text-decoration-color: #7f7f7f\">             </span>\n",
       "</pre>\n"
      ]
     },
     "metadata": {},
     "output_type": "display_data"
    },
    {
     "data": {
      "text/plain": [
       "\u001B[2;36m                   \u001B[0m\u001B[2;36m \u001B[0m\u001B[34mINFO    \u001B[0m Sample the following attack nodes:                                       \u001B]8;id=164082;file://E:\\Masterarbeit\\ProjectCombined\\experiments\\common.py\u001B\\\u001B[2mcommon.py\u001B[0m\u001B]8;;\u001B\\\u001B[2m:\u001B[0m\u001B]8;id=713764;file://E:\\Masterarbeit\\ProjectCombined\\experiments\\common.py#171\u001B\\\u001B[2m171\u001B[0m\u001B]8;;\u001B\\\n",
       "\u001B[2;36m                    \u001B[0m         \u001B[1m[\u001B[0m\u001B[1;36m475\u001B[0m\u001B[1m]\u001B[0m                                                                    \u001B[2m             \u001B[0m\n",
       "\u001B[2;36m                    \u001B[0m         \u001B[1m[\u001B[0m\u001B[1;36m2105\u001B[0m\u001B[1m]\u001B[0m                                                                   \u001B[2m             \u001B[0m\n",
       "\u001B[2;36m                    \u001B[0m         \u001B[1m[\u001B[0m\u001B[1;36m1707\u001B[0m  \u001B[1;36m834\u001B[0m\u001B[1m]\u001B[0m                                                              \u001B[2m             \u001B[0m\n"
      ],
      "text/html": [
       "<pre style=\"white-space:pre;overflow-x:auto;line-height:normal;font-family:Menlo,'DejaVu Sans Mono',consolas,'Courier New',monospace\"><span style=\"color: #7fbfbf; text-decoration-color: #7fbfbf\">                    </span><span style=\"color: #000080; text-decoration-color: #000080\">INFO    </span> Sample the following attack nodes:                                       <a href=\"file://E:\\Masterarbeit\\ProjectCombined\\experiments\\common.py\" target=\"_blank\"><span style=\"color: #7f7f7f; text-decoration-color: #7f7f7f\">common.py</span></a><span style=\"color: #7f7f7f; text-decoration-color: #7f7f7f\">:</span><a href=\"file://E:\\Masterarbeit\\ProjectCombined\\experiments\\common.py#171\" target=\"_blank\"><span style=\"color: #7f7f7f; text-decoration-color: #7f7f7f\">171</span></a>\n",
       "<span style=\"color: #7fbfbf; text-decoration-color: #7fbfbf\">                    </span>         <span style=\"font-weight: bold\">[</span><span style=\"color: #008080; text-decoration-color: #008080; font-weight: bold\">475</span><span style=\"font-weight: bold\">]</span>                                                                    <span style=\"color: #7f7f7f; text-decoration-color: #7f7f7f\">             </span>\n",
       "<span style=\"color: #7fbfbf; text-decoration-color: #7fbfbf\">                    </span>         <span style=\"font-weight: bold\">[</span><span style=\"color: #008080; text-decoration-color: #008080; font-weight: bold\">2105</span><span style=\"font-weight: bold\">]</span>                                                                   <span style=\"color: #7f7f7f; text-decoration-color: #7f7f7f\">             </span>\n",
       "<span style=\"color: #7fbfbf; text-decoration-color: #7fbfbf\">                    </span>         <span style=\"font-weight: bold\">[</span><span style=\"color: #008080; text-decoration-color: #008080; font-weight: bold\">1707</span>  <span style=\"color: #008080; text-decoration-color: #008080; font-weight: bold\">834</span><span style=\"font-weight: bold\">]</span>                                                              <span style=\"color: #7f7f7f; text-decoration-color: #7f7f7f\">             </span>\n",
       "</pre>\n"
      ]
     },
     "metadata": {},
     "output_type": "display_data"
    },
    {
     "data": {
      "text/plain": [
       "\u001B[2;36m                   \u001B[0m\u001B[2;36m \u001B[0m\u001B[34mINFO    \u001B[0m Original: Loss: \u001B[1;36m-9.881260871887207\u001B[0m Statstics: \u001B[1m{\u001B[0m\u001B[32m'logit_target'\u001B[0m:       \u001B]8;id=194086;file://E:\\Masterarbeit\\ProjectCombined\\rgnn_at_scale\\attacks\\local_prbcd.py\u001B\\\u001B[2mlocal_prbcd.py\u001B[0m\u001B]8;;\u001B\\\u001B[2m:\u001B[0m\u001B]8;id=494436;file://E:\\Masterarbeit\\ProjectCombined\\rgnn_at_scale\\attacks\\local_prbcd.py#79\u001B\\\u001B[2m79\u001B[0m\u001B]8;;\u001B\\\n",
       "\u001B[2;36m                    \u001B[0m         \u001B[1;36m-0.0002615109842736274\u001B[0m, \u001B[32m'logit_best_non_target'\u001B[0m: \u001B[1;36m-9.881522178649902\u001B[0m, \u001B[2m                 \u001B[0m\n",
       "\u001B[2;36m                    \u001B[0m         \u001B[32m'confidence_target'\u001B[0m: \u001B[1;35mnp.float64\u001B[0m\u001B[1m(\u001B[0m\u001B[1;36m0.9997385232067433\u001B[0m\u001B[1m)\u001B[0m,                 \u001B[2m                 \u001B[0m\n",
       "\u001B[2;36m                    \u001B[0m         \u001B[32m'confidence_non_target'\u001B[0m: \u001B[1;35mnp.float64\u001B[0m\u001B[1m(\u001B[0m\u001B[1;36m5.1110419437683184e-05\u001B[0m\u001B[1m)\u001B[0m,         \u001B[2m                 \u001B[0m\n",
       "\u001B[2;36m                    \u001B[0m         \u001B[32m'margin'\u001B[0m: \u001B[1;35mnp.float64\u001B[0m\u001B[1m(\u001B[0m\u001B[1;36m0.9996874127873056\u001B[0m\u001B[1m)\u001B[0m\u001B[1m}\u001B[0m                            \u001B[2m                 \u001B[0m\n",
       "\u001B[2;36m                    \u001B[0m                                                                              \u001B[2m                 \u001B[0m\n"
      ],
      "text/html": [
       "<pre style=\"white-space:pre;overflow-x:auto;line-height:normal;font-family:Menlo,'DejaVu Sans Mono',consolas,'Courier New',monospace\"><span style=\"color: #7fbfbf; text-decoration-color: #7fbfbf\">                    </span><span style=\"color: #000080; text-decoration-color: #000080\">INFO    </span> Original: Loss: <span style=\"color: #008080; text-decoration-color: #008080; font-weight: bold\">-9.881260871887207</span> Statstics: <span style=\"font-weight: bold\">{</span><span style=\"color: #008000; text-decoration-color: #008000\">'logit_target'</span>:       <a href=\"file://E:\\Masterarbeit\\ProjectCombined\\rgnn_at_scale\\attacks\\local_prbcd.py\" target=\"_blank\"><span style=\"color: #7f7f7f; text-decoration-color: #7f7f7f\">local_prbcd.py</span></a><span style=\"color: #7f7f7f; text-decoration-color: #7f7f7f\">:</span><a href=\"file://E:\\Masterarbeit\\ProjectCombined\\rgnn_at_scale\\attacks\\local_prbcd.py#79\" target=\"_blank\"><span style=\"color: #7f7f7f; text-decoration-color: #7f7f7f\">79</span></a>\n",
       "<span style=\"color: #7fbfbf; text-decoration-color: #7fbfbf\">                    </span>         <span style=\"color: #008080; text-decoration-color: #008080; font-weight: bold\">-0.0002615109842736274</span>, <span style=\"color: #008000; text-decoration-color: #008000\">'logit_best_non_target'</span>: <span style=\"color: #008080; text-decoration-color: #008080; font-weight: bold\">-9.881522178649902</span>, <span style=\"color: #7f7f7f; text-decoration-color: #7f7f7f\">                 </span>\n",
       "<span style=\"color: #7fbfbf; text-decoration-color: #7fbfbf\">                    </span>         <span style=\"color: #008000; text-decoration-color: #008000\">'confidence_target'</span>: <span style=\"color: #800080; text-decoration-color: #800080; font-weight: bold\">np.float64</span><span style=\"font-weight: bold\">(</span><span style=\"color: #008080; text-decoration-color: #008080; font-weight: bold\">0.9997385232067433</span><span style=\"font-weight: bold\">)</span>,                 <span style=\"color: #7f7f7f; text-decoration-color: #7f7f7f\">                 </span>\n",
       "<span style=\"color: #7fbfbf; text-decoration-color: #7fbfbf\">                    </span>         <span style=\"color: #008000; text-decoration-color: #008000\">'confidence_non_target'</span>: <span style=\"color: #800080; text-decoration-color: #800080; font-weight: bold\">np.float64</span><span style=\"font-weight: bold\">(</span><span style=\"color: #008080; text-decoration-color: #008080; font-weight: bold\">5.1110419437683184e-05</span><span style=\"font-weight: bold\">)</span>,         <span style=\"color: #7f7f7f; text-decoration-color: #7f7f7f\">                 </span>\n",
       "<span style=\"color: #7fbfbf; text-decoration-color: #7fbfbf\">                    </span>         <span style=\"color: #008000; text-decoration-color: #008000\">'margin'</span>: <span style=\"color: #800080; text-decoration-color: #800080; font-weight: bold\">np.float64</span><span style=\"font-weight: bold\">(</span><span style=\"color: #008080; text-decoration-color: #008080; font-weight: bold\">0.9996874127873056</span><span style=\"font-weight: bold\">)}</span>                            <span style=\"color: #7f7f7f; text-decoration-color: #7f7f7f\">                 </span>\n",
       "<span style=\"color: #7fbfbf; text-decoration-color: #7fbfbf\">                    </span>                                                                              <span style=\"color: #7f7f7f; text-decoration-color: #7f7f7f\">                 </span>\n",
       "</pre>\n"
      ]
     },
     "metadata": {},
     "output_type": "display_data"
    },
    {
     "name": "stderr",
     "output_type": "stream",
     "text": [
      "  0%|          | 0/50 [00:00<?, ?it/s]"
     ]
    },
    {
     "data": {
      "text/plain": [
       "\u001B[2;36m                   \u001B[0m\u001B[2;36m \u001B[0m\u001B[34mINFO    \u001B[0m Initial: Loss: \u001B[1;36m-9.881260871887207\u001B[0m Statstics: \u001B[1m{\u001B[0m\u001B[32m'logit_target'\u001B[0m:        \u001B]8;id=694953;file://E:\\Masterarbeit\\ProjectCombined\\rgnn_at_scale\\attacks\\local_prbcd.py\u001B\\\u001B[2mlocal_prbcd.py\u001B[0m\u001B]8;;\u001B\\\u001B[2m:\u001B[0m\u001B]8;id=594035;file://E:\\Masterarbeit\\ProjectCombined\\rgnn_at_scale\\attacks\\local_prbcd.py#97\u001B\\\u001B[2m97\u001B[0m\u001B]8;;\u001B\\\n",
       "\u001B[2;36m                    \u001B[0m         \u001B[1;36m-0.0002615109842736274\u001B[0m, \u001B[32m'logit_best_non_target'\u001B[0m: \u001B[1;36m-9.881522178649902\u001B[0m, \u001B[2m                 \u001B[0m\n",
       "\u001B[2;36m                    \u001B[0m         \u001B[32m'confidence_target'\u001B[0m: \u001B[1;35mnp.float64\u001B[0m\u001B[1m(\u001B[0m\u001B[1;36m0.9997385232067433\u001B[0m\u001B[1m)\u001B[0m,                 \u001B[2m                 \u001B[0m\n",
       "\u001B[2;36m                    \u001B[0m         \u001B[32m'confidence_non_target'\u001B[0m: \u001B[1;35mnp.float64\u001B[0m\u001B[1m(\u001B[0m\u001B[1;36m5.1110419437683184e-05\u001B[0m\u001B[1m)\u001B[0m,         \u001B[2m                 \u001B[0m\n",
       "\u001B[2;36m                    \u001B[0m         \u001B[32m'margin'\u001B[0m: \u001B[1;35mnp.float64\u001B[0m\u001B[1m(\u001B[0m\u001B[1;36m0.9996874127873056\u001B[0m\u001B[1m)\u001B[0m\u001B[1m}\u001B[0m                            \u001B[2m                 \u001B[0m\n",
       "\u001B[2;36m                    \u001B[0m                                                                              \u001B[2m                 \u001B[0m\n"
      ],
      "text/html": [
       "<pre style=\"white-space:pre;overflow-x:auto;line-height:normal;font-family:Menlo,'DejaVu Sans Mono',consolas,'Courier New',monospace\"><span style=\"color: #7fbfbf; text-decoration-color: #7fbfbf\">                    </span><span style=\"color: #000080; text-decoration-color: #000080\">INFO    </span> Initial: Loss: <span style=\"color: #008080; text-decoration-color: #008080; font-weight: bold\">-9.881260871887207</span> Statstics: <span style=\"font-weight: bold\">{</span><span style=\"color: #008000; text-decoration-color: #008000\">'logit_target'</span>:        <a href=\"file://E:\\Masterarbeit\\ProjectCombined\\rgnn_at_scale\\attacks\\local_prbcd.py\" target=\"_blank\"><span style=\"color: #7f7f7f; text-decoration-color: #7f7f7f\">local_prbcd.py</span></a><span style=\"color: #7f7f7f; text-decoration-color: #7f7f7f\">:</span><a href=\"file://E:\\Masterarbeit\\ProjectCombined\\rgnn_at_scale\\attacks\\local_prbcd.py#97\" target=\"_blank\"><span style=\"color: #7f7f7f; text-decoration-color: #7f7f7f\">97</span></a>\n",
       "<span style=\"color: #7fbfbf; text-decoration-color: #7fbfbf\">                    </span>         <span style=\"color: #008080; text-decoration-color: #008080; font-weight: bold\">-0.0002615109842736274</span>, <span style=\"color: #008000; text-decoration-color: #008000\">'logit_best_non_target'</span>: <span style=\"color: #008080; text-decoration-color: #008080; font-weight: bold\">-9.881522178649902</span>, <span style=\"color: #7f7f7f; text-decoration-color: #7f7f7f\">                 </span>\n",
       "<span style=\"color: #7fbfbf; text-decoration-color: #7fbfbf\">                    </span>         <span style=\"color: #008000; text-decoration-color: #008000\">'confidence_target'</span>: <span style=\"color: #800080; text-decoration-color: #800080; font-weight: bold\">np.float64</span><span style=\"font-weight: bold\">(</span><span style=\"color: #008080; text-decoration-color: #008080; font-weight: bold\">0.9997385232067433</span><span style=\"font-weight: bold\">)</span>,                 <span style=\"color: #7f7f7f; text-decoration-color: #7f7f7f\">                 </span>\n",
       "<span style=\"color: #7fbfbf; text-decoration-color: #7fbfbf\">                    </span>         <span style=\"color: #008000; text-decoration-color: #008000\">'confidence_non_target'</span>: <span style=\"color: #800080; text-decoration-color: #800080; font-weight: bold\">np.float64</span><span style=\"font-weight: bold\">(</span><span style=\"color: #008080; text-decoration-color: #008080; font-weight: bold\">5.1110419437683184e-05</span><span style=\"font-weight: bold\">)</span>,         <span style=\"color: #7f7f7f; text-decoration-color: #7f7f7f\">                 </span>\n",
       "<span style=\"color: #7fbfbf; text-decoration-color: #7fbfbf\">                    </span>         <span style=\"color: #008000; text-decoration-color: #008000\">'margin'</span>: <span style=\"color: #800080; text-decoration-color: #800080; font-weight: bold\">np.float64</span><span style=\"font-weight: bold\">(</span><span style=\"color: #008080; text-decoration-color: #008080; font-weight: bold\">0.9996874127873056</span><span style=\"font-weight: bold\">)}</span>                            <span style=\"color: #7f7f7f; text-decoration-color: #7f7f7f\">                 </span>\n",
       "<span style=\"color: #7fbfbf; text-decoration-color: #7fbfbf\">                    </span>                                                                              <span style=\"color: #7f7f7f; text-decoration-color: #7f7f7f\">                 </span>\n",
       "</pre>\n"
      ]
     },
     "metadata": {},
     "output_type": "display_data"
    },
    {
     "data": {
      "text/plain": [
       "\u001B[2;36m[04/01/25 12:59:54]\u001B[0m\u001B[2;36m \u001B[0m\u001B[34mINFO    \u001B[0m                                                                     \u001B]8;id=77426;file://E:\\Masterarbeit\\ProjectCombined\\rgnn_at_scale\\attacks\\local_prbcd.py\u001B\\\u001B[2mlocal_prbcd.py\u001B[0m\u001B]8;;\u001B\\\u001B[2m:\u001B[0m\u001B]8;id=657121;file://E:\\Masterarbeit\\ProjectCombined\\rgnn_at_scale\\attacks\\local_prbcd.py#118\u001B\\\u001B[2m118\u001B[0m\u001B]8;;\u001B\\\n",
       "\u001B[2;36m                    \u001B[0m         Epoch: \u001B[1;36m0\u001B[0m Loss: \u001B[1;36m-9.881260871887207\u001B[0m Statstics: \u001B[1m{\u001B[0m\u001B[32m'logit_target'\u001B[0m:       \u001B[2m                  \u001B[0m\n",
       "\u001B[2;36m                    \u001B[0m         \u001B[1;36m-0.0002615109842736274\u001B[0m, \u001B[32m'logit_best_non_target'\u001B[0m:                    \u001B[2m                  \u001B[0m\n",
       "\u001B[2;36m                    \u001B[0m         \u001B[1;36m-9.881522178649902\u001B[0m, \u001B[32m'confidence_target'\u001B[0m:                            \u001B[2m                  \u001B[0m\n",
       "\u001B[2;36m                    \u001B[0m         \u001B[1;35mnp.float64\u001B[0m\u001B[1m(\u001B[0m\u001B[1;36m0.9997385232067433\u001B[0m\u001B[1m)\u001B[0m, \u001B[32m'confidence_non_target'\u001B[0m:            \u001B[2m                  \u001B[0m\n",
       "\u001B[2;36m                    \u001B[0m         \u001B[1;35mnp.float64\u001B[0m\u001B[1m(\u001B[0m\u001B[1;36m5.1110419437683184e-05\u001B[0m\u001B[1m)\u001B[0m, \u001B[32m'margin'\u001B[0m:                       \u001B[2m                  \u001B[0m\n",
       "\u001B[2;36m                    \u001B[0m         \u001B[1;35mnp.float64\u001B[0m\u001B[1m(\u001B[0m\u001B[1;36m0.9996874127873056\u001B[0m\u001B[1m)\u001B[0m\u001B[1m}\u001B[0m                                     \u001B[2m                  \u001B[0m\n",
       "\u001B[2;36m                    \u001B[0m                                                                             \u001B[2m                  \u001B[0m\n"
      ],
      "text/html": [
       "<pre style=\"white-space:pre;overflow-x:auto;line-height:normal;font-family:Menlo,'DejaVu Sans Mono',consolas,'Courier New',monospace\"><span style=\"color: #7fbfbf; text-decoration-color: #7fbfbf\">[04/01/25 12:59:54] </span><span style=\"color: #000080; text-decoration-color: #000080\">INFO    </span>                                                                     <a href=\"file://E:\\Masterarbeit\\ProjectCombined\\rgnn_at_scale\\attacks\\local_prbcd.py\" target=\"_blank\"><span style=\"color: #7f7f7f; text-decoration-color: #7f7f7f\">local_prbcd.py</span></a><span style=\"color: #7f7f7f; text-decoration-color: #7f7f7f\">:</span><a href=\"file://E:\\Masterarbeit\\ProjectCombined\\rgnn_at_scale\\attacks\\local_prbcd.py#118\" target=\"_blank\"><span style=\"color: #7f7f7f; text-decoration-color: #7f7f7f\">118</span></a>\n",
       "<span style=\"color: #7fbfbf; text-decoration-color: #7fbfbf\">                    </span>         Epoch: <span style=\"color: #008080; text-decoration-color: #008080; font-weight: bold\">0</span> Loss: <span style=\"color: #008080; text-decoration-color: #008080; font-weight: bold\">-9.881260871887207</span> Statstics: <span style=\"font-weight: bold\">{</span><span style=\"color: #008000; text-decoration-color: #008000\">'logit_target'</span>:       <span style=\"color: #7f7f7f; text-decoration-color: #7f7f7f\">                  </span>\n",
       "<span style=\"color: #7fbfbf; text-decoration-color: #7fbfbf\">                    </span>         <span style=\"color: #008080; text-decoration-color: #008080; font-weight: bold\">-0.0002615109842736274</span>, <span style=\"color: #008000; text-decoration-color: #008000\">'logit_best_non_target'</span>:                    <span style=\"color: #7f7f7f; text-decoration-color: #7f7f7f\">                  </span>\n",
       "<span style=\"color: #7fbfbf; text-decoration-color: #7fbfbf\">                    </span>         <span style=\"color: #008080; text-decoration-color: #008080; font-weight: bold\">-9.881522178649902</span>, <span style=\"color: #008000; text-decoration-color: #008000\">'confidence_target'</span>:                            <span style=\"color: #7f7f7f; text-decoration-color: #7f7f7f\">                  </span>\n",
       "<span style=\"color: #7fbfbf; text-decoration-color: #7fbfbf\">                    </span>         <span style=\"color: #800080; text-decoration-color: #800080; font-weight: bold\">np.float64</span><span style=\"font-weight: bold\">(</span><span style=\"color: #008080; text-decoration-color: #008080; font-weight: bold\">0.9997385232067433</span><span style=\"font-weight: bold\">)</span>, <span style=\"color: #008000; text-decoration-color: #008000\">'confidence_non_target'</span>:            <span style=\"color: #7f7f7f; text-decoration-color: #7f7f7f\">                  </span>\n",
       "<span style=\"color: #7fbfbf; text-decoration-color: #7fbfbf\">                    </span>         <span style=\"color: #800080; text-decoration-color: #800080; font-weight: bold\">np.float64</span><span style=\"font-weight: bold\">(</span><span style=\"color: #008080; text-decoration-color: #008080; font-weight: bold\">5.1110419437683184e-05</span><span style=\"font-weight: bold\">)</span>, <span style=\"color: #008000; text-decoration-color: #008000\">'margin'</span>:                       <span style=\"color: #7f7f7f; text-decoration-color: #7f7f7f\">                  </span>\n",
       "<span style=\"color: #7fbfbf; text-decoration-color: #7fbfbf\">                    </span>         <span style=\"color: #800080; text-decoration-color: #800080; font-weight: bold\">np.float64</span><span style=\"font-weight: bold\">(</span><span style=\"color: #008080; text-decoration-color: #008080; font-weight: bold\">0.9996874127873056</span><span style=\"font-weight: bold\">)}</span>                                     <span style=\"color: #7f7f7f; text-decoration-color: #7f7f7f\">                  </span>\n",
       "<span style=\"color: #7fbfbf; text-decoration-color: #7fbfbf\">                    </span>                                                                             <span style=\"color: #7f7f7f; text-decoration-color: #7f7f7f\">                  </span>\n",
       "</pre>\n"
      ]
     },
     "metadata": {},
     "output_type": "display_data"
    },
    {
     "data": {
      "text/plain": [
       "\u001B[2;36m                   \u001B[0m\u001B[2;36m \u001B[0m\u001B[34mINFO    \u001B[0m Gradient mean \u001B[1;36m0.430370032787323\u001B[0m std \u001B[1;36m0.4110572040081024\u001B[0m with base    \u001B]8;id=158471;file://E:\\Masterarbeit\\ProjectCombined\\rgnn_at_scale\\attacks\\local_prbcd.py\u001B\\\u001B[2mlocal_prbcd.py\u001B[0m\u001B]8;;\u001B\\\u001B[2m:\u001B[0m\u001B]8;id=46150;file://E:\\Masterarbeit\\ProjectCombined\\rgnn_at_scale\\attacks\\local_prbcd.py#119\u001B\\\u001B[2m119\u001B[0m\u001B]8;;\u001B\\\n",
       "\u001B[2;36m                    \u001B[0m         learning rate \u001B[1;36m0.5300943312279429\u001B[0m                                    \u001B[2m                  \u001B[0m\n"
      ],
      "text/html": [
       "<pre style=\"white-space:pre;overflow-x:auto;line-height:normal;font-family:Menlo,'DejaVu Sans Mono',consolas,'Courier New',monospace\"><span style=\"color: #7fbfbf; text-decoration-color: #7fbfbf\">                    </span><span style=\"color: #000080; text-decoration-color: #000080\">INFO    </span> Gradient mean <span style=\"color: #008080; text-decoration-color: #008080; font-weight: bold\">0.430370032787323</span> std <span style=\"color: #008080; text-decoration-color: #008080; font-weight: bold\">0.4110572040081024</span> with base    <a href=\"file://E:\\Masterarbeit\\ProjectCombined\\rgnn_at_scale\\attacks\\local_prbcd.py\" target=\"_blank\"><span style=\"color: #7f7f7f; text-decoration-color: #7f7f7f\">local_prbcd.py</span></a><span style=\"color: #7f7f7f; text-decoration-color: #7f7f7f\">:</span><a href=\"file://E:\\Masterarbeit\\ProjectCombined\\rgnn_at_scale\\attacks\\local_prbcd.py#119\" target=\"_blank\"><span style=\"color: #7f7f7f; text-decoration-color: #7f7f7f\">119</span></a>\n",
       "<span style=\"color: #7fbfbf; text-decoration-color: #7fbfbf\">                    </span>         learning rate <span style=\"color: #008080; text-decoration-color: #008080; font-weight: bold\">0.5300943312279429</span>                                    <span style=\"color: #7f7f7f; text-decoration-color: #7f7f7f\">                  </span>\n",
       "</pre>\n"
      ]
     },
     "metadata": {},
     "output_type": "display_data"
    },
    {
     "name": "stderr",
     "output_type": "stream",
     "text": [
      " 40%|████      | 20/50 [00:14<00:20,  1.46it/s]"
     ]
    },
    {
     "data": {
      "text/plain": [
       "\u001B[2;36m[04/01/25 13:00:09]\u001B[0m\u001B[2;36m \u001B[0m\u001B[34mINFO    \u001B[0m                                                                     \u001B]8;id=171408;file://E:\\Masterarbeit\\ProjectCombined\\rgnn_at_scale\\attacks\\local_prbcd.py\u001B\\\u001B[2mlocal_prbcd.py\u001B[0m\u001B]8;;\u001B\\\u001B[2m:\u001B[0m\u001B]8;id=688063;file://E:\\Masterarbeit\\ProjectCombined\\rgnn_at_scale\\attacks\\local_prbcd.py#118\u001B\\\u001B[2m118\u001B[0m\u001B]8;;\u001B\\\n",
       "\u001B[2;36m                    \u001B[0m         Epoch: \u001B[1;36m20\u001B[0m Loss: \u001B[1;36m-9.881260871887207\u001B[0m Statstics: \u001B[1m{\u001B[0m\u001B[32m'logit_target'\u001B[0m:      \u001B[2m                  \u001B[0m\n",
       "\u001B[2;36m                    \u001B[0m         \u001B[1;36m-0.0002615109842736274\u001B[0m, \u001B[32m'logit_best_non_target'\u001B[0m:                    \u001B[2m                  \u001B[0m\n",
       "\u001B[2;36m                    \u001B[0m         \u001B[1;36m-9.881522178649902\u001B[0m, \u001B[32m'confidence_target'\u001B[0m:                            \u001B[2m                  \u001B[0m\n",
       "\u001B[2;36m                    \u001B[0m         \u001B[1;35mnp.float64\u001B[0m\u001B[1m(\u001B[0m\u001B[1;36m0.9997385232067433\u001B[0m\u001B[1m)\u001B[0m, \u001B[32m'confidence_non_target'\u001B[0m:            \u001B[2m                  \u001B[0m\n",
       "\u001B[2;36m                    \u001B[0m         \u001B[1;35mnp.float64\u001B[0m\u001B[1m(\u001B[0m\u001B[1;36m5.1110419437683184e-05\u001B[0m\u001B[1m)\u001B[0m, \u001B[32m'margin'\u001B[0m:                       \u001B[2m                  \u001B[0m\n",
       "\u001B[2;36m                    \u001B[0m         \u001B[1;35mnp.float64\u001B[0m\u001B[1m(\u001B[0m\u001B[1;36m0.9996874127873056\u001B[0m\u001B[1m)\u001B[0m\u001B[1m}\u001B[0m                                     \u001B[2m                  \u001B[0m\n",
       "\u001B[2;36m                    \u001B[0m                                                                             \u001B[2m                  \u001B[0m\n"
      ],
      "text/html": [
       "<pre style=\"white-space:pre;overflow-x:auto;line-height:normal;font-family:Menlo,'DejaVu Sans Mono',consolas,'Courier New',monospace\"><span style=\"color: #7fbfbf; text-decoration-color: #7fbfbf\">[04/01/25 13:00:09] </span><span style=\"color: #000080; text-decoration-color: #000080\">INFO    </span>                                                                     <a href=\"file://E:\\Masterarbeit\\ProjectCombined\\rgnn_at_scale\\attacks\\local_prbcd.py\" target=\"_blank\"><span style=\"color: #7f7f7f; text-decoration-color: #7f7f7f\">local_prbcd.py</span></a><span style=\"color: #7f7f7f; text-decoration-color: #7f7f7f\">:</span><a href=\"file://E:\\Masterarbeit\\ProjectCombined\\rgnn_at_scale\\attacks\\local_prbcd.py#118\" target=\"_blank\"><span style=\"color: #7f7f7f; text-decoration-color: #7f7f7f\">118</span></a>\n",
       "<span style=\"color: #7fbfbf; text-decoration-color: #7fbfbf\">                    </span>         Epoch: <span style=\"color: #008080; text-decoration-color: #008080; font-weight: bold\">20</span> Loss: <span style=\"color: #008080; text-decoration-color: #008080; font-weight: bold\">-9.881260871887207</span> Statstics: <span style=\"font-weight: bold\">{</span><span style=\"color: #008000; text-decoration-color: #008000\">'logit_target'</span>:      <span style=\"color: #7f7f7f; text-decoration-color: #7f7f7f\">                  </span>\n",
       "<span style=\"color: #7fbfbf; text-decoration-color: #7fbfbf\">                    </span>         <span style=\"color: #008080; text-decoration-color: #008080; font-weight: bold\">-0.0002615109842736274</span>, <span style=\"color: #008000; text-decoration-color: #008000\">'logit_best_non_target'</span>:                    <span style=\"color: #7f7f7f; text-decoration-color: #7f7f7f\">                  </span>\n",
       "<span style=\"color: #7fbfbf; text-decoration-color: #7fbfbf\">                    </span>         <span style=\"color: #008080; text-decoration-color: #008080; font-weight: bold\">-9.881522178649902</span>, <span style=\"color: #008000; text-decoration-color: #008000\">'confidence_target'</span>:                            <span style=\"color: #7f7f7f; text-decoration-color: #7f7f7f\">                  </span>\n",
       "<span style=\"color: #7fbfbf; text-decoration-color: #7fbfbf\">                    </span>         <span style=\"color: #800080; text-decoration-color: #800080; font-weight: bold\">np.float64</span><span style=\"font-weight: bold\">(</span><span style=\"color: #008080; text-decoration-color: #008080; font-weight: bold\">0.9997385232067433</span><span style=\"font-weight: bold\">)</span>, <span style=\"color: #008000; text-decoration-color: #008000\">'confidence_non_target'</span>:            <span style=\"color: #7f7f7f; text-decoration-color: #7f7f7f\">                  </span>\n",
       "<span style=\"color: #7fbfbf; text-decoration-color: #7fbfbf\">                    </span>         <span style=\"color: #800080; text-decoration-color: #800080; font-weight: bold\">np.float64</span><span style=\"font-weight: bold\">(</span><span style=\"color: #008080; text-decoration-color: #008080; font-weight: bold\">5.1110419437683184e-05</span><span style=\"font-weight: bold\">)</span>, <span style=\"color: #008000; text-decoration-color: #008000\">'margin'</span>:                       <span style=\"color: #7f7f7f; text-decoration-color: #7f7f7f\">                  </span>\n",
       "<span style=\"color: #7fbfbf; text-decoration-color: #7fbfbf\">                    </span>         <span style=\"color: #800080; text-decoration-color: #800080; font-weight: bold\">np.float64</span><span style=\"font-weight: bold\">(</span><span style=\"color: #008080; text-decoration-color: #008080; font-weight: bold\">0.9996874127873056</span><span style=\"font-weight: bold\">)}</span>                                     <span style=\"color: #7f7f7f; text-decoration-color: #7f7f7f\">                  </span>\n",
       "<span style=\"color: #7fbfbf; text-decoration-color: #7fbfbf\">                    </span>                                                                             <span style=\"color: #7f7f7f; text-decoration-color: #7f7f7f\">                  </span>\n",
       "</pre>\n"
      ]
     },
     "metadata": {},
     "output_type": "display_data"
    },
    {
     "data": {
      "text/plain": [
       "\u001B[2;36m                   \u001B[0m\u001B[2;36m \u001B[0m\u001B[34mINFO    \u001B[0m Gradient mean \u001B[1;36m0.430370032787323\u001B[0m std \u001B[1;36m0.4110572040081024\u001B[0m with base    \u001B]8;id=43824;file://E:\\Masterarbeit\\ProjectCombined\\rgnn_at_scale\\attacks\\local_prbcd.py\u001B\\\u001B[2mlocal_prbcd.py\u001B[0m\u001B]8;;\u001B\\\u001B[2m:\u001B[0m\u001B]8;id=518531;file://E:\\Masterarbeit\\ProjectCombined\\rgnn_at_scale\\attacks\\local_prbcd.py#119\u001B\\\u001B[2m119\u001B[0m\u001B]8;;\u001B\\\n",
       "\u001B[2;36m                    \u001B[0m         learning rate \u001B[1;36m0.5300943312279429\u001B[0m                                    \u001B[2m                  \u001B[0m\n"
      ],
      "text/html": [
       "<pre style=\"white-space:pre;overflow-x:auto;line-height:normal;font-family:Menlo,'DejaVu Sans Mono',consolas,'Courier New',monospace\"><span style=\"color: #7fbfbf; text-decoration-color: #7fbfbf\">                    </span><span style=\"color: #000080; text-decoration-color: #000080\">INFO    </span> Gradient mean <span style=\"color: #008080; text-decoration-color: #008080; font-weight: bold\">0.430370032787323</span> std <span style=\"color: #008080; text-decoration-color: #008080; font-weight: bold\">0.4110572040081024</span> with base    <a href=\"file://E:\\Masterarbeit\\ProjectCombined\\rgnn_at_scale\\attacks\\local_prbcd.py\" target=\"_blank\"><span style=\"color: #7f7f7f; text-decoration-color: #7f7f7f\">local_prbcd.py</span></a><span style=\"color: #7f7f7f; text-decoration-color: #7f7f7f\">:</span><a href=\"file://E:\\Masterarbeit\\ProjectCombined\\rgnn_at_scale\\attacks\\local_prbcd.py#119\" target=\"_blank\"><span style=\"color: #7f7f7f; text-decoration-color: #7f7f7f\">119</span></a>\n",
       "<span style=\"color: #7fbfbf; text-decoration-color: #7fbfbf\">                    </span>         learning rate <span style=\"color: #008080; text-decoration-color: #008080; font-weight: bold\">0.5300943312279429</span>                                    <span style=\"color: #7f7f7f; text-decoration-color: #7f7f7f\">                  </span>\n",
       "</pre>\n"
      ]
     },
     "metadata": {},
     "output_type": "display_data"
    },
    {
     "name": "stderr",
     "output_type": "stream",
     "text": [
      " 80%|████████  | 40/50 [00:29<00:07,  1.39it/s]"
     ]
    },
    {
     "data": {
      "text/plain": [
       "\u001B[2;36m[04/01/25 13:00:23]\u001B[0m\u001B[2;36m \u001B[0m\u001B[34mINFO    \u001B[0m                                                                     \u001B]8;id=958117;file://E:\\Masterarbeit\\ProjectCombined\\rgnn_at_scale\\attacks\\local_prbcd.py\u001B\\\u001B[2mlocal_prbcd.py\u001B[0m\u001B]8;;\u001B\\\u001B[2m:\u001B[0m\u001B]8;id=216474;file://E:\\Masterarbeit\\ProjectCombined\\rgnn_at_scale\\attacks\\local_prbcd.py#118\u001B\\\u001B[2m118\u001B[0m\u001B]8;;\u001B\\\n",
       "\u001B[2;36m                    \u001B[0m         Epoch: \u001B[1;36m40\u001B[0m Loss: \u001B[1;36m-9.881260871887207\u001B[0m Statstics: \u001B[1m{\u001B[0m\u001B[32m'logit_target'\u001B[0m:      \u001B[2m                  \u001B[0m\n",
       "\u001B[2;36m                    \u001B[0m         \u001B[1;36m-0.0002615109842736274\u001B[0m, \u001B[32m'logit_best_non_target'\u001B[0m:                    \u001B[2m                  \u001B[0m\n",
       "\u001B[2;36m                    \u001B[0m         \u001B[1;36m-9.881522178649902\u001B[0m, \u001B[32m'confidence_target'\u001B[0m:                            \u001B[2m                  \u001B[0m\n",
       "\u001B[2;36m                    \u001B[0m         \u001B[1;35mnp.float64\u001B[0m\u001B[1m(\u001B[0m\u001B[1;36m0.9997385232067433\u001B[0m\u001B[1m)\u001B[0m, \u001B[32m'confidence_non_target'\u001B[0m:            \u001B[2m                  \u001B[0m\n",
       "\u001B[2;36m                    \u001B[0m         \u001B[1;35mnp.float64\u001B[0m\u001B[1m(\u001B[0m\u001B[1;36m5.1110419437683184e-05\u001B[0m\u001B[1m)\u001B[0m, \u001B[32m'margin'\u001B[0m:                       \u001B[2m                  \u001B[0m\n",
       "\u001B[2;36m                    \u001B[0m         \u001B[1;35mnp.float64\u001B[0m\u001B[1m(\u001B[0m\u001B[1;36m0.9996874127873056\u001B[0m\u001B[1m)\u001B[0m\u001B[1m}\u001B[0m                                     \u001B[2m                  \u001B[0m\n",
       "\u001B[2;36m                    \u001B[0m                                                                             \u001B[2m                  \u001B[0m\n"
      ],
      "text/html": [
       "<pre style=\"white-space:pre;overflow-x:auto;line-height:normal;font-family:Menlo,'DejaVu Sans Mono',consolas,'Courier New',monospace\"><span style=\"color: #7fbfbf; text-decoration-color: #7fbfbf\">[04/01/25 13:00:23] </span><span style=\"color: #000080; text-decoration-color: #000080\">INFO    </span>                                                                     <a href=\"file://E:\\Masterarbeit\\ProjectCombined\\rgnn_at_scale\\attacks\\local_prbcd.py\" target=\"_blank\"><span style=\"color: #7f7f7f; text-decoration-color: #7f7f7f\">local_prbcd.py</span></a><span style=\"color: #7f7f7f; text-decoration-color: #7f7f7f\">:</span><a href=\"file://E:\\Masterarbeit\\ProjectCombined\\rgnn_at_scale\\attacks\\local_prbcd.py#118\" target=\"_blank\"><span style=\"color: #7f7f7f; text-decoration-color: #7f7f7f\">118</span></a>\n",
       "<span style=\"color: #7fbfbf; text-decoration-color: #7fbfbf\">                    </span>         Epoch: <span style=\"color: #008080; text-decoration-color: #008080; font-weight: bold\">40</span> Loss: <span style=\"color: #008080; text-decoration-color: #008080; font-weight: bold\">-9.881260871887207</span> Statstics: <span style=\"font-weight: bold\">{</span><span style=\"color: #008000; text-decoration-color: #008000\">'logit_target'</span>:      <span style=\"color: #7f7f7f; text-decoration-color: #7f7f7f\">                  </span>\n",
       "<span style=\"color: #7fbfbf; text-decoration-color: #7fbfbf\">                    </span>         <span style=\"color: #008080; text-decoration-color: #008080; font-weight: bold\">-0.0002615109842736274</span>, <span style=\"color: #008000; text-decoration-color: #008000\">'logit_best_non_target'</span>:                    <span style=\"color: #7f7f7f; text-decoration-color: #7f7f7f\">                  </span>\n",
       "<span style=\"color: #7fbfbf; text-decoration-color: #7fbfbf\">                    </span>         <span style=\"color: #008080; text-decoration-color: #008080; font-weight: bold\">-9.881522178649902</span>, <span style=\"color: #008000; text-decoration-color: #008000\">'confidence_target'</span>:                            <span style=\"color: #7f7f7f; text-decoration-color: #7f7f7f\">                  </span>\n",
       "<span style=\"color: #7fbfbf; text-decoration-color: #7fbfbf\">                    </span>         <span style=\"color: #800080; text-decoration-color: #800080; font-weight: bold\">np.float64</span><span style=\"font-weight: bold\">(</span><span style=\"color: #008080; text-decoration-color: #008080; font-weight: bold\">0.9997385232067433</span><span style=\"font-weight: bold\">)</span>, <span style=\"color: #008000; text-decoration-color: #008000\">'confidence_non_target'</span>:            <span style=\"color: #7f7f7f; text-decoration-color: #7f7f7f\">                  </span>\n",
       "<span style=\"color: #7fbfbf; text-decoration-color: #7fbfbf\">                    </span>         <span style=\"color: #800080; text-decoration-color: #800080; font-weight: bold\">np.float64</span><span style=\"font-weight: bold\">(</span><span style=\"color: #008080; text-decoration-color: #008080; font-weight: bold\">5.1110419437683184e-05</span><span style=\"font-weight: bold\">)</span>, <span style=\"color: #008000; text-decoration-color: #008000\">'margin'</span>:                       <span style=\"color: #7f7f7f; text-decoration-color: #7f7f7f\">                  </span>\n",
       "<span style=\"color: #7fbfbf; text-decoration-color: #7fbfbf\">                    </span>         <span style=\"color: #800080; text-decoration-color: #800080; font-weight: bold\">np.float64</span><span style=\"font-weight: bold\">(</span><span style=\"color: #008080; text-decoration-color: #008080; font-weight: bold\">0.9996874127873056</span><span style=\"font-weight: bold\">)}</span>                                     <span style=\"color: #7f7f7f; text-decoration-color: #7f7f7f\">                  </span>\n",
       "<span style=\"color: #7fbfbf; text-decoration-color: #7fbfbf\">                    </span>                                                                             <span style=\"color: #7f7f7f; text-decoration-color: #7f7f7f\">                  </span>\n",
       "</pre>\n"
      ]
     },
     "metadata": {},
     "output_type": "display_data"
    },
    {
     "data": {
      "text/plain": [
       "\u001B[2;36m                   \u001B[0m\u001B[2;36m \u001B[0m\u001B[34mINFO    \u001B[0m Gradient mean \u001B[1;36m0.430370032787323\u001B[0m std \u001B[1;36m0.4110572040081024\u001B[0m with base    \u001B]8;id=175472;file://E:\\Masterarbeit\\ProjectCombined\\rgnn_at_scale\\attacks\\local_prbcd.py\u001B\\\u001B[2mlocal_prbcd.py\u001B[0m\u001B]8;;\u001B\\\u001B[2m:\u001B[0m\u001B]8;id=307621;file://E:\\Masterarbeit\\ProjectCombined\\rgnn_at_scale\\attacks\\local_prbcd.py#119\u001B\\\u001B[2m119\u001B[0m\u001B]8;;\u001B\\\n",
       "\u001B[2;36m                    \u001B[0m         learning rate \u001B[1;36m0.5300943312279429\u001B[0m                                    \u001B[2m                  \u001B[0m\n"
      ],
      "text/html": [
       "<pre style=\"white-space:pre;overflow-x:auto;line-height:normal;font-family:Menlo,'DejaVu Sans Mono',consolas,'Courier New',monospace\"><span style=\"color: #7fbfbf; text-decoration-color: #7fbfbf\">                    </span><span style=\"color: #000080; text-decoration-color: #000080\">INFO    </span> Gradient mean <span style=\"color: #008080; text-decoration-color: #008080; font-weight: bold\">0.430370032787323</span> std <span style=\"color: #008080; text-decoration-color: #008080; font-weight: bold\">0.4110572040081024</span> with base    <a href=\"file://E:\\Masterarbeit\\ProjectCombined\\rgnn_at_scale\\attacks\\local_prbcd.py\" target=\"_blank\"><span style=\"color: #7f7f7f; text-decoration-color: #7f7f7f\">local_prbcd.py</span></a><span style=\"color: #7f7f7f; text-decoration-color: #7f7f7f\">:</span><a href=\"file://E:\\Masterarbeit\\ProjectCombined\\rgnn_at_scale\\attacks\\local_prbcd.py#119\" target=\"_blank\"><span style=\"color: #7f7f7f; text-decoration-color: #7f7f7f\">119</span></a>\n",
       "<span style=\"color: #7fbfbf; text-decoration-color: #7fbfbf\">                    </span>         learning rate <span style=\"color: #008080; text-decoration-color: #008080; font-weight: bold\">0.5300943312279429</span>                                    <span style=\"color: #7f7f7f; text-decoration-color: #7f7f7f\">                  </span>\n",
       "</pre>\n"
      ]
     },
     "metadata": {},
     "output_type": "display_data"
    },
    {
     "name": "stderr",
     "output_type": "stream",
     "text": [
      "100%|██████████| 50/50 [00:35<00:00,  1.39it/s]\n"
     ]
    },
    {
     "data": {
      "text/plain": [
       "\u001B[2;36m[04/01/25 13:00:30]\u001B[0m\u001B[2;36m \u001B[0m\u001B[34mINFO    \u001B[0m Evaluated model Vanilla GCN using LocalPRBCD     \u001B]8;id=289701;file://E:\\Masterarbeit\\ProjectCombined\\experiments\\experiment_local_attack_direct.py\u001B\\\u001B[2mexperiment_local_attack_direct.py\u001B[0m\u001B]8;;\u001B\\\u001B[2m:\u001B[0m\u001B]8;id=55677;file://E:\\Masterarbeit\\ProjectCombined\\experiments\\experiment_local_attack_direct.py#194\u001B\\\u001B[2m194\u001B[0m\u001B]8;;\u001B\\\n",
       "\u001B[2;36m                    \u001B[0m         with pert. edges for node \u001B[1;36m475\u001B[0m and budget \u001B[1;36m2\u001B[0m:      \u001B[2m                                     \u001B[0m\n"
      ],
      "text/html": [
       "<pre style=\"white-space:pre;overflow-x:auto;line-height:normal;font-family:Menlo,'DejaVu Sans Mono',consolas,'Courier New',monospace\"><span style=\"color: #7fbfbf; text-decoration-color: #7fbfbf\">[04/01/25 13:00:30] </span><span style=\"color: #000080; text-decoration-color: #000080\">INFO    </span> Evaluated model Vanilla GCN using LocalPRBCD     <a href=\"file://E:\\Masterarbeit\\ProjectCombined\\experiments\\experiment_local_attack_direct.py\" target=\"_blank\"><span style=\"color: #7f7f7f; text-decoration-color: #7f7f7f\">experiment_local_attack_direct.py</span></a><span style=\"color: #7f7f7f; text-decoration-color: #7f7f7f\">:</span><a href=\"file://E:\\Masterarbeit\\ProjectCombined\\experiments\\experiment_local_attack_direct.py#194\" target=\"_blank\"><span style=\"color: #7f7f7f; text-decoration-color: #7f7f7f\">194</span></a>\n",
       "<span style=\"color: #7fbfbf; text-decoration-color: #7fbfbf\">                    </span>         with pert. edges for node <span style=\"color: #008080; text-decoration-color: #008080; font-weight: bold\">475</span> and budget <span style=\"color: #008080; text-decoration-color: #008080; font-weight: bold\">2</span>:      <span style=\"color: #7f7f7f; text-decoration-color: #7f7f7f\">                                     </span>\n",
       "</pre>\n"
      ]
     },
     "metadata": {},
     "output_type": "display_data"
    },
    {
     "data": {
      "text/plain": [
       "\u001B[2;36m                   \u001B[0m\u001B[2;36m \u001B[0m\u001B[34mINFO    \u001B[0m \u001B[1m{\u001B[0m\u001B[32m'label'\u001B[0m: \u001B[32m'Vanilla GCN'\u001B[0m, \u001B[32m'epsilon'\u001B[0m: \u001B[1;36m1\u001B[0m,           \u001B]8;id=648822;file://E:\\Masterarbeit\\ProjectCombined\\experiments\\experiment_local_attack_direct.py\u001B\\\u001B[2mexperiment_local_attack_direct.py\u001B[0m\u001B]8;;\u001B\\\u001B[2m:\u001B[0m\u001B]8;id=550388;file://E:\\Masterarbeit\\ProjectCombined\\experiments\\experiment_local_attack_direct.py#215\u001B\\\u001B[2m215\u001B[0m\u001B]8;;\u001B\\\n",
       "\u001B[2;36m                    \u001B[0m         \u001B[32m'n_perturbations'\u001B[0m: \u001B[1;36m2\u001B[0m, \u001B[32m'degree'\u001B[0m: \u001B[1;36m2\u001B[0m, \u001B[32m'logits'\u001B[0m:     \u001B[2m                                     \u001B[0m\n",
       "\u001B[2;36m                    \u001B[0m         \u001B[1m[\u001B[0m\u001B[1m[\u001B[0m\u001B[1;36m-1.3916124105453491\u001B[0m, \u001B[1;36m-1.4649813175201416\u001B[0m,      \u001B[2m                                     \u001B[0m\n",
       "\u001B[2;36m                    \u001B[0m         \u001B[1;36m3.196052312850952\u001B[0m, \u001B[1;36m0.07975733280181885\u001B[0m,          \u001B[2m                                     \u001B[0m\n",
       "\u001B[2;36m                    \u001B[0m         \u001B[1;36m0.2694832980632782\u001B[0m, \u001B[1;36m-1.5252845287322998\u001B[0m,         \u001B[2m                                     \u001B[0m\n",
       "\u001B[2;36m                    \u001B[0m         \u001B[1;36m0.6296548843383789\u001B[0m\u001B[1m]\u001B[0m\u001B[1m]\u001B[0m, \u001B[32m'initial_logits'\u001B[0m:          \u001B[2m                                     \u001B[0m\n",
       "\u001B[2;36m                    \u001B[0m         \u001B[1m[\u001B[0m\u001B[1m[\u001B[0m\u001B[1;36m-1.2917386293411255\u001B[0m, \u001B[1;36m-2.2045154571533203\u001B[0m,      \u001B[2m                                     \u001B[0m\n",
       "\u001B[2;36m                    \u001B[0m         \u001B[1;36m8.618408203125\u001B[0m, \u001B[1;36m-1.396083116531372\u001B[0m,              \u001B[2m                                     \u001B[0m\n",
       "\u001B[2;36m                    \u001B[0m         \u001B[1;36m-1.2628530263900757\u001B[0m, \u001B[1;36m-1.275286078453064\u001B[0m,         \u001B[2m                                     \u001B[0m\n",
       "\u001B[2;36m                    \u001B[0m         \u001B[1;36m-1.3779186010360718\u001B[0m\u001B[1m]\u001B[0m\u001B[1m]\u001B[0m, \u001B[32m'larget'\u001B[0m: \u001B[1;36m2\u001B[0m, \u001B[32m'node_id'\u001B[0m:   \u001B[2m                                     \u001B[0m\n",
       "\u001B[2;36m                    \u001B[0m         \u001B[1;36m475\u001B[0m, \u001B[32m'perturbed_edges'\u001B[0m: \u001B[1m[\u001B[0m\u001B[1m[\u001B[0m\u001B[1;36m475\u001B[0m, \u001B[1;36m475\u001B[0m\u001B[1m]\u001B[0m, \u001B[1m[\u001B[0m\u001B[1;36m12\u001B[0m, \u001B[1;36m60\u001B[0m\u001B[1m]\u001B[0m\u001B[1m]\u001B[0m,  \u001B[2m                                     \u001B[0m\n",
       "\u001B[2;36m                    \u001B[0m         \u001B[32m'logit_target'\u001B[0m: \u001B[1;36m-0.1850261688232422\u001B[0m,             \u001B[2m                                     \u001B[0m\n",
       "\u001B[2;36m                    \u001B[0m         \u001B[32m'logit_best_non_target'\u001B[0m: \u001B[1;36m-2.7514235973358154\u001B[0m,    \u001B[2m                                     \u001B[0m\n",
       "\u001B[2;36m                    \u001B[0m         \u001B[32m'confidence_target'\u001B[0m:                             \u001B[2m                                     \u001B[0m\n",
       "\u001B[2;36m                    \u001B[0m         \u001B[1;35mnp.float64\u001B[0m\u001B[1m(\u001B[0m\u001B[1;36m0.8310825351155964\u001B[0m\u001B[1m)\u001B[0m,                  \u001B[2m                                     \u001B[0m\n",
       "\u001B[2;36m                    \u001B[0m         \u001B[32m'confidence_non_target'\u001B[0m:                         \u001B[2m                                     \u001B[0m\n",
       "\u001B[2;36m                    \u001B[0m         \u001B[1;35mnp.float64\u001B[0m\u001B[1m(\u001B[0m\u001B[1;36m0.06383691842212119\u001B[0m\u001B[1m)\u001B[0m, \u001B[32m'margin'\u001B[0m:       \u001B[2m                                     \u001B[0m\n",
       "\u001B[2;36m                    \u001B[0m         \u001B[1;35mnp.float64\u001B[0m\u001B[1m(\u001B[0m\u001B[1;36m0.7672456166934751\u001B[0m\u001B[1m)\u001B[0m,                  \u001B[2m                                     \u001B[0m\n",
       "\u001B[2;36m                    \u001B[0m         \u001B[32m'initial_logit_target'\u001B[0m: \u001B[1;36m-0.0002615109842736274\u001B[0m,  \u001B[2m                                     \u001B[0m\n",
       "\u001B[2;36m                    \u001B[0m         \u001B[32m'initial_logit_best_non_target'\u001B[0m:                 \u001B[2m                                     \u001B[0m\n",
       "\u001B[2;36m                    \u001B[0m         \u001B[1;36m-9.881522178649902\u001B[0m, \u001B[32m'initial_confidence_target'\u001B[0m: \u001B[2m                                     \u001B[0m\n",
       "\u001B[2;36m                    \u001B[0m         \u001B[1;35mnp.float64\u001B[0m\u001B[1m(\u001B[0m\u001B[1;36m0.9997385232067433\u001B[0m\u001B[1m)\u001B[0m,                  \u001B[2m                                     \u001B[0m\n",
       "\u001B[2;36m                    \u001B[0m         \u001B[32m'initial_confidence_non_target'\u001B[0m:                 \u001B[2m                                     \u001B[0m\n",
       "\u001B[2;36m                    \u001B[0m         \u001B[1;35mnp.float64\u001B[0m\u001B[1m(\u001B[0m\u001B[1;36m5.1110419437683184e-05\u001B[0m\u001B[1m)\u001B[0m,              \u001B[2m                                     \u001B[0m\n",
       "\u001B[2;36m                    \u001B[0m         \u001B[32m'initial_margin'\u001B[0m:                                \u001B[2m                                     \u001B[0m\n",
       "\u001B[2;36m                    \u001B[0m         \u001B[1;35mnp.float64\u001B[0m\u001B[1m(\u001B[0m\u001B[1;36m0.9996874127873056\u001B[0m\u001B[1m)\u001B[0m\u001B[1m}\u001B[0m                  \u001B[2m                                     \u001B[0m\n"
      ],
      "text/html": [
       "<pre style=\"white-space:pre;overflow-x:auto;line-height:normal;font-family:Menlo,'DejaVu Sans Mono',consolas,'Courier New',monospace\"><span style=\"color: #7fbfbf; text-decoration-color: #7fbfbf\">                    </span><span style=\"color: #000080; text-decoration-color: #000080\">INFO    </span> <span style=\"font-weight: bold\">{</span><span style=\"color: #008000; text-decoration-color: #008000\">'label'</span>: <span style=\"color: #008000; text-decoration-color: #008000\">'Vanilla GCN'</span>, <span style=\"color: #008000; text-decoration-color: #008000\">'epsilon'</span>: <span style=\"color: #008080; text-decoration-color: #008080; font-weight: bold\">1</span>,           <a href=\"file://E:\\Masterarbeit\\ProjectCombined\\experiments\\experiment_local_attack_direct.py\" target=\"_blank\"><span style=\"color: #7f7f7f; text-decoration-color: #7f7f7f\">experiment_local_attack_direct.py</span></a><span style=\"color: #7f7f7f; text-decoration-color: #7f7f7f\">:</span><a href=\"file://E:\\Masterarbeit\\ProjectCombined\\experiments\\experiment_local_attack_direct.py#215\" target=\"_blank\"><span style=\"color: #7f7f7f; text-decoration-color: #7f7f7f\">215</span></a>\n",
       "<span style=\"color: #7fbfbf; text-decoration-color: #7fbfbf\">                    </span>         <span style=\"color: #008000; text-decoration-color: #008000\">'n_perturbations'</span>: <span style=\"color: #008080; text-decoration-color: #008080; font-weight: bold\">2</span>, <span style=\"color: #008000; text-decoration-color: #008000\">'degree'</span>: <span style=\"color: #008080; text-decoration-color: #008080; font-weight: bold\">2</span>, <span style=\"color: #008000; text-decoration-color: #008000\">'logits'</span>:     <span style=\"color: #7f7f7f; text-decoration-color: #7f7f7f\">                                     </span>\n",
       "<span style=\"color: #7fbfbf; text-decoration-color: #7fbfbf\">                    </span>         <span style=\"font-weight: bold\">[[</span><span style=\"color: #008080; text-decoration-color: #008080; font-weight: bold\">-1.3916124105453491</span>, <span style=\"color: #008080; text-decoration-color: #008080; font-weight: bold\">-1.4649813175201416</span>,      <span style=\"color: #7f7f7f; text-decoration-color: #7f7f7f\">                                     </span>\n",
       "<span style=\"color: #7fbfbf; text-decoration-color: #7fbfbf\">                    </span>         <span style=\"color: #008080; text-decoration-color: #008080; font-weight: bold\">3.196052312850952</span>, <span style=\"color: #008080; text-decoration-color: #008080; font-weight: bold\">0.07975733280181885</span>,          <span style=\"color: #7f7f7f; text-decoration-color: #7f7f7f\">                                     </span>\n",
       "<span style=\"color: #7fbfbf; text-decoration-color: #7fbfbf\">                    </span>         <span style=\"color: #008080; text-decoration-color: #008080; font-weight: bold\">0.2694832980632782</span>, <span style=\"color: #008080; text-decoration-color: #008080; font-weight: bold\">-1.5252845287322998</span>,         <span style=\"color: #7f7f7f; text-decoration-color: #7f7f7f\">                                     </span>\n",
       "<span style=\"color: #7fbfbf; text-decoration-color: #7fbfbf\">                    </span>         <span style=\"color: #008080; text-decoration-color: #008080; font-weight: bold\">0.6296548843383789</span><span style=\"font-weight: bold\">]]</span>, <span style=\"color: #008000; text-decoration-color: #008000\">'initial_logits'</span>:          <span style=\"color: #7f7f7f; text-decoration-color: #7f7f7f\">                                     </span>\n",
       "<span style=\"color: #7fbfbf; text-decoration-color: #7fbfbf\">                    </span>         <span style=\"font-weight: bold\">[[</span><span style=\"color: #008080; text-decoration-color: #008080; font-weight: bold\">-1.2917386293411255</span>, <span style=\"color: #008080; text-decoration-color: #008080; font-weight: bold\">-2.2045154571533203</span>,      <span style=\"color: #7f7f7f; text-decoration-color: #7f7f7f\">                                     </span>\n",
       "<span style=\"color: #7fbfbf; text-decoration-color: #7fbfbf\">                    </span>         <span style=\"color: #008080; text-decoration-color: #008080; font-weight: bold\">8.618408203125</span>, <span style=\"color: #008080; text-decoration-color: #008080; font-weight: bold\">-1.396083116531372</span>,              <span style=\"color: #7f7f7f; text-decoration-color: #7f7f7f\">                                     </span>\n",
       "<span style=\"color: #7fbfbf; text-decoration-color: #7fbfbf\">                    </span>         <span style=\"color: #008080; text-decoration-color: #008080; font-weight: bold\">-1.2628530263900757</span>, <span style=\"color: #008080; text-decoration-color: #008080; font-weight: bold\">-1.275286078453064</span>,         <span style=\"color: #7f7f7f; text-decoration-color: #7f7f7f\">                                     </span>\n",
       "<span style=\"color: #7fbfbf; text-decoration-color: #7fbfbf\">                    </span>         <span style=\"color: #008080; text-decoration-color: #008080; font-weight: bold\">-1.3779186010360718</span><span style=\"font-weight: bold\">]]</span>, <span style=\"color: #008000; text-decoration-color: #008000\">'larget'</span>: <span style=\"color: #008080; text-decoration-color: #008080; font-weight: bold\">2</span>, <span style=\"color: #008000; text-decoration-color: #008000\">'node_id'</span>:   <span style=\"color: #7f7f7f; text-decoration-color: #7f7f7f\">                                     </span>\n",
       "<span style=\"color: #7fbfbf; text-decoration-color: #7fbfbf\">                    </span>         <span style=\"color: #008080; text-decoration-color: #008080; font-weight: bold\">475</span>, <span style=\"color: #008000; text-decoration-color: #008000\">'perturbed_edges'</span>: <span style=\"font-weight: bold\">[[</span><span style=\"color: #008080; text-decoration-color: #008080; font-weight: bold\">475</span>, <span style=\"color: #008080; text-decoration-color: #008080; font-weight: bold\">475</span><span style=\"font-weight: bold\">]</span>, <span style=\"font-weight: bold\">[</span><span style=\"color: #008080; text-decoration-color: #008080; font-weight: bold\">12</span>, <span style=\"color: #008080; text-decoration-color: #008080; font-weight: bold\">60</span><span style=\"font-weight: bold\">]]</span>,  <span style=\"color: #7f7f7f; text-decoration-color: #7f7f7f\">                                     </span>\n",
       "<span style=\"color: #7fbfbf; text-decoration-color: #7fbfbf\">                    </span>         <span style=\"color: #008000; text-decoration-color: #008000\">'logit_target'</span>: <span style=\"color: #008080; text-decoration-color: #008080; font-weight: bold\">-0.1850261688232422</span>,             <span style=\"color: #7f7f7f; text-decoration-color: #7f7f7f\">                                     </span>\n",
       "<span style=\"color: #7fbfbf; text-decoration-color: #7fbfbf\">                    </span>         <span style=\"color: #008000; text-decoration-color: #008000\">'logit_best_non_target'</span>: <span style=\"color: #008080; text-decoration-color: #008080; font-weight: bold\">-2.7514235973358154</span>,    <span style=\"color: #7f7f7f; text-decoration-color: #7f7f7f\">                                     </span>\n",
       "<span style=\"color: #7fbfbf; text-decoration-color: #7fbfbf\">                    </span>         <span style=\"color: #008000; text-decoration-color: #008000\">'confidence_target'</span>:                             <span style=\"color: #7f7f7f; text-decoration-color: #7f7f7f\">                                     </span>\n",
       "<span style=\"color: #7fbfbf; text-decoration-color: #7fbfbf\">                    </span>         <span style=\"color: #800080; text-decoration-color: #800080; font-weight: bold\">np.float64</span><span style=\"font-weight: bold\">(</span><span style=\"color: #008080; text-decoration-color: #008080; font-weight: bold\">0.8310825351155964</span><span style=\"font-weight: bold\">)</span>,                  <span style=\"color: #7f7f7f; text-decoration-color: #7f7f7f\">                                     </span>\n",
       "<span style=\"color: #7fbfbf; text-decoration-color: #7fbfbf\">                    </span>         <span style=\"color: #008000; text-decoration-color: #008000\">'confidence_non_target'</span>:                         <span style=\"color: #7f7f7f; text-decoration-color: #7f7f7f\">                                     </span>\n",
       "<span style=\"color: #7fbfbf; text-decoration-color: #7fbfbf\">                    </span>         <span style=\"color: #800080; text-decoration-color: #800080; font-weight: bold\">np.float64</span><span style=\"font-weight: bold\">(</span><span style=\"color: #008080; text-decoration-color: #008080; font-weight: bold\">0.06383691842212119</span><span style=\"font-weight: bold\">)</span>, <span style=\"color: #008000; text-decoration-color: #008000\">'margin'</span>:       <span style=\"color: #7f7f7f; text-decoration-color: #7f7f7f\">                                     </span>\n",
       "<span style=\"color: #7fbfbf; text-decoration-color: #7fbfbf\">                    </span>         <span style=\"color: #800080; text-decoration-color: #800080; font-weight: bold\">np.float64</span><span style=\"font-weight: bold\">(</span><span style=\"color: #008080; text-decoration-color: #008080; font-weight: bold\">0.7672456166934751</span><span style=\"font-weight: bold\">)</span>,                  <span style=\"color: #7f7f7f; text-decoration-color: #7f7f7f\">                                     </span>\n",
       "<span style=\"color: #7fbfbf; text-decoration-color: #7fbfbf\">                    </span>         <span style=\"color: #008000; text-decoration-color: #008000\">'initial_logit_target'</span>: <span style=\"color: #008080; text-decoration-color: #008080; font-weight: bold\">-0.0002615109842736274</span>,  <span style=\"color: #7f7f7f; text-decoration-color: #7f7f7f\">                                     </span>\n",
       "<span style=\"color: #7fbfbf; text-decoration-color: #7fbfbf\">                    </span>         <span style=\"color: #008000; text-decoration-color: #008000\">'initial_logit_best_non_target'</span>:                 <span style=\"color: #7f7f7f; text-decoration-color: #7f7f7f\">                                     </span>\n",
       "<span style=\"color: #7fbfbf; text-decoration-color: #7fbfbf\">                    </span>         <span style=\"color: #008080; text-decoration-color: #008080; font-weight: bold\">-9.881522178649902</span>, <span style=\"color: #008000; text-decoration-color: #008000\">'initial_confidence_target'</span>: <span style=\"color: #7f7f7f; text-decoration-color: #7f7f7f\">                                     </span>\n",
       "<span style=\"color: #7fbfbf; text-decoration-color: #7fbfbf\">                    </span>         <span style=\"color: #800080; text-decoration-color: #800080; font-weight: bold\">np.float64</span><span style=\"font-weight: bold\">(</span><span style=\"color: #008080; text-decoration-color: #008080; font-weight: bold\">0.9997385232067433</span><span style=\"font-weight: bold\">)</span>,                  <span style=\"color: #7f7f7f; text-decoration-color: #7f7f7f\">                                     </span>\n",
       "<span style=\"color: #7fbfbf; text-decoration-color: #7fbfbf\">                    </span>         <span style=\"color: #008000; text-decoration-color: #008000\">'initial_confidence_non_target'</span>:                 <span style=\"color: #7f7f7f; text-decoration-color: #7f7f7f\">                                     </span>\n",
       "<span style=\"color: #7fbfbf; text-decoration-color: #7fbfbf\">                    </span>         <span style=\"color: #800080; text-decoration-color: #800080; font-weight: bold\">np.float64</span><span style=\"font-weight: bold\">(</span><span style=\"color: #008080; text-decoration-color: #008080; font-weight: bold\">5.1110419437683184e-05</span><span style=\"font-weight: bold\">)</span>,              <span style=\"color: #7f7f7f; text-decoration-color: #7f7f7f\">                                     </span>\n",
       "<span style=\"color: #7fbfbf; text-decoration-color: #7fbfbf\">                    </span>         <span style=\"color: #008000; text-decoration-color: #008000\">'initial_margin'</span>:                                <span style=\"color: #7f7f7f; text-decoration-color: #7f7f7f\">                                     </span>\n",
       "<span style=\"color: #7fbfbf; text-decoration-color: #7fbfbf\">                    </span>         <span style=\"color: #800080; text-decoration-color: #800080; font-weight: bold\">np.float64</span><span style=\"font-weight: bold\">(</span><span style=\"color: #008080; text-decoration-color: #008080; font-weight: bold\">0.9996874127873056</span><span style=\"font-weight: bold\">)}</span>                  <span style=\"color: #7f7f7f; text-decoration-color: #7f7f7f\">                                     </span>\n",
       "</pre>\n"
      ]
     },
     "metadata": {},
     "output_type": "display_data"
    },
    {
     "data": {
      "text/plain": [
       "\u001B[2;36m                   \u001B[0m\u001B[2;36m \u001B[0m\u001B[34mINFO    \u001B[0m Completed attack and evaluation of Vanilla GCN   \u001B]8;id=950995;file://E:\\Masterarbeit\\ProjectCombined\\experiments\\experiment_local_attack_direct.py\u001B\\\u001B[2mexperiment_local_attack_direct.py\u001B[0m\u001B]8;;\u001B\\\u001B[2m:\u001B[0m\u001B]8;id=414436;file://E:\\Masterarbeit\\ProjectCombined\\experiments\\experiment_local_attack_direct.py#216\u001B\\\u001B[2m216\u001B[0m\u001B]8;;\u001B\\\n",
       "\u001B[2;36m                    \u001B[0m         using LocalPRBCD with pert. edges for node \u001B[1;36m475\u001B[0m   \u001B[2m                                     \u001B[0m\n",
       "\u001B[2;36m                    \u001B[0m         and budget \u001B[1;36m2\u001B[0m                                     \u001B[2m                                     \u001B[0m\n"
      ],
      "text/html": [
       "<pre style=\"white-space:pre;overflow-x:auto;line-height:normal;font-family:Menlo,'DejaVu Sans Mono',consolas,'Courier New',monospace\"><span style=\"color: #7fbfbf; text-decoration-color: #7fbfbf\">                    </span><span style=\"color: #000080; text-decoration-color: #000080\">INFO    </span> Completed attack and evaluation of Vanilla GCN   <a href=\"file://E:\\Masterarbeit\\ProjectCombined\\experiments\\experiment_local_attack_direct.py\" target=\"_blank\"><span style=\"color: #7f7f7f; text-decoration-color: #7f7f7f\">experiment_local_attack_direct.py</span></a><span style=\"color: #7f7f7f; text-decoration-color: #7f7f7f\">:</span><a href=\"file://E:\\Masterarbeit\\ProjectCombined\\experiments\\experiment_local_attack_direct.py#216\" target=\"_blank\"><span style=\"color: #7f7f7f; text-decoration-color: #7f7f7f\">216</span></a>\n",
       "<span style=\"color: #7fbfbf; text-decoration-color: #7fbfbf\">                    </span>         using LocalPRBCD with pert. edges for node <span style=\"color: #008080; text-decoration-color: #008080; font-weight: bold\">475</span>   <span style=\"color: #7f7f7f; text-decoration-color: #7f7f7f\">                                     </span>\n",
       "<span style=\"color: #7fbfbf; text-decoration-color: #7fbfbf\">                    </span>         and budget <span style=\"color: #008080; text-decoration-color: #008080; font-weight: bold\">2</span>                                     <span style=\"color: #7f7f7f; text-decoration-color: #7f7f7f\">                                     </span>\n",
       "</pre>\n"
      ]
     },
     "metadata": {},
     "output_type": "display_data"
    },
    {
     "data": {
      "text/plain": [
       "\u001B[2;36m                   \u001B[0m\u001B[2;36m \u001B[0m\u001B[34mINFO    \u001B[0m Original: Loss: \u001B[1;36m-0.25007206201553345\u001B[0m Statstics: \u001B[1m{\u001B[0m\u001B[32m'logit_target'\u001B[0m:     \u001B]8;id=557729;file://E:\\Masterarbeit\\ProjectCombined\\rgnn_at_scale\\attacks\\local_prbcd.py\u001B\\\u001B[2mlocal_prbcd.py\u001B[0m\u001B]8;;\u001B\\\u001B[2m:\u001B[0m\u001B]8;id=836554;file://E:\\Masterarbeit\\ProjectCombined\\rgnn_at_scale\\attacks\\local_prbcd.py#79\u001B\\\u001B[2m79\u001B[0m\u001B]8;;\u001B\\\n",
       "\u001B[2;36m                    \u001B[0m         \u001B[1;36m-1.458761215209961\u001B[0m, \u001B[32m'logit_best_non_target'\u001B[0m: \u001B[1;36m-1.7088332176208496\u001B[0m,    \u001B[2m                 \u001B[0m\n",
       "\u001B[2;36m                    \u001B[0m         \u001B[32m'confidence_target'\u001B[0m: \u001B[1;35mnp.float64\u001B[0m\u001B[1m(\u001B[0m\u001B[1;36m0.23252414376166514\u001B[0m\u001B[1m)\u001B[0m,                \u001B[2m                 \u001B[0m\n",
       "\u001B[2;36m                    \u001B[0m         \u001B[32m'confidence_non_target'\u001B[0m: \u001B[1;35mnp.float64\u001B[0m\u001B[1m(\u001B[0m\u001B[1;36m0.18107694679847275\u001B[0m\u001B[1m)\u001B[0m, \u001B[32m'margin'\u001B[0m:  \u001B[2m                 \u001B[0m\n",
       "\u001B[2;36m                    \u001B[0m         \u001B[1;35mnp.float64\u001B[0m\u001B[1m(\u001B[0m\u001B[1;36m0.05144719696319239\u001B[0m\u001B[1m)\u001B[0m\u001B[1m}\u001B[0m                                     \u001B[2m                 \u001B[0m\n",
       "\u001B[2;36m                    \u001B[0m                                                                              \u001B[2m                 \u001B[0m\n"
      ],
      "text/html": [
       "<pre style=\"white-space:pre;overflow-x:auto;line-height:normal;font-family:Menlo,'DejaVu Sans Mono',consolas,'Courier New',monospace\"><span style=\"color: #7fbfbf; text-decoration-color: #7fbfbf\">                    </span><span style=\"color: #000080; text-decoration-color: #000080\">INFO    </span> Original: Loss: <span style=\"color: #008080; text-decoration-color: #008080; font-weight: bold\">-0.25007206201553345</span> Statstics: <span style=\"font-weight: bold\">{</span><span style=\"color: #008000; text-decoration-color: #008000\">'logit_target'</span>:     <a href=\"file://E:\\Masterarbeit\\ProjectCombined\\rgnn_at_scale\\attacks\\local_prbcd.py\" target=\"_blank\"><span style=\"color: #7f7f7f; text-decoration-color: #7f7f7f\">local_prbcd.py</span></a><span style=\"color: #7f7f7f; text-decoration-color: #7f7f7f\">:</span><a href=\"file://E:\\Masterarbeit\\ProjectCombined\\rgnn_at_scale\\attacks\\local_prbcd.py#79\" target=\"_blank\"><span style=\"color: #7f7f7f; text-decoration-color: #7f7f7f\">79</span></a>\n",
       "<span style=\"color: #7fbfbf; text-decoration-color: #7fbfbf\">                    </span>         <span style=\"color: #008080; text-decoration-color: #008080; font-weight: bold\">-1.458761215209961</span>, <span style=\"color: #008000; text-decoration-color: #008000\">'logit_best_non_target'</span>: <span style=\"color: #008080; text-decoration-color: #008080; font-weight: bold\">-1.7088332176208496</span>,    <span style=\"color: #7f7f7f; text-decoration-color: #7f7f7f\">                 </span>\n",
       "<span style=\"color: #7fbfbf; text-decoration-color: #7fbfbf\">                    </span>         <span style=\"color: #008000; text-decoration-color: #008000\">'confidence_target'</span>: <span style=\"color: #800080; text-decoration-color: #800080; font-weight: bold\">np.float64</span><span style=\"font-weight: bold\">(</span><span style=\"color: #008080; text-decoration-color: #008080; font-weight: bold\">0.23252414376166514</span><span style=\"font-weight: bold\">)</span>,                <span style=\"color: #7f7f7f; text-decoration-color: #7f7f7f\">                 </span>\n",
       "<span style=\"color: #7fbfbf; text-decoration-color: #7fbfbf\">                    </span>         <span style=\"color: #008000; text-decoration-color: #008000\">'confidence_non_target'</span>: <span style=\"color: #800080; text-decoration-color: #800080; font-weight: bold\">np.float64</span><span style=\"font-weight: bold\">(</span><span style=\"color: #008080; text-decoration-color: #008080; font-weight: bold\">0.18107694679847275</span><span style=\"font-weight: bold\">)</span>, <span style=\"color: #008000; text-decoration-color: #008000\">'margin'</span>:  <span style=\"color: #7f7f7f; text-decoration-color: #7f7f7f\">                 </span>\n",
       "<span style=\"color: #7fbfbf; text-decoration-color: #7fbfbf\">                    </span>         <span style=\"color: #800080; text-decoration-color: #800080; font-weight: bold\">np.float64</span><span style=\"font-weight: bold\">(</span><span style=\"color: #008080; text-decoration-color: #008080; font-weight: bold\">0.05144719696319239</span><span style=\"font-weight: bold\">)}</span>                                     <span style=\"color: #7f7f7f; text-decoration-color: #7f7f7f\">                 </span>\n",
       "<span style=\"color: #7fbfbf; text-decoration-color: #7fbfbf\">                    </span>                                                                              <span style=\"color: #7f7f7f; text-decoration-color: #7f7f7f\">                 </span>\n",
       "</pre>\n"
      ]
     },
     "metadata": {},
     "output_type": "display_data"
    },
    {
     "name": "stderr",
     "output_type": "stream",
     "text": [
      "  0%|          | 0/50 [00:00<?, ?it/s]"
     ]
    },
    {
     "data": {
      "text/plain": [
       "\u001B[2;36m                   \u001B[0m\u001B[2;36m \u001B[0m\u001B[34mINFO    \u001B[0m Initial: Loss: \u001B[1;36m-0.25007206201553345\u001B[0m Statstics: \u001B[1m{\u001B[0m\u001B[32m'logit_target'\u001B[0m:      \u001B]8;id=611983;file://E:\\Masterarbeit\\ProjectCombined\\rgnn_at_scale\\attacks\\local_prbcd.py\u001B\\\u001B[2mlocal_prbcd.py\u001B[0m\u001B]8;;\u001B\\\u001B[2m:\u001B[0m\u001B]8;id=296305;file://E:\\Masterarbeit\\ProjectCombined\\rgnn_at_scale\\attacks\\local_prbcd.py#97\u001B\\\u001B[2m97\u001B[0m\u001B]8;;\u001B\\\n",
       "\u001B[2;36m                    \u001B[0m         \u001B[1;36m-1.458761215209961\u001B[0m, \u001B[32m'logit_best_non_target'\u001B[0m: \u001B[1;36m-1.7088332176208496\u001B[0m,    \u001B[2m                 \u001B[0m\n",
       "\u001B[2;36m                    \u001B[0m         \u001B[32m'confidence_target'\u001B[0m: \u001B[1;35mnp.float64\u001B[0m\u001B[1m(\u001B[0m\u001B[1;36m0.23252414376166514\u001B[0m\u001B[1m)\u001B[0m,                \u001B[2m                 \u001B[0m\n",
       "\u001B[2;36m                    \u001B[0m         \u001B[32m'confidence_non_target'\u001B[0m: \u001B[1;35mnp.float64\u001B[0m\u001B[1m(\u001B[0m\u001B[1;36m0.18107694679847275\u001B[0m\u001B[1m)\u001B[0m, \u001B[32m'margin'\u001B[0m:  \u001B[2m                 \u001B[0m\n",
       "\u001B[2;36m                    \u001B[0m         \u001B[1;35mnp.float64\u001B[0m\u001B[1m(\u001B[0m\u001B[1;36m0.05144719696319239\u001B[0m\u001B[1m)\u001B[0m\u001B[1m}\u001B[0m                                     \u001B[2m                 \u001B[0m\n",
       "\u001B[2;36m                    \u001B[0m                                                                              \u001B[2m                 \u001B[0m\n"
      ],
      "text/html": [
       "<pre style=\"white-space:pre;overflow-x:auto;line-height:normal;font-family:Menlo,'DejaVu Sans Mono',consolas,'Courier New',monospace\"><span style=\"color: #7fbfbf; text-decoration-color: #7fbfbf\">                    </span><span style=\"color: #000080; text-decoration-color: #000080\">INFO    </span> Initial: Loss: <span style=\"color: #008080; text-decoration-color: #008080; font-weight: bold\">-0.25007206201553345</span> Statstics: <span style=\"font-weight: bold\">{</span><span style=\"color: #008000; text-decoration-color: #008000\">'logit_target'</span>:      <a href=\"file://E:\\Masterarbeit\\ProjectCombined\\rgnn_at_scale\\attacks\\local_prbcd.py\" target=\"_blank\"><span style=\"color: #7f7f7f; text-decoration-color: #7f7f7f\">local_prbcd.py</span></a><span style=\"color: #7f7f7f; text-decoration-color: #7f7f7f\">:</span><a href=\"file://E:\\Masterarbeit\\ProjectCombined\\rgnn_at_scale\\attacks\\local_prbcd.py#97\" target=\"_blank\"><span style=\"color: #7f7f7f; text-decoration-color: #7f7f7f\">97</span></a>\n",
       "<span style=\"color: #7fbfbf; text-decoration-color: #7fbfbf\">                    </span>         <span style=\"color: #008080; text-decoration-color: #008080; font-weight: bold\">-1.458761215209961</span>, <span style=\"color: #008000; text-decoration-color: #008000\">'logit_best_non_target'</span>: <span style=\"color: #008080; text-decoration-color: #008080; font-weight: bold\">-1.7088332176208496</span>,    <span style=\"color: #7f7f7f; text-decoration-color: #7f7f7f\">                 </span>\n",
       "<span style=\"color: #7fbfbf; text-decoration-color: #7fbfbf\">                    </span>         <span style=\"color: #008000; text-decoration-color: #008000\">'confidence_target'</span>: <span style=\"color: #800080; text-decoration-color: #800080; font-weight: bold\">np.float64</span><span style=\"font-weight: bold\">(</span><span style=\"color: #008080; text-decoration-color: #008080; font-weight: bold\">0.23252414376166514</span><span style=\"font-weight: bold\">)</span>,                <span style=\"color: #7f7f7f; text-decoration-color: #7f7f7f\">                 </span>\n",
       "<span style=\"color: #7fbfbf; text-decoration-color: #7fbfbf\">                    </span>         <span style=\"color: #008000; text-decoration-color: #008000\">'confidence_non_target'</span>: <span style=\"color: #800080; text-decoration-color: #800080; font-weight: bold\">np.float64</span><span style=\"font-weight: bold\">(</span><span style=\"color: #008080; text-decoration-color: #008080; font-weight: bold\">0.18107694679847275</span><span style=\"font-weight: bold\">)</span>, <span style=\"color: #008000; text-decoration-color: #008000\">'margin'</span>:  <span style=\"color: #7f7f7f; text-decoration-color: #7f7f7f\">                 </span>\n",
       "<span style=\"color: #7fbfbf; text-decoration-color: #7fbfbf\">                    </span>         <span style=\"color: #800080; text-decoration-color: #800080; font-weight: bold\">np.float64</span><span style=\"font-weight: bold\">(</span><span style=\"color: #008080; text-decoration-color: #008080; font-weight: bold\">0.05144719696319239</span><span style=\"font-weight: bold\">)}</span>                                     <span style=\"color: #7f7f7f; text-decoration-color: #7f7f7f\">                 </span>\n",
       "<span style=\"color: #7fbfbf; text-decoration-color: #7fbfbf\">                    </span>                                                                              <span style=\"color: #7f7f7f; text-decoration-color: #7f7f7f\">                 </span>\n",
       "</pre>\n"
      ]
     },
     "metadata": {},
     "output_type": "display_data"
    },
    {
     "data": {
      "text/plain": [
       "\u001B[2;36m[04/01/25 13:00:31]\u001B[0m\u001B[2;36m \u001B[0m\u001B[34mINFO    \u001B[0m                                                                     \u001B]8;id=985680;file://E:\\Masterarbeit\\ProjectCombined\\rgnn_at_scale\\attacks\\local_prbcd.py\u001B\\\u001B[2mlocal_prbcd.py\u001B[0m\u001B]8;;\u001B\\\u001B[2m:\u001B[0m\u001B]8;id=214133;file://E:\\Masterarbeit\\ProjectCombined\\rgnn_at_scale\\attacks\\local_prbcd.py#118\u001B\\\u001B[2m118\u001B[0m\u001B]8;;\u001B\\\n",
       "\u001B[2;36m                    \u001B[0m         Epoch: \u001B[1;36m0\u001B[0m Loss: \u001B[1;36m-0.25007206201553345\u001B[0m Statstics: \u001B[1m{\u001B[0m\u001B[32m'logit_target'\u001B[0m:     \u001B[2m                  \u001B[0m\n",
       "\u001B[2;36m                    \u001B[0m         \u001B[1;36m-1.4618462324142456\u001B[0m, \u001B[32m'logit_best_non_target'\u001B[0m: \u001B[1;36m-1.7193727493286133\u001B[0m,  \u001B[2m                  \u001B[0m\n",
       "\u001B[2;36m                    \u001B[0m         \u001B[32m'confidence_target'\u001B[0m: \u001B[1;35mnp.float64\u001B[0m\u001B[1m(\u001B[0m\u001B[1;36m0.2318079081454023\u001B[0m\u001B[1m)\u001B[0m,                \u001B[2m                  \u001B[0m\n",
       "\u001B[2;36m                    \u001B[0m         \u001B[32m'confidence_non_target'\u001B[0m: \u001B[1;35mnp.float64\u001B[0m\u001B[1m(\u001B[0m\u001B[1;36m0.17917850250655717\u001B[0m\u001B[1m)\u001B[0m, \u001B[32m'margin'\u001B[0m: \u001B[2m                  \u001B[0m\n",
       "\u001B[2;36m                    \u001B[0m         \u001B[1;35mnp.float64\u001B[0m\u001B[1m(\u001B[0m\u001B[1;36m0.052629405638845134\u001B[0m\u001B[1m)\u001B[0m\u001B[1m}\u001B[0m                                   \u001B[2m                  \u001B[0m\n",
       "\u001B[2;36m                    \u001B[0m                                                                             \u001B[2m                  \u001B[0m\n"
      ],
      "text/html": [
       "<pre style=\"white-space:pre;overflow-x:auto;line-height:normal;font-family:Menlo,'DejaVu Sans Mono',consolas,'Courier New',monospace\"><span style=\"color: #7fbfbf; text-decoration-color: #7fbfbf\">[04/01/25 13:00:31] </span><span style=\"color: #000080; text-decoration-color: #000080\">INFO    </span>                                                                     <a href=\"file://E:\\Masterarbeit\\ProjectCombined\\rgnn_at_scale\\attacks\\local_prbcd.py\" target=\"_blank\"><span style=\"color: #7f7f7f; text-decoration-color: #7f7f7f\">local_prbcd.py</span></a><span style=\"color: #7f7f7f; text-decoration-color: #7f7f7f\">:</span><a href=\"file://E:\\Masterarbeit\\ProjectCombined\\rgnn_at_scale\\attacks\\local_prbcd.py#118\" target=\"_blank\"><span style=\"color: #7f7f7f; text-decoration-color: #7f7f7f\">118</span></a>\n",
       "<span style=\"color: #7fbfbf; text-decoration-color: #7fbfbf\">                    </span>         Epoch: <span style=\"color: #008080; text-decoration-color: #008080; font-weight: bold\">0</span> Loss: <span style=\"color: #008080; text-decoration-color: #008080; font-weight: bold\">-0.25007206201553345</span> Statstics: <span style=\"font-weight: bold\">{</span><span style=\"color: #008000; text-decoration-color: #008000\">'logit_target'</span>:     <span style=\"color: #7f7f7f; text-decoration-color: #7f7f7f\">                  </span>\n",
       "<span style=\"color: #7fbfbf; text-decoration-color: #7fbfbf\">                    </span>         <span style=\"color: #008080; text-decoration-color: #008080; font-weight: bold\">-1.4618462324142456</span>, <span style=\"color: #008000; text-decoration-color: #008000\">'logit_best_non_target'</span>: <span style=\"color: #008080; text-decoration-color: #008080; font-weight: bold\">-1.7193727493286133</span>,  <span style=\"color: #7f7f7f; text-decoration-color: #7f7f7f\">                  </span>\n",
       "<span style=\"color: #7fbfbf; text-decoration-color: #7fbfbf\">                    </span>         <span style=\"color: #008000; text-decoration-color: #008000\">'confidence_target'</span>: <span style=\"color: #800080; text-decoration-color: #800080; font-weight: bold\">np.float64</span><span style=\"font-weight: bold\">(</span><span style=\"color: #008080; text-decoration-color: #008080; font-weight: bold\">0.2318079081454023</span><span style=\"font-weight: bold\">)</span>,                <span style=\"color: #7f7f7f; text-decoration-color: #7f7f7f\">                  </span>\n",
       "<span style=\"color: #7fbfbf; text-decoration-color: #7fbfbf\">                    </span>         <span style=\"color: #008000; text-decoration-color: #008000\">'confidence_non_target'</span>: <span style=\"color: #800080; text-decoration-color: #800080; font-weight: bold\">np.float64</span><span style=\"font-weight: bold\">(</span><span style=\"color: #008080; text-decoration-color: #008080; font-weight: bold\">0.17917850250655717</span><span style=\"font-weight: bold\">)</span>, <span style=\"color: #008000; text-decoration-color: #008000\">'margin'</span>: <span style=\"color: #7f7f7f; text-decoration-color: #7f7f7f\">                  </span>\n",
       "<span style=\"color: #7fbfbf; text-decoration-color: #7fbfbf\">                    </span>         <span style=\"color: #800080; text-decoration-color: #800080; font-weight: bold\">np.float64</span><span style=\"font-weight: bold\">(</span><span style=\"color: #008080; text-decoration-color: #008080; font-weight: bold\">0.052629405638845134</span><span style=\"font-weight: bold\">)}</span>                                   <span style=\"color: #7f7f7f; text-decoration-color: #7f7f7f\">                  </span>\n",
       "<span style=\"color: #7fbfbf; text-decoration-color: #7fbfbf\">                    </span>                                                                             <span style=\"color: #7f7f7f; text-decoration-color: #7f7f7f\">                  </span>\n",
       "</pre>\n"
      ]
     },
     "metadata": {},
     "output_type": "display_data"
    },
    {
     "data": {
      "text/plain": [
       "\u001B[2;36m                   \u001B[0m\u001B[2;36m \u001B[0m\u001B[34mINFO    \u001B[0m Gradient mean \u001B[1;36m0.008018186315894127\u001B[0m std \u001B[1;36m0.014131814241409302\u001B[0m with    \u001B]8;id=289587;file://E:\\Masterarbeit\\ProjectCombined\\rgnn_at_scale\\attacks\\local_prbcd.py\u001B\\\u001B[2mlocal_prbcd.py\u001B[0m\u001B]8;;\u001B\\\u001B[2m:\u001B[0m\u001B]8;id=978574;file://E:\\Masterarbeit\\ProjectCombined\\rgnn_at_scale\\attacks\\local_prbcd.py#119\u001B\\\u001B[2m119\u001B[0m\u001B]8;;\u001B\\\n",
       "\u001B[2;36m                    \u001B[0m         base learning rate \u001B[1;36m2.385424490525743\u001B[0m                                \u001B[2m                  \u001B[0m\n"
      ],
      "text/html": [
       "<pre style=\"white-space:pre;overflow-x:auto;line-height:normal;font-family:Menlo,'DejaVu Sans Mono',consolas,'Courier New',monospace\"><span style=\"color: #7fbfbf; text-decoration-color: #7fbfbf\">                    </span><span style=\"color: #000080; text-decoration-color: #000080\">INFO    </span> Gradient mean <span style=\"color: #008080; text-decoration-color: #008080; font-weight: bold\">0.008018186315894127</span> std <span style=\"color: #008080; text-decoration-color: #008080; font-weight: bold\">0.014131814241409302</span> with    <a href=\"file://E:\\Masterarbeit\\ProjectCombined\\rgnn_at_scale\\attacks\\local_prbcd.py\" target=\"_blank\"><span style=\"color: #7f7f7f; text-decoration-color: #7f7f7f\">local_prbcd.py</span></a><span style=\"color: #7f7f7f; text-decoration-color: #7f7f7f\">:</span><a href=\"file://E:\\Masterarbeit\\ProjectCombined\\rgnn_at_scale\\attacks\\local_prbcd.py#119\" target=\"_blank\"><span style=\"color: #7f7f7f; text-decoration-color: #7f7f7f\">119</span></a>\n",
       "<span style=\"color: #7fbfbf; text-decoration-color: #7fbfbf\">                    </span>         base learning rate <span style=\"color: #008080; text-decoration-color: #008080; font-weight: bold\">2.385424490525743</span>                                <span style=\"color: #7f7f7f; text-decoration-color: #7f7f7f\">                  </span>\n",
       "</pre>\n"
      ]
     },
     "metadata": {},
     "output_type": "display_data"
    },
    {
     "name": "stderr",
     "output_type": "stream",
     "text": [
      " 40%|████      | 20/50 [00:13<00:20,  1.47it/s]"
     ]
    },
    {
     "data": {
      "text/plain": [
       "\u001B[2;36m[04/01/25 13:00:45]\u001B[0m\u001B[2;36m \u001B[0m\u001B[34mINFO    \u001B[0m                                                                     \u001B]8;id=16520;file://E:\\Masterarbeit\\ProjectCombined\\rgnn_at_scale\\attacks\\local_prbcd.py\u001B\\\u001B[2mlocal_prbcd.py\u001B[0m\u001B]8;;\u001B\\\u001B[2m:\u001B[0m\u001B]8;id=349043;file://E:\\Masterarbeit\\ProjectCombined\\rgnn_at_scale\\attacks\\local_prbcd.py#118\u001B\\\u001B[2m118\u001B[0m\u001B]8;;\u001B\\\n",
       "\u001B[2;36m                    \u001B[0m         Epoch: \u001B[1;36m20\u001B[0m Loss: \u001B[1;36m0.8457335233688354\u001B[0m Statstics: \u001B[1m{\u001B[0m\u001B[32m'logit_target'\u001B[0m:      \u001B[2m                  \u001B[0m\n",
       "\u001B[2;36m                    \u001B[0m         \u001B[1;36m-1.8619410991668701\u001B[0m, \u001B[32m'logit_best_non_target'\u001B[0m: \u001B[1;36m-0.9798507690429688\u001B[0m,  \u001B[2m                  \u001B[0m\n",
       "\u001B[2;36m                    \u001B[0m         \u001B[32m'confidence_target'\u001B[0m: \u001B[1;35mnp.float64\u001B[0m\u001B[1m(\u001B[0m\u001B[1;36m0.15537074744202142\u001B[0m\u001B[1m)\u001B[0m,               \u001B[2m                  \u001B[0m\n",
       "\u001B[2;36m                    \u001B[0m         \u001B[32m'confidence_non_target'\u001B[0m: \u001B[1;35mnp.float64\u001B[0m\u001B[1m(\u001B[0m\u001B[1;36m0.37536711106513976\u001B[0m\u001B[1m)\u001B[0m, \u001B[32m'margin'\u001B[0m: \u001B[2m                  \u001B[0m\n",
       "\u001B[2;36m                    \u001B[0m         \u001B[1;35mnp.float64\u001B[0m\u001B[1m(\u001B[0m\u001B[1;36m-0.21999636362311834\u001B[0m\u001B[1m)\u001B[0m\u001B[1m}\u001B[0m                                   \u001B[2m                  \u001B[0m\n",
       "\u001B[2;36m                    \u001B[0m                                                                             \u001B[2m                  \u001B[0m\n"
      ],
      "text/html": [
       "<pre style=\"white-space:pre;overflow-x:auto;line-height:normal;font-family:Menlo,'DejaVu Sans Mono',consolas,'Courier New',monospace\"><span style=\"color: #7fbfbf; text-decoration-color: #7fbfbf\">[04/01/25 13:00:45] </span><span style=\"color: #000080; text-decoration-color: #000080\">INFO    </span>                                                                     <a href=\"file://E:\\Masterarbeit\\ProjectCombined\\rgnn_at_scale\\attacks\\local_prbcd.py\" target=\"_blank\"><span style=\"color: #7f7f7f; text-decoration-color: #7f7f7f\">local_prbcd.py</span></a><span style=\"color: #7f7f7f; text-decoration-color: #7f7f7f\">:</span><a href=\"file://E:\\Masterarbeit\\ProjectCombined\\rgnn_at_scale\\attacks\\local_prbcd.py#118\" target=\"_blank\"><span style=\"color: #7f7f7f; text-decoration-color: #7f7f7f\">118</span></a>\n",
       "<span style=\"color: #7fbfbf; text-decoration-color: #7fbfbf\">                    </span>         Epoch: <span style=\"color: #008080; text-decoration-color: #008080; font-weight: bold\">20</span> Loss: <span style=\"color: #008080; text-decoration-color: #008080; font-weight: bold\">0.8457335233688354</span> Statstics: <span style=\"font-weight: bold\">{</span><span style=\"color: #008000; text-decoration-color: #008000\">'logit_target'</span>:      <span style=\"color: #7f7f7f; text-decoration-color: #7f7f7f\">                  </span>\n",
       "<span style=\"color: #7fbfbf; text-decoration-color: #7fbfbf\">                    </span>         <span style=\"color: #008080; text-decoration-color: #008080; font-weight: bold\">-1.8619410991668701</span>, <span style=\"color: #008000; text-decoration-color: #008000\">'logit_best_non_target'</span>: <span style=\"color: #008080; text-decoration-color: #008080; font-weight: bold\">-0.9798507690429688</span>,  <span style=\"color: #7f7f7f; text-decoration-color: #7f7f7f\">                  </span>\n",
       "<span style=\"color: #7fbfbf; text-decoration-color: #7fbfbf\">                    </span>         <span style=\"color: #008000; text-decoration-color: #008000\">'confidence_target'</span>: <span style=\"color: #800080; text-decoration-color: #800080; font-weight: bold\">np.float64</span><span style=\"font-weight: bold\">(</span><span style=\"color: #008080; text-decoration-color: #008080; font-weight: bold\">0.15537074744202142</span><span style=\"font-weight: bold\">)</span>,               <span style=\"color: #7f7f7f; text-decoration-color: #7f7f7f\">                  </span>\n",
       "<span style=\"color: #7fbfbf; text-decoration-color: #7fbfbf\">                    </span>         <span style=\"color: #008000; text-decoration-color: #008000\">'confidence_non_target'</span>: <span style=\"color: #800080; text-decoration-color: #800080; font-weight: bold\">np.float64</span><span style=\"font-weight: bold\">(</span><span style=\"color: #008080; text-decoration-color: #008080; font-weight: bold\">0.37536711106513976</span><span style=\"font-weight: bold\">)</span>, <span style=\"color: #008000; text-decoration-color: #008000\">'margin'</span>: <span style=\"color: #7f7f7f; text-decoration-color: #7f7f7f\">                  </span>\n",
       "<span style=\"color: #7fbfbf; text-decoration-color: #7fbfbf\">                    </span>         <span style=\"color: #800080; text-decoration-color: #800080; font-weight: bold\">np.float64</span><span style=\"font-weight: bold\">(</span><span style=\"color: #008080; text-decoration-color: #008080; font-weight: bold\">-0.21999636362311834</span><span style=\"font-weight: bold\">)}</span>                                   <span style=\"color: #7f7f7f; text-decoration-color: #7f7f7f\">                  </span>\n",
       "<span style=\"color: #7fbfbf; text-decoration-color: #7fbfbf\">                    </span>                                                                             <span style=\"color: #7f7f7f; text-decoration-color: #7f7f7f\">                  </span>\n",
       "</pre>\n"
      ]
     },
     "metadata": {},
     "output_type": "display_data"
    },
    {
     "data": {
      "text/plain": [
       "\u001B[2;36m                   \u001B[0m\u001B[2;36m \u001B[0m\u001B[34mINFO    \u001B[0m Gradient mean \u001B[1;36m0.018534526228904724\u001B[0m std \u001B[1;36m0.03604188188910484\u001B[0m with     \u001B]8;id=473962;file://E:\\Masterarbeit\\ProjectCombined\\rgnn_at_scale\\attacks\\local_prbcd.py\u001B\\\u001B[2mlocal_prbcd.py\u001B[0m\u001B]8;;\u001B\\\u001B[2m:\u001B[0m\u001B]8;id=219882;file://E:\\Masterarbeit\\ProjectCombined\\rgnn_at_scale\\attacks\\local_prbcd.py#119\u001B\\\u001B[2m119\u001B[0m\u001B]8;;\u001B\\\n",
       "\u001B[2;36m                    \u001B[0m         base learning rate \u001B[1;36m2.385424490525743\u001B[0m                                \u001B[2m                  \u001B[0m\n"
      ],
      "text/html": [
       "<pre style=\"white-space:pre;overflow-x:auto;line-height:normal;font-family:Menlo,'DejaVu Sans Mono',consolas,'Courier New',monospace\"><span style=\"color: #7fbfbf; text-decoration-color: #7fbfbf\">                    </span><span style=\"color: #000080; text-decoration-color: #000080\">INFO    </span> Gradient mean <span style=\"color: #008080; text-decoration-color: #008080; font-weight: bold\">0.018534526228904724</span> std <span style=\"color: #008080; text-decoration-color: #008080; font-weight: bold\">0.03604188188910484</span> with     <a href=\"file://E:\\Masterarbeit\\ProjectCombined\\rgnn_at_scale\\attacks\\local_prbcd.py\" target=\"_blank\"><span style=\"color: #7f7f7f; text-decoration-color: #7f7f7f\">local_prbcd.py</span></a><span style=\"color: #7f7f7f; text-decoration-color: #7f7f7f\">:</span><a href=\"file://E:\\Masterarbeit\\ProjectCombined\\rgnn_at_scale\\attacks\\local_prbcd.py#119\" target=\"_blank\"><span style=\"color: #7f7f7f; text-decoration-color: #7f7f7f\">119</span></a>\n",
       "<span style=\"color: #7fbfbf; text-decoration-color: #7fbfbf\">                    </span>         base learning rate <span style=\"color: #008080; text-decoration-color: #008080; font-weight: bold\">2.385424490525743</span>                                <span style=\"color: #7f7f7f; text-decoration-color: #7f7f7f\">                  </span>\n",
       "</pre>\n"
      ]
     },
     "metadata": {},
     "output_type": "display_data"
    },
    {
     "name": "stderr",
     "output_type": "stream",
     "text": [
      " 80%|████████  | 40/50 [00:27<00:06,  1.45it/s]"
     ]
    },
    {
     "data": {
      "text/plain": [
       "\u001B[2;36m[04/01/25 13:00:59]\u001B[0m\u001B[2;36m \u001B[0m\u001B[34mINFO    \u001B[0m                                                                     \u001B]8;id=305425;file://E:\\Masterarbeit\\ProjectCombined\\rgnn_at_scale\\attacks\\local_prbcd.py\u001B\\\u001B[2mlocal_prbcd.py\u001B[0m\u001B]8;;\u001B\\\u001B[2m:\u001B[0m\u001B]8;id=391306;file://E:\\Masterarbeit\\ProjectCombined\\rgnn_at_scale\\attacks\\local_prbcd.py#118\u001B\\\u001B[2m118\u001B[0m\u001B]8;;\u001B\\\n",
       "\u001B[2;36m                    \u001B[0m         Epoch: \u001B[1;36m40\u001B[0m Loss: \u001B[1;36m1.758272647857666\u001B[0m Statstics: \u001B[1m{\u001B[0m\u001B[32m'logit_target'\u001B[0m:       \u001B[2m                  \u001B[0m\n",
       "\u001B[2;36m                    \u001B[0m         \u001B[1;36m-2.3054134845733643\u001B[0m, \u001B[32m'logit_best_non_target'\u001B[0m: \u001B[1;36m-0.5466219782829285\u001B[0m,  \u001B[2m                  \u001B[0m\n",
       "\u001B[2;36m                    \u001B[0m         \u001B[32m'confidence_target'\u001B[0m: \u001B[1;35mnp.float64\u001B[0m\u001B[1m(\u001B[0m\u001B[1;36m0.09971756045517155\u001B[0m\u001B[1m)\u001B[0m,               \u001B[2m                  \u001B[0m\n",
       "\u001B[2;36m                    \u001B[0m         \u001B[32m'confidence_non_target'\u001B[0m: \u001B[1;35mnp.float64\u001B[0m\u001B[1m(\u001B[0m\u001B[1;36m0.5789020548753361\u001B[0m\u001B[1m)\u001B[0m, \u001B[32m'margin'\u001B[0m:  \u001B[2m                  \u001B[0m\n",
       "\u001B[2;36m                    \u001B[0m         \u001B[1;35mnp.float64\u001B[0m\u001B[1m(\u001B[0m\u001B[1;36m-0.47918449442016453\u001B[0m\u001B[1m)\u001B[0m\u001B[1m}\u001B[0m                                   \u001B[2m                  \u001B[0m\n",
       "\u001B[2;36m                    \u001B[0m                                                                             \u001B[2m                  \u001B[0m\n"
      ],
      "text/html": [
       "<pre style=\"white-space:pre;overflow-x:auto;line-height:normal;font-family:Menlo,'DejaVu Sans Mono',consolas,'Courier New',monospace\"><span style=\"color: #7fbfbf; text-decoration-color: #7fbfbf\">[04/01/25 13:00:59] </span><span style=\"color: #000080; text-decoration-color: #000080\">INFO    </span>                                                                     <a href=\"file://E:\\Masterarbeit\\ProjectCombined\\rgnn_at_scale\\attacks\\local_prbcd.py\" target=\"_blank\"><span style=\"color: #7f7f7f; text-decoration-color: #7f7f7f\">local_prbcd.py</span></a><span style=\"color: #7f7f7f; text-decoration-color: #7f7f7f\">:</span><a href=\"file://E:\\Masterarbeit\\ProjectCombined\\rgnn_at_scale\\attacks\\local_prbcd.py#118\" target=\"_blank\"><span style=\"color: #7f7f7f; text-decoration-color: #7f7f7f\">118</span></a>\n",
       "<span style=\"color: #7fbfbf; text-decoration-color: #7fbfbf\">                    </span>         Epoch: <span style=\"color: #008080; text-decoration-color: #008080; font-weight: bold\">40</span> Loss: <span style=\"color: #008080; text-decoration-color: #008080; font-weight: bold\">1.758272647857666</span> Statstics: <span style=\"font-weight: bold\">{</span><span style=\"color: #008000; text-decoration-color: #008000\">'logit_target'</span>:       <span style=\"color: #7f7f7f; text-decoration-color: #7f7f7f\">                  </span>\n",
       "<span style=\"color: #7fbfbf; text-decoration-color: #7fbfbf\">                    </span>         <span style=\"color: #008080; text-decoration-color: #008080; font-weight: bold\">-2.3054134845733643</span>, <span style=\"color: #008000; text-decoration-color: #008000\">'logit_best_non_target'</span>: <span style=\"color: #008080; text-decoration-color: #008080; font-weight: bold\">-0.5466219782829285</span>,  <span style=\"color: #7f7f7f; text-decoration-color: #7f7f7f\">                  </span>\n",
       "<span style=\"color: #7fbfbf; text-decoration-color: #7fbfbf\">                    </span>         <span style=\"color: #008000; text-decoration-color: #008000\">'confidence_target'</span>: <span style=\"color: #800080; text-decoration-color: #800080; font-weight: bold\">np.float64</span><span style=\"font-weight: bold\">(</span><span style=\"color: #008080; text-decoration-color: #008080; font-weight: bold\">0.09971756045517155</span><span style=\"font-weight: bold\">)</span>,               <span style=\"color: #7f7f7f; text-decoration-color: #7f7f7f\">                  </span>\n",
       "<span style=\"color: #7fbfbf; text-decoration-color: #7fbfbf\">                    </span>         <span style=\"color: #008000; text-decoration-color: #008000\">'confidence_non_target'</span>: <span style=\"color: #800080; text-decoration-color: #800080; font-weight: bold\">np.float64</span><span style=\"font-weight: bold\">(</span><span style=\"color: #008080; text-decoration-color: #008080; font-weight: bold\">0.5789020548753361</span><span style=\"font-weight: bold\">)</span>, <span style=\"color: #008000; text-decoration-color: #008000\">'margin'</span>:  <span style=\"color: #7f7f7f; text-decoration-color: #7f7f7f\">                  </span>\n",
       "<span style=\"color: #7fbfbf; text-decoration-color: #7fbfbf\">                    </span>         <span style=\"color: #800080; text-decoration-color: #800080; font-weight: bold\">np.float64</span><span style=\"font-weight: bold\">(</span><span style=\"color: #008080; text-decoration-color: #008080; font-weight: bold\">-0.47918449442016453</span><span style=\"font-weight: bold\">)}</span>                                   <span style=\"color: #7f7f7f; text-decoration-color: #7f7f7f\">                  </span>\n",
       "<span style=\"color: #7fbfbf; text-decoration-color: #7fbfbf\">                    </span>                                                                             <span style=\"color: #7f7f7f; text-decoration-color: #7f7f7f\">                  </span>\n",
       "</pre>\n"
      ]
     },
     "metadata": {},
     "output_type": "display_data"
    },
    {
     "data": {
      "text/plain": [
       "\u001B[2;36m                   \u001B[0m\u001B[2;36m \u001B[0m\u001B[34mINFO    \u001B[0m Gradient mean \u001B[1;36m0.027300206944346428\u001B[0m std \u001B[1;36m0.045152515172958374\u001B[0m with    \u001B]8;id=48859;file://E:\\Masterarbeit\\ProjectCombined\\rgnn_at_scale\\attacks\\local_prbcd.py\u001B\\\u001B[2mlocal_prbcd.py\u001B[0m\u001B]8;;\u001B\\\u001B[2m:\u001B[0m\u001B]8;id=356563;file://E:\\Masterarbeit\\ProjectCombined\\rgnn_at_scale\\attacks\\local_prbcd.py#119\u001B\\\u001B[2m119\u001B[0m\u001B]8;;\u001B\\\n",
       "\u001B[2;36m                    \u001B[0m         base learning rate \u001B[1;36m2.385424490525743\u001B[0m                                \u001B[2m                  \u001B[0m\n"
      ],
      "text/html": [
       "<pre style=\"white-space:pre;overflow-x:auto;line-height:normal;font-family:Menlo,'DejaVu Sans Mono',consolas,'Courier New',monospace\"><span style=\"color: #7fbfbf; text-decoration-color: #7fbfbf\">                    </span><span style=\"color: #000080; text-decoration-color: #000080\">INFO    </span> Gradient mean <span style=\"color: #008080; text-decoration-color: #008080; font-weight: bold\">0.027300206944346428</span> std <span style=\"color: #008080; text-decoration-color: #008080; font-weight: bold\">0.045152515172958374</span> with    <a href=\"file://E:\\Masterarbeit\\ProjectCombined\\rgnn_at_scale\\attacks\\local_prbcd.py\" target=\"_blank\"><span style=\"color: #7f7f7f; text-decoration-color: #7f7f7f\">local_prbcd.py</span></a><span style=\"color: #7f7f7f; text-decoration-color: #7f7f7f\">:</span><a href=\"file://E:\\Masterarbeit\\ProjectCombined\\rgnn_at_scale\\attacks\\local_prbcd.py#119\" target=\"_blank\"><span style=\"color: #7f7f7f; text-decoration-color: #7f7f7f\">119</span></a>\n",
       "<span style=\"color: #7fbfbf; text-decoration-color: #7fbfbf\">                    </span>         base learning rate <span style=\"color: #008080; text-decoration-color: #008080; font-weight: bold\">2.385424490525743</span>                                <span style=\"color: #7f7f7f; text-decoration-color: #7f7f7f\">                  </span>\n",
       "</pre>\n"
      ]
     },
     "metadata": {},
     "output_type": "display_data"
    },
    {
     "name": "stderr",
     "output_type": "stream",
     "text": [
      "100%|██████████| 50/50 [00:34<00:00,  1.43it/s]\n"
     ]
    },
    {
     "data": {
      "text/plain": [
       "\u001B[2;36m[04/01/25 13:01:08]\u001B[0m\u001B[2;36m \u001B[0m\u001B[34mINFO    \u001B[0m Evaluated model Vanilla GCN using LocalPRBCD     \u001B]8;id=663954;file://E:\\Masterarbeit\\ProjectCombined\\experiments\\experiment_local_attack_direct.py\u001B\\\u001B[2mexperiment_local_attack_direct.py\u001B[0m\u001B]8;;\u001B\\\u001B[2m:\u001B[0m\u001B]8;id=786546;file://E:\\Masterarbeit\\ProjectCombined\\experiments\\experiment_local_attack_direct.py#194\u001B\\\u001B[2m194\u001B[0m\u001B]8;;\u001B\\\n",
       "\u001B[2;36m                    \u001B[0m         with pert. edges for node \u001B[1;36m2105\u001B[0m and budget \u001B[1;36m9\u001B[0m:     \u001B[2m                                     \u001B[0m\n"
      ],
      "text/html": [
       "<pre style=\"white-space:pre;overflow-x:auto;line-height:normal;font-family:Menlo,'DejaVu Sans Mono',consolas,'Courier New',monospace\"><span style=\"color: #7fbfbf; text-decoration-color: #7fbfbf\">[04/01/25 13:01:08] </span><span style=\"color: #000080; text-decoration-color: #000080\">INFO    </span> Evaluated model Vanilla GCN using LocalPRBCD     <a href=\"file://E:\\Masterarbeit\\ProjectCombined\\experiments\\experiment_local_attack_direct.py\" target=\"_blank\"><span style=\"color: #7f7f7f; text-decoration-color: #7f7f7f\">experiment_local_attack_direct.py</span></a><span style=\"color: #7f7f7f; text-decoration-color: #7f7f7f\">:</span><a href=\"file://E:\\Masterarbeit\\ProjectCombined\\experiments\\experiment_local_attack_direct.py#194\" target=\"_blank\"><span style=\"color: #7f7f7f; text-decoration-color: #7f7f7f\">194</span></a>\n",
       "<span style=\"color: #7fbfbf; text-decoration-color: #7fbfbf\">                    </span>         with pert. edges for node <span style=\"color: #008080; text-decoration-color: #008080; font-weight: bold\">2105</span> and budget <span style=\"color: #008080; text-decoration-color: #008080; font-weight: bold\">9</span>:     <span style=\"color: #7f7f7f; text-decoration-color: #7f7f7f\">                                     </span>\n",
       "</pre>\n"
      ]
     },
     "metadata": {},
     "output_type": "display_data"
    },
    {
     "data": {
      "text/plain": [
       "\u001B[2;36m                   \u001B[0m\u001B[2;36m \u001B[0m\u001B[34mINFO    \u001B[0m \u001B[1m{\u001B[0m\u001B[32m'label'\u001B[0m: \u001B[32m'Vanilla GCN'\u001B[0m, \u001B[32m'epsilon'\u001B[0m: \u001B[1;36m1\u001B[0m,           \u001B]8;id=183217;file://E:\\Masterarbeit\\ProjectCombined\\experiments\\experiment_local_attack_direct.py\u001B\\\u001B[2mexperiment_local_attack_direct.py\u001B[0m\u001B]8;;\u001B\\\u001B[2m:\u001B[0m\u001B]8;id=313953;file://E:\\Masterarbeit\\ProjectCombined\\experiments\\experiment_local_attack_direct.py#215\u001B\\\u001B[2m215\u001B[0m\u001B]8;;\u001B\\\n",
       "\u001B[2;36m                    \u001B[0m         \u001B[32m'n_perturbations'\u001B[0m: \u001B[1;36m9\u001B[0m, \u001B[32m'degree'\u001B[0m: \u001B[1;36m9\u001B[0m, \u001B[32m'logits'\u001B[0m:     \u001B[2m                                     \u001B[0m\n",
       "\u001B[2;36m                    \u001B[0m         \u001B[1m[\u001B[0m\u001B[1m[\u001B[0m\u001B[1;36m1.731629729270935\u001B[0m, \u001B[1;36m-0.21725714206695557\u001B[0m,       \u001B[2m                                     \u001B[0m\n",
       "\u001B[2;36m                    \u001B[0m         \u001B[1;36m-1.0829761028289795\u001B[0m, \u001B[1;36m0.00267714262008667\u001B[0m,        \u001B[2m                                     \u001B[0m\n",
       "\u001B[2;36m                    \u001B[0m         \u001B[1;36m-0.4153834581375122\u001B[0m, \u001B[1;36m0.041517436504364014\u001B[0m,       \u001B[2m                                     \u001B[0m\n",
       "\u001B[2;36m                    \u001B[0m         \u001B[1;36m-0.27298903465270996\u001B[0m\u001B[1m]\u001B[0m\u001B[1m]\u001B[0m, \u001B[32m'initial_logits'\u001B[0m:        \u001B[2m                                     \u001B[0m\n",
       "\u001B[2;36m                    \u001B[0m         \u001B[1m[\u001B[0m\u001B[1m[\u001B[0m\u001B[1;36m0.372422456741333\u001B[0m, \u001B[1;36m0.34323951601982117\u001B[0m,        \u001B[2m                                     \u001B[0m\n",
       "\u001B[2;36m                    \u001B[0m         \u001B[1;36m-1.2484652996063232\u001B[0m, \u001B[1;36m0.6224945187568665\u001B[0m,         \u001B[2m                                     \u001B[0m\n",
       "\u001B[2;36m                    \u001B[0m         \u001B[1;36m0.10877785086631775\u001B[0m, \u001B[1;36m0.35100388526916504\u001B[0m,        \u001B[2m                                     \u001B[0m\n",
       "\u001B[2;36m                    \u001B[0m         \u001B[1;36m-0.7596051692962646\u001B[0m\u001B[1m]\u001B[0m\u001B[1m]\u001B[0m, \u001B[32m'larget'\u001B[0m: \u001B[1;36m3\u001B[0m, \u001B[32m'node_id'\u001B[0m:   \u001B[2m                                     \u001B[0m\n",
       "\u001B[2;36m                    \u001B[0m         \u001B[1;36m2105\u001B[0m, \u001B[32m'perturbed_edges'\u001B[0m: \u001B[1m[\u001B[0m\u001B[1m[\u001B[0m\u001B[1;36m2105\u001B[0m, \u001B[1;36m2105\u001B[0m, \u001B[1;36m2105\u001B[0m,     \u001B[2m                                     \u001B[0m\n",
       "\u001B[2;36m                    \u001B[0m         \u001B[1;36m2105\u001B[0m, \u001B[1;36m2105\u001B[0m, \u001B[1;36m2105\u001B[0m, \u001B[1;36m2105\u001B[0m, \u001B[1;36m2105\u001B[0m, \u001B[1;36m2105\u001B[0m\u001B[1m]\u001B[0m, \u001B[1m[\u001B[0m\u001B[1;36m100\u001B[0m, \u001B[1;36m103\u001B[0m,  \u001B[2m                                     \u001B[0m\n",
       "\u001B[2;36m                    \u001B[0m         \u001B[1;36m234\u001B[0m, \u001B[1;36m1259\u001B[0m, \u001B[1;36m1311\u001B[0m, \u001B[1;36m1377\u001B[0m, \u001B[1;36m1675\u001B[0m, \u001B[1;36m2171\u001B[0m, \u001B[1;36m2697\u001B[0m\u001B[1m]\u001B[0m\u001B[1m]\u001B[0m,       \u001B[2m                                     \u001B[0m\n",
       "\u001B[2;36m                    \u001B[0m         \u001B[32m'logit_target'\u001B[0m: \u001B[1;36m-2.325519561767578\u001B[0m,              \u001B[2m                                     \u001B[0m\n",
       "\u001B[2;36m                    \u001B[0m         \u001B[32m'logit_best_non_target'\u001B[0m: \u001B[1;36m-0.5965669751167297\u001B[0m,    \u001B[2m                                     \u001B[0m\n",
       "\u001B[2;36m                    \u001B[0m         \u001B[32m'confidence_target'\u001B[0m:                             \u001B[2m                                     \u001B[0m\n",
       "\u001B[2;36m                    \u001B[0m         \u001B[1;35mnp.float64\u001B[0m\u001B[1m(\u001B[0m\u001B[1;36m0.09773265270808149\u001B[0m\u001B[1m)\u001B[0m,                 \u001B[2m                                     \u001B[0m\n",
       "\u001B[2;36m                    \u001B[0m         \u001B[32m'confidence_non_target'\u001B[0m:                         \u001B[2m                                     \u001B[0m\n",
       "\u001B[2;36m                    \u001B[0m         \u001B[1;35mnp.float64\u001B[0m\u001B[1m(\u001B[0m\u001B[1;36m0.5506989578546383\u001B[0m\u001B[1m)\u001B[0m, \u001B[32m'margin'\u001B[0m:        \u001B[2m                                     \u001B[0m\n",
       "\u001B[2;36m                    \u001B[0m         \u001B[1;35mnp.float64\u001B[0m\u001B[1m(\u001B[0m\u001B[1;36m-0.4529663051465568\u001B[0m\u001B[1m)\u001B[0m,                 \u001B[2m                                     \u001B[0m\n",
       "\u001B[2;36m                    \u001B[0m         \u001B[32m'initial_logit_target'\u001B[0m: \u001B[1;36m-1.458761215209961\u001B[0m,      \u001B[2m                                     \u001B[0m\n",
       "\u001B[2;36m                    \u001B[0m         \u001B[32m'initial_logit_best_non_target'\u001B[0m:                 \u001B[2m                                     \u001B[0m\n",
       "\u001B[2;36m                    \u001B[0m         \u001B[1;36m-1.7088332176208496\u001B[0m,                             \u001B[2m                                     \u001B[0m\n",
       "\u001B[2;36m                    \u001B[0m         \u001B[32m'initial_confidence_target'\u001B[0m:                     \u001B[2m                                     \u001B[0m\n",
       "\u001B[2;36m                    \u001B[0m         \u001B[1;35mnp.float64\u001B[0m\u001B[1m(\u001B[0m\u001B[1;36m0.23252414376166514\u001B[0m\u001B[1m)\u001B[0m,                 \u001B[2m                                     \u001B[0m\n",
       "\u001B[2;36m                    \u001B[0m         \u001B[32m'initial_confidence_non_target'\u001B[0m:                 \u001B[2m                                     \u001B[0m\n",
       "\u001B[2;36m                    \u001B[0m         \u001B[1;35mnp.float64\u001B[0m\u001B[1m(\u001B[0m\u001B[1;36m0.18107694679847275\u001B[0m\u001B[1m)\u001B[0m,                 \u001B[2m                                     \u001B[0m\n",
       "\u001B[2;36m                    \u001B[0m         \u001B[32m'initial_margin'\u001B[0m:                                \u001B[2m                                     \u001B[0m\n",
       "\u001B[2;36m                    \u001B[0m         \u001B[1;35mnp.float64\u001B[0m\u001B[1m(\u001B[0m\u001B[1;36m0.05144719696319239\u001B[0m\u001B[1m)\u001B[0m\u001B[1m}\u001B[0m                 \u001B[2m                                     \u001B[0m\n"
      ],
      "text/html": [
       "<pre style=\"white-space:pre;overflow-x:auto;line-height:normal;font-family:Menlo,'DejaVu Sans Mono',consolas,'Courier New',monospace\"><span style=\"color: #7fbfbf; text-decoration-color: #7fbfbf\">                    </span><span style=\"color: #000080; text-decoration-color: #000080\">INFO    </span> <span style=\"font-weight: bold\">{</span><span style=\"color: #008000; text-decoration-color: #008000\">'label'</span>: <span style=\"color: #008000; text-decoration-color: #008000\">'Vanilla GCN'</span>, <span style=\"color: #008000; text-decoration-color: #008000\">'epsilon'</span>: <span style=\"color: #008080; text-decoration-color: #008080; font-weight: bold\">1</span>,           <a href=\"file://E:\\Masterarbeit\\ProjectCombined\\experiments\\experiment_local_attack_direct.py\" target=\"_blank\"><span style=\"color: #7f7f7f; text-decoration-color: #7f7f7f\">experiment_local_attack_direct.py</span></a><span style=\"color: #7f7f7f; text-decoration-color: #7f7f7f\">:</span><a href=\"file://E:\\Masterarbeit\\ProjectCombined\\experiments\\experiment_local_attack_direct.py#215\" target=\"_blank\"><span style=\"color: #7f7f7f; text-decoration-color: #7f7f7f\">215</span></a>\n",
       "<span style=\"color: #7fbfbf; text-decoration-color: #7fbfbf\">                    </span>         <span style=\"color: #008000; text-decoration-color: #008000\">'n_perturbations'</span>: <span style=\"color: #008080; text-decoration-color: #008080; font-weight: bold\">9</span>, <span style=\"color: #008000; text-decoration-color: #008000\">'degree'</span>: <span style=\"color: #008080; text-decoration-color: #008080; font-weight: bold\">9</span>, <span style=\"color: #008000; text-decoration-color: #008000\">'logits'</span>:     <span style=\"color: #7f7f7f; text-decoration-color: #7f7f7f\">                                     </span>\n",
       "<span style=\"color: #7fbfbf; text-decoration-color: #7fbfbf\">                    </span>         <span style=\"font-weight: bold\">[[</span><span style=\"color: #008080; text-decoration-color: #008080; font-weight: bold\">1.731629729270935</span>, <span style=\"color: #008080; text-decoration-color: #008080; font-weight: bold\">-0.21725714206695557</span>,       <span style=\"color: #7f7f7f; text-decoration-color: #7f7f7f\">                                     </span>\n",
       "<span style=\"color: #7fbfbf; text-decoration-color: #7fbfbf\">                    </span>         <span style=\"color: #008080; text-decoration-color: #008080; font-weight: bold\">-1.0829761028289795</span>, <span style=\"color: #008080; text-decoration-color: #008080; font-weight: bold\">0.00267714262008667</span>,        <span style=\"color: #7f7f7f; text-decoration-color: #7f7f7f\">                                     </span>\n",
       "<span style=\"color: #7fbfbf; text-decoration-color: #7fbfbf\">                    </span>         <span style=\"color: #008080; text-decoration-color: #008080; font-weight: bold\">-0.4153834581375122</span>, <span style=\"color: #008080; text-decoration-color: #008080; font-weight: bold\">0.041517436504364014</span>,       <span style=\"color: #7f7f7f; text-decoration-color: #7f7f7f\">                                     </span>\n",
       "<span style=\"color: #7fbfbf; text-decoration-color: #7fbfbf\">                    </span>         <span style=\"color: #008080; text-decoration-color: #008080; font-weight: bold\">-0.27298903465270996</span><span style=\"font-weight: bold\">]]</span>, <span style=\"color: #008000; text-decoration-color: #008000\">'initial_logits'</span>:        <span style=\"color: #7f7f7f; text-decoration-color: #7f7f7f\">                                     </span>\n",
       "<span style=\"color: #7fbfbf; text-decoration-color: #7fbfbf\">                    </span>         <span style=\"font-weight: bold\">[[</span><span style=\"color: #008080; text-decoration-color: #008080; font-weight: bold\">0.372422456741333</span>, <span style=\"color: #008080; text-decoration-color: #008080; font-weight: bold\">0.34323951601982117</span>,        <span style=\"color: #7f7f7f; text-decoration-color: #7f7f7f\">                                     </span>\n",
       "<span style=\"color: #7fbfbf; text-decoration-color: #7fbfbf\">                    </span>         <span style=\"color: #008080; text-decoration-color: #008080; font-weight: bold\">-1.2484652996063232</span>, <span style=\"color: #008080; text-decoration-color: #008080; font-weight: bold\">0.6224945187568665</span>,         <span style=\"color: #7f7f7f; text-decoration-color: #7f7f7f\">                                     </span>\n",
       "<span style=\"color: #7fbfbf; text-decoration-color: #7fbfbf\">                    </span>         <span style=\"color: #008080; text-decoration-color: #008080; font-weight: bold\">0.10877785086631775</span>, <span style=\"color: #008080; text-decoration-color: #008080; font-weight: bold\">0.35100388526916504</span>,        <span style=\"color: #7f7f7f; text-decoration-color: #7f7f7f\">                                     </span>\n",
       "<span style=\"color: #7fbfbf; text-decoration-color: #7fbfbf\">                    </span>         <span style=\"color: #008080; text-decoration-color: #008080; font-weight: bold\">-0.7596051692962646</span><span style=\"font-weight: bold\">]]</span>, <span style=\"color: #008000; text-decoration-color: #008000\">'larget'</span>: <span style=\"color: #008080; text-decoration-color: #008080; font-weight: bold\">3</span>, <span style=\"color: #008000; text-decoration-color: #008000\">'node_id'</span>:   <span style=\"color: #7f7f7f; text-decoration-color: #7f7f7f\">                                     </span>\n",
       "<span style=\"color: #7fbfbf; text-decoration-color: #7fbfbf\">                    </span>         <span style=\"color: #008080; text-decoration-color: #008080; font-weight: bold\">2105</span>, <span style=\"color: #008000; text-decoration-color: #008000\">'perturbed_edges'</span>: <span style=\"font-weight: bold\">[[</span><span style=\"color: #008080; text-decoration-color: #008080; font-weight: bold\">2105</span>, <span style=\"color: #008080; text-decoration-color: #008080; font-weight: bold\">2105</span>, <span style=\"color: #008080; text-decoration-color: #008080; font-weight: bold\">2105</span>,     <span style=\"color: #7f7f7f; text-decoration-color: #7f7f7f\">                                     </span>\n",
       "<span style=\"color: #7fbfbf; text-decoration-color: #7fbfbf\">                    </span>         <span style=\"color: #008080; text-decoration-color: #008080; font-weight: bold\">2105</span>, <span style=\"color: #008080; text-decoration-color: #008080; font-weight: bold\">2105</span>, <span style=\"color: #008080; text-decoration-color: #008080; font-weight: bold\">2105</span>, <span style=\"color: #008080; text-decoration-color: #008080; font-weight: bold\">2105</span>, <span style=\"color: #008080; text-decoration-color: #008080; font-weight: bold\">2105</span>, <span style=\"color: #008080; text-decoration-color: #008080; font-weight: bold\">2105</span><span style=\"font-weight: bold\">]</span>, <span style=\"font-weight: bold\">[</span><span style=\"color: #008080; text-decoration-color: #008080; font-weight: bold\">100</span>, <span style=\"color: #008080; text-decoration-color: #008080; font-weight: bold\">103</span>,  <span style=\"color: #7f7f7f; text-decoration-color: #7f7f7f\">                                     </span>\n",
       "<span style=\"color: #7fbfbf; text-decoration-color: #7fbfbf\">                    </span>         <span style=\"color: #008080; text-decoration-color: #008080; font-weight: bold\">234</span>, <span style=\"color: #008080; text-decoration-color: #008080; font-weight: bold\">1259</span>, <span style=\"color: #008080; text-decoration-color: #008080; font-weight: bold\">1311</span>, <span style=\"color: #008080; text-decoration-color: #008080; font-weight: bold\">1377</span>, <span style=\"color: #008080; text-decoration-color: #008080; font-weight: bold\">1675</span>, <span style=\"color: #008080; text-decoration-color: #008080; font-weight: bold\">2171</span>, <span style=\"color: #008080; text-decoration-color: #008080; font-weight: bold\">2697</span><span style=\"font-weight: bold\">]]</span>,       <span style=\"color: #7f7f7f; text-decoration-color: #7f7f7f\">                                     </span>\n",
       "<span style=\"color: #7fbfbf; text-decoration-color: #7fbfbf\">                    </span>         <span style=\"color: #008000; text-decoration-color: #008000\">'logit_target'</span>: <span style=\"color: #008080; text-decoration-color: #008080; font-weight: bold\">-2.325519561767578</span>,              <span style=\"color: #7f7f7f; text-decoration-color: #7f7f7f\">                                     </span>\n",
       "<span style=\"color: #7fbfbf; text-decoration-color: #7fbfbf\">                    </span>         <span style=\"color: #008000; text-decoration-color: #008000\">'logit_best_non_target'</span>: <span style=\"color: #008080; text-decoration-color: #008080; font-weight: bold\">-0.5965669751167297</span>,    <span style=\"color: #7f7f7f; text-decoration-color: #7f7f7f\">                                     </span>\n",
       "<span style=\"color: #7fbfbf; text-decoration-color: #7fbfbf\">                    </span>         <span style=\"color: #008000; text-decoration-color: #008000\">'confidence_target'</span>:                             <span style=\"color: #7f7f7f; text-decoration-color: #7f7f7f\">                                     </span>\n",
       "<span style=\"color: #7fbfbf; text-decoration-color: #7fbfbf\">                    </span>         <span style=\"color: #800080; text-decoration-color: #800080; font-weight: bold\">np.float64</span><span style=\"font-weight: bold\">(</span><span style=\"color: #008080; text-decoration-color: #008080; font-weight: bold\">0.09773265270808149</span><span style=\"font-weight: bold\">)</span>,                 <span style=\"color: #7f7f7f; text-decoration-color: #7f7f7f\">                                     </span>\n",
       "<span style=\"color: #7fbfbf; text-decoration-color: #7fbfbf\">                    </span>         <span style=\"color: #008000; text-decoration-color: #008000\">'confidence_non_target'</span>:                         <span style=\"color: #7f7f7f; text-decoration-color: #7f7f7f\">                                     </span>\n",
       "<span style=\"color: #7fbfbf; text-decoration-color: #7fbfbf\">                    </span>         <span style=\"color: #800080; text-decoration-color: #800080; font-weight: bold\">np.float64</span><span style=\"font-weight: bold\">(</span><span style=\"color: #008080; text-decoration-color: #008080; font-weight: bold\">0.5506989578546383</span><span style=\"font-weight: bold\">)</span>, <span style=\"color: #008000; text-decoration-color: #008000\">'margin'</span>:        <span style=\"color: #7f7f7f; text-decoration-color: #7f7f7f\">                                     </span>\n",
       "<span style=\"color: #7fbfbf; text-decoration-color: #7fbfbf\">                    </span>         <span style=\"color: #800080; text-decoration-color: #800080; font-weight: bold\">np.float64</span><span style=\"font-weight: bold\">(</span><span style=\"color: #008080; text-decoration-color: #008080; font-weight: bold\">-0.4529663051465568</span><span style=\"font-weight: bold\">)</span>,                 <span style=\"color: #7f7f7f; text-decoration-color: #7f7f7f\">                                     </span>\n",
       "<span style=\"color: #7fbfbf; text-decoration-color: #7fbfbf\">                    </span>         <span style=\"color: #008000; text-decoration-color: #008000\">'initial_logit_target'</span>: <span style=\"color: #008080; text-decoration-color: #008080; font-weight: bold\">-1.458761215209961</span>,      <span style=\"color: #7f7f7f; text-decoration-color: #7f7f7f\">                                     </span>\n",
       "<span style=\"color: #7fbfbf; text-decoration-color: #7fbfbf\">                    </span>         <span style=\"color: #008000; text-decoration-color: #008000\">'initial_logit_best_non_target'</span>:                 <span style=\"color: #7f7f7f; text-decoration-color: #7f7f7f\">                                     </span>\n",
       "<span style=\"color: #7fbfbf; text-decoration-color: #7fbfbf\">                    </span>         <span style=\"color: #008080; text-decoration-color: #008080; font-weight: bold\">-1.7088332176208496</span>,                             <span style=\"color: #7f7f7f; text-decoration-color: #7f7f7f\">                                     </span>\n",
       "<span style=\"color: #7fbfbf; text-decoration-color: #7fbfbf\">                    </span>         <span style=\"color: #008000; text-decoration-color: #008000\">'initial_confidence_target'</span>:                     <span style=\"color: #7f7f7f; text-decoration-color: #7f7f7f\">                                     </span>\n",
       "<span style=\"color: #7fbfbf; text-decoration-color: #7fbfbf\">                    </span>         <span style=\"color: #800080; text-decoration-color: #800080; font-weight: bold\">np.float64</span><span style=\"font-weight: bold\">(</span><span style=\"color: #008080; text-decoration-color: #008080; font-weight: bold\">0.23252414376166514</span><span style=\"font-weight: bold\">)</span>,                 <span style=\"color: #7f7f7f; text-decoration-color: #7f7f7f\">                                     </span>\n",
       "<span style=\"color: #7fbfbf; text-decoration-color: #7fbfbf\">                    </span>         <span style=\"color: #008000; text-decoration-color: #008000\">'initial_confidence_non_target'</span>:                 <span style=\"color: #7f7f7f; text-decoration-color: #7f7f7f\">                                     </span>\n",
       "<span style=\"color: #7fbfbf; text-decoration-color: #7fbfbf\">                    </span>         <span style=\"color: #800080; text-decoration-color: #800080; font-weight: bold\">np.float64</span><span style=\"font-weight: bold\">(</span><span style=\"color: #008080; text-decoration-color: #008080; font-weight: bold\">0.18107694679847275</span><span style=\"font-weight: bold\">)</span>,                 <span style=\"color: #7f7f7f; text-decoration-color: #7f7f7f\">                                     </span>\n",
       "<span style=\"color: #7fbfbf; text-decoration-color: #7fbfbf\">                    </span>         <span style=\"color: #008000; text-decoration-color: #008000\">'initial_margin'</span>:                                <span style=\"color: #7f7f7f; text-decoration-color: #7f7f7f\">                                     </span>\n",
       "<span style=\"color: #7fbfbf; text-decoration-color: #7fbfbf\">                    </span>         <span style=\"color: #800080; text-decoration-color: #800080; font-weight: bold\">np.float64</span><span style=\"font-weight: bold\">(</span><span style=\"color: #008080; text-decoration-color: #008080; font-weight: bold\">0.05144719696319239</span><span style=\"font-weight: bold\">)}</span>                 <span style=\"color: #7f7f7f; text-decoration-color: #7f7f7f\">                                     </span>\n",
       "</pre>\n"
      ]
     },
     "metadata": {},
     "output_type": "display_data"
    },
    {
     "data": {
      "text/plain": [
       "\u001B[2;36m                   \u001B[0m\u001B[2;36m \u001B[0m\u001B[34mINFO    \u001B[0m Completed attack and evaluation of Vanilla GCN   \u001B]8;id=505323;file://E:\\Masterarbeit\\ProjectCombined\\experiments\\experiment_local_attack_direct.py\u001B\\\u001B[2mexperiment_local_attack_direct.py\u001B[0m\u001B]8;;\u001B\\\u001B[2m:\u001B[0m\u001B]8;id=212003;file://E:\\Masterarbeit\\ProjectCombined\\experiments\\experiment_local_attack_direct.py#216\u001B\\\u001B[2m216\u001B[0m\u001B]8;;\u001B\\\n",
       "\u001B[2;36m                    \u001B[0m         using LocalPRBCD with pert. edges for node \u001B[1;36m2105\u001B[0m  \u001B[2m                                     \u001B[0m\n",
       "\u001B[2;36m                    \u001B[0m         and budget \u001B[1;36m9\u001B[0m                                     \u001B[2m                                     \u001B[0m\n"
      ],
      "text/html": [
       "<pre style=\"white-space:pre;overflow-x:auto;line-height:normal;font-family:Menlo,'DejaVu Sans Mono',consolas,'Courier New',monospace\"><span style=\"color: #7fbfbf; text-decoration-color: #7fbfbf\">                    </span><span style=\"color: #000080; text-decoration-color: #000080\">INFO    </span> Completed attack and evaluation of Vanilla GCN   <a href=\"file://E:\\Masterarbeit\\ProjectCombined\\experiments\\experiment_local_attack_direct.py\" target=\"_blank\"><span style=\"color: #7f7f7f; text-decoration-color: #7f7f7f\">experiment_local_attack_direct.py</span></a><span style=\"color: #7f7f7f; text-decoration-color: #7f7f7f\">:</span><a href=\"file://E:\\Masterarbeit\\ProjectCombined\\experiments\\experiment_local_attack_direct.py#216\" target=\"_blank\"><span style=\"color: #7f7f7f; text-decoration-color: #7f7f7f\">216</span></a>\n",
       "<span style=\"color: #7fbfbf; text-decoration-color: #7fbfbf\">                    </span>         using LocalPRBCD with pert. edges for node <span style=\"color: #008080; text-decoration-color: #008080; font-weight: bold\">2105</span>  <span style=\"color: #7f7f7f; text-decoration-color: #7f7f7f\">                                     </span>\n",
       "<span style=\"color: #7fbfbf; text-decoration-color: #7fbfbf\">                    </span>         and budget <span style=\"color: #008080; text-decoration-color: #008080; font-weight: bold\">9</span>                                     <span style=\"color: #7f7f7f; text-decoration-color: #7f7f7f\">                                     </span>\n",
       "</pre>\n"
      ]
     },
     "metadata": {},
     "output_type": "display_data"
    },
    {
     "data": {
      "text/plain": [
       "\u001B[2;36m                   \u001B[0m\u001B[2;36m \u001B[0m\u001B[34mINFO    \u001B[0m Original: Loss: \u001B[1;36m-1.3678680658340454\u001B[0m Statstics: \u001B[1m{\u001B[0m\u001B[32m'logit_target'\u001B[0m:      \u001B]8;id=518118;file://E:\\Masterarbeit\\ProjectCombined\\rgnn_at_scale\\attacks\\local_prbcd.py\u001B\\\u001B[2mlocal_prbcd.py\u001B[0m\u001B]8;;\u001B\\\u001B[2m:\u001B[0m\u001B]8;id=901534;file://E:\\Masterarbeit\\ProjectCombined\\rgnn_at_scale\\attacks\\local_prbcd.py#79\u001B\\\u001B[2m79\u001B[0m\u001B]8;;\u001B\\\n",
       "\u001B[2;36m                    \u001B[0m         \u001B[1;36m-0.40800008177757263\u001B[0m, \u001B[32m'logit_best_non_target'\u001B[0m: \u001B[1;36m-1.7758681774139404\u001B[0m,  \u001B[2m                 \u001B[0m\n",
       "\u001B[2;36m                    \u001B[0m         \u001B[32m'confidence_target'\u001B[0m: \u001B[1;35mnp.float64\u001B[0m\u001B[1m(\u001B[0m\u001B[1;36m0.6649788244420456\u001B[0m\u001B[1m)\u001B[0m,                 \u001B[2m                 \u001B[0m\n",
       "\u001B[2;36m                    \u001B[0m         \u001B[32m'confidence_non_target'\u001B[0m: \u001B[1;35mnp.float64\u001B[0m\u001B[1m(\u001B[0m\u001B[1;36m0.16933637165064927\u001B[0m\u001B[1m)\u001B[0m, \u001B[32m'margin'\u001B[0m:  \u001B[2m                 \u001B[0m\n",
       "\u001B[2;36m                    \u001B[0m         \u001B[1;35mnp.float64\u001B[0m\u001B[1m(\u001B[0m\u001B[1;36m0.4956424527913963\u001B[0m\u001B[1m)\u001B[0m\u001B[1m}\u001B[0m                                      \u001B[2m                 \u001B[0m\n",
       "\u001B[2;36m                    \u001B[0m                                                                              \u001B[2m                 \u001B[0m\n"
      ],
      "text/html": [
       "<pre style=\"white-space:pre;overflow-x:auto;line-height:normal;font-family:Menlo,'DejaVu Sans Mono',consolas,'Courier New',monospace\"><span style=\"color: #7fbfbf; text-decoration-color: #7fbfbf\">                    </span><span style=\"color: #000080; text-decoration-color: #000080\">INFO    </span> Original: Loss: <span style=\"color: #008080; text-decoration-color: #008080; font-weight: bold\">-1.3678680658340454</span> Statstics: <span style=\"font-weight: bold\">{</span><span style=\"color: #008000; text-decoration-color: #008000\">'logit_target'</span>:      <a href=\"file://E:\\Masterarbeit\\ProjectCombined\\rgnn_at_scale\\attacks\\local_prbcd.py\" target=\"_blank\"><span style=\"color: #7f7f7f; text-decoration-color: #7f7f7f\">local_prbcd.py</span></a><span style=\"color: #7f7f7f; text-decoration-color: #7f7f7f\">:</span><a href=\"file://E:\\Masterarbeit\\ProjectCombined\\rgnn_at_scale\\attacks\\local_prbcd.py#79\" target=\"_blank\"><span style=\"color: #7f7f7f; text-decoration-color: #7f7f7f\">79</span></a>\n",
       "<span style=\"color: #7fbfbf; text-decoration-color: #7fbfbf\">                    </span>         <span style=\"color: #008080; text-decoration-color: #008080; font-weight: bold\">-0.40800008177757263</span>, <span style=\"color: #008000; text-decoration-color: #008000\">'logit_best_non_target'</span>: <span style=\"color: #008080; text-decoration-color: #008080; font-weight: bold\">-1.7758681774139404</span>,  <span style=\"color: #7f7f7f; text-decoration-color: #7f7f7f\">                 </span>\n",
       "<span style=\"color: #7fbfbf; text-decoration-color: #7fbfbf\">                    </span>         <span style=\"color: #008000; text-decoration-color: #008000\">'confidence_target'</span>: <span style=\"color: #800080; text-decoration-color: #800080; font-weight: bold\">np.float64</span><span style=\"font-weight: bold\">(</span><span style=\"color: #008080; text-decoration-color: #008080; font-weight: bold\">0.6649788244420456</span><span style=\"font-weight: bold\">)</span>,                 <span style=\"color: #7f7f7f; text-decoration-color: #7f7f7f\">                 </span>\n",
       "<span style=\"color: #7fbfbf; text-decoration-color: #7fbfbf\">                    </span>         <span style=\"color: #008000; text-decoration-color: #008000\">'confidence_non_target'</span>: <span style=\"color: #800080; text-decoration-color: #800080; font-weight: bold\">np.float64</span><span style=\"font-weight: bold\">(</span><span style=\"color: #008080; text-decoration-color: #008080; font-weight: bold\">0.16933637165064927</span><span style=\"font-weight: bold\">)</span>, <span style=\"color: #008000; text-decoration-color: #008000\">'margin'</span>:  <span style=\"color: #7f7f7f; text-decoration-color: #7f7f7f\">                 </span>\n",
       "<span style=\"color: #7fbfbf; text-decoration-color: #7fbfbf\">                    </span>         <span style=\"color: #800080; text-decoration-color: #800080; font-weight: bold\">np.float64</span><span style=\"font-weight: bold\">(</span><span style=\"color: #008080; text-decoration-color: #008080; font-weight: bold\">0.4956424527913963</span><span style=\"font-weight: bold\">)}</span>                                      <span style=\"color: #7f7f7f; text-decoration-color: #7f7f7f\">                 </span>\n",
       "<span style=\"color: #7fbfbf; text-decoration-color: #7fbfbf\">                    </span>                                                                              <span style=\"color: #7f7f7f; text-decoration-color: #7f7f7f\">                 </span>\n",
       "</pre>\n"
      ]
     },
     "metadata": {},
     "output_type": "display_data"
    },
    {
     "name": "stderr",
     "output_type": "stream",
     "text": [
      "  0%|          | 0/50 [00:00<?, ?it/s]"
     ]
    },
    {
     "data": {
      "text/plain": [
       "\u001B[2;36m                   \u001B[0m\u001B[2;36m \u001B[0m\u001B[34mINFO    \u001B[0m Initial: Loss: \u001B[1;36m-1.3678680658340454\u001B[0m Statstics: \u001B[1m{\u001B[0m\u001B[32m'logit_target'\u001B[0m:       \u001B]8;id=528074;file://E:\\Masterarbeit\\ProjectCombined\\rgnn_at_scale\\attacks\\local_prbcd.py\u001B\\\u001B[2mlocal_prbcd.py\u001B[0m\u001B]8;;\u001B\\\u001B[2m:\u001B[0m\u001B]8;id=170949;file://E:\\Masterarbeit\\ProjectCombined\\rgnn_at_scale\\attacks\\local_prbcd.py#97\u001B\\\u001B[2m97\u001B[0m\u001B]8;;\u001B\\\n",
       "\u001B[2;36m                    \u001B[0m         \u001B[1;36m-0.40800008177757263\u001B[0m, \u001B[32m'logit_best_non_target'\u001B[0m: \u001B[1;36m-1.7758681774139404\u001B[0m,  \u001B[2m                 \u001B[0m\n",
       "\u001B[2;36m                    \u001B[0m         \u001B[32m'confidence_target'\u001B[0m: \u001B[1;35mnp.float64\u001B[0m\u001B[1m(\u001B[0m\u001B[1;36m0.6649788244420456\u001B[0m\u001B[1m)\u001B[0m,                 \u001B[2m                 \u001B[0m\n",
       "\u001B[2;36m                    \u001B[0m         \u001B[32m'confidence_non_target'\u001B[0m: \u001B[1;35mnp.float64\u001B[0m\u001B[1m(\u001B[0m\u001B[1;36m0.16933637165064927\u001B[0m\u001B[1m)\u001B[0m, \u001B[32m'margin'\u001B[0m:  \u001B[2m                 \u001B[0m\n",
       "\u001B[2;36m                    \u001B[0m         \u001B[1;35mnp.float64\u001B[0m\u001B[1m(\u001B[0m\u001B[1;36m0.4956424527913963\u001B[0m\u001B[1m)\u001B[0m\u001B[1m}\u001B[0m                                      \u001B[2m                 \u001B[0m\n",
       "\u001B[2;36m                    \u001B[0m                                                                              \u001B[2m                 \u001B[0m\n"
      ],
      "text/html": [
       "<pre style=\"white-space:pre;overflow-x:auto;line-height:normal;font-family:Menlo,'DejaVu Sans Mono',consolas,'Courier New',monospace\"><span style=\"color: #7fbfbf; text-decoration-color: #7fbfbf\">                    </span><span style=\"color: #000080; text-decoration-color: #000080\">INFO    </span> Initial: Loss: <span style=\"color: #008080; text-decoration-color: #008080; font-weight: bold\">-1.3678680658340454</span> Statstics: <span style=\"font-weight: bold\">{</span><span style=\"color: #008000; text-decoration-color: #008000\">'logit_target'</span>:       <a href=\"file://E:\\Masterarbeit\\ProjectCombined\\rgnn_at_scale\\attacks\\local_prbcd.py\" target=\"_blank\"><span style=\"color: #7f7f7f; text-decoration-color: #7f7f7f\">local_prbcd.py</span></a><span style=\"color: #7f7f7f; text-decoration-color: #7f7f7f\">:</span><a href=\"file://E:\\Masterarbeit\\ProjectCombined\\rgnn_at_scale\\attacks\\local_prbcd.py#97\" target=\"_blank\"><span style=\"color: #7f7f7f; text-decoration-color: #7f7f7f\">97</span></a>\n",
       "<span style=\"color: #7fbfbf; text-decoration-color: #7fbfbf\">                    </span>         <span style=\"color: #008080; text-decoration-color: #008080; font-weight: bold\">-0.40800008177757263</span>, <span style=\"color: #008000; text-decoration-color: #008000\">'logit_best_non_target'</span>: <span style=\"color: #008080; text-decoration-color: #008080; font-weight: bold\">-1.7758681774139404</span>,  <span style=\"color: #7f7f7f; text-decoration-color: #7f7f7f\">                 </span>\n",
       "<span style=\"color: #7fbfbf; text-decoration-color: #7fbfbf\">                    </span>         <span style=\"color: #008000; text-decoration-color: #008000\">'confidence_target'</span>: <span style=\"color: #800080; text-decoration-color: #800080; font-weight: bold\">np.float64</span><span style=\"font-weight: bold\">(</span><span style=\"color: #008080; text-decoration-color: #008080; font-weight: bold\">0.6649788244420456</span><span style=\"font-weight: bold\">)</span>,                 <span style=\"color: #7f7f7f; text-decoration-color: #7f7f7f\">                 </span>\n",
       "<span style=\"color: #7fbfbf; text-decoration-color: #7fbfbf\">                    </span>         <span style=\"color: #008000; text-decoration-color: #008000\">'confidence_non_target'</span>: <span style=\"color: #800080; text-decoration-color: #800080; font-weight: bold\">np.float64</span><span style=\"font-weight: bold\">(</span><span style=\"color: #008080; text-decoration-color: #008080; font-weight: bold\">0.16933637165064927</span><span style=\"font-weight: bold\">)</span>, <span style=\"color: #008000; text-decoration-color: #008000\">'margin'</span>:  <span style=\"color: #7f7f7f; text-decoration-color: #7f7f7f\">                 </span>\n",
       "<span style=\"color: #7fbfbf; text-decoration-color: #7fbfbf\">                    </span>         <span style=\"color: #800080; text-decoration-color: #800080; font-weight: bold\">np.float64</span><span style=\"font-weight: bold\">(</span><span style=\"color: #008080; text-decoration-color: #008080; font-weight: bold\">0.4956424527913963</span><span style=\"font-weight: bold\">)}</span>                                      <span style=\"color: #7f7f7f; text-decoration-color: #7f7f7f\">                 </span>\n",
       "<span style=\"color: #7fbfbf; text-decoration-color: #7fbfbf\">                    </span>                                                                              <span style=\"color: #7f7f7f; text-decoration-color: #7f7f7f\">                 </span>\n",
       "</pre>\n"
      ]
     },
     "metadata": {},
     "output_type": "display_data"
    },
    {
     "data": {
      "text/plain": [
       "\u001B[2;36m[04/01/25 13:01:09]\u001B[0m\u001B[2;36m \u001B[0m\u001B[34mINFO    \u001B[0m                                                                     \u001B]8;id=364132;file://E:\\Masterarbeit\\ProjectCombined\\rgnn_at_scale\\attacks\\local_prbcd.py\u001B\\\u001B[2mlocal_prbcd.py\u001B[0m\u001B]8;;\u001B\\\u001B[2m:\u001B[0m\u001B]8;id=891810;file://E:\\Masterarbeit\\ProjectCombined\\rgnn_at_scale\\attacks\\local_prbcd.py#118\u001B\\\u001B[2m118\u001B[0m\u001B]8;;\u001B\\\n",
       "\u001B[2;36m                    \u001B[0m         Epoch: \u001B[1;36m0\u001B[0m Loss: \u001B[1;36m-1.3678680658340454\u001B[0m Statstics: \u001B[1m{\u001B[0m\u001B[32m'logit_target'\u001B[0m:      \u001B[2m                  \u001B[0m\n",
       "\u001B[2;36m                    \u001B[0m         \u001B[1;36m-0.4084863066673279\u001B[0m, \u001B[32m'logit_best_non_target'\u001B[0m: \u001B[1;36m-1.776069164276123\u001B[0m,   \u001B[2m                  \u001B[0m\n",
       "\u001B[2;36m                    \u001B[0m         \u001B[32m'confidence_target'\u001B[0m: \u001B[1;35mnp.float64\u001B[0m\u001B[1m(\u001B[0m\u001B[1;36m0.664655573779069\u001B[0m\u001B[1m)\u001B[0m,                 \u001B[2m                  \u001B[0m\n",
       "\u001B[2;36m                    \u001B[0m         \u001B[32m'confidence_non_target'\u001B[0m: \u001B[1;35mnp.float64\u001B[0m\u001B[1m(\u001B[0m\u001B[1;36m0.1693023406846609\u001B[0m\u001B[1m)\u001B[0m, \u001B[32m'margin'\u001B[0m:  \u001B[2m                  \u001B[0m\n",
       "\u001B[2;36m                    \u001B[0m         \u001B[1;35mnp.float64\u001B[0m\u001B[1m(\u001B[0m\u001B[1;36m0.49535323309440815\u001B[0m\u001B[1m)\u001B[0m\u001B[1m}\u001B[0m                                    \u001B[2m                  \u001B[0m\n",
       "\u001B[2;36m                    \u001B[0m                                                                             \u001B[2m                  \u001B[0m\n"
      ],
      "text/html": [
       "<pre style=\"white-space:pre;overflow-x:auto;line-height:normal;font-family:Menlo,'DejaVu Sans Mono',consolas,'Courier New',monospace\"><span style=\"color: #7fbfbf; text-decoration-color: #7fbfbf\">[04/01/25 13:01:09] </span><span style=\"color: #000080; text-decoration-color: #000080\">INFO    </span>                                                                     <a href=\"file://E:\\Masterarbeit\\ProjectCombined\\rgnn_at_scale\\attacks\\local_prbcd.py\" target=\"_blank\"><span style=\"color: #7f7f7f; text-decoration-color: #7f7f7f\">local_prbcd.py</span></a><span style=\"color: #7f7f7f; text-decoration-color: #7f7f7f\">:</span><a href=\"file://E:\\Masterarbeit\\ProjectCombined\\rgnn_at_scale\\attacks\\local_prbcd.py#118\" target=\"_blank\"><span style=\"color: #7f7f7f; text-decoration-color: #7f7f7f\">118</span></a>\n",
       "<span style=\"color: #7fbfbf; text-decoration-color: #7fbfbf\">                    </span>         Epoch: <span style=\"color: #008080; text-decoration-color: #008080; font-weight: bold\">0</span> Loss: <span style=\"color: #008080; text-decoration-color: #008080; font-weight: bold\">-1.3678680658340454</span> Statstics: <span style=\"font-weight: bold\">{</span><span style=\"color: #008000; text-decoration-color: #008000\">'logit_target'</span>:      <span style=\"color: #7f7f7f; text-decoration-color: #7f7f7f\">                  </span>\n",
       "<span style=\"color: #7fbfbf; text-decoration-color: #7fbfbf\">                    </span>         <span style=\"color: #008080; text-decoration-color: #008080; font-weight: bold\">-0.4084863066673279</span>, <span style=\"color: #008000; text-decoration-color: #008000\">'logit_best_non_target'</span>: <span style=\"color: #008080; text-decoration-color: #008080; font-weight: bold\">-1.776069164276123</span>,   <span style=\"color: #7f7f7f; text-decoration-color: #7f7f7f\">                  </span>\n",
       "<span style=\"color: #7fbfbf; text-decoration-color: #7fbfbf\">                    </span>         <span style=\"color: #008000; text-decoration-color: #008000\">'confidence_target'</span>: <span style=\"color: #800080; text-decoration-color: #800080; font-weight: bold\">np.float64</span><span style=\"font-weight: bold\">(</span><span style=\"color: #008080; text-decoration-color: #008080; font-weight: bold\">0.664655573779069</span><span style=\"font-weight: bold\">)</span>,                 <span style=\"color: #7f7f7f; text-decoration-color: #7f7f7f\">                  </span>\n",
       "<span style=\"color: #7fbfbf; text-decoration-color: #7fbfbf\">                    </span>         <span style=\"color: #008000; text-decoration-color: #008000\">'confidence_non_target'</span>: <span style=\"color: #800080; text-decoration-color: #800080; font-weight: bold\">np.float64</span><span style=\"font-weight: bold\">(</span><span style=\"color: #008080; text-decoration-color: #008080; font-weight: bold\">0.1693023406846609</span><span style=\"font-weight: bold\">)</span>, <span style=\"color: #008000; text-decoration-color: #008000\">'margin'</span>:  <span style=\"color: #7f7f7f; text-decoration-color: #7f7f7f\">                  </span>\n",
       "<span style=\"color: #7fbfbf; text-decoration-color: #7fbfbf\">                    </span>         <span style=\"color: #800080; text-decoration-color: #800080; font-weight: bold\">np.float64</span><span style=\"font-weight: bold\">(</span><span style=\"color: #008080; text-decoration-color: #008080; font-weight: bold\">0.49535323309440815</span><span style=\"font-weight: bold\">)}</span>                                    <span style=\"color: #7f7f7f; text-decoration-color: #7f7f7f\">                  </span>\n",
       "<span style=\"color: #7fbfbf; text-decoration-color: #7fbfbf\">                    </span>                                                                             <span style=\"color: #7f7f7f; text-decoration-color: #7f7f7f\">                  </span>\n",
       "</pre>\n"
      ]
     },
     "metadata": {},
     "output_type": "display_data"
    },
    {
     "data": {
      "text/plain": [
       "\u001B[2;36m                   \u001B[0m\u001B[2;36m \u001B[0m\u001B[34mINFO    \u001B[0m Gradient mean \u001B[1;36m0.023720765486359596\u001B[0m std \u001B[1;36m0.009957296773791313\u001B[0m with    \u001B]8;id=697399;file://E:\\Masterarbeit\\ProjectCombined\\rgnn_at_scale\\attacks\\local_prbcd.py\u001B\\\u001B[2mlocal_prbcd.py\u001B[0m\u001B]8;;\u001B\\\u001B[2m:\u001B[0m\u001B]8;id=275729;file://E:\\Masterarbeit\\ProjectCombined\\rgnn_at_scale\\attacks\\local_prbcd.py#119\u001B\\\u001B[2m119\u001B[0m\u001B]8;;\u001B\\\n",
       "\u001B[2;36m                    \u001B[0m         base learning rate \u001B[1;36m2.385424490525743\u001B[0m                                \u001B[2m                  \u001B[0m\n"
      ],
      "text/html": [
       "<pre style=\"white-space:pre;overflow-x:auto;line-height:normal;font-family:Menlo,'DejaVu Sans Mono',consolas,'Courier New',monospace\"><span style=\"color: #7fbfbf; text-decoration-color: #7fbfbf\">                    </span><span style=\"color: #000080; text-decoration-color: #000080\">INFO    </span> Gradient mean <span style=\"color: #008080; text-decoration-color: #008080; font-weight: bold\">0.023720765486359596</span> std <span style=\"color: #008080; text-decoration-color: #008080; font-weight: bold\">0.009957296773791313</span> with    <a href=\"file://E:\\Masterarbeit\\ProjectCombined\\rgnn_at_scale\\attacks\\local_prbcd.py\" target=\"_blank\"><span style=\"color: #7f7f7f; text-decoration-color: #7f7f7f\">local_prbcd.py</span></a><span style=\"color: #7f7f7f; text-decoration-color: #7f7f7f\">:</span><a href=\"file://E:\\Masterarbeit\\ProjectCombined\\rgnn_at_scale\\attacks\\local_prbcd.py#119\" target=\"_blank\"><span style=\"color: #7f7f7f; text-decoration-color: #7f7f7f\">119</span></a>\n",
       "<span style=\"color: #7fbfbf; text-decoration-color: #7fbfbf\">                    </span>         base learning rate <span style=\"color: #008080; text-decoration-color: #008080; font-weight: bold\">2.385424490525743</span>                                <span style=\"color: #7f7f7f; text-decoration-color: #7f7f7f\">                  </span>\n",
       "</pre>\n"
      ]
     },
     "metadata": {},
     "output_type": "display_data"
    },
    {
     "name": "stderr",
     "output_type": "stream",
     "text": [
      " 40%|████      | 20/50 [00:14<00:21,  1.39it/s]"
     ]
    },
    {
     "data": {
      "text/plain": [
       "\u001B[2;36m[04/01/25 13:01:23]\u001B[0m\u001B[2;36m \u001B[0m\u001B[34mINFO    \u001B[0m                                                                     \u001B]8;id=327854;file://E:\\Masterarbeit\\ProjectCombined\\rgnn_at_scale\\attacks\\local_prbcd.py\u001B\\\u001B[2mlocal_prbcd.py\u001B[0m\u001B]8;;\u001B\\\u001B[2m:\u001B[0m\u001B]8;id=27756;file://E:\\Masterarbeit\\ProjectCombined\\rgnn_at_scale\\attacks\\local_prbcd.py#118\u001B\\\u001B[2m118\u001B[0m\u001B]8;;\u001B\\\n",
       "\u001B[2;36m                    \u001B[0m         Epoch: \u001B[1;36m20\u001B[0m Loss: \u001B[1;36m-1.1487948894500732\u001B[0m Statstics: \u001B[1m{\u001B[0m\u001B[32m'logit_target'\u001B[0m:     \u001B[2m                  \u001B[0m\n",
       "\u001B[2;36m                    \u001B[0m         \u001B[1;36m-0.5927602052688599\u001B[0m, \u001B[32m'logit_best_non_target'\u001B[0m: \u001B[1;36m-1.7376515865325928\u001B[0m,  \u001B[2m                  \u001B[0m\n",
       "\u001B[2;36m                    \u001B[0m         \u001B[32m'confidence_target'\u001B[0m: \u001B[1;35mnp.float64\u001B[0m\u001B[1m(\u001B[0m\u001B[1;36m0.5527993373368241\u001B[0m\u001B[1m)\u001B[0m,                \u001B[2m                  \u001B[0m\n",
       "\u001B[2;36m                    \u001B[0m         \u001B[32m'confidence_non_target'\u001B[0m: \u001B[1;35mnp.float64\u001B[0m\u001B[1m(\u001B[0m\u001B[1;36m0.17593307947023698\u001B[0m\u001B[1m)\u001B[0m, \u001B[32m'margin'\u001B[0m: \u001B[2m                  \u001B[0m\n",
       "\u001B[2;36m                    \u001B[0m         \u001B[1;35mnp.float64\u001B[0m\u001B[1m(\u001B[0m\u001B[1;36m0.3768662578665871\u001B[0m\u001B[1m)\u001B[0m\u001B[1m}\u001B[0m                                     \u001B[2m                  \u001B[0m\n",
       "\u001B[2;36m                    \u001B[0m                                                                             \u001B[2m                  \u001B[0m\n"
      ],
      "text/html": [
       "<pre style=\"white-space:pre;overflow-x:auto;line-height:normal;font-family:Menlo,'DejaVu Sans Mono',consolas,'Courier New',monospace\"><span style=\"color: #7fbfbf; text-decoration-color: #7fbfbf\">[04/01/25 13:01:23] </span><span style=\"color: #000080; text-decoration-color: #000080\">INFO    </span>                                                                     <a href=\"file://E:\\Masterarbeit\\ProjectCombined\\rgnn_at_scale\\attacks\\local_prbcd.py\" target=\"_blank\"><span style=\"color: #7f7f7f; text-decoration-color: #7f7f7f\">local_prbcd.py</span></a><span style=\"color: #7f7f7f; text-decoration-color: #7f7f7f\">:</span><a href=\"file://E:\\Masterarbeit\\ProjectCombined\\rgnn_at_scale\\attacks\\local_prbcd.py#118\" target=\"_blank\"><span style=\"color: #7f7f7f; text-decoration-color: #7f7f7f\">118</span></a>\n",
       "<span style=\"color: #7fbfbf; text-decoration-color: #7fbfbf\">                    </span>         Epoch: <span style=\"color: #008080; text-decoration-color: #008080; font-weight: bold\">20</span> Loss: <span style=\"color: #008080; text-decoration-color: #008080; font-weight: bold\">-1.1487948894500732</span> Statstics: <span style=\"font-weight: bold\">{</span><span style=\"color: #008000; text-decoration-color: #008000\">'logit_target'</span>:     <span style=\"color: #7f7f7f; text-decoration-color: #7f7f7f\">                  </span>\n",
       "<span style=\"color: #7fbfbf; text-decoration-color: #7fbfbf\">                    </span>         <span style=\"color: #008080; text-decoration-color: #008080; font-weight: bold\">-0.5927602052688599</span>, <span style=\"color: #008000; text-decoration-color: #008000\">'logit_best_non_target'</span>: <span style=\"color: #008080; text-decoration-color: #008080; font-weight: bold\">-1.7376515865325928</span>,  <span style=\"color: #7f7f7f; text-decoration-color: #7f7f7f\">                  </span>\n",
       "<span style=\"color: #7fbfbf; text-decoration-color: #7fbfbf\">                    </span>         <span style=\"color: #008000; text-decoration-color: #008000\">'confidence_target'</span>: <span style=\"color: #800080; text-decoration-color: #800080; font-weight: bold\">np.float64</span><span style=\"font-weight: bold\">(</span><span style=\"color: #008080; text-decoration-color: #008080; font-weight: bold\">0.5527993373368241</span><span style=\"font-weight: bold\">)</span>,                <span style=\"color: #7f7f7f; text-decoration-color: #7f7f7f\">                  </span>\n",
       "<span style=\"color: #7fbfbf; text-decoration-color: #7fbfbf\">                    </span>         <span style=\"color: #008000; text-decoration-color: #008000\">'confidence_non_target'</span>: <span style=\"color: #800080; text-decoration-color: #800080; font-weight: bold\">np.float64</span><span style=\"font-weight: bold\">(</span><span style=\"color: #008080; text-decoration-color: #008080; font-weight: bold\">0.17593307947023698</span><span style=\"font-weight: bold\">)</span>, <span style=\"color: #008000; text-decoration-color: #008000\">'margin'</span>: <span style=\"color: #7f7f7f; text-decoration-color: #7f7f7f\">                  </span>\n",
       "<span style=\"color: #7fbfbf; text-decoration-color: #7fbfbf\">                    </span>         <span style=\"color: #800080; text-decoration-color: #800080; font-weight: bold\">np.float64</span><span style=\"font-weight: bold\">(</span><span style=\"color: #008080; text-decoration-color: #008080; font-weight: bold\">0.3768662578665871</span><span style=\"font-weight: bold\">)}</span>                                     <span style=\"color: #7f7f7f; text-decoration-color: #7f7f7f\">                  </span>\n",
       "<span style=\"color: #7fbfbf; text-decoration-color: #7fbfbf\">                    </span>                                                                             <span style=\"color: #7f7f7f; text-decoration-color: #7f7f7f\">                  </span>\n",
       "</pre>\n"
      ]
     },
     "metadata": {},
     "output_type": "display_data"
    },
    {
     "data": {
      "text/plain": [
       "\u001B[2;36m                   \u001B[0m\u001B[2;36m \u001B[0m\u001B[34mINFO    \u001B[0m Gradient mean \u001B[1;36m0.015579272992908955\u001B[0m std \u001B[1;36m0.016496306285262108\u001B[0m with    \u001B]8;id=265935;file://E:\\Masterarbeit\\ProjectCombined\\rgnn_at_scale\\attacks\\local_prbcd.py\u001B\\\u001B[2mlocal_prbcd.py\u001B[0m\u001B]8;;\u001B\\\u001B[2m:\u001B[0m\u001B]8;id=96042;file://E:\\Masterarbeit\\ProjectCombined\\rgnn_at_scale\\attacks\\local_prbcd.py#119\u001B\\\u001B[2m119\u001B[0m\u001B]8;;\u001B\\\n",
       "\u001B[2;36m                    \u001B[0m         base learning rate \u001B[1;36m2.385424490525743\u001B[0m                                \u001B[2m                  \u001B[0m\n"
      ],
      "text/html": [
       "<pre style=\"white-space:pre;overflow-x:auto;line-height:normal;font-family:Menlo,'DejaVu Sans Mono',consolas,'Courier New',monospace\"><span style=\"color: #7fbfbf; text-decoration-color: #7fbfbf\">                    </span><span style=\"color: #000080; text-decoration-color: #000080\">INFO    </span> Gradient mean <span style=\"color: #008080; text-decoration-color: #008080; font-weight: bold\">0.015579272992908955</span> std <span style=\"color: #008080; text-decoration-color: #008080; font-weight: bold\">0.016496306285262108</span> with    <a href=\"file://E:\\Masterarbeit\\ProjectCombined\\rgnn_at_scale\\attacks\\local_prbcd.py\" target=\"_blank\"><span style=\"color: #7f7f7f; text-decoration-color: #7f7f7f\">local_prbcd.py</span></a><span style=\"color: #7f7f7f; text-decoration-color: #7f7f7f\">:</span><a href=\"file://E:\\Masterarbeit\\ProjectCombined\\rgnn_at_scale\\attacks\\local_prbcd.py#119\" target=\"_blank\"><span style=\"color: #7f7f7f; text-decoration-color: #7f7f7f\">119</span></a>\n",
       "<span style=\"color: #7fbfbf; text-decoration-color: #7fbfbf\">                    </span>         base learning rate <span style=\"color: #008080; text-decoration-color: #008080; font-weight: bold\">2.385424490525743</span>                                <span style=\"color: #7f7f7f; text-decoration-color: #7f7f7f\">                  </span>\n",
       "</pre>\n"
      ]
     },
     "metadata": {},
     "output_type": "display_data"
    },
    {
     "name": "stderr",
     "output_type": "stream",
     "text": [
      " 80%|████████  | 40/50 [00:28<00:06,  1.43it/s]"
     ]
    },
    {
     "data": {
      "text/plain": [
       "\u001B[2;36m[04/01/25 13:01:38]\u001B[0m\u001B[2;36m \u001B[0m\u001B[34mINFO    \u001B[0m                                                                     \u001B]8;id=431325;file://E:\\Masterarbeit\\ProjectCombined\\rgnn_at_scale\\attacks\\local_prbcd.py\u001B\\\u001B[2mlocal_prbcd.py\u001B[0m\u001B]8;;\u001B\\\u001B[2m:\u001B[0m\u001B]8;id=6877;file://E:\\Masterarbeit\\ProjectCombined\\rgnn_at_scale\\attacks\\local_prbcd.py#118\u001B\\\u001B[2m118\u001B[0m\u001B]8;;\u001B\\\n",
       "\u001B[2;36m                    \u001B[0m         Epoch: \u001B[1;36m40\u001B[0m Loss: \u001B[1;36m-1.1138585805892944\u001B[0m Statstics: \u001B[1m{\u001B[0m\u001B[32m'logit_target'\u001B[0m:     \u001B[2m                  \u001B[0m\n",
       "\u001B[2;36m                    \u001B[0m         \u001B[1;36m-0.655018150806427\u001B[0m, \u001B[32m'logit_best_non_target'\u001B[0m: \u001B[1;36m-1.768200397491455\u001B[0m,    \u001B[2m                  \u001B[0m\n",
       "\u001B[2;36m                    \u001B[0m         \u001B[32m'confidence_target'\u001B[0m: \u001B[1;35mnp.float64\u001B[0m\u001B[1m(\u001B[0m\u001B[1;36m0.5194326343802851\u001B[0m\u001B[1m)\u001B[0m,                \u001B[2m                  \u001B[0m\n",
       "\u001B[2;36m                    \u001B[0m         \u001B[32m'confidence_non_target'\u001B[0m: \u001B[1;35mnp.float64\u001B[0m\u001B[1m(\u001B[0m\u001B[1;36m0.17063979648250077\u001B[0m\u001B[1m)\u001B[0m, \u001B[32m'margin'\u001B[0m: \u001B[2m                  \u001B[0m\n",
       "\u001B[2;36m                    \u001B[0m         \u001B[1;35mnp.float64\u001B[0m\u001B[1m(\u001B[0m\u001B[1;36m0.3487928378977843\u001B[0m\u001B[1m)\u001B[0m\u001B[1m}\u001B[0m                                     \u001B[2m                  \u001B[0m\n",
       "\u001B[2;36m                    \u001B[0m                                                                             \u001B[2m                  \u001B[0m\n"
      ],
      "text/html": [
       "<pre style=\"white-space:pre;overflow-x:auto;line-height:normal;font-family:Menlo,'DejaVu Sans Mono',consolas,'Courier New',monospace\"><span style=\"color: #7fbfbf; text-decoration-color: #7fbfbf\">[04/01/25 13:01:38] </span><span style=\"color: #000080; text-decoration-color: #000080\">INFO    </span>                                                                     <a href=\"file://E:\\Masterarbeit\\ProjectCombined\\rgnn_at_scale\\attacks\\local_prbcd.py\" target=\"_blank\"><span style=\"color: #7f7f7f; text-decoration-color: #7f7f7f\">local_prbcd.py</span></a><span style=\"color: #7f7f7f; text-decoration-color: #7f7f7f\">:</span><a href=\"file://E:\\Masterarbeit\\ProjectCombined\\rgnn_at_scale\\attacks\\local_prbcd.py#118\" target=\"_blank\"><span style=\"color: #7f7f7f; text-decoration-color: #7f7f7f\">118</span></a>\n",
       "<span style=\"color: #7fbfbf; text-decoration-color: #7fbfbf\">                    </span>         Epoch: <span style=\"color: #008080; text-decoration-color: #008080; font-weight: bold\">40</span> Loss: <span style=\"color: #008080; text-decoration-color: #008080; font-weight: bold\">-1.1138585805892944</span> Statstics: <span style=\"font-weight: bold\">{</span><span style=\"color: #008000; text-decoration-color: #008000\">'logit_target'</span>:     <span style=\"color: #7f7f7f; text-decoration-color: #7f7f7f\">                  </span>\n",
       "<span style=\"color: #7fbfbf; text-decoration-color: #7fbfbf\">                    </span>         <span style=\"color: #008080; text-decoration-color: #008080; font-weight: bold\">-0.655018150806427</span>, <span style=\"color: #008000; text-decoration-color: #008000\">'logit_best_non_target'</span>: <span style=\"color: #008080; text-decoration-color: #008080; font-weight: bold\">-1.768200397491455</span>,    <span style=\"color: #7f7f7f; text-decoration-color: #7f7f7f\">                  </span>\n",
       "<span style=\"color: #7fbfbf; text-decoration-color: #7fbfbf\">                    </span>         <span style=\"color: #008000; text-decoration-color: #008000\">'confidence_target'</span>: <span style=\"color: #800080; text-decoration-color: #800080; font-weight: bold\">np.float64</span><span style=\"font-weight: bold\">(</span><span style=\"color: #008080; text-decoration-color: #008080; font-weight: bold\">0.5194326343802851</span><span style=\"font-weight: bold\">)</span>,                <span style=\"color: #7f7f7f; text-decoration-color: #7f7f7f\">                  </span>\n",
       "<span style=\"color: #7fbfbf; text-decoration-color: #7fbfbf\">                    </span>         <span style=\"color: #008000; text-decoration-color: #008000\">'confidence_non_target'</span>: <span style=\"color: #800080; text-decoration-color: #800080; font-weight: bold\">np.float64</span><span style=\"font-weight: bold\">(</span><span style=\"color: #008080; text-decoration-color: #008080; font-weight: bold\">0.17063979648250077</span><span style=\"font-weight: bold\">)</span>, <span style=\"color: #008000; text-decoration-color: #008000\">'margin'</span>: <span style=\"color: #7f7f7f; text-decoration-color: #7f7f7f\">                  </span>\n",
       "<span style=\"color: #7fbfbf; text-decoration-color: #7fbfbf\">                    </span>         <span style=\"color: #800080; text-decoration-color: #800080; font-weight: bold\">np.float64</span><span style=\"font-weight: bold\">(</span><span style=\"color: #008080; text-decoration-color: #008080; font-weight: bold\">0.3487928378977843</span><span style=\"font-weight: bold\">)}</span>                                     <span style=\"color: #7f7f7f; text-decoration-color: #7f7f7f\">                  </span>\n",
       "<span style=\"color: #7fbfbf; text-decoration-color: #7fbfbf\">                    </span>                                                                             <span style=\"color: #7f7f7f; text-decoration-color: #7f7f7f\">                  </span>\n",
       "</pre>\n"
      ]
     },
     "metadata": {},
     "output_type": "display_data"
    },
    {
     "data": {
      "text/plain": [
       "\u001B[2;36m                   \u001B[0m\u001B[2;36m \u001B[0m\u001B[34mINFO    \u001B[0m Gradient mean \u001B[1;36m0.011670061387121677\u001B[0m std \u001B[1;36m0.013505931943655014\u001B[0m with    \u001B]8;id=491417;file://E:\\Masterarbeit\\ProjectCombined\\rgnn_at_scale\\attacks\\local_prbcd.py\u001B\\\u001B[2mlocal_prbcd.py\u001B[0m\u001B]8;;\u001B\\\u001B[2m:\u001B[0m\u001B]8;id=979925;file://E:\\Masterarbeit\\ProjectCombined\\rgnn_at_scale\\attacks\\local_prbcd.py#119\u001B\\\u001B[2m119\u001B[0m\u001B]8;;\u001B\\\n",
       "\u001B[2;36m                    \u001B[0m         base learning rate \u001B[1;36m2.385424490525743\u001B[0m                                \u001B[2m                  \u001B[0m\n"
      ],
      "text/html": [
       "<pre style=\"white-space:pre;overflow-x:auto;line-height:normal;font-family:Menlo,'DejaVu Sans Mono',consolas,'Courier New',monospace\"><span style=\"color: #7fbfbf; text-decoration-color: #7fbfbf\">                    </span><span style=\"color: #000080; text-decoration-color: #000080\">INFO    </span> Gradient mean <span style=\"color: #008080; text-decoration-color: #008080; font-weight: bold\">0.011670061387121677</span> std <span style=\"color: #008080; text-decoration-color: #008080; font-weight: bold\">0.013505931943655014</span> with    <a href=\"file://E:\\Masterarbeit\\ProjectCombined\\rgnn_at_scale\\attacks\\local_prbcd.py\" target=\"_blank\"><span style=\"color: #7f7f7f; text-decoration-color: #7f7f7f\">local_prbcd.py</span></a><span style=\"color: #7f7f7f; text-decoration-color: #7f7f7f\">:</span><a href=\"file://E:\\Masterarbeit\\ProjectCombined\\rgnn_at_scale\\attacks\\local_prbcd.py#119\" target=\"_blank\"><span style=\"color: #7f7f7f; text-decoration-color: #7f7f7f\">119</span></a>\n",
       "<span style=\"color: #7fbfbf; text-decoration-color: #7fbfbf\">                    </span>         base learning rate <span style=\"color: #008080; text-decoration-color: #008080; font-weight: bold\">2.385424490525743</span>                                <span style=\"color: #7f7f7f; text-decoration-color: #7f7f7f\">                  </span>\n",
       "</pre>\n"
      ]
     },
     "metadata": {},
     "output_type": "display_data"
    },
    {
     "name": "stderr",
     "output_type": "stream",
     "text": [
      "100%|██████████| 50/50 [00:35<00:00,  1.39it/s]\n"
     ]
    },
    {
     "data": {
      "text/plain": [
       "\u001B[2;36m[04/01/25 13:01:49]\u001B[0m\u001B[2;36m \u001B[0m\u001B[34mINFO    \u001B[0m Evaluated model Vanilla GCN using LocalPRBCD     \u001B]8;id=431287;file://E:\\Masterarbeit\\ProjectCombined\\experiments\\experiment_local_attack_direct.py\u001B\\\u001B[2mexperiment_local_attack_direct.py\u001B[0m\u001B]8;;\u001B\\\u001B[2m:\u001B[0m\u001B]8;id=520607;file://E:\\Masterarbeit\\ProjectCombined\\experiments\\experiment_local_attack_direct.py#194\u001B\\\u001B[2m194\u001B[0m\u001B]8;;\u001B\\\n",
       "\u001B[2;36m                    \u001B[0m         with pert. edges for node \u001B[1;36m1707\u001B[0m and budget \u001B[1;36m9\u001B[0m:     \u001B[2m                                     \u001B[0m\n"
      ],
      "text/html": [
       "<pre style=\"white-space:pre;overflow-x:auto;line-height:normal;font-family:Menlo,'DejaVu Sans Mono',consolas,'Courier New',monospace\"><span style=\"color: #7fbfbf; text-decoration-color: #7fbfbf\">[04/01/25 13:01:49] </span><span style=\"color: #000080; text-decoration-color: #000080\">INFO    </span> Evaluated model Vanilla GCN using LocalPRBCD     <a href=\"file://E:\\Masterarbeit\\ProjectCombined\\experiments\\experiment_local_attack_direct.py\" target=\"_blank\"><span style=\"color: #7f7f7f; text-decoration-color: #7f7f7f\">experiment_local_attack_direct.py</span></a><span style=\"color: #7f7f7f; text-decoration-color: #7f7f7f\">:</span><a href=\"file://E:\\Masterarbeit\\ProjectCombined\\experiments\\experiment_local_attack_direct.py#194\" target=\"_blank\"><span style=\"color: #7f7f7f; text-decoration-color: #7f7f7f\">194</span></a>\n",
       "<span style=\"color: #7fbfbf; text-decoration-color: #7fbfbf\">                    </span>         with pert. edges for node <span style=\"color: #008080; text-decoration-color: #008080; font-weight: bold\">1707</span> and budget <span style=\"color: #008080; text-decoration-color: #008080; font-weight: bold\">9</span>:     <span style=\"color: #7f7f7f; text-decoration-color: #7f7f7f\">                                     </span>\n",
       "</pre>\n"
      ]
     },
     "metadata": {},
     "output_type": "display_data"
    },
    {
     "data": {
      "text/plain": [
       "\u001B[2;36m                   \u001B[0m\u001B[2;36m \u001B[0m\u001B[34mINFO    \u001B[0m \u001B[1m{\u001B[0m\u001B[32m'label'\u001B[0m: \u001B[32m'Vanilla GCN'\u001B[0m, \u001B[32m'epsilon'\u001B[0m: \u001B[1;36m1\u001B[0m,           \u001B]8;id=761310;file://E:\\Masterarbeit\\ProjectCombined\\experiments\\experiment_local_attack_direct.py\u001B\\\u001B[2mexperiment_local_attack_direct.py\u001B[0m\u001B]8;;\u001B\\\u001B[2m:\u001B[0m\u001B]8;id=231922;file://E:\\Masterarbeit\\ProjectCombined\\experiments\\experiment_local_attack_direct.py#215\u001B\\\u001B[2m215\u001B[0m\u001B]8;;\u001B\\\n",
       "\u001B[2;36m                    \u001B[0m         \u001B[32m'n_perturbations'\u001B[0m: \u001B[1;36m9\u001B[0m, \u001B[32m'degree'\u001B[0m: \u001B[1;36m9\u001B[0m, \u001B[32m'logits'\u001B[0m:     \u001B[2m                                     \u001B[0m\n",
       "\u001B[2;36m                    \u001B[0m         \u001B[1m[\u001B[0m\u001B[1m[\u001B[0m\u001B[1;36m-0.4711725115776062\u001B[0m, \u001B[1;36m0.8848893046379089\u001B[0m,       \u001B[2m                                     \u001B[0m\n",
       "\u001B[2;36m                    \u001B[0m         \u001B[1;36m-0.3173137605190277\u001B[0m, \u001B[1;36m-0.6995822191238403\u001B[0m,        \u001B[2m                                     \u001B[0m\n",
       "\u001B[2;36m                    \u001B[0m         \u001B[1;36m-0.27273547649383545\u001B[0m, \u001B[1;36m0.13512086868286133\u001B[0m,       \u001B[2m                                     \u001B[0m\n",
       "\u001B[2;36m                    \u001B[0m         \u001B[1;36m0.5381736159324646\u001B[0m\u001B[1m]\u001B[0m\u001B[1m]\u001B[0m, \u001B[32m'initial_logits'\u001B[0m:          \u001B[2m                                     \u001B[0m\n",
       "\u001B[2;36m                    \u001B[0m         \u001B[1m[\u001B[0m\u001B[1m[\u001B[0m\u001B[1;36m-0.5017836689949036\u001B[0m, \u001B[1;36m2.3457679748535156\u001B[0m,       \u001B[2m                                     \u001B[0m\n",
       "\u001B[2;36m                    \u001B[0m         \u001B[1;36m-1.2517706155776978\u001B[0m, \u001B[1;36m-0.7327775955200195\u001B[0m,        \u001B[2m                                     \u001B[0m\n",
       "\u001B[2;36m                    \u001B[0m         \u001B[1;36m-0.24876393377780914\u001B[0m, \u001B[1;36m0.9778999090194702\u001B[0m,        \u001B[2m                                     \u001B[0m\n",
       "\u001B[2;36m                    \u001B[0m         \u001B[1;36m-0.7990709543228149\u001B[0m\u001B[1m]\u001B[0m\u001B[1m]\u001B[0m, \u001B[32m'larget'\u001B[0m: \u001B[1;36m1\u001B[0m, \u001B[32m'node_id'\u001B[0m:   \u001B[2m                                     \u001B[0m\n",
       "\u001B[2;36m                    \u001B[0m         \u001B[1;36m1707\u001B[0m, \u001B[32m'perturbed_edges'\u001B[0m: \u001B[1m[\u001B[0m\u001B[1m[\u001B[0m\u001B[1;36m1707\u001B[0m, \u001B[1;36m1707\u001B[0m, \u001B[1;36m1707\u001B[0m,     \u001B[2m                                     \u001B[0m\n",
       "\u001B[2;36m                    \u001B[0m         \u001B[1;36m1707\u001B[0m, \u001B[1;36m1707\u001B[0m, \u001B[1;36m1707\u001B[0m, \u001B[1;36m1707\u001B[0m, \u001B[1;36m1707\u001B[0m, \u001B[1;36m1707\u001B[0m\u001B[1m]\u001B[0m, \u001B[1m[\u001B[0m\u001B[1;36m77\u001B[0m, \u001B[1;36m85\u001B[0m,    \u001B[2m                                     \u001B[0m\n",
       "\u001B[2;36m                    \u001B[0m         \u001B[1;36m98\u001B[0m, \u001B[1;36m101\u001B[0m, \u001B[1;36m122\u001B[0m, \u001B[1;36m188\u001B[0m, \u001B[1;36m228\u001B[0m, \u001B[1;36m1560\u001B[0m, \u001B[1;36m1840\u001B[0m\u001B[1m]\u001B[0m\u001B[1m]\u001B[0m,            \u001B[2m                                     \u001B[0m\n",
       "\u001B[2;36m                    \u001B[0m         \u001B[32m'logit_target'\u001B[0m: \u001B[1;36m-1.180798888206482\u001B[0m,              \u001B[2m                                     \u001B[0m\n",
       "\u001B[2;36m                    \u001B[0m         \u001B[32m'logit_best_non_target'\u001B[0m: \u001B[1;36m-1.5275145769119263\u001B[0m,    \u001B[2m                                     \u001B[0m\n",
       "\u001B[2;36m                    \u001B[0m         \u001B[32m'confidence_target'\u001B[0m:                             \u001B[2m                                     \u001B[0m\n",
       "\u001B[2;36m                    \u001B[0m         \u001B[1;35mnp.float64\u001B[0m\u001B[1m(\u001B[0m\u001B[1;36m0.3070333552707353\u001B[0m\u001B[1m)\u001B[0m,                  \u001B[2m                                     \u001B[0m\n",
       "\u001B[2;36m                    \u001B[0m         \u001B[32m'confidence_non_target'\u001B[0m:                         \u001B[2m                                     \u001B[0m\n",
       "\u001B[2;36m                    \u001B[0m         \u001B[1;35mnp.float64\u001B[0m\u001B[1m(\u001B[0m\u001B[1;36m0.21707451942329115\u001B[0m\u001B[1m)\u001B[0m, \u001B[32m'margin'\u001B[0m:       \u001B[2m                                     \u001B[0m\n",
       "\u001B[2;36m                    \u001B[0m         \u001B[1;35mnp.float64\u001B[0m\u001B[1m(\u001B[0m\u001B[1;36m0.08995883584744413\u001B[0m\u001B[1m)\u001B[0m,                 \u001B[2m                                     \u001B[0m\n",
       "\u001B[2;36m                    \u001B[0m         \u001B[32m'initial_logit_target'\u001B[0m: \u001B[1;36m-0.40800008177757263\u001B[0m,    \u001B[2m                                     \u001B[0m\n",
       "\u001B[2;36m                    \u001B[0m         \u001B[32m'initial_logit_best_non_target'\u001B[0m:                 \u001B[2m                                     \u001B[0m\n",
       "\u001B[2;36m                    \u001B[0m         \u001B[1;36m-1.7758681774139404\u001B[0m,                             \u001B[2m                                     \u001B[0m\n",
       "\u001B[2;36m                    \u001B[0m         \u001B[32m'initial_confidence_target'\u001B[0m:                     \u001B[2m                                     \u001B[0m\n",
       "\u001B[2;36m                    \u001B[0m         \u001B[1;35mnp.float64\u001B[0m\u001B[1m(\u001B[0m\u001B[1;36m0.6649788244420456\u001B[0m\u001B[1m)\u001B[0m,                  \u001B[2m                                     \u001B[0m\n",
       "\u001B[2;36m                    \u001B[0m         \u001B[32m'initial_confidence_non_target'\u001B[0m:                 \u001B[2m                                     \u001B[0m\n",
       "\u001B[2;36m                    \u001B[0m         \u001B[1;35mnp.float64\u001B[0m\u001B[1m(\u001B[0m\u001B[1;36m0.16933637165064927\u001B[0m\u001B[1m)\u001B[0m,                 \u001B[2m                                     \u001B[0m\n",
       "\u001B[2;36m                    \u001B[0m         \u001B[32m'initial_margin'\u001B[0m:                                \u001B[2m                                     \u001B[0m\n",
       "\u001B[2;36m                    \u001B[0m         \u001B[1;35mnp.float64\u001B[0m\u001B[1m(\u001B[0m\u001B[1;36m0.4956424527913963\u001B[0m\u001B[1m)\u001B[0m\u001B[1m}\u001B[0m                  \u001B[2m                                     \u001B[0m\n"
      ],
      "text/html": [
       "<pre style=\"white-space:pre;overflow-x:auto;line-height:normal;font-family:Menlo,'DejaVu Sans Mono',consolas,'Courier New',monospace\"><span style=\"color: #7fbfbf; text-decoration-color: #7fbfbf\">                    </span><span style=\"color: #000080; text-decoration-color: #000080\">INFO    </span> <span style=\"font-weight: bold\">{</span><span style=\"color: #008000; text-decoration-color: #008000\">'label'</span>: <span style=\"color: #008000; text-decoration-color: #008000\">'Vanilla GCN'</span>, <span style=\"color: #008000; text-decoration-color: #008000\">'epsilon'</span>: <span style=\"color: #008080; text-decoration-color: #008080; font-weight: bold\">1</span>,           <a href=\"file://E:\\Masterarbeit\\ProjectCombined\\experiments\\experiment_local_attack_direct.py\" target=\"_blank\"><span style=\"color: #7f7f7f; text-decoration-color: #7f7f7f\">experiment_local_attack_direct.py</span></a><span style=\"color: #7f7f7f; text-decoration-color: #7f7f7f\">:</span><a href=\"file://E:\\Masterarbeit\\ProjectCombined\\experiments\\experiment_local_attack_direct.py#215\" target=\"_blank\"><span style=\"color: #7f7f7f; text-decoration-color: #7f7f7f\">215</span></a>\n",
       "<span style=\"color: #7fbfbf; text-decoration-color: #7fbfbf\">                    </span>         <span style=\"color: #008000; text-decoration-color: #008000\">'n_perturbations'</span>: <span style=\"color: #008080; text-decoration-color: #008080; font-weight: bold\">9</span>, <span style=\"color: #008000; text-decoration-color: #008000\">'degree'</span>: <span style=\"color: #008080; text-decoration-color: #008080; font-weight: bold\">9</span>, <span style=\"color: #008000; text-decoration-color: #008000\">'logits'</span>:     <span style=\"color: #7f7f7f; text-decoration-color: #7f7f7f\">                                     </span>\n",
       "<span style=\"color: #7fbfbf; text-decoration-color: #7fbfbf\">                    </span>         <span style=\"font-weight: bold\">[[</span><span style=\"color: #008080; text-decoration-color: #008080; font-weight: bold\">-0.4711725115776062</span>, <span style=\"color: #008080; text-decoration-color: #008080; font-weight: bold\">0.8848893046379089</span>,       <span style=\"color: #7f7f7f; text-decoration-color: #7f7f7f\">                                     </span>\n",
       "<span style=\"color: #7fbfbf; text-decoration-color: #7fbfbf\">                    </span>         <span style=\"color: #008080; text-decoration-color: #008080; font-weight: bold\">-0.3173137605190277</span>, <span style=\"color: #008080; text-decoration-color: #008080; font-weight: bold\">-0.6995822191238403</span>,        <span style=\"color: #7f7f7f; text-decoration-color: #7f7f7f\">                                     </span>\n",
       "<span style=\"color: #7fbfbf; text-decoration-color: #7fbfbf\">                    </span>         <span style=\"color: #008080; text-decoration-color: #008080; font-weight: bold\">-0.27273547649383545</span>, <span style=\"color: #008080; text-decoration-color: #008080; font-weight: bold\">0.13512086868286133</span>,       <span style=\"color: #7f7f7f; text-decoration-color: #7f7f7f\">                                     </span>\n",
       "<span style=\"color: #7fbfbf; text-decoration-color: #7fbfbf\">                    </span>         <span style=\"color: #008080; text-decoration-color: #008080; font-weight: bold\">0.5381736159324646</span><span style=\"font-weight: bold\">]]</span>, <span style=\"color: #008000; text-decoration-color: #008000\">'initial_logits'</span>:          <span style=\"color: #7f7f7f; text-decoration-color: #7f7f7f\">                                     </span>\n",
       "<span style=\"color: #7fbfbf; text-decoration-color: #7fbfbf\">                    </span>         <span style=\"font-weight: bold\">[[</span><span style=\"color: #008080; text-decoration-color: #008080; font-weight: bold\">-0.5017836689949036</span>, <span style=\"color: #008080; text-decoration-color: #008080; font-weight: bold\">2.3457679748535156</span>,       <span style=\"color: #7f7f7f; text-decoration-color: #7f7f7f\">                                     </span>\n",
       "<span style=\"color: #7fbfbf; text-decoration-color: #7fbfbf\">                    </span>         <span style=\"color: #008080; text-decoration-color: #008080; font-weight: bold\">-1.2517706155776978</span>, <span style=\"color: #008080; text-decoration-color: #008080; font-weight: bold\">-0.7327775955200195</span>,        <span style=\"color: #7f7f7f; text-decoration-color: #7f7f7f\">                                     </span>\n",
       "<span style=\"color: #7fbfbf; text-decoration-color: #7fbfbf\">                    </span>         <span style=\"color: #008080; text-decoration-color: #008080; font-weight: bold\">-0.24876393377780914</span>, <span style=\"color: #008080; text-decoration-color: #008080; font-weight: bold\">0.9778999090194702</span>,        <span style=\"color: #7f7f7f; text-decoration-color: #7f7f7f\">                                     </span>\n",
       "<span style=\"color: #7fbfbf; text-decoration-color: #7fbfbf\">                    </span>         <span style=\"color: #008080; text-decoration-color: #008080; font-weight: bold\">-0.7990709543228149</span><span style=\"font-weight: bold\">]]</span>, <span style=\"color: #008000; text-decoration-color: #008000\">'larget'</span>: <span style=\"color: #008080; text-decoration-color: #008080; font-weight: bold\">1</span>, <span style=\"color: #008000; text-decoration-color: #008000\">'node_id'</span>:   <span style=\"color: #7f7f7f; text-decoration-color: #7f7f7f\">                                     </span>\n",
       "<span style=\"color: #7fbfbf; text-decoration-color: #7fbfbf\">                    </span>         <span style=\"color: #008080; text-decoration-color: #008080; font-weight: bold\">1707</span>, <span style=\"color: #008000; text-decoration-color: #008000\">'perturbed_edges'</span>: <span style=\"font-weight: bold\">[[</span><span style=\"color: #008080; text-decoration-color: #008080; font-weight: bold\">1707</span>, <span style=\"color: #008080; text-decoration-color: #008080; font-weight: bold\">1707</span>, <span style=\"color: #008080; text-decoration-color: #008080; font-weight: bold\">1707</span>,     <span style=\"color: #7f7f7f; text-decoration-color: #7f7f7f\">                                     </span>\n",
       "<span style=\"color: #7fbfbf; text-decoration-color: #7fbfbf\">                    </span>         <span style=\"color: #008080; text-decoration-color: #008080; font-weight: bold\">1707</span>, <span style=\"color: #008080; text-decoration-color: #008080; font-weight: bold\">1707</span>, <span style=\"color: #008080; text-decoration-color: #008080; font-weight: bold\">1707</span>, <span style=\"color: #008080; text-decoration-color: #008080; font-weight: bold\">1707</span>, <span style=\"color: #008080; text-decoration-color: #008080; font-weight: bold\">1707</span>, <span style=\"color: #008080; text-decoration-color: #008080; font-weight: bold\">1707</span><span style=\"font-weight: bold\">]</span>, <span style=\"font-weight: bold\">[</span><span style=\"color: #008080; text-decoration-color: #008080; font-weight: bold\">77</span>, <span style=\"color: #008080; text-decoration-color: #008080; font-weight: bold\">85</span>,    <span style=\"color: #7f7f7f; text-decoration-color: #7f7f7f\">                                     </span>\n",
       "<span style=\"color: #7fbfbf; text-decoration-color: #7fbfbf\">                    </span>         <span style=\"color: #008080; text-decoration-color: #008080; font-weight: bold\">98</span>, <span style=\"color: #008080; text-decoration-color: #008080; font-weight: bold\">101</span>, <span style=\"color: #008080; text-decoration-color: #008080; font-weight: bold\">122</span>, <span style=\"color: #008080; text-decoration-color: #008080; font-weight: bold\">188</span>, <span style=\"color: #008080; text-decoration-color: #008080; font-weight: bold\">228</span>, <span style=\"color: #008080; text-decoration-color: #008080; font-weight: bold\">1560</span>, <span style=\"color: #008080; text-decoration-color: #008080; font-weight: bold\">1840</span><span style=\"font-weight: bold\">]]</span>,            <span style=\"color: #7f7f7f; text-decoration-color: #7f7f7f\">                                     </span>\n",
       "<span style=\"color: #7fbfbf; text-decoration-color: #7fbfbf\">                    </span>         <span style=\"color: #008000; text-decoration-color: #008000\">'logit_target'</span>: <span style=\"color: #008080; text-decoration-color: #008080; font-weight: bold\">-1.180798888206482</span>,              <span style=\"color: #7f7f7f; text-decoration-color: #7f7f7f\">                                     </span>\n",
       "<span style=\"color: #7fbfbf; text-decoration-color: #7fbfbf\">                    </span>         <span style=\"color: #008000; text-decoration-color: #008000\">'logit_best_non_target'</span>: <span style=\"color: #008080; text-decoration-color: #008080; font-weight: bold\">-1.5275145769119263</span>,    <span style=\"color: #7f7f7f; text-decoration-color: #7f7f7f\">                                     </span>\n",
       "<span style=\"color: #7fbfbf; text-decoration-color: #7fbfbf\">                    </span>         <span style=\"color: #008000; text-decoration-color: #008000\">'confidence_target'</span>:                             <span style=\"color: #7f7f7f; text-decoration-color: #7f7f7f\">                                     </span>\n",
       "<span style=\"color: #7fbfbf; text-decoration-color: #7fbfbf\">                    </span>         <span style=\"color: #800080; text-decoration-color: #800080; font-weight: bold\">np.float64</span><span style=\"font-weight: bold\">(</span><span style=\"color: #008080; text-decoration-color: #008080; font-weight: bold\">0.3070333552707353</span><span style=\"font-weight: bold\">)</span>,                  <span style=\"color: #7f7f7f; text-decoration-color: #7f7f7f\">                                     </span>\n",
       "<span style=\"color: #7fbfbf; text-decoration-color: #7fbfbf\">                    </span>         <span style=\"color: #008000; text-decoration-color: #008000\">'confidence_non_target'</span>:                         <span style=\"color: #7f7f7f; text-decoration-color: #7f7f7f\">                                     </span>\n",
       "<span style=\"color: #7fbfbf; text-decoration-color: #7fbfbf\">                    </span>         <span style=\"color: #800080; text-decoration-color: #800080; font-weight: bold\">np.float64</span><span style=\"font-weight: bold\">(</span><span style=\"color: #008080; text-decoration-color: #008080; font-weight: bold\">0.21707451942329115</span><span style=\"font-weight: bold\">)</span>, <span style=\"color: #008000; text-decoration-color: #008000\">'margin'</span>:       <span style=\"color: #7f7f7f; text-decoration-color: #7f7f7f\">                                     </span>\n",
       "<span style=\"color: #7fbfbf; text-decoration-color: #7fbfbf\">                    </span>         <span style=\"color: #800080; text-decoration-color: #800080; font-weight: bold\">np.float64</span><span style=\"font-weight: bold\">(</span><span style=\"color: #008080; text-decoration-color: #008080; font-weight: bold\">0.08995883584744413</span><span style=\"font-weight: bold\">)</span>,                 <span style=\"color: #7f7f7f; text-decoration-color: #7f7f7f\">                                     </span>\n",
       "<span style=\"color: #7fbfbf; text-decoration-color: #7fbfbf\">                    </span>         <span style=\"color: #008000; text-decoration-color: #008000\">'initial_logit_target'</span>: <span style=\"color: #008080; text-decoration-color: #008080; font-weight: bold\">-0.40800008177757263</span>,    <span style=\"color: #7f7f7f; text-decoration-color: #7f7f7f\">                                     </span>\n",
       "<span style=\"color: #7fbfbf; text-decoration-color: #7fbfbf\">                    </span>         <span style=\"color: #008000; text-decoration-color: #008000\">'initial_logit_best_non_target'</span>:                 <span style=\"color: #7f7f7f; text-decoration-color: #7f7f7f\">                                     </span>\n",
       "<span style=\"color: #7fbfbf; text-decoration-color: #7fbfbf\">                    </span>         <span style=\"color: #008080; text-decoration-color: #008080; font-weight: bold\">-1.7758681774139404</span>,                             <span style=\"color: #7f7f7f; text-decoration-color: #7f7f7f\">                                     </span>\n",
       "<span style=\"color: #7fbfbf; text-decoration-color: #7fbfbf\">                    </span>         <span style=\"color: #008000; text-decoration-color: #008000\">'initial_confidence_target'</span>:                     <span style=\"color: #7f7f7f; text-decoration-color: #7f7f7f\">                                     </span>\n",
       "<span style=\"color: #7fbfbf; text-decoration-color: #7fbfbf\">                    </span>         <span style=\"color: #800080; text-decoration-color: #800080; font-weight: bold\">np.float64</span><span style=\"font-weight: bold\">(</span><span style=\"color: #008080; text-decoration-color: #008080; font-weight: bold\">0.6649788244420456</span><span style=\"font-weight: bold\">)</span>,                  <span style=\"color: #7f7f7f; text-decoration-color: #7f7f7f\">                                     </span>\n",
       "<span style=\"color: #7fbfbf; text-decoration-color: #7fbfbf\">                    </span>         <span style=\"color: #008000; text-decoration-color: #008000\">'initial_confidence_non_target'</span>:                 <span style=\"color: #7f7f7f; text-decoration-color: #7f7f7f\">                                     </span>\n",
       "<span style=\"color: #7fbfbf; text-decoration-color: #7fbfbf\">                    </span>         <span style=\"color: #800080; text-decoration-color: #800080; font-weight: bold\">np.float64</span><span style=\"font-weight: bold\">(</span><span style=\"color: #008080; text-decoration-color: #008080; font-weight: bold\">0.16933637165064927</span><span style=\"font-weight: bold\">)</span>,                 <span style=\"color: #7f7f7f; text-decoration-color: #7f7f7f\">                                     </span>\n",
       "<span style=\"color: #7fbfbf; text-decoration-color: #7fbfbf\">                    </span>         <span style=\"color: #008000; text-decoration-color: #008000\">'initial_margin'</span>:                                <span style=\"color: #7f7f7f; text-decoration-color: #7f7f7f\">                                     </span>\n",
       "<span style=\"color: #7fbfbf; text-decoration-color: #7fbfbf\">                    </span>         <span style=\"color: #800080; text-decoration-color: #800080; font-weight: bold\">np.float64</span><span style=\"font-weight: bold\">(</span><span style=\"color: #008080; text-decoration-color: #008080; font-weight: bold\">0.4956424527913963</span><span style=\"font-weight: bold\">)}</span>                  <span style=\"color: #7f7f7f; text-decoration-color: #7f7f7f\">                                     </span>\n",
       "</pre>\n"
      ]
     },
     "metadata": {},
     "output_type": "display_data"
    },
    {
     "data": {
      "text/plain": [
       "\u001B[2;36m                   \u001B[0m\u001B[2;36m \u001B[0m\u001B[34mINFO    \u001B[0m Completed attack and evaluation of Vanilla GCN   \u001B]8;id=598632;file://E:\\Masterarbeit\\ProjectCombined\\experiments\\experiment_local_attack_direct.py\u001B\\\u001B[2mexperiment_local_attack_direct.py\u001B[0m\u001B]8;;\u001B\\\u001B[2m:\u001B[0m\u001B]8;id=297036;file://E:\\Masterarbeit\\ProjectCombined\\experiments\\experiment_local_attack_direct.py#216\u001B\\\u001B[2m216\u001B[0m\u001B]8;;\u001B\\\n",
       "\u001B[2;36m                    \u001B[0m         using LocalPRBCD with pert. edges for node \u001B[1;36m1707\u001B[0m  \u001B[2m                                     \u001B[0m\n",
       "\u001B[2;36m                    \u001B[0m         and budget \u001B[1;36m9\u001B[0m                                     \u001B[2m                                     \u001B[0m\n"
      ],
      "text/html": [
       "<pre style=\"white-space:pre;overflow-x:auto;line-height:normal;font-family:Menlo,'DejaVu Sans Mono',consolas,'Courier New',monospace\"><span style=\"color: #7fbfbf; text-decoration-color: #7fbfbf\">                    </span><span style=\"color: #000080; text-decoration-color: #000080\">INFO    </span> Completed attack and evaluation of Vanilla GCN   <a href=\"file://E:\\Masterarbeit\\ProjectCombined\\experiments\\experiment_local_attack_direct.py\" target=\"_blank\"><span style=\"color: #7f7f7f; text-decoration-color: #7f7f7f\">experiment_local_attack_direct.py</span></a><span style=\"color: #7f7f7f; text-decoration-color: #7f7f7f\">:</span><a href=\"file://E:\\Masterarbeit\\ProjectCombined\\experiments\\experiment_local_attack_direct.py#216\" target=\"_blank\"><span style=\"color: #7f7f7f; text-decoration-color: #7f7f7f\">216</span></a>\n",
       "<span style=\"color: #7fbfbf; text-decoration-color: #7fbfbf\">                    </span>         using LocalPRBCD with pert. edges for node <span style=\"color: #008080; text-decoration-color: #008080; font-weight: bold\">1707</span>  <span style=\"color: #7f7f7f; text-decoration-color: #7f7f7f\">                                     </span>\n",
       "<span style=\"color: #7fbfbf; text-decoration-color: #7fbfbf\">                    </span>         and budget <span style=\"color: #008080; text-decoration-color: #008080; font-weight: bold\">9</span>                                     <span style=\"color: #7f7f7f; text-decoration-color: #7f7f7f\">                                     </span>\n",
       "</pre>\n"
      ]
     },
     "metadata": {},
     "output_type": "display_data"
    },
    {
     "data": {
      "text/plain": [
       "\u001B[2;36m                   \u001B[0m\u001B[2;36m \u001B[0m\u001B[34mINFO    \u001B[0m Original: Loss: \u001B[1;36m-1.854461431503296\u001B[0m Statstics: \u001B[1m{\u001B[0m\u001B[32m'logit_target'\u001B[0m:       \u001B]8;id=202388;file://E:\\Masterarbeit\\ProjectCombined\\rgnn_at_scale\\attacks\\local_prbcd.py\u001B\\\u001B[2mlocal_prbcd.py\u001B[0m\u001B]8;;\u001B\\\u001B[2m:\u001B[0m\u001B]8;id=859755;file://E:\\Masterarbeit\\ProjectCombined\\rgnn_at_scale\\attacks\\local_prbcd.py#79\u001B\\\u001B[2m79\u001B[0m\u001B]8;;\u001B\\\n",
       "\u001B[2;36m                    \u001B[0m         \u001B[1;36m-0.2538212537765503\u001B[0m, \u001B[32m'logit_best_non_target'\u001B[0m: \u001B[1;36m-2.1082825660705566\u001B[0m,   \u001B[2m                 \u001B[0m\n",
       "\u001B[2;36m                    \u001B[0m         \u001B[32m'confidence_target'\u001B[0m: \u001B[1;35mnp.float64\u001B[0m\u001B[1m(\u001B[0m\u001B[1;36m0.77583046641915\u001B[0m\u001B[1m)\u001B[0m,                   \u001B[2m                 \u001B[0m\n",
       "\u001B[2;36m                    \u001B[0m         \u001B[32m'confidence_non_target'\u001B[0m: \u001B[1;35mnp.float64\u001B[0m\u001B[1m(\u001B[0m\u001B[1;36m0.12144636353337258\u001B[0m\u001B[1m)\u001B[0m, \u001B[32m'margin'\u001B[0m:  \u001B[2m                 \u001B[0m\n",
       "\u001B[2;36m                    \u001B[0m         \u001B[1;35mnp.float64\u001B[0m\u001B[1m(\u001B[0m\u001B[1;36m0.6543841028857774\u001B[0m\u001B[1m)\u001B[0m\u001B[1m}\u001B[0m                                      \u001B[2m                 \u001B[0m\n",
       "\u001B[2;36m                    \u001B[0m                                                                              \u001B[2m                 \u001B[0m\n"
      ],
      "text/html": [
       "<pre style=\"white-space:pre;overflow-x:auto;line-height:normal;font-family:Menlo,'DejaVu Sans Mono',consolas,'Courier New',monospace\"><span style=\"color: #7fbfbf; text-decoration-color: #7fbfbf\">                    </span><span style=\"color: #000080; text-decoration-color: #000080\">INFO    </span> Original: Loss: <span style=\"color: #008080; text-decoration-color: #008080; font-weight: bold\">-1.854461431503296</span> Statstics: <span style=\"font-weight: bold\">{</span><span style=\"color: #008000; text-decoration-color: #008000\">'logit_target'</span>:       <a href=\"file://E:\\Masterarbeit\\ProjectCombined\\rgnn_at_scale\\attacks\\local_prbcd.py\" target=\"_blank\"><span style=\"color: #7f7f7f; text-decoration-color: #7f7f7f\">local_prbcd.py</span></a><span style=\"color: #7f7f7f; text-decoration-color: #7f7f7f\">:</span><a href=\"file://E:\\Masterarbeit\\ProjectCombined\\rgnn_at_scale\\attacks\\local_prbcd.py#79\" target=\"_blank\"><span style=\"color: #7f7f7f; text-decoration-color: #7f7f7f\">79</span></a>\n",
       "<span style=\"color: #7fbfbf; text-decoration-color: #7fbfbf\">                    </span>         <span style=\"color: #008080; text-decoration-color: #008080; font-weight: bold\">-0.2538212537765503</span>, <span style=\"color: #008000; text-decoration-color: #008000\">'logit_best_non_target'</span>: <span style=\"color: #008080; text-decoration-color: #008080; font-weight: bold\">-2.1082825660705566</span>,   <span style=\"color: #7f7f7f; text-decoration-color: #7f7f7f\">                 </span>\n",
       "<span style=\"color: #7fbfbf; text-decoration-color: #7fbfbf\">                    </span>         <span style=\"color: #008000; text-decoration-color: #008000\">'confidence_target'</span>: <span style=\"color: #800080; text-decoration-color: #800080; font-weight: bold\">np.float64</span><span style=\"font-weight: bold\">(</span><span style=\"color: #008080; text-decoration-color: #008080; font-weight: bold\">0.77583046641915</span><span style=\"font-weight: bold\">)</span>,                   <span style=\"color: #7f7f7f; text-decoration-color: #7f7f7f\">                 </span>\n",
       "<span style=\"color: #7fbfbf; text-decoration-color: #7fbfbf\">                    </span>         <span style=\"color: #008000; text-decoration-color: #008000\">'confidence_non_target'</span>: <span style=\"color: #800080; text-decoration-color: #800080; font-weight: bold\">np.float64</span><span style=\"font-weight: bold\">(</span><span style=\"color: #008080; text-decoration-color: #008080; font-weight: bold\">0.12144636353337258</span><span style=\"font-weight: bold\">)</span>, <span style=\"color: #008000; text-decoration-color: #008000\">'margin'</span>:  <span style=\"color: #7f7f7f; text-decoration-color: #7f7f7f\">                 </span>\n",
       "<span style=\"color: #7fbfbf; text-decoration-color: #7fbfbf\">                    </span>         <span style=\"color: #800080; text-decoration-color: #800080; font-weight: bold\">np.float64</span><span style=\"font-weight: bold\">(</span><span style=\"color: #008080; text-decoration-color: #008080; font-weight: bold\">0.6543841028857774</span><span style=\"font-weight: bold\">)}</span>                                      <span style=\"color: #7f7f7f; text-decoration-color: #7f7f7f\">                 </span>\n",
       "<span style=\"color: #7fbfbf; text-decoration-color: #7fbfbf\">                    </span>                                                                              <span style=\"color: #7f7f7f; text-decoration-color: #7f7f7f\">                 </span>\n",
       "</pre>\n"
      ]
     },
     "metadata": {},
     "output_type": "display_data"
    },
    {
     "name": "stderr",
     "output_type": "stream",
     "text": [
      "  0%|          | 0/50 [00:00<?, ?it/s]"
     ]
    },
    {
     "data": {
      "text/plain": [
       "\u001B[2;36m                   \u001B[0m\u001B[2;36m \u001B[0m\u001B[34mINFO    \u001B[0m Initial: Loss: \u001B[1;36m-1.854461431503296\u001B[0m Statstics: \u001B[1m{\u001B[0m\u001B[32m'logit_target'\u001B[0m:        \u001B]8;id=149760;file://E:\\Masterarbeit\\ProjectCombined\\rgnn_at_scale\\attacks\\local_prbcd.py\u001B\\\u001B[2mlocal_prbcd.py\u001B[0m\u001B]8;;\u001B\\\u001B[2m:\u001B[0m\u001B]8;id=343209;file://E:\\Masterarbeit\\ProjectCombined\\rgnn_at_scale\\attacks\\local_prbcd.py#97\u001B\\\u001B[2m97\u001B[0m\u001B]8;;\u001B\\\n",
       "\u001B[2;36m                    \u001B[0m         \u001B[1;36m-0.2538212537765503\u001B[0m, \u001B[32m'logit_best_non_target'\u001B[0m: \u001B[1;36m-2.1082825660705566\u001B[0m,   \u001B[2m                 \u001B[0m\n",
       "\u001B[2;36m                    \u001B[0m         \u001B[32m'confidence_target'\u001B[0m: \u001B[1;35mnp.float64\u001B[0m\u001B[1m(\u001B[0m\u001B[1;36m0.77583046641915\u001B[0m\u001B[1m)\u001B[0m,                   \u001B[2m                 \u001B[0m\n",
       "\u001B[2;36m                    \u001B[0m         \u001B[32m'confidence_non_target'\u001B[0m: \u001B[1;35mnp.float64\u001B[0m\u001B[1m(\u001B[0m\u001B[1;36m0.12144636353337258\u001B[0m\u001B[1m)\u001B[0m, \u001B[32m'margin'\u001B[0m:  \u001B[2m                 \u001B[0m\n",
       "\u001B[2;36m                    \u001B[0m         \u001B[1;35mnp.float64\u001B[0m\u001B[1m(\u001B[0m\u001B[1;36m0.6543841028857774\u001B[0m\u001B[1m)\u001B[0m\u001B[1m}\u001B[0m                                      \u001B[2m                 \u001B[0m\n",
       "\u001B[2;36m                    \u001B[0m                                                                              \u001B[2m                 \u001B[0m\n"
      ],
      "text/html": [
       "<pre style=\"white-space:pre;overflow-x:auto;line-height:normal;font-family:Menlo,'DejaVu Sans Mono',consolas,'Courier New',monospace\"><span style=\"color: #7fbfbf; text-decoration-color: #7fbfbf\">                    </span><span style=\"color: #000080; text-decoration-color: #000080\">INFO    </span> Initial: Loss: <span style=\"color: #008080; text-decoration-color: #008080; font-weight: bold\">-1.854461431503296</span> Statstics: <span style=\"font-weight: bold\">{</span><span style=\"color: #008000; text-decoration-color: #008000\">'logit_target'</span>:        <a href=\"file://E:\\Masterarbeit\\ProjectCombined\\rgnn_at_scale\\attacks\\local_prbcd.py\" target=\"_blank\"><span style=\"color: #7f7f7f; text-decoration-color: #7f7f7f\">local_prbcd.py</span></a><span style=\"color: #7f7f7f; text-decoration-color: #7f7f7f\">:</span><a href=\"file://E:\\Masterarbeit\\ProjectCombined\\rgnn_at_scale\\attacks\\local_prbcd.py#97\" target=\"_blank\"><span style=\"color: #7f7f7f; text-decoration-color: #7f7f7f\">97</span></a>\n",
       "<span style=\"color: #7fbfbf; text-decoration-color: #7fbfbf\">                    </span>         <span style=\"color: #008080; text-decoration-color: #008080; font-weight: bold\">-0.2538212537765503</span>, <span style=\"color: #008000; text-decoration-color: #008000\">'logit_best_non_target'</span>: <span style=\"color: #008080; text-decoration-color: #008080; font-weight: bold\">-2.1082825660705566</span>,   <span style=\"color: #7f7f7f; text-decoration-color: #7f7f7f\">                 </span>\n",
       "<span style=\"color: #7fbfbf; text-decoration-color: #7fbfbf\">                    </span>         <span style=\"color: #008000; text-decoration-color: #008000\">'confidence_target'</span>: <span style=\"color: #800080; text-decoration-color: #800080; font-weight: bold\">np.float64</span><span style=\"font-weight: bold\">(</span><span style=\"color: #008080; text-decoration-color: #008080; font-weight: bold\">0.77583046641915</span><span style=\"font-weight: bold\">)</span>,                   <span style=\"color: #7f7f7f; text-decoration-color: #7f7f7f\">                 </span>\n",
       "<span style=\"color: #7fbfbf; text-decoration-color: #7fbfbf\">                    </span>         <span style=\"color: #008000; text-decoration-color: #008000\">'confidence_non_target'</span>: <span style=\"color: #800080; text-decoration-color: #800080; font-weight: bold\">np.float64</span><span style=\"font-weight: bold\">(</span><span style=\"color: #008080; text-decoration-color: #008080; font-weight: bold\">0.12144636353337258</span><span style=\"font-weight: bold\">)</span>, <span style=\"color: #008000; text-decoration-color: #008000\">'margin'</span>:  <span style=\"color: #7f7f7f; text-decoration-color: #7f7f7f\">                 </span>\n",
       "<span style=\"color: #7fbfbf; text-decoration-color: #7fbfbf\">                    </span>         <span style=\"color: #800080; text-decoration-color: #800080; font-weight: bold\">np.float64</span><span style=\"font-weight: bold\">(</span><span style=\"color: #008080; text-decoration-color: #008080; font-weight: bold\">0.6543841028857774</span><span style=\"font-weight: bold\">)}</span>                                      <span style=\"color: #7f7f7f; text-decoration-color: #7f7f7f\">                 </span>\n",
       "<span style=\"color: #7fbfbf; text-decoration-color: #7fbfbf\">                    </span>                                                                              <span style=\"color: #7f7f7f; text-decoration-color: #7f7f7f\">                 </span>\n",
       "</pre>\n"
      ]
     },
     "metadata": {},
     "output_type": "display_data"
    },
    {
     "data": {
      "text/plain": [
       "\u001B[2;36m[04/01/25 13:01:50]\u001B[0m\u001B[2;36m \u001B[0m\u001B[34mINFO    \u001B[0m                                                                     \u001B]8;id=578809;file://E:\\Masterarbeit\\ProjectCombined\\rgnn_at_scale\\attacks\\local_prbcd.py\u001B\\\u001B[2mlocal_prbcd.py\u001B[0m\u001B]8;;\u001B\\\u001B[2m:\u001B[0m\u001B]8;id=810368;file://E:\\Masterarbeit\\ProjectCombined\\rgnn_at_scale\\attacks\\local_prbcd.py#118\u001B\\\u001B[2m118\u001B[0m\u001B]8;;\u001B\\\n",
       "\u001B[2;36m                    \u001B[0m         Epoch: \u001B[1;36m0\u001B[0m Loss: \u001B[1;36m-1.854461431503296\u001B[0m Statstics: \u001B[1m{\u001B[0m\u001B[32m'logit_target'\u001B[0m:       \u001B[2m                  \u001B[0m\n",
       "\u001B[2;36m                    \u001B[0m         \u001B[1;36m-0.2521698474884033\u001B[0m, \u001B[32m'logit_best_non_target'\u001B[0m: \u001B[1;36m-2.1147689819335938\u001B[0m,  \u001B[2m                  \u001B[0m\n",
       "\u001B[2;36m                    \u001B[0m         \u001B[32m'confidence_target'\u001B[0m: \u001B[1;35mnp.float64\u001B[0m\u001B[1m(\u001B[0m\u001B[1;36m0.7771127362127197\u001B[0m\u001B[1m)\u001B[0m,                \u001B[2m                  \u001B[0m\n",
       "\u001B[2;36m                    \u001B[0m         \u001B[32m'confidence_non_target'\u001B[0m: \u001B[1;35mnp.float64\u001B[0m\u001B[1m(\u001B[0m\u001B[1;36m0.12066116124176293\u001B[0m\u001B[1m)\u001B[0m, \u001B[32m'margin'\u001B[0m: \u001B[2m                  \u001B[0m\n",
       "\u001B[2;36m                    \u001B[0m         \u001B[1;35mnp.float64\u001B[0m\u001B[1m(\u001B[0m\u001B[1;36m0.6564515749709567\u001B[0m\u001B[1m)\u001B[0m\u001B[1m}\u001B[0m                                     \u001B[2m                  \u001B[0m\n",
       "\u001B[2;36m                    \u001B[0m                                                                             \u001B[2m                  \u001B[0m\n"
      ],
      "text/html": [
       "<pre style=\"white-space:pre;overflow-x:auto;line-height:normal;font-family:Menlo,'DejaVu Sans Mono',consolas,'Courier New',monospace\"><span style=\"color: #7fbfbf; text-decoration-color: #7fbfbf\">[04/01/25 13:01:50] </span><span style=\"color: #000080; text-decoration-color: #000080\">INFO    </span>                                                                     <a href=\"file://E:\\Masterarbeit\\ProjectCombined\\rgnn_at_scale\\attacks\\local_prbcd.py\" target=\"_blank\"><span style=\"color: #7f7f7f; text-decoration-color: #7f7f7f\">local_prbcd.py</span></a><span style=\"color: #7f7f7f; text-decoration-color: #7f7f7f\">:</span><a href=\"file://E:\\Masterarbeit\\ProjectCombined\\rgnn_at_scale\\attacks\\local_prbcd.py#118\" target=\"_blank\"><span style=\"color: #7f7f7f; text-decoration-color: #7f7f7f\">118</span></a>\n",
       "<span style=\"color: #7fbfbf; text-decoration-color: #7fbfbf\">                    </span>         Epoch: <span style=\"color: #008080; text-decoration-color: #008080; font-weight: bold\">0</span> Loss: <span style=\"color: #008080; text-decoration-color: #008080; font-weight: bold\">-1.854461431503296</span> Statstics: <span style=\"font-weight: bold\">{</span><span style=\"color: #008000; text-decoration-color: #008000\">'logit_target'</span>:       <span style=\"color: #7f7f7f; text-decoration-color: #7f7f7f\">                  </span>\n",
       "<span style=\"color: #7fbfbf; text-decoration-color: #7fbfbf\">                    </span>         <span style=\"color: #008080; text-decoration-color: #008080; font-weight: bold\">-0.2521698474884033</span>, <span style=\"color: #008000; text-decoration-color: #008000\">'logit_best_non_target'</span>: <span style=\"color: #008080; text-decoration-color: #008080; font-weight: bold\">-2.1147689819335938</span>,  <span style=\"color: #7f7f7f; text-decoration-color: #7f7f7f\">                  </span>\n",
       "<span style=\"color: #7fbfbf; text-decoration-color: #7fbfbf\">                    </span>         <span style=\"color: #008000; text-decoration-color: #008000\">'confidence_target'</span>: <span style=\"color: #800080; text-decoration-color: #800080; font-weight: bold\">np.float64</span><span style=\"font-weight: bold\">(</span><span style=\"color: #008080; text-decoration-color: #008080; font-weight: bold\">0.7771127362127197</span><span style=\"font-weight: bold\">)</span>,                <span style=\"color: #7f7f7f; text-decoration-color: #7f7f7f\">                  </span>\n",
       "<span style=\"color: #7fbfbf; text-decoration-color: #7fbfbf\">                    </span>         <span style=\"color: #008000; text-decoration-color: #008000\">'confidence_non_target'</span>: <span style=\"color: #800080; text-decoration-color: #800080; font-weight: bold\">np.float64</span><span style=\"font-weight: bold\">(</span><span style=\"color: #008080; text-decoration-color: #008080; font-weight: bold\">0.12066116124176293</span><span style=\"font-weight: bold\">)</span>, <span style=\"color: #008000; text-decoration-color: #008000\">'margin'</span>: <span style=\"color: #7f7f7f; text-decoration-color: #7f7f7f\">                  </span>\n",
       "<span style=\"color: #7fbfbf; text-decoration-color: #7fbfbf\">                    </span>         <span style=\"color: #800080; text-decoration-color: #800080; font-weight: bold\">np.float64</span><span style=\"font-weight: bold\">(</span><span style=\"color: #008080; text-decoration-color: #008080; font-weight: bold\">0.6564515749709567</span><span style=\"font-weight: bold\">)}</span>                                     <span style=\"color: #7f7f7f; text-decoration-color: #7f7f7f\">                  </span>\n",
       "<span style=\"color: #7fbfbf; text-decoration-color: #7fbfbf\">                    </span>                                                                             <span style=\"color: #7f7f7f; text-decoration-color: #7f7f7f\">                  </span>\n",
       "</pre>\n"
      ]
     },
     "metadata": {},
     "output_type": "display_data"
    },
    {
     "data": {
      "text/plain": [
       "\u001B[2;36m                   \u001B[0m\u001B[2;36m \u001B[0m\u001B[34mINFO    \u001B[0m Gradient mean \u001B[1;36m0.14168690145015717\u001B[0m std \u001B[1;36m0.019508372992277145\u001B[0m with     \u001B]8;id=550152;file://E:\\Masterarbeit\\ProjectCombined\\rgnn_at_scale\\attacks\\local_prbcd.py\u001B\\\u001B[2mlocal_prbcd.py\u001B[0m\u001B]8;;\u001B\\\u001B[2m:\u001B[0m\u001B]8;id=839548;file://E:\\Masterarbeit\\ProjectCombined\\rgnn_at_scale\\attacks\\local_prbcd.py#119\u001B\\\u001B[2m119\u001B[0m\u001B]8;;\u001B\\\n",
       "\u001B[2;36m                    \u001B[0m         base learning rate \u001B[1;36m1.0601886624558858\u001B[0m                               \u001B[2m                  \u001B[0m\n"
      ],
      "text/html": [
       "<pre style=\"white-space:pre;overflow-x:auto;line-height:normal;font-family:Menlo,'DejaVu Sans Mono',consolas,'Courier New',monospace\"><span style=\"color: #7fbfbf; text-decoration-color: #7fbfbf\">                    </span><span style=\"color: #000080; text-decoration-color: #000080\">INFO    </span> Gradient mean <span style=\"color: #008080; text-decoration-color: #008080; font-weight: bold\">0.14168690145015717</span> std <span style=\"color: #008080; text-decoration-color: #008080; font-weight: bold\">0.019508372992277145</span> with     <a href=\"file://E:\\Masterarbeit\\ProjectCombined\\rgnn_at_scale\\attacks\\local_prbcd.py\" target=\"_blank\"><span style=\"color: #7f7f7f; text-decoration-color: #7f7f7f\">local_prbcd.py</span></a><span style=\"color: #7f7f7f; text-decoration-color: #7f7f7f\">:</span><a href=\"file://E:\\Masterarbeit\\ProjectCombined\\rgnn_at_scale\\attacks\\local_prbcd.py#119\" target=\"_blank\"><span style=\"color: #7f7f7f; text-decoration-color: #7f7f7f\">119</span></a>\n",
       "<span style=\"color: #7fbfbf; text-decoration-color: #7fbfbf\">                    </span>         base learning rate <span style=\"color: #008080; text-decoration-color: #008080; font-weight: bold\">1.0601886624558858</span>                               <span style=\"color: #7f7f7f; text-decoration-color: #7f7f7f\">                  </span>\n",
       "</pre>\n"
      ]
     },
     "metadata": {},
     "output_type": "display_data"
    },
    {
     "name": "stderr",
     "output_type": "stream",
     "text": [
      " 40%|████      | 20/50 [00:15<00:21,  1.40it/s]"
     ]
    },
    {
     "data": {
      "text/plain": [
       "\u001B[2;36m[04/01/25 13:02:05]\u001B[0m\u001B[2;36m \u001B[0m\u001B[34mINFO    \u001B[0m                                                                     \u001B]8;id=158397;file://E:\\Masterarbeit\\ProjectCombined\\rgnn_at_scale\\attacks\\local_prbcd.py\u001B\\\u001B[2mlocal_prbcd.py\u001B[0m\u001B]8;;\u001B\\\u001B[2m:\u001B[0m\u001B]8;id=467444;file://E:\\Masterarbeit\\ProjectCombined\\rgnn_at_scale\\attacks\\local_prbcd.py#118\u001B\\\u001B[2m118\u001B[0m\u001B]8;;\u001B\\\n",
       "\u001B[2;36m                    \u001B[0m         Epoch: \u001B[1;36m20\u001B[0m Loss: \u001B[1;36m-1.854461431503296\u001B[0m Statstics: \u001B[1m{\u001B[0m\u001B[32m'logit_target'\u001B[0m:      \u001B[2m                  \u001B[0m\n",
       "\u001B[2;36m                    \u001B[0m         \u001B[1;36m-0.2519262731075287\u001B[0m, \u001B[32m'logit_best_non_target'\u001B[0m: \u001B[1;36m-2.114673137664795\u001B[0m,   \u001B[2m                  \u001B[0m\n",
       "\u001B[2;36m                    \u001B[0m         \u001B[32m'confidence_target'\u001B[0m: \u001B[1;35mnp.float64\u001B[0m\u001B[1m(\u001B[0m\u001B[1;36m0.7773020440206425\u001B[0m\u001B[1m)\u001B[0m,                \u001B[2m                  \u001B[0m\n",
       "\u001B[2;36m                    \u001B[0m         \u001B[32m'confidence_non_target'\u001B[0m: \u001B[1;35mnp.float64\u001B[0m\u001B[1m(\u001B[0m\u001B[1;36m0.12067272647675646\u001B[0m\u001B[1m)\u001B[0m, \u001B[32m'margin'\u001B[0m: \u001B[2m                  \u001B[0m\n",
       "\u001B[2;36m                    \u001B[0m         \u001B[1;35mnp.float64\u001B[0m\u001B[1m(\u001B[0m\u001B[1;36m0.6566293175438861\u001B[0m\u001B[1m)\u001B[0m\u001B[1m}\u001B[0m                                     \u001B[2m                  \u001B[0m\n",
       "\u001B[2;36m                    \u001B[0m                                                                             \u001B[2m                  \u001B[0m\n"
      ],
      "text/html": [
       "<pre style=\"white-space:pre;overflow-x:auto;line-height:normal;font-family:Menlo,'DejaVu Sans Mono',consolas,'Courier New',monospace\"><span style=\"color: #7fbfbf; text-decoration-color: #7fbfbf\">[04/01/25 13:02:05] </span><span style=\"color: #000080; text-decoration-color: #000080\">INFO    </span>                                                                     <a href=\"file://E:\\Masterarbeit\\ProjectCombined\\rgnn_at_scale\\attacks\\local_prbcd.py\" target=\"_blank\"><span style=\"color: #7f7f7f; text-decoration-color: #7f7f7f\">local_prbcd.py</span></a><span style=\"color: #7f7f7f; text-decoration-color: #7f7f7f\">:</span><a href=\"file://E:\\Masterarbeit\\ProjectCombined\\rgnn_at_scale\\attacks\\local_prbcd.py#118\" target=\"_blank\"><span style=\"color: #7f7f7f; text-decoration-color: #7f7f7f\">118</span></a>\n",
       "<span style=\"color: #7fbfbf; text-decoration-color: #7fbfbf\">                    </span>         Epoch: <span style=\"color: #008080; text-decoration-color: #008080; font-weight: bold\">20</span> Loss: <span style=\"color: #008080; text-decoration-color: #008080; font-weight: bold\">-1.854461431503296</span> Statstics: <span style=\"font-weight: bold\">{</span><span style=\"color: #008000; text-decoration-color: #008000\">'logit_target'</span>:      <span style=\"color: #7f7f7f; text-decoration-color: #7f7f7f\">                  </span>\n",
       "<span style=\"color: #7fbfbf; text-decoration-color: #7fbfbf\">                    </span>         <span style=\"color: #008080; text-decoration-color: #008080; font-weight: bold\">-0.2519262731075287</span>, <span style=\"color: #008000; text-decoration-color: #008000\">'logit_best_non_target'</span>: <span style=\"color: #008080; text-decoration-color: #008080; font-weight: bold\">-2.114673137664795</span>,   <span style=\"color: #7f7f7f; text-decoration-color: #7f7f7f\">                  </span>\n",
       "<span style=\"color: #7fbfbf; text-decoration-color: #7fbfbf\">                    </span>         <span style=\"color: #008000; text-decoration-color: #008000\">'confidence_target'</span>: <span style=\"color: #800080; text-decoration-color: #800080; font-weight: bold\">np.float64</span><span style=\"font-weight: bold\">(</span><span style=\"color: #008080; text-decoration-color: #008080; font-weight: bold\">0.7773020440206425</span><span style=\"font-weight: bold\">)</span>,                <span style=\"color: #7f7f7f; text-decoration-color: #7f7f7f\">                  </span>\n",
       "<span style=\"color: #7fbfbf; text-decoration-color: #7fbfbf\">                    </span>         <span style=\"color: #008000; text-decoration-color: #008000\">'confidence_non_target'</span>: <span style=\"color: #800080; text-decoration-color: #800080; font-weight: bold\">np.float64</span><span style=\"font-weight: bold\">(</span><span style=\"color: #008080; text-decoration-color: #008080; font-weight: bold\">0.12067272647675646</span><span style=\"font-weight: bold\">)</span>, <span style=\"color: #008000; text-decoration-color: #008000\">'margin'</span>: <span style=\"color: #7f7f7f; text-decoration-color: #7f7f7f\">                  </span>\n",
       "<span style=\"color: #7fbfbf; text-decoration-color: #7fbfbf\">                    </span>         <span style=\"color: #800080; text-decoration-color: #800080; font-weight: bold\">np.float64</span><span style=\"font-weight: bold\">(</span><span style=\"color: #008080; text-decoration-color: #008080; font-weight: bold\">0.6566293175438861</span><span style=\"font-weight: bold\">)}</span>                                     <span style=\"color: #7f7f7f; text-decoration-color: #7f7f7f\">                  </span>\n",
       "<span style=\"color: #7fbfbf; text-decoration-color: #7fbfbf\">                    </span>                                                                             <span style=\"color: #7f7f7f; text-decoration-color: #7f7f7f\">                  </span>\n",
       "</pre>\n"
      ]
     },
     "metadata": {},
     "output_type": "display_data"
    },
    {
     "data": {
      "text/plain": [
       "\u001B[2;36m                   \u001B[0m\u001B[2;36m \u001B[0m\u001B[34mINFO    \u001B[0m Gradient mean \u001B[1;36m0.14168690145015717\u001B[0m std \u001B[1;36m0.019508372992277145\u001B[0m with     \u001B]8;id=546120;file://E:\\Masterarbeit\\ProjectCombined\\rgnn_at_scale\\attacks\\local_prbcd.py\u001B\\\u001B[2mlocal_prbcd.py\u001B[0m\u001B]8;;\u001B\\\u001B[2m:\u001B[0m\u001B]8;id=251203;file://E:\\Masterarbeit\\ProjectCombined\\rgnn_at_scale\\attacks\\local_prbcd.py#119\u001B\\\u001B[2m119\u001B[0m\u001B]8;;\u001B\\\n",
       "\u001B[2;36m                    \u001B[0m         base learning rate \u001B[1;36m1.0601886624558858\u001B[0m                               \u001B[2m                  \u001B[0m\n"
      ],
      "text/html": [
       "<pre style=\"white-space:pre;overflow-x:auto;line-height:normal;font-family:Menlo,'DejaVu Sans Mono',consolas,'Courier New',monospace\"><span style=\"color: #7fbfbf; text-decoration-color: #7fbfbf\">                    </span><span style=\"color: #000080; text-decoration-color: #000080\">INFO    </span> Gradient mean <span style=\"color: #008080; text-decoration-color: #008080; font-weight: bold\">0.14168690145015717</span> std <span style=\"color: #008080; text-decoration-color: #008080; font-weight: bold\">0.019508372992277145</span> with     <a href=\"file://E:\\Masterarbeit\\ProjectCombined\\rgnn_at_scale\\attacks\\local_prbcd.py\" target=\"_blank\"><span style=\"color: #7f7f7f; text-decoration-color: #7f7f7f\">local_prbcd.py</span></a><span style=\"color: #7f7f7f; text-decoration-color: #7f7f7f\">:</span><a href=\"file://E:\\Masterarbeit\\ProjectCombined\\rgnn_at_scale\\attacks\\local_prbcd.py#119\" target=\"_blank\"><span style=\"color: #7f7f7f; text-decoration-color: #7f7f7f\">119</span></a>\n",
       "<span style=\"color: #7fbfbf; text-decoration-color: #7fbfbf\">                    </span>         base learning rate <span style=\"color: #008080; text-decoration-color: #008080; font-weight: bold\">1.0601886624558858</span>                               <span style=\"color: #7f7f7f; text-decoration-color: #7f7f7f\">                  </span>\n",
       "</pre>\n"
      ]
     },
     "metadata": {},
     "output_type": "display_data"
    },
    {
     "name": "stderr",
     "output_type": "stream",
     "text": [
      " 80%|████████  | 40/50 [00:29<00:07,  1.41it/s]"
     ]
    },
    {
     "data": {
      "text/plain": [
       "\u001B[2;36m[04/01/25 13:02:19]\u001B[0m\u001B[2;36m \u001B[0m\u001B[34mINFO    \u001B[0m                                                                     \u001B]8;id=467795;file://E:\\Masterarbeit\\ProjectCombined\\rgnn_at_scale\\attacks\\local_prbcd.py\u001B\\\u001B[2mlocal_prbcd.py\u001B[0m\u001B]8;;\u001B\\\u001B[2m:\u001B[0m\u001B]8;id=946418;file://E:\\Masterarbeit\\ProjectCombined\\rgnn_at_scale\\attacks\\local_prbcd.py#118\u001B\\\u001B[2m118\u001B[0m\u001B]8;;\u001B\\\n",
       "\u001B[2;36m                    \u001B[0m         Epoch: \u001B[1;36m40\u001B[0m Loss: \u001B[1;36m-1.854461431503296\u001B[0m Statstics: \u001B[1m{\u001B[0m\u001B[32m'logit_target'\u001B[0m:      \u001B[2m                  \u001B[0m\n",
       "\u001B[2;36m                    \u001B[0m         \u001B[1;36m-0.25174352526664734\u001B[0m, \u001B[32m'logit_best_non_target'\u001B[0m: \u001B[1;36m-2.1144914627075195\u001B[0m, \u001B[2m                  \u001B[0m\n",
       "\u001B[2;36m                    \u001B[0m         \u001B[32m'confidence_target'\u001B[0m: \u001B[1;35mnp.float64\u001B[0m\u001B[1m(\u001B[0m\u001B[1;36m0.7774441072713808\u001B[0m\u001B[1m)\u001B[0m,                \u001B[2m                  \u001B[0m\n",
       "\u001B[2;36m                    \u001B[0m         \u001B[32m'confidence_non_target'\u001B[0m: \u001B[1;35mnp.float64\u001B[0m\u001B[1m(\u001B[0m\u001B[1;36m0.12069465168075337\u001B[0m\u001B[1m)\u001B[0m, \u001B[32m'margin'\u001B[0m: \u001B[2m                  \u001B[0m\n",
       "\u001B[2;36m                    \u001B[0m         \u001B[1;35mnp.float64\u001B[0m\u001B[1m(\u001B[0m\u001B[1;36m0.6567494555906275\u001B[0m\u001B[1m)\u001B[0m\u001B[1m}\u001B[0m                                     \u001B[2m                  \u001B[0m\n",
       "\u001B[2;36m                    \u001B[0m                                                                             \u001B[2m                  \u001B[0m\n"
      ],
      "text/html": [
       "<pre style=\"white-space:pre;overflow-x:auto;line-height:normal;font-family:Menlo,'DejaVu Sans Mono',consolas,'Courier New',monospace\"><span style=\"color: #7fbfbf; text-decoration-color: #7fbfbf\">[04/01/25 13:02:19] </span><span style=\"color: #000080; text-decoration-color: #000080\">INFO    </span>                                                                     <a href=\"file://E:\\Masterarbeit\\ProjectCombined\\rgnn_at_scale\\attacks\\local_prbcd.py\" target=\"_blank\"><span style=\"color: #7f7f7f; text-decoration-color: #7f7f7f\">local_prbcd.py</span></a><span style=\"color: #7f7f7f; text-decoration-color: #7f7f7f\">:</span><a href=\"file://E:\\Masterarbeit\\ProjectCombined\\rgnn_at_scale\\attacks\\local_prbcd.py#118\" target=\"_blank\"><span style=\"color: #7f7f7f; text-decoration-color: #7f7f7f\">118</span></a>\n",
       "<span style=\"color: #7fbfbf; text-decoration-color: #7fbfbf\">                    </span>         Epoch: <span style=\"color: #008080; text-decoration-color: #008080; font-weight: bold\">40</span> Loss: <span style=\"color: #008080; text-decoration-color: #008080; font-weight: bold\">-1.854461431503296</span> Statstics: <span style=\"font-weight: bold\">{</span><span style=\"color: #008000; text-decoration-color: #008000\">'logit_target'</span>:      <span style=\"color: #7f7f7f; text-decoration-color: #7f7f7f\">                  </span>\n",
       "<span style=\"color: #7fbfbf; text-decoration-color: #7fbfbf\">                    </span>         <span style=\"color: #008080; text-decoration-color: #008080; font-weight: bold\">-0.25174352526664734</span>, <span style=\"color: #008000; text-decoration-color: #008000\">'logit_best_non_target'</span>: <span style=\"color: #008080; text-decoration-color: #008080; font-weight: bold\">-2.1144914627075195</span>, <span style=\"color: #7f7f7f; text-decoration-color: #7f7f7f\">                  </span>\n",
       "<span style=\"color: #7fbfbf; text-decoration-color: #7fbfbf\">                    </span>         <span style=\"color: #008000; text-decoration-color: #008000\">'confidence_target'</span>: <span style=\"color: #800080; text-decoration-color: #800080; font-weight: bold\">np.float64</span><span style=\"font-weight: bold\">(</span><span style=\"color: #008080; text-decoration-color: #008080; font-weight: bold\">0.7774441072713808</span><span style=\"font-weight: bold\">)</span>,                <span style=\"color: #7f7f7f; text-decoration-color: #7f7f7f\">                  </span>\n",
       "<span style=\"color: #7fbfbf; text-decoration-color: #7fbfbf\">                    </span>         <span style=\"color: #008000; text-decoration-color: #008000\">'confidence_non_target'</span>: <span style=\"color: #800080; text-decoration-color: #800080; font-weight: bold\">np.float64</span><span style=\"font-weight: bold\">(</span><span style=\"color: #008080; text-decoration-color: #008080; font-weight: bold\">0.12069465168075337</span><span style=\"font-weight: bold\">)</span>, <span style=\"color: #008000; text-decoration-color: #008000\">'margin'</span>: <span style=\"color: #7f7f7f; text-decoration-color: #7f7f7f\">                  </span>\n",
       "<span style=\"color: #7fbfbf; text-decoration-color: #7fbfbf\">                    </span>         <span style=\"color: #800080; text-decoration-color: #800080; font-weight: bold\">np.float64</span><span style=\"font-weight: bold\">(</span><span style=\"color: #008080; text-decoration-color: #008080; font-weight: bold\">0.6567494555906275</span><span style=\"font-weight: bold\">)}</span>                                     <span style=\"color: #7f7f7f; text-decoration-color: #7f7f7f\">                  </span>\n",
       "<span style=\"color: #7fbfbf; text-decoration-color: #7fbfbf\">                    </span>                                                                             <span style=\"color: #7f7f7f; text-decoration-color: #7f7f7f\">                  </span>\n",
       "</pre>\n"
      ]
     },
     "metadata": {},
     "output_type": "display_data"
    },
    {
     "data": {
      "text/plain": [
       "\u001B[2;36m                   \u001B[0m\u001B[2;36m \u001B[0m\u001B[34mINFO    \u001B[0m Gradient mean \u001B[1;36m0.14168690145015717\u001B[0m std \u001B[1;36m0.019508372992277145\u001B[0m with     \u001B]8;id=63505;file://E:\\Masterarbeit\\ProjectCombined\\rgnn_at_scale\\attacks\\local_prbcd.py\u001B\\\u001B[2mlocal_prbcd.py\u001B[0m\u001B]8;;\u001B\\\u001B[2m:\u001B[0m\u001B]8;id=627862;file://E:\\Masterarbeit\\ProjectCombined\\rgnn_at_scale\\attacks\\local_prbcd.py#119\u001B\\\u001B[2m119\u001B[0m\u001B]8;;\u001B\\\n",
       "\u001B[2;36m                    \u001B[0m         base learning rate \u001B[1;36m1.0601886624558858\u001B[0m                               \u001B[2m                  \u001B[0m\n"
      ],
      "text/html": [
       "<pre style=\"white-space:pre;overflow-x:auto;line-height:normal;font-family:Menlo,'DejaVu Sans Mono',consolas,'Courier New',monospace\"><span style=\"color: #7fbfbf; text-decoration-color: #7fbfbf\">                    </span><span style=\"color: #000080; text-decoration-color: #000080\">INFO    </span> Gradient mean <span style=\"color: #008080; text-decoration-color: #008080; font-weight: bold\">0.14168690145015717</span> std <span style=\"color: #008080; text-decoration-color: #008080; font-weight: bold\">0.019508372992277145</span> with     <a href=\"file://E:\\Masterarbeit\\ProjectCombined\\rgnn_at_scale\\attacks\\local_prbcd.py\" target=\"_blank\"><span style=\"color: #7f7f7f; text-decoration-color: #7f7f7f\">local_prbcd.py</span></a><span style=\"color: #7f7f7f; text-decoration-color: #7f7f7f\">:</span><a href=\"file://E:\\Masterarbeit\\ProjectCombined\\rgnn_at_scale\\attacks\\local_prbcd.py#119\" target=\"_blank\"><span style=\"color: #7f7f7f; text-decoration-color: #7f7f7f\">119</span></a>\n",
       "<span style=\"color: #7fbfbf; text-decoration-color: #7fbfbf\">                    </span>         base learning rate <span style=\"color: #008080; text-decoration-color: #008080; font-weight: bold\">1.0601886624558858</span>                               <span style=\"color: #7f7f7f; text-decoration-color: #7f7f7f\">                  </span>\n",
       "</pre>\n"
      ]
     },
     "metadata": {},
     "output_type": "display_data"
    },
    {
     "name": "stderr",
     "output_type": "stream",
     "text": [
      "100%|██████████| 50/50 [00:36<00:00,  1.36it/s]\n"
     ]
    },
    {
     "data": {
      "text/plain": [
       "\u001B[2;36m[04/01/25 13:02:27]\u001B[0m\u001B[2;36m \u001B[0m\u001B[34mINFO    \u001B[0m Evaluated model Vanilla GCN using LocalPRBCD     \u001B]8;id=662451;file://E:\\Masterarbeit\\ProjectCombined\\experiments\\experiment_local_attack_direct.py\u001B\\\u001B[2mexperiment_local_attack_direct.py\u001B[0m\u001B]8;;\u001B\\\u001B[2m:\u001B[0m\u001B]8;id=868518;file://E:\\Masterarbeit\\ProjectCombined\\experiments\\experiment_local_attack_direct.py#194\u001B\\\u001B[2m194\u001B[0m\u001B]8;;\u001B\\\n",
       "\u001B[2;36m                    \u001B[0m         with pert. edges for node \u001B[1;36m834\u001B[0m and budget \u001B[1;36m4\u001B[0m:      \u001B[2m                                     \u001B[0m\n"
      ],
      "text/html": [
       "<pre style=\"white-space:pre;overflow-x:auto;line-height:normal;font-family:Menlo,'DejaVu Sans Mono',consolas,'Courier New',monospace\"><span style=\"color: #7fbfbf; text-decoration-color: #7fbfbf\">[04/01/25 13:02:27] </span><span style=\"color: #000080; text-decoration-color: #000080\">INFO    </span> Evaluated model Vanilla GCN using LocalPRBCD     <a href=\"file://E:\\Masterarbeit\\ProjectCombined\\experiments\\experiment_local_attack_direct.py\" target=\"_blank\"><span style=\"color: #7f7f7f; text-decoration-color: #7f7f7f\">experiment_local_attack_direct.py</span></a><span style=\"color: #7f7f7f; text-decoration-color: #7f7f7f\">:</span><a href=\"file://E:\\Masterarbeit\\ProjectCombined\\experiments\\experiment_local_attack_direct.py#194\" target=\"_blank\"><span style=\"color: #7f7f7f; text-decoration-color: #7f7f7f\">194</span></a>\n",
       "<span style=\"color: #7fbfbf; text-decoration-color: #7fbfbf\">                    </span>         with pert. edges for node <span style=\"color: #008080; text-decoration-color: #008080; font-weight: bold\">834</span> and budget <span style=\"color: #008080; text-decoration-color: #008080; font-weight: bold\">4</span>:      <span style=\"color: #7f7f7f; text-decoration-color: #7f7f7f\">                                     </span>\n",
       "</pre>\n"
      ]
     },
     "metadata": {},
     "output_type": "display_data"
    },
    {
     "data": {
      "text/plain": [
       "\u001B[2;36m                   \u001B[0m\u001B[2;36m \u001B[0m\u001B[34mINFO    \u001B[0m \u001B[1m{\u001B[0m\u001B[32m'label'\u001B[0m: \u001B[32m'Vanilla GCN'\u001B[0m, \u001B[32m'epsilon'\u001B[0m: \u001B[1;36m1\u001B[0m,           \u001B]8;id=430452;file://E:\\Masterarbeit\\ProjectCombined\\experiments\\experiment_local_attack_direct.py\u001B\\\u001B[2mexperiment_local_attack_direct.py\u001B[0m\u001B]8;;\u001B\\\u001B[2m:\u001B[0m\u001B]8;id=501808;file://E:\\Masterarbeit\\ProjectCombined\\experiments\\experiment_local_attack_direct.py#215\u001B\\\u001B[2m215\u001B[0m\u001B]8;;\u001B\\\n",
       "\u001B[2;36m                    \u001B[0m         \u001B[32m'n_perturbations'\u001B[0m: \u001B[1;36m4\u001B[0m, \u001B[32m'degree'\u001B[0m: \u001B[1;36m4\u001B[0m, \u001B[32m'logits'\u001B[0m:     \u001B[2m                                     \u001B[0m\n",
       "\u001B[2;36m                    \u001B[0m         \u001B[1m[\u001B[0m\u001B[1m[\u001B[0m\u001B[1;36m-0.8315818309783936\u001B[0m, \u001B[1;36m-0.6294172406196594\u001B[0m,      \u001B[2m                                     \u001B[0m\n",
       "\u001B[2;36m                    \u001B[0m         \u001B[1;36m-0.9313475489616394\u001B[0m, \u001B[1;36m-0.8464639782905579\u001B[0m,        \u001B[2m                                     \u001B[0m\n",
       "\u001B[2;36m                    \u001B[0m         \u001B[1;36m1.1451414823532104\u001B[0m, \u001B[1;36m-1.55745530128479\u001B[0m,           \u001B[2m                                     \u001B[0m\n",
       "\u001B[2;36m                    \u001B[0m         \u001B[1;36m3.419384479522705\u001B[0m\u001B[1m]\u001B[0m\u001B[1m]\u001B[0m, \u001B[32m'initial_logits'\u001B[0m:           \u001B[2m                                     \u001B[0m\n",
       "\u001B[2;36m                    \u001B[0m         \u001B[1m[\u001B[0m\u001B[1m[\u001B[0m\u001B[1;36m-0.9971190690994263\u001B[0m, \u001B[1;36m-0.4643632173538208\u001B[0m,      \u001B[2m                                     \u001B[0m\n",
       "\u001B[2;36m                    \u001B[0m         \u001B[1;36m-0.5644691586494446\u001B[0m, \u001B[1;36m-0.3773425817489624\u001B[0m,        \u001B[2m                                     \u001B[0m\n",
       "\u001B[2;36m                    \u001B[0m         \u001B[1;36m2.905974864959717\u001B[0m, \u001B[1;36m-1.778262972831726\u001B[0m,           \u001B[2m                                     \u001B[0m\n",
       "\u001B[2;36m                    \u001B[0m         \u001B[1;36m1.051513433456421\u001B[0m\u001B[1m]\u001B[0m\u001B[1m]\u001B[0m, \u001B[32m'larget'\u001B[0m: \u001B[1;36m4\u001B[0m, \u001B[32m'node_id'\u001B[0m:     \u001B[2m                                     \u001B[0m\n",
       "\u001B[2;36m                    \u001B[0m         \u001B[1;36m834\u001B[0m, \u001B[32m'perturbed_edges'\u001B[0m: \u001B[1m[\u001B[0m\u001B[1m[\u001B[0m\u001B[1;36m834\u001B[0m, \u001B[1;36m834\u001B[0m, \u001B[1;36m834\u001B[0m, \u001B[1;36m834\u001B[0m\u001B[1m]\u001B[0m,   \u001B[2m                                     \u001B[0m\n",
       "\u001B[2;36m                    \u001B[0m         \u001B[1m[\u001B[0m\u001B[1;36m26\u001B[0m, \u001B[1;36m31\u001B[0m, \u001B[1;36m36\u001B[0m, \u001B[1;36m117\u001B[0m\u001B[1m]\u001B[0m\u001B[1m]\u001B[0m, \u001B[32m'logit_target'\u001B[0m:              \u001B[2m                                     \u001B[0m\n",
       "\u001B[2;36m                    \u001B[0m         \u001B[1;36m-2.4298794269561768\u001B[0m, \u001B[32m'logit_best_non_target'\u001B[0m:    \u001B[2m                                     \u001B[0m\n",
       "\u001B[2;36m                    \u001B[0m         \u001B[1;36m-0.15563665330410004\u001B[0m, \u001B[32m'confidence_target'\u001B[0m:       \u001B[2m                                     \u001B[0m\n",
       "\u001B[2;36m                    \u001B[0m         \u001B[1;35mnp.float64\u001B[0m\u001B[1m(\u001B[0m\u001B[1;36m0.08804744809120482\u001B[0m\u001B[1m)\u001B[0m,                 \u001B[2m                                     \u001B[0m\n",
       "\u001B[2;36m                    \u001B[0m         \u001B[32m'confidence_non_target'\u001B[0m:                         \u001B[2m                                     \u001B[0m\n",
       "\u001B[2;36m                    \u001B[0m         \u001B[1;35mnp.float64\u001B[0m\u001B[1m(\u001B[0m\u001B[1;36m0.8558701114586409\u001B[0m\u001B[1m)\u001B[0m, \u001B[32m'margin'\u001B[0m:        \u001B[2m                                     \u001B[0m\n",
       "\u001B[2;36m                    \u001B[0m         \u001B[1;35mnp.float64\u001B[0m\u001B[1m(\u001B[0m\u001B[1;36m-0.7678226633674361\u001B[0m\u001B[1m)\u001B[0m,                 \u001B[2m                                     \u001B[0m\n",
       "\u001B[2;36m                    \u001B[0m         \u001B[32m'initial_logit_target'\u001B[0m: \u001B[1;36m-0.2538212537765503\u001B[0m,     \u001B[2m                                     \u001B[0m\n",
       "\u001B[2;36m                    \u001B[0m         \u001B[32m'initial_logit_best_non_target'\u001B[0m:                 \u001B[2m                                     \u001B[0m\n",
       "\u001B[2;36m                    \u001B[0m         \u001B[1;36m-2.1082825660705566\u001B[0m,                             \u001B[2m                                     \u001B[0m\n",
       "\u001B[2;36m                    \u001B[0m         \u001B[32m'initial_confidence_target'\u001B[0m:                     \u001B[2m                                     \u001B[0m\n",
       "\u001B[2;36m                    \u001B[0m         \u001B[1;35mnp.float64\u001B[0m\u001B[1m(\u001B[0m\u001B[1;36m0.77583046641915\u001B[0m\u001B[1m)\u001B[0m,                    \u001B[2m                                     \u001B[0m\n",
       "\u001B[2;36m                    \u001B[0m         \u001B[32m'initial_confidence_non_target'\u001B[0m:                 \u001B[2m                                     \u001B[0m\n",
       "\u001B[2;36m                    \u001B[0m         \u001B[1;35mnp.float64\u001B[0m\u001B[1m(\u001B[0m\u001B[1;36m0.12144636353337258\u001B[0m\u001B[1m)\u001B[0m,                 \u001B[2m                                     \u001B[0m\n",
       "\u001B[2;36m                    \u001B[0m         \u001B[32m'initial_margin'\u001B[0m:                                \u001B[2m                                     \u001B[0m\n",
       "\u001B[2;36m                    \u001B[0m         \u001B[1;35mnp.float64\u001B[0m\u001B[1m(\u001B[0m\u001B[1;36m0.6543841028857774\u001B[0m\u001B[1m)\u001B[0m\u001B[1m}\u001B[0m                  \u001B[2m                                     \u001B[0m\n"
      ],
      "text/html": [
       "<pre style=\"white-space:pre;overflow-x:auto;line-height:normal;font-family:Menlo,'DejaVu Sans Mono',consolas,'Courier New',monospace\"><span style=\"color: #7fbfbf; text-decoration-color: #7fbfbf\">                    </span><span style=\"color: #000080; text-decoration-color: #000080\">INFO    </span> <span style=\"font-weight: bold\">{</span><span style=\"color: #008000; text-decoration-color: #008000\">'label'</span>: <span style=\"color: #008000; text-decoration-color: #008000\">'Vanilla GCN'</span>, <span style=\"color: #008000; text-decoration-color: #008000\">'epsilon'</span>: <span style=\"color: #008080; text-decoration-color: #008080; font-weight: bold\">1</span>,           <a href=\"file://E:\\Masterarbeit\\ProjectCombined\\experiments\\experiment_local_attack_direct.py\" target=\"_blank\"><span style=\"color: #7f7f7f; text-decoration-color: #7f7f7f\">experiment_local_attack_direct.py</span></a><span style=\"color: #7f7f7f; text-decoration-color: #7f7f7f\">:</span><a href=\"file://E:\\Masterarbeit\\ProjectCombined\\experiments\\experiment_local_attack_direct.py#215\" target=\"_blank\"><span style=\"color: #7f7f7f; text-decoration-color: #7f7f7f\">215</span></a>\n",
       "<span style=\"color: #7fbfbf; text-decoration-color: #7fbfbf\">                    </span>         <span style=\"color: #008000; text-decoration-color: #008000\">'n_perturbations'</span>: <span style=\"color: #008080; text-decoration-color: #008080; font-weight: bold\">4</span>, <span style=\"color: #008000; text-decoration-color: #008000\">'degree'</span>: <span style=\"color: #008080; text-decoration-color: #008080; font-weight: bold\">4</span>, <span style=\"color: #008000; text-decoration-color: #008000\">'logits'</span>:     <span style=\"color: #7f7f7f; text-decoration-color: #7f7f7f\">                                     </span>\n",
       "<span style=\"color: #7fbfbf; text-decoration-color: #7fbfbf\">                    </span>         <span style=\"font-weight: bold\">[[</span><span style=\"color: #008080; text-decoration-color: #008080; font-weight: bold\">-0.8315818309783936</span>, <span style=\"color: #008080; text-decoration-color: #008080; font-weight: bold\">-0.6294172406196594</span>,      <span style=\"color: #7f7f7f; text-decoration-color: #7f7f7f\">                                     </span>\n",
       "<span style=\"color: #7fbfbf; text-decoration-color: #7fbfbf\">                    </span>         <span style=\"color: #008080; text-decoration-color: #008080; font-weight: bold\">-0.9313475489616394</span>, <span style=\"color: #008080; text-decoration-color: #008080; font-weight: bold\">-0.8464639782905579</span>,        <span style=\"color: #7f7f7f; text-decoration-color: #7f7f7f\">                                     </span>\n",
       "<span style=\"color: #7fbfbf; text-decoration-color: #7fbfbf\">                    </span>         <span style=\"color: #008080; text-decoration-color: #008080; font-weight: bold\">1.1451414823532104</span>, <span style=\"color: #008080; text-decoration-color: #008080; font-weight: bold\">-1.55745530128479</span>,           <span style=\"color: #7f7f7f; text-decoration-color: #7f7f7f\">                                     </span>\n",
       "<span style=\"color: #7fbfbf; text-decoration-color: #7fbfbf\">                    </span>         <span style=\"color: #008080; text-decoration-color: #008080; font-weight: bold\">3.419384479522705</span><span style=\"font-weight: bold\">]]</span>, <span style=\"color: #008000; text-decoration-color: #008000\">'initial_logits'</span>:           <span style=\"color: #7f7f7f; text-decoration-color: #7f7f7f\">                                     </span>\n",
       "<span style=\"color: #7fbfbf; text-decoration-color: #7fbfbf\">                    </span>         <span style=\"font-weight: bold\">[[</span><span style=\"color: #008080; text-decoration-color: #008080; font-weight: bold\">-0.9971190690994263</span>, <span style=\"color: #008080; text-decoration-color: #008080; font-weight: bold\">-0.4643632173538208</span>,      <span style=\"color: #7f7f7f; text-decoration-color: #7f7f7f\">                                     </span>\n",
       "<span style=\"color: #7fbfbf; text-decoration-color: #7fbfbf\">                    </span>         <span style=\"color: #008080; text-decoration-color: #008080; font-weight: bold\">-0.5644691586494446</span>, <span style=\"color: #008080; text-decoration-color: #008080; font-weight: bold\">-0.3773425817489624</span>,        <span style=\"color: #7f7f7f; text-decoration-color: #7f7f7f\">                                     </span>\n",
       "<span style=\"color: #7fbfbf; text-decoration-color: #7fbfbf\">                    </span>         <span style=\"color: #008080; text-decoration-color: #008080; font-weight: bold\">2.905974864959717</span>, <span style=\"color: #008080; text-decoration-color: #008080; font-weight: bold\">-1.778262972831726</span>,           <span style=\"color: #7f7f7f; text-decoration-color: #7f7f7f\">                                     </span>\n",
       "<span style=\"color: #7fbfbf; text-decoration-color: #7fbfbf\">                    </span>         <span style=\"color: #008080; text-decoration-color: #008080; font-weight: bold\">1.051513433456421</span><span style=\"font-weight: bold\">]]</span>, <span style=\"color: #008000; text-decoration-color: #008000\">'larget'</span>: <span style=\"color: #008080; text-decoration-color: #008080; font-weight: bold\">4</span>, <span style=\"color: #008000; text-decoration-color: #008000\">'node_id'</span>:     <span style=\"color: #7f7f7f; text-decoration-color: #7f7f7f\">                                     </span>\n",
       "<span style=\"color: #7fbfbf; text-decoration-color: #7fbfbf\">                    </span>         <span style=\"color: #008080; text-decoration-color: #008080; font-weight: bold\">834</span>, <span style=\"color: #008000; text-decoration-color: #008000\">'perturbed_edges'</span>: <span style=\"font-weight: bold\">[[</span><span style=\"color: #008080; text-decoration-color: #008080; font-weight: bold\">834</span>, <span style=\"color: #008080; text-decoration-color: #008080; font-weight: bold\">834</span>, <span style=\"color: #008080; text-decoration-color: #008080; font-weight: bold\">834</span>, <span style=\"color: #008080; text-decoration-color: #008080; font-weight: bold\">834</span><span style=\"font-weight: bold\">]</span>,   <span style=\"color: #7f7f7f; text-decoration-color: #7f7f7f\">                                     </span>\n",
       "<span style=\"color: #7fbfbf; text-decoration-color: #7fbfbf\">                    </span>         <span style=\"font-weight: bold\">[</span><span style=\"color: #008080; text-decoration-color: #008080; font-weight: bold\">26</span>, <span style=\"color: #008080; text-decoration-color: #008080; font-weight: bold\">31</span>, <span style=\"color: #008080; text-decoration-color: #008080; font-weight: bold\">36</span>, <span style=\"color: #008080; text-decoration-color: #008080; font-weight: bold\">117</span><span style=\"font-weight: bold\">]]</span>, <span style=\"color: #008000; text-decoration-color: #008000\">'logit_target'</span>:              <span style=\"color: #7f7f7f; text-decoration-color: #7f7f7f\">                                     </span>\n",
       "<span style=\"color: #7fbfbf; text-decoration-color: #7fbfbf\">                    </span>         <span style=\"color: #008080; text-decoration-color: #008080; font-weight: bold\">-2.4298794269561768</span>, <span style=\"color: #008000; text-decoration-color: #008000\">'logit_best_non_target'</span>:    <span style=\"color: #7f7f7f; text-decoration-color: #7f7f7f\">                                     </span>\n",
       "<span style=\"color: #7fbfbf; text-decoration-color: #7fbfbf\">                    </span>         <span style=\"color: #008080; text-decoration-color: #008080; font-weight: bold\">-0.15563665330410004</span>, <span style=\"color: #008000; text-decoration-color: #008000\">'confidence_target'</span>:       <span style=\"color: #7f7f7f; text-decoration-color: #7f7f7f\">                                     </span>\n",
       "<span style=\"color: #7fbfbf; text-decoration-color: #7fbfbf\">                    </span>         <span style=\"color: #800080; text-decoration-color: #800080; font-weight: bold\">np.float64</span><span style=\"font-weight: bold\">(</span><span style=\"color: #008080; text-decoration-color: #008080; font-weight: bold\">0.08804744809120482</span><span style=\"font-weight: bold\">)</span>,                 <span style=\"color: #7f7f7f; text-decoration-color: #7f7f7f\">                                     </span>\n",
       "<span style=\"color: #7fbfbf; text-decoration-color: #7fbfbf\">                    </span>         <span style=\"color: #008000; text-decoration-color: #008000\">'confidence_non_target'</span>:                         <span style=\"color: #7f7f7f; text-decoration-color: #7f7f7f\">                                     </span>\n",
       "<span style=\"color: #7fbfbf; text-decoration-color: #7fbfbf\">                    </span>         <span style=\"color: #800080; text-decoration-color: #800080; font-weight: bold\">np.float64</span><span style=\"font-weight: bold\">(</span><span style=\"color: #008080; text-decoration-color: #008080; font-weight: bold\">0.8558701114586409</span><span style=\"font-weight: bold\">)</span>, <span style=\"color: #008000; text-decoration-color: #008000\">'margin'</span>:        <span style=\"color: #7f7f7f; text-decoration-color: #7f7f7f\">                                     </span>\n",
       "<span style=\"color: #7fbfbf; text-decoration-color: #7fbfbf\">                    </span>         <span style=\"color: #800080; text-decoration-color: #800080; font-weight: bold\">np.float64</span><span style=\"font-weight: bold\">(</span><span style=\"color: #008080; text-decoration-color: #008080; font-weight: bold\">-0.7678226633674361</span><span style=\"font-weight: bold\">)</span>,                 <span style=\"color: #7f7f7f; text-decoration-color: #7f7f7f\">                                     </span>\n",
       "<span style=\"color: #7fbfbf; text-decoration-color: #7fbfbf\">                    </span>         <span style=\"color: #008000; text-decoration-color: #008000\">'initial_logit_target'</span>: <span style=\"color: #008080; text-decoration-color: #008080; font-weight: bold\">-0.2538212537765503</span>,     <span style=\"color: #7f7f7f; text-decoration-color: #7f7f7f\">                                     </span>\n",
       "<span style=\"color: #7fbfbf; text-decoration-color: #7fbfbf\">                    </span>         <span style=\"color: #008000; text-decoration-color: #008000\">'initial_logit_best_non_target'</span>:                 <span style=\"color: #7f7f7f; text-decoration-color: #7f7f7f\">                                     </span>\n",
       "<span style=\"color: #7fbfbf; text-decoration-color: #7fbfbf\">                    </span>         <span style=\"color: #008080; text-decoration-color: #008080; font-weight: bold\">-2.1082825660705566</span>,                             <span style=\"color: #7f7f7f; text-decoration-color: #7f7f7f\">                                     </span>\n",
       "<span style=\"color: #7fbfbf; text-decoration-color: #7fbfbf\">                    </span>         <span style=\"color: #008000; text-decoration-color: #008000\">'initial_confidence_target'</span>:                     <span style=\"color: #7f7f7f; text-decoration-color: #7f7f7f\">                                     </span>\n",
       "<span style=\"color: #7fbfbf; text-decoration-color: #7fbfbf\">                    </span>         <span style=\"color: #800080; text-decoration-color: #800080; font-weight: bold\">np.float64</span><span style=\"font-weight: bold\">(</span><span style=\"color: #008080; text-decoration-color: #008080; font-weight: bold\">0.77583046641915</span><span style=\"font-weight: bold\">)</span>,                    <span style=\"color: #7f7f7f; text-decoration-color: #7f7f7f\">                                     </span>\n",
       "<span style=\"color: #7fbfbf; text-decoration-color: #7fbfbf\">                    </span>         <span style=\"color: #008000; text-decoration-color: #008000\">'initial_confidence_non_target'</span>:                 <span style=\"color: #7f7f7f; text-decoration-color: #7f7f7f\">                                     </span>\n",
       "<span style=\"color: #7fbfbf; text-decoration-color: #7fbfbf\">                    </span>         <span style=\"color: #800080; text-decoration-color: #800080; font-weight: bold\">np.float64</span><span style=\"font-weight: bold\">(</span><span style=\"color: #008080; text-decoration-color: #008080; font-weight: bold\">0.12144636353337258</span><span style=\"font-weight: bold\">)</span>,                 <span style=\"color: #7f7f7f; text-decoration-color: #7f7f7f\">                                     </span>\n",
       "<span style=\"color: #7fbfbf; text-decoration-color: #7fbfbf\">                    </span>         <span style=\"color: #008000; text-decoration-color: #008000\">'initial_margin'</span>:                                <span style=\"color: #7f7f7f; text-decoration-color: #7f7f7f\">                                     </span>\n",
       "<span style=\"color: #7fbfbf; text-decoration-color: #7fbfbf\">                    </span>         <span style=\"color: #800080; text-decoration-color: #800080; font-weight: bold\">np.float64</span><span style=\"font-weight: bold\">(</span><span style=\"color: #008080; text-decoration-color: #008080; font-weight: bold\">0.6543841028857774</span><span style=\"font-weight: bold\">)}</span>                  <span style=\"color: #7f7f7f; text-decoration-color: #7f7f7f\">                                     </span>\n",
       "</pre>\n"
      ]
     },
     "metadata": {},
     "output_type": "display_data"
    },
    {
     "data": {
      "text/plain": [
       "\u001B[2;36m                   \u001B[0m\u001B[2;36m \u001B[0m\u001B[34mINFO    \u001B[0m Completed attack and evaluation of Vanilla GCN   \u001B]8;id=84490;file://E:\\Masterarbeit\\ProjectCombined\\experiments\\experiment_local_attack_direct.py\u001B\\\u001B[2mexperiment_local_attack_direct.py\u001B[0m\u001B]8;;\u001B\\\u001B[2m:\u001B[0m\u001B]8;id=60273;file://E:\\Masterarbeit\\ProjectCombined\\experiments\\experiment_local_attack_direct.py#216\u001B\\\u001B[2m216\u001B[0m\u001B]8;;\u001B\\\n",
       "\u001B[2;36m                    \u001B[0m         using LocalPRBCD with pert. edges for node \u001B[1;36m834\u001B[0m   \u001B[2m                                     \u001B[0m\n",
       "\u001B[2;36m                    \u001B[0m         and budget \u001B[1;36m4\u001B[0m                                     \u001B[2m                                     \u001B[0m\n"
      ],
      "text/html": [
       "<pre style=\"white-space:pre;overflow-x:auto;line-height:normal;font-family:Menlo,'DejaVu Sans Mono',consolas,'Courier New',monospace\"><span style=\"color: #7fbfbf; text-decoration-color: #7fbfbf\">                    </span><span style=\"color: #000080; text-decoration-color: #000080\">INFO    </span> Completed attack and evaluation of Vanilla GCN   <a href=\"file://E:\\Masterarbeit\\ProjectCombined\\experiments\\experiment_local_attack_direct.py\" target=\"_blank\"><span style=\"color: #7f7f7f; text-decoration-color: #7f7f7f\">experiment_local_attack_direct.py</span></a><span style=\"color: #7f7f7f; text-decoration-color: #7f7f7f\">:</span><a href=\"file://E:\\Masterarbeit\\ProjectCombined\\experiments\\experiment_local_attack_direct.py#216\" target=\"_blank\"><span style=\"color: #7f7f7f; text-decoration-color: #7f7f7f\">216</span></a>\n",
       "<span style=\"color: #7fbfbf; text-decoration-color: #7fbfbf\">                    </span>         using LocalPRBCD with pert. edges for node <span style=\"color: #008080; text-decoration-color: #008080; font-weight: bold\">834</span>   <span style=\"color: #7f7f7f; text-decoration-color: #7f7f7f\">                                     </span>\n",
       "<span style=\"color: #7fbfbf; text-decoration-color: #7fbfbf\">                    </span>         and budget <span style=\"color: #008080; text-decoration-color: #008080; font-weight: bold\">4</span>                                     <span style=\"color: #7f7f7f; text-decoration-color: #7f7f7f\">                                     </span>\n",
       "</pre>\n"
      ]
     },
     "metadata": {},
     "output_type": "display_data"
    }
   ],
   "execution_count": 20
  },
  {
   "cell_type": "code",
   "source": [
    "n_change = 0\n",
    "for node in local_prbcd_statistics['results']:\n",
    "    if node['margin'] < 0:\n",
    "        n_change += 1\n",
    "flipped_ratio =  n_change / len(local_prbcd_statistics['results'])\n",
    "print(f'Percentage of changed node predictions : {100*flipped_ratio:.2f}%')"
   ],
   "metadata": {
    "colab": {
     "base_uri": "https://localhost:8080/"
    },
    "id": "Saio7dZwlulQ",
    "outputId": "8dd69aa3-53c7-4dc7-9d5a-e7294d7ec13b",
    "ExecuteTime": {
     "end_time": "2025-04-01T11:03:33.414227Z",
     "start_time": "2025-04-01T11:03:32.979686Z"
    }
   },
   "outputs": [
    {
     "name": "stdout",
     "output_type": "stream",
     "text": [
      "Percentage of changed node predictions : 50.00%\n"
     ]
    }
   ],
   "execution_count": 21
  },
  {
   "metadata": {
    "ExecuteTime": {
     "end_time": "2025-04-01T11:03:35.019793Z",
     "start_time": "2025-04-01T11:03:34.629920Z"
    }
   },
   "cell_type": "code",
   "source": [
    "n_change = 0\n",
    "for node in local_prbcd_statistics_cert['results']:\n",
    "    if node['margin'] < 0:\n",
    "        n_change += 1\n",
    "flipped_ratio_cert =  n_change / len(local_prbcd_statistics_cert['results'])\n",
    "print(f'Percentage of changed node predictions for init with cert : {100*flipped_ratio_cert:.2f}%')"
   ],
   "outputs": [
    {
     "name": "stdout",
     "output_type": "stream",
     "text": [
      "Percentage of changed node predictions for init with cert : 50.00%\n"
     ]
    }
   ],
   "execution_count": 22
  },
  {
   "cell_type": "markdown",
   "source": [
    "### 2.2 Global PR-BCD Attack with Cert\n",
    "\n",
    "Now let's do the same with a non-local `PR-BCD` attack. For this, we use [experiments/experiment_global_attack_direct.py](https://github.com/sigeisler/robustness_of_gnns_at_scale/blob/main/experiments/experiment_global_attack_direct.py#L63)."
   ],
   "metadata": {
    "id": "UMtpxI6cCkwz"
   }
  },
  {
   "cell_type": "code",
   "execution_count": 27,
   "outputs": [
    {
     "name": "stdout",
     "output_type": "stream",
     "text": [
      "Deleted file: cache\\evasion_global_adj.json\n",
      "Deleted file: cache\\evasion_global_attr.json\n",
      "Not found: cache\\evasion_global_adj\n",
      "Not found: cache\\evasion_global_attr\n"
     ]
    },
    {
     "data": {
      "text/plain": "\u001B[2;36m[04/15/25 14:17:19]\u001B[0m\u001B[2;36m \u001B[0m\u001B[34mINFO    \u001B[0m \u001B[1m{\u001B[0m\u001B[32m'dataset'\u001B[0m: \u001B[32m'cora_ml'\u001B[0m, \u001B[32m'attack'\u001B[0m: \u001B[32m'PRBCD'\u001B[0m, \u001B[32m'attack_params'\u001B[0m: \u001B[1m{\u001B[0m\u001B[32m'epochs'\u001B[0m: \u001B[1;36m50\u001B[0m, \u001B]8;id=144276;file://C:\\Users\\kyawk\\Desktop\\robustness_of_gnns_at_scale-main\\experiments\\common.py\u001B\\\u001B[2mcommon.py\u001B[0m\u001B]8;;\u001B\\\u001B[2m:\u001B[0m\u001B]8;id=397199;file://C:\\Users\\kyawk\\Desktop\\robustness_of_gnns_at_scale-main\\experiments\\common.py#38\u001B\\\u001B[2m38\u001B[0m\u001B]8;;\u001B\\\n\u001B[2;36m                    \u001B[0m         \u001B[32m'fine_tune_epochs'\u001B[0m: \u001B[1;36m10\u001B[0m, \u001B[32m'keep_heuristic'\u001B[0m: \u001B[32m'WeightOnly'\u001B[0m,                   \u001B[2m            \u001B[0m\n\u001B[2;36m                    \u001B[0m         \u001B[32m'search_space_size'\u001B[0m: \u001B[1;36m100000\u001B[0m, \u001B[32m'block_size'\u001B[0m: \u001B[1;36m2000\u001B[0m, \u001B[32m'do_synchronize'\u001B[0m: \u001B[3;92mTrue\u001B[0m,  \u001B[2m            \u001B[0m\n\u001B[2;36m                    \u001B[0m         \u001B[32m'loss_type'\u001B[0m: \u001B[32m'tanhMargin'\u001B[0m\u001B[1m}\u001B[0m, \u001B[32m'epsilons'\u001B[0m: \u001B[1m[\u001B[0m\u001B[1;36m0.25\u001B[0m\u001B[1m]\u001B[0m, \u001B[32m'make_undirected'\u001B[0m: \u001B[3;92mTrue\u001B[0m,  \u001B[2m            \u001B[0m\n\u001B[2;36m                    \u001B[0m         \u001B[32m'binary_attr'\u001B[0m: \u001B[3;91mFalse\u001B[0m, \u001B[32m'seed'\u001B[0m: \u001B[1;36m0\u001B[0m, \u001B[32m'artifact_dir'\u001B[0m: \u001B[32m'cache'\u001B[0m,                 \u001B[2m            \u001B[0m\n\u001B[2;36m                    \u001B[0m         \u001B[32m'pert_adj_storage_type'\u001B[0m: \u001B[32m'evasion_global_adj'\u001B[0m, \u001B[32m'pert_attr_storage_type'\u001B[0m:  \u001B[2m            \u001B[0m\n\u001B[2;36m                    \u001B[0m         \u001B[32m'evasion_global_attr'\u001B[0m, \u001B[32m'model_label'\u001B[0m: \u001B[32m'Vanilla GCN'\u001B[0m,                      \u001B[2m            \u001B[0m\n\u001B[2;36m                    \u001B[0m         \u001B[32m'model_storage_type'\u001B[0m: \u001B[32m'demo'\u001B[0m, \u001B[32m'device'\u001B[0m: \u001B[32m'cpu'\u001B[0m, \u001B[32m'data_device'\u001B[0m: \u001B[32m'cpu'\u001B[0m\u001B[1m}\u001B[0m      \u001B[2m            \u001B[0m\n",
      "text/html": "<pre style=\"white-space:pre;overflow-x:auto;line-height:normal;font-family:Menlo,'DejaVu Sans Mono',consolas,'Courier New',monospace\"><span style=\"color: #7fbfbf; text-decoration-color: #7fbfbf\">[04/15/25 14:17:19] </span><span style=\"color: #000080; text-decoration-color: #000080\">INFO    </span> <span style=\"font-weight: bold\">{</span><span style=\"color: #008000; text-decoration-color: #008000\">'dataset'</span>: <span style=\"color: #008000; text-decoration-color: #008000\">'cora_ml'</span>, <span style=\"color: #008000; text-decoration-color: #008000\">'attack'</span>: <span style=\"color: #008000; text-decoration-color: #008000\">'PRBCD'</span>, <span style=\"color: #008000; text-decoration-color: #008000\">'attack_params'</span>: <span style=\"font-weight: bold\">{</span><span style=\"color: #008000; text-decoration-color: #008000\">'epochs'</span>: <span style=\"color: #008080; text-decoration-color: #008080; font-weight: bold\">50</span>, <a href=\"file://C:\\Users\\kyawk\\Desktop\\robustness_of_gnns_at_scale-main\\experiments\\common.py\" target=\"_blank\"><span style=\"color: #7f7f7f; text-decoration-color: #7f7f7f\">common.py</span></a><span style=\"color: #7f7f7f; text-decoration-color: #7f7f7f\">:</span><a href=\"file://C:\\Users\\kyawk\\Desktop\\robustness_of_gnns_at_scale-main\\experiments\\common.py#38\" target=\"_blank\"><span style=\"color: #7f7f7f; text-decoration-color: #7f7f7f\">38</span></a>\n<span style=\"color: #7fbfbf; text-decoration-color: #7fbfbf\">                    </span>         <span style=\"color: #008000; text-decoration-color: #008000\">'fine_tune_epochs'</span>: <span style=\"color: #008080; text-decoration-color: #008080; font-weight: bold\">10</span>, <span style=\"color: #008000; text-decoration-color: #008000\">'keep_heuristic'</span>: <span style=\"color: #008000; text-decoration-color: #008000\">'WeightOnly'</span>,                   <span style=\"color: #7f7f7f; text-decoration-color: #7f7f7f\">            </span>\n<span style=\"color: #7fbfbf; text-decoration-color: #7fbfbf\">                    </span>         <span style=\"color: #008000; text-decoration-color: #008000\">'search_space_size'</span>: <span style=\"color: #008080; text-decoration-color: #008080; font-weight: bold\">100000</span>, <span style=\"color: #008000; text-decoration-color: #008000\">'block_size'</span>: <span style=\"color: #008080; text-decoration-color: #008080; font-weight: bold\">2000</span>, <span style=\"color: #008000; text-decoration-color: #008000\">'do_synchronize'</span>: <span style=\"color: #00ff00; text-decoration-color: #00ff00; font-style: italic\">True</span>,  <span style=\"color: #7f7f7f; text-decoration-color: #7f7f7f\">            </span>\n<span style=\"color: #7fbfbf; text-decoration-color: #7fbfbf\">                    </span>         <span style=\"color: #008000; text-decoration-color: #008000\">'loss_type'</span>: <span style=\"color: #008000; text-decoration-color: #008000\">'tanhMargin'</span><span style=\"font-weight: bold\">}</span>, <span style=\"color: #008000; text-decoration-color: #008000\">'epsilons'</span>: <span style=\"font-weight: bold\">[</span><span style=\"color: #008080; text-decoration-color: #008080; font-weight: bold\">0.25</span><span style=\"font-weight: bold\">]</span>, <span style=\"color: #008000; text-decoration-color: #008000\">'make_undirected'</span>: <span style=\"color: #00ff00; text-decoration-color: #00ff00; font-style: italic\">True</span>,  <span style=\"color: #7f7f7f; text-decoration-color: #7f7f7f\">            </span>\n<span style=\"color: #7fbfbf; text-decoration-color: #7fbfbf\">                    </span>         <span style=\"color: #008000; text-decoration-color: #008000\">'binary_attr'</span>: <span style=\"color: #ff0000; text-decoration-color: #ff0000; font-style: italic\">False</span>, <span style=\"color: #008000; text-decoration-color: #008000\">'seed'</span>: <span style=\"color: #008080; text-decoration-color: #008080; font-weight: bold\">0</span>, <span style=\"color: #008000; text-decoration-color: #008000\">'artifact_dir'</span>: <span style=\"color: #008000; text-decoration-color: #008000\">'cache'</span>,                 <span style=\"color: #7f7f7f; text-decoration-color: #7f7f7f\">            </span>\n<span style=\"color: #7fbfbf; text-decoration-color: #7fbfbf\">                    </span>         <span style=\"color: #008000; text-decoration-color: #008000\">'pert_adj_storage_type'</span>: <span style=\"color: #008000; text-decoration-color: #008000\">'evasion_global_adj'</span>, <span style=\"color: #008000; text-decoration-color: #008000\">'pert_attr_storage_type'</span>:  <span style=\"color: #7f7f7f; text-decoration-color: #7f7f7f\">            </span>\n<span style=\"color: #7fbfbf; text-decoration-color: #7fbfbf\">                    </span>         <span style=\"color: #008000; text-decoration-color: #008000\">'evasion_global_attr'</span>, <span style=\"color: #008000; text-decoration-color: #008000\">'model_label'</span>: <span style=\"color: #008000; text-decoration-color: #008000\">'Vanilla GCN'</span>,                      <span style=\"color: #7f7f7f; text-decoration-color: #7f7f7f\">            </span>\n<span style=\"color: #7fbfbf; text-decoration-color: #7fbfbf\">                    </span>         <span style=\"color: #008000; text-decoration-color: #008000\">'model_storage_type'</span>: <span style=\"color: #008000; text-decoration-color: #008000\">'demo'</span>, <span style=\"color: #008000; text-decoration-color: #008000\">'device'</span>: <span style=\"color: #008000; text-decoration-color: #008000\">'cpu'</span>, <span style=\"color: #008000; text-decoration-color: #008000\">'data_device'</span>: <span style=\"color: #008000; text-decoration-color: #008000\">'cpu'</span><span style=\"font-weight: bold\">}</span>      <span style=\"color: #7f7f7f; text-decoration-color: #7f7f7f\">            </span>\n</pre>\n"
     },
     "metadata": {},
     "output_type": "display_data"
    },
    {
     "data": {
      "text/plain": "\u001B[2;36m[04/15/25 14:17:20]\u001B[0m\u001B[2;36m \u001B[0m\u001B[34mINFO    \u001B[0m Lock \u001B[1;36m2548015872272\u001B[0m acquired on cache\\demo.json.lock                    \u001B]8;id=406565;file://C:\\Users\\kyawk\\anaconda3\\envs\\Masterarbeit_2_0\\Lib\\site-packages\\filelock.py\u001B\\\u001B[2mfilelock.py\u001B[0m\u001B]8;;\u001B\\\u001B[2m:\u001B[0m\u001B]8;id=626594;file://C:\\Users\\kyawk\\anaconda3\\envs\\Masterarbeit_2_0\\Lib\\site-packages\\filelock.py#274\u001B\\\u001B[2m274\u001B[0m\u001B]8;;\u001B\\\n",
      "text/html": "<pre style=\"white-space:pre;overflow-x:auto;line-height:normal;font-family:Menlo,'DejaVu Sans Mono',consolas,'Courier New',monospace\"><span style=\"color: #7fbfbf; text-decoration-color: #7fbfbf\">[04/15/25 14:17:20] </span><span style=\"color: #000080; text-decoration-color: #000080\">INFO    </span> Lock <span style=\"color: #008080; text-decoration-color: #008080; font-weight: bold\">2548015872272</span> acquired on cache\\demo.json.lock                    <a href=\"file://C:\\Users\\kyawk\\anaconda3\\envs\\Masterarbeit_2_0\\Lib\\site-packages\\filelock.py\" target=\"_blank\"><span style=\"color: #7f7f7f; text-decoration-color: #7f7f7f\">filelock.py</span></a><span style=\"color: #7f7f7f; text-decoration-color: #7f7f7f\">:</span><a href=\"file://C:\\Users\\kyawk\\anaconda3\\envs\\Masterarbeit_2_0\\Lib\\site-packages\\filelock.py#274\" target=\"_blank\"><span style=\"color: #7f7f7f; text-decoration-color: #7f7f7f\">274</span></a>\n</pre>\n"
     },
     "metadata": {},
     "output_type": "display_data"
    },
    {
     "data": {
      "text/plain": "\u001B[2;36m                   \u001B[0m\u001B[2;36m \u001B[0m\u001B[34mINFO    \u001B[0m Lock \u001B[1;36m2548015872272\u001B[0m released on cache\\demo.json.lock                    \u001B]8;id=413650;file://C:\\Users\\kyawk\\anaconda3\\envs\\Masterarbeit_2_0\\Lib\\site-packages\\filelock.py\u001B\\\u001B[2mfilelock.py\u001B[0m\u001B]8;;\u001B\\\u001B[2m:\u001B[0m\u001B]8;id=119098;file://C:\\Users\\kyawk\\anaconda3\\envs\\Masterarbeit_2_0\\Lib\\site-packages\\filelock.py#318\u001B\\\u001B[2m318\u001B[0m\u001B]8;;\u001B\\\n",
      "text/html": "<pre style=\"white-space:pre;overflow-x:auto;line-height:normal;font-family:Menlo,'DejaVu Sans Mono',consolas,'Courier New',monospace\"><span style=\"color: #7fbfbf; text-decoration-color: #7fbfbf\">                    </span><span style=\"color: #000080; text-decoration-color: #000080\">INFO    </span> Lock <span style=\"color: #008080; text-decoration-color: #008080; font-weight: bold\">2548015872272</span> released on cache\\demo.json.lock                    <a href=\"file://C:\\Users\\kyawk\\anaconda3\\envs\\Masterarbeit_2_0\\Lib\\site-packages\\filelock.py\" target=\"_blank\"><span style=\"color: #7f7f7f; text-decoration-color: #7f7f7f\">filelock.py</span></a><span style=\"color: #7f7f7f; text-decoration-color: #7f7f7f\">:</span><a href=\"file://C:\\Users\\kyawk\\anaconda3\\envs\\Masterarbeit_2_0\\Lib\\site-packages\\filelock.py#318\" target=\"_blank\"><span style=\"color: #7f7f7f; text-decoration-color: #7f7f7f\">318</span></a>\n</pre>\n"
     },
     "metadata": {},
     "output_type": "display_data"
    },
    {
     "data": {
      "text/plain": "\u001B[2;36m                   \u001B[0m\u001B[2;36m \u001B[0m\u001B[34mINFO    \u001B[0m Evaluate  PRBCD for model \u001B[32m'Vanilla GCN'\u001B[0m.        \u001B]8;id=786947;file://C:\\Users\\kyawk\\Desktop\\robustness_of_gnns_at_scale-main\\experiments\\experiment_global_attack_direct.py\u001B\\\u001B[2mexperiment_global_attack_direct.py\u001B[0m\u001B]8;;\u001B\\\u001B[2m:\u001B[0m\u001B]8;id=37;file://C:\\Users\\kyawk\\Desktop\\robustness_of_gnns_at_scale-main\\experiments\\experiment_global_attack_direct.py#139\u001B\\\u001B[2m139\u001B[0m\u001B]8;;\u001B\\\n",
      "text/html": "<pre style=\"white-space:pre;overflow-x:auto;line-height:normal;font-family:Menlo,'DejaVu Sans Mono',consolas,'Courier New',monospace\"><span style=\"color: #7fbfbf; text-decoration-color: #7fbfbf\">                    </span><span style=\"color: #000080; text-decoration-color: #000080\">INFO    </span> Evaluate  PRBCD for model <span style=\"color: #008000; text-decoration-color: #008000\">'Vanilla GCN'</span>.        <a href=\"file://C:\\Users\\kyawk\\Desktop\\robustness_of_gnns_at_scale-main\\experiments\\experiment_global_attack_direct.py\" target=\"_blank\"><span style=\"color: #7f7f7f; text-decoration-color: #7f7f7f\">experiment_global_attack_direct.py</span></a><span style=\"color: #7f7f7f; text-decoration-color: #7f7f7f\">:</span><a href=\"file://C:\\Users\\kyawk\\Desktop\\robustness_of_gnns_at_scale-main\\experiments\\experiment_global_attack_direct.py#139\" target=\"_blank\"><span style=\"color: #7f7f7f; text-decoration-color: #7f7f7f\">139</span></a>\n</pre>\n"
     },
     "metadata": {},
     "output_type": "display_data"
    },
    {
     "data": {
      "text/plain": "\u001B[2;36m                   \u001B[0m\u001B[2;36m \u001B[0m\u001B[34mINFO    \u001B[0m Lock \u001B[1;36m2548052274448\u001B[0m acquired on cache\\evasion_global_adj.json.lock      \u001B]8;id=100434;file://C:\\Users\\kyawk\\anaconda3\\envs\\Masterarbeit_2_0\\Lib\\site-packages\\filelock.py\u001B\\\u001B[2mfilelock.py\u001B[0m\u001B]8;;\u001B\\\u001B[2m:\u001B[0m\u001B]8;id=870859;file://C:\\Users\\kyawk\\anaconda3\\envs\\Masterarbeit_2_0\\Lib\\site-packages\\filelock.py#274\u001B\\\u001B[2m274\u001B[0m\u001B]8;;\u001B\\\n",
      "text/html": "<pre style=\"white-space:pre;overflow-x:auto;line-height:normal;font-family:Menlo,'DejaVu Sans Mono',consolas,'Courier New',monospace\"><span style=\"color: #7fbfbf; text-decoration-color: #7fbfbf\">                    </span><span style=\"color: #000080; text-decoration-color: #000080\">INFO    </span> Lock <span style=\"color: #008080; text-decoration-color: #008080; font-weight: bold\">2548052274448</span> acquired on cache\\evasion_global_adj.json.lock      <a href=\"file://C:\\Users\\kyawk\\anaconda3\\envs\\Masterarbeit_2_0\\Lib\\site-packages\\filelock.py\" target=\"_blank\"><span style=\"color: #7f7f7f; text-decoration-color: #7f7f7f\">filelock.py</span></a><span style=\"color: #7f7f7f; text-decoration-color: #7f7f7f\">:</span><a href=\"file://C:\\Users\\kyawk\\anaconda3\\envs\\Masterarbeit_2_0\\Lib\\site-packages\\filelock.py#274\" target=\"_blank\"><span style=\"color: #7f7f7f; text-decoration-color: #7f7f7f\">274</span></a>\n</pre>\n"
     },
     "metadata": {},
     "output_type": "display_data"
    },
    {
     "data": {
      "text/plain": "\u001B[2;36m                   \u001B[0m\u001B[2;36m \u001B[0m\u001B[34mINFO    \u001B[0m Lock \u001B[1;36m2548052274448\u001B[0m released on cache\\evasion_global_adj.json.lock      \u001B]8;id=397897;file://C:\\Users\\kyawk\\anaconda3\\envs\\Masterarbeit_2_0\\Lib\\site-packages\\filelock.py\u001B\\\u001B[2mfilelock.py\u001B[0m\u001B]8;;\u001B\\\u001B[2m:\u001B[0m\u001B]8;id=116993;file://C:\\Users\\kyawk\\anaconda3\\envs\\Masterarbeit_2_0\\Lib\\site-packages\\filelock.py#318\u001B\\\u001B[2m318\u001B[0m\u001B]8;;\u001B\\\n",
      "text/html": "<pre style=\"white-space:pre;overflow-x:auto;line-height:normal;font-family:Menlo,'DejaVu Sans Mono',consolas,'Courier New',monospace\"><span style=\"color: #7fbfbf; text-decoration-color: #7fbfbf\">                    </span><span style=\"color: #000080; text-decoration-color: #000080\">INFO    </span> Lock <span style=\"color: #008080; text-decoration-color: #008080; font-weight: bold\">2548052274448</span> released on cache\\evasion_global_adj.json.lock      <a href=\"file://C:\\Users\\kyawk\\anaconda3\\envs\\Masterarbeit_2_0\\Lib\\site-packages\\filelock.py\" target=\"_blank\"><span style=\"color: #7f7f7f; text-decoration-color: #7f7f7f\">filelock.py</span></a><span style=\"color: #7f7f7f; text-decoration-color: #7f7f7f\">:</span><a href=\"file://C:\\Users\\kyawk\\anaconda3\\envs\\Masterarbeit_2_0\\Lib\\site-packages\\filelock.py#318\" target=\"_blank\"><span style=\"color: #7f7f7f; text-decoration-color: #7f7f7f\">318</span></a>\n</pre>\n"
     },
     "metadata": {},
     "output_type": "display_data"
    },
    {
     "data": {
      "text/plain": "\u001B[2;36m                   \u001B[0m\u001B[2;36m \u001B[0m\u001B[34mINFO    \u001B[0m Lock \u001B[1;36m2548015872272\u001B[0m acquired on cache\\evasion_global_attr.json.lock     \u001B]8;id=367465;file://C:\\Users\\kyawk\\anaconda3\\envs\\Masterarbeit_2_0\\Lib\\site-packages\\filelock.py\u001B\\\u001B[2mfilelock.py\u001B[0m\u001B]8;;\u001B\\\u001B[2m:\u001B[0m\u001B]8;id=412187;file://C:\\Users\\kyawk\\anaconda3\\envs\\Masterarbeit_2_0\\Lib\\site-packages\\filelock.py#274\u001B\\\u001B[2m274\u001B[0m\u001B]8;;\u001B\\\n",
      "text/html": "<pre style=\"white-space:pre;overflow-x:auto;line-height:normal;font-family:Menlo,'DejaVu Sans Mono',consolas,'Courier New',monospace\"><span style=\"color: #7fbfbf; text-decoration-color: #7fbfbf\">                    </span><span style=\"color: #000080; text-decoration-color: #000080\">INFO    </span> Lock <span style=\"color: #008080; text-decoration-color: #008080; font-weight: bold\">2548015872272</span> acquired on cache\\evasion_global_attr.json.lock     <a href=\"file://C:\\Users\\kyawk\\anaconda3\\envs\\Masterarbeit_2_0\\Lib\\site-packages\\filelock.py\" target=\"_blank\"><span style=\"color: #7f7f7f; text-decoration-color: #7f7f7f\">filelock.py</span></a><span style=\"color: #7f7f7f; text-decoration-color: #7f7f7f\">:</span><a href=\"file://C:\\Users\\kyawk\\anaconda3\\envs\\Masterarbeit_2_0\\Lib\\site-packages\\filelock.py#274\" target=\"_blank\"><span style=\"color: #7f7f7f; text-decoration-color: #7f7f7f\">274</span></a>\n</pre>\n"
     },
     "metadata": {},
     "output_type": "display_data"
    },
    {
     "data": {
      "text/plain": "\u001B[2;36m                   \u001B[0m\u001B[2;36m \u001B[0m\u001B[34mINFO    \u001B[0m Lock \u001B[1;36m2548015872272\u001B[0m released on cache\\evasion_global_attr.json.lock     \u001B]8;id=410352;file://C:\\Users\\kyawk\\anaconda3\\envs\\Masterarbeit_2_0\\Lib\\site-packages\\filelock.py\u001B\\\u001B[2mfilelock.py\u001B[0m\u001B]8;;\u001B\\\u001B[2m:\u001B[0m\u001B]8;id=742059;file://C:\\Users\\kyawk\\anaconda3\\envs\\Masterarbeit_2_0\\Lib\\site-packages\\filelock.py#318\u001B\\\u001B[2m318\u001B[0m\u001B]8;;\u001B\\\n",
      "text/html": "<pre style=\"white-space:pre;overflow-x:auto;line-height:normal;font-family:Menlo,'DejaVu Sans Mono',consolas,'Courier New',monospace\"><span style=\"color: #7fbfbf; text-decoration-color: #7fbfbf\">                    </span><span style=\"color: #000080; text-decoration-color: #000080\">INFO    </span> Lock <span style=\"color: #008080; text-decoration-color: #008080; font-weight: bold\">2548015872272</span> released on cache\\evasion_global_attr.json.lock     <a href=\"file://C:\\Users\\kyawk\\anaconda3\\envs\\Masterarbeit_2_0\\Lib\\site-packages\\filelock.py\" target=\"_blank\"><span style=\"color: #7f7f7f; text-decoration-color: #7f7f7f\">filelock.py</span></a><span style=\"color: #7f7f7f; text-decoration-color: #7f7f7f\">:</span><a href=\"file://C:\\Users\\kyawk\\anaconda3\\envs\\Masterarbeit_2_0\\Lib\\site-packages\\filelock.py#318\" target=\"_blank\"><span style=\"color: #7f7f7f; text-decoration-color: #7f7f7f\">318</span></a>\n</pre>\n"
     },
     "metadata": {},
     "output_type": "display_data"
    },
    {
     "data": {
      "text/plain": "\u001B[2;36m                   \u001B[0m\u001B[2;36m \u001B[0m\u001B[34mINFO    \u001B[0m No cached perturbations found for model \u001B[32m'Vanilla GCN'\u001B[0m and eps \u001B[1;36m0.25\u001B[0m.      \u001B]8;id=575399;file://C:\\Users\\kyawk\\Desktop\\robustness_of_gnns_at_scale-main\\experiments\\common.py\u001B\\\u001B[2mcommon.py\u001B[0m\u001B]8;;\u001B\\\u001B[2m:\u001B[0m\u001B]8;id=663174;file://C:\\Users\\kyawk\\Desktop\\robustness_of_gnns_at_scale-main\\experiments\\common.py#109\u001B\\\u001B[2m109\u001B[0m\u001B]8;;\u001B\\\n\u001B[2;36m                    \u001B[0m         Execute attack\u001B[33m...\u001B[0m                                                        \u001B[2m             \u001B[0m\n",
      "text/html": "<pre style=\"white-space:pre;overflow-x:auto;line-height:normal;font-family:Menlo,'DejaVu Sans Mono',consolas,'Courier New',monospace\"><span style=\"color: #7fbfbf; text-decoration-color: #7fbfbf\">                    </span><span style=\"color: #000080; text-decoration-color: #000080\">INFO    </span> No cached perturbations found for model <span style=\"color: #008000; text-decoration-color: #008000\">'Vanilla GCN'</span> and eps <span style=\"color: #008080; text-decoration-color: #008080; font-weight: bold\">0.25</span>.      <a href=\"file://C:\\Users\\kyawk\\Desktop\\robustness_of_gnns_at_scale-main\\experiments\\common.py\" target=\"_blank\"><span style=\"color: #7f7f7f; text-decoration-color: #7f7f7f\">common.py</span></a><span style=\"color: #7f7f7f; text-decoration-color: #7f7f7f\">:</span><a href=\"file://C:\\Users\\kyawk\\Desktop\\robustness_of_gnns_at_scale-main\\experiments\\common.py#109\" target=\"_blank\"><span style=\"color: #7f7f7f; text-decoration-color: #7f7f7f\">109</span></a>\n<span style=\"color: #7fbfbf; text-decoration-color: #7fbfbf\">                    </span>         Execute attack<span style=\"color: #808000; text-decoration-color: #808000\">...</span>                                                        <span style=\"color: #7f7f7f; text-decoration-color: #7f7f7f\">             </span>\n</pre>\n"
     },
     "metadata": {},
     "output_type": "display_data"
    },
    {
     "ename": "RuntimeError",
     "evalue": "Sampling random block was not successfull. Please decrease `n_perturbations`.",
     "output_type": "error",
     "traceback": [
      "\u001B[1;31m---------------------------------------------------------------------------\u001B[0m",
      "\u001B[1;31mRuntimeError\u001B[0m                              Traceback (most recent call last)",
      "Cell \u001B[1;32mIn[27], line 20\u001B[0m\n\u001B[0;32m     12\u001B[0m \u001B[38;5;28;01mfor\u001B[39;00m use_cert \u001B[38;5;129;01min\u001B[39;00m use_certificate:\n\u001B[0;32m     14\u001B[0m     delete_pert_files_and_folders(\n\u001B[0;32m     15\u001B[0m     cache_dir\u001B[38;5;241m=\u001B[39m\u001B[38;5;124m\"\u001B[39m\u001B[38;5;124mcache\u001B[39m\u001B[38;5;124m\"\u001B[39m,\n\u001B[0;32m     16\u001B[0m     pert_adj_storage_type\u001B[38;5;241m=\u001B[39m\u001B[38;5;124m\"\u001B[39m\u001B[38;5;124mevasion_global_adj\u001B[39m\u001B[38;5;124m\"\u001B[39m,\n\u001B[0;32m     17\u001B[0m     pert_attr_storage_type\u001B[38;5;241m=\u001B[39m\u001B[38;5;124m\"\u001B[39m\u001B[38;5;124mevasion_global_attr\u001B[39m\u001B[38;5;124m\"\u001B[39m\n\u001B[0;32m     18\u001B[0m     )\n\u001B[1;32m---> 20\u001B[0m     global_prbcd_statistics_cert \u001B[38;5;241m=\u001B[39m experiment_global_attack_direct\u001B[38;5;241m.\u001B[39mrun(\n\u001B[0;32m     21\u001B[0m         data_dir \u001B[38;5;241m=\u001B[39m \u001B[38;5;124m'\u001B[39m\u001B[38;5;124m./data\u001B[39m\u001B[38;5;124m'\u001B[39m,\n\u001B[0;32m     22\u001B[0m         dataset \u001B[38;5;241m=\u001B[39m \u001B[38;5;124m'\u001B[39m\u001B[38;5;124mcora_ml\u001B[39m\u001B[38;5;124m'\u001B[39m,\n\u001B[0;32m     23\u001B[0m         attack \u001B[38;5;241m=\u001B[39m \u001B[38;5;124m'\u001B[39m\u001B[38;5;124mPRBCD\u001B[39m\u001B[38;5;124m'\u001B[39m,\n\u001B[0;32m     24\u001B[0m         attack_params \u001B[38;5;241m=\u001B[39m \u001B[38;5;28mdict\u001B[39m(\n\u001B[0;32m     25\u001B[0m             epochs\u001B[38;5;241m=\u001B[39m \u001B[38;5;241m50\u001B[39m, \u001B[38;5;66;03m#500\u001B[39;00m\n\u001B[0;32m     26\u001B[0m             fine_tune_epochs\u001B[38;5;241m=\u001B[39m \u001B[38;5;241m10\u001B[39m,\u001B[38;5;66;03m#100,\u001B[39;00m\n\u001B[0;32m     27\u001B[0m             keep_heuristic\u001B[38;5;241m=\u001B[39m\u001B[38;5;124m\"\u001B[39m\u001B[38;5;124mWeightOnly\u001B[39m\u001B[38;5;124m\"\u001B[39m,\n\u001B[0;32m     28\u001B[0m             search_space_size\u001B[38;5;241m=\u001B[39m\u001B[38;5;241m100_000\u001B[39m, \u001B[38;5;66;03m#this may be wrong variable name (block_size?)\u001B[39;00m\n\u001B[0;32m     29\u001B[0m             block_size\u001B[38;5;241m=\u001B[39m\u001B[38;5;241m2000\u001B[39m, \u001B[38;5;66;03m#100_000\u001B[39;00m\n\u001B[0;32m     30\u001B[0m             do_synchronize\u001B[38;5;241m=\u001B[39m\u001B[38;5;28;01mTrue\u001B[39;00m,\n\u001B[0;32m     31\u001B[0m             loss_type\u001B[38;5;241m=\u001B[39m\u001B[38;5;124m\"\u001B[39m\u001B[38;5;124mtanhMargin\u001B[39m\u001B[38;5;124m\"\u001B[39m,\n\u001B[0;32m     32\u001B[0m         ),\n\u001B[0;32m     33\u001B[0m         epsilons \u001B[38;5;241m=\u001B[39m [\u001B[38;5;241m0.25\u001B[39m],\n\u001B[0;32m     34\u001B[0m         binary_attr \u001B[38;5;241m=\u001B[39m \u001B[38;5;28;01mFalse\u001B[39;00m,\n\u001B[0;32m     35\u001B[0m         make_undirected \u001B[38;5;241m=\u001B[39m \u001B[38;5;28;01mTrue\u001B[39;00m,\n\u001B[0;32m     36\u001B[0m         seed\u001B[38;5;241m=\u001B[39m\u001B[38;5;241m0\u001B[39m,\n\u001B[0;32m     37\u001B[0m         artifact_dir \u001B[38;5;241m=\u001B[39m \u001B[38;5;124m'\u001B[39m\u001B[38;5;124mcache\u001B[39m\u001B[38;5;124m'\u001B[39m,\n\u001B[0;32m     38\u001B[0m         pert_adj_storage_type \u001B[38;5;241m=\u001B[39m \u001B[38;5;124m'\u001B[39m\u001B[38;5;124mevasion_global_adj\u001B[39m\u001B[38;5;124m'\u001B[39m,\n\u001B[0;32m     39\u001B[0m         pert_attr_storage_type \u001B[38;5;241m=\u001B[39m \u001B[38;5;124m'\u001B[39m\u001B[38;5;124mevasion_global_attr\u001B[39m\u001B[38;5;124m'\u001B[39m,\n\u001B[0;32m     40\u001B[0m         model_label \u001B[38;5;241m=\u001B[39m \u001B[38;5;124m'\u001B[39m\u001B[38;5;124mVanilla GCN\u001B[39m\u001B[38;5;124m'\u001B[39m,\n\u001B[0;32m     41\u001B[0m         model_storage_type \u001B[38;5;241m=\u001B[39m \u001B[38;5;124m'\u001B[39m\u001B[38;5;124mdemo\u001B[39m\u001B[38;5;124m'\u001B[39m,\n\u001B[0;32m     42\u001B[0m         \u001B[38;5;66;03m#device = 0,\u001B[39;00m\n\u001B[0;32m     43\u001B[0m         \u001B[38;5;66;03m#data_device = 0,\u001B[39;00m\n\u001B[0;32m     44\u001B[0m         device \u001B[38;5;241m=\u001B[39m \u001B[38;5;124m\"\u001B[39m\u001B[38;5;124mcpu\u001B[39m\u001B[38;5;124m\"\u001B[39m,\n\u001B[0;32m     45\u001B[0m         data_device \u001B[38;5;241m=\u001B[39m \u001B[38;5;124m\"\u001B[39m\u001B[38;5;124mcpu\u001B[39m\u001B[38;5;124m\"\u001B[39m,\n\u001B[0;32m     46\u001B[0m         debug_level \u001B[38;5;241m=\u001B[39m \u001B[38;5;124m\"\u001B[39m\u001B[38;5;124minfo\u001B[39m\u001B[38;5;124m\"\u001B[39m,\n\u001B[0;32m     47\u001B[0m         use_cert\u001B[38;5;241m=\u001B[39muse_cert,\n\u001B[0;32m     48\u001B[0m         grid_radii\u001B[38;5;241m=\u001B[39mgrid_radii,\n\u001B[0;32m     49\u001B[0m     )\n\u001B[0;32m     51\u001B[0m     \u001B[38;5;28mprint\u001B[39m(use_cert \u001B[38;5;241m+\u001B[39m \u001B[38;5;124m\"\u001B[39m\u001B[38;5;124m: \u001B[39m\u001B[38;5;124m\"\u001B[39m)\n\u001B[0;32m     52\u001B[0m     \u001B[38;5;28mprint\u001B[39m(global_prbcd_statistics_cert)\n",
      "File \u001B[1;32m~\\anaconda3\\envs\\Masterarbeit_2_0\\Lib\\site-packages\\sacred\\config\\captured_function.py:42\u001B[0m, in \u001B[0;36mcaptured_function\u001B[1;34m(wrapped, instance, args, kwargs)\u001B[0m\n\u001B[0;32m     40\u001B[0m \u001B[38;5;66;03m# =================== run actual function =================================\u001B[39;00m\n\u001B[0;32m     41\u001B[0m \u001B[38;5;28;01mwith\u001B[39;00m ConfigError\u001B[38;5;241m.\u001B[39mtrack(wrapped\u001B[38;5;241m.\u001B[39mconfig, wrapped\u001B[38;5;241m.\u001B[39mprefix):\n\u001B[1;32m---> 42\u001B[0m     result \u001B[38;5;241m=\u001B[39m wrapped(\u001B[38;5;241m*\u001B[39margs, \u001B[38;5;241m*\u001B[39m\u001B[38;5;241m*\u001B[39mkwargs)\n\u001B[0;32m     43\u001B[0m \u001B[38;5;66;03m# =========================================================================\u001B[39;00m\n\u001B[0;32m     44\u001B[0m \u001B[38;5;28;01mif\u001B[39;00m wrapped\u001B[38;5;241m.\u001B[39mlogger \u001B[38;5;129;01mis\u001B[39;00m \u001B[38;5;129;01mnot\u001B[39;00m \u001B[38;5;28;01mNone\u001B[39;00m:\n",
      "File \u001B[1;32m~\\Desktop\\robustness_of_gnns_at_scale-main\\experiments\\experiment_global_attack_direct.py:145\u001B[0m, in \u001B[0;36mrun\u001B[1;34m(data_dir, dataset, attack, attack_params, epsilons, binary_attr, make_undirected, seed, artifact_dir, pert_adj_storage_type, pert_attr_storage_type, model_label, model_storage_type, device, data_device, debug_level, use_cert, grid_radii)\u001B[0m\n\u001B[0;32m    140\u001B[0m adversary \u001B[38;5;241m=\u001B[39m create_attack(attack, attr\u001B[38;5;241m=\u001B[39mattr, adj\u001B[38;5;241m=\u001B[39madj, labels\u001B[38;5;241m=\u001B[39mlabels, model\u001B[38;5;241m=\u001B[39mmodel, idx_attack\u001B[38;5;241m=\u001B[39midx_test,\n\u001B[0;32m    141\u001B[0m                           device\u001B[38;5;241m=\u001B[39mdevice, data_device\u001B[38;5;241m=\u001B[39mdata_device, binary_attr\u001B[38;5;241m=\u001B[39mbinary_attr,\n\u001B[0;32m    142\u001B[0m                           make_undirected\u001B[38;5;241m=\u001B[39mmake_undirected, \u001B[38;5;241m*\u001B[39m\u001B[38;5;241m*\u001B[39mattack_params)\n\u001B[0;32m    144\u001B[0m \u001B[38;5;28;01mfor\u001B[39;00m epsilon \u001B[38;5;129;01min\u001B[39;00m epsilons:\n\u001B[1;32m--> 145\u001B[0m     run_global_attack(epsilon, m, storage, pert_adj_storage_type, pert_attr_storage_type,\n\u001B[0;32m    146\u001B[0m                       pert_params, adversary, model_label, use_cert\u001B[38;5;241m=\u001B[39muse_cert, grid_radii\u001B[38;5;241m=\u001B[39mgrid_radii)\n\u001B[0;32m    148\u001B[0m     adj_adversary \u001B[38;5;241m=\u001B[39m adversary\u001B[38;5;241m.\u001B[39madj_adversary\n\u001B[0;32m    149\u001B[0m     attr_adversary \u001B[38;5;241m=\u001B[39m adversary\u001B[38;5;241m.\u001B[39mattr_adversary\n",
      "File \u001B[1;32m~\\Desktop\\robustness_of_gnns_at_scale-main\\experiments\\common.py:110\u001B[0m, in \u001B[0;36mrun_global_attack\u001B[1;34m(epsilon, m, storage, pert_adj_storage_type, pert_attr_storage_type, pert_params, adversary, model_label, use_cert, grid_radii)\u001B[0m\n\u001B[0;32m    108\u001B[0m \u001B[38;5;28;01melse\u001B[39;00m:\n\u001B[0;32m    109\u001B[0m     logging\u001B[38;5;241m.\u001B[39minfo(\u001B[38;5;124mf\u001B[39m\u001B[38;5;124m\"\u001B[39m\u001B[38;5;124mNo cached perturbations found for model \u001B[39m\u001B[38;5;124m'\u001B[39m\u001B[38;5;132;01m{\u001B[39;00mmodel_label\u001B[38;5;132;01m}\u001B[39;00m\u001B[38;5;124m'\u001B[39m\u001B[38;5;124m and eps \u001B[39m\u001B[38;5;132;01m{\u001B[39;00mepsilon\u001B[38;5;132;01m}\u001B[39;00m\u001B[38;5;124m. Execute attack...\u001B[39m\u001B[38;5;124m\"\u001B[39m)\n\u001B[1;32m--> 110\u001B[0m     adversary\u001B[38;5;241m.\u001B[39mattack(n_perturbations, use_cert \u001B[38;5;241m=\u001B[39m use_cert, grid_radii \u001B[38;5;241m=\u001B[39m grid_radii)\n\u001B[0;32m    111\u001B[0m     pert_adj, pert_attr \u001B[38;5;241m=\u001B[39m adversary\u001B[38;5;241m.\u001B[39mget_pertubations()\n\u001B[0;32m    113\u001B[0m     \u001B[38;5;28;01mif\u001B[39;00m n_perturbations \u001B[38;5;241m>\u001B[39m \u001B[38;5;241m0\u001B[39m:\n",
      "File \u001B[1;32m~\\anaconda3\\envs\\Masterarbeit_2_0\\Lib\\site-packages\\typeguard\\__init__.py:1033\u001B[0m, in \u001B[0;36mtypechecked.<locals>.wrapper\u001B[1;34m(*args, **kwargs)\u001B[0m\n\u001B[0;32m   1031\u001B[0m memo \u001B[38;5;241m=\u001B[39m _CallMemo(python_func, _localns, args\u001B[38;5;241m=\u001B[39margs, kwargs\u001B[38;5;241m=\u001B[39mkwargs)\n\u001B[0;32m   1032\u001B[0m check_argument_types(memo)\n\u001B[1;32m-> 1033\u001B[0m retval \u001B[38;5;241m=\u001B[39m func(\u001B[38;5;241m*\u001B[39margs, \u001B[38;5;241m*\u001B[39m\u001B[38;5;241m*\u001B[39mkwargs)\n\u001B[0;32m   1034\u001B[0m \u001B[38;5;28;01mtry\u001B[39;00m:\n\u001B[0;32m   1035\u001B[0m     check_return_type(retval, memo)\n",
      "File \u001B[1;32m~\\Desktop\\robustness_of_gnns_at_scale-main\\rgnn_at_scale\\attacks\\base_attack.py:126\u001B[0m, in \u001B[0;36mAttack.attack\u001B[1;34m(self, n_perturbations, use_cert, grid_radii, **kwargs)\u001B[0m\n\u001B[0;32m    116\u001B[0m \u001B[38;5;250m\u001B[39m\u001B[38;5;124;03m\"\"\"\u001B[39;00m\n\u001B[0;32m    117\u001B[0m \u001B[38;5;124;03mExecutes the attack on the model updating the attributes\u001B[39;00m\n\u001B[0;32m    118\u001B[0m \u001B[38;5;124;03mself.adj_adversary and self.attr_adversary accordingly.\u001B[39;00m\n\u001B[1;32m   (...)\u001B[0m\n\u001B[0;32m    123\u001B[0m \u001B[38;5;124;03m    number of perturbations (attack budget in terms of node additions/deletions) that constrain the atack\u001B[39;00m\n\u001B[0;32m    124\u001B[0m \u001B[38;5;124;03m\"\"\"\u001B[39;00m\n\u001B[0;32m    125\u001B[0m \u001B[38;5;28;01mif\u001B[39;00m n_perturbations \u001B[38;5;241m>\u001B[39m \u001B[38;5;241m0\u001B[39m:\n\u001B[1;32m--> 126\u001B[0m     \u001B[38;5;28;01mreturn\u001B[39;00m \u001B[38;5;28mself\u001B[39m\u001B[38;5;241m.\u001B[39m_attack(n_perturbations, \u001B[38;5;241m*\u001B[39m\u001B[38;5;241m*\u001B[39mkwargs, use_cert\u001B[38;5;241m=\u001B[39muse_cert, grid_radii\u001B[38;5;241m=\u001B[39mgrid_radii)\n\u001B[0;32m    127\u001B[0m \u001B[38;5;28;01melse\u001B[39;00m:\n\u001B[0;32m    128\u001B[0m     \u001B[38;5;28mself\u001B[39m\u001B[38;5;241m.\u001B[39mattr_adversary \u001B[38;5;241m=\u001B[39m \u001B[38;5;28mself\u001B[39m\u001B[38;5;241m.\u001B[39mattr\n",
      "File \u001B[1;32m~\\Desktop\\robustness_of_gnns_at_scale-main\\rgnn_at_scale\\attacks\\prbcd.py:80\u001B[0m, in \u001B[0;36mPRBCD._attack\u001B[1;34m(self, n_perturbations, use_cert, grid_radii, **kwargs)\u001B[0m\n\u001B[0;32m     78\u001B[0m \u001B[38;5;66;03m# Sample initial search space (Algorithm 1, line 3-4)\u001B[39;00m\n\u001B[0;32m     79\u001B[0m \u001B[38;5;28;01mif\u001B[39;00m use_cert \u001B[38;5;129;01min\u001B[39;00m (\u001B[38;5;124m\"\u001B[39m\u001B[38;5;124msampling\u001B[39m\u001B[38;5;124m\"\u001B[39m, \u001B[38;5;124m\"\u001B[39m\u001B[38;5;124mboth\u001B[39m\u001B[38;5;124m\"\u001B[39m):\n\u001B[1;32m---> 80\u001B[0m     \u001B[38;5;28mself\u001B[39m\u001B[38;5;241m.\u001B[39msample_block_from_certificates(grid_radii\u001B[38;5;241m=\u001B[39mgrid_radii, n_perturbations\u001B[38;5;241m=\u001B[39mn_perturbations)  \u001B[38;5;66;03m# TODO: Hier kommen die grid_radii rein.\u001B[39;00m\n\u001B[0;32m     81\u001B[0m \u001B[38;5;28;01melse\u001B[39;00m:\n\u001B[0;32m     82\u001B[0m     \u001B[38;5;28mself\u001B[39m\u001B[38;5;241m.\u001B[39msample_random_block(n_perturbations)\n",
      "File \u001B[1;32m~\\Desktop\\robustness_of_gnns_at_scale-main\\rgnn_at_scale\\attacks\\prbcd.py:359\u001B[0m, in \u001B[0;36mPRBCD.sample_block_from_certificates\u001B[1;34m(self, grid_radii, n_perturbations)\u001B[0m\n\u001B[0;32m    357\u001B[0m     \u001B[38;5;28;01mif\u001B[39;00m \u001B[38;5;28mself\u001B[39m\u001B[38;5;241m.\u001B[39mcurrent_search_space\u001B[38;5;241m.\u001B[39msize(\u001B[38;5;241m0\u001B[39m) \u001B[38;5;241m>\u001B[39m\u001B[38;5;241m=\u001B[39m n_perturbations:\n\u001B[0;32m    358\u001B[0m         \u001B[38;5;28;01mreturn\u001B[39;00m\n\u001B[1;32m--> 359\u001B[0m \u001B[38;5;28;01mraise\u001B[39;00m \u001B[38;5;167;01mRuntimeError\u001B[39;00m(\u001B[38;5;124m'\u001B[39m\u001B[38;5;124mSampling random block was not successfull. Please decrease `n_perturbations`.\u001B[39m\u001B[38;5;124m'\u001B[39m)\n",
      "\u001B[1;31mRuntimeError\u001B[0m: Sampling random block was not successfull. Please decrease `n_perturbations`."
     ]
    }
   ],
   "source": [
    "from DeleteCache import delete_pert_files_and_folders\n",
    "\n",
    "use_certificate = [\"sampling\", \"resampling\", \"both\", \"none\"]\n",
    "results_global_prbcd_cert = []\n",
    "# Idea: Variables for sampling with or without certificate usage\n",
    "# \"sampling\" = use certificates only in sampling\n",
    "# \"resampling\" = use certificates only in resampling\n",
    "# \"both\" = use certificate in both sampling and resampling\n",
    "# \"none\" = use no certificate\n",
    "for use_cert in use_certificate:\n",
    "    \n",
    "    delete_pert_files_and_folders(\n",
    "    cache_dir=\"cache\",\n",
    "    pert_adj_storage_type=\"evasion_global_adj\",\n",
    "    pert_attr_storage_type=\"evasion_global_attr\"\n",
    "    )\n",
    "    \n",
    "    global_prbcd_statistics_cert = experiment_global_attack_direct.run(\n",
    "        data_dir = './data',\n",
    "        dataset = 'cora_ml',\n",
    "        attack = 'PRBCD',\n",
    "        attack_params = dict(\n",
    "            epochs= 50, #500\n",
    "            fine_tune_epochs= 10,#25, #100,\n",
    "            keep_heuristic=\"WeightOnly\",\n",
    "            search_space_size=100_000, #this may be wrong variable name (block_size?)\n",
    "            block_size=2000, #100_000\n",
    "            do_synchronize=True,\n",
    "            loss_type=\"tanhMargin\",\n",
    "        ),\n",
    "        epsilons = [0.25],\n",
    "        binary_attr = False,\n",
    "        make_undirected = True,\n",
    "        seed=0,\n",
    "        artifact_dir = 'cache',\n",
    "        pert_adj_storage_type = 'evasion_global_adj',\n",
    "        pert_attr_storage_type = 'evasion_global_attr',\n",
    "        model_label = 'Vanilla GCN',\n",
    "        model_storage_type = 'demo',\n",
    "        #device = 0,\n",
    "        #data_device = 0,\n",
    "        device = \"cpu\",\n",
    "        data_device = \"cpu\",\n",
    "        debug_level = \"info\",\n",
    "        use_cert=use_cert,\n",
    "        grid_radii=grid_radii,\n",
    "    )\n",
    "\n",
    "    print(use_cert + \": \")\n",
    "    print(global_prbcd_statistics_cert)\n",
    "    results_global_prbcd_cert.append((use_cert, global_prbcd_statistics_cert))\n",
    "   \n",
    "print(\"RESULTS\")\n",
    "[print(item + \"\\n\") for item in results_global_prbcd_cert]\n"
   ],
   "metadata": {
    "collapsed": false,
    "ExecuteTime": {
     "end_time": "2025-04-15T12:21:04.680649600Z",
     "start_time": "2025-04-15T12:17:19.440779Z"
    }
   }
  },
  {
   "metadata": {},
   "cell_type": "markdown",
   "source": [
    "### 2.2.1 Global PR-BCD Attack without Cert\n",
    "\n",
    "Now let's do the same with a non-local `PR-BCD` attack. For this, we use [experiments/experiment_global_attack_direct.py](https://github.com/sigeisler/robustness_of_gnns_at_scale/blob/main/experiments/experiment_global_attack_direct.py#L63)."
   ]
  },
  {
   "metadata": {
    "ExecuteTime": {
     "end_time": "2025-04-04T16:09:55.673048500Z",
     "start_time": "2025-04-04T16:08:48.295334600Z"
    }
   },
   "cell_type": "code",
   "source": [
    "from DeleteCache import delete_pert_files_and_folders\n",
    "\n",
    "delete_pert_files_and_folders(\n",
    "    cache_dir=\"cache\",\n",
    "    pert_adj_storage_type=\"evasion_global_adj\",\n",
    "    pert_attr_storage_type=\"evasion_global_attr\"\n",
    ")\n",
    "\n",
    "global_prbcd_statistics = experiment_global_attack_direct.run(\n",
    "    data_dir = './data',\n",
    "    dataset = 'cora_ml',\n",
    "    attack = 'PRBCD',\n",
    "    attack_params = dict(\n",
    "        epochs=50,\n",
    "        fine_tune_epochs=100,\n",
    "        keep_heuristic=\"WeightOnly\",\n",
    "        search_space_size=100_000,\n",
    "        block_size=2000,\n",
    "        do_synchronize=True,\n",
    "        loss_type=\"tanhMargin\",\n",
    "    ),\n",
    "    epsilons = [0.25],\n",
    "    binary_attr = False,\n",
    "    make_undirected = True,\n",
    "    seed=0,\n",
    "    artifact_dir = 'cache',\n",
    "    pert_adj_storage_type = 'evasion_global_adj',\n",
    "    pert_attr_storage_type = 'evasion_global_attr',\n",
    "    model_label = 'Vanilla GCN',\n",
    "    model_storage_type = 'demo',\n",
    "    #device = 0,\n",
    "    #data_device = 0,\n",
    "    device = \"cpu\",\n",
    "    data_device = \"cpu\",\n",
    "    debug_level = \"info\",\n",
    ")\n",
    "\n",
    "print(global_prbcd_statistics)"
   ],
   "outputs": [
    {
     "name": "stdout",
     "output_type": "stream",
     "text": [
      "Deleted file: cache\\evasion_global_adj.json\n",
      "Deleted file: cache\\evasion_global_attr.json\n",
      "Deleted directory: cache\\evasion_global_adj\n",
      "Deleted directory: cache\\evasion_global_attr\n"
     ]
    },
    {
     "data": {
      "text/plain": "\u001B[2;36m[04/04/25 18:08:49]\u001B[0m\u001B[2;36m \u001B[0m\u001B[34mINFO    \u001B[0m \u001B[1m{\u001B[0m\u001B[32m'dataset'\u001B[0m: \u001B[32m'cora_ml'\u001B[0m, \u001B[32m'attack'\u001B[0m: \u001B[32m'PRBCD'\u001B[0m, \u001B[32m'attack_params'\u001B[0m: \u001B[1m{\u001B[0m\u001B[32m'epochs'\u001B[0m: \u001B[1;36m50\u001B[0m, \u001B]8;id=459632;file://C:\\Users\\kyawk\\Desktop\\robustness_of_gnns_at_scale-main\\experiments\\common.py\u001B\\\u001B[2mcommon.py\u001B[0m\u001B]8;;\u001B\\\u001B[2m:\u001B[0m\u001B]8;id=492268;file://C:\\Users\\kyawk\\Desktop\\robustness_of_gnns_at_scale-main\\experiments\\common.py#38\u001B\\\u001B[2m38\u001B[0m\u001B]8;;\u001B\\\n\u001B[2;36m                    \u001B[0m         \u001B[32m'fine_tune_epochs'\u001B[0m: \u001B[1;36m100\u001B[0m, \u001B[32m'keep_heuristic'\u001B[0m: \u001B[32m'WeightOnly'\u001B[0m,                  \u001B[2m            \u001B[0m\n\u001B[2;36m                    \u001B[0m         \u001B[32m'search_space_size'\u001B[0m: \u001B[1;36m100000\u001B[0m, \u001B[32m'block_size'\u001B[0m: \u001B[1;36m2000\u001B[0m, \u001B[32m'do_synchronize'\u001B[0m: \u001B[3;92mTrue\u001B[0m,  \u001B[2m            \u001B[0m\n\u001B[2;36m                    \u001B[0m         \u001B[32m'loss_type'\u001B[0m: \u001B[32m'tanhMargin'\u001B[0m\u001B[1m}\u001B[0m, \u001B[32m'epsilons'\u001B[0m: \u001B[1m[\u001B[0m\u001B[1;36m0.25\u001B[0m\u001B[1m]\u001B[0m, \u001B[32m'make_undirected'\u001B[0m: \u001B[3;92mTrue\u001B[0m,  \u001B[2m            \u001B[0m\n\u001B[2;36m                    \u001B[0m         \u001B[32m'binary_attr'\u001B[0m: \u001B[3;91mFalse\u001B[0m, \u001B[32m'seed'\u001B[0m: \u001B[1;36m0\u001B[0m, \u001B[32m'artifact_dir'\u001B[0m: \u001B[32m'cache'\u001B[0m,                 \u001B[2m            \u001B[0m\n\u001B[2;36m                    \u001B[0m         \u001B[32m'pert_adj_storage_type'\u001B[0m: \u001B[32m'evasion_global_adj'\u001B[0m, \u001B[32m'pert_attr_storage_type'\u001B[0m:  \u001B[2m            \u001B[0m\n\u001B[2;36m                    \u001B[0m         \u001B[32m'evasion_global_attr'\u001B[0m, \u001B[32m'model_label'\u001B[0m: \u001B[32m'Vanilla GCN'\u001B[0m,                      \u001B[2m            \u001B[0m\n\u001B[2;36m                    \u001B[0m         \u001B[32m'model_storage_type'\u001B[0m: \u001B[32m'demo'\u001B[0m, \u001B[32m'device'\u001B[0m: \u001B[32m'cpu'\u001B[0m, \u001B[32m'data_device'\u001B[0m: \u001B[32m'cpu'\u001B[0m\u001B[1m}\u001B[0m      \u001B[2m            \u001B[0m\n",
      "text/html": "<pre style=\"white-space:pre;overflow-x:auto;line-height:normal;font-family:Menlo,'DejaVu Sans Mono',consolas,'Courier New',monospace\"><span style=\"color: #7fbfbf; text-decoration-color: #7fbfbf\">[04/04/25 18:08:49] </span><span style=\"color: #000080; text-decoration-color: #000080\">INFO    </span> <span style=\"font-weight: bold\">{</span><span style=\"color: #008000; text-decoration-color: #008000\">'dataset'</span>: <span style=\"color: #008000; text-decoration-color: #008000\">'cora_ml'</span>, <span style=\"color: #008000; text-decoration-color: #008000\">'attack'</span>: <span style=\"color: #008000; text-decoration-color: #008000\">'PRBCD'</span>, <span style=\"color: #008000; text-decoration-color: #008000\">'attack_params'</span>: <span style=\"font-weight: bold\">{</span><span style=\"color: #008000; text-decoration-color: #008000\">'epochs'</span>: <span style=\"color: #008080; text-decoration-color: #008080; font-weight: bold\">50</span>, <a href=\"file://C:\\Users\\kyawk\\Desktop\\robustness_of_gnns_at_scale-main\\experiments\\common.py\" target=\"_blank\"><span style=\"color: #7f7f7f; text-decoration-color: #7f7f7f\">common.py</span></a><span style=\"color: #7f7f7f; text-decoration-color: #7f7f7f\">:</span><a href=\"file://C:\\Users\\kyawk\\Desktop\\robustness_of_gnns_at_scale-main\\experiments\\common.py#38\" target=\"_blank\"><span style=\"color: #7f7f7f; text-decoration-color: #7f7f7f\">38</span></a>\n<span style=\"color: #7fbfbf; text-decoration-color: #7fbfbf\">                    </span>         <span style=\"color: #008000; text-decoration-color: #008000\">'fine_tune_epochs'</span>: <span style=\"color: #008080; text-decoration-color: #008080; font-weight: bold\">100</span>, <span style=\"color: #008000; text-decoration-color: #008000\">'keep_heuristic'</span>: <span style=\"color: #008000; text-decoration-color: #008000\">'WeightOnly'</span>,                  <span style=\"color: #7f7f7f; text-decoration-color: #7f7f7f\">            </span>\n<span style=\"color: #7fbfbf; text-decoration-color: #7fbfbf\">                    </span>         <span style=\"color: #008000; text-decoration-color: #008000\">'search_space_size'</span>: <span style=\"color: #008080; text-decoration-color: #008080; font-weight: bold\">100000</span>, <span style=\"color: #008000; text-decoration-color: #008000\">'block_size'</span>: <span style=\"color: #008080; text-decoration-color: #008080; font-weight: bold\">2000</span>, <span style=\"color: #008000; text-decoration-color: #008000\">'do_synchronize'</span>: <span style=\"color: #00ff00; text-decoration-color: #00ff00; font-style: italic\">True</span>,  <span style=\"color: #7f7f7f; text-decoration-color: #7f7f7f\">            </span>\n<span style=\"color: #7fbfbf; text-decoration-color: #7fbfbf\">                    </span>         <span style=\"color: #008000; text-decoration-color: #008000\">'loss_type'</span>: <span style=\"color: #008000; text-decoration-color: #008000\">'tanhMargin'</span><span style=\"font-weight: bold\">}</span>, <span style=\"color: #008000; text-decoration-color: #008000\">'epsilons'</span>: <span style=\"font-weight: bold\">[</span><span style=\"color: #008080; text-decoration-color: #008080; font-weight: bold\">0.25</span><span style=\"font-weight: bold\">]</span>, <span style=\"color: #008000; text-decoration-color: #008000\">'make_undirected'</span>: <span style=\"color: #00ff00; text-decoration-color: #00ff00; font-style: italic\">True</span>,  <span style=\"color: #7f7f7f; text-decoration-color: #7f7f7f\">            </span>\n<span style=\"color: #7fbfbf; text-decoration-color: #7fbfbf\">                    </span>         <span style=\"color: #008000; text-decoration-color: #008000\">'binary_attr'</span>: <span style=\"color: #ff0000; text-decoration-color: #ff0000; font-style: italic\">False</span>, <span style=\"color: #008000; text-decoration-color: #008000\">'seed'</span>: <span style=\"color: #008080; text-decoration-color: #008080; font-weight: bold\">0</span>, <span style=\"color: #008000; text-decoration-color: #008000\">'artifact_dir'</span>: <span style=\"color: #008000; text-decoration-color: #008000\">'cache'</span>,                 <span style=\"color: #7f7f7f; text-decoration-color: #7f7f7f\">            </span>\n<span style=\"color: #7fbfbf; text-decoration-color: #7fbfbf\">                    </span>         <span style=\"color: #008000; text-decoration-color: #008000\">'pert_adj_storage_type'</span>: <span style=\"color: #008000; text-decoration-color: #008000\">'evasion_global_adj'</span>, <span style=\"color: #008000; text-decoration-color: #008000\">'pert_attr_storage_type'</span>:  <span style=\"color: #7f7f7f; text-decoration-color: #7f7f7f\">            </span>\n<span style=\"color: #7fbfbf; text-decoration-color: #7fbfbf\">                    </span>         <span style=\"color: #008000; text-decoration-color: #008000\">'evasion_global_attr'</span>, <span style=\"color: #008000; text-decoration-color: #008000\">'model_label'</span>: <span style=\"color: #008000; text-decoration-color: #008000\">'Vanilla GCN'</span>,                      <span style=\"color: #7f7f7f; text-decoration-color: #7f7f7f\">            </span>\n<span style=\"color: #7fbfbf; text-decoration-color: #7fbfbf\">                    </span>         <span style=\"color: #008000; text-decoration-color: #008000\">'model_storage_type'</span>: <span style=\"color: #008000; text-decoration-color: #008000\">'demo'</span>, <span style=\"color: #008000; text-decoration-color: #008000\">'device'</span>: <span style=\"color: #008000; text-decoration-color: #008000\">'cpu'</span>, <span style=\"color: #008000; text-decoration-color: #008000\">'data_device'</span>: <span style=\"color: #008000; text-decoration-color: #008000\">'cpu'</span><span style=\"font-weight: bold\">}</span>      <span style=\"color: #7f7f7f; text-decoration-color: #7f7f7f\">            </span>\n</pre>\n"
     },
     "metadata": {},
     "output_type": "display_data"
    },
    {
     "data": {
      "text/plain": "\u001B[2;36m                   \u001B[0m\u001B[2;36m \u001B[0m\u001B[34mINFO    \u001B[0m Lock \u001B[1;36m1487087321488\u001B[0m acquired on cache\\demo.json.lock                    \u001B]8;id=565504;file://C:\\Users\\kyawk\\anaconda3\\envs\\Masterarbeit_2_0\\Lib\\site-packages\\filelock.py\u001B\\\u001B[2mfilelock.py\u001B[0m\u001B]8;;\u001B\\\u001B[2m:\u001B[0m\u001B]8;id=40306;file://C:\\Users\\kyawk\\anaconda3\\envs\\Masterarbeit_2_0\\Lib\\site-packages\\filelock.py#274\u001B\\\u001B[2m274\u001B[0m\u001B]8;;\u001B\\\n",
      "text/html": "<pre style=\"white-space:pre;overflow-x:auto;line-height:normal;font-family:Menlo,'DejaVu Sans Mono',consolas,'Courier New',monospace\"><span style=\"color: #7fbfbf; text-decoration-color: #7fbfbf\">                    </span><span style=\"color: #000080; text-decoration-color: #000080\">INFO    </span> Lock <span style=\"color: #008080; text-decoration-color: #008080; font-weight: bold\">1487087321488</span> acquired on cache\\demo.json.lock                    <a href=\"file://C:\\Users\\kyawk\\anaconda3\\envs\\Masterarbeit_2_0\\Lib\\site-packages\\filelock.py\" target=\"_blank\"><span style=\"color: #7f7f7f; text-decoration-color: #7f7f7f\">filelock.py</span></a><span style=\"color: #7f7f7f; text-decoration-color: #7f7f7f\">:</span><a href=\"file://C:\\Users\\kyawk\\anaconda3\\envs\\Masterarbeit_2_0\\Lib\\site-packages\\filelock.py#274\" target=\"_blank\"><span style=\"color: #7f7f7f; text-decoration-color: #7f7f7f\">274</span></a>\n</pre>\n"
     },
     "metadata": {},
     "output_type": "display_data"
    },
    {
     "data": {
      "text/plain": "\u001B[2;36m                   \u001B[0m\u001B[2;36m \u001B[0m\u001B[34mINFO    \u001B[0m Lock \u001B[1;36m1487087321488\u001B[0m released on cache\\demo.json.lock                    \u001B]8;id=174300;file://C:\\Users\\kyawk\\anaconda3\\envs\\Masterarbeit_2_0\\Lib\\site-packages\\filelock.py\u001B\\\u001B[2mfilelock.py\u001B[0m\u001B]8;;\u001B\\\u001B[2m:\u001B[0m\u001B]8;id=756213;file://C:\\Users\\kyawk\\anaconda3\\envs\\Masterarbeit_2_0\\Lib\\site-packages\\filelock.py#318\u001B\\\u001B[2m318\u001B[0m\u001B]8;;\u001B\\\n",
      "text/html": "<pre style=\"white-space:pre;overflow-x:auto;line-height:normal;font-family:Menlo,'DejaVu Sans Mono',consolas,'Courier New',monospace\"><span style=\"color: #7fbfbf; text-decoration-color: #7fbfbf\">                    </span><span style=\"color: #000080; text-decoration-color: #000080\">INFO    </span> Lock <span style=\"color: #008080; text-decoration-color: #008080; font-weight: bold\">1487087321488</span> released on cache\\demo.json.lock                    <a href=\"file://C:\\Users\\kyawk\\anaconda3\\envs\\Masterarbeit_2_0\\Lib\\site-packages\\filelock.py\" target=\"_blank\"><span style=\"color: #7f7f7f; text-decoration-color: #7f7f7f\">filelock.py</span></a><span style=\"color: #7f7f7f; text-decoration-color: #7f7f7f\">:</span><a href=\"file://C:\\Users\\kyawk\\anaconda3\\envs\\Masterarbeit_2_0\\Lib\\site-packages\\filelock.py#318\" target=\"_blank\"><span style=\"color: #7f7f7f; text-decoration-color: #7f7f7f\">318</span></a>\n</pre>\n"
     },
     "metadata": {},
     "output_type": "display_data"
    },
    {
     "data": {
      "text/plain": "\u001B[2;36m                   \u001B[0m\u001B[2;36m \u001B[0m\u001B[34mINFO    \u001B[0m Evaluate  PRBCD for model \u001B[32m'Vanilla GCN'\u001B[0m.        \u001B]8;id=232461;file://C:\\Users\\kyawk\\Desktop\\robustness_of_gnns_at_scale-main\\experiments\\experiment_global_attack_direct.py\u001B\\\u001B[2mexperiment_global_attack_direct.py\u001B[0m\u001B]8;;\u001B\\\u001B[2m:\u001B[0m\u001B]8;id=88024;file://C:\\Users\\kyawk\\Desktop\\robustness_of_gnns_at_scale-main\\experiments\\experiment_global_attack_direct.py#139\u001B\\\u001B[2m139\u001B[0m\u001B]8;;\u001B\\\n",
      "text/html": "<pre style=\"white-space:pre;overflow-x:auto;line-height:normal;font-family:Menlo,'DejaVu Sans Mono',consolas,'Courier New',monospace\"><span style=\"color: #7fbfbf; text-decoration-color: #7fbfbf\">                    </span><span style=\"color: #000080; text-decoration-color: #000080\">INFO    </span> Evaluate  PRBCD for model <span style=\"color: #008000; text-decoration-color: #008000\">'Vanilla GCN'</span>.        <a href=\"file://C:\\Users\\kyawk\\Desktop\\robustness_of_gnns_at_scale-main\\experiments\\experiment_global_attack_direct.py\" target=\"_blank\"><span style=\"color: #7f7f7f; text-decoration-color: #7f7f7f\">experiment_global_attack_direct.py</span></a><span style=\"color: #7f7f7f; text-decoration-color: #7f7f7f\">:</span><a href=\"file://C:\\Users\\kyawk\\Desktop\\robustness_of_gnns_at_scale-main\\experiments\\experiment_global_attack_direct.py#139\" target=\"_blank\"><span style=\"color: #7f7f7f; text-decoration-color: #7f7f7f\">139</span></a>\n</pre>\n"
     },
     "metadata": {},
     "output_type": "display_data"
    },
    {
     "data": {
      "text/plain": "\u001B[2;36m                   \u001B[0m\u001B[2;36m \u001B[0m\u001B[34mINFO    \u001B[0m Lock \u001B[1;36m1487050451088\u001B[0m acquired on cache\\evasion_global_adj.json.lock      \u001B]8;id=291200;file://C:\\Users\\kyawk\\anaconda3\\envs\\Masterarbeit_2_0\\Lib\\site-packages\\filelock.py\u001B\\\u001B[2mfilelock.py\u001B[0m\u001B]8;;\u001B\\\u001B[2m:\u001B[0m\u001B]8;id=861081;file://C:\\Users\\kyawk\\anaconda3\\envs\\Masterarbeit_2_0\\Lib\\site-packages\\filelock.py#274\u001B\\\u001B[2m274\u001B[0m\u001B]8;;\u001B\\\n",
      "text/html": "<pre style=\"white-space:pre;overflow-x:auto;line-height:normal;font-family:Menlo,'DejaVu Sans Mono',consolas,'Courier New',monospace\"><span style=\"color: #7fbfbf; text-decoration-color: #7fbfbf\">                    </span><span style=\"color: #000080; text-decoration-color: #000080\">INFO    </span> Lock <span style=\"color: #008080; text-decoration-color: #008080; font-weight: bold\">1487050451088</span> acquired on cache\\evasion_global_adj.json.lock      <a href=\"file://C:\\Users\\kyawk\\anaconda3\\envs\\Masterarbeit_2_0\\Lib\\site-packages\\filelock.py\" target=\"_blank\"><span style=\"color: #7f7f7f; text-decoration-color: #7f7f7f\">filelock.py</span></a><span style=\"color: #7f7f7f; text-decoration-color: #7f7f7f\">:</span><a href=\"file://C:\\Users\\kyawk\\anaconda3\\envs\\Masterarbeit_2_0\\Lib\\site-packages\\filelock.py#274\" target=\"_blank\"><span style=\"color: #7f7f7f; text-decoration-color: #7f7f7f\">274</span></a>\n</pre>\n"
     },
     "metadata": {},
     "output_type": "display_data"
    },
    {
     "data": {
      "text/plain": "\u001B[2;36m                   \u001B[0m\u001B[2;36m \u001B[0m\u001B[34mINFO    \u001B[0m Lock \u001B[1;36m1487050451088\u001B[0m released on cache\\evasion_global_adj.json.lock      \u001B]8;id=833123;file://C:\\Users\\kyawk\\anaconda3\\envs\\Masterarbeit_2_0\\Lib\\site-packages\\filelock.py\u001B\\\u001B[2mfilelock.py\u001B[0m\u001B]8;;\u001B\\\u001B[2m:\u001B[0m\u001B]8;id=147354;file://C:\\Users\\kyawk\\anaconda3\\envs\\Masterarbeit_2_0\\Lib\\site-packages\\filelock.py#318\u001B\\\u001B[2m318\u001B[0m\u001B]8;;\u001B\\\n",
      "text/html": "<pre style=\"white-space:pre;overflow-x:auto;line-height:normal;font-family:Menlo,'DejaVu Sans Mono',consolas,'Courier New',monospace\"><span style=\"color: #7fbfbf; text-decoration-color: #7fbfbf\">                    </span><span style=\"color: #000080; text-decoration-color: #000080\">INFO    </span> Lock <span style=\"color: #008080; text-decoration-color: #008080; font-weight: bold\">1487050451088</span> released on cache\\evasion_global_adj.json.lock      <a href=\"file://C:\\Users\\kyawk\\anaconda3\\envs\\Masterarbeit_2_0\\Lib\\site-packages\\filelock.py\" target=\"_blank\"><span style=\"color: #7f7f7f; text-decoration-color: #7f7f7f\">filelock.py</span></a><span style=\"color: #7f7f7f; text-decoration-color: #7f7f7f\">:</span><a href=\"file://C:\\Users\\kyawk\\anaconda3\\envs\\Masterarbeit_2_0\\Lib\\site-packages\\filelock.py#318\" target=\"_blank\"><span style=\"color: #7f7f7f; text-decoration-color: #7f7f7f\">318</span></a>\n</pre>\n"
     },
     "metadata": {},
     "output_type": "display_data"
    },
    {
     "data": {
      "text/plain": "\u001B[2;36m                   \u001B[0m\u001B[2;36m \u001B[0m\u001B[34mINFO    \u001B[0m Lock \u001B[1;36m1487050874128\u001B[0m acquired on cache\\evasion_global_attr.json.lock     \u001B]8;id=909421;file://C:\\Users\\kyawk\\anaconda3\\envs\\Masterarbeit_2_0\\Lib\\site-packages\\filelock.py\u001B\\\u001B[2mfilelock.py\u001B[0m\u001B]8;;\u001B\\\u001B[2m:\u001B[0m\u001B]8;id=902959;file://C:\\Users\\kyawk\\anaconda3\\envs\\Masterarbeit_2_0\\Lib\\site-packages\\filelock.py#274\u001B\\\u001B[2m274\u001B[0m\u001B]8;;\u001B\\\n",
      "text/html": "<pre style=\"white-space:pre;overflow-x:auto;line-height:normal;font-family:Menlo,'DejaVu Sans Mono',consolas,'Courier New',monospace\"><span style=\"color: #7fbfbf; text-decoration-color: #7fbfbf\">                    </span><span style=\"color: #000080; text-decoration-color: #000080\">INFO    </span> Lock <span style=\"color: #008080; text-decoration-color: #008080; font-weight: bold\">1487050874128</span> acquired on cache\\evasion_global_attr.json.lock     <a href=\"file://C:\\Users\\kyawk\\anaconda3\\envs\\Masterarbeit_2_0\\Lib\\site-packages\\filelock.py\" target=\"_blank\"><span style=\"color: #7f7f7f; text-decoration-color: #7f7f7f\">filelock.py</span></a><span style=\"color: #7f7f7f; text-decoration-color: #7f7f7f\">:</span><a href=\"file://C:\\Users\\kyawk\\anaconda3\\envs\\Masterarbeit_2_0\\Lib\\site-packages\\filelock.py#274\" target=\"_blank\"><span style=\"color: #7f7f7f; text-decoration-color: #7f7f7f\">274</span></a>\n</pre>\n"
     },
     "metadata": {},
     "output_type": "display_data"
    },
    {
     "data": {
      "text/plain": "\u001B[2;36m                   \u001B[0m\u001B[2;36m \u001B[0m\u001B[34mINFO    \u001B[0m Lock \u001B[1;36m1487050874128\u001B[0m released on cache\\evasion_global_attr.json.lock     \u001B]8;id=416682;file://C:\\Users\\kyawk\\anaconda3\\envs\\Masterarbeit_2_0\\Lib\\site-packages\\filelock.py\u001B\\\u001B[2mfilelock.py\u001B[0m\u001B]8;;\u001B\\\u001B[2m:\u001B[0m\u001B]8;id=455492;file://C:\\Users\\kyawk\\anaconda3\\envs\\Masterarbeit_2_0\\Lib\\site-packages\\filelock.py#318\u001B\\\u001B[2m318\u001B[0m\u001B]8;;\u001B\\\n",
      "text/html": "<pre style=\"white-space:pre;overflow-x:auto;line-height:normal;font-family:Menlo,'DejaVu Sans Mono',consolas,'Courier New',monospace\"><span style=\"color: #7fbfbf; text-decoration-color: #7fbfbf\">                    </span><span style=\"color: #000080; text-decoration-color: #000080\">INFO    </span> Lock <span style=\"color: #008080; text-decoration-color: #008080; font-weight: bold\">1487050874128</span> released on cache\\evasion_global_attr.json.lock     <a href=\"file://C:\\Users\\kyawk\\anaconda3\\envs\\Masterarbeit_2_0\\Lib\\site-packages\\filelock.py\" target=\"_blank\"><span style=\"color: #7f7f7f; text-decoration-color: #7f7f7f\">filelock.py</span></a><span style=\"color: #7f7f7f; text-decoration-color: #7f7f7f\">:</span><a href=\"file://C:\\Users\\kyawk\\anaconda3\\envs\\Masterarbeit_2_0\\Lib\\site-packages\\filelock.py#318\" target=\"_blank\"><span style=\"color: #7f7f7f; text-decoration-color: #7f7f7f\">318</span></a>\n</pre>\n"
     },
     "metadata": {},
     "output_type": "display_data"
    },
    {
     "data": {
      "text/plain": "\u001B[2;36m                   \u001B[0m\u001B[2;36m \u001B[0m\u001B[34mINFO    \u001B[0m No cached perturbations found for model \u001B[32m'Vanilla GCN'\u001B[0m and eps \u001B[1;36m0.25\u001B[0m.      \u001B]8;id=76317;file://C:\\Users\\kyawk\\Desktop\\robustness_of_gnns_at_scale-main\\experiments\\common.py\u001B\\\u001B[2mcommon.py\u001B[0m\u001B]8;;\u001B\\\u001B[2m:\u001B[0m\u001B]8;id=953193;file://C:\\Users\\kyawk\\Desktop\\robustness_of_gnns_at_scale-main\\experiments\\common.py#109\u001B\\\u001B[2m109\u001B[0m\u001B]8;;\u001B\\\n\u001B[2;36m                    \u001B[0m         Execute attack\u001B[33m...\u001B[0m                                                        \u001B[2m             \u001B[0m\n",
      "text/html": "<pre style=\"white-space:pre;overflow-x:auto;line-height:normal;font-family:Menlo,'DejaVu Sans Mono',consolas,'Courier New',monospace\"><span style=\"color: #7fbfbf; text-decoration-color: #7fbfbf\">                    </span><span style=\"color: #000080; text-decoration-color: #000080\">INFO    </span> No cached perturbations found for model <span style=\"color: #008000; text-decoration-color: #008000\">'Vanilla GCN'</span> and eps <span style=\"color: #008080; text-decoration-color: #008080; font-weight: bold\">0.25</span>.      <a href=\"file://C:\\Users\\kyawk\\Desktop\\robustness_of_gnns_at_scale-main\\experiments\\common.py\" target=\"_blank\"><span style=\"color: #7f7f7f; text-decoration-color: #7f7f7f\">common.py</span></a><span style=\"color: #7f7f7f; text-decoration-color: #7f7f7f\">:</span><a href=\"file://C:\\Users\\kyawk\\Desktop\\robustness_of_gnns_at_scale-main\\experiments\\common.py#109\" target=\"_blank\"><span style=\"color: #7f7f7f; text-decoration-color: #7f7f7f\">109</span></a>\n<span style=\"color: #7fbfbf; text-decoration-color: #7fbfbf\">                    </span>         Execute attack<span style=\"color: #808000; text-decoration-color: #808000\">...</span>                                                        <span style=\"color: #7f7f7f; text-decoration-color: #7f7f7f\">             </span>\n</pre>\n"
     },
     "metadata": {},
     "output_type": "display_data"
    },
    {
     "data": {
      "text/plain": "\u001B[2;36m                   \u001B[0m\u001B[2;36m \u001B[0m\u001B[34mINFO    \u001B[0m                                                                            \u001B]8;id=133528;file://C:\\Users\\kyawk\\Desktop\\robustness_of_gnns_at_scale-main\\rgnn_at_scale\\attacks\\prbcd.py\u001B\\\u001B[2mprbcd.py\u001B[0m\u001B]8;;\u001B\\\u001B[2m:\u001B[0m\u001B]8;id=665009;file://C:\\Users\\kyawk\\Desktop\\robustness_of_gnns_at_scale-main\\rgnn_at_scale\\attacks\\prbcd.py#90\u001B\\\u001B[2m90\u001B[0m\u001B]8;;\u001B\\\n\u001B[2;36m                    \u001B[0m         Before the attack - Loss: \u001B[1;36m-0.6509091258049011\u001B[0m Accuracy: \u001B[1;36m83.478\u001B[0m %           \u001B[2m           \u001B[0m\n\u001B[2;36m                    \u001B[0m                                                                                    \u001B[2m           \u001B[0m\n",
      "text/html": "<pre style=\"white-space:pre;overflow-x:auto;line-height:normal;font-family:Menlo,'DejaVu Sans Mono',consolas,'Courier New',monospace\"><span style=\"color: #7fbfbf; text-decoration-color: #7fbfbf\">                    </span><span style=\"color: #000080; text-decoration-color: #000080\">INFO    </span>                                                                            <a href=\"file://C:\\Users\\kyawk\\Desktop\\robustness_of_gnns_at_scale-main\\rgnn_at_scale\\attacks\\prbcd.py\" target=\"_blank\"><span style=\"color: #7f7f7f; text-decoration-color: #7f7f7f\">prbcd.py</span></a><span style=\"color: #7f7f7f; text-decoration-color: #7f7f7f\">:</span><a href=\"file://C:\\Users\\kyawk\\Desktop\\robustness_of_gnns_at_scale-main\\rgnn_at_scale\\attacks\\prbcd.py#90\" target=\"_blank\"><span style=\"color: #7f7f7f; text-decoration-color: #7f7f7f\">90</span></a>\n<span style=\"color: #7fbfbf; text-decoration-color: #7fbfbf\">                    </span>         Before the attack - Loss: <span style=\"color: #008080; text-decoration-color: #008080; font-weight: bold\">-0.6509091258049011</span> Accuracy: <span style=\"color: #008080; text-decoration-color: #008080; font-weight: bold\">83.478</span> %           <span style=\"color: #7f7f7f; text-decoration-color: #7f7f7f\">           </span>\n<span style=\"color: #7fbfbf; text-decoration-color: #7fbfbf\">                    </span>                                                                                    <span style=\"color: #7f7f7f; text-decoration-color: #7f7f7f\">           </span>\n</pre>\n"
     },
     "metadata": {},
     "output_type": "display_data"
    },
    {
     "name": "stderr",
     "output_type": "stream",
     "text": [
      "\n",
      "\n",
      "  0%|          | 0/50 [00:00<?, ?it/s]\u001B[A\u001B[A"
     ]
    },
    {
     "data": {
      "text/plain": "\u001B[2;36m[04/04/25 18:08:51]\u001B[0m\u001B[2;36m \u001B[0m\u001B[34mINFO    \u001B[0m                                                                           \u001B]8;id=951232;file://C:\\Users\\kyawk\\Desktop\\robustness_of_gnns_at_scale-main\\rgnn_at_scale\\attacks\\prbcd.py\u001B\\\u001B[2mprbcd.py\u001B[0m\u001B]8;;\u001B\\\u001B[2m:\u001B[0m\u001B]8;id=757698;file://C:\\Users\\kyawk\\Desktop\\robustness_of_gnns_at_scale-main\\rgnn_at_scale\\attacks\\prbcd.py#136\u001B\\\u001B[2m136\u001B[0m\u001B]8;;\u001B\\\n\u001B[2;36m                    \u001B[0m         Epoch: \u001B[1;36m0\u001B[0m Loss: \u001B[1;36m-0.6508852243423462\u001B[0m Accuracy: \u001B[1;36m83.360\u001B[0m %                     \u001B[2m            \u001B[0m\n\u001B[2;36m                    \u001B[0m                                                                                   \u001B[2m            \u001B[0m\n",
      "text/html": "<pre style=\"white-space:pre;overflow-x:auto;line-height:normal;font-family:Menlo,'DejaVu Sans Mono',consolas,'Courier New',monospace\"><span style=\"color: #7fbfbf; text-decoration-color: #7fbfbf\">[04/04/25 18:08:51] </span><span style=\"color: #000080; text-decoration-color: #000080\">INFO    </span>                                                                           <a href=\"file://C:\\Users\\kyawk\\Desktop\\robustness_of_gnns_at_scale-main\\rgnn_at_scale\\attacks\\prbcd.py\" target=\"_blank\"><span style=\"color: #7f7f7f; text-decoration-color: #7f7f7f\">prbcd.py</span></a><span style=\"color: #7f7f7f; text-decoration-color: #7f7f7f\">:</span><a href=\"file://C:\\Users\\kyawk\\Desktop\\robustness_of_gnns_at_scale-main\\rgnn_at_scale\\attacks\\prbcd.py#136\" target=\"_blank\"><span style=\"color: #7f7f7f; text-decoration-color: #7f7f7f\">136</span></a>\n<span style=\"color: #7fbfbf; text-decoration-color: #7fbfbf\">                    </span>         Epoch: <span style=\"color: #008080; text-decoration-color: #008080; font-weight: bold\">0</span> Loss: <span style=\"color: #008080; text-decoration-color: #008080; font-weight: bold\">-0.6508852243423462</span> Accuracy: <span style=\"color: #008080; text-decoration-color: #008080; font-weight: bold\">83.360</span> %                     <span style=\"color: #7f7f7f; text-decoration-color: #7f7f7f\">            </span>\n<span style=\"color: #7fbfbf; text-decoration-color: #7fbfbf\">                    </span>                                                                                   <span style=\"color: #7f7f7f; text-decoration-color: #7f7f7f\">            </span>\n</pre>\n"
     },
     "metadata": {},
     "output_type": "display_data"
    },
    {
     "name": "stderr",
     "output_type": "stream",
     "text": [
      "\n",
      "\n",
      "  2%|▏         | 1/50 [00:01<01:07,  1.38s/it]\u001B[A\u001B[A\n",
      "\n",
      "  4%|▍         | 2/50 [00:02<01:08,  1.42s/it]\u001B[A\u001B[A\n",
      "\n",
      "  6%|▌         | 3/50 [00:03<01:02,  1.32s/it]\u001B[A\u001B[A\n",
      "\n",
      "  8%|▊         | 4/50 [00:05<00:57,  1.26s/it]\u001B[A\u001B[A\n",
      "\n",
      " 10%|█         | 5/50 [00:06<00:53,  1.19s/it]\u001B[A\u001B[A\n",
      "\n",
      " 12%|█▏        | 6/50 [00:07<00:50,  1.15s/it]\u001B[A\u001B[A\n",
      "\n",
      " 14%|█▍        | 7/50 [00:08<00:48,  1.13s/it]\u001B[A\u001B[A\n",
      "\n",
      " 16%|█▌        | 8/50 [00:09<00:46,  1.12s/it]\u001B[A\u001B[A\n",
      "\n",
      " 18%|█▊        | 9/50 [00:10<00:45,  1.11s/it]\u001B[A\u001B[A\n",
      "\n",
      " 20%|██        | 10/50 [00:11<00:43,  1.09s/it]\u001B[A\u001B[A\n",
      "\n",
      " 22%|██▏       | 11/50 [00:12<00:42,  1.08s/it]\u001B[A\u001B[A\n",
      "\n",
      " 24%|██▍       | 12/50 [00:13<00:41,  1.10s/it]\u001B[A\u001B[A\n",
      "\n",
      " 26%|██▌       | 13/50 [00:14<00:41,  1.13s/it]\u001B[A\u001B[A\n",
      "\n",
      " 28%|██▊       | 14/50 [00:16<00:41,  1.16s/it]\u001B[A\u001B[A\n",
      "\n",
      " 30%|███       | 15/50 [00:17<00:40,  1.15s/it]\u001B[A\u001B[A\n",
      "\n",
      " 32%|███▏      | 16/50 [00:18<00:38,  1.12s/it]\u001B[A\u001B[A\n",
      "\n",
      " 34%|███▍      | 17/50 [00:19<00:36,  1.10s/it]\u001B[A\u001B[A\n",
      "\n",
      " 36%|███▌      | 18/50 [00:20<00:35,  1.11s/it]\u001B[A\u001B[A\n",
      "\n",
      " 38%|███▊      | 19/50 [00:21<00:34,  1.10s/it]\u001B[A\u001B[A\n",
      "\n",
      " 40%|████      | 20/50 [00:22<00:33,  1.11s/it]\u001B[A\u001B[A"
     ]
    },
    {
     "data": {
      "text/plain": "\u001B[2;36m[04/04/25 18:09:13]\u001B[0m\u001B[2;36m \u001B[0m\u001B[34mINFO    \u001B[0m                                                                           \u001B]8;id=399107;file://C:\\Users\\kyawk\\Desktop\\robustness_of_gnns_at_scale-main\\rgnn_at_scale\\attacks\\prbcd.py\u001B\\\u001B[2mprbcd.py\u001B[0m\u001B]8;;\u001B\\\u001B[2m:\u001B[0m\u001B]8;id=969573;file://C:\\Users\\kyawk\\Desktop\\robustness_of_gnns_at_scale-main\\rgnn_at_scale\\attacks\\prbcd.py#136\u001B\\\u001B[2m136\u001B[0m\u001B]8;;\u001B\\\n\u001B[2;36m                    \u001B[0m         Epoch: \u001B[1;36m20\u001B[0m Loss: \u001B[1;36m-0.6247091889381409\u001B[0m Accuracy: \u001B[1;36m81.423\u001B[0m %                    \u001B[2m            \u001B[0m\n\u001B[2;36m                    \u001B[0m                                                                                   \u001B[2m            \u001B[0m\n",
      "text/html": "<pre style=\"white-space:pre;overflow-x:auto;line-height:normal;font-family:Menlo,'DejaVu Sans Mono',consolas,'Courier New',monospace\"><span style=\"color: #7fbfbf; text-decoration-color: #7fbfbf\">[04/04/25 18:09:13] </span><span style=\"color: #000080; text-decoration-color: #000080\">INFO    </span>                                                                           <a href=\"file://C:\\Users\\kyawk\\Desktop\\robustness_of_gnns_at_scale-main\\rgnn_at_scale\\attacks\\prbcd.py\" target=\"_blank\"><span style=\"color: #7f7f7f; text-decoration-color: #7f7f7f\">prbcd.py</span></a><span style=\"color: #7f7f7f; text-decoration-color: #7f7f7f\">:</span><a href=\"file://C:\\Users\\kyawk\\Desktop\\robustness_of_gnns_at_scale-main\\rgnn_at_scale\\attacks\\prbcd.py#136\" target=\"_blank\"><span style=\"color: #7f7f7f; text-decoration-color: #7f7f7f\">136</span></a>\n<span style=\"color: #7fbfbf; text-decoration-color: #7fbfbf\">                    </span>         Epoch: <span style=\"color: #008080; text-decoration-color: #008080; font-weight: bold\">20</span> Loss: <span style=\"color: #008080; text-decoration-color: #008080; font-weight: bold\">-0.6247091889381409</span> Accuracy: <span style=\"color: #008080; text-decoration-color: #008080; font-weight: bold\">81.423</span> %                    <span style=\"color: #7f7f7f; text-decoration-color: #7f7f7f\">            </span>\n<span style=\"color: #7fbfbf; text-decoration-color: #7fbfbf\">                    </span>                                                                                   <span style=\"color: #7f7f7f; text-decoration-color: #7f7f7f\">            </span>\n</pre>\n"
     },
     "metadata": {},
     "output_type": "display_data"
    },
    {
     "name": "stderr",
     "output_type": "stream",
     "text": [
      "\n",
      "\n",
      " 42%|████▏     | 21/50 [00:23<00:32,  1.14s/it]\u001B[A\u001B[A\n",
      "\n",
      " 44%|████▍     | 22/50 [00:25<00:36,  1.32s/it]\u001B[A\u001B[A\n",
      "\n",
      " 46%|████▌     | 23/50 [00:27<00:36,  1.35s/it]\u001B[A\u001B[A\n",
      "\n",
      " 48%|████▊     | 24/50 [00:28<00:33,  1.30s/it]\u001B[A\u001B[A\n",
      "\n",
      " 50%|█████     | 25/50 [00:29<00:31,  1.27s/it]\u001B[A\u001B[A\n",
      "\n",
      " 52%|█████▏    | 26/50 [00:30<00:30,  1.26s/it]\u001B[A\u001B[A\n",
      "\n",
      " 54%|█████▍    | 27/50 [00:31<00:28,  1.24s/it]\u001B[A\u001B[A\n",
      "\n",
      " 56%|█████▌    | 28/50 [00:33<00:26,  1.22s/it]\u001B[A\u001B[A\n",
      "\n",
      " 58%|█████▊    | 29/50 [00:34<00:24,  1.19s/it]\u001B[A\u001B[A\n",
      "\n",
      " 60%|██████    | 30/50 [00:35<00:23,  1.16s/it]\u001B[A\u001B[A\n",
      "\n",
      " 62%|██████▏   | 31/50 [00:36<00:21,  1.14s/it]\u001B[A\u001B[A\n",
      "\n",
      " 64%|██████▍   | 32/50 [00:37<00:20,  1.13s/it]\u001B[A\u001B[A\n",
      "\n",
      " 66%|██████▌   | 33/50 [00:38<00:18,  1.11s/it]\u001B[A\u001B[A\n",
      "\n",
      " 68%|██████▊   | 34/50 [00:39<00:17,  1.10s/it]\u001B[A\u001B[A\n",
      "\n",
      " 70%|███████   | 35/50 [00:40<00:16,  1.09s/it]\u001B[A\u001B[A\n",
      "\n",
      " 72%|███████▏  | 36/50 [00:41<00:15,  1.08s/it]\u001B[A\u001B[A\n",
      "\n",
      " 74%|███████▍  | 37/50 [00:42<00:14,  1.09s/it]\u001B[A\u001B[A\n",
      "\n",
      " 76%|███████▌  | 38/50 [00:43<00:12,  1.08s/it]\u001B[A\u001B[A\n",
      "\n",
      " 78%|███████▊  | 39/50 [00:45<00:11,  1.09s/it]\u001B[A\u001B[A\n",
      "\n",
      " 80%|████████  | 40/50 [00:46<00:11,  1.12s/it]\u001B[A\u001B[A"
     ]
    },
    {
     "data": {
      "text/plain": "\u001B[2;36m[04/04/25 18:09:37]\u001B[0m\u001B[2;36m \u001B[0m\u001B[34mINFO    \u001B[0m                                                                           \u001B]8;id=406531;file://C:\\Users\\kyawk\\Desktop\\robustness_of_gnns_at_scale-main\\rgnn_at_scale\\attacks\\prbcd.py\u001B\\\u001B[2mprbcd.py\u001B[0m\u001B]8;;\u001B\\\u001B[2m:\u001B[0m\u001B]8;id=580994;file://C:\\Users\\kyawk\\Desktop\\robustness_of_gnns_at_scale-main\\rgnn_at_scale\\attacks\\prbcd.py#136\u001B\\\u001B[2m136\u001B[0m\u001B]8;;\u001B\\\n\u001B[2;36m                    \u001B[0m         Epoch: \u001B[1;36m40\u001B[0m Loss: \u001B[1;36m-0.6125603318214417\u001B[0m Accuracy: \u001B[1;36m80.435\u001B[0m %                    \u001B[2m            \u001B[0m\n\u001B[2;36m                    \u001B[0m                                                                                   \u001B[2m            \u001B[0m\n",
      "text/html": "<pre style=\"white-space:pre;overflow-x:auto;line-height:normal;font-family:Menlo,'DejaVu Sans Mono',consolas,'Courier New',monospace\"><span style=\"color: #7fbfbf; text-decoration-color: #7fbfbf\">[04/04/25 18:09:37] </span><span style=\"color: #000080; text-decoration-color: #000080\">INFO    </span>                                                                           <a href=\"file://C:\\Users\\kyawk\\Desktop\\robustness_of_gnns_at_scale-main\\rgnn_at_scale\\attacks\\prbcd.py\" target=\"_blank\"><span style=\"color: #7f7f7f; text-decoration-color: #7f7f7f\">prbcd.py</span></a><span style=\"color: #7f7f7f; text-decoration-color: #7f7f7f\">:</span><a href=\"file://C:\\Users\\kyawk\\Desktop\\robustness_of_gnns_at_scale-main\\rgnn_at_scale\\attacks\\prbcd.py#136\" target=\"_blank\"><span style=\"color: #7f7f7f; text-decoration-color: #7f7f7f\">136</span></a>\n<span style=\"color: #7fbfbf; text-decoration-color: #7fbfbf\">                    </span>         Epoch: <span style=\"color: #008080; text-decoration-color: #008080; font-weight: bold\">40</span> Loss: <span style=\"color: #008080; text-decoration-color: #008080; font-weight: bold\">-0.6125603318214417</span> Accuracy: <span style=\"color: #008080; text-decoration-color: #008080; font-weight: bold\">80.435</span> %                    <span style=\"color: #7f7f7f; text-decoration-color: #7f7f7f\">            </span>\n<span style=\"color: #7fbfbf; text-decoration-color: #7fbfbf\">                    </span>                                                                                   <span style=\"color: #7f7f7f; text-decoration-color: #7f7f7f\">            </span>\n</pre>\n"
     },
     "metadata": {},
     "output_type": "display_data"
    },
    {
     "name": "stderr",
     "output_type": "stream",
     "text": [
      "\n",
      "\n",
      " 82%|████████▏ | 41/50 [00:47<00:10,  1.16s/it]\u001B[A\u001B[A\n",
      "\n",
      " 84%|████████▍ | 42/50 [00:48<00:09,  1.21s/it]\u001B[A\u001B[A\n",
      "\n",
      " 86%|████████▌ | 43/50 [00:49<00:08,  1.18s/it]\u001B[A\u001B[A\n",
      "\n",
      " 88%|████████▊ | 44/50 [00:50<00:06,  1.14s/it]\u001B[A\u001B[A\n",
      "\n",
      " 90%|█████████ | 45/50 [00:51<00:05,  1.11s/it]\u001B[A\u001B[A\n",
      "\n",
      " 92%|█████████▏| 46/50 [00:53<00:04,  1.10s/it]\u001B[A\u001B[A\n",
      "\n",
      " 94%|█████████▍| 47/50 [00:54<00:03,  1.10s/it]\u001B[A\u001B[A\n",
      "\n",
      " 96%|█████████▌| 48/50 [00:55<00:02,  1.09s/it]\u001B[A\u001B[A\n",
      "\n",
      " 98%|█████████▊| 49/50 [00:56<00:01,  1.09s/it]\u001B[A\u001B[A\n",
      "\n",
      "100%|██████████| 50/50 [00:57<00:00,  1.15s/it]\u001B[A\u001B[A\n"
     ]
    },
    {
     "data": {
      "text/plain": "\u001B[2;36m[04/04/25 18:09:55]\u001B[0m\u001B[2;36m \u001B[0m\u001B[34mINFO    \u001B[0m Lock \u001B[1;36m1487050370640\u001B[0m acquired on cache\\evasion_global_adj.json.lock      \u001B]8;id=509654;file://C:\\Users\\kyawk\\anaconda3\\envs\\Masterarbeit_2_0\\Lib\\site-packages\\filelock.py\u001B\\\u001B[2mfilelock.py\u001B[0m\u001B]8;;\u001B\\\u001B[2m:\u001B[0m\u001B]8;id=474924;file://C:\\Users\\kyawk\\anaconda3\\envs\\Masterarbeit_2_0\\Lib\\site-packages\\filelock.py#274\u001B\\\u001B[2m274\u001B[0m\u001B]8;;\u001B\\\n",
      "text/html": "<pre style=\"white-space:pre;overflow-x:auto;line-height:normal;font-family:Menlo,'DejaVu Sans Mono',consolas,'Courier New',monospace\"><span style=\"color: #7fbfbf; text-decoration-color: #7fbfbf\">[04/04/25 18:09:55] </span><span style=\"color: #000080; text-decoration-color: #000080\">INFO    </span> Lock <span style=\"color: #008080; text-decoration-color: #008080; font-weight: bold\">1487050370640</span> acquired on cache\\evasion_global_adj.json.lock      <a href=\"file://C:\\Users\\kyawk\\anaconda3\\envs\\Masterarbeit_2_0\\Lib\\site-packages\\filelock.py\" target=\"_blank\"><span style=\"color: #7f7f7f; text-decoration-color: #7f7f7f\">filelock.py</span></a><span style=\"color: #7f7f7f; text-decoration-color: #7f7f7f\">:</span><a href=\"file://C:\\Users\\kyawk\\anaconda3\\envs\\Masterarbeit_2_0\\Lib\\site-packages\\filelock.py#274\" target=\"_blank\"><span style=\"color: #7f7f7f; text-decoration-color: #7f7f7f\">274</span></a>\n</pre>\n"
     },
     "metadata": {},
     "output_type": "display_data"
    },
    {
     "data": {
      "text/plain": "\u001B[2;36m                   \u001B[0m\u001B[2;36m \u001B[0m\u001B[34mINFO    \u001B[0m Lock \u001B[1;36m1487050370640\u001B[0m released on cache\\evasion_global_adj.json.lock      \u001B]8;id=90462;file://C:\\Users\\kyawk\\anaconda3\\envs\\Masterarbeit_2_0\\Lib\\site-packages\\filelock.py\u001B\\\u001B[2mfilelock.py\u001B[0m\u001B]8;;\u001B\\\u001B[2m:\u001B[0m\u001B]8;id=618258;file://C:\\Users\\kyawk\\anaconda3\\envs\\Masterarbeit_2_0\\Lib\\site-packages\\filelock.py#318\u001B\\\u001B[2m318\u001B[0m\u001B]8;;\u001B\\\n",
      "text/html": "<pre style=\"white-space:pre;overflow-x:auto;line-height:normal;font-family:Menlo,'DejaVu Sans Mono',consolas,'Courier New',monospace\"><span style=\"color: #7fbfbf; text-decoration-color: #7fbfbf\">                    </span><span style=\"color: #000080; text-decoration-color: #000080\">INFO    </span> Lock <span style=\"color: #008080; text-decoration-color: #008080; font-weight: bold\">1487050370640</span> released on cache\\evasion_global_adj.json.lock      <a href=\"file://C:\\Users\\kyawk\\anaconda3\\envs\\Masterarbeit_2_0\\Lib\\site-packages\\filelock.py\" target=\"_blank\"><span style=\"color: #7f7f7f; text-decoration-color: #7f7f7f\">filelock.py</span></a><span style=\"color: #7f7f7f; text-decoration-color: #7f7f7f\">:</span><a href=\"file://C:\\Users\\kyawk\\anaconda3\\envs\\Masterarbeit_2_0\\Lib\\site-packages\\filelock.py#318\" target=\"_blank\"><span style=\"color: #7f7f7f; text-decoration-color: #7f7f7f\">318</span></a>\n</pre>\n"
     },
     "metadata": {},
     "output_type": "display_data"
    },
    {
     "data": {
      "text/plain": "\u001B[2;36m                   \u001B[0m\u001B[2;36m \u001B[0m\u001B[34mINFO    \u001B[0m Lock \u001B[1;36m1487051653200\u001B[0m acquired on cache\\evasion_global_attr.json.lock     \u001B]8;id=121553;file://C:\\Users\\kyawk\\anaconda3\\envs\\Masterarbeit_2_0\\Lib\\site-packages\\filelock.py\u001B\\\u001B[2mfilelock.py\u001B[0m\u001B]8;;\u001B\\\u001B[2m:\u001B[0m\u001B]8;id=597870;file://C:\\Users\\kyawk\\anaconda3\\envs\\Masterarbeit_2_0\\Lib\\site-packages\\filelock.py#274\u001B\\\u001B[2m274\u001B[0m\u001B]8;;\u001B\\\n",
      "text/html": "<pre style=\"white-space:pre;overflow-x:auto;line-height:normal;font-family:Menlo,'DejaVu Sans Mono',consolas,'Courier New',monospace\"><span style=\"color: #7fbfbf; text-decoration-color: #7fbfbf\">                    </span><span style=\"color: #000080; text-decoration-color: #000080\">INFO    </span> Lock <span style=\"color: #008080; text-decoration-color: #008080; font-weight: bold\">1487051653200</span> acquired on cache\\evasion_global_attr.json.lock     <a href=\"file://C:\\Users\\kyawk\\anaconda3\\envs\\Masterarbeit_2_0\\Lib\\site-packages\\filelock.py\" target=\"_blank\"><span style=\"color: #7f7f7f; text-decoration-color: #7f7f7f\">filelock.py</span></a><span style=\"color: #7f7f7f; text-decoration-color: #7f7f7f\">:</span><a href=\"file://C:\\Users\\kyawk\\anaconda3\\envs\\Masterarbeit_2_0\\Lib\\site-packages\\filelock.py#274\" target=\"_blank\"><span style=\"color: #7f7f7f; text-decoration-color: #7f7f7f\">274</span></a>\n</pre>\n"
     },
     "metadata": {},
     "output_type": "display_data"
    },
    {
     "data": {
      "text/plain": "\u001B[2;36m                   \u001B[0m\u001B[2;36m \u001B[0m\u001B[34mINFO    \u001B[0m Lock \u001B[1;36m1487051653200\u001B[0m released on cache\\evasion_global_attr.json.lock     \u001B]8;id=637321;file://C:\\Users\\kyawk\\anaconda3\\envs\\Masterarbeit_2_0\\Lib\\site-packages\\filelock.py\u001B\\\u001B[2mfilelock.py\u001B[0m\u001B]8;;\u001B\\\u001B[2m:\u001B[0m\u001B]8;id=739017;file://C:\\Users\\kyawk\\anaconda3\\envs\\Masterarbeit_2_0\\Lib\\site-packages\\filelock.py#318\u001B\\\u001B[2m318\u001B[0m\u001B]8;;\u001B\\\n",
      "text/html": "<pre style=\"white-space:pre;overflow-x:auto;line-height:normal;font-family:Menlo,'DejaVu Sans Mono',consolas,'Courier New',monospace\"><span style=\"color: #7fbfbf; text-decoration-color: #7fbfbf\">                    </span><span style=\"color: #000080; text-decoration-color: #000080\">INFO    </span> Lock <span style=\"color: #008080; text-decoration-color: #008080; font-weight: bold\">1487051653200</span> released on cache\\evasion_global_attr.json.lock     <a href=\"file://C:\\Users\\kyawk\\anaconda3\\envs\\Masterarbeit_2_0\\Lib\\site-packages\\filelock.py\" target=\"_blank\"><span style=\"color: #7f7f7f; text-decoration-color: #7f7f7f\">filelock.py</span></a><span style=\"color: #7f7f7f; text-decoration-color: #7f7f7f\">:</span><a href=\"file://C:\\Users\\kyawk\\anaconda3\\envs\\Masterarbeit_2_0\\Lib\\site-packages\\filelock.py#318\" target=\"_blank\"><span style=\"color: #7f7f7f; text-decoration-color: #7f7f7f\">318</span></a>\n</pre>\n"
     },
     "metadata": {},
     "output_type": "display_data"
    },
    {
     "name": "stdout",
     "output_type": "stream",
     "text": [
      "{'results': [{'label': 'Vanilla GCN', 'epsilon': 0.25, 'accuracy': 0.8007904887199402}]}\n"
     ]
    }
   ],
   "execution_count": 67
  },
  {
   "cell_type": "code",
   "source": [
    "perturbed_acc_cert = global_prbcd_statistics_cert[\"results\"][0]['accuracy']\n",
    "print(f'Clean accuracy: {100*clean_acc:.2f}%; Accuracy after global PRBCD attack with cert: {100*perturbed_acc_cert:.2f}%')"
   ],
   "metadata": {
    "colab": {
     "base_uri": "https://localhost:8080/"
    },
    "id": "UQwlL5mnkXHO",
    "outputId": "03150aca-0629-443b-c494-a01bdd06b653",
    "ExecuteTime": {
     "end_time": "2025-04-04T16:10:06.588738500Z",
     "start_time": "2025-04-04T16:10:05.823448800Z"
    }
   },
   "outputs": [
    {
     "name": "stdout",
     "output_type": "stream",
     "text": [
      "Clean accuracy: 83.48%; Accuracy after global PRBCD attack with cert: 82.09%\n"
     ]
    }
   ],
   "execution_count": 68
  },
  {
   "metadata": {
    "ExecuteTime": {
     "end_time": "2025-04-04T16:10:09.184257300Z",
     "start_time": "2025-04-04T16:10:08.733488300Z"
    }
   },
   "cell_type": "code",
   "source": [
    "perturbed_acc = global_prbcd_statistics[\"results\"][0]['accuracy']\n",
    "print(f'Clean accuracy: {100*clean_acc:.2f}%; Accuracy after global PRBCD attack: {100*perturbed_acc:.2f}%')"
   ],
   "outputs": [
    {
     "name": "stdout",
     "output_type": "stream",
     "text": [
      "Clean accuracy: 83.48%; Accuracy after global PRBCD attack: 80.08%\n"
     ]
    }
   ],
   "execution_count": 69
  },
  {
   "cell_type": "code",
   "execution_count": null,
   "outputs": [],
   "source": [],
   "metadata": {
    "collapsed": false
   }
  }
 ]
}
