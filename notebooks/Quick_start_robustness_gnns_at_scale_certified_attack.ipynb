{
 "nbformat": 4,
 "nbformat_minor": 0,
 "metadata": {
  "colab": {
   "name": "Quick_start-robustness_gnns_at_scale.ipynb",
   "provenance": [],
   "include_colab_link": true
  },
  "kernelspec": {
   "name": "python3",
   "language": "python",
   "display_name": "Python 3 (ipykernel)"
  },
  "language_info": {
   "name": "python"
  },
  "widgets": {
   "application/vnd.jupyter.widget-state+json": {
    "22737c8a2e514705b67a371df5efa80d": {
     "model_module": "@jupyter-widgets/controls",
     "model_name": "HBoxModel",
     "model_module_version": "1.5.0",
     "state": {
      "_dom_classes": [],
      "_model_module": "@jupyter-widgets/controls",
      "_model_module_version": "1.5.0",
      "_model_name": "HBoxModel",
      "_view_count": null,
      "_view_module": "@jupyter-widgets/controls",
      "_view_module_version": "1.5.0",
      "_view_name": "HBoxView",
      "box_style": "",
      "children": [
       "IPY_MODEL_b327d356e05248d8936bb6d7b72c42d5",
       "IPY_MODEL_d07630ee143e41b28e99cc5dba05eb71",
       "IPY_MODEL_78517141da964ca8a6c165840abc95e2"
      ],
      "layout": "IPY_MODEL_eec19e7ba9cd4039883ecc48a280b0a6"
     }
    },
    "b327d356e05248d8936bb6d7b72c42d5": {
     "model_module": "@jupyter-widgets/controls",
     "model_name": "HTMLModel",
     "model_module_version": "1.5.0",
     "state": {
      "_dom_classes": [],
      "_model_module": "@jupyter-widgets/controls",
      "_model_module_version": "1.5.0",
      "_model_name": "HTMLModel",
      "_view_count": null,
      "_view_module": "@jupyter-widgets/controls",
      "_view_module_version": "1.5.0",
      "_view_name": "HTMLView",
      "description": "",
      "description_tooltip": null,
      "layout": "IPY_MODEL_57e0eb7b8c104ea9ad224c49bcf003ba",
      "placeholder": "​",
      "style": "IPY_MODEL_b3f12e2a75164523aee4dceb4e1e204a",
      "value": "Training...:  22%"
     }
    },
    "d07630ee143e41b28e99cc5dba05eb71": {
     "model_module": "@jupyter-widgets/controls",
     "model_name": "FloatProgressModel",
     "model_module_version": "1.5.0",
     "state": {
      "_dom_classes": [],
      "_model_module": "@jupyter-widgets/controls",
      "_model_module_version": "1.5.0",
      "_model_name": "FloatProgressModel",
      "_view_count": null,
      "_view_module": "@jupyter-widgets/controls",
      "_view_module_version": "1.5.0",
      "_view_name": "ProgressView",
      "bar_style": "danger",
      "description": "",
      "description_tooltip": null,
      "layout": "IPY_MODEL_9ed1649272524285943ede29436174f6",
      "max": 3000,
      "min": 0,
      "orientation": "horizontal",
      "style": "IPY_MODEL_dfac61d2a44e4e15af62421430701383",
      "value": 665
     }
    },
    "78517141da964ca8a6c165840abc95e2": {
     "model_module": "@jupyter-widgets/controls",
     "model_name": "HTMLModel",
     "model_module_version": "1.5.0",
     "state": {
      "_dom_classes": [],
      "_model_module": "@jupyter-widgets/controls",
      "_model_module_version": "1.5.0",
      "_model_name": "HTMLModel",
      "_view_count": null,
      "_view_module": "@jupyter-widgets/controls",
      "_view_module_version": "1.5.0",
      "_view_name": "HTMLView",
      "description": "",
      "description_tooltip": null,
      "layout": "IPY_MODEL_2057b1ca6f104fca86cdebc03cc1a28d",
      "placeholder": "​",
      "style": "IPY_MODEL_31770a4d11914717972b8561c3f5d973",
      "value": " 665/3000 [01:14&lt;03:42, 10.52it/s]"
     }
    },
    "eec19e7ba9cd4039883ecc48a280b0a6": {
     "model_module": "@jupyter-widgets/base",
     "model_name": "LayoutModel",
     "model_module_version": "1.2.0",
     "state": {
      "_model_module": "@jupyter-widgets/base",
      "_model_module_version": "1.2.0",
      "_model_name": "LayoutModel",
      "_view_count": null,
      "_view_module": "@jupyter-widgets/base",
      "_view_module_version": "1.2.0",
      "_view_name": "LayoutView",
      "align_content": null,
      "align_items": null,
      "align_self": null,
      "border": null,
      "bottom": null,
      "display": null,
      "flex": null,
      "flex_flow": null,
      "grid_area": null,
      "grid_auto_columns": null,
      "grid_auto_flow": null,
      "grid_auto_rows": null,
      "grid_column": null,
      "grid_gap": null,
      "grid_row": null,
      "grid_template_areas": null,
      "grid_template_columns": null,
      "grid_template_rows": null,
      "height": null,
      "justify_content": null,
      "justify_items": null,
      "left": null,
      "margin": null,
      "max_height": null,
      "max_width": null,
      "min_height": null,
      "min_width": null,
      "object_fit": null,
      "object_position": null,
      "order": null,
      "overflow": null,
      "overflow_x": null,
      "overflow_y": null,
      "padding": null,
      "right": null,
      "top": null,
      "visibility": null,
      "width": null
     }
    },
    "57e0eb7b8c104ea9ad224c49bcf003ba": {
     "model_module": "@jupyter-widgets/base",
     "model_name": "LayoutModel",
     "model_module_version": "1.2.0",
     "state": {
      "_model_module": "@jupyter-widgets/base",
      "_model_module_version": "1.2.0",
      "_model_name": "LayoutModel",
      "_view_count": null,
      "_view_module": "@jupyter-widgets/base",
      "_view_module_version": "1.2.0",
      "_view_name": "LayoutView",
      "align_content": null,
      "align_items": null,
      "align_self": null,
      "border": null,
      "bottom": null,
      "display": null,
      "flex": null,
      "flex_flow": null,
      "grid_area": null,
      "grid_auto_columns": null,
      "grid_auto_flow": null,
      "grid_auto_rows": null,
      "grid_column": null,
      "grid_gap": null,
      "grid_row": null,
      "grid_template_areas": null,
      "grid_template_columns": null,
      "grid_template_rows": null,
      "height": null,
      "justify_content": null,
      "justify_items": null,
      "left": null,
      "margin": null,
      "max_height": null,
      "max_width": null,
      "min_height": null,
      "min_width": null,
      "object_fit": null,
      "object_position": null,
      "order": null,
      "overflow": null,
      "overflow_x": null,
      "overflow_y": null,
      "padding": null,
      "right": null,
      "top": null,
      "visibility": null,
      "width": null
     }
    },
    "b3f12e2a75164523aee4dceb4e1e204a": {
     "model_module": "@jupyter-widgets/controls",
     "model_name": "DescriptionStyleModel",
     "model_module_version": "1.5.0",
     "state": {
      "_model_module": "@jupyter-widgets/controls",
      "_model_module_version": "1.5.0",
      "_model_name": "DescriptionStyleModel",
      "_view_count": null,
      "_view_module": "@jupyter-widgets/base",
      "_view_module_version": "1.2.0",
      "_view_name": "StyleView",
      "description_width": ""
     }
    },
    "9ed1649272524285943ede29436174f6": {
     "model_module": "@jupyter-widgets/base",
     "model_name": "LayoutModel",
     "model_module_version": "1.2.0",
     "state": {
      "_model_module": "@jupyter-widgets/base",
      "_model_module_version": "1.2.0",
      "_model_name": "LayoutModel",
      "_view_count": null,
      "_view_module": "@jupyter-widgets/base",
      "_view_module_version": "1.2.0",
      "_view_name": "LayoutView",
      "align_content": null,
      "align_items": null,
      "align_self": null,
      "border": null,
      "bottom": null,
      "display": null,
      "flex": null,
      "flex_flow": null,
      "grid_area": null,
      "grid_auto_columns": null,
      "grid_auto_flow": null,
      "grid_auto_rows": null,
      "grid_column": null,
      "grid_gap": null,
      "grid_row": null,
      "grid_template_areas": null,
      "grid_template_columns": null,
      "grid_template_rows": null,
      "height": null,
      "justify_content": null,
      "justify_items": null,
      "left": null,
      "margin": null,
      "max_height": null,
      "max_width": null,
      "min_height": null,
      "min_width": null,
      "object_fit": null,
      "object_position": null,
      "order": null,
      "overflow": null,
      "overflow_x": null,
      "overflow_y": null,
      "padding": null,
      "right": null,
      "top": null,
      "visibility": null,
      "width": null
     }
    },
    "dfac61d2a44e4e15af62421430701383": {
     "model_module": "@jupyter-widgets/controls",
     "model_name": "ProgressStyleModel",
     "model_module_version": "1.5.0",
     "state": {
      "_model_module": "@jupyter-widgets/controls",
      "_model_module_version": "1.5.0",
      "_model_name": "ProgressStyleModel",
      "_view_count": null,
      "_view_module": "@jupyter-widgets/base",
      "_view_module_version": "1.2.0",
      "_view_name": "StyleView",
      "bar_color": null,
      "description_width": ""
     }
    },
    "2057b1ca6f104fca86cdebc03cc1a28d": {
     "model_module": "@jupyter-widgets/base",
     "model_name": "LayoutModel",
     "model_module_version": "1.2.0",
     "state": {
      "_model_module": "@jupyter-widgets/base",
      "_model_module_version": "1.2.0",
      "_model_name": "LayoutModel",
      "_view_count": null,
      "_view_module": "@jupyter-widgets/base",
      "_view_module_version": "1.2.0",
      "_view_name": "LayoutView",
      "align_content": null,
      "align_items": null,
      "align_self": null,
      "border": null,
      "bottom": null,
      "display": null,
      "flex": null,
      "flex_flow": null,
      "grid_area": null,
      "grid_auto_columns": null,
      "grid_auto_flow": null,
      "grid_auto_rows": null,
      "grid_column": null,
      "grid_gap": null,
      "grid_row": null,
      "grid_template_areas": null,
      "grid_template_columns": null,
      "grid_template_rows": null,
      "height": null,
      "justify_content": null,
      "justify_items": null,
      "left": null,
      "margin": null,
      "max_height": null,
      "max_width": null,
      "min_height": null,
      "min_width": null,
      "object_fit": null,
      "object_position": null,
      "order": null,
      "overflow": null,
      "overflow_x": null,
      "overflow_y": null,
      "padding": null,
      "right": null,
      "top": null,
      "visibility": null,
      "width": null
     }
    },
    "31770a4d11914717972b8561c3f5d973": {
     "model_module": "@jupyter-widgets/controls",
     "model_name": "DescriptionStyleModel",
     "model_module_version": "1.5.0",
     "state": {
      "_model_module": "@jupyter-widgets/controls",
      "_model_module_version": "1.5.0",
      "_model_name": "DescriptionStyleModel",
      "_view_count": null,
      "_view_module": "@jupyter-widgets/base",
      "_view_module_version": "1.2.0",
      "_view_name": "StyleView",
      "description_width": ""
     }
    }
   }
  }
 },
 "cells": [
  {
   "cell_type": "markdown",
   "source": [
    "# Robustness of Graph Neural Networks at Scale - Quick Start\n",
    "\n",
    "This notebook can be run in google colab and serves as a quick introduction to the [Robustness of Graph Neural Networks at Scale](https://github.com/sigeisler/robustness_of_gnns_at_scale) repository.\n",
    "\n",
    "## 0. Setup\n",
    "\n",
    "First, let's get the code and install requirements.\n"
   ],
   "metadata": {
    "id": "ixdVBV5PugOh"
   }
  },
  {
   "cell_type": "code",
   "source": [
    "import config\n",
    "%cd {config.PROJECT_DIR}"
   ],
   "metadata": {
    "id": "Vb3p2trlhuqK",
    "outputId": "4e94d35a-b70c-4365-e4e1-99418b990f65",
    "colab": {
     "base_uri": "https://localhost:8080/"
    },
    "ExecuteTime": {
     "end_time": "2025-04-25T11:06:43.532772100Z",
     "start_time": "2025-04-25T11:06:43.517248700Z"
    }
   },
   "outputs": [
    {
     "name": "stdout",
     "output_type": "stream",
     "text": [
      "C:\\Users\\kyawk\\Desktop\\robustness_of_gnns_at_scale-main\n"
     ]
    },
    {
     "name": "stderr",
     "output_type": "stream",
     "text": [
      "C:\\Users\\kyawk\\anaconda3\\envs\\Masterarbeit_2_0\\Lib\\site-packages\\IPython\\core\\magics\\osm.py:417: UserWarning: This is now an optional IPython functionality, setting dhist requires you to install the `pickleshare` library.\n",
      "  self.shell.db['dhist'] = compress_dhist(dhist)[-100:]\n"
     ]
    }
   ],
   "execution_count": 1
  },
  {
   "cell_type": "markdown",
   "source": [
    "### Imports"
   ],
   "metadata": {
    "id": "FQScUvGr-b08"
   }
  },
  {
   "cell_type": "code",
   "source": [
    "# run\n",
    "from timeit import default_timer as timer\n",
    "import seml"
   ],
   "metadata": {
    "id": "Mj15BeWkb2vU",
    "ExecuteTime": {
     "end_time": "2025-04-25T11:06:43.886244800Z",
     "start_time": "2025-04-25T11:06:43.531770100Z"
    }
   },
   "outputs": [],
   "execution_count": 2
  },
  {
   "cell_type": "code",
   "source": [
    "#7 run\n",
    "#%cd robustness_of_gnns_at_scale\n",
    "from matplotlib import pyplot as plt\n",
    "\n",
    "from experiments import (\n",
    "    experiment_train,\n",
    "    experiment_local_attack_direct,\n",
    "    experiment_global_attack_direct\n",
    ")\n",
    "\n",
    "%matplotlib inline\n",
    "\n",
    "%load_ext autoreload\n",
    "%autoreload 2"
   ],
   "metadata": {
    "id": "dla6ioi_FBWn",
    "outputId": "98e40cf8-4f6c-426f-edc4-6802630765ab",
    "colab": {
     "base_uri": "https://localhost:8080/",
     "height": 359
    },
    "ExecuteTime": {
     "end_time": "2025-04-25T11:06:59.037038200Z",
     "start_time": "2025-04-25T11:06:43.891242900Z"
    }
   },
   "outputs": [
    {
     "name": "stderr",
     "output_type": "stream",
     "text": [
      "C:\\Users\\kyawk\\anaconda3\\envs\\Masterarbeit_2_0\\Lib\\site-packages\\torch\\utils\\cpp_extension.py:414: UserWarning: Error checking compiler version for cl: [WinError 2] Das System kann die angegebene Datei nicht finden\n",
      "  warnings.warn(f'Error checking compiler version for {compiler}: {error}')\n",
      "WARNING:root:Cuda kernels could not loaded -> no CUDA support!\n",
      "WARNING:root:Importing setup_logger directly from seml is deprecated.\n",
      "Use from seml.experiment import setup_logger instead.\n",
      "Note that seml.experiment.Experiment already includes the logger setup.\n",
      "See https://github.com/TUM-DAML/seml/blob/master/examples/example_experiment.py\n"
     ]
    },
    {
     "data": {
      "text/plain": "\u001B[2;36m[04/25/25 13:06:57]\u001B[0m\u001B[2;36m \u001B[0m\u001B[33mWARNING \u001B[0m Importing setup_logger directly from seml is deprecated.                \u001B]8;id=787785;file://C:\\Users\\kyawk\\anaconda3\\envs\\Masterarbeit_2_0\\Lib\\site-packages\\seml\\__init__.py\u001B\\\u001B[2m__init__.py\u001B[0m\u001B]8;;\u001B\\\u001B[2m:\u001B[0m\u001B]8;id=220957;file://C:\\Users\\kyawk\\anaconda3\\envs\\Masterarbeit_2_0\\Lib\\site-packages\\seml\\__init__.py#10\u001B\\\u001B[2m10\u001B[0m\u001B]8;;\u001B\\\n\u001B[2;36m                    \u001B[0m         Use from seml.experiment import setup_logger instead.                   \u001B[2m              \u001B[0m\n\u001B[2;36m                    \u001B[0m         Note that seml.experiment.Experiment already includes the logger setup. \u001B[2m              \u001B[0m\n\u001B[2;36m                    \u001B[0m         See                                                                     \u001B[2m              \u001B[0m\n\u001B[2;36m                    \u001B[0m         \u001B[4;94mhttps://github.com/TUM-DAML/seml/blob/master/examples/example_experimen\u001B[0m \u001B[2m              \u001B[0m\n\u001B[2;36m                    \u001B[0m         \u001B[4;94mt.py\u001B[0m                                                                    \u001B[2m              \u001B[0m\n",
      "text/html": "<pre style=\"white-space:pre;overflow-x:auto;line-height:normal;font-family:Menlo,'DejaVu Sans Mono',consolas,'Courier New',monospace\"><span style=\"color: #7fbfbf; text-decoration-color: #7fbfbf\">[04/25/25 13:06:57] </span><span style=\"color: #808000; text-decoration-color: #808000\">WARNING </span> Importing setup_logger directly from seml is deprecated.                <a href=\"file://C:\\Users\\kyawk\\anaconda3\\envs\\Masterarbeit_2_0\\Lib\\site-packages\\seml\\__init__.py\" target=\"_blank\"><span style=\"color: #7f7f7f; text-decoration-color: #7f7f7f\">__init__.py</span></a><span style=\"color: #7f7f7f; text-decoration-color: #7f7f7f\">:</span><a href=\"file://C:\\Users\\kyawk\\anaconda3\\envs\\Masterarbeit_2_0\\Lib\\site-packages\\seml\\__init__.py#10\" target=\"_blank\"><span style=\"color: #7f7f7f; text-decoration-color: #7f7f7f\">10</span></a>\n<span style=\"color: #7fbfbf; text-decoration-color: #7fbfbf\">                    </span>         Use from seml.experiment import setup_logger instead.                   <span style=\"color: #7f7f7f; text-decoration-color: #7f7f7f\">              </span>\n<span style=\"color: #7fbfbf; text-decoration-color: #7fbfbf\">                    </span>         Note that seml.experiment.Experiment already includes the logger setup. <span style=\"color: #7f7f7f; text-decoration-color: #7f7f7f\">              </span>\n<span style=\"color: #7fbfbf; text-decoration-color: #7fbfbf\">                    </span>         See                                                                     <span style=\"color: #7f7f7f; text-decoration-color: #7f7f7f\">              </span>\n<span style=\"color: #7fbfbf; text-decoration-color: #7fbfbf\">                    </span>         <span style=\"color: #0000ff; text-decoration-color: #0000ff; text-decoration: underline\">https://github.com/TUM-DAML/seml/blob/master/examples/example_experimen</span> <span style=\"color: #7f7f7f; text-decoration-color: #7f7f7f\">              </span>\n<span style=\"color: #7fbfbf; text-decoration-color: #7fbfbf\">                    </span>         <span style=\"color: #0000ff; text-decoration-color: #0000ff; text-decoration: underline\">t.py</span>                                                                    <span style=\"color: #7f7f7f; text-decoration-color: #7f7f7f\">              </span>\n</pre>\n"
     },
     "metadata": {},
     "output_type": "display_data"
    },
    {
     "data": {
      "text/plain": "\u001B[2;36m[04/25/25 13:06:58]\u001B[0m\u001B[2;36m \u001B[0m\u001B[33mWARNING \u001B[0m Importing setup_logger directly from seml is deprecated.                \u001B]8;id=83140;file://C:\\Users\\kyawk\\anaconda3\\envs\\Masterarbeit_2_0\\Lib\\site-packages\\seml\\__init__.py\u001B\\\u001B[2m__init__.py\u001B[0m\u001B]8;;\u001B\\\u001B[2m:\u001B[0m\u001B]8;id=795346;file://C:\\Users\\kyawk\\anaconda3\\envs\\Masterarbeit_2_0\\Lib\\site-packages\\seml\\__init__.py#10\u001B\\\u001B[2m10\u001B[0m\u001B]8;;\u001B\\\n\u001B[2;36m                    \u001B[0m         Use from seml.experiment import setup_logger instead.                   \u001B[2m              \u001B[0m\n\u001B[2;36m                    \u001B[0m         Note that seml.experiment.Experiment already includes the logger setup. \u001B[2m              \u001B[0m\n\u001B[2;36m                    \u001B[0m         See                                                                     \u001B[2m              \u001B[0m\n\u001B[2;36m                    \u001B[0m         \u001B[4;94mhttps://github.com/TUM-DAML/seml/blob/master/examples/example_experimen\u001B[0m \u001B[2m              \u001B[0m\n\u001B[2;36m                    \u001B[0m         \u001B[4;94mt.py\u001B[0m                                                                    \u001B[2m              \u001B[0m\n",
      "text/html": "<pre style=\"white-space:pre;overflow-x:auto;line-height:normal;font-family:Menlo,'DejaVu Sans Mono',consolas,'Courier New',monospace\"><span style=\"color: #7fbfbf; text-decoration-color: #7fbfbf\">[04/25/25 13:06:58] </span><span style=\"color: #808000; text-decoration-color: #808000\">WARNING </span> Importing setup_logger directly from seml is deprecated.                <a href=\"file://C:\\Users\\kyawk\\anaconda3\\envs\\Masterarbeit_2_0\\Lib\\site-packages\\seml\\__init__.py\" target=\"_blank\"><span style=\"color: #7f7f7f; text-decoration-color: #7f7f7f\">__init__.py</span></a><span style=\"color: #7f7f7f; text-decoration-color: #7f7f7f\">:</span><a href=\"file://C:\\Users\\kyawk\\anaconda3\\envs\\Masterarbeit_2_0\\Lib\\site-packages\\seml\\__init__.py#10\" target=\"_blank\"><span style=\"color: #7f7f7f; text-decoration-color: #7f7f7f\">10</span></a>\n<span style=\"color: #7fbfbf; text-decoration-color: #7fbfbf\">                    </span>         Use from seml.experiment import setup_logger instead.                   <span style=\"color: #7f7f7f; text-decoration-color: #7f7f7f\">              </span>\n<span style=\"color: #7fbfbf; text-decoration-color: #7fbfbf\">                    </span>         Note that seml.experiment.Experiment already includes the logger setup. <span style=\"color: #7f7f7f; text-decoration-color: #7f7f7f\">              </span>\n<span style=\"color: #7fbfbf; text-decoration-color: #7fbfbf\">                    </span>         See                                                                     <span style=\"color: #7f7f7f; text-decoration-color: #7f7f7f\">              </span>\n<span style=\"color: #7fbfbf; text-decoration-color: #7fbfbf\">                    </span>         <span style=\"color: #0000ff; text-decoration-color: #0000ff; text-decoration: underline\">https://github.com/TUM-DAML/seml/blob/master/examples/example_experimen</span> <span style=\"color: #7f7f7f; text-decoration-color: #7f7f7f\">              </span>\n<span style=\"color: #7fbfbf; text-decoration-color: #7fbfbf\">                    </span>         <span style=\"color: #0000ff; text-decoration-color: #0000ff; text-decoration: underline\">t.py</span>                                                                    <span style=\"color: #7f7f7f; text-decoration-color: #7f7f7f\">              </span>\n</pre>\n"
     },
     "metadata": {},
     "output_type": "display_data"
    }
   ],
   "execution_count": 3
  },
  {
   "cell_type": "markdown",
   "source": [
    "## 1. Training\n",
    "\n",
    "For the training and evaluation code we decided to provide Sacred experiments which make it very easy to run the same code from the command line or on your cluster. To train or attack the models you can use the `script_execute_experiment` script and simply specify the respective configuration or execute the experiment directly by passing the desired configuration in [experiments/experiment_train.py](https://github.com/sigeisler/robustness_of_gnns_at_scale/blob/main/experiments/experiment_train.py#L74).\n",
    "\n",
    "In the example below, we train a `GCN` on `Cora ML`."
   ],
   "metadata": {
    "id": "Rb2y6lUbdYi_"
   }
  },
  {
   "cell_type": "code",
   "source": [
    "train_statistics = experiment_train.run(\n",
    "    data_dir = './data',\n",
    "    dataset = 'cora_ml',\n",
    "    model_params = dict(\n",
    "        label=\"Vanilla GCN\",\n",
    "        model=\"GCN\",\n",
    "        do_cache_adj_prep=True,\n",
    "        n_filters=64,\n",
    "        dropout=0.5,\n",
    "        svd_params=None,\n",
    "        jaccard_params=None,\n",
    "        gdc_params={\"alpha\": 0.15, \"k\": 64}),\n",
    "    train_params = dict(\n",
    "        lr=1e-2,\n",
    "        weight_decay=1e-3,\n",
    "        patience=300,\n",
    "        max_epochs=3000),\n",
    "    binary_attr = False,\n",
    "    make_undirected = True,\n",
    "    seed=0,\n",
    "    artifact_dir = 'cache',\n",
    "    model_storage_type = 'demo',\n",
    "    ppr_cache_params = dict(),\n",
    "    #device = 0,\n",
    "    #data_device = 0,\n",
    "    device = \"cpu\",\n",
    "    data_device = \"cpu\",\n",
    "    display_steps = 100,\n",
    "    debug_level = \"info\"\n",
    ")\n",
    "\n",
    "# plot train and val loss curves\n",
    "fig, ax = plt.subplots()\n",
    "\n",
    "color = plt.rcParams['axes.prop_cycle'].by_key()['color'][0]\n",
    "ax.set_xlabel('Epoch $t$')\n",
    "ax.set_ylabel(\"Loss\")\n",
    "ax.plot(train_statistics['trace_train'], color=color, label='Train')\n",
    "\n",
    "color = plt.rcParams['axes.prop_cycle'].by_key()['color'][1]\n",
    "ax.plot(train_statistics['trace_val'], color=color, label='Val')\n",
    "ax.legend()\n",
    "\"123\"\n",
    "plt.show()"
   ],
   "metadata": {
    "id": "6mga1GGvdbLp",
    "colab": {
     "base_uri": "https://localhost:8080/",
     "height": 1000,
     "referenced_widgets": [
      "22737c8a2e514705b67a371df5efa80d",
      "b327d356e05248d8936bb6d7b72c42d5",
      "d07630ee143e41b28e99cc5dba05eb71",
      "78517141da964ca8a6c165840abc95e2",
      "eec19e7ba9cd4039883ecc48a280b0a6",
      "57e0eb7b8c104ea9ad224c49bcf003ba",
      "b3f12e2a75164523aee4dceb4e1e204a",
      "9ed1649272524285943ede29436174f6",
      "dfac61d2a44e4e15af62421430701383",
      "2057b1ca6f104fca86cdebc03cc1a28d",
      "31770a4d11914717972b8561c3f5d973"
     ]
    },
    "outputId": "4c331251-321e-46eb-dc48-1ce5205845cf",
    "ExecuteTime": {
     "end_time": "2025-04-25T11:07:49.435162700Z",
     "start_time": "2025-04-25T11:06:59.040034100Z"
    }
   },
   "outputs": [
    {
     "data": {
      "text/plain": "\u001B[2;36m[04/25/25 13:06:59]\u001B[0m\u001B[2;36m \u001B[0m\u001B[34mINFO    \u001B[0m \u001B[1m{\u001B[0m\u001B[32m'dataset'\u001B[0m: \u001B[32m'cora_ml'\u001B[0m, \u001B[32m'model_params'\u001B[0m: \u001B[1m{\u001B[0m\u001B[32m'label'\u001B[0m: \u001B[32m'Vanilla \u001B[0m     \u001B]8;id=956255;file://C:\\Users\\kyawk\\Desktop\\robustness_of_gnns_at_scale-main\\experiments\\experiment_train.py\u001B\\\u001B[2mexperiment_train.py\u001B[0m\u001B]8;;\u001B\\\u001B[2m:\u001B[0m\u001B]8;id=307151;file://C:\\Users\\kyawk\\Desktop\\robustness_of_gnns_at_scale-main\\experiments\\experiment_train.py#140\u001B\\\u001B[2m140\u001B[0m\u001B]8;;\u001B\\\n\u001B[2;36m                    \u001B[0m         \u001B[32mGCN'\u001B[0m, \u001B[32m'model'\u001B[0m: \u001B[32m'GCN'\u001B[0m, \u001B[32m'do_cache_adj_prep'\u001B[0m: \u001B[3;92mTrue\u001B[0m, \u001B[32m'n_filters'\u001B[0m:  \u001B[2m                       \u001B[0m\n\u001B[2;36m                    \u001B[0m         \u001B[1;36m64\u001B[0m, \u001B[32m'dropout'\u001B[0m: \u001B[1;36m0.5\u001B[0m, \u001B[32m'svd_params'\u001B[0m: \u001B[3;35mNone\u001B[0m, \u001B[32m'jaccard_params'\u001B[0m:      \u001B[2m                       \u001B[0m\n\u001B[2;36m                    \u001B[0m         \u001B[3;35mNone\u001B[0m, \u001B[32m'gdc_params'\u001B[0m: \u001B[1m{\u001B[0m\u001B[32m'alpha'\u001B[0m: \u001B[1;36m0.15\u001B[0m, \u001B[32m'k'\u001B[0m: \u001B[1;36m64\u001B[0m\u001B[1m}\u001B[0m\u001B[1m}\u001B[0m, \u001B[32m'train_params'\u001B[0m: \u001B[2m                       \u001B[0m\n\u001B[2;36m                    \u001B[0m         \u001B[1m{\u001B[0m\u001B[32m'lr'\u001B[0m: \u001B[1;36m0.01\u001B[0m, \u001B[32m'weight_decay'\u001B[0m: \u001B[1;36m0.001\u001B[0m, \u001B[32m'patience'\u001B[0m: \u001B[1;36m300\u001B[0m,           \u001B[2m                       \u001B[0m\n\u001B[2;36m                    \u001B[0m         \u001B[32m'max_epochs'\u001B[0m: \u001B[1;36m3000\u001B[0m\u001B[1m}\u001B[0m, \u001B[32m'binary_attr'\u001B[0m: \u001B[3;91mFalse\u001B[0m, \u001B[32m'make_undirected'\u001B[0m:  \u001B[2m                       \u001B[0m\n\u001B[2;36m                    \u001B[0m         \u001B[3;92mTrue\u001B[0m, \u001B[32m'seed'\u001B[0m: \u001B[1;36m0\u001B[0m, \u001B[32m'artifact_dir'\u001B[0m: \u001B[32m'cache'\u001B[0m,                      \u001B[2m                       \u001B[0m\n\u001B[2;36m                    \u001B[0m         \u001B[32m'model_storage_type'\u001B[0m: \u001B[32m'demo'\u001B[0m, \u001B[32m'ppr_cache_params'\u001B[0m: \u001B[1m{\u001B[0m\u001B[1m}\u001B[0m,          \u001B[2m                       \u001B[0m\n\u001B[2;36m                    \u001B[0m         \u001B[32m'device'\u001B[0m: \u001B[32m'cpu'\u001B[0m, \u001B[32m'display_steps'\u001B[0m: \u001B[1;36m100\u001B[0m, \u001B[32m'data_device'\u001B[0m: \u001B[32m'cpu'\u001B[0m\u001B[1m}\u001B[0m   \u001B[2m                       \u001B[0m\n",
      "text/html": "<pre style=\"white-space:pre;overflow-x:auto;line-height:normal;font-family:Menlo,'DejaVu Sans Mono',consolas,'Courier New',monospace\"><span style=\"color: #7fbfbf; text-decoration-color: #7fbfbf\">[04/25/25 13:06:59] </span><span style=\"color: #000080; text-decoration-color: #000080\">INFO    </span> <span style=\"font-weight: bold\">{</span><span style=\"color: #008000; text-decoration-color: #008000\">'dataset'</span>: <span style=\"color: #008000; text-decoration-color: #008000\">'cora_ml'</span>, <span style=\"color: #008000; text-decoration-color: #008000\">'model_params'</span>: <span style=\"font-weight: bold\">{</span><span style=\"color: #008000; text-decoration-color: #008000\">'label'</span>: <span style=\"color: #008000; text-decoration-color: #008000\">'Vanilla </span>     <a href=\"file://C:\\Users\\kyawk\\Desktop\\robustness_of_gnns_at_scale-main\\experiments\\experiment_train.py\" target=\"_blank\"><span style=\"color: #7f7f7f; text-decoration-color: #7f7f7f\">experiment_train.py</span></a><span style=\"color: #7f7f7f; text-decoration-color: #7f7f7f\">:</span><a href=\"file://C:\\Users\\kyawk\\Desktop\\robustness_of_gnns_at_scale-main\\experiments\\experiment_train.py#140\" target=\"_blank\"><span style=\"color: #7f7f7f; text-decoration-color: #7f7f7f\">140</span></a>\n<span style=\"color: #7fbfbf; text-decoration-color: #7fbfbf\">                    </span>         <span style=\"color: #008000; text-decoration-color: #008000\">GCN'</span>, <span style=\"color: #008000; text-decoration-color: #008000\">'model'</span>: <span style=\"color: #008000; text-decoration-color: #008000\">'GCN'</span>, <span style=\"color: #008000; text-decoration-color: #008000\">'do_cache_adj_prep'</span>: <span style=\"color: #00ff00; text-decoration-color: #00ff00; font-style: italic\">True</span>, <span style=\"color: #008000; text-decoration-color: #008000\">'n_filters'</span>:  <span style=\"color: #7f7f7f; text-decoration-color: #7f7f7f\">                       </span>\n<span style=\"color: #7fbfbf; text-decoration-color: #7fbfbf\">                    </span>         <span style=\"color: #008080; text-decoration-color: #008080; font-weight: bold\">64</span>, <span style=\"color: #008000; text-decoration-color: #008000\">'dropout'</span>: <span style=\"color: #008080; text-decoration-color: #008080; font-weight: bold\">0.5</span>, <span style=\"color: #008000; text-decoration-color: #008000\">'svd_params'</span>: <span style=\"color: #800080; text-decoration-color: #800080; font-style: italic\">None</span>, <span style=\"color: #008000; text-decoration-color: #008000\">'jaccard_params'</span>:      <span style=\"color: #7f7f7f; text-decoration-color: #7f7f7f\">                       </span>\n<span style=\"color: #7fbfbf; text-decoration-color: #7fbfbf\">                    </span>         <span style=\"color: #800080; text-decoration-color: #800080; font-style: italic\">None</span>, <span style=\"color: #008000; text-decoration-color: #008000\">'gdc_params'</span>: <span style=\"font-weight: bold\">{</span><span style=\"color: #008000; text-decoration-color: #008000\">'alpha'</span>: <span style=\"color: #008080; text-decoration-color: #008080; font-weight: bold\">0.15</span>, <span style=\"color: #008000; text-decoration-color: #008000\">'k'</span>: <span style=\"color: #008080; text-decoration-color: #008080; font-weight: bold\">64</span><span style=\"font-weight: bold\">}}</span>, <span style=\"color: #008000; text-decoration-color: #008000\">'train_params'</span>: <span style=\"color: #7f7f7f; text-decoration-color: #7f7f7f\">                       </span>\n<span style=\"color: #7fbfbf; text-decoration-color: #7fbfbf\">                    </span>         <span style=\"font-weight: bold\">{</span><span style=\"color: #008000; text-decoration-color: #008000\">'lr'</span>: <span style=\"color: #008080; text-decoration-color: #008080; font-weight: bold\">0.01</span>, <span style=\"color: #008000; text-decoration-color: #008000\">'weight_decay'</span>: <span style=\"color: #008080; text-decoration-color: #008080; font-weight: bold\">0.001</span>, <span style=\"color: #008000; text-decoration-color: #008000\">'patience'</span>: <span style=\"color: #008080; text-decoration-color: #008080; font-weight: bold\">300</span>,           <span style=\"color: #7f7f7f; text-decoration-color: #7f7f7f\">                       </span>\n<span style=\"color: #7fbfbf; text-decoration-color: #7fbfbf\">                    </span>         <span style=\"color: #008000; text-decoration-color: #008000\">'max_epochs'</span>: <span style=\"color: #008080; text-decoration-color: #008080; font-weight: bold\">3000</span><span style=\"font-weight: bold\">}</span>, <span style=\"color: #008000; text-decoration-color: #008000\">'binary_attr'</span>: <span style=\"color: #ff0000; text-decoration-color: #ff0000; font-style: italic\">False</span>, <span style=\"color: #008000; text-decoration-color: #008000\">'make_undirected'</span>:  <span style=\"color: #7f7f7f; text-decoration-color: #7f7f7f\">                       </span>\n<span style=\"color: #7fbfbf; text-decoration-color: #7fbfbf\">                    </span>         <span style=\"color: #00ff00; text-decoration-color: #00ff00; font-style: italic\">True</span>, <span style=\"color: #008000; text-decoration-color: #008000\">'seed'</span>: <span style=\"color: #008080; text-decoration-color: #008080; font-weight: bold\">0</span>, <span style=\"color: #008000; text-decoration-color: #008000\">'artifact_dir'</span>: <span style=\"color: #008000; text-decoration-color: #008000\">'cache'</span>,                      <span style=\"color: #7f7f7f; text-decoration-color: #7f7f7f\">                       </span>\n<span style=\"color: #7fbfbf; text-decoration-color: #7fbfbf\">                    </span>         <span style=\"color: #008000; text-decoration-color: #008000\">'model_storage_type'</span>: <span style=\"color: #008000; text-decoration-color: #008000\">'demo'</span>, <span style=\"color: #008000; text-decoration-color: #008000\">'ppr_cache_params'</span>: <span style=\"font-weight: bold\">{}</span>,          <span style=\"color: #7f7f7f; text-decoration-color: #7f7f7f\">                       </span>\n<span style=\"color: #7fbfbf; text-decoration-color: #7fbfbf\">                    </span>         <span style=\"color: #008000; text-decoration-color: #008000\">'device'</span>: <span style=\"color: #008000; text-decoration-color: #008000\">'cpu'</span>, <span style=\"color: #008000; text-decoration-color: #008000\">'display_steps'</span>: <span style=\"color: #008080; text-decoration-color: #008080; font-weight: bold\">100</span>, <span style=\"color: #008000; text-decoration-color: #008000\">'data_device'</span>: <span style=\"color: #008000; text-decoration-color: #008000\">'cpu'</span><span style=\"font-weight: bold\">}</span>   <span style=\"color: #7f7f7f; text-decoration-color: #7f7f7f\">                       </span>\n</pre>\n"
     },
     "metadata": {},
     "output_type": "display_data"
    },
    {
     "data": {
      "text/plain": "\u001B[2;36m                   \u001B[0m\u001B[2;36m \u001B[0m\u001B[34mINFO    \u001B[0m Training set size: \u001B[1;36m140\u001B[0m                                         \u001B]8;id=556504;file://C:\\Users\\kyawk\\Desktop\\robustness_of_gnns_at_scale-main\\experiments\\experiment_train.py\u001B\\\u001B[2mexperiment_train.py\u001B[0m\u001B]8;;\u001B\\\u001B[2m:\u001B[0m\u001B]8;id=419443;file://C:\\Users\\kyawk\\Desktop\\robustness_of_gnns_at_scale-main\\experiments\\experiment_train.py#161\u001B\\\u001B[2m161\u001B[0m\u001B]8;;\u001B\\\n",
      "text/html": "<pre style=\"white-space:pre;overflow-x:auto;line-height:normal;font-family:Menlo,'DejaVu Sans Mono',consolas,'Courier New',monospace\"><span style=\"color: #7fbfbf; text-decoration-color: #7fbfbf\">                    </span><span style=\"color: #000080; text-decoration-color: #000080\">INFO    </span> Training set size: <span style=\"color: #008080; text-decoration-color: #008080; font-weight: bold\">140</span>                                         <a href=\"file://C:\\Users\\kyawk\\Desktop\\robustness_of_gnns_at_scale-main\\experiments\\experiment_train.py\" target=\"_blank\"><span style=\"color: #7f7f7f; text-decoration-color: #7f7f7f\">experiment_train.py</span></a><span style=\"color: #7f7f7f; text-decoration-color: #7f7f7f\">:</span><a href=\"file://C:\\Users\\kyawk\\Desktop\\robustness_of_gnns_at_scale-main\\experiments\\experiment_train.py#161\" target=\"_blank\"><span style=\"color: #7f7f7f; text-decoration-color: #7f7f7f\">161</span></a>\n</pre>\n"
     },
     "metadata": {},
     "output_type": "display_data"
    },
    {
     "data": {
      "text/plain": "\u001B[2;36m                   \u001B[0m\u001B[2;36m \u001B[0m\u001B[34mINFO    \u001B[0m Validation set size: \u001B[1;36m140\u001B[0m                                       \u001B]8;id=331788;file://C:\\Users\\kyawk\\Desktop\\robustness_of_gnns_at_scale-main\\experiments\\experiment_train.py\u001B\\\u001B[2mexperiment_train.py\u001B[0m\u001B]8;;\u001B\\\u001B[2m:\u001B[0m\u001B]8;id=303666;file://C:\\Users\\kyawk\\Desktop\\robustness_of_gnns_at_scale-main\\experiments\\experiment_train.py#162\u001B\\\u001B[2m162\u001B[0m\u001B]8;;\u001B\\\n",
      "text/html": "<pre style=\"white-space:pre;overflow-x:auto;line-height:normal;font-family:Menlo,'DejaVu Sans Mono',consolas,'Courier New',monospace\"><span style=\"color: #7fbfbf; text-decoration-color: #7fbfbf\">                    </span><span style=\"color: #000080; text-decoration-color: #000080\">INFO    </span> Validation set size: <span style=\"color: #008080; text-decoration-color: #008080; font-weight: bold\">140</span>                                       <a href=\"file://C:\\Users\\kyawk\\Desktop\\robustness_of_gnns_at_scale-main\\experiments\\experiment_train.py\" target=\"_blank\"><span style=\"color: #7f7f7f; text-decoration-color: #7f7f7f\">experiment_train.py</span></a><span style=\"color: #7f7f7f; text-decoration-color: #7f7f7f\">:</span><a href=\"file://C:\\Users\\kyawk\\Desktop\\robustness_of_gnns_at_scale-main\\experiments\\experiment_train.py#162\" target=\"_blank\"><span style=\"color: #7f7f7f; text-decoration-color: #7f7f7f\">162</span></a>\n</pre>\n"
     },
     "metadata": {},
     "output_type": "display_data"
    },
    {
     "data": {
      "text/plain": "\u001B[2;36m                   \u001B[0m\u001B[2;36m \u001B[0m\u001B[34mINFO    \u001B[0m Test set size: \u001B[1;36m2530\u001B[0m                                            \u001B]8;id=796185;file://C:\\Users\\kyawk\\Desktop\\robustness_of_gnns_at_scale-main\\experiments\\experiment_train.py\u001B\\\u001B[2mexperiment_train.py\u001B[0m\u001B]8;;\u001B\\\u001B[2m:\u001B[0m\u001B]8;id=909887;file://C:\\Users\\kyawk\\Desktop\\robustness_of_gnns_at_scale-main\\experiments\\experiment_train.py#163\u001B\\\u001B[2m163\u001B[0m\u001B]8;;\u001B\\\n",
      "text/html": "<pre style=\"white-space:pre;overflow-x:auto;line-height:normal;font-family:Menlo,'DejaVu Sans Mono',consolas,'Courier New',monospace\"><span style=\"color: #7fbfbf; text-decoration-color: #7fbfbf\">                    </span><span style=\"color: #000080; text-decoration-color: #000080\">INFO    </span> Test set size: <span style=\"color: #008080; text-decoration-color: #008080; font-weight: bold\">2530</span>                                            <a href=\"file://C:\\Users\\kyawk\\Desktop\\robustness_of_gnns_at_scale-main\\experiments\\experiment_train.py\" target=\"_blank\"><span style=\"color: #7f7f7f; text-decoration-color: #7f7f7f\">experiment_train.py</span></a><span style=\"color: #7f7f7f; text-decoration-color: #7f7f7f\">:</span><a href=\"file://C:\\Users\\kyawk\\Desktop\\robustness_of_gnns_at_scale-main\\experiments\\experiment_train.py#163\" target=\"_blank\"><span style=\"color: #7f7f7f; text-decoration-color: #7f7f7f\">163</span></a>\n</pre>\n"
     },
     "metadata": {},
     "output_type": "display_data"
    },
    {
     "data": {
      "text/plain": "\u001B[2;36m                   \u001B[0m\u001B[2;36m \u001B[0m\u001B[34mINFO    \u001B[0m Memory Usage after loading the dataset:                        \u001B]8;id=93567;file://C:\\Users\\kyawk\\Desktop\\robustness_of_gnns_at_scale-main\\experiments\\experiment_train.py\u001B\\\u001B[2mexperiment_train.py\u001B[0m\u001B]8;;\u001B\\\u001B[2m:\u001B[0m\u001B]8;id=996290;file://C:\\Users\\kyawk\\Desktop\\robustness_of_gnns_at_scale-main\\experiments\\experiment_train.py#183\u001B\\\u001B[2m183\u001B[0m\u001B]8;;\u001B\\\n",
      "text/html": "<pre style=\"white-space:pre;overflow-x:auto;line-height:normal;font-family:Menlo,'DejaVu Sans Mono',consolas,'Courier New',monospace\"><span style=\"color: #7fbfbf; text-decoration-color: #7fbfbf\">                    </span><span style=\"color: #000080; text-decoration-color: #000080\">INFO    </span> Memory Usage after loading the dataset:                        <a href=\"file://C:\\Users\\kyawk\\Desktop\\robustness_of_gnns_at_scale-main\\experiments\\experiment_train.py\" target=\"_blank\"><span style=\"color: #7f7f7f; text-decoration-color: #7f7f7f\">experiment_train.py</span></a><span style=\"color: #7f7f7f; text-decoration-color: #7f7f7f\">:</span><a href=\"file://C:\\Users\\kyawk\\Desktop\\robustness_of_gnns_at_scale-main\\experiments\\experiment_train.py#183\" target=\"_blank\"><span style=\"color: #7f7f7f; text-decoration-color: #7f7f7f\">183</span></a>\n</pre>\n"
     },
     "metadata": {},
     "output_type": "display_data"
    },
    {
     "data": {
      "text/plain": "\u001B[2;36m                   \u001B[0m\u001B[2;36m \u001B[0m\u001B[34mINFO    \u001B[0m nan                                                            \u001B]8;id=218881;file://C:\\Users\\kyawk\\Desktop\\robustness_of_gnns_at_scale-main\\experiments\\experiment_train.py\u001B\\\u001B[2mexperiment_train.py\u001B[0m\u001B]8;;\u001B\\\u001B[2m:\u001B[0m\u001B]8;id=104891;file://C:\\Users\\kyawk\\Desktop\\robustness_of_gnns_at_scale-main\\experiments\\experiment_train.py#184\u001B\\\u001B[2m184\u001B[0m\u001B]8;;\u001B\\\n",
      "text/html": "<pre style=\"white-space:pre;overflow-x:auto;line-height:normal;font-family:Menlo,'DejaVu Sans Mono',consolas,'Courier New',monospace\"><span style=\"color: #7fbfbf; text-decoration-color: #7fbfbf\">                    </span><span style=\"color: #000080; text-decoration-color: #000080\">INFO    </span> nan                                                            <a href=\"file://C:\\Users\\kyawk\\Desktop\\robustness_of_gnns_at_scale-main\\experiments\\experiment_train.py\" target=\"_blank\"><span style=\"color: #7f7f7f; text-decoration-color: #7f7f7f\">experiment_train.py</span></a><span style=\"color: #7f7f7f; text-decoration-color: #7f7f7f\">:</span><a href=\"file://C:\\Users\\kyawk\\Desktop\\robustness_of_gnns_at_scale-main\\experiments\\experiment_train.py#184\" target=\"_blank\"><span style=\"color: #7f7f7f; text-decoration-color: #7f7f7f\">184</span></a>\n</pre>\n"
     },
     "metadata": {},
     "output_type": "display_data"
    },
    {
     "data": {
      "text/plain": "HBox(children=(FloatProgress(value=0.0, description='Training...', max=3000.0, style=ProgressStyle(description…",
      "application/vnd.jupyter.widget-view+json": {
       "version_major": 2,
       "version_minor": 0,
       "model_id": "829eb8cf79ef46f7b788782845bf4cda"
      }
     },
     "metadata": {},
     "output_type": "display_data"
    },
    {
     "name": "stderr",
     "output_type": "stream",
     "text": [
      "C:\\Users\\kyawk\\Desktop\\robustness_of_gnns_at_scale-main\\rgnn_at_scale\\models\\gcn.py:315: UserWarning: torch.sparse.SparseTensor(indices, values, *, device=) is deprecated.  Please use torch.sparse_coo_tensor(indices, values, dtype=, device=). (Triggered internally at C:\\actions-runner\\_work\\pytorch\\pytorch\\pytorch\\torch\\csrc\\utils\\tensor_new.cpp:634.)\n",
      "  adj = get_ppr_matrix(torch.sparse.FloatTensor(edge_idx, edge_weight), **self.gdc_params)\n",
      "C:\\Users\\kyawk\\anaconda3\\envs\\Masterarbeit_2_0\\Lib\\site-packages\\torch_sparse\\tensor.py:574: UserWarning: Sparse CSR tensor support is in beta state. If you miss a functionality in the sparse tensor support, please submit a feature request to https://github.com/pytorch/pytorch/issues. (Triggered internally at C:\\actions-runner\\_work\\pytorch\\pytorch\\pytorch\\aten\\src\\ATen\\SparseCsrTensorImpl.cpp:55.)\n",
      "  return torch.sparse_csr_tensor(rowptr, col, value, self.sizes())\n"
     ]
    },
    {
     "data": {
      "text/plain": "\u001B[2;36m[04/25/25 13:07:00]\u001B[0m\u001B[2;36m \u001B[0m\u001B[34mINFO    \u001B[0m                                                                            \u001B]8;id=334608;file://C:\\Users\\kyawk\\Desktop\\robustness_of_gnns_at_scale-main\\rgnn_at_scale\\train.py\u001B\\\u001B[2mtrain.py\u001B[0m\u001B]8;;\u001B\\\u001B[2m:\u001B[0m\u001B]8;id=158465;file://C:\\Users\\kyawk\\Desktop\\robustness_of_gnns_at_scale-main\\rgnn_at_scale\\train.py#81\u001B\\\u001B[2m81\u001B[0m\u001B]8;;\u001B\\\n\u001B[2;36m                    \u001B[0m         Epoch    \u001B[1;36m0\u001B[0m: loss_train: \u001B[1;36m1.94657\u001B[0m, loss_val: \u001B[1;36m1.94479\u001B[0m, acc_train: \u001B[1;36m0.10000\u001B[0m,    \u001B[2m           \u001B[0m\n\u001B[2;36m                    \u001B[0m         acc_val: \u001B[1;36m0.18571\u001B[0m                                                           \u001B[2m           \u001B[0m\n",
      "text/html": "<pre style=\"white-space:pre;overflow-x:auto;line-height:normal;font-family:Menlo,'DejaVu Sans Mono',consolas,'Courier New',monospace\"><span style=\"color: #7fbfbf; text-decoration-color: #7fbfbf\">[04/25/25 13:07:00] </span><span style=\"color: #000080; text-decoration-color: #000080\">INFO    </span>                                                                            <a href=\"file://C:\\Users\\kyawk\\Desktop\\robustness_of_gnns_at_scale-main\\rgnn_at_scale\\train.py\" target=\"_blank\"><span style=\"color: #7f7f7f; text-decoration-color: #7f7f7f\">train.py</span></a><span style=\"color: #7f7f7f; text-decoration-color: #7f7f7f\">:</span><a href=\"file://C:\\Users\\kyawk\\Desktop\\robustness_of_gnns_at_scale-main\\rgnn_at_scale\\train.py#81\" target=\"_blank\"><span style=\"color: #7f7f7f; text-decoration-color: #7f7f7f\">81</span></a>\n<span style=\"color: #7fbfbf; text-decoration-color: #7fbfbf\">                    </span>         Epoch    <span style=\"color: #008080; text-decoration-color: #008080; font-weight: bold\">0</span>: loss_train: <span style=\"color: #008080; text-decoration-color: #008080; font-weight: bold\">1.94657</span>, loss_val: <span style=\"color: #008080; text-decoration-color: #008080; font-weight: bold\">1.94479</span>, acc_train: <span style=\"color: #008080; text-decoration-color: #008080; font-weight: bold\">0.10000</span>,    <span style=\"color: #7f7f7f; text-decoration-color: #7f7f7f\">           </span>\n<span style=\"color: #7fbfbf; text-decoration-color: #7fbfbf\">                    </span>         acc_val: <span style=\"color: #008080; text-decoration-color: #008080; font-weight: bold\">0.18571</span>                                                           <span style=\"color: #7f7f7f; text-decoration-color: #7f7f7f\">           </span>\n</pre>\n"
     },
     "metadata": {},
     "output_type": "display_data"
    },
    {
     "data": {
      "text/plain": "\u001B[2;36m[04/25/25 13:07:09]\u001B[0m\u001B[2;36m \u001B[0m\u001B[34mINFO    \u001B[0m                                                                            \u001B]8;id=966702;file://C:\\Users\\kyawk\\Desktop\\robustness_of_gnns_at_scale-main\\rgnn_at_scale\\train.py\u001B\\\u001B[2mtrain.py\u001B[0m\u001B]8;;\u001B\\\u001B[2m:\u001B[0m\u001B]8;id=369874;file://C:\\Users\\kyawk\\Desktop\\robustness_of_gnns_at_scale-main\\rgnn_at_scale\\train.py#81\u001B\\\u001B[2m81\u001B[0m\u001B]8;;\u001B\\\n\u001B[2;36m                    \u001B[0m         Epoch  \u001B[1;36m100\u001B[0m: loss_train: \u001B[1;36m0.09288\u001B[0m, loss_val: \u001B[1;36m0.42195\u001B[0m, acc_train: \u001B[1;36m1.00000\u001B[0m,    \u001B[2m           \u001B[0m\n\u001B[2;36m                    \u001B[0m         acc_val: \u001B[1;36m0.88571\u001B[0m                                                           \u001B[2m           \u001B[0m\n",
      "text/html": "<pre style=\"white-space:pre;overflow-x:auto;line-height:normal;font-family:Menlo,'DejaVu Sans Mono',consolas,'Courier New',monospace\"><span style=\"color: #7fbfbf; text-decoration-color: #7fbfbf\">[04/25/25 13:07:09] </span><span style=\"color: #000080; text-decoration-color: #000080\">INFO    </span>                                                                            <a href=\"file://C:\\Users\\kyawk\\Desktop\\robustness_of_gnns_at_scale-main\\rgnn_at_scale\\train.py\" target=\"_blank\"><span style=\"color: #7f7f7f; text-decoration-color: #7f7f7f\">train.py</span></a><span style=\"color: #7f7f7f; text-decoration-color: #7f7f7f\">:</span><a href=\"file://C:\\Users\\kyawk\\Desktop\\robustness_of_gnns_at_scale-main\\rgnn_at_scale\\train.py#81\" target=\"_blank\"><span style=\"color: #7f7f7f; text-decoration-color: #7f7f7f\">81</span></a>\n<span style=\"color: #7fbfbf; text-decoration-color: #7fbfbf\">                    </span>         Epoch  <span style=\"color: #008080; text-decoration-color: #008080; font-weight: bold\">100</span>: loss_train: <span style=\"color: #008080; text-decoration-color: #008080; font-weight: bold\">0.09288</span>, loss_val: <span style=\"color: #008080; text-decoration-color: #008080; font-weight: bold\">0.42195</span>, acc_train: <span style=\"color: #008080; text-decoration-color: #008080; font-weight: bold\">1.00000</span>,    <span style=\"color: #7f7f7f; text-decoration-color: #7f7f7f\">           </span>\n<span style=\"color: #7fbfbf; text-decoration-color: #7fbfbf\">                    </span>         acc_val: <span style=\"color: #008080; text-decoration-color: #008080; font-weight: bold\">0.88571</span>                                                           <span style=\"color: #7f7f7f; text-decoration-color: #7f7f7f\">           </span>\n</pre>\n"
     },
     "metadata": {},
     "output_type": "display_data"
    },
    {
     "data": {
      "text/plain": "\u001B[2;36m[04/25/25 13:07:16]\u001B[0m\u001B[2;36m \u001B[0m\u001B[34mINFO    \u001B[0m                                                                            \u001B]8;id=902358;file://C:\\Users\\kyawk\\Desktop\\robustness_of_gnns_at_scale-main\\rgnn_at_scale\\train.py\u001B\\\u001B[2mtrain.py\u001B[0m\u001B]8;;\u001B\\\u001B[2m:\u001B[0m\u001B]8;id=836056;file://C:\\Users\\kyawk\\Desktop\\robustness_of_gnns_at_scale-main\\rgnn_at_scale\\train.py#81\u001B\\\u001B[2m81\u001B[0m\u001B]8;;\u001B\\\n\u001B[2;36m                    \u001B[0m         Epoch  \u001B[1;36m200\u001B[0m: loss_train: \u001B[1;36m0.07167\u001B[0m, loss_val: \u001B[1;36m0.37600\u001B[0m, acc_train: \u001B[1;36m1.00000\u001B[0m,    \u001B[2m           \u001B[0m\n\u001B[2;36m                    \u001B[0m         acc_val: \u001B[1;36m0.90714\u001B[0m                                                           \u001B[2m           \u001B[0m\n",
      "text/html": "<pre style=\"white-space:pre;overflow-x:auto;line-height:normal;font-family:Menlo,'DejaVu Sans Mono',consolas,'Courier New',monospace\"><span style=\"color: #7fbfbf; text-decoration-color: #7fbfbf\">[04/25/25 13:07:16] </span><span style=\"color: #000080; text-decoration-color: #000080\">INFO    </span>                                                                            <a href=\"file://C:\\Users\\kyawk\\Desktop\\robustness_of_gnns_at_scale-main\\rgnn_at_scale\\train.py\" target=\"_blank\"><span style=\"color: #7f7f7f; text-decoration-color: #7f7f7f\">train.py</span></a><span style=\"color: #7f7f7f; text-decoration-color: #7f7f7f\">:</span><a href=\"file://C:\\Users\\kyawk\\Desktop\\robustness_of_gnns_at_scale-main\\rgnn_at_scale\\train.py#81\" target=\"_blank\"><span style=\"color: #7f7f7f; text-decoration-color: #7f7f7f\">81</span></a>\n<span style=\"color: #7fbfbf; text-decoration-color: #7fbfbf\">                    </span>         Epoch  <span style=\"color: #008080; text-decoration-color: #008080; font-weight: bold\">200</span>: loss_train: <span style=\"color: #008080; text-decoration-color: #008080; font-weight: bold\">0.07167</span>, loss_val: <span style=\"color: #008080; text-decoration-color: #008080; font-weight: bold\">0.37600</span>, acc_train: <span style=\"color: #008080; text-decoration-color: #008080; font-weight: bold\">1.00000</span>,    <span style=\"color: #7f7f7f; text-decoration-color: #7f7f7f\">           </span>\n<span style=\"color: #7fbfbf; text-decoration-color: #7fbfbf\">                    </span>         acc_val: <span style=\"color: #008080; text-decoration-color: #008080; font-weight: bold\">0.90714</span>                                                           <span style=\"color: #7f7f7f; text-decoration-color: #7f7f7f\">           </span>\n</pre>\n"
     },
     "metadata": {},
     "output_type": "display_data"
    },
    {
     "data": {
      "text/plain": "\u001B[2;36m[04/25/25 13:07:23]\u001B[0m\u001B[2;36m \u001B[0m\u001B[34mINFO    \u001B[0m                                                                            \u001B]8;id=354778;file://C:\\Users\\kyawk\\Desktop\\robustness_of_gnns_at_scale-main\\rgnn_at_scale\\train.py\u001B\\\u001B[2mtrain.py\u001B[0m\u001B]8;;\u001B\\\u001B[2m:\u001B[0m\u001B]8;id=769725;file://C:\\Users\\kyawk\\Desktop\\robustness_of_gnns_at_scale-main\\rgnn_at_scale\\train.py#81\u001B\\\u001B[2m81\u001B[0m\u001B]8;;\u001B\\\n\u001B[2;36m                    \u001B[0m         Epoch  \u001B[1;36m300\u001B[0m: loss_train: \u001B[1;36m0.07151\u001B[0m, loss_val: \u001B[1;36m0.39939\u001B[0m, acc_train: \u001B[1;36m1.00000\u001B[0m,    \u001B[2m           \u001B[0m\n\u001B[2;36m                    \u001B[0m         acc_val: \u001B[1;36m0.88571\u001B[0m                                                           \u001B[2m           \u001B[0m\n",
      "text/html": "<pre style=\"white-space:pre;overflow-x:auto;line-height:normal;font-family:Menlo,'DejaVu Sans Mono',consolas,'Courier New',monospace\"><span style=\"color: #7fbfbf; text-decoration-color: #7fbfbf\">[04/25/25 13:07:23] </span><span style=\"color: #000080; text-decoration-color: #000080\">INFO    </span>                                                                            <a href=\"file://C:\\Users\\kyawk\\Desktop\\robustness_of_gnns_at_scale-main\\rgnn_at_scale\\train.py\" target=\"_blank\"><span style=\"color: #7f7f7f; text-decoration-color: #7f7f7f\">train.py</span></a><span style=\"color: #7f7f7f; text-decoration-color: #7f7f7f\">:</span><a href=\"file://C:\\Users\\kyawk\\Desktop\\robustness_of_gnns_at_scale-main\\rgnn_at_scale\\train.py#81\" target=\"_blank\"><span style=\"color: #7f7f7f; text-decoration-color: #7f7f7f\">81</span></a>\n<span style=\"color: #7fbfbf; text-decoration-color: #7fbfbf\">                    </span>         Epoch  <span style=\"color: #008080; text-decoration-color: #008080; font-weight: bold\">300</span>: loss_train: <span style=\"color: #008080; text-decoration-color: #008080; font-weight: bold\">0.07151</span>, loss_val: <span style=\"color: #008080; text-decoration-color: #008080; font-weight: bold\">0.39939</span>, acc_train: <span style=\"color: #008080; text-decoration-color: #008080; font-weight: bold\">1.00000</span>,    <span style=\"color: #7f7f7f; text-decoration-color: #7f7f7f\">           </span>\n<span style=\"color: #7fbfbf; text-decoration-color: #7fbfbf\">                    </span>         acc_val: <span style=\"color: #008080; text-decoration-color: #008080; font-weight: bold\">0.88571</span>                                                           <span style=\"color: #7f7f7f; text-decoration-color: #7f7f7f\">           </span>\n</pre>\n"
     },
     "metadata": {},
     "output_type": "display_data"
    },
    {
     "data": {
      "text/plain": "\u001B[2;36m[04/25/25 13:07:30]\u001B[0m\u001B[2;36m \u001B[0m\u001B[34mINFO    \u001B[0m                                                                            \u001B]8;id=925917;file://C:\\Users\\kyawk\\Desktop\\robustness_of_gnns_at_scale-main\\rgnn_at_scale\\train.py\u001B\\\u001B[2mtrain.py\u001B[0m\u001B]8;;\u001B\\\u001B[2m:\u001B[0m\u001B]8;id=620510;file://C:\\Users\\kyawk\\Desktop\\robustness_of_gnns_at_scale-main\\rgnn_at_scale\\train.py#81\u001B\\\u001B[2m81\u001B[0m\u001B]8;;\u001B\\\n\u001B[2;36m                    \u001B[0m         Epoch  \u001B[1;36m400\u001B[0m: loss_train: \u001B[1;36m0.06845\u001B[0m, loss_val: \u001B[1;36m0.38217\u001B[0m, acc_train: \u001B[1;36m1.00000\u001B[0m,    \u001B[2m           \u001B[0m\n\u001B[2;36m                    \u001B[0m         acc_val: \u001B[1;36m0.90714\u001B[0m                                                           \u001B[2m           \u001B[0m\n",
      "text/html": "<pre style=\"white-space:pre;overflow-x:auto;line-height:normal;font-family:Menlo,'DejaVu Sans Mono',consolas,'Courier New',monospace\"><span style=\"color: #7fbfbf; text-decoration-color: #7fbfbf\">[04/25/25 13:07:30] </span><span style=\"color: #000080; text-decoration-color: #000080\">INFO    </span>                                                                            <a href=\"file://C:\\Users\\kyawk\\Desktop\\robustness_of_gnns_at_scale-main\\rgnn_at_scale\\train.py\" target=\"_blank\"><span style=\"color: #7f7f7f; text-decoration-color: #7f7f7f\">train.py</span></a><span style=\"color: #7f7f7f; text-decoration-color: #7f7f7f\">:</span><a href=\"file://C:\\Users\\kyawk\\Desktop\\robustness_of_gnns_at_scale-main\\rgnn_at_scale\\train.py#81\" target=\"_blank\"><span style=\"color: #7f7f7f; text-decoration-color: #7f7f7f\">81</span></a>\n<span style=\"color: #7fbfbf; text-decoration-color: #7fbfbf\">                    </span>         Epoch  <span style=\"color: #008080; text-decoration-color: #008080; font-weight: bold\">400</span>: loss_train: <span style=\"color: #008080; text-decoration-color: #008080; font-weight: bold\">0.06845</span>, loss_val: <span style=\"color: #008080; text-decoration-color: #008080; font-weight: bold\">0.38217</span>, acc_train: <span style=\"color: #008080; text-decoration-color: #008080; font-weight: bold\">1.00000</span>,    <span style=\"color: #7f7f7f; text-decoration-color: #7f7f7f\">           </span>\n<span style=\"color: #7fbfbf; text-decoration-color: #7fbfbf\">                    </span>         acc_val: <span style=\"color: #008080; text-decoration-color: #008080; font-weight: bold\">0.90714</span>                                                           <span style=\"color: #7f7f7f; text-decoration-color: #7f7f7f\">           </span>\n</pre>\n"
     },
     "metadata": {},
     "output_type": "display_data"
    },
    {
     "data": {
      "text/plain": "\u001B[2;36m[04/25/25 13:07:38]\u001B[0m\u001B[2;36m \u001B[0m\u001B[34mINFO    \u001B[0m                                                                            \u001B]8;id=265353;file://C:\\Users\\kyawk\\Desktop\\robustness_of_gnns_at_scale-main\\rgnn_at_scale\\train.py\u001B\\\u001B[2mtrain.py\u001B[0m\u001B]8;;\u001B\\\u001B[2m:\u001B[0m\u001B]8;id=434462;file://C:\\Users\\kyawk\\Desktop\\robustness_of_gnns_at_scale-main\\rgnn_at_scale\\train.py#81\u001B\\\u001B[2m81\u001B[0m\u001B]8;;\u001B\\\n\u001B[2;36m                    \u001B[0m         Epoch  \u001B[1;36m500\u001B[0m: loss_train: \u001B[1;36m0.06988\u001B[0m, loss_val: \u001B[1;36m0.36415\u001B[0m, acc_train: \u001B[1;36m1.00000\u001B[0m,    \u001B[2m           \u001B[0m\n\u001B[2;36m                    \u001B[0m         acc_val: \u001B[1;36m0.89286\u001B[0m                                                           \u001B[2m           \u001B[0m\n",
      "text/html": "<pre style=\"white-space:pre;overflow-x:auto;line-height:normal;font-family:Menlo,'DejaVu Sans Mono',consolas,'Courier New',monospace\"><span style=\"color: #7fbfbf; text-decoration-color: #7fbfbf\">[04/25/25 13:07:38] </span><span style=\"color: #000080; text-decoration-color: #000080\">INFO    </span>                                                                            <a href=\"file://C:\\Users\\kyawk\\Desktop\\robustness_of_gnns_at_scale-main\\rgnn_at_scale\\train.py\" target=\"_blank\"><span style=\"color: #7f7f7f; text-decoration-color: #7f7f7f\">train.py</span></a><span style=\"color: #7f7f7f; text-decoration-color: #7f7f7f\">:</span><a href=\"file://C:\\Users\\kyawk\\Desktop\\robustness_of_gnns_at_scale-main\\rgnn_at_scale\\train.py#81\" target=\"_blank\"><span style=\"color: #7f7f7f; text-decoration-color: #7f7f7f\">81</span></a>\n<span style=\"color: #7fbfbf; text-decoration-color: #7fbfbf\">                    </span>         Epoch  <span style=\"color: #008080; text-decoration-color: #008080; font-weight: bold\">500</span>: loss_train: <span style=\"color: #008080; text-decoration-color: #008080; font-weight: bold\">0.06988</span>, loss_val: <span style=\"color: #008080; text-decoration-color: #008080; font-weight: bold\">0.36415</span>, acc_train: <span style=\"color: #008080; text-decoration-color: #008080; font-weight: bold\">1.00000</span>,    <span style=\"color: #7f7f7f; text-decoration-color: #7f7f7f\">           </span>\n<span style=\"color: #7fbfbf; text-decoration-color: #7fbfbf\">                    </span>         acc_val: <span style=\"color: #008080; text-decoration-color: #008080; font-weight: bold\">0.89286</span>                                                           <span style=\"color: #7f7f7f; text-decoration-color: #7f7f7f\">           </span>\n</pre>\n"
     },
     "metadata": {},
     "output_type": "display_data"
    },
    {
     "data": {
      "text/plain": "\u001B[2;36m[04/25/25 13:07:44]\u001B[0m\u001B[2;36m \u001B[0m\u001B[34mINFO    \u001B[0m                                                                            \u001B]8;id=327684;file://C:\\Users\\kyawk\\Desktop\\robustness_of_gnns_at_scale-main\\rgnn_at_scale\\train.py\u001B\\\u001B[2mtrain.py\u001B[0m\u001B]8;;\u001B\\\u001B[2m:\u001B[0m\u001B]8;id=393789;file://C:\\Users\\kyawk\\Desktop\\robustness_of_gnns_at_scale-main\\rgnn_at_scale\\train.py#81\u001B\\\u001B[2m81\u001B[0m\u001B]8;;\u001B\\\n\u001B[2;36m                    \u001B[0m         Epoch  \u001B[1;36m600\u001B[0m: loss_train: \u001B[1;36m0.06436\u001B[0m, loss_val: \u001B[1;36m0.40361\u001B[0m, acc_train: \u001B[1;36m1.00000\u001B[0m,    \u001B[2m           \u001B[0m\n\u001B[2;36m                    \u001B[0m         acc_val: \u001B[1;36m0.87857\u001B[0m                                                           \u001B[2m           \u001B[0m\n",
      "text/html": "<pre style=\"white-space:pre;overflow-x:auto;line-height:normal;font-family:Menlo,'DejaVu Sans Mono',consolas,'Courier New',monospace\"><span style=\"color: #7fbfbf; text-decoration-color: #7fbfbf\">[04/25/25 13:07:44] </span><span style=\"color: #000080; text-decoration-color: #000080\">INFO    </span>                                                                            <a href=\"file://C:\\Users\\kyawk\\Desktop\\robustness_of_gnns_at_scale-main\\rgnn_at_scale\\train.py\" target=\"_blank\"><span style=\"color: #7f7f7f; text-decoration-color: #7f7f7f\">train.py</span></a><span style=\"color: #7f7f7f; text-decoration-color: #7f7f7f\">:</span><a href=\"file://C:\\Users\\kyawk\\Desktop\\robustness_of_gnns_at_scale-main\\rgnn_at_scale\\train.py#81\" target=\"_blank\"><span style=\"color: #7f7f7f; text-decoration-color: #7f7f7f\">81</span></a>\n<span style=\"color: #7fbfbf; text-decoration-color: #7fbfbf\">                    </span>         Epoch  <span style=\"color: #008080; text-decoration-color: #008080; font-weight: bold\">600</span>: loss_train: <span style=\"color: #008080; text-decoration-color: #008080; font-weight: bold\">0.06436</span>, loss_val: <span style=\"color: #008080; text-decoration-color: #008080; font-weight: bold\">0.40361</span>, acc_train: <span style=\"color: #008080; text-decoration-color: #008080; font-weight: bold\">1.00000</span>,    <span style=\"color: #7f7f7f; text-decoration-color: #7f7f7f\">           </span>\n<span style=\"color: #7fbfbf; text-decoration-color: #7fbfbf\">                    </span>         acc_val: <span style=\"color: #008080; text-decoration-color: #008080; font-weight: bold\">0.87857</span>                                                           <span style=\"color: #7f7f7f; text-decoration-color: #7f7f7f\">           </span>\n</pre>\n"
     },
     "metadata": {},
     "output_type": "display_data"
    },
    {
     "data": {
      "text/plain": "\u001B[2;36m[04/25/25 13:07:48]\u001B[0m\u001B[2;36m \u001B[0m\u001B[34mINFO    \u001B[0m Test accuracy is \u001B[1;36m0.834782600402832\u001B[0m with seed \u001B[1;36m0\u001B[0m                 \u001B]8;id=610228;file://C:\\Users\\kyawk\\Desktop\\robustness_of_gnns_at_scale-main\\experiments\\experiment_train.py\u001B\\\u001B[2mexperiment_train.py\u001B[0m\u001B]8;;\u001B\\\u001B[2m:\u001B[0m\u001B]8;id=452224;file://C:\\Users\\kyawk\\Desktop\\robustness_of_gnns_at_scale-main\\experiments\\experiment_train.py#216\u001B\\\u001B[2m216\u001B[0m\u001B]8;;\u001B\\\n",
      "text/html": "<pre style=\"white-space:pre;overflow-x:auto;line-height:normal;font-family:Menlo,'DejaVu Sans Mono',consolas,'Courier New',monospace\"><span style=\"color: #7fbfbf; text-decoration-color: #7fbfbf\">[04/25/25 13:07:48] </span><span style=\"color: #000080; text-decoration-color: #000080\">INFO    </span> Test accuracy is <span style=\"color: #008080; text-decoration-color: #008080; font-weight: bold\">0.834782600402832</span> with seed <span style=\"color: #008080; text-decoration-color: #008080; font-weight: bold\">0</span>                 <a href=\"file://C:\\Users\\kyawk\\Desktop\\robustness_of_gnns_at_scale-main\\experiments\\experiment_train.py\" target=\"_blank\"><span style=\"color: #7f7f7f; text-decoration-color: #7f7f7f\">experiment_train.py</span></a><span style=\"color: #7f7f7f; text-decoration-color: #7f7f7f\">:</span><a href=\"file://C:\\Users\\kyawk\\Desktop\\robustness_of_gnns_at_scale-main\\experiments\\experiment_train.py#216\" target=\"_blank\"><span style=\"color: #7f7f7f; text-decoration-color: #7f7f7f\">216</span></a>\n</pre>\n"
     },
     "metadata": {},
     "output_type": "display_data"
    },
    {
     "data": {
      "text/plain": "\u001B[2;36m                   \u001B[0m\u001B[2;36m \u001B[0m\u001B[34mINFO    \u001B[0m Lock \u001B[1;36m2825853755792\u001B[0m acquired on cache\\demo.json.lock                    \u001B]8;id=276333;file://C:\\Users\\kyawk\\anaconda3\\envs\\Masterarbeit_2_0\\Lib\\site-packages\\filelock.py\u001B\\\u001B[2mfilelock.py\u001B[0m\u001B]8;;\u001B\\\u001B[2m:\u001B[0m\u001B]8;id=965924;file://C:\\Users\\kyawk\\anaconda3\\envs\\Masterarbeit_2_0\\Lib\\site-packages\\filelock.py#274\u001B\\\u001B[2m274\u001B[0m\u001B]8;;\u001B\\\n",
      "text/html": "<pre style=\"white-space:pre;overflow-x:auto;line-height:normal;font-family:Menlo,'DejaVu Sans Mono',consolas,'Courier New',monospace\"><span style=\"color: #7fbfbf; text-decoration-color: #7fbfbf\">                    </span><span style=\"color: #000080; text-decoration-color: #000080\">INFO    </span> Lock <span style=\"color: #008080; text-decoration-color: #008080; font-weight: bold\">2825853755792</span> acquired on cache\\demo.json.lock                    <a href=\"file://C:\\Users\\kyawk\\anaconda3\\envs\\Masterarbeit_2_0\\Lib\\site-packages\\filelock.py\" target=\"_blank\"><span style=\"color: #7f7f7f; text-decoration-color: #7f7f7f\">filelock.py</span></a><span style=\"color: #7f7f7f; text-decoration-color: #7f7f7f\">:</span><a href=\"file://C:\\Users\\kyawk\\anaconda3\\envs\\Masterarbeit_2_0\\Lib\\site-packages\\filelock.py#274\" target=\"_blank\"><span style=\"color: #7f7f7f; text-decoration-color: #7f7f7f\">274</span></a>\n</pre>\n"
     },
     "metadata": {},
     "output_type": "display_data"
    },
    {
     "data": {
      "text/plain": "\u001B[2;36m                   \u001B[0m\u001B[2;36m \u001B[0m\u001B[34mINFO    \u001B[0m Lock \u001B[1;36m2825853755792\u001B[0m released on cache\\demo.json.lock                    \u001B]8;id=551644;file://C:\\Users\\kyawk\\anaconda3\\envs\\Masterarbeit_2_0\\Lib\\site-packages\\filelock.py\u001B\\\u001B[2mfilelock.py\u001B[0m\u001B]8;;\u001B\\\u001B[2m:\u001B[0m\u001B]8;id=883181;file://C:\\Users\\kyawk\\anaconda3\\envs\\Masterarbeit_2_0\\Lib\\site-packages\\filelock.py#318\u001B\\\u001B[2m318\u001B[0m\u001B]8;;\u001B\\\n",
      "text/html": "<pre style=\"white-space:pre;overflow-x:auto;line-height:normal;font-family:Menlo,'DejaVu Sans Mono',consolas,'Courier New',monospace\"><span style=\"color: #7fbfbf; text-decoration-color: #7fbfbf\">                    </span><span style=\"color: #000080; text-decoration-color: #000080\">INFO    </span> Lock <span style=\"color: #008080; text-decoration-color: #008080; font-weight: bold\">2825853755792</span> released on cache\\demo.json.lock                    <a href=\"file://C:\\Users\\kyawk\\anaconda3\\envs\\Masterarbeit_2_0\\Lib\\site-packages\\filelock.py\" target=\"_blank\"><span style=\"color: #7f7f7f; text-decoration-color: #7f7f7f\">filelock.py</span></a><span style=\"color: #7f7f7f; text-decoration-color: #7f7f7f\">:</span><a href=\"file://C:\\Users\\kyawk\\anaconda3\\envs\\Masterarbeit_2_0\\Lib\\site-packages\\filelock.py#318\" target=\"_blank\"><span style=\"color: #7f7f7f; text-decoration-color: #7f7f7f\">318</span></a>\n</pre>\n"
     },
     "metadata": {},
     "output_type": "display_data"
    },
    {
     "data": {
      "text/plain": "<Figure size 640x480 with 1 Axes>",
      "image/png": "[encoded data removed]"
     },
     "metadata": {},
     "output_type": "display_data"
    }
   ],
   "execution_count": 4
  },
  {
   "cell_type": "code",
   "source": [
    "clean_acc = train_statistics[\"accuracy\"]\n",
    "print(f'Accuracy of the model: {100*clean_acc:.2f}%')"
   ],
   "metadata": {
    "collapsed": false,
    "ExecuteTime": {
     "end_time": "2025-04-25T11:07:49.926770900Z",
     "start_time": "2025-04-25T11:07:49.435162700Z"
    }
   },
   "outputs": [
    {
     "name": "stdout",
     "output_type": "stream",
     "text": [
      "Accuracy of the model: 83.48%\n"
     ]
    }
   ],
   "execution_count": 5
  },
  {
   "cell_type": "markdown",
   "source": [
    "## 1.1 Certificate integration"
   ],
   "metadata": {
    "collapsed": false
   }
  },
  {
   "metadata": {
    "ExecuteTime": {
     "end_time": "2025-04-25T11:07:50.835914600Z",
     "start_time": "2025-04-25T11:07:49.920773500Z"
    }
   },
   "cell_type": "code",
   "source": [
    "# certificate integration\n",
    "import torch\n",
    "import numpy as np\n",
    "import copy\n",
    "from sparse_smoothing.models import GCN\n",
    "from sparse_smoothing.utils import load_and_standardize\n",
    "\n",
    "loaded_from_robustness = torch.load(f'cache/demo/demo_1.pt', map_location='cpu', weights_only=False)\n",
    "\n",
    "trained_state_dict = copy.deepcopy(loaded_from_robustness)\n",
    "\n",
    "for key in list(trained_state_dict.keys()):\n",
    "    if 'layers.0.' in key:\n",
    "        new_key = key.replace('layers.0.gcn_0', 'conv1')\n",
    "        trained_state_dict[new_key] = trained_state_dict.pop(key)  # Transpose if necessary\n",
    "\n",
    "for key in list(trained_state_dict.keys()):\n",
    "    if 'layers.1.' in key:\n",
    "        new_key = key.replace('layers.1.gcn_1', 'conv2')\n",
    "        trained_state_dict[new_key] = trained_state_dict.pop(key)  # Transpose if necessary"
   ],
   "outputs": [],
   "execution_count": 6
  },
  {
   "cell_type": "code",
   "source": [
    "graph = load_and_standardize('data/cora_ml.npz')\n",
    "n, d = graph.attr_matrix.shape\n",
    "nc = graph.labels.max() + 1\n",
    "pf_plus_att = 0.01\n",
    "pf_minus_att = 0.6"
   ],
   "metadata": {
    "collapsed": false,
    "ExecuteTime": {
     "end_time": "2025-04-25T11:07:51.406382400Z",
     "start_time": "2025-04-25T11:07:50.839921200Z"
    }
   },
   "outputs": [],
   "execution_count": 7
  },
  {
   "cell_type": "code",
   "source": [
    "model = GCN(n_features=d, n_classes=nc, n_hidden=64)#.cuda()\n",
    "# Load the modified state dictionary\n",
    "model.load_state_dict(trained_state_dict)"
   ],
   "metadata": {
    "collapsed": false,
    "ExecuteTime": {
     "end_time": "2025-04-25T11:07:51.963601900Z",
     "start_time": "2025-04-25T11:07:51.391377500Z"
    }
   },
   "outputs": [
    {
     "data": {
      "text/plain": "<All keys matched successfully>"
     },
     "execution_count": 8,
     "metadata": {},
     "output_type": "execute_result"
    }
   ],
   "execution_count": 8
  },
  {
   "metadata": {
    "ExecuteTime": {
     "end_time": "2025-04-25T11:07:52.382580800Z",
     "start_time": "2025-04-25T11:07:51.966610300Z"
    }
   },
   "cell_type": "code",
   "source": [
    "print(model)\n",
    "print(model.conv1.lin.weight)\n",
    "print(model.conv2)\n",
    "\n"
   ],
   "outputs": [
    {
     "name": "stdout",
     "output_type": "stream",
     "text": [
      "GCN(\n",
      "  (conv1): SparseGCNConv(2879, 64)\n",
      "  (conv2): GCNConv(64, 7)\n",
      ")\n",
      "Parameter containing:\n",
      "tensor([[-0.0023, -0.0189, -0.0035,  ..., -0.0007, -0.0108, -0.0372],\n",
      "        [-0.0070, -0.0108,  0.0022,  ..., -0.0066,  0.0141, -0.0339],\n",
      "        [-0.0054, -0.0265, -0.0035,  ..., -0.0038, -0.0105, -0.0156],\n",
      "        ...,\n",
      "        [-0.0097, -0.0432,  0.0009,  ..., -0.0076, -0.0051, -0.0220],\n",
      "        [ 0.0114,  0.0189,  0.0013,  ...,  0.0031,  0.0030, -0.0291],\n",
      "        [ 0.0093, -0.0134, -0.0022,  ...,  0.0038,  0.0085,  0.0331]],\n",
      "       requires_grad=True)\n",
      "GCNConv(64, 7)\n"
     ]
    }
   ],
   "execution_count": 9
  },
  {
   "cell_type": "code",
   "source": [
    "edge_idx = torch.LongTensor(np.stack(graph.adj_matrix.nonzero()))#.cuda()\n",
    "attr_idx = torch.LongTensor(np.stack(graph.attr_matrix.nonzero()))#.cuda()"
   ],
   "metadata": {
    "collapsed": false,
    "ExecuteTime": {
     "end_time": "2025-04-25T11:07:52.741453800Z",
     "start_time": "2025-04-25T11:07:52.364586500Z"
    }
   },
   "outputs": [],
   "execution_count": 10
  },
  {
   "cell_type": "code",
   "source": [
    "from sparse_smoothing.prediction import predict_smooth_gnn\n",
    "#n_samples_eval = 100_000\n",
    "#n_samples_eval = 10_000\n",
    "n_samples_eval = 1000\n",
    "#n_samples_eval = 100\n",
    "\n",
    "sample_config = {\n",
    "    'n_samples': n_samples_eval,\n",
    "    'pf_plus_adj': 0.01, #0\n",
    "    'pf_minus_adj': 0.6, #0\n",
    "    'pf_plus_att': 0,# 0.01\n",
    "    'pf_minus_att': 0,# 0.6\n",
    "}\n",
    "batch_size = 50\n",
    "\n",
    "sample_config_pre_eval = sample_config.copy()\n",
    "sample_config_pre_eval['n_samples'] = 1_000\n",
    "\n",
    "import torch\n",
    "\n",
    "# we a small number of samples to estimate the majority class\n",
    "pre_votes = predict_smooth_gnn(attr_idx=attr_idx, edge_idx=edge_idx,\n",
    "                               sample_config=sample_config_pre_eval,\n",
    "                               model=model, n=n, d=d, nc=nc,\n",
    "                               batch_size=batch_size)\n",
    "\n",
    "# we use a larger number of samples to estimate a lower bound\n",
    "# on the probability of observing the majority class\n",
    "votes = predict_smooth_gnn(attr_idx=attr_idx, edge_idx=edge_idx,\n",
    "                           sample_config=sample_config,\n",
    "                           model=model, n=n, d=d, nc=nc,\n",
    "                           batch_size=batch_size)\n",
    "\n",
    "print(votes)"
   ],
   "metadata": {
    "collapsed": false,
    "ExecuteTime": {
     "end_time": "2025-04-25T11:09:54.444980300Z",
     "start_time": "2025-04-25T11:07:52.744459Z"
    }
   },
   "outputs": [
    {
     "data": {
      "text/plain": "HBox(children=(FloatProgress(value=0.0, max=20.0), HTML(value='')))",
      "application/vnd.jupyter.widget-view+json": {
       "version_major": 2,
       "version_minor": 0,
       "model_id": "1b2a74f7eb5a48cfb4e11fd6ef017eee"
      }
     },
     "metadata": {},
     "output_type": "display_data"
    },
    {
     "name": "stdout",
     "output_type": "stream",
     "text": []
    },
    {
     "data": {
      "text/plain": "HBox(children=(FloatProgress(value=0.0, max=20.0), HTML(value='')))",
      "application/vnd.jupyter.widget-view+json": {
       "version_major": 2,
       "version_minor": 0,
       "model_id": "6370959ecaab4c7298391eeab545bc6f"
      }
     },
     "metadata": {},
     "output_type": "display_data"
    },
    {
     "name": "stdout",
     "output_type": "stream",
     "text": [
      "\n",
      "[[968   0   0 ...   0  31   1]\n",
      " [900   2   0 ...   0  84  14]\n",
      " [569   0   0 ...   0 429   2]\n",
      " ...\n",
      " [883   0   0 ...   3  99  15]\n",
      " [514   0   0 ...   0 176 310]\n",
      " [809   0   0 ...   8  87  96]]\n"
     ]
    }
   ],
   "execution_count": 11
  },
  {
   "cell_type": "code",
   "source": [
    "from sparse_smoothing.cert import p_lower_from_votes, binary_certificate_grid\n",
    "\n",
    "\n",
    "conf_alpha = 0.01\n",
    "\n",
    "# compute the lower bound on the probability of the majority class\n",
    "p_lower = p_lower_from_votes(votes=votes, pre_votes=pre_votes, alpha=conf_alpha, n_samples=n_samples_eval)\n",
    "\n",
    "# compute the binary-class certificate 2D grid (for all pairs of ra and rd radii)\n",
    "# where grid_binary_class > 0.5 means the instance is robust\n",
    "grid_binary_class, *_ = binary_certificate_grid(pf_plus=pf_plus_att, pf_minus=pf_minus_att,\n",
    "                                            p_emps=p_lower, reverse=False, progress_bar=True)\n",
    "\n",
    "print(grid_binary_class)\n"
   ],
   "metadata": {
    "collapsed": false,
    "ExecuteTime": {
     "end_time": "2025-04-25T11:09:55.625641200Z",
     "start_time": "2025-04-25T11:09:54.450979400Z"
    }
   },
   "outputs": [
    {
     "name": "stdout",
     "output_type": "stream",
     "text": [
      "max_ra=3, max_rd=9, min_p_emp=0.6970\n"
     ]
    },
    {
     "data": {
      "text/plain": "HBox(children=(FloatProgress(value=0.0, max=5.0), HTML(value='')))",
      "application/vnd.jupyter.widget-view+json": {
       "version_major": 2,
       "version_minor": 0,
       "model_id": "975655472ee3403f8fbda54fb41b35c9"
      }
     },
     "metadata": {},
     "output_type": "display_data"
    },
    {
     "name": "stdout",
     "output_type": "stream",
     "text": []
    },
    {
     "data": {
      "text/plain": "HBox(children=(FloatProgress(value=0.0, max=55.0), HTML(value='')))",
      "application/vnd.jupyter.widget-view+json": {
       "version_major": 2,
       "version_minor": 0,
       "model_id": "161159b35976442cac58ae28d06632cb"
      }
     },
     "metadata": {},
     "output_type": "display_data"
    },
    {
     "name": "stdout",
     "output_type": "stream",
     "text": [
      "\n",
      "[[[1.00000000e+00 9.21734063e-01 8.70861203e-01 ... 5.17527111e-02\n",
      "   3.51760247e-02 4.22923738e-03]\n",
      "  [5.77312787e-01 5.62566099e-01 5.35634063e-01 ... 3.24250070e-02\n",
      "   2.26722722e-02 2.78768589e-03]\n",
      "  [3.49886538e-01 3.43312787e-01 3.29346099e-01 ... 2.02958546e-02\n",
      "   1.45655052e-02 2.71582106e-03]\n",
      "  [2.12052447e-01 2.09486538e-01 2.02444787e-01 ... 1.26922609e-02\n",
      "   9.33008720e-03 2.27263090e-03]\n",
      "  [1.28516635e-01 1.27812447e-01 1.24404138e-01 ... 7.93043600e-03\n",
      "   5.96075004e-03 1.75996963e-03]]\n",
      "\n",
      " [[1.00000000e+00 7.95093401e-01 6.61904111e-01 ... 2.46545643e-03\n",
      "   2.31945258e-03 1.59387224e-03]\n",
      "  [5.30796474e-01 4.85814182e-01 4.08993401e-01 ... 1.51546248e-03\n",
      "   1.43736010e-03 1.01083283e-03]\n",
      "  [3.21694833e-01 2.96796474e-01 2.52594182e-01 ... 9.31316800e-04\n",
      "   8.90296834e-04 6.39851100e-04]\n",
      "  [1.94966565e-01 1.81294833e-01 1.55928474e-01 ... 5.72211675e-04\n",
      "   5.51190746e-04 4.04314367e-04]\n",
      "  [1.18161555e-01 1.10726565e-01 9.62124328e-02 ... 3.51500173e-04\n",
      "   3.41094730e-04 2.55069863e-04]]\n",
      "\n",
      " [[1.00000000e+00 2.27556412e-01 1.54389103e-02 ... 2.47436171e-05\n",
      "   5.77030941e-06 1.32442975e-06]\n",
      "  [3.22334770e-01 1.41852371e-01 9.39630927e-03 ... 1.52631746e-05\n",
      "   3.97399439e-06 8.12205360e-07]\n",
      "  [1.95354406e-01 8.83347701e-02 5.71836925e-03 ... 9.41149519e-06\n",
      "   2.69650388e-06 4.97990043e-07]\n",
      "  [1.18396610e-01 5.49544061e-02 3.47986015e-03 ... 5.80110636e-06\n",
      "   1.80821546e-06 3.05278026e-07]\n",
      "  [7.17555211e-02 3.41566098e-02 2.11751524e-03 ... 3.57443585e-06\n",
      "   1.20096801e-06 1.87108111e-07]]\n",
      "\n",
      " ...\n",
      "\n",
      " [[1.00000000e+00 7.64573729e-01 6.11546652e-01 ... 2.23217530e-03\n",
      "   1.93453872e-03 9.58764371e-04]\n",
      "  [5.19586310e-01 4.67317411e-01 3.78473729e-01 ... 1.37407998e-03\n",
      "   1.20407898e-03 6.25918968e-04]\n",
      "  [3.14900794e-01 2.85586310e-01 2.34097411e-01 ... 8.45630436e-04\n",
      "   7.48914333e-04 4.06569973e-04]\n",
      "  [1.90848966e-01 1.74500794e-01 1.44718310e-01 ... 5.20280545e-04\n",
      "   4.65504382e-04 2.62931866e-04]\n",
      "  [1.15666040e-01 1.06608966e-01 8.94183939e-02 ... 3.20026761e-04\n",
      "   2.89163601e-04 1.69383499e-04]]\n",
      "\n",
      " [[1.00000000e+00 1.36614983e-01 1.31653746e-02 ... 1.42114540e-05\n",
      "   1.01621779e-06 8.89978019e-07]\n",
      "  [2.88931123e-01 8.67363533e-02 8.01840883e-03 ... 8.88004543e-06\n",
      "   6.20689869e-07 5.48901283e-07]\n",
      "  [1.75109772e-01 5.49311232e-02 4.88327808e-03 ... 5.54293207e-06\n",
      "   3.79068755e-07 3.38411815e-07]\n",
      "  [1.06127134e-01 3.47097716e-02 2.97374429e-03 ... 3.45652265e-06\n",
      "   2.31482247e-07 2.08563948e-07]\n",
      "  [6.43194753e-02 2.18871343e-02 1.81077836e-03 ... 2.15347602e-06\n",
      "   1.41343106e-07 1.28493518e-07]]\n",
      "\n",
      " [[1.00000000e+00 6.34313602e-01 3.96617443e-01 ... 1.23651490e-03\n",
      "   2.91699056e-04 8.55798726e-05]\n",
      "  [4.71740533e-01 3.88371880e-01 2.48213602e-01 ... 7.70649430e-04\n",
      "   2.08418578e-04 5.26549710e-05]\n",
      "  [2.85903354e-01 2.37740533e-01 1.55151880e-01 ... 4.79914954e-04\n",
      "   1.45483787e-04 3.23889408e-05]\n",
      "  [1.73274760e-01 1.45503354e-01 9.68725333e-02 ... 2.98634798e-04\n",
      "   9.97888998e-05 1.99180612e-05]\n",
      "  [1.05015006e-01 8.90347597e-02 6.04209535e-02 ... 1.85696005e-04\n",
      "   6.75178539e-05 1.22459786e-05]]]\n"
     ]
    }
   ],
   "execution_count": 12
  },
  {
   "metadata": {
    "ExecuteTime": {
     "end_time": "2025-04-25T11:09:56.079587700Z",
     "start_time": "2025-04-25T11:09:55.633639200Z"
    }
   },
   "cell_type": "code",
   "source": [
    "grid_radii = (grid_binary_class>0.5)"
   ],
   "outputs": [],
   "execution_count": 13
  },
  {
   "metadata": {
    "ExecuteTime": {
     "end_time": "2025-04-25T11:09:56.616941200Z",
     "start_time": "2025-04-25T11:09:56.084587400Z"
    }
   },
   "cell_type": "code",
   "source": [
    "import seaborn as sns\n",
    "\n",
    "heatmap = (grid_binary_class>0.5).mean(0)\n",
    "sns.set_context('talk')\n",
    "sns.heatmap(heatmap,\n",
    "            cmap='viridis',\n",
    "            vmin=0, vmax=1, square=True, cbar_kws={\"shrink\": .5})\n",
    "plt.xlim(0, heatmap.shape[1])\n",
    "plt.ylim(0, heatmap.shape[0])\n",
    "plt.xlabel('$r_d$ radius')\n",
    "plt.ylabel('$r_a$ radius')\n",
    "plt.show()"
   ],
   "outputs": [
    {
     "data": {
      "text/plain": "<Figure size 640x480 with 2 Axes>",
      "image/png": "[encoded data removed]"
     },
     "metadata": {},
     "output_type": "display_data"
    }
   ],
   "execution_count": 14
  },
  {
   "cell_type": "code",
   "source": [
    "from sparse_smoothing.cert import regions_discrete, compute_rho_for_many\n",
    "# if pf_plus = pf_minus any combination of ra+rd+rc=r gives the same result.\n",
    "pf_plus = pf_minus = 0.8\n",
    "ra = 1\n",
    "rd = 0\n",
    "rc = 0\n",
    "\n",
    "n_discrete_categories = 2\n",
    "\n",
    "regions = regions_discrete(ra=ra, rd=rd, rc=rc, k=n_discrete_categories, pf_plus=pf_plus, pf_minus=pf_minus)\n",
    "\n",
    "percent_robust = (compute_rho_for_many(regions=regions, p_emps=p_lower)>0.5).mean() * 100\n",
    "\n",
    "print(f'At radius r={ra+rd+rc}, {percent_robust} percent of nodes are certifiably robust')"
   ],
   "metadata": {
    "collapsed": false,
    "ExecuteTime": {
     "end_time": "2025-04-25T11:09:56.991509900Z",
     "start_time": "2025-04-25T11:09:56.620939500Z"
    }
   },
   "outputs": [
    {
     "name": "stdout",
     "output_type": "stream",
     "text": [
      "At radius r=1, 33.487544483985765 percent of nodes are certifiably robust\n"
     ]
    }
   ],
   "execution_count": 15
  },
  {
   "metadata": {
    "ExecuteTime": {
     "end_time": "2025-04-25T11:09:57.365646800Z",
     "start_time": "2025-04-25T11:09:56.992509900Z"
    }
   },
   "cell_type": "code",
   "source": [
    "grid_radii_one_deletion_false = grid_radii[:,0,1]\n",
    "grid_radii_one_deletion_false"
   ],
   "outputs": [
    {
     "data": {
      "text/plain": "array([ True,  True, False, ...,  True, False,  True])"
     },
     "execution_count": 16,
     "metadata": {},
     "output_type": "execute_result"
    }
   ],
   "execution_count": 16
  },
  {
   "cell_type": "markdown",
   "source": [
    "## 2. Evaluation\n",
    "\n",
    "For evaluation, we use the locally stored models. Similarly to training, we provide a script that runs the attacks for different seeds for all pretrained models. For all experiments, please check out the [config](https://github.com/sigeisler/robustness_of_gnns_at_scale/tree/main/config) folder.\n",
    "\n",
    "### 2.1 Local PR-BCD Attack with grid_radii initialization\n",
    "We provide an example for a `local PR-BCD` attack on the `Vanilla GCN` model trained previously by passing the desired configuration in [experiments/experiment_local_attack_direct.py](https://github.com/sigeisler/robustness_of_gnns_at_scale/blob/main/experiments/experiment_local_attack_direct.py#L68)."
   ],
   "metadata": {
    "id": "JzCocLocdb2y"
   }
  },
  {
   "cell_type": "code",
   "source": [
    "local_prbcd_statistics_cert = experiment_local_attack_direct.run(\n",
    "    data_dir = './data',\n",
    "    dataset = 'cora_ml',\n",
    "    attack = 'LocalPRBCD',\n",
    "    attack_params = dict(\n",
    "        ppr_cache_params = dict(\n",
    "            data_artifact_dir = 'cache',\n",
    "            data_storage_type = 'ppr'),\n",
    "        #epochs = 500, # -> way too high for my setup, use 40-100\n",
    "        epochs = 50,\n",
    "        fine_tune_epochs = 100, #this may have to be adjusted to epochs\n",
    "        search_space_size = 100, #is here the same varibale error as in global_attack ?\n",
    "        block_size = 100,\n",
    "        ppr_recalc_at_end = True,\n",
    "        loss_type = 'Margin',\n",
    "        lr_factor = 0.05),\n",
    "    nodes = None,\n",
    "    nodes_topk = 5,\n",
    "    seed=0,\n",
    "    epsilons = [1],\n",
    "    min_node_degree = None,\n",
    "    binary_attr = False,\n",
    "    make_undirected = True,\n",
    "    artifact_dir = 'cache',\n",
    "    model_label = 'Vanilla GCN',\n",
    "    model_storage_type = 'demo',\n",
    "    #device = 0,\n",
    "    #data_device = 0,\n",
    "    device = \"cpu\",\n",
    "    data_device = \"cpu\",\n",
    "    debug_level = \"info\",\n",
    "    grid_radii=grid_radii,\n",
    "    use_cert=True,\n",
    ")"
   ],
   "metadata": {
    "colab": {
     "base_uri": "https://localhost:8080/",
     "height": 1000
    },
    "id": "A-n0IWrJC1QQ",
    "outputId": "43f39721-13e9-4596-f260-4cdf79cf54d1",
    "ExecuteTime": {
     "start_time": "2025-04-23T13:06:41.357083100Z"
    }
   },
   "outputs": [],
   "execution_count": null
  },
  {
   "metadata": {
    "ExecuteTime": {
     "start_time": "2025-04-23T13:06:41.362073800Z"
    }
   },
   "cell_type": "code",
   "source": [
    "n_change = 0\n",
    "for node in local_prbcd_statistics_cert['results']:\n",
    "    if node['margin'] < 0:\n",
    "        n_change += 1\n",
    "flipped_ratio_cert =  n_change / len(local_prbcd_statistics_cert['results'])\n",
    "print(f'Percentage of changed node predictions for init with cert : {100*flipped_ratio_cert:.2f}%')"
   ],
   "outputs": [],
   "execution_count": null
  },
  {
   "metadata": {},
   "cell_type": "markdown",
   "source": [
    "### 2.1.1 Local PR-BCD Attack without grid_radii initialization\n",
    "We provide an example for a `local PR-BCD` attack on the `Vanilla GCN` model trained previously by passing the desired configuration in [experiments/experiment_local_attack_direct.py](https://github.com/sigeisler/robustness_of_gnns_at_scale/blob/main/experiments/experiment_local_attack_direct.py#L68)."
   ]
  },
  {
   "metadata": {
    "ExecuteTime": {
     "start_time": "2025-04-23T13:06:41.366076700Z"
    }
   },
   "cell_type": "code",
   "source": [
    "local_prbcd_statistics = experiment_local_attack_direct.run(\n",
    "    data_dir = './data',\n",
    "    dataset = 'cora_ml',\n",
    "    attack = 'LocalPRBCD',\n",
    "    attack_params = dict(\n",
    "        ppr_cache_params = dict(\n",
    "            data_artifact_dir = 'cache',\n",
    "            data_storage_type = 'ppr'),\n",
    "        #epochs = 500, # -> way too high for my setup, use 40-100\n",
    "        epochs = 50,\n",
    "        fine_tune_epochs = 100,\n",
    "        search_space_size = 100,\n",
    "        block_size = 100,\n",
    "        ppr_recalc_at_end = True,\n",
    "        loss_type = 'Margin',\n",
    "        lr_factor = 0.05),\n",
    "    nodes = None,\n",
    "    nodes_topk = 5,\n",
    "    seed=0,\n",
    "    epsilons = [1],\n",
    "    min_node_degree = None,\n",
    "    binary_attr = False,\n",
    "    make_undirected = True,\n",
    "    artifact_dir = 'cache',\n",
    "    model_label = 'Vanilla GCN',\n",
    "    model_storage_type = 'demo',\n",
    "    #device = 0,\n",
    "    #data_device = 0,\n",
    "    device = \"cpu\",\n",
    "    data_device = \"cpu\",\n",
    "    debug_level = \"info\",\n",
    "    grid_radii=grid_radii\n",
    ")"
   ],
   "outputs": [],
   "execution_count": null
  },
  {
   "cell_type": "code",
   "source": [
    "n_change = 0\n",
    "for node in local_prbcd_statistics['results']:\n",
    "    if node['margin'] < 0:\n",
    "        n_change += 1\n",
    "flipped_ratio =  n_change / len(local_prbcd_statistics['results'])\n",
    "print(f'Percentage of changed node predictions : {100*flipped_ratio:.2f}%')"
   ],
   "metadata": {
    "colab": {
     "base_uri": "https://localhost:8080/"
    },
    "id": "Saio7dZwlulQ",
    "outputId": "8dd69aa3-53c7-4dc7-9d5a-e7294d7ec13b",
    "ExecuteTime": {
     "start_time": "2025-04-23T13:06:41.370074700Z"
    }
   },
   "outputs": [],
   "execution_count": null
  },
  {
   "metadata": {
    "ExecuteTime": {
     "start_time": "2025-04-23T13:06:41.373599400Z"
    }
   },
   "cell_type": "code",
   "source": [
    "n_change = 0\n",
    "for node in local_prbcd_statistics_cert['results']:\n",
    "    if node['margin'] < 0:\n",
    "        n_change += 1\n",
    "flipped_ratio_cert =  n_change / len(local_prbcd_statistics_cert['results'])\n",
    "print(f'Percentage of changed node predictions for init with cert : {100*flipped_ratio_cert:.2f}%')"
   ],
   "outputs": [],
   "execution_count": null
  },
  {
   "cell_type": "markdown",
   "source": [
    "### 2.2 Global PR-BCD Attack with Cert\n",
    "\n",
    "Now let's do the same with a non-local `PR-BCD` attack. For this, we use [experiments/experiment_global_attack_direct.py](https://github.com/sigeisler/robustness_of_gnns_at_scale/blob/main/experiments/experiment_global_attack_direct.py#L63)."
   ],
   "metadata": {
    "id": "UMtpxI6cCkwz"
   }
  },
  {
   "cell_type": "code",
   "source": [
    "from DeleteCache import delete_pert_files_and_folders\n",
    "# partly_drawn_nodes decides whether nodes have to be drawn completely from unrobust nodes_set\n",
    "# Some changes, but not significant\n",
    "partly_drawn_nodes = [True]\n",
    "#use_certificate = [\"sampling_grid_radii\", \"sampling_grid_binary_class\", \"resampling_grid_radii\", \"sampling_grid_binary_class\", \"both_1\", \"both_2\", \"none\"]\n",
    "use_certificate = [\"sampling_grid_radii\", \"sampling_grid_binary_class\", \"sampling_grid_binary_class_alt\", \"none\"]\n",
    "results_global_prbcd_cert = []\n",
    "# Idea: Variables for sampling with or without certificate usage\n",
    "# \"sampling_grid_radii\" = use certificates with grid_radii only in sampling\n",
    "# \"sampling_grid_binary_class\" = use certificates with grid_binary_class only in sampling\n",
    "# \"resampling_grid_radii\" = use certificates grid_radii only in resampling\n",
    "# \"resampling_grid_binary_class\" = use certificates with grid_binary_class only in resampling\n",
    "# \"both_1\" = use certificate in both sampling (grid_radii) and resampling\n",
    "# \"both_2\" = use certificate in both sampling (grid_binary_class) and resampling\n",
    "# \"none\" = use no certificate\n",
    "for semi in partly_drawn_nodes:\n",
    "    for use_cert in use_certificate:\n",
    "        \n",
    "        delete_pert_files_and_folders(\n",
    "        cache_dir=\"cache\",\n",
    "        pert_adj_storage_type=\"evasion_global_adj\",\n",
    "        pert_attr_storage_type=\"evasion_global_attr\"\n",
    "        )\n",
    "        start = timer()\n",
    "        global_prbcd_statistics_cert = experiment_global_attack_direct.run(\n",
    "            data_dir = './data',\n",
    "            dataset = 'cora_ml',\n",
    "            attack = 'PRBCD',\n",
    "            attack_params = dict(\n",
    "                epochs= 50, #500\n",
    "                fine_tune_epochs= 25, #100,\n",
    "                keep_heuristic=\"WeightOnly\",\n",
    "                search_space_size=100_000, #this may be wrong variable name (block_size?)\n",
    "                block_size=2000, #100_000\n",
    "                do_synchronize=True,\n",
    "                loss_type=\"tanhMargin\",\n",
    "            ),\n",
    "            epsilons = [0.25],\n",
    "            binary_attr = False,\n",
    "            make_undirected = True,\n",
    "            seed=0,\n",
    "            artifact_dir = 'cache',\n",
    "            pert_adj_storage_type = 'evasion_global_adj',\n",
    "            pert_attr_storage_type = 'evasion_global_attr',\n",
    "            model_label = 'Vanilla GCN',\n",
    "            model_storage_type = 'demo',\n",
    "            #device = 0,\n",
    "            #data_device = 0,\n",
    "            device = \"cpu\",\n",
    "            data_device = \"cpu\",\n",
    "            debug_level = \"info\",\n",
    "            semi = semi,\n",
    "            use_cert=use_cert,\n",
    "            grid_radii=grid_radii,\n",
    "            grid_binary_class=grid_binary_class,\n",
    "        )\n",
    "        end = timer()\n",
    "        time = end - start\n",
    "        \n",
    "        print(\"time: \", time)\n",
    "        print(use_cert + \": \")\n",
    "        print(global_prbcd_statistics_cert)\n",
    "        results_global_prbcd_cert.append((use_cert, \"semi:\", semi, \"time:\", time, global_prbcd_statistics_cert))\n",
    "\n",
    "def printItem(item):\n",
    "    print(item)\n",
    "    print(\"\\n\")\n",
    "\n",
    "\n",
    "print(\"RESULTS\")\n",
    "[printItem(item) for item in results_global_prbcd_cert]\n"
   ],
   "metadata": {
    "collapsed": false,
    "jupyter": {
     "is_executing": true
    },
    "ExecuteTime": {
     "end_time": "2025-04-27T23:55:04.738646Z",
     "start_time": "2025-04-27T23:50:05.319137300Z"
    }
   },
   "outputs": [
    {
     "name": "stdout",
     "output_type": "stream",
     "text": [
      "Deleted file: cache\\evasion_global_adj.json\n",
      "Deleted file: cache\\evasion_global_attr.json\n",
      "Deleted directory: cache\\evasion_global_adj\n",
      "Deleted directory: cache\\evasion_global_attr\n"
     ]
    },
    {
     "data": {
      "text/plain": "\u001B[2;36m[04/28/25 01:50:05]\u001B[0m\u001B[2;36m \u001B[0m\u001B[34mINFO    \u001B[0m \u001B[1m{\u001B[0m\u001B[32m'dataset'\u001B[0m: \u001B[32m'cora_ml'\u001B[0m, \u001B[32m'attack'\u001B[0m: \u001B[32m'PRBCD'\u001B[0m, \u001B[32m'attack_params'\u001B[0m: \u001B[1m{\u001B[0m\u001B[32m'epochs'\u001B[0m: \u001B[1;36m50\u001B[0m, \u001B]8;id=55599;file://C:\\Users\\kyawk\\Desktop\\robustness_of_gnns_at_scale-main\\experiments\\common.py\u001B\\\u001B[2mcommon.py\u001B[0m\u001B]8;;\u001B\\\u001B[2m:\u001B[0m\u001B]8;id=314999;file://C:\\Users\\kyawk\\Desktop\\robustness_of_gnns_at_scale-main\\experiments\\common.py#38\u001B\\\u001B[2m38\u001B[0m\u001B]8;;\u001B\\\n\u001B[2;36m                    \u001B[0m         \u001B[32m'fine_tune_epochs'\u001B[0m: \u001B[1;36m25\u001B[0m, \u001B[32m'keep_heuristic'\u001B[0m: \u001B[32m'WeightOnly'\u001B[0m,                   \u001B[2m            \u001B[0m\n\u001B[2;36m                    \u001B[0m         \u001B[32m'search_space_size'\u001B[0m: \u001B[1;36m100000\u001B[0m, \u001B[32m'block_size'\u001B[0m: \u001B[1;36m2000\u001B[0m, \u001B[32m'do_synchronize'\u001B[0m: \u001B[3;92mTrue\u001B[0m,  \u001B[2m            \u001B[0m\n\u001B[2;36m                    \u001B[0m         \u001B[32m'loss_type'\u001B[0m: \u001B[32m'tanhMargin'\u001B[0m\u001B[1m}\u001B[0m, \u001B[32m'epsilons'\u001B[0m: \u001B[1m[\u001B[0m\u001B[1;36m0.25\u001B[0m\u001B[1m]\u001B[0m, \u001B[32m'make_undirected'\u001B[0m: \u001B[3;92mTrue\u001B[0m,  \u001B[2m            \u001B[0m\n\u001B[2;36m                    \u001B[0m         \u001B[32m'binary_attr'\u001B[0m: \u001B[3;91mFalse\u001B[0m, \u001B[32m'seed'\u001B[0m: \u001B[1;36m0\u001B[0m, \u001B[32m'artifact_dir'\u001B[0m: \u001B[32m'cache'\u001B[0m,                 \u001B[2m            \u001B[0m\n\u001B[2;36m                    \u001B[0m         \u001B[32m'pert_adj_storage_type'\u001B[0m: \u001B[32m'evasion_global_adj'\u001B[0m, \u001B[32m'pert_attr_storage_type'\u001B[0m:  \u001B[2m            \u001B[0m\n\u001B[2;36m                    \u001B[0m         \u001B[32m'evasion_global_attr'\u001B[0m, \u001B[32m'model_label'\u001B[0m: \u001B[32m'Vanilla GCN'\u001B[0m,                      \u001B[2m            \u001B[0m\n\u001B[2;36m                    \u001B[0m         \u001B[32m'model_storage_type'\u001B[0m: \u001B[32m'demo'\u001B[0m, \u001B[32m'device'\u001B[0m: \u001B[32m'cpu'\u001B[0m, \u001B[32m'data_device'\u001B[0m: \u001B[32m'cpu'\u001B[0m\u001B[1m}\u001B[0m      \u001B[2m            \u001B[0m\n",
      "text/html": "<pre style=\"white-space:pre;overflow-x:auto;line-height:normal;font-family:Menlo,'DejaVu Sans Mono',consolas,'Courier New',monospace\"><span style=\"color: #7fbfbf; text-decoration-color: #7fbfbf\">[04/28/25 01:50:05] </span><span style=\"color: #000080; text-decoration-color: #000080\">INFO    </span> <span style=\"font-weight: bold\">{</span><span style=\"color: #008000; text-decoration-color: #008000\">'dataset'</span>: <span style=\"color: #008000; text-decoration-color: #008000\">'cora_ml'</span>, <span style=\"color: #008000; text-decoration-color: #008000\">'attack'</span>: <span style=\"color: #008000; text-decoration-color: #008000\">'PRBCD'</span>, <span style=\"color: #008000; text-decoration-color: #008000\">'attack_params'</span>: <span style=\"font-weight: bold\">{</span><span style=\"color: #008000; text-decoration-color: #008000\">'epochs'</span>: <span style=\"color: #008080; text-decoration-color: #008080; font-weight: bold\">50</span>, <a href=\"file://C:\\Users\\kyawk\\Desktop\\robustness_of_gnns_at_scale-main\\experiments\\common.py\" target=\"_blank\"><span style=\"color: #7f7f7f; text-decoration-color: #7f7f7f\">common.py</span></a><span style=\"color: #7f7f7f; text-decoration-color: #7f7f7f\">:</span><a href=\"file://C:\\Users\\kyawk\\Desktop\\robustness_of_gnns_at_scale-main\\experiments\\common.py#38\" target=\"_blank\"><span style=\"color: #7f7f7f; text-decoration-color: #7f7f7f\">38</span></a>\n<span style=\"color: #7fbfbf; text-decoration-color: #7fbfbf\">                    </span>         <span style=\"color: #008000; text-decoration-color: #008000\">'fine_tune_epochs'</span>: <span style=\"color: #008080; text-decoration-color: #008080; font-weight: bold\">25</span>, <span style=\"color: #008000; text-decoration-color: #008000\">'keep_heuristic'</span>: <span style=\"color: #008000; text-decoration-color: #008000\">'WeightOnly'</span>,                   <span style=\"color: #7f7f7f; text-decoration-color: #7f7f7f\">            </span>\n<span style=\"color: #7fbfbf; text-decoration-color: #7fbfbf\">                    </span>         <span style=\"color: #008000; text-decoration-color: #008000\">'search_space_size'</span>: <span style=\"color: #008080; text-decoration-color: #008080; font-weight: bold\">100000</span>, <span style=\"color: #008000; text-decoration-color: #008000\">'block_size'</span>: <span style=\"color: #008080; text-decoration-color: #008080; font-weight: bold\">2000</span>, <span style=\"color: #008000; text-decoration-color: #008000\">'do_synchronize'</span>: <span style=\"color: #00ff00; text-decoration-color: #00ff00; font-style: italic\">True</span>,  <span style=\"color: #7f7f7f; text-decoration-color: #7f7f7f\">            </span>\n<span style=\"color: #7fbfbf; text-decoration-color: #7fbfbf\">                    </span>         <span style=\"color: #008000; text-decoration-color: #008000\">'loss_type'</span>: <span style=\"color: #008000; text-decoration-color: #008000\">'tanhMargin'</span><span style=\"font-weight: bold\">}</span>, <span style=\"color: #008000; text-decoration-color: #008000\">'epsilons'</span>: <span style=\"font-weight: bold\">[</span><span style=\"color: #008080; text-decoration-color: #008080; font-weight: bold\">0.25</span><span style=\"font-weight: bold\">]</span>, <span style=\"color: #008000; text-decoration-color: #008000\">'make_undirected'</span>: <span style=\"color: #00ff00; text-decoration-color: #00ff00; font-style: italic\">True</span>,  <span style=\"color: #7f7f7f; text-decoration-color: #7f7f7f\">            </span>\n<span style=\"color: #7fbfbf; text-decoration-color: #7fbfbf\">                    </span>         <span style=\"color: #008000; text-decoration-color: #008000\">'binary_attr'</span>: <span style=\"color: #ff0000; text-decoration-color: #ff0000; font-style: italic\">False</span>, <span style=\"color: #008000; text-decoration-color: #008000\">'seed'</span>: <span style=\"color: #008080; text-decoration-color: #008080; font-weight: bold\">0</span>, <span style=\"color: #008000; text-decoration-color: #008000\">'artifact_dir'</span>: <span style=\"color: #008000; text-decoration-color: #008000\">'cache'</span>,                 <span style=\"color: #7f7f7f; text-decoration-color: #7f7f7f\">            </span>\n<span style=\"color: #7fbfbf; text-decoration-color: #7fbfbf\">                    </span>         <span style=\"color: #008000; text-decoration-color: #008000\">'pert_adj_storage_type'</span>: <span style=\"color: #008000; text-decoration-color: #008000\">'evasion_global_adj'</span>, <span style=\"color: #008000; text-decoration-color: #008000\">'pert_attr_storage_type'</span>:  <span style=\"color: #7f7f7f; text-decoration-color: #7f7f7f\">            </span>\n<span style=\"color: #7fbfbf; text-decoration-color: #7fbfbf\">                    </span>         <span style=\"color: #008000; text-decoration-color: #008000\">'evasion_global_attr'</span>, <span style=\"color: #008000; text-decoration-color: #008000\">'model_label'</span>: <span style=\"color: #008000; text-decoration-color: #008000\">'Vanilla GCN'</span>,                      <span style=\"color: #7f7f7f; text-decoration-color: #7f7f7f\">            </span>\n<span style=\"color: #7fbfbf; text-decoration-color: #7fbfbf\">                    </span>         <span style=\"color: #008000; text-decoration-color: #008000\">'model_storage_type'</span>: <span style=\"color: #008000; text-decoration-color: #008000\">'demo'</span>, <span style=\"color: #008000; text-decoration-color: #008000\">'device'</span>: <span style=\"color: #008000; text-decoration-color: #008000\">'cpu'</span>, <span style=\"color: #008000; text-decoration-color: #008000\">'data_device'</span>: <span style=\"color: #008000; text-decoration-color: #008000\">'cpu'</span><span style=\"font-weight: bold\">}</span>      <span style=\"color: #7f7f7f; text-decoration-color: #7f7f7f\">            </span>\n</pre>\n"
     },
     "metadata": {},
     "output_type": "display_data"
    },
    {
     "data": {
      "text/plain": "\u001B[2;36m[04/28/25 01:50:06]\u001B[0m\u001B[2;36m \u001B[0m\u001B[34mINFO    \u001B[0m Lock \u001B[1;36m2826161466704\u001B[0m acquired on cache\\demo.json.lock                    \u001B]8;id=2724;file://C:\\Users\\kyawk\\anaconda3\\envs\\Masterarbeit_2_0\\Lib\\site-packages\\filelock.py\u001B\\\u001B[2mfilelock.py\u001B[0m\u001B]8;;\u001B\\\u001B[2m:\u001B[0m\u001B]8;id=203224;file://C:\\Users\\kyawk\\anaconda3\\envs\\Masterarbeit_2_0\\Lib\\site-packages\\filelock.py#274\u001B\\\u001B[2m274\u001B[0m\u001B]8;;\u001B\\\n",
      "text/html": "<pre style=\"white-space:pre;overflow-x:auto;line-height:normal;font-family:Menlo,'DejaVu Sans Mono',consolas,'Courier New',monospace\"><span style=\"color: #7fbfbf; text-decoration-color: #7fbfbf\">[04/28/25 01:50:06] </span><span style=\"color: #000080; text-decoration-color: #000080\">INFO    </span> Lock <span style=\"color: #008080; text-decoration-color: #008080; font-weight: bold\">2826161466704</span> acquired on cache\\demo.json.lock                    <a href=\"file://C:\\Users\\kyawk\\anaconda3\\envs\\Masterarbeit_2_0\\Lib\\site-packages\\filelock.py\" target=\"_blank\"><span style=\"color: #7f7f7f; text-decoration-color: #7f7f7f\">filelock.py</span></a><span style=\"color: #7f7f7f; text-decoration-color: #7f7f7f\">:</span><a href=\"file://C:\\Users\\kyawk\\anaconda3\\envs\\Masterarbeit_2_0\\Lib\\site-packages\\filelock.py#274\" target=\"_blank\"><span style=\"color: #7f7f7f; text-decoration-color: #7f7f7f\">274</span></a>\n</pre>\n"
     },
     "metadata": {},
     "output_type": "display_data"
    },
    {
     "data": {
      "text/plain": "\u001B[2;36m                   \u001B[0m\u001B[2;36m \u001B[0m\u001B[34mINFO    \u001B[0m Lock \u001B[1;36m2826161466704\u001B[0m released on cache\\demo.json.lock                    \u001B]8;id=96037;file://C:\\Users\\kyawk\\anaconda3\\envs\\Masterarbeit_2_0\\Lib\\site-packages\\filelock.py\u001B\\\u001B[2mfilelock.py\u001B[0m\u001B]8;;\u001B\\\u001B[2m:\u001B[0m\u001B]8;id=106569;file://C:\\Users\\kyawk\\anaconda3\\envs\\Masterarbeit_2_0\\Lib\\site-packages\\filelock.py#318\u001B\\\u001B[2m318\u001B[0m\u001B]8;;\u001B\\\n",
      "text/html": "<pre style=\"white-space:pre;overflow-x:auto;line-height:normal;font-family:Menlo,'DejaVu Sans Mono',consolas,'Courier New',monospace\"><span style=\"color: #7fbfbf; text-decoration-color: #7fbfbf\">                    </span><span style=\"color: #000080; text-decoration-color: #000080\">INFO    </span> Lock <span style=\"color: #008080; text-decoration-color: #008080; font-weight: bold\">2826161466704</span> released on cache\\demo.json.lock                    <a href=\"file://C:\\Users\\kyawk\\anaconda3\\envs\\Masterarbeit_2_0\\Lib\\site-packages\\filelock.py\" target=\"_blank\"><span style=\"color: #7f7f7f; text-decoration-color: #7f7f7f\">filelock.py</span></a><span style=\"color: #7f7f7f; text-decoration-color: #7f7f7f\">:</span><a href=\"file://C:\\Users\\kyawk\\anaconda3\\envs\\Masterarbeit_2_0\\Lib\\site-packages\\filelock.py#318\" target=\"_blank\"><span style=\"color: #7f7f7f; text-decoration-color: #7f7f7f\">318</span></a>\n</pre>\n"
     },
     "metadata": {},
     "output_type": "display_data"
    },
    {
     "data": {
      "text/plain": "\u001B[2;36m                   \u001B[0m\u001B[2;36m \u001B[0m\u001B[34mINFO    \u001B[0m Evaluate  PRBCD for model \u001B[32m'Vanilla GCN'\u001B[0m.        \u001B]8;id=639976;file://C:\\Users\\kyawk\\Desktop\\robustness_of_gnns_at_scale-main\\experiments\\experiment_global_attack_direct.py\u001B\\\u001B[2mexperiment_global_attack_direct.py\u001B[0m\u001B]8;;\u001B\\\u001B[2m:\u001B[0m\u001B]8;id=73469;file://C:\\Users\\kyawk\\Desktop\\robustness_of_gnns_at_scale-main\\experiments\\experiment_global_attack_direct.py#139\u001B\\\u001B[2m139\u001B[0m\u001B]8;;\u001B\\\n",
      "text/html": "<pre style=\"white-space:pre;overflow-x:auto;line-height:normal;font-family:Menlo,'DejaVu Sans Mono',consolas,'Courier New',monospace\"><span style=\"color: #7fbfbf; text-decoration-color: #7fbfbf\">                    </span><span style=\"color: #000080; text-decoration-color: #000080\">INFO    </span> Evaluate  PRBCD for model <span style=\"color: #008000; text-decoration-color: #008000\">'Vanilla GCN'</span>.        <a href=\"file://C:\\Users\\kyawk\\Desktop\\robustness_of_gnns_at_scale-main\\experiments\\experiment_global_attack_direct.py\" target=\"_blank\"><span style=\"color: #7f7f7f; text-decoration-color: #7f7f7f\">experiment_global_attack_direct.py</span></a><span style=\"color: #7f7f7f; text-decoration-color: #7f7f7f\">:</span><a href=\"file://C:\\Users\\kyawk\\Desktop\\robustness_of_gnns_at_scale-main\\experiments\\experiment_global_attack_direct.py#139\" target=\"_blank\"><span style=\"color: #7f7f7f; text-decoration-color: #7f7f7f\">139</span></a>\n</pre>\n"
     },
     "metadata": {},
     "output_type": "display_data"
    },
    {
     "data": {
      "text/plain": "\u001B[2;36m                   \u001B[0m\u001B[2;36m \u001B[0m\u001B[34mINFO    \u001B[0m Lock \u001B[1;36m2826015083536\u001B[0m acquired on cache\\evasion_global_adj.json.lock      \u001B]8;id=286982;file://C:\\Users\\kyawk\\anaconda3\\envs\\Masterarbeit_2_0\\Lib\\site-packages\\filelock.py\u001B\\\u001B[2mfilelock.py\u001B[0m\u001B]8;;\u001B\\\u001B[2m:\u001B[0m\u001B]8;id=95870;file://C:\\Users\\kyawk\\anaconda3\\envs\\Masterarbeit_2_0\\Lib\\site-packages\\filelock.py#274\u001B\\\u001B[2m274\u001B[0m\u001B]8;;\u001B\\\n",
      "text/html": "<pre style=\"white-space:pre;overflow-x:auto;line-height:normal;font-family:Menlo,'DejaVu Sans Mono',consolas,'Courier New',monospace\"><span style=\"color: #7fbfbf; text-decoration-color: #7fbfbf\">                    </span><span style=\"color: #000080; text-decoration-color: #000080\">INFO    </span> Lock <span style=\"color: #008080; text-decoration-color: #008080; font-weight: bold\">2826015083536</span> acquired on cache\\evasion_global_adj.json.lock      <a href=\"file://C:\\Users\\kyawk\\anaconda3\\envs\\Masterarbeit_2_0\\Lib\\site-packages\\filelock.py\" target=\"_blank\"><span style=\"color: #7f7f7f; text-decoration-color: #7f7f7f\">filelock.py</span></a><span style=\"color: #7f7f7f; text-decoration-color: #7f7f7f\">:</span><a href=\"file://C:\\Users\\kyawk\\anaconda3\\envs\\Masterarbeit_2_0\\Lib\\site-packages\\filelock.py#274\" target=\"_blank\"><span style=\"color: #7f7f7f; text-decoration-color: #7f7f7f\">274</span></a>\n</pre>\n"
     },
     "metadata": {},
     "output_type": "display_data"
    },
    {
     "data": {
      "text/plain": "\u001B[2;36m                   \u001B[0m\u001B[2;36m \u001B[0m\u001B[34mINFO    \u001B[0m Lock \u001B[1;36m2826015083536\u001B[0m released on cache\\evasion_global_adj.json.lock      \u001B]8;id=957667;file://C:\\Users\\kyawk\\anaconda3\\envs\\Masterarbeit_2_0\\Lib\\site-packages\\filelock.py\u001B\\\u001B[2mfilelock.py\u001B[0m\u001B]8;;\u001B\\\u001B[2m:\u001B[0m\u001B]8;id=975574;file://C:\\Users\\kyawk\\anaconda3\\envs\\Masterarbeit_2_0\\Lib\\site-packages\\filelock.py#318\u001B\\\u001B[2m318\u001B[0m\u001B]8;;\u001B\\\n",
      "text/html": "<pre style=\"white-space:pre;overflow-x:auto;line-height:normal;font-family:Menlo,'DejaVu Sans Mono',consolas,'Courier New',monospace\"><span style=\"color: #7fbfbf; text-decoration-color: #7fbfbf\">                    </span><span style=\"color: #000080; text-decoration-color: #000080\">INFO    </span> Lock <span style=\"color: #008080; text-decoration-color: #008080; font-weight: bold\">2826015083536</span> released on cache\\evasion_global_adj.json.lock      <a href=\"file://C:\\Users\\kyawk\\anaconda3\\envs\\Masterarbeit_2_0\\Lib\\site-packages\\filelock.py\" target=\"_blank\"><span style=\"color: #7f7f7f; text-decoration-color: #7f7f7f\">filelock.py</span></a><span style=\"color: #7f7f7f; text-decoration-color: #7f7f7f\">:</span><a href=\"file://C:\\Users\\kyawk\\anaconda3\\envs\\Masterarbeit_2_0\\Lib\\site-packages\\filelock.py#318\" target=\"_blank\"><span style=\"color: #7f7f7f; text-decoration-color: #7f7f7f\">318</span></a>\n</pre>\n"
     },
     "metadata": {},
     "output_type": "display_data"
    },
    {
     "data": {
      "text/plain": "\u001B[2;36m                   \u001B[0m\u001B[2;36m \u001B[0m\u001B[34mINFO    \u001B[0m Lock \u001B[1;36m2826015083536\u001B[0m acquired on cache\\evasion_global_attr.json.lock     \u001B]8;id=5587;file://C:\\Users\\kyawk\\anaconda3\\envs\\Masterarbeit_2_0\\Lib\\site-packages\\filelock.py\u001B\\\u001B[2mfilelock.py\u001B[0m\u001B]8;;\u001B\\\u001B[2m:\u001B[0m\u001B]8;id=580348;file://C:\\Users\\kyawk\\anaconda3\\envs\\Masterarbeit_2_0\\Lib\\site-packages\\filelock.py#274\u001B\\\u001B[2m274\u001B[0m\u001B]8;;\u001B\\\n",
      "text/html": "<pre style=\"white-space:pre;overflow-x:auto;line-height:normal;font-family:Menlo,'DejaVu Sans Mono',consolas,'Courier New',monospace\"><span style=\"color: #7fbfbf; text-decoration-color: #7fbfbf\">                    </span><span style=\"color: #000080; text-decoration-color: #000080\">INFO    </span> Lock <span style=\"color: #008080; text-decoration-color: #008080; font-weight: bold\">2826015083536</span> acquired on cache\\evasion_global_attr.json.lock     <a href=\"file://C:\\Users\\kyawk\\anaconda3\\envs\\Masterarbeit_2_0\\Lib\\site-packages\\filelock.py\" target=\"_blank\"><span style=\"color: #7f7f7f; text-decoration-color: #7f7f7f\">filelock.py</span></a><span style=\"color: #7f7f7f; text-decoration-color: #7f7f7f\">:</span><a href=\"file://C:\\Users\\kyawk\\anaconda3\\envs\\Masterarbeit_2_0\\Lib\\site-packages\\filelock.py#274\" target=\"_blank\"><span style=\"color: #7f7f7f; text-decoration-color: #7f7f7f\">274</span></a>\n</pre>\n"
     },
     "metadata": {},
     "output_type": "display_data"
    },
    {
     "data": {
      "text/plain": "\u001B[2;36m                   \u001B[0m\u001B[2;36m \u001B[0m\u001B[34mINFO    \u001B[0m Lock \u001B[1;36m2826015083536\u001B[0m released on cache\\evasion_global_attr.json.lock     \u001B]8;id=153811;file://C:\\Users\\kyawk\\anaconda3\\envs\\Masterarbeit_2_0\\Lib\\site-packages\\filelock.py\u001B\\\u001B[2mfilelock.py\u001B[0m\u001B]8;;\u001B\\\u001B[2m:\u001B[0m\u001B]8;id=948222;file://C:\\Users\\kyawk\\anaconda3\\envs\\Masterarbeit_2_0\\Lib\\site-packages\\filelock.py#318\u001B\\\u001B[2m318\u001B[0m\u001B]8;;\u001B\\\n",
      "text/html": "<pre style=\"white-space:pre;overflow-x:auto;line-height:normal;font-family:Menlo,'DejaVu Sans Mono',consolas,'Courier New',monospace\"><span style=\"color: #7fbfbf; text-decoration-color: #7fbfbf\">                    </span><span style=\"color: #000080; text-decoration-color: #000080\">INFO    </span> Lock <span style=\"color: #008080; text-decoration-color: #008080; font-weight: bold\">2826015083536</span> released on cache\\evasion_global_attr.json.lock     <a href=\"file://C:\\Users\\kyawk\\anaconda3\\envs\\Masterarbeit_2_0\\Lib\\site-packages\\filelock.py\" target=\"_blank\"><span style=\"color: #7f7f7f; text-decoration-color: #7f7f7f\">filelock.py</span></a><span style=\"color: #7f7f7f; text-decoration-color: #7f7f7f\">:</span><a href=\"file://C:\\Users\\kyawk\\anaconda3\\envs\\Masterarbeit_2_0\\Lib\\site-packages\\filelock.py#318\" target=\"_blank\"><span style=\"color: #7f7f7f; text-decoration-color: #7f7f7f\">318</span></a>\n</pre>\n"
     },
     "metadata": {},
     "output_type": "display_data"
    },
    {
     "data": {
      "text/plain": "\u001B[2;36m                   \u001B[0m\u001B[2;36m \u001B[0m\u001B[34mINFO    \u001B[0m No cached perturbations found for model \u001B[32m'Vanilla GCN'\u001B[0m and eps \u001B[1;36m0.25\u001B[0m.      \u001B]8;id=76736;file://C:\\Users\\kyawk\\Desktop\\robustness_of_gnns_at_scale-main\\experiments\\common.py\u001B\\\u001B[2mcommon.py\u001B[0m\u001B]8;;\u001B\\\u001B[2m:\u001B[0m\u001B]8;id=700606;file://C:\\Users\\kyawk\\Desktop\\robustness_of_gnns_at_scale-main\\experiments\\common.py#109\u001B\\\u001B[2m109\u001B[0m\u001B]8;;\u001B\\\n\u001B[2;36m                    \u001B[0m         Execute attack\u001B[33m...\u001B[0m                                                        \u001B[2m             \u001B[0m\n",
      "text/html": "<pre style=\"white-space:pre;overflow-x:auto;line-height:normal;font-family:Menlo,'DejaVu Sans Mono',consolas,'Courier New',monospace\"><span style=\"color: #7fbfbf; text-decoration-color: #7fbfbf\">                    </span><span style=\"color: #000080; text-decoration-color: #000080\">INFO    </span> No cached perturbations found for model <span style=\"color: #008000; text-decoration-color: #008000\">'Vanilla GCN'</span> and eps <span style=\"color: #008080; text-decoration-color: #008080; font-weight: bold\">0.25</span>.      <a href=\"file://C:\\Users\\kyawk\\Desktop\\robustness_of_gnns_at_scale-main\\experiments\\common.py\" target=\"_blank\"><span style=\"color: #7f7f7f; text-decoration-color: #7f7f7f\">common.py</span></a><span style=\"color: #7f7f7f; text-decoration-color: #7f7f7f\">:</span><a href=\"file://C:\\Users\\kyawk\\Desktop\\robustness_of_gnns_at_scale-main\\experiments\\common.py#109\" target=\"_blank\"><span style=\"color: #7f7f7f; text-decoration-color: #7f7f7f\">109</span></a>\n<span style=\"color: #7fbfbf; text-decoration-color: #7fbfbf\">                    </span>         Execute attack<span style=\"color: #808000; text-decoration-color: #808000\">...</span>                                                        <span style=\"color: #7f7f7f; text-decoration-color: #7f7f7f\">             </span>\n</pre>\n"
     },
     "metadata": {},
     "output_type": "display_data"
    },
    {
     "name": "stdout",
     "output_type": "stream",
     "text": [
      "sampling_grid_radii run sampling_grid_radii\n"
     ]
    },
    {
     "data": {
      "text/plain": "\u001B[2;36m                   \u001B[0m\u001B[2;36m \u001B[0m\u001B[34mINFO    \u001B[0m                                                                           \u001B]8;id=49675;file://C:\\Users\\kyawk\\Desktop\\robustness_of_gnns_at_scale-main\\rgnn_at_scale\\attacks\\prbcd.py\u001B\\\u001B[2mprbcd.py\u001B[0m\u001B]8;;\u001B\\\u001B[2m:\u001B[0m\u001B]8;id=409413;file://C:\\Users\\kyawk\\Desktop\\robustness_of_gnns_at_scale-main\\rgnn_at_scale\\attacks\\prbcd.py#102\u001B\\\u001B[2m102\u001B[0m\u001B]8;;\u001B\\\n\u001B[2;36m                    \u001B[0m         Before the attack - Loss: \u001B[1;36m-0.6509091258049011\u001B[0m Accuracy: \u001B[1;36m83.478\u001B[0m %          \u001B[2m            \u001B[0m\n\u001B[2;36m                    \u001B[0m                                                                                   \u001B[2m            \u001B[0m\n",
      "text/html": "<pre style=\"white-space:pre;overflow-x:auto;line-height:normal;font-family:Menlo,'DejaVu Sans Mono',consolas,'Courier New',monospace\"><span style=\"color: #7fbfbf; text-decoration-color: #7fbfbf\">                    </span><span style=\"color: #000080; text-decoration-color: #000080\">INFO    </span>                                                                           <a href=\"file://C:\\Users\\kyawk\\Desktop\\robustness_of_gnns_at_scale-main\\rgnn_at_scale\\attacks\\prbcd.py\" target=\"_blank\"><span style=\"color: #7f7f7f; text-decoration-color: #7f7f7f\">prbcd.py</span></a><span style=\"color: #7f7f7f; text-decoration-color: #7f7f7f\">:</span><a href=\"file://C:\\Users\\kyawk\\Desktop\\robustness_of_gnns_at_scale-main\\rgnn_at_scale\\attacks\\prbcd.py#102\" target=\"_blank\"><span style=\"color: #7f7f7f; text-decoration-color: #7f7f7f\">102</span></a>\n<span style=\"color: #7fbfbf; text-decoration-color: #7fbfbf\">                    </span>         Before the attack - Loss: <span style=\"color: #008080; text-decoration-color: #008080; font-weight: bold\">-0.6509091258049011</span> Accuracy: <span style=\"color: #008080; text-decoration-color: #008080; font-weight: bold\">83.478</span> %          <span style=\"color: #7f7f7f; text-decoration-color: #7f7f7f\">            </span>\n<span style=\"color: #7fbfbf; text-decoration-color: #7fbfbf\">                    </span>                                                                                   <span style=\"color: #7f7f7f; text-decoration-color: #7f7f7f\">            </span>\n</pre>\n"
     },
     "metadata": {},
     "output_type": "display_data"
    },
    {
     "name": "stderr",
     "output_type": "stream",
     "text": [
      "  0%|          | 0/50 [00:00<?, ?it/s]"
     ]
    },
    {
     "data": {
      "text/plain": "\u001B[2;36m[04/28/25 01:50:10]\u001B[0m\u001B[2;36m \u001B[0m\u001B[34mINFO    \u001B[0m                                                                           \u001B]8;id=666405;file://C:\\Users\\kyawk\\Desktop\\robustness_of_gnns_at_scale-main\\rgnn_at_scale\\attacks\\prbcd.py\u001B\\\u001B[2mprbcd.py\u001B[0m\u001B]8;;\u001B\\\u001B[2m:\u001B[0m\u001B]8;id=163475;file://C:\\Users\\kyawk\\Desktop\\robustness_of_gnns_at_scale-main\\rgnn_at_scale\\attacks\\prbcd.py#148\u001B\\\u001B[2m148\u001B[0m\u001B]8;;\u001B\\\n\u001B[2;36m                    \u001B[0m         Epoch: \u001B[1;36m0\u001B[0m Loss: \u001B[1;36m-0.6509061455726624\u001B[0m Accuracy: \u001B[1;36m82.925\u001B[0m %                     \u001B[2m            \u001B[0m\n\u001B[2;36m                    \u001B[0m                                                                                   \u001B[2m            \u001B[0m\n",
      "text/html": "<pre style=\"white-space:pre;overflow-x:auto;line-height:normal;font-family:Menlo,'DejaVu Sans Mono',consolas,'Courier New',monospace\"><span style=\"color: #7fbfbf; text-decoration-color: #7fbfbf\">[04/28/25 01:50:10] </span><span style=\"color: #000080; text-decoration-color: #000080\">INFO    </span>                                                                           <a href=\"file://C:\\Users\\kyawk\\Desktop\\robustness_of_gnns_at_scale-main\\rgnn_at_scale\\attacks\\prbcd.py\" target=\"_blank\"><span style=\"color: #7f7f7f; text-decoration-color: #7f7f7f\">prbcd.py</span></a><span style=\"color: #7f7f7f; text-decoration-color: #7f7f7f\">:</span><a href=\"file://C:\\Users\\kyawk\\Desktop\\robustness_of_gnns_at_scale-main\\rgnn_at_scale\\attacks\\prbcd.py#148\" target=\"_blank\"><span style=\"color: #7f7f7f; text-decoration-color: #7f7f7f\">148</span></a>\n<span style=\"color: #7fbfbf; text-decoration-color: #7fbfbf\">                    </span>         Epoch: <span style=\"color: #008080; text-decoration-color: #008080; font-weight: bold\">0</span> Loss: <span style=\"color: #008080; text-decoration-color: #008080; font-weight: bold\">-0.6509061455726624</span> Accuracy: <span style=\"color: #008080; text-decoration-color: #008080; font-weight: bold\">82.925</span> %                     <span style=\"color: #7f7f7f; text-decoration-color: #7f7f7f\">            </span>\n<span style=\"color: #7fbfbf; text-decoration-color: #7fbfbf\">                    </span>                                                                                   <span style=\"color: #7f7f7f; text-decoration-color: #7f7f7f\">            </span>\n</pre>\n"
     },
     "metadata": {},
     "output_type": "display_data"
    },
    {
     "name": "stderr",
     "output_type": "stream",
     "text": [
      "  2%|▏         | 1/50 [00:03<02:54,  3.56s/it]"
     ]
    },
    {
     "name": "stdout",
     "output_type": "stream",
     "text": [
      "sampling_grid_radii run resampling with no certificate\n"
     ]
    },
    {
     "name": "stderr",
     "output_type": "stream",
     "text": [
      "  4%|▍         | 2/50 [00:06<02:40,  3.35s/it]"
     ]
    },
    {
     "name": "stdout",
     "output_type": "stream",
     "text": [
      "sampling_grid_radii run resampling with no certificate\n"
     ]
    },
    {
     "name": "stderr",
     "output_type": "stream",
     "text": [
      "  6%|▌         | 3/50 [00:08<02:12,  2.82s/it]"
     ]
    },
    {
     "name": "stdout",
     "output_type": "stream",
     "text": [
      "sampling_grid_radii run resampling with no certificate\n"
     ]
    },
    {
     "name": "stderr",
     "output_type": "stream",
     "text": [
      "  8%|▊         | 4/50 [00:09<01:45,  2.30s/it]"
     ]
    },
    {
     "name": "stdout",
     "output_type": "stream",
     "text": [
      "sampling_grid_radii run resampling with no certificate\n"
     ]
    },
    {
     "name": "stderr",
     "output_type": "stream",
     "text": [
      " 10%|█         | 5/50 [00:10<01:27,  1.94s/it]"
     ]
    },
    {
     "name": "stdout",
     "output_type": "stream",
     "text": [
      "sampling_grid_radii run resampling with no certificate\n"
     ]
    },
    {
     "name": "stderr",
     "output_type": "stream",
     "text": [
      " 12%|█▏        | 6/50 [00:11<01:14,  1.68s/it]"
     ]
    },
    {
     "name": "stdout",
     "output_type": "stream",
     "text": [
      "sampling_grid_radii run resampling with no certificate\n"
     ]
    },
    {
     "name": "stderr",
     "output_type": "stream",
     "text": [
      " 14%|█▍        | 7/50 [00:12<01:07,  1.56s/it]"
     ]
    },
    {
     "name": "stdout",
     "output_type": "stream",
     "text": [
      "sampling_grid_radii run resampling with no certificate\n"
     ]
    },
    {
     "name": "stderr",
     "output_type": "stream",
     "text": [
      " 16%|█▌        | 8/50 [00:13<01:00,  1.43s/it]"
     ]
    },
    {
     "name": "stdout",
     "output_type": "stream",
     "text": [
      "sampling_grid_radii run resampling with no certificate\n"
     ]
    },
    {
     "name": "stderr",
     "output_type": "stream",
     "text": [
      " 18%|█▊        | 9/50 [00:14<00:55,  1.35s/it]"
     ]
    },
    {
     "name": "stdout",
     "output_type": "stream",
     "text": [
      "sampling_grid_radii run resampling with no certificate\n"
     ]
    },
    {
     "name": "stderr",
     "output_type": "stream",
     "text": [
      " 20%|██        | 10/50 [00:16<00:52,  1.30s/it]"
     ]
    },
    {
     "name": "stdout",
     "output_type": "stream",
     "text": [
      "sampling_grid_radii run resampling with no certificate\n"
     ]
    },
    {
     "name": "stderr",
     "output_type": "stream",
     "text": [
      " 22%|██▏       | 11/50 [00:17<00:49,  1.28s/it]"
     ]
    },
    {
     "name": "stdout",
     "output_type": "stream",
     "text": [
      "sampling_grid_radii run resampling with no certificate\n"
     ]
    },
    {
     "name": "stderr",
     "output_type": "stream",
     "text": [
      " 24%|██▍       | 12/50 [00:18<00:49,  1.30s/it]"
     ]
    },
    {
     "name": "stdout",
     "output_type": "stream",
     "text": [
      "sampling_grid_radii run resampling with no certificate\n"
     ]
    },
    {
     "name": "stderr",
     "output_type": "stream",
     "text": [
      " 26%|██▌       | 13/50 [00:19<00:48,  1.31s/it]"
     ]
    },
    {
     "name": "stdout",
     "output_type": "stream",
     "text": [
      "sampling_grid_radii run resampling with no certificate\n"
     ]
    },
    {
     "name": "stderr",
     "output_type": "stream",
     "text": [
      " 28%|██▊       | 14/50 [00:21<00:45,  1.26s/it]"
     ]
    },
    {
     "name": "stdout",
     "output_type": "stream",
     "text": [
      "sampling_grid_radii run resampling with no certificate\n"
     ]
    },
    {
     "name": "stderr",
     "output_type": "stream",
     "text": [
      " 30%|███       | 15/50 [00:22<00:41,  1.20s/it]"
     ]
    },
    {
     "name": "stdout",
     "output_type": "stream",
     "text": [
      "sampling_grid_radii run resampling with no certificate\n"
     ]
    },
    {
     "name": "stderr",
     "output_type": "stream",
     "text": [
      " 32%|███▏      | 16/50 [00:23<00:39,  1.15s/it]"
     ]
    },
    {
     "name": "stdout",
     "output_type": "stream",
     "text": [
      "sampling_grid_radii run resampling with no certificate\n"
     ]
    },
    {
     "name": "stderr",
     "output_type": "stream",
     "text": [
      " 34%|███▍      | 17/50 [00:24<00:37,  1.13s/it]"
     ]
    },
    {
     "name": "stdout",
     "output_type": "stream",
     "text": [
      "sampling_grid_radii run resampling with no certificate\n"
     ]
    },
    {
     "name": "stderr",
     "output_type": "stream",
     "text": [
      " 36%|███▌      | 18/50 [00:25<00:35,  1.11s/it]"
     ]
    },
    {
     "name": "stdout",
     "output_type": "stream",
     "text": [
      "sampling_grid_radii run resampling with no certificate\n"
     ]
    },
    {
     "name": "stderr",
     "output_type": "stream",
     "text": [
      " 38%|███▊      | 19/50 [00:26<00:34,  1.12s/it]"
     ]
    },
    {
     "name": "stdout",
     "output_type": "stream",
     "text": [
      "sampling_grid_radii run resampling with no certificate\n"
     ]
    },
    {
     "name": "stderr",
     "output_type": "stream",
     "text": [
      " 40%|████      | 20/50 [00:27<00:33,  1.11s/it]"
     ]
    },
    {
     "name": "stdout",
     "output_type": "stream",
     "text": [
      "sampling_grid_radii run resampling with no certificate\n"
     ]
    },
    {
     "data": {
      "text/plain": "\u001B[2;36m[04/28/25 01:50:35]\u001B[0m\u001B[2;36m \u001B[0m\u001B[34mINFO    \u001B[0m                                                                           \u001B]8;id=880514;file://C:\\Users\\kyawk\\Desktop\\robustness_of_gnns_at_scale-main\\rgnn_at_scale\\attacks\\prbcd.py\u001B\\\u001B[2mprbcd.py\u001B[0m\u001B]8;;\u001B\\\u001B[2m:\u001B[0m\u001B]8;id=199254;file://C:\\Users\\kyawk\\Desktop\\robustness_of_gnns_at_scale-main\\rgnn_at_scale\\attacks\\prbcd.py#148\u001B\\\u001B[2m148\u001B[0m\u001B]8;;\u001B\\\n\u001B[2;36m                    \u001B[0m         Epoch: \u001B[1;36m20\u001B[0m Loss: \u001B[1;36m-0.509386420249939\u001B[0m Accuracy: \u001B[1;36m74.387\u001B[0m %                     \u001B[2m            \u001B[0m\n\u001B[2;36m                    \u001B[0m                                                                                   \u001B[2m            \u001B[0m\n",
      "text/html": "<pre style=\"white-space:pre;overflow-x:auto;line-height:normal;font-family:Menlo,'DejaVu Sans Mono',consolas,'Courier New',monospace\"><span style=\"color: #7fbfbf; text-decoration-color: #7fbfbf\">[04/28/25 01:50:35] </span><span style=\"color: #000080; text-decoration-color: #000080\">INFO    </span>                                                                           <a href=\"file://C:\\Users\\kyawk\\Desktop\\robustness_of_gnns_at_scale-main\\rgnn_at_scale\\attacks\\prbcd.py\" target=\"_blank\"><span style=\"color: #7f7f7f; text-decoration-color: #7f7f7f\">prbcd.py</span></a><span style=\"color: #7f7f7f; text-decoration-color: #7f7f7f\">:</span><a href=\"file://C:\\Users\\kyawk\\Desktop\\robustness_of_gnns_at_scale-main\\rgnn_at_scale\\attacks\\prbcd.py#148\" target=\"_blank\"><span style=\"color: #7f7f7f; text-decoration-color: #7f7f7f\">148</span></a>\n<span style=\"color: #7fbfbf; text-decoration-color: #7fbfbf\">                    </span>         Epoch: <span style=\"color: #008080; text-decoration-color: #008080; font-weight: bold\">20</span> Loss: <span style=\"color: #008080; text-decoration-color: #008080; font-weight: bold\">-0.509386420249939</span> Accuracy: <span style=\"color: #008080; text-decoration-color: #008080; font-weight: bold\">74.387</span> %                     <span style=\"color: #7f7f7f; text-decoration-color: #7f7f7f\">            </span>\n<span style=\"color: #7fbfbf; text-decoration-color: #7fbfbf\">                    </span>                                                                                   <span style=\"color: #7f7f7f; text-decoration-color: #7f7f7f\">            </span>\n</pre>\n"
     },
     "metadata": {},
     "output_type": "display_data"
    },
    {
     "name": "stderr",
     "output_type": "stream",
     "text": [
      " 42%|████▏     | 21/50 [00:28<00:32,  1.11s/it]"
     ]
    },
    {
     "name": "stdout",
     "output_type": "stream",
     "text": [
      "sampling_grid_radii run resampling with no certificate\n"
     ]
    },
    {
     "name": "stderr",
     "output_type": "stream",
     "text": [
      " 44%|████▍     | 22/50 [00:29<00:31,  1.13s/it]"
     ]
    },
    {
     "name": "stdout",
     "output_type": "stream",
     "text": [
      "sampling_grid_radii run resampling with no certificate\n"
     ]
    },
    {
     "name": "stderr",
     "output_type": "stream",
     "text": [
      " 46%|████▌     | 23/50 [00:30<00:30,  1.11s/it]"
     ]
    },
    {
     "name": "stdout",
     "output_type": "stream",
     "text": [
      "sampling_grid_radii run resampling with no certificate\n"
     ]
    },
    {
     "name": "stderr",
     "output_type": "stream",
     "text": [
      " 48%|████▊     | 24/50 [00:32<00:30,  1.16s/it]"
     ]
    },
    {
     "name": "stdout",
     "output_type": "stream",
     "text": [
      "sampling_grid_radii run resampling with no certificate\n"
     ]
    },
    {
     "data": {
      "text/plain": "\u001B[2;36m[04/28/25 01:50:40]\u001B[0m\u001B[2;36m \u001B[0m\u001B[34mINFO    \u001B[0m Loading search space of epoch \u001B[1;36m24\u001B[0m \u001B[1m(\u001B[0m\u001B[33maccuarcy\u001B[0m=\u001B[1;36m0\u001B[0m\u001B[1;36m.739130437374115\u001B[0m\u001B[1m)\u001B[0m for fine    \u001B]8;id=549639;file://C:\\Users\\kyawk\\Desktop\\robustness_of_gnns_at_scale-main\\rgnn_at_scale\\attacks\\prbcd.py\u001B\\\u001B[2mprbcd.py\u001B[0m\u001B]8;;\u001B\\\u001B[2m:\u001B[0m\u001B]8;id=34392;file://C:\\Users\\kyawk\\Desktop\\robustness_of_gnns_at_scale-main\\rgnn_at_scale\\attacks\\prbcd.py#175\u001B\\\u001B[2m175\u001B[0m\u001B]8;;\u001B\\\n\u001B[2;36m                    \u001B[0m         tuning                                                                    \u001B[2m            \u001B[0m\n\u001B[2;36m                    \u001B[0m                                                                                   \u001B[2m            \u001B[0m\n",
      "text/html": "<pre style=\"white-space:pre;overflow-x:auto;line-height:normal;font-family:Menlo,'DejaVu Sans Mono',consolas,'Courier New',monospace\"><span style=\"color: #7fbfbf; text-decoration-color: #7fbfbf\">[04/28/25 01:50:40] </span><span style=\"color: #000080; text-decoration-color: #000080\">INFO    </span> Loading search space of epoch <span style=\"color: #008080; text-decoration-color: #008080; font-weight: bold\">24</span> <span style=\"font-weight: bold\">(</span><span style=\"color: #808000; text-decoration-color: #808000\">accuarcy</span>=<span style=\"color: #008080; text-decoration-color: #008080; font-weight: bold\">0.739130437374115</span><span style=\"font-weight: bold\">)</span> for fine    <a href=\"file://C:\\Users\\kyawk\\Desktop\\robustness_of_gnns_at_scale-main\\rgnn_at_scale\\attacks\\prbcd.py\" target=\"_blank\"><span style=\"color: #7f7f7f; text-decoration-color: #7f7f7f\">prbcd.py</span></a><span style=\"color: #7f7f7f; text-decoration-color: #7f7f7f\">:</span><a href=\"file://C:\\Users\\kyawk\\Desktop\\robustness_of_gnns_at_scale-main\\rgnn_at_scale\\attacks\\prbcd.py#175\" target=\"_blank\"><span style=\"color: #7f7f7f; text-decoration-color: #7f7f7f\">175</span></a>\n<span style=\"color: #7fbfbf; text-decoration-color: #7fbfbf\">                    </span>         tuning                                                                    <span style=\"color: #7f7f7f; text-decoration-color: #7f7f7f\">            </span>\n<span style=\"color: #7fbfbf; text-decoration-color: #7fbfbf\">                    </span>                                                                                   <span style=\"color: #7f7f7f; text-decoration-color: #7f7f7f\">            </span>\n</pre>\n"
     },
     "metadata": {},
     "output_type": "display_data"
    },
    {
     "name": "stderr",
     "output_type": "stream",
     "text": [
      " 80%|████████  | 40/50 [00:50<00:11,  1.18s/it]"
     ]
    },
    {
     "data": {
      "text/plain": "\u001B[2;36m[04/28/25 01:50:58]\u001B[0m\u001B[2;36m \u001B[0m\u001B[34mINFO    \u001B[0m                                                                           \u001B]8;id=804563;file://C:\\Users\\kyawk\\Desktop\\robustness_of_gnns_at_scale-main\\rgnn_at_scale\\attacks\\prbcd.py\u001B\\\u001B[2mprbcd.py\u001B[0m\u001B]8;;\u001B\\\u001B[2m:\u001B[0m\u001B]8;id=847871;file://C:\\Users\\kyawk\\Desktop\\robustness_of_gnns_at_scale-main\\rgnn_at_scale\\attacks\\prbcd.py#148\u001B\\\u001B[2m148\u001B[0m\u001B]8;;\u001B\\\n\u001B[2;36m                    \u001B[0m         Epoch: \u001B[1;36m40\u001B[0m Loss: \u001B[1;36m-0.4818803668022156\u001B[0m Accuracy: \u001B[1;36m73.202\u001B[0m %                    \u001B[2m            \u001B[0m\n\u001B[2;36m                    \u001B[0m                                                                                   \u001B[2m            \u001B[0m\n",
      "text/html": "<pre style=\"white-space:pre;overflow-x:auto;line-height:normal;font-family:Menlo,'DejaVu Sans Mono',consolas,'Courier New',monospace\"><span style=\"color: #7fbfbf; text-decoration-color: #7fbfbf\">[04/28/25 01:50:58] </span><span style=\"color: #000080; text-decoration-color: #000080\">INFO    </span>                                                                           <a href=\"file://C:\\Users\\kyawk\\Desktop\\robustness_of_gnns_at_scale-main\\rgnn_at_scale\\attacks\\prbcd.py\" target=\"_blank\"><span style=\"color: #7f7f7f; text-decoration-color: #7f7f7f\">prbcd.py</span></a><span style=\"color: #7f7f7f; text-decoration-color: #7f7f7f\">:</span><a href=\"file://C:\\Users\\kyawk\\Desktop\\robustness_of_gnns_at_scale-main\\rgnn_at_scale\\attacks\\prbcd.py#148\" target=\"_blank\"><span style=\"color: #7f7f7f; text-decoration-color: #7f7f7f\">148</span></a>\n<span style=\"color: #7fbfbf; text-decoration-color: #7fbfbf\">                    </span>         Epoch: <span style=\"color: #008080; text-decoration-color: #008080; font-weight: bold\">40</span> Loss: <span style=\"color: #008080; text-decoration-color: #008080; font-weight: bold\">-0.4818803668022156</span> Accuracy: <span style=\"color: #008080; text-decoration-color: #008080; font-weight: bold\">73.202</span> %                    <span style=\"color: #7f7f7f; text-decoration-color: #7f7f7f\">            </span>\n<span style=\"color: #7fbfbf; text-decoration-color: #7fbfbf\">                    </span>                                                                                   <span style=\"color: #7f7f7f; text-decoration-color: #7f7f7f\">            </span>\n</pre>\n"
     },
     "metadata": {},
     "output_type": "display_data"
    },
    {
     "name": "stderr",
     "output_type": "stream",
     "text": [
      "100%|██████████| 50/50 [01:02<00:00,  1.25s/it]\n"
     ]
    },
    {
     "data": {
      "text/plain": "\u001B[2;36m[04/28/25 01:51:17]\u001B[0m\u001B[2;36m \u001B[0m\u001B[34mINFO    \u001B[0m Lock \u001B[1;36m2826239733008\u001B[0m acquired on cache\\evasion_global_adj.json.lock      \u001B]8;id=855816;file://C:\\Users\\kyawk\\anaconda3\\envs\\Masterarbeit_2_0\\Lib\\site-packages\\filelock.py\u001B\\\u001B[2mfilelock.py\u001B[0m\u001B]8;;\u001B\\\u001B[2m:\u001B[0m\u001B]8;id=297271;file://C:\\Users\\kyawk\\anaconda3\\envs\\Masterarbeit_2_0\\Lib\\site-packages\\filelock.py#274\u001B\\\u001B[2m274\u001B[0m\u001B]8;;\u001B\\\n",
      "text/html": "<pre style=\"white-space:pre;overflow-x:auto;line-height:normal;font-family:Menlo,'DejaVu Sans Mono',consolas,'Courier New',monospace\"><span style=\"color: #7fbfbf; text-decoration-color: #7fbfbf\">[04/28/25 01:51:17] </span><span style=\"color: #000080; text-decoration-color: #000080\">INFO    </span> Lock <span style=\"color: #008080; text-decoration-color: #008080; font-weight: bold\">2826239733008</span> acquired on cache\\evasion_global_adj.json.lock      <a href=\"file://C:\\Users\\kyawk\\anaconda3\\envs\\Masterarbeit_2_0\\Lib\\site-packages\\filelock.py\" target=\"_blank\"><span style=\"color: #7f7f7f; text-decoration-color: #7f7f7f\">filelock.py</span></a><span style=\"color: #7f7f7f; text-decoration-color: #7f7f7f\">:</span><a href=\"file://C:\\Users\\kyawk\\anaconda3\\envs\\Masterarbeit_2_0\\Lib\\site-packages\\filelock.py#274\" target=\"_blank\"><span style=\"color: #7f7f7f; text-decoration-color: #7f7f7f\">274</span></a>\n</pre>\n"
     },
     "metadata": {},
     "output_type": "display_data"
    },
    {
     "data": {
      "text/plain": "\u001B[2;36m                   \u001B[0m\u001B[2;36m \u001B[0m\u001B[34mINFO    \u001B[0m Lock \u001B[1;36m2826239733008\u001B[0m released on cache\\evasion_global_adj.json.lock      \u001B]8;id=510293;file://C:\\Users\\kyawk\\anaconda3\\envs\\Masterarbeit_2_0\\Lib\\site-packages\\filelock.py\u001B\\\u001B[2mfilelock.py\u001B[0m\u001B]8;;\u001B\\\u001B[2m:\u001B[0m\u001B]8;id=196453;file://C:\\Users\\kyawk\\anaconda3\\envs\\Masterarbeit_2_0\\Lib\\site-packages\\filelock.py#318\u001B\\\u001B[2m318\u001B[0m\u001B]8;;\u001B\\\n",
      "text/html": "<pre style=\"white-space:pre;overflow-x:auto;line-height:normal;font-family:Menlo,'DejaVu Sans Mono',consolas,'Courier New',monospace\"><span style=\"color: #7fbfbf; text-decoration-color: #7fbfbf\">                    </span><span style=\"color: #000080; text-decoration-color: #000080\">INFO    </span> Lock <span style=\"color: #008080; text-decoration-color: #008080; font-weight: bold\">2826239733008</span> released on cache\\evasion_global_adj.json.lock      <a href=\"file://C:\\Users\\kyawk\\anaconda3\\envs\\Masterarbeit_2_0\\Lib\\site-packages\\filelock.py\" target=\"_blank\"><span style=\"color: #7f7f7f; text-decoration-color: #7f7f7f\">filelock.py</span></a><span style=\"color: #7f7f7f; text-decoration-color: #7f7f7f\">:</span><a href=\"file://C:\\Users\\kyawk\\anaconda3\\envs\\Masterarbeit_2_0\\Lib\\site-packages\\filelock.py#318\" target=\"_blank\"><span style=\"color: #7f7f7f; text-decoration-color: #7f7f7f\">318</span></a>\n</pre>\n"
     },
     "metadata": {},
     "output_type": "display_data"
    },
    {
     "data": {
      "text/plain": "\u001B[2;36m                   \u001B[0m\u001B[2;36m \u001B[0m\u001B[34mINFO    \u001B[0m Lock \u001B[1;36m2826239733008\u001B[0m acquired on cache\\evasion_global_attr.json.lock     \u001B]8;id=104769;file://C:\\Users\\kyawk\\anaconda3\\envs\\Masterarbeit_2_0\\Lib\\site-packages\\filelock.py\u001B\\\u001B[2mfilelock.py\u001B[0m\u001B]8;;\u001B\\\u001B[2m:\u001B[0m\u001B]8;id=655867;file://C:\\Users\\kyawk\\anaconda3\\envs\\Masterarbeit_2_0\\Lib\\site-packages\\filelock.py#274\u001B\\\u001B[2m274\u001B[0m\u001B]8;;\u001B\\\n",
      "text/html": "<pre style=\"white-space:pre;overflow-x:auto;line-height:normal;font-family:Menlo,'DejaVu Sans Mono',consolas,'Courier New',monospace\"><span style=\"color: #7fbfbf; text-decoration-color: #7fbfbf\">                    </span><span style=\"color: #000080; text-decoration-color: #000080\">INFO    </span> Lock <span style=\"color: #008080; text-decoration-color: #008080; font-weight: bold\">2826239733008</span> acquired on cache\\evasion_global_attr.json.lock     <a href=\"file://C:\\Users\\kyawk\\anaconda3\\envs\\Masterarbeit_2_0\\Lib\\site-packages\\filelock.py\" target=\"_blank\"><span style=\"color: #7f7f7f; text-decoration-color: #7f7f7f\">filelock.py</span></a><span style=\"color: #7f7f7f; text-decoration-color: #7f7f7f\">:</span><a href=\"file://C:\\Users\\kyawk\\anaconda3\\envs\\Masterarbeit_2_0\\Lib\\site-packages\\filelock.py#274\" target=\"_blank\"><span style=\"color: #7f7f7f; text-decoration-color: #7f7f7f\">274</span></a>\n</pre>\n"
     },
     "metadata": {},
     "output_type": "display_data"
    },
    {
     "data": {
      "text/plain": "\u001B[2;36m                   \u001B[0m\u001B[2;36m \u001B[0m\u001B[34mINFO    \u001B[0m Lock \u001B[1;36m2826239733008\u001B[0m released on cache\\evasion_global_attr.json.lock     \u001B]8;id=429456;file://C:\\Users\\kyawk\\anaconda3\\envs\\Masterarbeit_2_0\\Lib\\site-packages\\filelock.py\u001B\\\u001B[2mfilelock.py\u001B[0m\u001B]8;;\u001B\\\u001B[2m:\u001B[0m\u001B]8;id=59229;file://C:\\Users\\kyawk\\anaconda3\\envs\\Masterarbeit_2_0\\Lib\\site-packages\\filelock.py#318\u001B\\\u001B[2m318\u001B[0m\u001B]8;;\u001B\\\n",
      "text/html": "<pre style=\"white-space:pre;overflow-x:auto;line-height:normal;font-family:Menlo,'DejaVu Sans Mono',consolas,'Courier New',monospace\"><span style=\"color: #7fbfbf; text-decoration-color: #7fbfbf\">                    </span><span style=\"color: #000080; text-decoration-color: #000080\">INFO    </span> Lock <span style=\"color: #008080; text-decoration-color: #008080; font-weight: bold\">2826239733008</span> released on cache\\evasion_global_attr.json.lock     <a href=\"file://C:\\Users\\kyawk\\anaconda3\\envs\\Masterarbeit_2_0\\Lib\\site-packages\\filelock.py\" target=\"_blank\"><span style=\"color: #7f7f7f; text-decoration-color: #7f7f7f\">filelock.py</span></a><span style=\"color: #7f7f7f; text-decoration-color: #7f7f7f\">:</span><a href=\"file://C:\\Users\\kyawk\\anaconda3\\envs\\Masterarbeit_2_0\\Lib\\site-packages\\filelock.py#318\" target=\"_blank\"><span style=\"color: #7f7f7f; text-decoration-color: #7f7f7f\">318</span></a>\n</pre>\n"
     },
     "metadata": {},
     "output_type": "display_data"
    },
    {
     "name": "stdout",
     "output_type": "stream",
     "text": [
      "time:  71.77674240013584\n",
      "sampling_grid_radii: \n",
      "{'results': [{'label': 'Vanilla GCN', 'epsilon': 0.25, 'accuracy': 0.730434775352478}]}\n",
      "Deleted file: cache\\evasion_global_adj.json\n",
      "Deleted file: cache\\evasion_global_attr.json\n",
      "Deleted directory: cache\\evasion_global_adj\n",
      "Deleted directory: cache\\evasion_global_attr\n"
     ]
    },
    {
     "data": {
      "text/plain": "\u001B[2;36m                   \u001B[0m\u001B[2;36m \u001B[0m\u001B[34mINFO    \u001B[0m \u001B[1m{\u001B[0m\u001B[32m'dataset'\u001B[0m: \u001B[32m'cora_ml'\u001B[0m, \u001B[32m'attack'\u001B[0m: \u001B[32m'PRBCD'\u001B[0m, \u001B[32m'attack_params'\u001B[0m: \u001B[1m{\u001B[0m\u001B[32m'epochs'\u001B[0m: \u001B[1;36m50\u001B[0m, \u001B]8;id=244616;file://C:\\Users\\kyawk\\Desktop\\robustness_of_gnns_at_scale-main\\experiments\\common.py\u001B\\\u001B[2mcommon.py\u001B[0m\u001B]8;;\u001B\\\u001B[2m:\u001B[0m\u001B]8;id=120572;file://C:\\Users\\kyawk\\Desktop\\robustness_of_gnns_at_scale-main\\experiments\\common.py#38\u001B\\\u001B[2m38\u001B[0m\u001B]8;;\u001B\\\n\u001B[2;36m                    \u001B[0m         \u001B[32m'fine_tune_epochs'\u001B[0m: \u001B[1;36m25\u001B[0m, \u001B[32m'keep_heuristic'\u001B[0m: \u001B[32m'WeightOnly'\u001B[0m,                   \u001B[2m            \u001B[0m\n\u001B[2;36m                    \u001B[0m         \u001B[32m'search_space_size'\u001B[0m: \u001B[1;36m100000\u001B[0m, \u001B[32m'block_size'\u001B[0m: \u001B[1;36m2000\u001B[0m, \u001B[32m'do_synchronize'\u001B[0m: \u001B[3;92mTrue\u001B[0m,  \u001B[2m            \u001B[0m\n\u001B[2;36m                    \u001B[0m         \u001B[32m'loss_type'\u001B[0m: \u001B[32m'tanhMargin'\u001B[0m\u001B[1m}\u001B[0m, \u001B[32m'epsilons'\u001B[0m: \u001B[1m[\u001B[0m\u001B[1;36m0.25\u001B[0m\u001B[1m]\u001B[0m, \u001B[32m'make_undirected'\u001B[0m: \u001B[3;92mTrue\u001B[0m,  \u001B[2m            \u001B[0m\n\u001B[2;36m                    \u001B[0m         \u001B[32m'binary_attr'\u001B[0m: \u001B[3;91mFalse\u001B[0m, \u001B[32m'seed'\u001B[0m: \u001B[1;36m0\u001B[0m, \u001B[32m'artifact_dir'\u001B[0m: \u001B[32m'cache'\u001B[0m,                 \u001B[2m            \u001B[0m\n\u001B[2;36m                    \u001B[0m         \u001B[32m'pert_adj_storage_type'\u001B[0m: \u001B[32m'evasion_global_adj'\u001B[0m, \u001B[32m'pert_attr_storage_type'\u001B[0m:  \u001B[2m            \u001B[0m\n\u001B[2;36m                    \u001B[0m         \u001B[32m'evasion_global_attr'\u001B[0m, \u001B[32m'model_label'\u001B[0m: \u001B[32m'Vanilla GCN'\u001B[0m,                      \u001B[2m            \u001B[0m\n\u001B[2;36m                    \u001B[0m         \u001B[32m'model_storage_type'\u001B[0m: \u001B[32m'demo'\u001B[0m, \u001B[32m'device'\u001B[0m: \u001B[32m'cpu'\u001B[0m, \u001B[32m'data_device'\u001B[0m: \u001B[32m'cpu'\u001B[0m\u001B[1m}\u001B[0m      \u001B[2m            \u001B[0m\n",
      "text/html": "<pre style=\"white-space:pre;overflow-x:auto;line-height:normal;font-family:Menlo,'DejaVu Sans Mono',consolas,'Courier New',monospace\"><span style=\"color: #7fbfbf; text-decoration-color: #7fbfbf\">                    </span><span style=\"color: #000080; text-decoration-color: #000080\">INFO    </span> <span style=\"font-weight: bold\">{</span><span style=\"color: #008000; text-decoration-color: #008000\">'dataset'</span>: <span style=\"color: #008000; text-decoration-color: #008000\">'cora_ml'</span>, <span style=\"color: #008000; text-decoration-color: #008000\">'attack'</span>: <span style=\"color: #008000; text-decoration-color: #008000\">'PRBCD'</span>, <span style=\"color: #008000; text-decoration-color: #008000\">'attack_params'</span>: <span style=\"font-weight: bold\">{</span><span style=\"color: #008000; text-decoration-color: #008000\">'epochs'</span>: <span style=\"color: #008080; text-decoration-color: #008080; font-weight: bold\">50</span>, <a href=\"file://C:\\Users\\kyawk\\Desktop\\robustness_of_gnns_at_scale-main\\experiments\\common.py\" target=\"_blank\"><span style=\"color: #7f7f7f; text-decoration-color: #7f7f7f\">common.py</span></a><span style=\"color: #7f7f7f; text-decoration-color: #7f7f7f\">:</span><a href=\"file://C:\\Users\\kyawk\\Desktop\\robustness_of_gnns_at_scale-main\\experiments\\common.py#38\" target=\"_blank\"><span style=\"color: #7f7f7f; text-decoration-color: #7f7f7f\">38</span></a>\n<span style=\"color: #7fbfbf; text-decoration-color: #7fbfbf\">                    </span>         <span style=\"color: #008000; text-decoration-color: #008000\">'fine_tune_epochs'</span>: <span style=\"color: #008080; text-decoration-color: #008080; font-weight: bold\">25</span>, <span style=\"color: #008000; text-decoration-color: #008000\">'keep_heuristic'</span>: <span style=\"color: #008000; text-decoration-color: #008000\">'WeightOnly'</span>,                   <span style=\"color: #7f7f7f; text-decoration-color: #7f7f7f\">            </span>\n<span style=\"color: #7fbfbf; text-decoration-color: #7fbfbf\">                    </span>         <span style=\"color: #008000; text-decoration-color: #008000\">'search_space_size'</span>: <span style=\"color: #008080; text-decoration-color: #008080; font-weight: bold\">100000</span>, <span style=\"color: #008000; text-decoration-color: #008000\">'block_size'</span>: <span style=\"color: #008080; text-decoration-color: #008080; font-weight: bold\">2000</span>, <span style=\"color: #008000; text-decoration-color: #008000\">'do_synchronize'</span>: <span style=\"color: #00ff00; text-decoration-color: #00ff00; font-style: italic\">True</span>,  <span style=\"color: #7f7f7f; text-decoration-color: #7f7f7f\">            </span>\n<span style=\"color: #7fbfbf; text-decoration-color: #7fbfbf\">                    </span>         <span style=\"color: #008000; text-decoration-color: #008000\">'loss_type'</span>: <span style=\"color: #008000; text-decoration-color: #008000\">'tanhMargin'</span><span style=\"font-weight: bold\">}</span>, <span style=\"color: #008000; text-decoration-color: #008000\">'epsilons'</span>: <span style=\"font-weight: bold\">[</span><span style=\"color: #008080; text-decoration-color: #008080; font-weight: bold\">0.25</span><span style=\"font-weight: bold\">]</span>, <span style=\"color: #008000; text-decoration-color: #008000\">'make_undirected'</span>: <span style=\"color: #00ff00; text-decoration-color: #00ff00; font-style: italic\">True</span>,  <span style=\"color: #7f7f7f; text-decoration-color: #7f7f7f\">            </span>\n<span style=\"color: #7fbfbf; text-decoration-color: #7fbfbf\">                    </span>         <span style=\"color: #008000; text-decoration-color: #008000\">'binary_attr'</span>: <span style=\"color: #ff0000; text-decoration-color: #ff0000; font-style: italic\">False</span>, <span style=\"color: #008000; text-decoration-color: #008000\">'seed'</span>: <span style=\"color: #008080; text-decoration-color: #008080; font-weight: bold\">0</span>, <span style=\"color: #008000; text-decoration-color: #008000\">'artifact_dir'</span>: <span style=\"color: #008000; text-decoration-color: #008000\">'cache'</span>,                 <span style=\"color: #7f7f7f; text-decoration-color: #7f7f7f\">            </span>\n<span style=\"color: #7fbfbf; text-decoration-color: #7fbfbf\">                    </span>         <span style=\"color: #008000; text-decoration-color: #008000\">'pert_adj_storage_type'</span>: <span style=\"color: #008000; text-decoration-color: #008000\">'evasion_global_adj'</span>, <span style=\"color: #008000; text-decoration-color: #008000\">'pert_attr_storage_type'</span>:  <span style=\"color: #7f7f7f; text-decoration-color: #7f7f7f\">            </span>\n<span style=\"color: #7fbfbf; text-decoration-color: #7fbfbf\">                    </span>         <span style=\"color: #008000; text-decoration-color: #008000\">'evasion_global_attr'</span>, <span style=\"color: #008000; text-decoration-color: #008000\">'model_label'</span>: <span style=\"color: #008000; text-decoration-color: #008000\">'Vanilla GCN'</span>,                      <span style=\"color: #7f7f7f; text-decoration-color: #7f7f7f\">            </span>\n<span style=\"color: #7fbfbf; text-decoration-color: #7fbfbf\">                    </span>         <span style=\"color: #008000; text-decoration-color: #008000\">'model_storage_type'</span>: <span style=\"color: #008000; text-decoration-color: #008000\">'demo'</span>, <span style=\"color: #008000; text-decoration-color: #008000\">'device'</span>: <span style=\"color: #008000; text-decoration-color: #008000\">'cpu'</span>, <span style=\"color: #008000; text-decoration-color: #008000\">'data_device'</span>: <span style=\"color: #008000; text-decoration-color: #008000\">'cpu'</span><span style=\"font-weight: bold\">}</span>      <span style=\"color: #7f7f7f; text-decoration-color: #7f7f7f\">            </span>\n</pre>\n"
     },
     "metadata": {},
     "output_type": "display_data"
    },
    {
     "data": {
      "text/plain": "\u001B[2;36m                   \u001B[0m\u001B[2;36m \u001B[0m\u001B[34mINFO    \u001B[0m Lock \u001B[1;36m2826160618384\u001B[0m acquired on cache\\demo.json.lock                    \u001B]8;id=588649;file://C:\\Users\\kyawk\\anaconda3\\envs\\Masterarbeit_2_0\\Lib\\site-packages\\filelock.py\u001B\\\u001B[2mfilelock.py\u001B[0m\u001B]8;;\u001B\\\u001B[2m:\u001B[0m\u001B]8;id=237578;file://C:\\Users\\kyawk\\anaconda3\\envs\\Masterarbeit_2_0\\Lib\\site-packages\\filelock.py#274\u001B\\\u001B[2m274\u001B[0m\u001B]8;;\u001B\\\n",
      "text/html": "<pre style=\"white-space:pre;overflow-x:auto;line-height:normal;font-family:Menlo,'DejaVu Sans Mono',consolas,'Courier New',monospace\"><span style=\"color: #7fbfbf; text-decoration-color: #7fbfbf\">                    </span><span style=\"color: #000080; text-decoration-color: #000080\">INFO    </span> Lock <span style=\"color: #008080; text-decoration-color: #008080; font-weight: bold\">2826160618384</span> acquired on cache\\demo.json.lock                    <a href=\"file://C:\\Users\\kyawk\\anaconda3\\envs\\Masterarbeit_2_0\\Lib\\site-packages\\filelock.py\" target=\"_blank\"><span style=\"color: #7f7f7f; text-decoration-color: #7f7f7f\">filelock.py</span></a><span style=\"color: #7f7f7f; text-decoration-color: #7f7f7f\">:</span><a href=\"file://C:\\Users\\kyawk\\anaconda3\\envs\\Masterarbeit_2_0\\Lib\\site-packages\\filelock.py#274\" target=\"_blank\"><span style=\"color: #7f7f7f; text-decoration-color: #7f7f7f\">274</span></a>\n</pre>\n"
     },
     "metadata": {},
     "output_type": "display_data"
    },
    {
     "data": {
      "text/plain": "\u001B[2;36m                   \u001B[0m\u001B[2;36m \u001B[0m\u001B[34mINFO    \u001B[0m Lock \u001B[1;36m2826160618384\u001B[0m released on cache\\demo.json.lock                    \u001B]8;id=961927;file://C:\\Users\\kyawk\\anaconda3\\envs\\Masterarbeit_2_0\\Lib\\site-packages\\filelock.py\u001B\\\u001B[2mfilelock.py\u001B[0m\u001B]8;;\u001B\\\u001B[2m:\u001B[0m\u001B]8;id=811599;file://C:\\Users\\kyawk\\anaconda3\\envs\\Masterarbeit_2_0\\Lib\\site-packages\\filelock.py#318\u001B\\\u001B[2m318\u001B[0m\u001B]8;;\u001B\\\n",
      "text/html": "<pre style=\"white-space:pre;overflow-x:auto;line-height:normal;font-family:Menlo,'DejaVu Sans Mono',consolas,'Courier New',monospace\"><span style=\"color: #7fbfbf; text-decoration-color: #7fbfbf\">                    </span><span style=\"color: #000080; text-decoration-color: #000080\">INFO    </span> Lock <span style=\"color: #008080; text-decoration-color: #008080; font-weight: bold\">2826160618384</span> released on cache\\demo.json.lock                    <a href=\"file://C:\\Users\\kyawk\\anaconda3\\envs\\Masterarbeit_2_0\\Lib\\site-packages\\filelock.py\" target=\"_blank\"><span style=\"color: #7f7f7f; text-decoration-color: #7f7f7f\">filelock.py</span></a><span style=\"color: #7f7f7f; text-decoration-color: #7f7f7f\">:</span><a href=\"file://C:\\Users\\kyawk\\anaconda3\\envs\\Masterarbeit_2_0\\Lib\\site-packages\\filelock.py#318\" target=\"_blank\"><span style=\"color: #7f7f7f; text-decoration-color: #7f7f7f\">318</span></a>\n</pre>\n"
     },
     "metadata": {},
     "output_type": "display_data"
    },
    {
     "data": {
      "text/plain": "\u001B[2;36m                   \u001B[0m\u001B[2;36m \u001B[0m\u001B[34mINFO    \u001B[0m Evaluate  PRBCD for model \u001B[32m'Vanilla GCN'\u001B[0m.        \u001B]8;id=129078;file://C:\\Users\\kyawk\\Desktop\\robustness_of_gnns_at_scale-main\\experiments\\experiment_global_attack_direct.py\u001B\\\u001B[2mexperiment_global_attack_direct.py\u001B[0m\u001B]8;;\u001B\\\u001B[2m:\u001B[0m\u001B]8;id=205390;file://C:\\Users\\kyawk\\Desktop\\robustness_of_gnns_at_scale-main\\experiments\\experiment_global_attack_direct.py#139\u001B\\\u001B[2m139\u001B[0m\u001B]8;;\u001B\\\n",
      "text/html": "<pre style=\"white-space:pre;overflow-x:auto;line-height:normal;font-family:Menlo,'DejaVu Sans Mono',consolas,'Courier New',monospace\"><span style=\"color: #7fbfbf; text-decoration-color: #7fbfbf\">                    </span><span style=\"color: #000080; text-decoration-color: #000080\">INFO    </span> Evaluate  PRBCD for model <span style=\"color: #008000; text-decoration-color: #008000\">'Vanilla GCN'</span>.        <a href=\"file://C:\\Users\\kyawk\\Desktop\\robustness_of_gnns_at_scale-main\\experiments\\experiment_global_attack_direct.py\" target=\"_blank\"><span style=\"color: #7f7f7f; text-decoration-color: #7f7f7f\">experiment_global_attack_direct.py</span></a><span style=\"color: #7f7f7f; text-decoration-color: #7f7f7f\">:</span><a href=\"file://C:\\Users\\kyawk\\Desktop\\robustness_of_gnns_at_scale-main\\experiments\\experiment_global_attack_direct.py#139\" target=\"_blank\"><span style=\"color: #7f7f7f; text-decoration-color: #7f7f7f\">139</span></a>\n</pre>\n"
     },
     "metadata": {},
     "output_type": "display_data"
    },
    {
     "data": {
      "text/plain": "\u001B[2;36m                   \u001B[0m\u001B[2;36m \u001B[0m\u001B[34mINFO    \u001B[0m Lock \u001B[1;36m2825952928720\u001B[0m acquired on cache\\evasion_global_adj.json.lock      \u001B]8;id=54784;file://C:\\Users\\kyawk\\anaconda3\\envs\\Masterarbeit_2_0\\Lib\\site-packages\\filelock.py\u001B\\\u001B[2mfilelock.py\u001B[0m\u001B]8;;\u001B\\\u001B[2m:\u001B[0m\u001B]8;id=553902;file://C:\\Users\\kyawk\\anaconda3\\envs\\Masterarbeit_2_0\\Lib\\site-packages\\filelock.py#274\u001B\\\u001B[2m274\u001B[0m\u001B]8;;\u001B\\\n",
      "text/html": "<pre style=\"white-space:pre;overflow-x:auto;line-height:normal;font-family:Menlo,'DejaVu Sans Mono',consolas,'Courier New',monospace\"><span style=\"color: #7fbfbf; text-decoration-color: #7fbfbf\">                    </span><span style=\"color: #000080; text-decoration-color: #000080\">INFO    </span> Lock <span style=\"color: #008080; text-decoration-color: #008080; font-weight: bold\">2825952928720</span> acquired on cache\\evasion_global_adj.json.lock      <a href=\"file://C:\\Users\\kyawk\\anaconda3\\envs\\Masterarbeit_2_0\\Lib\\site-packages\\filelock.py\" target=\"_blank\"><span style=\"color: #7f7f7f; text-decoration-color: #7f7f7f\">filelock.py</span></a><span style=\"color: #7f7f7f; text-decoration-color: #7f7f7f\">:</span><a href=\"file://C:\\Users\\kyawk\\anaconda3\\envs\\Masterarbeit_2_0\\Lib\\site-packages\\filelock.py#274\" target=\"_blank\"><span style=\"color: #7f7f7f; text-decoration-color: #7f7f7f\">274</span></a>\n</pre>\n"
     },
     "metadata": {},
     "output_type": "display_data"
    },
    {
     "data": {
      "text/plain": "\u001B[2;36m                   \u001B[0m\u001B[2;36m \u001B[0m\u001B[34mINFO    \u001B[0m Lock \u001B[1;36m2825952928720\u001B[0m released on cache\\evasion_global_adj.json.lock      \u001B]8;id=632344;file://C:\\Users\\kyawk\\anaconda3\\envs\\Masterarbeit_2_0\\Lib\\site-packages\\filelock.py\u001B\\\u001B[2mfilelock.py\u001B[0m\u001B]8;;\u001B\\\u001B[2m:\u001B[0m\u001B]8;id=366621;file://C:\\Users\\kyawk\\anaconda3\\envs\\Masterarbeit_2_0\\Lib\\site-packages\\filelock.py#318\u001B\\\u001B[2m318\u001B[0m\u001B]8;;\u001B\\\n",
      "text/html": "<pre style=\"white-space:pre;overflow-x:auto;line-height:normal;font-family:Menlo,'DejaVu Sans Mono',consolas,'Courier New',monospace\"><span style=\"color: #7fbfbf; text-decoration-color: #7fbfbf\">                    </span><span style=\"color: #000080; text-decoration-color: #000080\">INFO    </span> Lock <span style=\"color: #008080; text-decoration-color: #008080; font-weight: bold\">2825952928720</span> released on cache\\evasion_global_adj.json.lock      <a href=\"file://C:\\Users\\kyawk\\anaconda3\\envs\\Masterarbeit_2_0\\Lib\\site-packages\\filelock.py\" target=\"_blank\"><span style=\"color: #7f7f7f; text-decoration-color: #7f7f7f\">filelock.py</span></a><span style=\"color: #7f7f7f; text-decoration-color: #7f7f7f\">:</span><a href=\"file://C:\\Users\\kyawk\\anaconda3\\envs\\Masterarbeit_2_0\\Lib\\site-packages\\filelock.py#318\" target=\"_blank\"><span style=\"color: #7f7f7f; text-decoration-color: #7f7f7f\">318</span></a>\n</pre>\n"
     },
     "metadata": {},
     "output_type": "display_data"
    },
    {
     "data": {
      "text/plain": "\u001B[2;36m                   \u001B[0m\u001B[2;36m \u001B[0m\u001B[34mINFO    \u001B[0m Lock \u001B[1;36m2826160727184\u001B[0m acquired on cache\\evasion_global_attr.json.lock     \u001B]8;id=692230;file://C:\\Users\\kyawk\\anaconda3\\envs\\Masterarbeit_2_0\\Lib\\site-packages\\filelock.py\u001B\\\u001B[2mfilelock.py\u001B[0m\u001B]8;;\u001B\\\u001B[2m:\u001B[0m\u001B]8;id=639071;file://C:\\Users\\kyawk\\anaconda3\\envs\\Masterarbeit_2_0\\Lib\\site-packages\\filelock.py#274\u001B\\\u001B[2m274\u001B[0m\u001B]8;;\u001B\\\n",
      "text/html": "<pre style=\"white-space:pre;overflow-x:auto;line-height:normal;font-family:Menlo,'DejaVu Sans Mono',consolas,'Courier New',monospace\"><span style=\"color: #7fbfbf; text-decoration-color: #7fbfbf\">                    </span><span style=\"color: #000080; text-decoration-color: #000080\">INFO    </span> Lock <span style=\"color: #008080; text-decoration-color: #008080; font-weight: bold\">2826160727184</span> acquired on cache\\evasion_global_attr.json.lock     <a href=\"file://C:\\Users\\kyawk\\anaconda3\\envs\\Masterarbeit_2_0\\Lib\\site-packages\\filelock.py\" target=\"_blank\"><span style=\"color: #7f7f7f; text-decoration-color: #7f7f7f\">filelock.py</span></a><span style=\"color: #7f7f7f; text-decoration-color: #7f7f7f\">:</span><a href=\"file://C:\\Users\\kyawk\\anaconda3\\envs\\Masterarbeit_2_0\\Lib\\site-packages\\filelock.py#274\" target=\"_blank\"><span style=\"color: #7f7f7f; text-decoration-color: #7f7f7f\">274</span></a>\n</pre>\n"
     },
     "metadata": {},
     "output_type": "display_data"
    },
    {
     "data": {
      "text/plain": "\u001B[2;36m                   \u001B[0m\u001B[2;36m \u001B[0m\u001B[34mINFO    \u001B[0m Lock \u001B[1;36m2826160727184\u001B[0m released on cache\\evasion_global_attr.json.lock     \u001B]8;id=683537;file://C:\\Users\\kyawk\\anaconda3\\envs\\Masterarbeit_2_0\\Lib\\site-packages\\filelock.py\u001B\\\u001B[2mfilelock.py\u001B[0m\u001B]8;;\u001B\\\u001B[2m:\u001B[0m\u001B]8;id=181378;file://C:\\Users\\kyawk\\anaconda3\\envs\\Masterarbeit_2_0\\Lib\\site-packages\\filelock.py#318\u001B\\\u001B[2m318\u001B[0m\u001B]8;;\u001B\\\n",
      "text/html": "<pre style=\"white-space:pre;overflow-x:auto;line-height:normal;font-family:Menlo,'DejaVu Sans Mono',consolas,'Courier New',monospace\"><span style=\"color: #7fbfbf; text-decoration-color: #7fbfbf\">                    </span><span style=\"color: #000080; text-decoration-color: #000080\">INFO    </span> Lock <span style=\"color: #008080; text-decoration-color: #008080; font-weight: bold\">2826160727184</span> released on cache\\evasion_global_attr.json.lock     <a href=\"file://C:\\Users\\kyawk\\anaconda3\\envs\\Masterarbeit_2_0\\Lib\\site-packages\\filelock.py\" target=\"_blank\"><span style=\"color: #7f7f7f; text-decoration-color: #7f7f7f\">filelock.py</span></a><span style=\"color: #7f7f7f; text-decoration-color: #7f7f7f\">:</span><a href=\"file://C:\\Users\\kyawk\\anaconda3\\envs\\Masterarbeit_2_0\\Lib\\site-packages\\filelock.py#318\" target=\"_blank\"><span style=\"color: #7f7f7f; text-decoration-color: #7f7f7f\">318</span></a>\n</pre>\n"
     },
     "metadata": {},
     "output_type": "display_data"
    },
    {
     "data": {
      "text/plain": "\u001B[2;36m                   \u001B[0m\u001B[2;36m \u001B[0m\u001B[34mINFO    \u001B[0m No cached perturbations found for model \u001B[32m'Vanilla GCN'\u001B[0m and eps \u001B[1;36m0.25\u001B[0m.      \u001B]8;id=663157;file://C:\\Users\\kyawk\\Desktop\\robustness_of_gnns_at_scale-main\\experiments\\common.py\u001B\\\u001B[2mcommon.py\u001B[0m\u001B]8;;\u001B\\\u001B[2m:\u001B[0m\u001B]8;id=101513;file://C:\\Users\\kyawk\\Desktop\\robustness_of_gnns_at_scale-main\\experiments\\common.py#109\u001B\\\u001B[2m109\u001B[0m\u001B]8;;\u001B\\\n\u001B[2;36m                    \u001B[0m         Execute attack\u001B[33m...\u001B[0m                                                        \u001B[2m             \u001B[0m\n",
      "text/html": "<pre style=\"white-space:pre;overflow-x:auto;line-height:normal;font-family:Menlo,'DejaVu Sans Mono',consolas,'Courier New',monospace\"><span style=\"color: #7fbfbf; text-decoration-color: #7fbfbf\">                    </span><span style=\"color: #000080; text-decoration-color: #000080\">INFO    </span> No cached perturbations found for model <span style=\"color: #008000; text-decoration-color: #008000\">'Vanilla GCN'</span> and eps <span style=\"color: #008080; text-decoration-color: #008080; font-weight: bold\">0.25</span>.      <a href=\"file://C:\\Users\\kyawk\\Desktop\\robustness_of_gnns_at_scale-main\\experiments\\common.py\" target=\"_blank\"><span style=\"color: #7f7f7f; text-decoration-color: #7f7f7f\">common.py</span></a><span style=\"color: #7f7f7f; text-decoration-color: #7f7f7f\">:</span><a href=\"file://C:\\Users\\kyawk\\Desktop\\robustness_of_gnns_at_scale-main\\experiments\\common.py#109\" target=\"_blank\"><span style=\"color: #7f7f7f; text-decoration-color: #7f7f7f\">109</span></a>\n<span style=\"color: #7fbfbf; text-decoration-color: #7fbfbf\">                    </span>         Execute attack<span style=\"color: #808000; text-decoration-color: #808000\">...</span>                                                        <span style=\"color: #7f7f7f; text-decoration-color: #7f7f7f\">             </span>\n</pre>\n"
     },
     "metadata": {},
     "output_type": "display_data"
    },
    {
     "name": "stdout",
     "output_type": "stream",
     "text": [
      "sampling_grid_binary_class run sampling_grid_binary_class\n"
     ]
    },
    {
     "data": {
      "text/plain": "\u001B[2;36m[04/28/25 01:51:18]\u001B[0m\u001B[2;36m \u001B[0m\u001B[34mINFO    \u001B[0m                                                                           \u001B]8;id=53402;file://C:\\Users\\kyawk\\Desktop\\robustness_of_gnns_at_scale-main\\rgnn_at_scale\\attacks\\prbcd.py\u001B\\\u001B[2mprbcd.py\u001B[0m\u001B]8;;\u001B\\\u001B[2m:\u001B[0m\u001B]8;id=430604;file://C:\\Users\\kyawk\\Desktop\\robustness_of_gnns_at_scale-main\\rgnn_at_scale\\attacks\\prbcd.py#102\u001B\\\u001B[2m102\u001B[0m\u001B]8;;\u001B\\\n\u001B[2;36m                    \u001B[0m         Before the attack - Loss: \u001B[1;36m-0.6509091258049011\u001B[0m Accuracy: \u001B[1;36m83.478\u001B[0m %          \u001B[2m            \u001B[0m\n\u001B[2;36m                    \u001B[0m                                                                                   \u001B[2m            \u001B[0m\n",
      "text/html": "<pre style=\"white-space:pre;overflow-x:auto;line-height:normal;font-family:Menlo,'DejaVu Sans Mono',consolas,'Courier New',monospace\"><span style=\"color: #7fbfbf; text-decoration-color: #7fbfbf\">[04/28/25 01:51:18] </span><span style=\"color: #000080; text-decoration-color: #000080\">INFO    </span>                                                                           <a href=\"file://C:\\Users\\kyawk\\Desktop\\robustness_of_gnns_at_scale-main\\rgnn_at_scale\\attacks\\prbcd.py\" target=\"_blank\"><span style=\"color: #7f7f7f; text-decoration-color: #7f7f7f\">prbcd.py</span></a><span style=\"color: #7f7f7f; text-decoration-color: #7f7f7f\">:</span><a href=\"file://C:\\Users\\kyawk\\Desktop\\robustness_of_gnns_at_scale-main\\rgnn_at_scale\\attacks\\prbcd.py#102\" target=\"_blank\"><span style=\"color: #7f7f7f; text-decoration-color: #7f7f7f\">102</span></a>\n<span style=\"color: #7fbfbf; text-decoration-color: #7fbfbf\">                    </span>         Before the attack - Loss: <span style=\"color: #008080; text-decoration-color: #008080; font-weight: bold\">-0.6509091258049011</span> Accuracy: <span style=\"color: #008080; text-decoration-color: #008080; font-weight: bold\">83.478</span> %          <span style=\"color: #7f7f7f; text-decoration-color: #7f7f7f\">            </span>\n<span style=\"color: #7fbfbf; text-decoration-color: #7fbfbf\">                    </span>                                                                                   <span style=\"color: #7f7f7f; text-decoration-color: #7f7f7f\">            </span>\n</pre>\n"
     },
     "metadata": {},
     "output_type": "display_data"
    },
    {
     "name": "stderr",
     "output_type": "stream",
     "text": [
      "  0%|          | 0/50 [00:00<?, ?it/s]"
     ]
    },
    {
     "data": {
      "text/plain": "\u001B[2;36m[04/28/25 01:51:19]\u001B[0m\u001B[2;36m \u001B[0m\u001B[34mINFO    \u001B[0m                                                                           \u001B]8;id=596834;file://C:\\Users\\kyawk\\Desktop\\robustness_of_gnns_at_scale-main\\rgnn_at_scale\\attacks\\prbcd.py\u001B\\\u001B[2mprbcd.py\u001B[0m\u001B]8;;\u001B\\\u001B[2m:\u001B[0m\u001B]8;id=461540;file://C:\\Users\\kyawk\\Desktop\\robustness_of_gnns_at_scale-main\\rgnn_at_scale\\attacks\\prbcd.py#148\u001B\\\u001B[2m148\u001B[0m\u001B]8;;\u001B\\\n\u001B[2;36m                    \u001B[0m         Epoch: \u001B[1;36m0\u001B[0m Loss: \u001B[1;36m-0.6509144306182861\u001B[0m Accuracy: \u001B[1;36m83.123\u001B[0m %                     \u001B[2m            \u001B[0m\n\u001B[2;36m                    \u001B[0m                                                                                   \u001B[2m            \u001B[0m\n",
      "text/html": "<pre style=\"white-space:pre;overflow-x:auto;line-height:normal;font-family:Menlo,'DejaVu Sans Mono',consolas,'Courier New',monospace\"><span style=\"color: #7fbfbf; text-decoration-color: #7fbfbf\">[04/28/25 01:51:19] </span><span style=\"color: #000080; text-decoration-color: #000080\">INFO    </span>                                                                           <a href=\"file://C:\\Users\\kyawk\\Desktop\\robustness_of_gnns_at_scale-main\\rgnn_at_scale\\attacks\\prbcd.py\" target=\"_blank\"><span style=\"color: #7f7f7f; text-decoration-color: #7f7f7f\">prbcd.py</span></a><span style=\"color: #7f7f7f; text-decoration-color: #7f7f7f\">:</span><a href=\"file://C:\\Users\\kyawk\\Desktop\\robustness_of_gnns_at_scale-main\\rgnn_at_scale\\attacks\\prbcd.py#148\" target=\"_blank\"><span style=\"color: #7f7f7f; text-decoration-color: #7f7f7f\">148</span></a>\n<span style=\"color: #7fbfbf; text-decoration-color: #7fbfbf\">                    </span>         Epoch: <span style=\"color: #008080; text-decoration-color: #008080; font-weight: bold\">0</span> Loss: <span style=\"color: #008080; text-decoration-color: #008080; font-weight: bold\">-0.6509144306182861</span> Accuracy: <span style=\"color: #008080; text-decoration-color: #008080; font-weight: bold\">83.123</span> %                     <span style=\"color: #7f7f7f; text-decoration-color: #7f7f7f\">            </span>\n<span style=\"color: #7fbfbf; text-decoration-color: #7fbfbf\">                    </span>                                                                                   <span style=\"color: #7f7f7f; text-decoration-color: #7f7f7f\">            </span>\n</pre>\n"
     },
     "metadata": {},
     "output_type": "display_data"
    },
    {
     "name": "stderr",
     "output_type": "stream",
     "text": [
      "  2%|▏         | 1/50 [00:01<01:08,  1.40s/it]"
     ]
    },
    {
     "name": "stdout",
     "output_type": "stream",
     "text": [
      "sampling_grid_binary_class run resampling with no certificate\n"
     ]
    },
    {
     "name": "stderr",
     "output_type": "stream",
     "text": [
      "  4%|▍         | 2/50 [00:02<01:03,  1.32s/it]"
     ]
    },
    {
     "name": "stdout",
     "output_type": "stream",
     "text": [
      "sampling_grid_binary_class run resampling with no certificate\n"
     ]
    },
    {
     "name": "stderr",
     "output_type": "stream",
     "text": [
      "  6%|▌         | 3/50 [00:03<01:01,  1.32s/it]"
     ]
    },
    {
     "name": "stdout",
     "output_type": "stream",
     "text": [
      "sampling_grid_binary_class run resampling with no certificate\n"
     ]
    },
    {
     "name": "stderr",
     "output_type": "stream",
     "text": [
      "  8%|▊         | 4/50 [00:04<00:57,  1.26s/it]"
     ]
    },
    {
     "name": "stdout",
     "output_type": "stream",
     "text": [
      "sampling_grid_binary_class run resampling with no certificate\n"
     ]
    },
    {
     "name": "stderr",
     "output_type": "stream",
     "text": [
      " 10%|█         | 5/50 [00:06<00:54,  1.22s/it]"
     ]
    },
    {
     "name": "stdout",
     "output_type": "stream",
     "text": [
      "sampling_grid_binary_class run resampling with no certificate\n"
     ]
    },
    {
     "name": "stderr",
     "output_type": "stream",
     "text": [
      " 12%|█▏        | 6/50 [00:07<00:53,  1.23s/it]"
     ]
    },
    {
     "name": "stdout",
     "output_type": "stream",
     "text": [
      "sampling_grid_binary_class run resampling with no certificate\n"
     ]
    },
    {
     "name": "stderr",
     "output_type": "stream",
     "text": [
      " 14%|█▍        | 7/50 [00:08<00:51,  1.20s/it]"
     ]
    },
    {
     "name": "stdout",
     "output_type": "stream",
     "text": [
      "sampling_grid_binary_class run resampling with no certificate\n"
     ]
    },
    {
     "name": "stderr",
     "output_type": "stream",
     "text": [
      " 16%|█▌        | 8/50 [00:09<00:50,  1.19s/it]"
     ]
    },
    {
     "name": "stdout",
     "output_type": "stream",
     "text": [
      "sampling_grid_binary_class run resampling with no certificate\n"
     ]
    },
    {
     "name": "stderr",
     "output_type": "stream",
     "text": [
      " 18%|█▊        | 9/50 [00:11<00:51,  1.24s/it]"
     ]
    },
    {
     "name": "stdout",
     "output_type": "stream",
     "text": [
      "sampling_grid_binary_class run resampling with no certificate\n"
     ]
    },
    {
     "name": "stderr",
     "output_type": "stream",
     "text": [
      " 20%|██        | 10/50 [00:12<00:51,  1.30s/it]"
     ]
    },
    {
     "name": "stdout",
     "output_type": "stream",
     "text": [
      "sampling_grid_binary_class run resampling with no certificate\n"
     ]
    },
    {
     "name": "stderr",
     "output_type": "stream",
     "text": [
      " 22%|██▏       | 11/50 [00:13<00:49,  1.27s/it]"
     ]
    },
    {
     "name": "stdout",
     "output_type": "stream",
     "text": [
      "sampling_grid_binary_class run resampling with no certificate\n"
     ]
    },
    {
     "name": "stderr",
     "output_type": "stream",
     "text": [
      " 24%|██▍       | 12/50 [00:14<00:46,  1.23s/it]"
     ]
    },
    {
     "name": "stdout",
     "output_type": "stream",
     "text": [
      "sampling_grid_binary_class run resampling with no certificate\n"
     ]
    },
    {
     "name": "stderr",
     "output_type": "stream",
     "text": [
      " 26%|██▌       | 13/50 [00:15<00:44,  1.20s/it]"
     ]
    },
    {
     "name": "stdout",
     "output_type": "stream",
     "text": [
      "sampling_grid_binary_class run resampling with no certificate\n"
     ]
    },
    {
     "name": "stderr",
     "output_type": "stream",
     "text": [
      " 28%|██▊       | 14/50 [00:17<00:41,  1.17s/it]"
     ]
    },
    {
     "name": "stdout",
     "output_type": "stream",
     "text": [
      "sampling_grid_binary_class run resampling with no certificate\n"
     ]
    },
    {
     "name": "stderr",
     "output_type": "stream",
     "text": [
      " 30%|███       | 15/50 [00:18<00:39,  1.14s/it]"
     ]
    },
    {
     "name": "stdout",
     "output_type": "stream",
     "text": [
      "sampling_grid_binary_class run resampling with no certificate\n"
     ]
    },
    {
     "name": "stderr",
     "output_type": "stream",
     "text": [
      " 32%|███▏      | 16/50 [00:19<00:40,  1.18s/it]"
     ]
    },
    {
     "name": "stdout",
     "output_type": "stream",
     "text": [
      "sampling_grid_binary_class run resampling with no certificate\n"
     ]
    },
    {
     "name": "stderr",
     "output_type": "stream",
     "text": [
      " 34%|███▍      | 17/50 [00:20<00:37,  1.15s/it]"
     ]
    },
    {
     "name": "stdout",
     "output_type": "stream",
     "text": [
      "sampling_grid_binary_class run resampling with no certificate\n"
     ]
    },
    {
     "name": "stderr",
     "output_type": "stream",
     "text": [
      " 36%|███▌      | 18/50 [00:21<00:36,  1.13s/it]"
     ]
    },
    {
     "name": "stdout",
     "output_type": "stream",
     "text": [
      "sampling_grid_binary_class run resampling with no certificate\n"
     ]
    },
    {
     "name": "stderr",
     "output_type": "stream",
     "text": [
      " 38%|███▊      | 19/50 [00:22<00:34,  1.12s/it]"
     ]
    },
    {
     "name": "stdout",
     "output_type": "stream",
     "text": [
      "sampling_grid_binary_class run resampling with no certificate\n"
     ]
    },
    {
     "name": "stderr",
     "output_type": "stream",
     "text": [
      " 40%|████      | 20/50 [00:23<00:33,  1.12s/it]"
     ]
    },
    {
     "name": "stdout",
     "output_type": "stream",
     "text": [
      "sampling_grid_binary_class run resampling with no certificate\n"
     ]
    },
    {
     "data": {
      "text/plain": "\u001B[2;36m[04/28/25 01:51:43]\u001B[0m\u001B[2;36m \u001B[0m\u001B[34mINFO    \u001B[0m                                                                           \u001B]8;id=780817;file://C:\\Users\\kyawk\\Desktop\\robustness_of_gnns_at_scale-main\\rgnn_at_scale\\attacks\\prbcd.py\u001B\\\u001B[2mprbcd.py\u001B[0m\u001B]8;;\u001B\\\u001B[2m:\u001B[0m\u001B]8;id=526704;file://C:\\Users\\kyawk\\Desktop\\robustness_of_gnns_at_scale-main\\rgnn_at_scale\\attacks\\prbcd.py#148\u001B\\\u001B[2m148\u001B[0m\u001B]8;;\u001B\\\n\u001B[2;36m                    \u001B[0m         Epoch: \u001B[1;36m20\u001B[0m Loss: \u001B[1;36m-0.5132480263710022\u001B[0m Accuracy: \u001B[1;36m75.178\u001B[0m %                    \u001B[2m            \u001B[0m\n\u001B[2;36m                    \u001B[0m                                                                                   \u001B[2m            \u001B[0m\n",
      "text/html": "<pre style=\"white-space:pre;overflow-x:auto;line-height:normal;font-family:Menlo,'DejaVu Sans Mono',consolas,'Courier New',monospace\"><span style=\"color: #7fbfbf; text-decoration-color: #7fbfbf\">[04/28/25 01:51:43] </span><span style=\"color: #000080; text-decoration-color: #000080\">INFO    </span>                                                                           <a href=\"file://C:\\Users\\kyawk\\Desktop\\robustness_of_gnns_at_scale-main\\rgnn_at_scale\\attacks\\prbcd.py\" target=\"_blank\"><span style=\"color: #7f7f7f; text-decoration-color: #7f7f7f\">prbcd.py</span></a><span style=\"color: #7f7f7f; text-decoration-color: #7f7f7f\">:</span><a href=\"file://C:\\Users\\kyawk\\Desktop\\robustness_of_gnns_at_scale-main\\rgnn_at_scale\\attacks\\prbcd.py#148\" target=\"_blank\"><span style=\"color: #7f7f7f; text-decoration-color: #7f7f7f\">148</span></a>\n<span style=\"color: #7fbfbf; text-decoration-color: #7fbfbf\">                    </span>         Epoch: <span style=\"color: #008080; text-decoration-color: #008080; font-weight: bold\">20</span> Loss: <span style=\"color: #008080; text-decoration-color: #008080; font-weight: bold\">-0.5132480263710022</span> Accuracy: <span style=\"color: #008080; text-decoration-color: #008080; font-weight: bold\">75.178</span> %                    <span style=\"color: #7f7f7f; text-decoration-color: #7f7f7f\">            </span>\n<span style=\"color: #7fbfbf; text-decoration-color: #7fbfbf\">                    </span>                                                                                   <span style=\"color: #7f7f7f; text-decoration-color: #7f7f7f\">            </span>\n</pre>\n"
     },
     "metadata": {},
     "output_type": "display_data"
    },
    {
     "name": "stderr",
     "output_type": "stream",
     "text": [
      " 42%|████▏     | 21/50 [00:24<00:32,  1.13s/it]"
     ]
    },
    {
     "name": "stdout",
     "output_type": "stream",
     "text": [
      "sampling_grid_binary_class run resampling with no certificate\n"
     ]
    },
    {
     "name": "stderr",
     "output_type": "stream",
     "text": [
      " 44%|████▍     | 22/50 [00:26<00:37,  1.32s/it]"
     ]
    },
    {
     "name": "stdout",
     "output_type": "stream",
     "text": [
      "sampling_grid_binary_class run resampling with no certificate\n"
     ]
    },
    {
     "name": "stderr",
     "output_type": "stream",
     "text": [
      " 46%|████▌     | 23/50 [00:28<00:36,  1.35s/it]"
     ]
    },
    {
     "name": "stdout",
     "output_type": "stream",
     "text": [
      "sampling_grid_binary_class run resampling with no certificate\n"
     ]
    },
    {
     "name": "stderr",
     "output_type": "stream",
     "text": [
      " 48%|████▊     | 24/50 [00:29<00:34,  1.33s/it]"
     ]
    },
    {
     "name": "stdout",
     "output_type": "stream",
     "text": [
      "sampling_grid_binary_class run resampling with no certificate\n"
     ]
    },
    {
     "data": {
      "text/plain": "\u001B[2;36m[04/28/25 01:51:48]\u001B[0m\u001B[2;36m \u001B[0m\u001B[34mINFO    \u001B[0m Loading search space of epoch \u001B[1;36m24\u001B[0m \u001B[1m(\u001B[0m\u001B[33maccuarcy\u001B[0m=\u001B[1;36m0\u001B[0m\u001B[1;36m.7442687749862671\u001B[0m\u001B[1m)\u001B[0m for fine   \u001B]8;id=107561;file://C:\\Users\\kyawk\\Desktop\\robustness_of_gnns_at_scale-main\\rgnn_at_scale\\attacks\\prbcd.py\u001B\\\u001B[2mprbcd.py\u001B[0m\u001B]8;;\u001B\\\u001B[2m:\u001B[0m\u001B]8;id=684115;file://C:\\Users\\kyawk\\Desktop\\robustness_of_gnns_at_scale-main\\rgnn_at_scale\\attacks\\prbcd.py#175\u001B\\\u001B[2m175\u001B[0m\u001B]8;;\u001B\\\n\u001B[2;36m                    \u001B[0m         tuning                                                                    \u001B[2m            \u001B[0m\n\u001B[2;36m                    \u001B[0m                                                                                   \u001B[2m            \u001B[0m\n",
      "text/html": "<pre style=\"white-space:pre;overflow-x:auto;line-height:normal;font-family:Menlo,'DejaVu Sans Mono',consolas,'Courier New',monospace\"><span style=\"color: #7fbfbf; text-decoration-color: #7fbfbf\">[04/28/25 01:51:48] </span><span style=\"color: #000080; text-decoration-color: #000080\">INFO    </span> Loading search space of epoch <span style=\"color: #008080; text-decoration-color: #008080; font-weight: bold\">24</span> <span style=\"font-weight: bold\">(</span><span style=\"color: #808000; text-decoration-color: #808000\">accuarcy</span>=<span style=\"color: #008080; text-decoration-color: #008080; font-weight: bold\">0.7442687749862671</span><span style=\"font-weight: bold\">)</span> for fine   <a href=\"file://C:\\Users\\kyawk\\Desktop\\robustness_of_gnns_at_scale-main\\rgnn_at_scale\\attacks\\prbcd.py\" target=\"_blank\"><span style=\"color: #7f7f7f; text-decoration-color: #7f7f7f\">prbcd.py</span></a><span style=\"color: #7f7f7f; text-decoration-color: #7f7f7f\">:</span><a href=\"file://C:\\Users\\kyawk\\Desktop\\robustness_of_gnns_at_scale-main\\rgnn_at_scale\\attacks\\prbcd.py#175\" target=\"_blank\"><span style=\"color: #7f7f7f; text-decoration-color: #7f7f7f\">175</span></a>\n<span style=\"color: #7fbfbf; text-decoration-color: #7fbfbf\">                    </span>         tuning                                                                    <span style=\"color: #7f7f7f; text-decoration-color: #7f7f7f\">            </span>\n<span style=\"color: #7fbfbf; text-decoration-color: #7fbfbf\">                    </span>                                                                                   <span style=\"color: #7f7f7f; text-decoration-color: #7f7f7f\">            </span>\n</pre>\n"
     },
     "metadata": {},
     "output_type": "display_data"
    },
    {
     "name": "stderr",
     "output_type": "stream",
     "text": [
      " 80%|████████  | 40/50 [00:47<00:11,  1.20s/it]"
     ]
    },
    {
     "data": {
      "text/plain": "\u001B[2;36m[04/28/25 01:52:07]\u001B[0m\u001B[2;36m \u001B[0m\u001B[34mINFO    \u001B[0m                                                                           \u001B]8;id=56078;file://C:\\Users\\kyawk\\Desktop\\robustness_of_gnns_at_scale-main\\rgnn_at_scale\\attacks\\prbcd.py\u001B\\\u001B[2mprbcd.py\u001B[0m\u001B]8;;\u001B\\\u001B[2m:\u001B[0m\u001B]8;id=37591;file://C:\\Users\\kyawk\\Desktop\\robustness_of_gnns_at_scale-main\\rgnn_at_scale\\attacks\\prbcd.py#148\u001B\\\u001B[2m148\u001B[0m\u001B]8;;\u001B\\\n\u001B[2;36m                    \u001B[0m         Epoch: \u001B[1;36m40\u001B[0m Loss: \u001B[1;36m-0.48277509212493896\u001B[0m Accuracy: \u001B[1;36m73.794\u001B[0m %                   \u001B[2m            \u001B[0m\n\u001B[2;36m                    \u001B[0m                                                                                   \u001B[2m            \u001B[0m\n",
      "text/html": "<pre style=\"white-space:pre;overflow-x:auto;line-height:normal;font-family:Menlo,'DejaVu Sans Mono',consolas,'Courier New',monospace\"><span style=\"color: #7fbfbf; text-decoration-color: #7fbfbf\">[04/28/25 01:52:07] </span><span style=\"color: #000080; text-decoration-color: #000080\">INFO    </span>                                                                           <a href=\"file://C:\\Users\\kyawk\\Desktop\\robustness_of_gnns_at_scale-main\\rgnn_at_scale\\attacks\\prbcd.py\" target=\"_blank\"><span style=\"color: #7f7f7f; text-decoration-color: #7f7f7f\">prbcd.py</span></a><span style=\"color: #7f7f7f; text-decoration-color: #7f7f7f\">:</span><a href=\"file://C:\\Users\\kyawk\\Desktop\\robustness_of_gnns_at_scale-main\\rgnn_at_scale\\attacks\\prbcd.py#148\" target=\"_blank\"><span style=\"color: #7f7f7f; text-decoration-color: #7f7f7f\">148</span></a>\n<span style=\"color: #7fbfbf; text-decoration-color: #7fbfbf\">                    </span>         Epoch: <span style=\"color: #008080; text-decoration-color: #008080; font-weight: bold\">40</span> Loss: <span style=\"color: #008080; text-decoration-color: #008080; font-weight: bold\">-0.48277509212493896</span> Accuracy: <span style=\"color: #008080; text-decoration-color: #008080; font-weight: bold\">73.794</span> %                   <span style=\"color: #7f7f7f; text-decoration-color: #7f7f7f\">            </span>\n<span style=\"color: #7fbfbf; text-decoration-color: #7fbfbf\">                    </span>                                                                                   <span style=\"color: #7f7f7f; text-decoration-color: #7f7f7f\">            </span>\n</pre>\n"
     },
     "metadata": {},
     "output_type": "display_data"
    },
    {
     "name": "stderr",
     "output_type": "stream",
     "text": [
      "100%|██████████| 50/50 [01:03<00:00,  1.28s/it]\n"
     ]
    },
    {
     "data": {
      "text/plain": "\u001B[2;36m[04/28/25 01:52:33]\u001B[0m\u001B[2;36m \u001B[0m\u001B[34mINFO    \u001B[0m Lock \u001B[1;36m2826017396944\u001B[0m acquired on cache\\evasion_global_adj.json.lock      \u001B]8;id=477914;file://C:\\Users\\kyawk\\anaconda3\\envs\\Masterarbeit_2_0\\Lib\\site-packages\\filelock.py\u001B\\\u001B[2mfilelock.py\u001B[0m\u001B]8;;\u001B\\\u001B[2m:\u001B[0m\u001B]8;id=153556;file://C:\\Users\\kyawk\\anaconda3\\envs\\Masterarbeit_2_0\\Lib\\site-packages\\filelock.py#274\u001B\\\u001B[2m274\u001B[0m\u001B]8;;\u001B\\\n",
      "text/html": "<pre style=\"white-space:pre;overflow-x:auto;line-height:normal;font-family:Menlo,'DejaVu Sans Mono',consolas,'Courier New',monospace\"><span style=\"color: #7fbfbf; text-decoration-color: #7fbfbf\">[04/28/25 01:52:33] </span><span style=\"color: #000080; text-decoration-color: #000080\">INFO    </span> Lock <span style=\"color: #008080; text-decoration-color: #008080; font-weight: bold\">2826017396944</span> acquired on cache\\evasion_global_adj.json.lock      <a href=\"file://C:\\Users\\kyawk\\anaconda3\\envs\\Masterarbeit_2_0\\Lib\\site-packages\\filelock.py\" target=\"_blank\"><span style=\"color: #7f7f7f; text-decoration-color: #7f7f7f\">filelock.py</span></a><span style=\"color: #7f7f7f; text-decoration-color: #7f7f7f\">:</span><a href=\"file://C:\\Users\\kyawk\\anaconda3\\envs\\Masterarbeit_2_0\\Lib\\site-packages\\filelock.py#274\" target=\"_blank\"><span style=\"color: #7f7f7f; text-decoration-color: #7f7f7f\">274</span></a>\n</pre>\n"
     },
     "metadata": {},
     "output_type": "display_data"
    },
    {
     "data": {
      "text/plain": "\u001B[2;36m                   \u001B[0m\u001B[2;36m \u001B[0m\u001B[34mINFO    \u001B[0m Lock \u001B[1;36m2826017396944\u001B[0m released on cache\\evasion_global_adj.json.lock      \u001B]8;id=977781;file://C:\\Users\\kyawk\\anaconda3\\envs\\Masterarbeit_2_0\\Lib\\site-packages\\filelock.py\u001B\\\u001B[2mfilelock.py\u001B[0m\u001B]8;;\u001B\\\u001B[2m:\u001B[0m\u001B]8;id=774750;file://C:\\Users\\kyawk\\anaconda3\\envs\\Masterarbeit_2_0\\Lib\\site-packages\\filelock.py#318\u001B\\\u001B[2m318\u001B[0m\u001B]8;;\u001B\\\n",
      "text/html": "<pre style=\"white-space:pre;overflow-x:auto;line-height:normal;font-family:Menlo,'DejaVu Sans Mono',consolas,'Courier New',monospace\"><span style=\"color: #7fbfbf; text-decoration-color: #7fbfbf\">                    </span><span style=\"color: #000080; text-decoration-color: #000080\">INFO    </span> Lock <span style=\"color: #008080; text-decoration-color: #008080; font-weight: bold\">2826017396944</span> released on cache\\evasion_global_adj.json.lock      <a href=\"file://C:\\Users\\kyawk\\anaconda3\\envs\\Masterarbeit_2_0\\Lib\\site-packages\\filelock.py\" target=\"_blank\"><span style=\"color: #7f7f7f; text-decoration-color: #7f7f7f\">filelock.py</span></a><span style=\"color: #7f7f7f; text-decoration-color: #7f7f7f\">:</span><a href=\"file://C:\\Users\\kyawk\\anaconda3\\envs\\Masterarbeit_2_0\\Lib\\site-packages\\filelock.py#318\" target=\"_blank\"><span style=\"color: #7f7f7f; text-decoration-color: #7f7f7f\">318</span></a>\n</pre>\n"
     },
     "metadata": {},
     "output_type": "display_data"
    },
    {
     "data": {
      "text/plain": "\u001B[2;36m                   \u001B[0m\u001B[2;36m \u001B[0m\u001B[34mINFO    \u001B[0m Lock \u001B[1;36m2826161729040\u001B[0m acquired on cache\\evasion_global_attr.json.lock     \u001B]8;id=352199;file://C:\\Users\\kyawk\\anaconda3\\envs\\Masterarbeit_2_0\\Lib\\site-packages\\filelock.py\u001B\\\u001B[2mfilelock.py\u001B[0m\u001B]8;;\u001B\\\u001B[2m:\u001B[0m\u001B]8;id=772854;file://C:\\Users\\kyawk\\anaconda3\\envs\\Masterarbeit_2_0\\Lib\\site-packages\\filelock.py#274\u001B\\\u001B[2m274\u001B[0m\u001B]8;;\u001B\\\n",
      "text/html": "<pre style=\"white-space:pre;overflow-x:auto;line-height:normal;font-family:Menlo,'DejaVu Sans Mono',consolas,'Courier New',monospace\"><span style=\"color: #7fbfbf; text-decoration-color: #7fbfbf\">                    </span><span style=\"color: #000080; text-decoration-color: #000080\">INFO    </span> Lock <span style=\"color: #008080; text-decoration-color: #008080; font-weight: bold\">2826161729040</span> acquired on cache\\evasion_global_attr.json.lock     <a href=\"file://C:\\Users\\kyawk\\anaconda3\\envs\\Masterarbeit_2_0\\Lib\\site-packages\\filelock.py\" target=\"_blank\"><span style=\"color: #7f7f7f; text-decoration-color: #7f7f7f\">filelock.py</span></a><span style=\"color: #7f7f7f; text-decoration-color: #7f7f7f\">:</span><a href=\"file://C:\\Users\\kyawk\\anaconda3\\envs\\Masterarbeit_2_0\\Lib\\site-packages\\filelock.py#274\" target=\"_blank\"><span style=\"color: #7f7f7f; text-decoration-color: #7f7f7f\">274</span></a>\n</pre>\n"
     },
     "metadata": {},
     "output_type": "display_data"
    },
    {
     "data": {
      "text/plain": "\u001B[2;36m                   \u001B[0m\u001B[2;36m \u001B[0m\u001B[34mINFO    \u001B[0m Lock \u001B[1;36m2826161729040\u001B[0m released on cache\\evasion_global_attr.json.lock     \u001B]8;id=467242;file://C:\\Users\\kyawk\\anaconda3\\envs\\Masterarbeit_2_0\\Lib\\site-packages\\filelock.py\u001B\\\u001B[2mfilelock.py\u001B[0m\u001B]8;;\u001B\\\u001B[2m:\u001B[0m\u001B]8;id=812311;file://C:\\Users\\kyawk\\anaconda3\\envs\\Masterarbeit_2_0\\Lib\\site-packages\\filelock.py#318\u001B\\\u001B[2m318\u001B[0m\u001B]8;;\u001B\\\n",
      "text/html": "<pre style=\"white-space:pre;overflow-x:auto;line-height:normal;font-family:Menlo,'DejaVu Sans Mono',consolas,'Courier New',monospace\"><span style=\"color: #7fbfbf; text-decoration-color: #7fbfbf\">                    </span><span style=\"color: #000080; text-decoration-color: #000080\">INFO    </span> Lock <span style=\"color: #008080; text-decoration-color: #008080; font-weight: bold\">2826161729040</span> released on cache\\evasion_global_attr.json.lock     <a href=\"file://C:\\Users\\kyawk\\anaconda3\\envs\\Masterarbeit_2_0\\Lib\\site-packages\\filelock.py\" target=\"_blank\"><span style=\"color: #7f7f7f; text-decoration-color: #7f7f7f\">filelock.py</span></a><span style=\"color: #7f7f7f; text-decoration-color: #7f7f7f\">:</span><a href=\"file://C:\\Users\\kyawk\\anaconda3\\envs\\Masterarbeit_2_0\\Lib\\site-packages\\filelock.py#318\" target=\"_blank\"><span style=\"color: #7f7f7f; text-decoration-color: #7f7f7f\">318</span></a>\n</pre>\n"
     },
     "metadata": {},
     "output_type": "display_data"
    },
    {
     "name": "stdout",
     "output_type": "stream",
     "text": [
      "time:  76.61857259995304\n",
      "sampling_grid_binary_class: \n",
      "{'results': [{'label': 'Vanilla GCN', 'epsilon': 0.25, 'accuracy': 0.7359683513641357}]}\n",
      "Deleted file: cache\\evasion_global_adj.json\n",
      "Deleted file: cache\\evasion_global_attr.json\n",
      "Deleted directory: cache\\evasion_global_adj\n",
      "Deleted directory: cache\\evasion_global_attr\n"
     ]
    },
    {
     "data": {
      "text/plain": "\u001B[2;36m[04/28/25 01:52:34]\u001B[0m\u001B[2;36m \u001B[0m\u001B[34mINFO    \u001B[0m \u001B[1m{\u001B[0m\u001B[32m'dataset'\u001B[0m: \u001B[32m'cora_ml'\u001B[0m, \u001B[32m'attack'\u001B[0m: \u001B[32m'PRBCD'\u001B[0m, \u001B[32m'attack_params'\u001B[0m: \u001B[1m{\u001B[0m\u001B[32m'epochs'\u001B[0m: \u001B[1;36m50\u001B[0m, \u001B]8;id=77526;file://C:\\Users\\kyawk\\Desktop\\robustness_of_gnns_at_scale-main\\experiments\\common.py\u001B\\\u001B[2mcommon.py\u001B[0m\u001B]8;;\u001B\\\u001B[2m:\u001B[0m\u001B]8;id=345185;file://C:\\Users\\kyawk\\Desktop\\robustness_of_gnns_at_scale-main\\experiments\\common.py#38\u001B\\\u001B[2m38\u001B[0m\u001B]8;;\u001B\\\n\u001B[2;36m                    \u001B[0m         \u001B[32m'fine_tune_epochs'\u001B[0m: \u001B[1;36m25\u001B[0m, \u001B[32m'keep_heuristic'\u001B[0m: \u001B[32m'WeightOnly'\u001B[0m,                   \u001B[2m            \u001B[0m\n\u001B[2;36m                    \u001B[0m         \u001B[32m'search_space_size'\u001B[0m: \u001B[1;36m100000\u001B[0m, \u001B[32m'block_size'\u001B[0m: \u001B[1;36m2000\u001B[0m, \u001B[32m'do_synchronize'\u001B[0m: \u001B[3;92mTrue\u001B[0m,  \u001B[2m            \u001B[0m\n\u001B[2;36m                    \u001B[0m         \u001B[32m'loss_type'\u001B[0m: \u001B[32m'tanhMargin'\u001B[0m\u001B[1m}\u001B[0m, \u001B[32m'epsilons'\u001B[0m: \u001B[1m[\u001B[0m\u001B[1;36m0.25\u001B[0m\u001B[1m]\u001B[0m, \u001B[32m'make_undirected'\u001B[0m: \u001B[3;92mTrue\u001B[0m,  \u001B[2m            \u001B[0m\n\u001B[2;36m                    \u001B[0m         \u001B[32m'binary_attr'\u001B[0m: \u001B[3;91mFalse\u001B[0m, \u001B[32m'seed'\u001B[0m: \u001B[1;36m0\u001B[0m, \u001B[32m'artifact_dir'\u001B[0m: \u001B[32m'cache'\u001B[0m,                 \u001B[2m            \u001B[0m\n\u001B[2;36m                    \u001B[0m         \u001B[32m'pert_adj_storage_type'\u001B[0m: \u001B[32m'evasion_global_adj'\u001B[0m, \u001B[32m'pert_attr_storage_type'\u001B[0m:  \u001B[2m            \u001B[0m\n\u001B[2;36m                    \u001B[0m         \u001B[32m'evasion_global_attr'\u001B[0m, \u001B[32m'model_label'\u001B[0m: \u001B[32m'Vanilla GCN'\u001B[0m,                      \u001B[2m            \u001B[0m\n\u001B[2;36m                    \u001B[0m         \u001B[32m'model_storage_type'\u001B[0m: \u001B[32m'demo'\u001B[0m, \u001B[32m'device'\u001B[0m: \u001B[32m'cpu'\u001B[0m, \u001B[32m'data_device'\u001B[0m: \u001B[32m'cpu'\u001B[0m\u001B[1m}\u001B[0m      \u001B[2m            \u001B[0m\n",
      "text/html": "<pre style=\"white-space:pre;overflow-x:auto;line-height:normal;font-family:Menlo,'DejaVu Sans Mono',consolas,'Courier New',monospace\"><span style=\"color: #7fbfbf; text-decoration-color: #7fbfbf\">[04/28/25 01:52:34] </span><span style=\"color: #000080; text-decoration-color: #000080\">INFO    </span> <span style=\"font-weight: bold\">{</span><span style=\"color: #008000; text-decoration-color: #008000\">'dataset'</span>: <span style=\"color: #008000; text-decoration-color: #008000\">'cora_ml'</span>, <span style=\"color: #008000; text-decoration-color: #008000\">'attack'</span>: <span style=\"color: #008000; text-decoration-color: #008000\">'PRBCD'</span>, <span style=\"color: #008000; text-decoration-color: #008000\">'attack_params'</span>: <span style=\"font-weight: bold\">{</span><span style=\"color: #008000; text-decoration-color: #008000\">'epochs'</span>: <span style=\"color: #008080; text-decoration-color: #008080; font-weight: bold\">50</span>, <a href=\"file://C:\\Users\\kyawk\\Desktop\\robustness_of_gnns_at_scale-main\\experiments\\common.py\" target=\"_blank\"><span style=\"color: #7f7f7f; text-decoration-color: #7f7f7f\">common.py</span></a><span style=\"color: #7f7f7f; text-decoration-color: #7f7f7f\">:</span><a href=\"file://C:\\Users\\kyawk\\Desktop\\robustness_of_gnns_at_scale-main\\experiments\\common.py#38\" target=\"_blank\"><span style=\"color: #7f7f7f; text-decoration-color: #7f7f7f\">38</span></a>\n<span style=\"color: #7fbfbf; text-decoration-color: #7fbfbf\">                    </span>         <span style=\"color: #008000; text-decoration-color: #008000\">'fine_tune_epochs'</span>: <span style=\"color: #008080; text-decoration-color: #008080; font-weight: bold\">25</span>, <span style=\"color: #008000; text-decoration-color: #008000\">'keep_heuristic'</span>: <span style=\"color: #008000; text-decoration-color: #008000\">'WeightOnly'</span>,                   <span style=\"color: #7f7f7f; text-decoration-color: #7f7f7f\">            </span>\n<span style=\"color: #7fbfbf; text-decoration-color: #7fbfbf\">                    </span>         <span style=\"color: #008000; text-decoration-color: #008000\">'search_space_size'</span>: <span style=\"color: #008080; text-decoration-color: #008080; font-weight: bold\">100000</span>, <span style=\"color: #008000; text-decoration-color: #008000\">'block_size'</span>: <span style=\"color: #008080; text-decoration-color: #008080; font-weight: bold\">2000</span>, <span style=\"color: #008000; text-decoration-color: #008000\">'do_synchronize'</span>: <span style=\"color: #00ff00; text-decoration-color: #00ff00; font-style: italic\">True</span>,  <span style=\"color: #7f7f7f; text-decoration-color: #7f7f7f\">            </span>\n<span style=\"color: #7fbfbf; text-decoration-color: #7fbfbf\">                    </span>         <span style=\"color: #008000; text-decoration-color: #008000\">'loss_type'</span>: <span style=\"color: #008000; text-decoration-color: #008000\">'tanhMargin'</span><span style=\"font-weight: bold\">}</span>, <span style=\"color: #008000; text-decoration-color: #008000\">'epsilons'</span>: <span style=\"font-weight: bold\">[</span><span style=\"color: #008080; text-decoration-color: #008080; font-weight: bold\">0.25</span><span style=\"font-weight: bold\">]</span>, <span style=\"color: #008000; text-decoration-color: #008000\">'make_undirected'</span>: <span style=\"color: #00ff00; text-decoration-color: #00ff00; font-style: italic\">True</span>,  <span style=\"color: #7f7f7f; text-decoration-color: #7f7f7f\">            </span>\n<span style=\"color: #7fbfbf; text-decoration-color: #7fbfbf\">                    </span>         <span style=\"color: #008000; text-decoration-color: #008000\">'binary_attr'</span>: <span style=\"color: #ff0000; text-decoration-color: #ff0000; font-style: italic\">False</span>, <span style=\"color: #008000; text-decoration-color: #008000\">'seed'</span>: <span style=\"color: #008080; text-decoration-color: #008080; font-weight: bold\">0</span>, <span style=\"color: #008000; text-decoration-color: #008000\">'artifact_dir'</span>: <span style=\"color: #008000; text-decoration-color: #008000\">'cache'</span>,                 <span style=\"color: #7f7f7f; text-decoration-color: #7f7f7f\">            </span>\n<span style=\"color: #7fbfbf; text-decoration-color: #7fbfbf\">                    </span>         <span style=\"color: #008000; text-decoration-color: #008000\">'pert_adj_storage_type'</span>: <span style=\"color: #008000; text-decoration-color: #008000\">'evasion_global_adj'</span>, <span style=\"color: #008000; text-decoration-color: #008000\">'pert_attr_storage_type'</span>:  <span style=\"color: #7f7f7f; text-decoration-color: #7f7f7f\">            </span>\n<span style=\"color: #7fbfbf; text-decoration-color: #7fbfbf\">                    </span>         <span style=\"color: #008000; text-decoration-color: #008000\">'evasion_global_attr'</span>, <span style=\"color: #008000; text-decoration-color: #008000\">'model_label'</span>: <span style=\"color: #008000; text-decoration-color: #008000\">'Vanilla GCN'</span>,                      <span style=\"color: #7f7f7f; text-decoration-color: #7f7f7f\">            </span>\n<span style=\"color: #7fbfbf; text-decoration-color: #7fbfbf\">                    </span>         <span style=\"color: #008000; text-decoration-color: #008000\">'model_storage_type'</span>: <span style=\"color: #008000; text-decoration-color: #008000\">'demo'</span>, <span style=\"color: #008000; text-decoration-color: #008000\">'device'</span>: <span style=\"color: #008000; text-decoration-color: #008000\">'cpu'</span>, <span style=\"color: #008000; text-decoration-color: #008000\">'data_device'</span>: <span style=\"color: #008000; text-decoration-color: #008000\">'cpu'</span><span style=\"font-weight: bold\">}</span>      <span style=\"color: #7f7f7f; text-decoration-color: #7f7f7f\">            </span>\n</pre>\n"
     },
     "metadata": {},
     "output_type": "display_data"
    },
    {
     "data": {
      "text/plain": "\u001B[2;36m                   \u001B[0m\u001B[2;36m \u001B[0m\u001B[34mINFO    \u001B[0m Lock \u001B[1;36m2826158524880\u001B[0m acquired on cache\\demo.json.lock                    \u001B]8;id=832080;file://C:\\Users\\kyawk\\anaconda3\\envs\\Masterarbeit_2_0\\Lib\\site-packages\\filelock.py\u001B\\\u001B[2mfilelock.py\u001B[0m\u001B]8;;\u001B\\\u001B[2m:\u001B[0m\u001B]8;id=32824;file://C:\\Users\\kyawk\\anaconda3\\envs\\Masterarbeit_2_0\\Lib\\site-packages\\filelock.py#274\u001B\\\u001B[2m274\u001B[0m\u001B]8;;\u001B\\\n",
      "text/html": "<pre style=\"white-space:pre;overflow-x:auto;line-height:normal;font-family:Menlo,'DejaVu Sans Mono',consolas,'Courier New',monospace\"><span style=\"color: #7fbfbf; text-decoration-color: #7fbfbf\">                    </span><span style=\"color: #000080; text-decoration-color: #000080\">INFO    </span> Lock <span style=\"color: #008080; text-decoration-color: #008080; font-weight: bold\">2826158524880</span> acquired on cache\\demo.json.lock                    <a href=\"file://C:\\Users\\kyawk\\anaconda3\\envs\\Masterarbeit_2_0\\Lib\\site-packages\\filelock.py\" target=\"_blank\"><span style=\"color: #7f7f7f; text-decoration-color: #7f7f7f\">filelock.py</span></a><span style=\"color: #7f7f7f; text-decoration-color: #7f7f7f\">:</span><a href=\"file://C:\\Users\\kyawk\\anaconda3\\envs\\Masterarbeit_2_0\\Lib\\site-packages\\filelock.py#274\" target=\"_blank\"><span style=\"color: #7f7f7f; text-decoration-color: #7f7f7f\">274</span></a>\n</pre>\n"
     },
     "metadata": {},
     "output_type": "display_data"
    },
    {
     "data": {
      "text/plain": "\u001B[2;36m                   \u001B[0m\u001B[2;36m \u001B[0m\u001B[34mINFO    \u001B[0m Lock \u001B[1;36m2826158524880\u001B[0m released on cache\\demo.json.lock                    \u001B]8;id=211824;file://C:\\Users\\kyawk\\anaconda3\\envs\\Masterarbeit_2_0\\Lib\\site-packages\\filelock.py\u001B\\\u001B[2mfilelock.py\u001B[0m\u001B]8;;\u001B\\\u001B[2m:\u001B[0m\u001B]8;id=556083;file://C:\\Users\\kyawk\\anaconda3\\envs\\Masterarbeit_2_0\\Lib\\site-packages\\filelock.py#318\u001B\\\u001B[2m318\u001B[0m\u001B]8;;\u001B\\\n",
      "text/html": "<pre style=\"white-space:pre;overflow-x:auto;line-height:normal;font-family:Menlo,'DejaVu Sans Mono',consolas,'Courier New',monospace\"><span style=\"color: #7fbfbf; text-decoration-color: #7fbfbf\">                    </span><span style=\"color: #000080; text-decoration-color: #000080\">INFO    </span> Lock <span style=\"color: #008080; text-decoration-color: #008080; font-weight: bold\">2826158524880</span> released on cache\\demo.json.lock                    <a href=\"file://C:\\Users\\kyawk\\anaconda3\\envs\\Masterarbeit_2_0\\Lib\\site-packages\\filelock.py\" target=\"_blank\"><span style=\"color: #7f7f7f; text-decoration-color: #7f7f7f\">filelock.py</span></a><span style=\"color: #7f7f7f; text-decoration-color: #7f7f7f\">:</span><a href=\"file://C:\\Users\\kyawk\\anaconda3\\envs\\Masterarbeit_2_0\\Lib\\site-packages\\filelock.py#318\" target=\"_blank\"><span style=\"color: #7f7f7f; text-decoration-color: #7f7f7f\">318</span></a>\n</pre>\n"
     },
     "metadata": {},
     "output_type": "display_data"
    },
    {
     "data": {
      "text/plain": "\u001B[2;36m                   \u001B[0m\u001B[2;36m \u001B[0m\u001B[34mINFO    \u001B[0m Evaluate  PRBCD for model \u001B[32m'Vanilla GCN'\u001B[0m.        \u001B]8;id=314569;file://C:\\Users\\kyawk\\Desktop\\robustness_of_gnns_at_scale-main\\experiments\\experiment_global_attack_direct.py\u001B\\\u001B[2mexperiment_global_attack_direct.py\u001B[0m\u001B]8;;\u001B\\\u001B[2m:\u001B[0m\u001B]8;id=445932;file://C:\\Users\\kyawk\\Desktop\\robustness_of_gnns_at_scale-main\\experiments\\experiment_global_attack_direct.py#139\u001B\\\u001B[2m139\u001B[0m\u001B]8;;\u001B\\\n",
      "text/html": "<pre style=\"white-space:pre;overflow-x:auto;line-height:normal;font-family:Menlo,'DejaVu Sans Mono',consolas,'Courier New',monospace\"><span style=\"color: #7fbfbf; text-decoration-color: #7fbfbf\">                    </span><span style=\"color: #000080; text-decoration-color: #000080\">INFO    </span> Evaluate  PRBCD for model <span style=\"color: #008000; text-decoration-color: #008000\">'Vanilla GCN'</span>.        <a href=\"file://C:\\Users\\kyawk\\Desktop\\robustness_of_gnns_at_scale-main\\experiments\\experiment_global_attack_direct.py\" target=\"_blank\"><span style=\"color: #7f7f7f; text-decoration-color: #7f7f7f\">experiment_global_attack_direct.py</span></a><span style=\"color: #7f7f7f; text-decoration-color: #7f7f7f\">:</span><a href=\"file://C:\\Users\\kyawk\\Desktop\\robustness_of_gnns_at_scale-main\\experiments\\experiment_global_attack_direct.py#139\" target=\"_blank\"><span style=\"color: #7f7f7f; text-decoration-color: #7f7f7f\">139</span></a>\n</pre>\n"
     },
     "metadata": {},
     "output_type": "display_data"
    },
    {
     "data": {
      "text/plain": "\u001B[2;36m                   \u001B[0m\u001B[2;36m \u001B[0m\u001B[34mINFO    \u001B[0m Lock \u001B[1;36m2826015083536\u001B[0m acquired on cache\\evasion_global_adj.json.lock      \u001B]8;id=265475;file://C:\\Users\\kyawk\\anaconda3\\envs\\Masterarbeit_2_0\\Lib\\site-packages\\filelock.py\u001B\\\u001B[2mfilelock.py\u001B[0m\u001B]8;;\u001B\\\u001B[2m:\u001B[0m\u001B]8;id=250396;file://C:\\Users\\kyawk\\anaconda3\\envs\\Masterarbeit_2_0\\Lib\\site-packages\\filelock.py#274\u001B\\\u001B[2m274\u001B[0m\u001B]8;;\u001B\\\n",
      "text/html": "<pre style=\"white-space:pre;overflow-x:auto;line-height:normal;font-family:Menlo,'DejaVu Sans Mono',consolas,'Courier New',monospace\"><span style=\"color: #7fbfbf; text-decoration-color: #7fbfbf\">                    </span><span style=\"color: #000080; text-decoration-color: #000080\">INFO    </span> Lock <span style=\"color: #008080; text-decoration-color: #008080; font-weight: bold\">2826015083536</span> acquired on cache\\evasion_global_adj.json.lock      <a href=\"file://C:\\Users\\kyawk\\anaconda3\\envs\\Masterarbeit_2_0\\Lib\\site-packages\\filelock.py\" target=\"_blank\"><span style=\"color: #7f7f7f; text-decoration-color: #7f7f7f\">filelock.py</span></a><span style=\"color: #7f7f7f; text-decoration-color: #7f7f7f\">:</span><a href=\"file://C:\\Users\\kyawk\\anaconda3\\envs\\Masterarbeit_2_0\\Lib\\site-packages\\filelock.py#274\" target=\"_blank\"><span style=\"color: #7f7f7f; text-decoration-color: #7f7f7f\">274</span></a>\n</pre>\n"
     },
     "metadata": {},
     "output_type": "display_data"
    },
    {
     "data": {
      "text/plain": "\u001B[2;36m                   \u001B[0m\u001B[2;36m \u001B[0m\u001B[34mINFO    \u001B[0m Lock \u001B[1;36m2826015083536\u001B[0m released on cache\\evasion_global_adj.json.lock      \u001B]8;id=911097;file://C:\\Users\\kyawk\\anaconda3\\envs\\Masterarbeit_2_0\\Lib\\site-packages\\filelock.py\u001B\\\u001B[2mfilelock.py\u001B[0m\u001B]8;;\u001B\\\u001B[2m:\u001B[0m\u001B]8;id=585293;file://C:\\Users\\kyawk\\anaconda3\\envs\\Masterarbeit_2_0\\Lib\\site-packages\\filelock.py#318\u001B\\\u001B[2m318\u001B[0m\u001B]8;;\u001B\\\n",
      "text/html": "<pre style=\"white-space:pre;overflow-x:auto;line-height:normal;font-family:Menlo,'DejaVu Sans Mono',consolas,'Courier New',monospace\"><span style=\"color: #7fbfbf; text-decoration-color: #7fbfbf\">                    </span><span style=\"color: #000080; text-decoration-color: #000080\">INFO    </span> Lock <span style=\"color: #008080; text-decoration-color: #008080; font-weight: bold\">2826015083536</span> released on cache\\evasion_global_adj.json.lock      <a href=\"file://C:\\Users\\kyawk\\anaconda3\\envs\\Masterarbeit_2_0\\Lib\\site-packages\\filelock.py\" target=\"_blank\"><span style=\"color: #7f7f7f; text-decoration-color: #7f7f7f\">filelock.py</span></a><span style=\"color: #7f7f7f; text-decoration-color: #7f7f7f\">:</span><a href=\"file://C:\\Users\\kyawk\\anaconda3\\envs\\Masterarbeit_2_0\\Lib\\site-packages\\filelock.py#318\" target=\"_blank\"><span style=\"color: #7f7f7f; text-decoration-color: #7f7f7f\">318</span></a>\n</pre>\n"
     },
     "metadata": {},
     "output_type": "display_data"
    },
    {
     "data": {
      "text/plain": "\u001B[2;36m                   \u001B[0m\u001B[2;36m \u001B[0m\u001B[34mINFO    \u001B[0m Lock \u001B[1;36m2826158524880\u001B[0m acquired on cache\\evasion_global_attr.json.lock     \u001B]8;id=264093;file://C:\\Users\\kyawk\\anaconda3\\envs\\Masterarbeit_2_0\\Lib\\site-packages\\filelock.py\u001B\\\u001B[2mfilelock.py\u001B[0m\u001B]8;;\u001B\\\u001B[2m:\u001B[0m\u001B]8;id=179932;file://C:\\Users\\kyawk\\anaconda3\\envs\\Masterarbeit_2_0\\Lib\\site-packages\\filelock.py#274\u001B\\\u001B[2m274\u001B[0m\u001B]8;;\u001B\\\n",
      "text/html": "<pre style=\"white-space:pre;overflow-x:auto;line-height:normal;font-family:Menlo,'DejaVu Sans Mono',consolas,'Courier New',monospace\"><span style=\"color: #7fbfbf; text-decoration-color: #7fbfbf\">                    </span><span style=\"color: #000080; text-decoration-color: #000080\">INFO    </span> Lock <span style=\"color: #008080; text-decoration-color: #008080; font-weight: bold\">2826158524880</span> acquired on cache\\evasion_global_attr.json.lock     <a href=\"file://C:\\Users\\kyawk\\anaconda3\\envs\\Masterarbeit_2_0\\Lib\\site-packages\\filelock.py\" target=\"_blank\"><span style=\"color: #7f7f7f; text-decoration-color: #7f7f7f\">filelock.py</span></a><span style=\"color: #7f7f7f; text-decoration-color: #7f7f7f\">:</span><a href=\"file://C:\\Users\\kyawk\\anaconda3\\envs\\Masterarbeit_2_0\\Lib\\site-packages\\filelock.py#274\" target=\"_blank\"><span style=\"color: #7f7f7f; text-decoration-color: #7f7f7f\">274</span></a>\n</pre>\n"
     },
     "metadata": {},
     "output_type": "display_data"
    },
    {
     "data": {
      "text/plain": "\u001B[2;36m                   \u001B[0m\u001B[2;36m \u001B[0m\u001B[34mINFO    \u001B[0m Lock \u001B[1;36m2826158524880\u001B[0m released on cache\\evasion_global_attr.json.lock     \u001B]8;id=165030;file://C:\\Users\\kyawk\\anaconda3\\envs\\Masterarbeit_2_0\\Lib\\site-packages\\filelock.py\u001B\\\u001B[2mfilelock.py\u001B[0m\u001B]8;;\u001B\\\u001B[2m:\u001B[0m\u001B]8;id=857490;file://C:\\Users\\kyawk\\anaconda3\\envs\\Masterarbeit_2_0\\Lib\\site-packages\\filelock.py#318\u001B\\\u001B[2m318\u001B[0m\u001B]8;;\u001B\\\n",
      "text/html": "<pre style=\"white-space:pre;overflow-x:auto;line-height:normal;font-family:Menlo,'DejaVu Sans Mono',consolas,'Courier New',monospace\"><span style=\"color: #7fbfbf; text-decoration-color: #7fbfbf\">                    </span><span style=\"color: #000080; text-decoration-color: #000080\">INFO    </span> Lock <span style=\"color: #008080; text-decoration-color: #008080; font-weight: bold\">2826158524880</span> released on cache\\evasion_global_attr.json.lock     <a href=\"file://C:\\Users\\kyawk\\anaconda3\\envs\\Masterarbeit_2_0\\Lib\\site-packages\\filelock.py\" target=\"_blank\"><span style=\"color: #7f7f7f; text-decoration-color: #7f7f7f\">filelock.py</span></a><span style=\"color: #7f7f7f; text-decoration-color: #7f7f7f\">:</span><a href=\"file://C:\\Users\\kyawk\\anaconda3\\envs\\Masterarbeit_2_0\\Lib\\site-packages\\filelock.py#318\" target=\"_blank\"><span style=\"color: #7f7f7f; text-decoration-color: #7f7f7f\">318</span></a>\n</pre>\n"
     },
     "metadata": {},
     "output_type": "display_data"
    },
    {
     "data": {
      "text/plain": "\u001B[2;36m                   \u001B[0m\u001B[2;36m \u001B[0m\u001B[34mINFO    \u001B[0m No cached perturbations found for model \u001B[32m'Vanilla GCN'\u001B[0m and eps \u001B[1;36m0.25\u001B[0m.      \u001B]8;id=325046;file://C:\\Users\\kyawk\\Desktop\\robustness_of_gnns_at_scale-main\\experiments\\common.py\u001B\\\u001B[2mcommon.py\u001B[0m\u001B]8;;\u001B\\\u001B[2m:\u001B[0m\u001B]8;id=834533;file://C:\\Users\\kyawk\\Desktop\\robustness_of_gnns_at_scale-main\\experiments\\common.py#109\u001B\\\u001B[2m109\u001B[0m\u001B]8;;\u001B\\\n\u001B[2;36m                    \u001B[0m         Execute attack\u001B[33m...\u001B[0m                                                        \u001B[2m             \u001B[0m\n",
      "text/html": "<pre style=\"white-space:pre;overflow-x:auto;line-height:normal;font-family:Menlo,'DejaVu Sans Mono',consolas,'Courier New',monospace\"><span style=\"color: #7fbfbf; text-decoration-color: #7fbfbf\">                    </span><span style=\"color: #000080; text-decoration-color: #000080\">INFO    </span> No cached perturbations found for model <span style=\"color: #008000; text-decoration-color: #008000\">'Vanilla GCN'</span> and eps <span style=\"color: #008080; text-decoration-color: #008080; font-weight: bold\">0.25</span>.      <a href=\"file://C:\\Users\\kyawk\\Desktop\\robustness_of_gnns_at_scale-main\\experiments\\common.py\" target=\"_blank\"><span style=\"color: #7f7f7f; text-decoration-color: #7f7f7f\">common.py</span></a><span style=\"color: #7f7f7f; text-decoration-color: #7f7f7f\">:</span><a href=\"file://C:\\Users\\kyawk\\Desktop\\robustness_of_gnns_at_scale-main\\experiments\\common.py#109\" target=\"_blank\"><span style=\"color: #7f7f7f; text-decoration-color: #7f7f7f\">109</span></a>\n<span style=\"color: #7fbfbf; text-decoration-color: #7fbfbf\">                    </span>         Execute attack<span style=\"color: #808000; text-decoration-color: #808000\">...</span>                                                        <span style=\"color: #7f7f7f; text-decoration-color: #7f7f7f\">             </span>\n</pre>\n"
     },
     "metadata": {},
     "output_type": "display_data"
    },
    {
     "name": "stdout",
     "output_type": "stream",
     "text": [
      "sampling_grid_binary_class_alt run sampling_grid_binary_class\n",
      "using alternative current_node_search_space sampling\n"
     ]
    },
    {
     "data": {
      "text/plain": "\u001B[2;36m[04/28/25 01:52:35]\u001B[0m\u001B[2;36m \u001B[0m\u001B[34mINFO    \u001B[0m                                                                           \u001B]8;id=318191;file://C:\\Users\\kyawk\\Desktop\\robustness_of_gnns_at_scale-main\\rgnn_at_scale\\attacks\\prbcd.py\u001B\\\u001B[2mprbcd.py\u001B[0m\u001B]8;;\u001B\\\u001B[2m:\u001B[0m\u001B]8;id=213992;file://C:\\Users\\kyawk\\Desktop\\robustness_of_gnns_at_scale-main\\rgnn_at_scale\\attacks\\prbcd.py#102\u001B\\\u001B[2m102\u001B[0m\u001B]8;;\u001B\\\n\u001B[2;36m                    \u001B[0m         Before the attack - Loss: \u001B[1;36m-0.6509091258049011\u001B[0m Accuracy: \u001B[1;36m83.478\u001B[0m %          \u001B[2m            \u001B[0m\n\u001B[2;36m                    \u001B[0m                                                                                   \u001B[2m            \u001B[0m\n",
      "text/html": "<pre style=\"white-space:pre;overflow-x:auto;line-height:normal;font-family:Menlo,'DejaVu Sans Mono',consolas,'Courier New',monospace\"><span style=\"color: #7fbfbf; text-decoration-color: #7fbfbf\">[04/28/25 01:52:35] </span><span style=\"color: #000080; text-decoration-color: #000080\">INFO    </span>                                                                           <a href=\"file://C:\\Users\\kyawk\\Desktop\\robustness_of_gnns_at_scale-main\\rgnn_at_scale\\attacks\\prbcd.py\" target=\"_blank\"><span style=\"color: #7f7f7f; text-decoration-color: #7f7f7f\">prbcd.py</span></a><span style=\"color: #7f7f7f; text-decoration-color: #7f7f7f\">:</span><a href=\"file://C:\\Users\\kyawk\\Desktop\\robustness_of_gnns_at_scale-main\\rgnn_at_scale\\attacks\\prbcd.py#102\" target=\"_blank\"><span style=\"color: #7f7f7f; text-decoration-color: #7f7f7f\">102</span></a>\n<span style=\"color: #7fbfbf; text-decoration-color: #7fbfbf\">                    </span>         Before the attack - Loss: <span style=\"color: #008080; text-decoration-color: #008080; font-weight: bold\">-0.6509091258049011</span> Accuracy: <span style=\"color: #008080; text-decoration-color: #008080; font-weight: bold\">83.478</span> %          <span style=\"color: #7f7f7f; text-decoration-color: #7f7f7f\">            </span>\n<span style=\"color: #7fbfbf; text-decoration-color: #7fbfbf\">                    </span>                                                                                   <span style=\"color: #7f7f7f; text-decoration-color: #7f7f7f\">            </span>\n</pre>\n"
     },
     "metadata": {},
     "output_type": "display_data"
    },
    {
     "name": "stderr",
     "output_type": "stream",
     "text": [
      "  0%|          | 0/50 [00:00<?, ?it/s]"
     ]
    },
    {
     "data": {
      "text/plain": "\u001B[2;36m[04/28/25 01:52:37]\u001B[0m\u001B[2;36m \u001B[0m\u001B[34mINFO    \u001B[0m                                                                           \u001B]8;id=600789;file://C:\\Users\\kyawk\\Desktop\\robustness_of_gnns_at_scale-main\\rgnn_at_scale\\attacks\\prbcd.py\u001B\\\u001B[2mprbcd.py\u001B[0m\u001B]8;;\u001B\\\u001B[2m:\u001B[0m\u001B]8;id=533516;file://C:\\Users\\kyawk\\Desktop\\robustness_of_gnns_at_scale-main\\rgnn_at_scale\\attacks\\prbcd.py#148\u001B\\\u001B[2m148\u001B[0m\u001B]8;;\u001B\\\n\u001B[2;36m                    \u001B[0m         Epoch: \u001B[1;36m0\u001B[0m Loss: \u001B[1;36m-0.6509119272232056\u001B[0m Accuracy: \u001B[1;36m83.241\u001B[0m %                     \u001B[2m            \u001B[0m\n\u001B[2;36m                    \u001B[0m                                                                                   \u001B[2m            \u001B[0m\n",
      "text/html": "<pre style=\"white-space:pre;overflow-x:auto;line-height:normal;font-family:Menlo,'DejaVu Sans Mono',consolas,'Courier New',monospace\"><span style=\"color: #7fbfbf; text-decoration-color: #7fbfbf\">[04/28/25 01:52:37] </span><span style=\"color: #000080; text-decoration-color: #000080\">INFO    </span>                                                                           <a href=\"file://C:\\Users\\kyawk\\Desktop\\robustness_of_gnns_at_scale-main\\rgnn_at_scale\\attacks\\prbcd.py\" target=\"_blank\"><span style=\"color: #7f7f7f; text-decoration-color: #7f7f7f\">prbcd.py</span></a><span style=\"color: #7f7f7f; text-decoration-color: #7f7f7f\">:</span><a href=\"file://C:\\Users\\kyawk\\Desktop\\robustness_of_gnns_at_scale-main\\rgnn_at_scale\\attacks\\prbcd.py#148\" target=\"_blank\"><span style=\"color: #7f7f7f; text-decoration-color: #7f7f7f\">148</span></a>\n<span style=\"color: #7fbfbf; text-decoration-color: #7fbfbf\">                    </span>         Epoch: <span style=\"color: #008080; text-decoration-color: #008080; font-weight: bold\">0</span> Loss: <span style=\"color: #008080; text-decoration-color: #008080; font-weight: bold\">-0.6509119272232056</span> Accuracy: <span style=\"color: #008080; text-decoration-color: #008080; font-weight: bold\">83.241</span> %                     <span style=\"color: #7f7f7f; text-decoration-color: #7f7f7f\">            </span>\n<span style=\"color: #7fbfbf; text-decoration-color: #7fbfbf\">                    </span>                                                                                   <span style=\"color: #7f7f7f; text-decoration-color: #7f7f7f\">            </span>\n</pre>\n"
     },
     "metadata": {},
     "output_type": "display_data"
    },
    {
     "name": "stderr",
     "output_type": "stream",
     "text": [
      "  2%|▏         | 1/50 [00:02<01:46,  2.17s/it]"
     ]
    },
    {
     "name": "stdout",
     "output_type": "stream",
     "text": [
      "sampling_grid_binary_class_alt run resampling with no certificate\n"
     ]
    },
    {
     "name": "stderr",
     "output_type": "stream",
     "text": [
      "  4%|▍         | 2/50 [00:03<01:34,  1.98s/it]"
     ]
    },
    {
     "name": "stdout",
     "output_type": "stream",
     "text": [
      "sampling_grid_binary_class_alt run resampling with no certificate\n"
     ]
    },
    {
     "name": "stderr",
     "output_type": "stream",
     "text": [
      "  6%|▌         | 3/50 [00:04<01:19,  1.68s/it]"
     ]
    },
    {
     "name": "stdout",
     "output_type": "stream",
     "text": [
      "sampling_grid_binary_class_alt run resampling with no certificate\n"
     ]
    },
    {
     "name": "stderr",
     "output_type": "stream",
     "text": [
      "  8%|▊         | 4/50 [00:06<01:12,  1.58s/it]"
     ]
    },
    {
     "name": "stdout",
     "output_type": "stream",
     "text": [
      "sampling_grid_binary_class_alt run resampling with no certificate\n"
     ]
    },
    {
     "name": "stderr",
     "output_type": "stream",
     "text": [
      " 10%|█         | 5/50 [00:08<01:18,  1.75s/it]"
     ]
    },
    {
     "name": "stdout",
     "output_type": "stream",
     "text": [
      "sampling_grid_binary_class_alt run resampling with no certificate\n"
     ]
    },
    {
     "name": "stderr",
     "output_type": "stream",
     "text": [
      " 12%|█▏        | 6/50 [00:10<01:20,  1.83s/it]"
     ]
    },
    {
     "name": "stdout",
     "output_type": "stream",
     "text": [
      "sampling_grid_binary_class_alt run resampling with no certificate\n"
     ]
    },
    {
     "name": "stderr",
     "output_type": "stream",
     "text": [
      " 14%|█▍        | 7/50 [00:12<01:27,  2.04s/it]"
     ]
    },
    {
     "name": "stdout",
     "output_type": "stream",
     "text": [
      "sampling_grid_binary_class_alt run resampling with no certificate\n"
     ]
    },
    {
     "name": "stderr",
     "output_type": "stream",
     "text": [
      " 16%|█▌        | 8/50 [00:14<01:21,  1.94s/it]"
     ]
    },
    {
     "name": "stdout",
     "output_type": "stream",
     "text": [
      "sampling_grid_binary_class_alt run resampling with no certificate\n"
     ]
    },
    {
     "name": "stderr",
     "output_type": "stream",
     "text": [
      " 18%|█▊        | 9/50 [00:15<01:14,  1.83s/it]"
     ]
    },
    {
     "name": "stdout",
     "output_type": "stream",
     "text": [
      "sampling_grid_binary_class_alt run resampling with no certificate\n"
     ]
    },
    {
     "name": "stderr",
     "output_type": "stream",
     "text": [
      " 20%|██        | 10/50 [00:17<01:08,  1.71s/it]"
     ]
    },
    {
     "name": "stdout",
     "output_type": "stream",
     "text": [
      "sampling_grid_binary_class_alt run resampling with no certificate\n"
     ]
    },
    {
     "name": "stderr",
     "output_type": "stream",
     "text": [
      " 22%|██▏       | 11/50 [00:18<01:02,  1.59s/it]"
     ]
    },
    {
     "name": "stdout",
     "output_type": "stream",
     "text": [
      "sampling_grid_binary_class_alt run resampling with no certificate\n"
     ]
    },
    {
     "name": "stderr",
     "output_type": "stream",
     "text": [
      " 24%|██▍       | 12/50 [00:19<00:56,  1.49s/it]"
     ]
    },
    {
     "name": "stdout",
     "output_type": "stream",
     "text": [
      "sampling_grid_binary_class_alt run resampling with no certificate\n"
     ]
    },
    {
     "name": "stderr",
     "output_type": "stream",
     "text": [
      " 26%|██▌       | 13/50 [00:21<00:52,  1.43s/it]"
     ]
    },
    {
     "name": "stdout",
     "output_type": "stream",
     "text": [
      "sampling_grid_binary_class_alt run resampling with no certificate\n"
     ]
    },
    {
     "name": "stderr",
     "output_type": "stream",
     "text": [
      " 28%|██▊       | 14/50 [00:23<00:54,  1.52s/it]"
     ]
    },
    {
     "name": "stdout",
     "output_type": "stream",
     "text": [
      "sampling_grid_binary_class_alt run resampling with no certificate\n"
     ]
    },
    {
     "name": "stderr",
     "output_type": "stream",
     "text": [
      " 30%|███       | 15/50 [00:24<00:53,  1.53s/it]"
     ]
    },
    {
     "name": "stdout",
     "output_type": "stream",
     "text": [
      "sampling_grid_binary_class_alt run resampling with no certificate\n"
     ]
    },
    {
     "name": "stderr",
     "output_type": "stream",
     "text": [
      " 32%|███▏      | 16/50 [00:25<00:49,  1.44s/it]"
     ]
    },
    {
     "name": "stdout",
     "output_type": "stream",
     "text": [
      "sampling_grid_binary_class_alt run resampling with no certificate\n"
     ]
    },
    {
     "name": "stderr",
     "output_type": "stream",
     "text": [
      " 34%|███▍      | 17/50 [00:26<00:45,  1.37s/it]"
     ]
    },
    {
     "name": "stdout",
     "output_type": "stream",
     "text": [
      "sampling_grid_binary_class_alt run resampling with no certificate\n"
     ]
    },
    {
     "name": "stderr",
     "output_type": "stream",
     "text": [
      " 36%|███▌      | 18/50 [00:28<00:42,  1.32s/it]"
     ]
    },
    {
     "name": "stdout",
     "output_type": "stream",
     "text": [
      "sampling_grid_binary_class_alt run resampling with no certificate\n"
     ]
    },
    {
     "name": "stderr",
     "output_type": "stream",
     "text": [
      " 38%|███▊      | 19/50 [00:29<00:45,  1.46s/it]"
     ]
    },
    {
     "name": "stdout",
     "output_type": "stream",
     "text": [
      "sampling_grid_binary_class_alt run resampling with no certificate\n"
     ]
    },
    {
     "name": "stderr",
     "output_type": "stream",
     "text": [
      " 40%|████      | 20/50 [00:32<00:49,  1.66s/it]"
     ]
    },
    {
     "name": "stdout",
     "output_type": "stream",
     "text": [
      "sampling_grid_binary_class_alt run resampling with no certificate\n"
     ]
    },
    {
     "data": {
      "text/plain": "\u001B[2;36m[04/28/25 01:53:09]\u001B[0m\u001B[2;36m \u001B[0m\u001B[34mINFO    \u001B[0m                                                                           \u001B]8;id=384828;file://C:\\Users\\kyawk\\Desktop\\robustness_of_gnns_at_scale-main\\rgnn_at_scale\\attacks\\prbcd.py\u001B\\\u001B[2mprbcd.py\u001B[0m\u001B]8;;\u001B\\\u001B[2m:\u001B[0m\u001B]8;id=635798;file://C:\\Users\\kyawk\\Desktop\\robustness_of_gnns_at_scale-main\\rgnn_at_scale\\attacks\\prbcd.py#148\u001B\\\u001B[2m148\u001B[0m\u001B]8;;\u001B\\\n\u001B[2;36m                    \u001B[0m         Epoch: \u001B[1;36m20\u001B[0m Loss: \u001B[1;36m-0.5192238092422485\u001B[0m Accuracy: \u001B[1;36m75.573\u001B[0m %                    \u001B[2m            \u001B[0m\n\u001B[2;36m                    \u001B[0m                                                                                   \u001B[2m            \u001B[0m\n",
      "text/html": "<pre style=\"white-space:pre;overflow-x:auto;line-height:normal;font-family:Menlo,'DejaVu Sans Mono',consolas,'Courier New',monospace\"><span style=\"color: #7fbfbf; text-decoration-color: #7fbfbf\">[04/28/25 01:53:09] </span><span style=\"color: #000080; text-decoration-color: #000080\">INFO    </span>                                                                           <a href=\"file://C:\\Users\\kyawk\\Desktop\\robustness_of_gnns_at_scale-main\\rgnn_at_scale\\attacks\\prbcd.py\" target=\"_blank\"><span style=\"color: #7f7f7f; text-decoration-color: #7f7f7f\">prbcd.py</span></a><span style=\"color: #7f7f7f; text-decoration-color: #7f7f7f\">:</span><a href=\"file://C:\\Users\\kyawk\\Desktop\\robustness_of_gnns_at_scale-main\\rgnn_at_scale\\attacks\\prbcd.py#148\" target=\"_blank\"><span style=\"color: #7f7f7f; text-decoration-color: #7f7f7f\">148</span></a>\n<span style=\"color: #7fbfbf; text-decoration-color: #7fbfbf\">                    </span>         Epoch: <span style=\"color: #008080; text-decoration-color: #008080; font-weight: bold\">20</span> Loss: <span style=\"color: #008080; text-decoration-color: #008080; font-weight: bold\">-0.5192238092422485</span> Accuracy: <span style=\"color: #008080; text-decoration-color: #008080; font-weight: bold\">75.573</span> %                    <span style=\"color: #7f7f7f; text-decoration-color: #7f7f7f\">            </span>\n<span style=\"color: #7fbfbf; text-decoration-color: #7fbfbf\">                    </span>                                                                                   <span style=\"color: #7f7f7f; text-decoration-color: #7f7f7f\">            </span>\n</pre>\n"
     },
     "metadata": {},
     "output_type": "display_data"
    },
    {
     "name": "stderr",
     "output_type": "stream",
     "text": [
      " 42%|████▏     | 21/50 [00:33<00:46,  1.59s/it]"
     ]
    },
    {
     "name": "stdout",
     "output_type": "stream",
     "text": [
      "sampling_grid_binary_class_alt run resampling with no certificate\n"
     ]
    },
    {
     "name": "stderr",
     "output_type": "stream",
     "text": [
      " 44%|████▍     | 22/50 [00:35<00:44,  1.59s/it]"
     ]
    },
    {
     "name": "stdout",
     "output_type": "stream",
     "text": [
      "sampling_grid_binary_class_alt run resampling with no certificate\n"
     ]
    },
    {
     "name": "stderr",
     "output_type": "stream",
     "text": [
      " 46%|████▌     | 23/50 [00:36<00:40,  1.49s/it]"
     ]
    },
    {
     "name": "stdout",
     "output_type": "stream",
     "text": [
      "sampling_grid_binary_class_alt run resampling with no certificate\n"
     ]
    },
    {
     "name": "stderr",
     "output_type": "stream",
     "text": [
      " 48%|████▊     | 24/50 [00:37<00:37,  1.44s/it]"
     ]
    },
    {
     "name": "stdout",
     "output_type": "stream",
     "text": [
      "sampling_grid_binary_class_alt run resampling with no certificate\n"
     ]
    },
    {
     "data": {
      "text/plain": "\u001B[2;36m[04/28/25 01:53:15]\u001B[0m\u001B[2;36m \u001B[0m\u001B[34mINFO    \u001B[0m Loading search space of epoch \u001B[1;36m24\u001B[0m \u001B[1m(\u001B[0m\u001B[33maccuarcy\u001B[0m=\u001B[1;36m0\u001B[0m\u001B[1;36m.747826099395752\u001B[0m\u001B[1m)\u001B[0m for fine    \u001B]8;id=3678;file://C:\\Users\\kyawk\\Desktop\\robustness_of_gnns_at_scale-main\\rgnn_at_scale\\attacks\\prbcd.py\u001B\\\u001B[2mprbcd.py\u001B[0m\u001B]8;;\u001B\\\u001B[2m:\u001B[0m\u001B]8;id=56574;file://C:\\Users\\kyawk\\Desktop\\robustness_of_gnns_at_scale-main\\rgnn_at_scale\\attacks\\prbcd.py#175\u001B\\\u001B[2m175\u001B[0m\u001B]8;;\u001B\\\n\u001B[2;36m                    \u001B[0m         tuning                                                                    \u001B[2m            \u001B[0m\n\u001B[2;36m                    \u001B[0m                                                                                   \u001B[2m            \u001B[0m\n",
      "text/html": "<pre style=\"white-space:pre;overflow-x:auto;line-height:normal;font-family:Menlo,'DejaVu Sans Mono',consolas,'Courier New',monospace\"><span style=\"color: #7fbfbf; text-decoration-color: #7fbfbf\">[04/28/25 01:53:15] </span><span style=\"color: #000080; text-decoration-color: #000080\">INFO    </span> Loading search space of epoch <span style=\"color: #008080; text-decoration-color: #008080; font-weight: bold\">24</span> <span style=\"font-weight: bold\">(</span><span style=\"color: #808000; text-decoration-color: #808000\">accuarcy</span>=<span style=\"color: #008080; text-decoration-color: #008080; font-weight: bold\">0.747826099395752</span><span style=\"font-weight: bold\">)</span> for fine    <a href=\"file://C:\\Users\\kyawk\\Desktop\\robustness_of_gnns_at_scale-main\\rgnn_at_scale\\attacks\\prbcd.py\" target=\"_blank\"><span style=\"color: #7f7f7f; text-decoration-color: #7f7f7f\">prbcd.py</span></a><span style=\"color: #7f7f7f; text-decoration-color: #7f7f7f\">:</span><a href=\"file://C:\\Users\\kyawk\\Desktop\\robustness_of_gnns_at_scale-main\\rgnn_at_scale\\attacks\\prbcd.py#175\" target=\"_blank\"><span style=\"color: #7f7f7f; text-decoration-color: #7f7f7f\">175</span></a>\n<span style=\"color: #7fbfbf; text-decoration-color: #7fbfbf\">                    </span>         tuning                                                                    <span style=\"color: #7f7f7f; text-decoration-color: #7f7f7f\">            </span>\n<span style=\"color: #7fbfbf; text-decoration-color: #7fbfbf\">                    </span>                                                                                   <span style=\"color: #7f7f7f; text-decoration-color: #7f7f7f\">            </span>\n</pre>\n"
     },
     "metadata": {},
     "output_type": "display_data"
    },
    {
     "name": "stderr",
     "output_type": "stream",
     "text": [
      " 80%|████████  | 40/50 [01:00<00:11,  1.15s/it]"
     ]
    },
    {
     "data": {
      "text/plain": "\u001B[2;36m[04/28/25 01:53:37]\u001B[0m\u001B[2;36m \u001B[0m\u001B[34mINFO    \u001B[0m                                                                           \u001B]8;id=145884;file://C:\\Users\\kyawk\\Desktop\\robustness_of_gnns_at_scale-main\\rgnn_at_scale\\attacks\\prbcd.py\u001B\\\u001B[2mprbcd.py\u001B[0m\u001B]8;;\u001B\\\u001B[2m:\u001B[0m\u001B]8;id=214191;file://C:\\Users\\kyawk\\Desktop\\robustness_of_gnns_at_scale-main\\rgnn_at_scale\\attacks\\prbcd.py#148\u001B\\\u001B[2m148\u001B[0m\u001B]8;;\u001B\\\n\u001B[2;36m                    \u001B[0m         Epoch: \u001B[1;36m40\u001B[0m Loss: \u001B[1;36m-0.4880918860435486\u001B[0m Accuracy: \u001B[1;36m73.874\u001B[0m %                    \u001B[2m            \u001B[0m\n\u001B[2;36m                    \u001B[0m                                                                                   \u001B[2m            \u001B[0m\n",
      "text/html": "<pre style=\"white-space:pre;overflow-x:auto;line-height:normal;font-family:Menlo,'DejaVu Sans Mono',consolas,'Courier New',monospace\"><span style=\"color: #7fbfbf; text-decoration-color: #7fbfbf\">[04/28/25 01:53:37] </span><span style=\"color: #000080; text-decoration-color: #000080\">INFO    </span>                                                                           <a href=\"file://C:\\Users\\kyawk\\Desktop\\robustness_of_gnns_at_scale-main\\rgnn_at_scale\\attacks\\prbcd.py\" target=\"_blank\"><span style=\"color: #7f7f7f; text-decoration-color: #7f7f7f\">prbcd.py</span></a><span style=\"color: #7f7f7f; text-decoration-color: #7f7f7f\">:</span><a href=\"file://C:\\Users\\kyawk\\Desktop\\robustness_of_gnns_at_scale-main\\rgnn_at_scale\\attacks\\prbcd.py#148\" target=\"_blank\"><span style=\"color: #7f7f7f; text-decoration-color: #7f7f7f\">148</span></a>\n<span style=\"color: #7fbfbf; text-decoration-color: #7fbfbf\">                    </span>         Epoch: <span style=\"color: #008080; text-decoration-color: #008080; font-weight: bold\">40</span> Loss: <span style=\"color: #008080; text-decoration-color: #008080; font-weight: bold\">-0.4880918860435486</span> Accuracy: <span style=\"color: #008080; text-decoration-color: #008080; font-weight: bold\">73.874</span> %                    <span style=\"color: #7f7f7f; text-decoration-color: #7f7f7f\">            </span>\n<span style=\"color: #7fbfbf; text-decoration-color: #7fbfbf\">                    </span>                                                                                   <span style=\"color: #7f7f7f; text-decoration-color: #7f7f7f\">            </span>\n</pre>\n"
     },
     "metadata": {},
     "output_type": "display_data"
    },
    {
     "name": "stderr",
     "output_type": "stream",
     "text": [
      "100%|██████████| 50/50 [01:12<00:00,  1.44s/it]\n"
     ]
    },
    {
     "data": {
      "text/plain": "\u001B[2;36m[04/28/25 01:53:55]\u001B[0m\u001B[2;36m \u001B[0m\u001B[34mINFO    \u001B[0m Lock \u001B[1;36m2826158524880\u001B[0m acquired on cache\\evasion_global_adj.json.lock      \u001B]8;id=82976;file://C:\\Users\\kyawk\\anaconda3\\envs\\Masterarbeit_2_0\\Lib\\site-packages\\filelock.py\u001B\\\u001B[2mfilelock.py\u001B[0m\u001B]8;;\u001B\\\u001B[2m:\u001B[0m\u001B]8;id=786934;file://C:\\Users\\kyawk\\anaconda3\\envs\\Masterarbeit_2_0\\Lib\\site-packages\\filelock.py#274\u001B\\\u001B[2m274\u001B[0m\u001B]8;;\u001B\\\n",
      "text/html": "<pre style=\"white-space:pre;overflow-x:auto;line-height:normal;font-family:Menlo,'DejaVu Sans Mono',consolas,'Courier New',monospace\"><span style=\"color: #7fbfbf; text-decoration-color: #7fbfbf\">[04/28/25 01:53:55] </span><span style=\"color: #000080; text-decoration-color: #000080\">INFO    </span> Lock <span style=\"color: #008080; text-decoration-color: #008080; font-weight: bold\">2826158524880</span> acquired on cache\\evasion_global_adj.json.lock      <a href=\"file://C:\\Users\\kyawk\\anaconda3\\envs\\Masterarbeit_2_0\\Lib\\site-packages\\filelock.py\" target=\"_blank\"><span style=\"color: #7f7f7f; text-decoration-color: #7f7f7f\">filelock.py</span></a><span style=\"color: #7f7f7f; text-decoration-color: #7f7f7f\">:</span><a href=\"file://C:\\Users\\kyawk\\anaconda3\\envs\\Masterarbeit_2_0\\Lib\\site-packages\\filelock.py#274\" target=\"_blank\"><span style=\"color: #7f7f7f; text-decoration-color: #7f7f7f\">274</span></a>\n</pre>\n"
     },
     "metadata": {},
     "output_type": "display_data"
    },
    {
     "data": {
      "text/plain": "\u001B[2;36m                   \u001B[0m\u001B[2;36m \u001B[0m\u001B[34mINFO    \u001B[0m Lock \u001B[1;36m2826158524880\u001B[0m released on cache\\evasion_global_adj.json.lock      \u001B]8;id=642834;file://C:\\Users\\kyawk\\anaconda3\\envs\\Masterarbeit_2_0\\Lib\\site-packages\\filelock.py\u001B\\\u001B[2mfilelock.py\u001B[0m\u001B]8;;\u001B\\\u001B[2m:\u001B[0m\u001B]8;id=165171;file://C:\\Users\\kyawk\\anaconda3\\envs\\Masterarbeit_2_0\\Lib\\site-packages\\filelock.py#318\u001B\\\u001B[2m318\u001B[0m\u001B]8;;\u001B\\\n",
      "text/html": "<pre style=\"white-space:pre;overflow-x:auto;line-height:normal;font-family:Menlo,'DejaVu Sans Mono',consolas,'Courier New',monospace\"><span style=\"color: #7fbfbf; text-decoration-color: #7fbfbf\">                    </span><span style=\"color: #000080; text-decoration-color: #000080\">INFO    </span> Lock <span style=\"color: #008080; text-decoration-color: #008080; font-weight: bold\">2826158524880</span> released on cache\\evasion_global_adj.json.lock      <a href=\"file://C:\\Users\\kyawk\\anaconda3\\envs\\Masterarbeit_2_0\\Lib\\site-packages\\filelock.py\" target=\"_blank\"><span style=\"color: #7f7f7f; text-decoration-color: #7f7f7f\">filelock.py</span></a><span style=\"color: #7f7f7f; text-decoration-color: #7f7f7f\">:</span><a href=\"file://C:\\Users\\kyawk\\anaconda3\\envs\\Masterarbeit_2_0\\Lib\\site-packages\\filelock.py#318\" target=\"_blank\"><span style=\"color: #7f7f7f; text-decoration-color: #7f7f7f\">318</span></a>\n</pre>\n"
     },
     "metadata": {},
     "output_type": "display_data"
    },
    {
     "data": {
      "text/plain": "\u001B[2;36m                   \u001B[0m\u001B[2;36m \u001B[0m\u001B[34mINFO    \u001B[0m Lock \u001B[1;36m2825951531984\u001B[0m acquired on cache\\evasion_global_attr.json.lock     \u001B]8;id=626688;file://C:\\Users\\kyawk\\anaconda3\\envs\\Masterarbeit_2_0\\Lib\\site-packages\\filelock.py\u001B\\\u001B[2mfilelock.py\u001B[0m\u001B]8;;\u001B\\\u001B[2m:\u001B[0m\u001B]8;id=581273;file://C:\\Users\\kyawk\\anaconda3\\envs\\Masterarbeit_2_0\\Lib\\site-packages\\filelock.py#274\u001B\\\u001B[2m274\u001B[0m\u001B]8;;\u001B\\\n",
      "text/html": "<pre style=\"white-space:pre;overflow-x:auto;line-height:normal;font-family:Menlo,'DejaVu Sans Mono',consolas,'Courier New',monospace\"><span style=\"color: #7fbfbf; text-decoration-color: #7fbfbf\">                    </span><span style=\"color: #000080; text-decoration-color: #000080\">INFO    </span> Lock <span style=\"color: #008080; text-decoration-color: #008080; font-weight: bold\">2825951531984</span> acquired on cache\\evasion_global_attr.json.lock     <a href=\"file://C:\\Users\\kyawk\\anaconda3\\envs\\Masterarbeit_2_0\\Lib\\site-packages\\filelock.py\" target=\"_blank\"><span style=\"color: #7f7f7f; text-decoration-color: #7f7f7f\">filelock.py</span></a><span style=\"color: #7f7f7f; text-decoration-color: #7f7f7f\">:</span><a href=\"file://C:\\Users\\kyawk\\anaconda3\\envs\\Masterarbeit_2_0\\Lib\\site-packages\\filelock.py#274\" target=\"_blank\"><span style=\"color: #7f7f7f; text-decoration-color: #7f7f7f\">274</span></a>\n</pre>\n"
     },
     "metadata": {},
     "output_type": "display_data"
    },
    {
     "data": {
      "text/plain": "\u001B[2;36m                   \u001B[0m\u001B[2;36m \u001B[0m\u001B[34mINFO    \u001B[0m Lock \u001B[1;36m2825951531984\u001B[0m released on cache\\evasion_global_attr.json.lock     \u001B]8;id=456805;file://C:\\Users\\kyawk\\anaconda3\\envs\\Masterarbeit_2_0\\Lib\\site-packages\\filelock.py\u001B\\\u001B[2mfilelock.py\u001B[0m\u001B]8;;\u001B\\\u001B[2m:\u001B[0m\u001B]8;id=228768;file://C:\\Users\\kyawk\\anaconda3\\envs\\Masterarbeit_2_0\\Lib\\site-packages\\filelock.py#318\u001B\\\u001B[2m318\u001B[0m\u001B]8;;\u001B\\\n",
      "text/html": "<pre style=\"white-space:pre;overflow-x:auto;line-height:normal;font-family:Menlo,'DejaVu Sans Mono',consolas,'Courier New',monospace\"><span style=\"color: #7fbfbf; text-decoration-color: #7fbfbf\">                    </span><span style=\"color: #000080; text-decoration-color: #000080\">INFO    </span> Lock <span style=\"color: #008080; text-decoration-color: #008080; font-weight: bold\">2825951531984</span> released on cache\\evasion_global_attr.json.lock     <a href=\"file://C:\\Users\\kyawk\\anaconda3\\envs\\Masterarbeit_2_0\\Lib\\site-packages\\filelock.py\" target=\"_blank\"><span style=\"color: #7f7f7f; text-decoration-color: #7f7f7f\">filelock.py</span></a><span style=\"color: #7f7f7f; text-decoration-color: #7f7f7f\">:</span><a href=\"file://C:\\Users\\kyawk\\anaconda3\\envs\\Masterarbeit_2_0\\Lib\\site-packages\\filelock.py#318\" target=\"_blank\"><span style=\"color: #7f7f7f; text-decoration-color: #7f7f7f\">318</span></a>\n</pre>\n"
     },
     "metadata": {},
     "output_type": "display_data"
    },
    {
     "name": "stdout",
     "output_type": "stream",
     "text": [
      "time:  82.01152889989316\n",
      "sampling_grid_binary_class_alt: \n",
      "{'results': [{'label': 'Vanilla GCN', 'epsilon': 0.25, 'accuracy': 0.7347826361656189}]}\n",
      "Deleted file: cache\\evasion_global_adj.json\n",
      "Deleted file: cache\\evasion_global_attr.json\n",
      "Deleted directory: cache\\evasion_global_adj\n",
      "Deleted directory: cache\\evasion_global_attr\n"
     ]
    },
    {
     "data": {
      "text/plain": "\u001B[2;36m[04/28/25 01:53:56]\u001B[0m\u001B[2;36m \u001B[0m\u001B[34mINFO    \u001B[0m \u001B[1m{\u001B[0m\u001B[32m'dataset'\u001B[0m: \u001B[32m'cora_ml'\u001B[0m, \u001B[32m'attack'\u001B[0m: \u001B[32m'PRBCD'\u001B[0m, \u001B[32m'attack_params'\u001B[0m: \u001B[1m{\u001B[0m\u001B[32m'epochs'\u001B[0m: \u001B[1;36m50\u001B[0m, \u001B]8;id=122128;file://C:\\Users\\kyawk\\Desktop\\robustness_of_gnns_at_scale-main\\experiments\\common.py\u001B\\\u001B[2mcommon.py\u001B[0m\u001B]8;;\u001B\\\u001B[2m:\u001B[0m\u001B]8;id=713604;file://C:\\Users\\kyawk\\Desktop\\robustness_of_gnns_at_scale-main\\experiments\\common.py#38\u001B\\\u001B[2m38\u001B[0m\u001B]8;;\u001B\\\n\u001B[2;36m                    \u001B[0m         \u001B[32m'fine_tune_epochs'\u001B[0m: \u001B[1;36m25\u001B[0m, \u001B[32m'keep_heuristic'\u001B[0m: \u001B[32m'WeightOnly'\u001B[0m,                   \u001B[2m            \u001B[0m\n\u001B[2;36m                    \u001B[0m         \u001B[32m'search_space_size'\u001B[0m: \u001B[1;36m100000\u001B[0m, \u001B[32m'block_size'\u001B[0m: \u001B[1;36m2000\u001B[0m, \u001B[32m'do_synchronize'\u001B[0m: \u001B[3;92mTrue\u001B[0m,  \u001B[2m            \u001B[0m\n\u001B[2;36m                    \u001B[0m         \u001B[32m'loss_type'\u001B[0m: \u001B[32m'tanhMargin'\u001B[0m\u001B[1m}\u001B[0m, \u001B[32m'epsilons'\u001B[0m: \u001B[1m[\u001B[0m\u001B[1;36m0.25\u001B[0m\u001B[1m]\u001B[0m, \u001B[32m'make_undirected'\u001B[0m: \u001B[3;92mTrue\u001B[0m,  \u001B[2m            \u001B[0m\n\u001B[2;36m                    \u001B[0m         \u001B[32m'binary_attr'\u001B[0m: \u001B[3;91mFalse\u001B[0m, \u001B[32m'seed'\u001B[0m: \u001B[1;36m0\u001B[0m, \u001B[32m'artifact_dir'\u001B[0m: \u001B[32m'cache'\u001B[0m,                 \u001B[2m            \u001B[0m\n\u001B[2;36m                    \u001B[0m         \u001B[32m'pert_adj_storage_type'\u001B[0m: \u001B[32m'evasion_global_adj'\u001B[0m, \u001B[32m'pert_attr_storage_type'\u001B[0m:  \u001B[2m            \u001B[0m\n\u001B[2;36m                    \u001B[0m         \u001B[32m'evasion_global_attr'\u001B[0m, \u001B[32m'model_label'\u001B[0m: \u001B[32m'Vanilla GCN'\u001B[0m,                      \u001B[2m            \u001B[0m\n\u001B[2;36m                    \u001B[0m         \u001B[32m'model_storage_type'\u001B[0m: \u001B[32m'demo'\u001B[0m, \u001B[32m'device'\u001B[0m: \u001B[32m'cpu'\u001B[0m, \u001B[32m'data_device'\u001B[0m: \u001B[32m'cpu'\u001B[0m\u001B[1m}\u001B[0m      \u001B[2m            \u001B[0m\n",
      "text/html": "<pre style=\"white-space:pre;overflow-x:auto;line-height:normal;font-family:Menlo,'DejaVu Sans Mono',consolas,'Courier New',monospace\"><span style=\"color: #7fbfbf; text-decoration-color: #7fbfbf\">[04/28/25 01:53:56] </span><span style=\"color: #000080; text-decoration-color: #000080\">INFO    </span> <span style=\"font-weight: bold\">{</span><span style=\"color: #008000; text-decoration-color: #008000\">'dataset'</span>: <span style=\"color: #008000; text-decoration-color: #008000\">'cora_ml'</span>, <span style=\"color: #008000; text-decoration-color: #008000\">'attack'</span>: <span style=\"color: #008000; text-decoration-color: #008000\">'PRBCD'</span>, <span style=\"color: #008000; text-decoration-color: #008000\">'attack_params'</span>: <span style=\"font-weight: bold\">{</span><span style=\"color: #008000; text-decoration-color: #008000\">'epochs'</span>: <span style=\"color: #008080; text-decoration-color: #008080; font-weight: bold\">50</span>, <a href=\"file://C:\\Users\\kyawk\\Desktop\\robustness_of_gnns_at_scale-main\\experiments\\common.py\" target=\"_blank\"><span style=\"color: #7f7f7f; text-decoration-color: #7f7f7f\">common.py</span></a><span style=\"color: #7f7f7f; text-decoration-color: #7f7f7f\">:</span><a href=\"file://C:\\Users\\kyawk\\Desktop\\robustness_of_gnns_at_scale-main\\experiments\\common.py#38\" target=\"_blank\"><span style=\"color: #7f7f7f; text-decoration-color: #7f7f7f\">38</span></a>\n<span style=\"color: #7fbfbf; text-decoration-color: #7fbfbf\">                    </span>         <span style=\"color: #008000; text-decoration-color: #008000\">'fine_tune_epochs'</span>: <span style=\"color: #008080; text-decoration-color: #008080; font-weight: bold\">25</span>, <span style=\"color: #008000; text-decoration-color: #008000\">'keep_heuristic'</span>: <span style=\"color: #008000; text-decoration-color: #008000\">'WeightOnly'</span>,                   <span style=\"color: #7f7f7f; text-decoration-color: #7f7f7f\">            </span>\n<span style=\"color: #7fbfbf; text-decoration-color: #7fbfbf\">                    </span>         <span style=\"color: #008000; text-decoration-color: #008000\">'search_space_size'</span>: <span style=\"color: #008080; text-decoration-color: #008080; font-weight: bold\">100000</span>, <span style=\"color: #008000; text-decoration-color: #008000\">'block_size'</span>: <span style=\"color: #008080; text-decoration-color: #008080; font-weight: bold\">2000</span>, <span style=\"color: #008000; text-decoration-color: #008000\">'do_synchronize'</span>: <span style=\"color: #00ff00; text-decoration-color: #00ff00; font-style: italic\">True</span>,  <span style=\"color: #7f7f7f; text-decoration-color: #7f7f7f\">            </span>\n<span style=\"color: #7fbfbf; text-decoration-color: #7fbfbf\">                    </span>         <span style=\"color: #008000; text-decoration-color: #008000\">'loss_type'</span>: <span style=\"color: #008000; text-decoration-color: #008000\">'tanhMargin'</span><span style=\"font-weight: bold\">}</span>, <span style=\"color: #008000; text-decoration-color: #008000\">'epsilons'</span>: <span style=\"font-weight: bold\">[</span><span style=\"color: #008080; text-decoration-color: #008080; font-weight: bold\">0.25</span><span style=\"font-weight: bold\">]</span>, <span style=\"color: #008000; text-decoration-color: #008000\">'make_undirected'</span>: <span style=\"color: #00ff00; text-decoration-color: #00ff00; font-style: italic\">True</span>,  <span style=\"color: #7f7f7f; text-decoration-color: #7f7f7f\">            </span>\n<span style=\"color: #7fbfbf; text-decoration-color: #7fbfbf\">                    </span>         <span style=\"color: #008000; text-decoration-color: #008000\">'binary_attr'</span>: <span style=\"color: #ff0000; text-decoration-color: #ff0000; font-style: italic\">False</span>, <span style=\"color: #008000; text-decoration-color: #008000\">'seed'</span>: <span style=\"color: #008080; text-decoration-color: #008080; font-weight: bold\">0</span>, <span style=\"color: #008000; text-decoration-color: #008000\">'artifact_dir'</span>: <span style=\"color: #008000; text-decoration-color: #008000\">'cache'</span>,                 <span style=\"color: #7f7f7f; text-decoration-color: #7f7f7f\">            </span>\n<span style=\"color: #7fbfbf; text-decoration-color: #7fbfbf\">                    </span>         <span style=\"color: #008000; text-decoration-color: #008000\">'pert_adj_storage_type'</span>: <span style=\"color: #008000; text-decoration-color: #008000\">'evasion_global_adj'</span>, <span style=\"color: #008000; text-decoration-color: #008000\">'pert_attr_storage_type'</span>:  <span style=\"color: #7f7f7f; text-decoration-color: #7f7f7f\">            </span>\n<span style=\"color: #7fbfbf; text-decoration-color: #7fbfbf\">                    </span>         <span style=\"color: #008000; text-decoration-color: #008000\">'evasion_global_attr'</span>, <span style=\"color: #008000; text-decoration-color: #008000\">'model_label'</span>: <span style=\"color: #008000; text-decoration-color: #008000\">'Vanilla GCN'</span>,                      <span style=\"color: #7f7f7f; text-decoration-color: #7f7f7f\">            </span>\n<span style=\"color: #7fbfbf; text-decoration-color: #7fbfbf\">                    </span>         <span style=\"color: #008000; text-decoration-color: #008000\">'model_storage_type'</span>: <span style=\"color: #008000; text-decoration-color: #008000\">'demo'</span>, <span style=\"color: #008000; text-decoration-color: #008000\">'device'</span>: <span style=\"color: #008000; text-decoration-color: #008000\">'cpu'</span>, <span style=\"color: #008000; text-decoration-color: #008000\">'data_device'</span>: <span style=\"color: #008000; text-decoration-color: #008000\">'cpu'</span><span style=\"font-weight: bold\">}</span>      <span style=\"color: #7f7f7f; text-decoration-color: #7f7f7f\">            </span>\n</pre>\n"
     },
     "metadata": {},
     "output_type": "display_data"
    },
    {
     "data": {
      "text/plain": "\u001B[2;36m                   \u001B[0m\u001B[2;36m \u001B[0m\u001B[34mINFO    \u001B[0m Lock \u001B[1;36m2825971566800\u001B[0m acquired on cache\\demo.json.lock                    \u001B]8;id=198079;file://C:\\Users\\kyawk\\anaconda3\\envs\\Masterarbeit_2_0\\Lib\\site-packages\\filelock.py\u001B\\\u001B[2mfilelock.py\u001B[0m\u001B]8;;\u001B\\\u001B[2m:\u001B[0m\u001B]8;id=804500;file://C:\\Users\\kyawk\\anaconda3\\envs\\Masterarbeit_2_0\\Lib\\site-packages\\filelock.py#274\u001B\\\u001B[2m274\u001B[0m\u001B]8;;\u001B\\\n",
      "text/html": "<pre style=\"white-space:pre;overflow-x:auto;line-height:normal;font-family:Menlo,'DejaVu Sans Mono',consolas,'Courier New',monospace\"><span style=\"color: #7fbfbf; text-decoration-color: #7fbfbf\">                    </span><span style=\"color: #000080; text-decoration-color: #000080\">INFO    </span> Lock <span style=\"color: #008080; text-decoration-color: #008080; font-weight: bold\">2825971566800</span> acquired on cache\\demo.json.lock                    <a href=\"file://C:\\Users\\kyawk\\anaconda3\\envs\\Masterarbeit_2_0\\Lib\\site-packages\\filelock.py\" target=\"_blank\"><span style=\"color: #7f7f7f; text-decoration-color: #7f7f7f\">filelock.py</span></a><span style=\"color: #7f7f7f; text-decoration-color: #7f7f7f\">:</span><a href=\"file://C:\\Users\\kyawk\\anaconda3\\envs\\Masterarbeit_2_0\\Lib\\site-packages\\filelock.py#274\" target=\"_blank\"><span style=\"color: #7f7f7f; text-decoration-color: #7f7f7f\">274</span></a>\n</pre>\n"
     },
     "metadata": {},
     "output_type": "display_data"
    },
    {
     "data": {
      "text/plain": "\u001B[2;36m                   \u001B[0m\u001B[2;36m \u001B[0m\u001B[34mINFO    \u001B[0m Lock \u001B[1;36m2825971566800\u001B[0m released on cache\\demo.json.lock                    \u001B]8;id=121982;file://C:\\Users\\kyawk\\anaconda3\\envs\\Masterarbeit_2_0\\Lib\\site-packages\\filelock.py\u001B\\\u001B[2mfilelock.py\u001B[0m\u001B]8;;\u001B\\\u001B[2m:\u001B[0m\u001B]8;id=697991;file://C:\\Users\\kyawk\\anaconda3\\envs\\Masterarbeit_2_0\\Lib\\site-packages\\filelock.py#318\u001B\\\u001B[2m318\u001B[0m\u001B]8;;\u001B\\\n",
      "text/html": "<pre style=\"white-space:pre;overflow-x:auto;line-height:normal;font-family:Menlo,'DejaVu Sans Mono',consolas,'Courier New',monospace\"><span style=\"color: #7fbfbf; text-decoration-color: #7fbfbf\">                    </span><span style=\"color: #000080; text-decoration-color: #000080\">INFO    </span> Lock <span style=\"color: #008080; text-decoration-color: #008080; font-weight: bold\">2825971566800</span> released on cache\\demo.json.lock                    <a href=\"file://C:\\Users\\kyawk\\anaconda3\\envs\\Masterarbeit_2_0\\Lib\\site-packages\\filelock.py\" target=\"_blank\"><span style=\"color: #7f7f7f; text-decoration-color: #7f7f7f\">filelock.py</span></a><span style=\"color: #7f7f7f; text-decoration-color: #7f7f7f\">:</span><a href=\"file://C:\\Users\\kyawk\\anaconda3\\envs\\Masterarbeit_2_0\\Lib\\site-packages\\filelock.py#318\" target=\"_blank\"><span style=\"color: #7f7f7f; text-decoration-color: #7f7f7f\">318</span></a>\n</pre>\n"
     },
     "metadata": {},
     "output_type": "display_data"
    },
    {
     "data": {
      "text/plain": "\u001B[2;36m                   \u001B[0m\u001B[2;36m \u001B[0m\u001B[34mINFO    \u001B[0m Evaluate  PRBCD for model \u001B[32m'Vanilla GCN'\u001B[0m.        \u001B]8;id=575759;file://C:\\Users\\kyawk\\Desktop\\robustness_of_gnns_at_scale-main\\experiments\\experiment_global_attack_direct.py\u001B\\\u001B[2mexperiment_global_attack_direct.py\u001B[0m\u001B]8;;\u001B\\\u001B[2m:\u001B[0m\u001B]8;id=223249;file://C:\\Users\\kyawk\\Desktop\\robustness_of_gnns_at_scale-main\\experiments\\experiment_global_attack_direct.py#139\u001B\\\u001B[2m139\u001B[0m\u001B]8;;\u001B\\\n",
      "text/html": "<pre style=\"white-space:pre;overflow-x:auto;line-height:normal;font-family:Menlo,'DejaVu Sans Mono',consolas,'Courier New',monospace\"><span style=\"color: #7fbfbf; text-decoration-color: #7fbfbf\">                    </span><span style=\"color: #000080; text-decoration-color: #000080\">INFO    </span> Evaluate  PRBCD for model <span style=\"color: #008000; text-decoration-color: #008000\">'Vanilla GCN'</span>.        <a href=\"file://C:\\Users\\kyawk\\Desktop\\robustness_of_gnns_at_scale-main\\experiments\\experiment_global_attack_direct.py\" target=\"_blank\"><span style=\"color: #7f7f7f; text-decoration-color: #7f7f7f\">experiment_global_attack_direct.py</span></a><span style=\"color: #7f7f7f; text-decoration-color: #7f7f7f\">:</span><a href=\"file://C:\\Users\\kyawk\\Desktop\\robustness_of_gnns_at_scale-main\\experiments\\experiment_global_attack_direct.py#139\" target=\"_blank\"><span style=\"color: #7f7f7f; text-decoration-color: #7f7f7f\">139</span></a>\n</pre>\n"
     },
     "metadata": {},
     "output_type": "display_data"
    },
    {
     "data": {
      "text/plain": "\u001B[2;36m                   \u001B[0m\u001B[2;36m \u001B[0m\u001B[34mINFO    \u001B[0m Lock \u001B[1;36m2826017598224\u001B[0m acquired on cache\\evasion_global_adj.json.lock      \u001B]8;id=854850;file://C:\\Users\\kyawk\\anaconda3\\envs\\Masterarbeit_2_0\\Lib\\site-packages\\filelock.py\u001B\\\u001B[2mfilelock.py\u001B[0m\u001B]8;;\u001B\\\u001B[2m:\u001B[0m\u001B]8;id=99022;file://C:\\Users\\kyawk\\anaconda3\\envs\\Masterarbeit_2_0\\Lib\\site-packages\\filelock.py#274\u001B\\\u001B[2m274\u001B[0m\u001B]8;;\u001B\\\n",
      "text/html": "<pre style=\"white-space:pre;overflow-x:auto;line-height:normal;font-family:Menlo,'DejaVu Sans Mono',consolas,'Courier New',monospace\"><span style=\"color: #7fbfbf; text-decoration-color: #7fbfbf\">                    </span><span style=\"color: #000080; text-decoration-color: #000080\">INFO    </span> Lock <span style=\"color: #008080; text-decoration-color: #008080; font-weight: bold\">2826017598224</span> acquired on cache\\evasion_global_adj.json.lock      <a href=\"file://C:\\Users\\kyawk\\anaconda3\\envs\\Masterarbeit_2_0\\Lib\\site-packages\\filelock.py\" target=\"_blank\"><span style=\"color: #7f7f7f; text-decoration-color: #7f7f7f\">filelock.py</span></a><span style=\"color: #7f7f7f; text-decoration-color: #7f7f7f\">:</span><a href=\"file://C:\\Users\\kyawk\\anaconda3\\envs\\Masterarbeit_2_0\\Lib\\site-packages\\filelock.py#274\" target=\"_blank\"><span style=\"color: #7f7f7f; text-decoration-color: #7f7f7f\">274</span></a>\n</pre>\n"
     },
     "metadata": {},
     "output_type": "display_data"
    },
    {
     "data": {
      "text/plain": "\u001B[2;36m                   \u001B[0m\u001B[2;36m \u001B[0m\u001B[34mINFO    \u001B[0m Lock \u001B[1;36m2826017598224\u001B[0m released on cache\\evasion_global_adj.json.lock      \u001B]8;id=688636;file://C:\\Users\\kyawk\\anaconda3\\envs\\Masterarbeit_2_0\\Lib\\site-packages\\filelock.py\u001B\\\u001B[2mfilelock.py\u001B[0m\u001B]8;;\u001B\\\u001B[2m:\u001B[0m\u001B]8;id=132681;file://C:\\Users\\kyawk\\anaconda3\\envs\\Masterarbeit_2_0\\Lib\\site-packages\\filelock.py#318\u001B\\\u001B[2m318\u001B[0m\u001B]8;;\u001B\\\n",
      "text/html": "<pre style=\"white-space:pre;overflow-x:auto;line-height:normal;font-family:Menlo,'DejaVu Sans Mono',consolas,'Courier New',monospace\"><span style=\"color: #7fbfbf; text-decoration-color: #7fbfbf\">                    </span><span style=\"color: #000080; text-decoration-color: #000080\">INFO    </span> Lock <span style=\"color: #008080; text-decoration-color: #008080; font-weight: bold\">2826017598224</span> released on cache\\evasion_global_adj.json.lock      <a href=\"file://C:\\Users\\kyawk\\anaconda3\\envs\\Masterarbeit_2_0\\Lib\\site-packages\\filelock.py\" target=\"_blank\"><span style=\"color: #7f7f7f; text-decoration-color: #7f7f7f\">filelock.py</span></a><span style=\"color: #7f7f7f; text-decoration-color: #7f7f7f\">:</span><a href=\"file://C:\\Users\\kyawk\\anaconda3\\envs\\Masterarbeit_2_0\\Lib\\site-packages\\filelock.py#318\" target=\"_blank\"><span style=\"color: #7f7f7f; text-decoration-color: #7f7f7f\">318</span></a>\n</pre>\n"
     },
     "metadata": {},
     "output_type": "display_data"
    },
    {
     "data": {
      "text/plain": "\u001B[2;36m                   \u001B[0m\u001B[2;36m \u001B[0m\u001B[34mINFO    \u001B[0m Lock \u001B[1;36m2826230991248\u001B[0m acquired on cache\\evasion_global_attr.json.lock     \u001B]8;id=619350;file://C:\\Users\\kyawk\\anaconda3\\envs\\Masterarbeit_2_0\\Lib\\site-packages\\filelock.py\u001B\\\u001B[2mfilelock.py\u001B[0m\u001B]8;;\u001B\\\u001B[2m:\u001B[0m\u001B]8;id=881463;file://C:\\Users\\kyawk\\anaconda3\\envs\\Masterarbeit_2_0\\Lib\\site-packages\\filelock.py#274\u001B\\\u001B[2m274\u001B[0m\u001B]8;;\u001B\\\n",
      "text/html": "<pre style=\"white-space:pre;overflow-x:auto;line-height:normal;font-family:Menlo,'DejaVu Sans Mono',consolas,'Courier New',monospace\"><span style=\"color: #7fbfbf; text-decoration-color: #7fbfbf\">                    </span><span style=\"color: #000080; text-decoration-color: #000080\">INFO    </span> Lock <span style=\"color: #008080; text-decoration-color: #008080; font-weight: bold\">2826230991248</span> acquired on cache\\evasion_global_attr.json.lock     <a href=\"file://C:\\Users\\kyawk\\anaconda3\\envs\\Masterarbeit_2_0\\Lib\\site-packages\\filelock.py\" target=\"_blank\"><span style=\"color: #7f7f7f; text-decoration-color: #7f7f7f\">filelock.py</span></a><span style=\"color: #7f7f7f; text-decoration-color: #7f7f7f\">:</span><a href=\"file://C:\\Users\\kyawk\\anaconda3\\envs\\Masterarbeit_2_0\\Lib\\site-packages\\filelock.py#274\" target=\"_blank\"><span style=\"color: #7f7f7f; text-decoration-color: #7f7f7f\">274</span></a>\n</pre>\n"
     },
     "metadata": {},
     "output_type": "display_data"
    },
    {
     "data": {
      "text/plain": "\u001B[2;36m                   \u001B[0m\u001B[2;36m \u001B[0m\u001B[34mINFO    \u001B[0m Lock \u001B[1;36m2826230991248\u001B[0m released on cache\\evasion_global_attr.json.lock     \u001B]8;id=355472;file://C:\\Users\\kyawk\\anaconda3\\envs\\Masterarbeit_2_0\\Lib\\site-packages\\filelock.py\u001B\\\u001B[2mfilelock.py\u001B[0m\u001B]8;;\u001B\\\u001B[2m:\u001B[0m\u001B]8;id=602519;file://C:\\Users\\kyawk\\anaconda3\\envs\\Masterarbeit_2_0\\Lib\\site-packages\\filelock.py#318\u001B\\\u001B[2m318\u001B[0m\u001B]8;;\u001B\\\n",
      "text/html": "<pre style=\"white-space:pre;overflow-x:auto;line-height:normal;font-family:Menlo,'DejaVu Sans Mono',consolas,'Courier New',monospace\"><span style=\"color: #7fbfbf; text-decoration-color: #7fbfbf\">                    </span><span style=\"color: #000080; text-decoration-color: #000080\">INFO    </span> Lock <span style=\"color: #008080; text-decoration-color: #008080; font-weight: bold\">2826230991248</span> released on cache\\evasion_global_attr.json.lock     <a href=\"file://C:\\Users\\kyawk\\anaconda3\\envs\\Masterarbeit_2_0\\Lib\\site-packages\\filelock.py\" target=\"_blank\"><span style=\"color: #7f7f7f; text-decoration-color: #7f7f7f\">filelock.py</span></a><span style=\"color: #7f7f7f; text-decoration-color: #7f7f7f\">:</span><a href=\"file://C:\\Users\\kyawk\\anaconda3\\envs\\Masterarbeit_2_0\\Lib\\site-packages\\filelock.py#318\" target=\"_blank\"><span style=\"color: #7f7f7f; text-decoration-color: #7f7f7f\">318</span></a>\n</pre>\n"
     },
     "metadata": {},
     "output_type": "display_data"
    },
    {
     "data": {
      "text/plain": "\u001B[2;36m                   \u001B[0m\u001B[2;36m \u001B[0m\u001B[34mINFO    \u001B[0m No cached perturbations found for model \u001B[32m'Vanilla GCN'\u001B[0m and eps \u001B[1;36m0.25\u001B[0m.      \u001B]8;id=861879;file://C:\\Users\\kyawk\\Desktop\\robustness_of_gnns_at_scale-main\\experiments\\common.py\u001B\\\u001B[2mcommon.py\u001B[0m\u001B]8;;\u001B\\\u001B[2m:\u001B[0m\u001B]8;id=63888;file://C:\\Users\\kyawk\\Desktop\\robustness_of_gnns_at_scale-main\\experiments\\common.py#109\u001B\\\u001B[2m109\u001B[0m\u001B]8;;\u001B\\\n\u001B[2;36m                    \u001B[0m         Execute attack\u001B[33m...\u001B[0m                                                        \u001B[2m             \u001B[0m\n",
      "text/html": "<pre style=\"white-space:pre;overflow-x:auto;line-height:normal;font-family:Menlo,'DejaVu Sans Mono',consolas,'Courier New',monospace\"><span style=\"color: #7fbfbf; text-decoration-color: #7fbfbf\">                    </span><span style=\"color: #000080; text-decoration-color: #000080\">INFO    </span> No cached perturbations found for model <span style=\"color: #008000; text-decoration-color: #008000\">'Vanilla GCN'</span> and eps <span style=\"color: #008080; text-decoration-color: #008080; font-weight: bold\">0.25</span>.      <a href=\"file://C:\\Users\\kyawk\\Desktop\\robustness_of_gnns_at_scale-main\\experiments\\common.py\" target=\"_blank\"><span style=\"color: #7f7f7f; text-decoration-color: #7f7f7f\">common.py</span></a><span style=\"color: #7f7f7f; text-decoration-color: #7f7f7f\">:</span><a href=\"file://C:\\Users\\kyawk\\Desktop\\robustness_of_gnns_at_scale-main\\experiments\\common.py#109\" target=\"_blank\"><span style=\"color: #7f7f7f; text-decoration-color: #7f7f7f\">109</span></a>\n<span style=\"color: #7fbfbf; text-decoration-color: #7fbfbf\">                    </span>         Execute attack<span style=\"color: #808000; text-decoration-color: #808000\">...</span>                                                        <span style=\"color: #7f7f7f; text-decoration-color: #7f7f7f\">             </span>\n</pre>\n"
     },
     "metadata": {},
     "output_type": "display_data"
    },
    {
     "name": "stdout",
     "output_type": "stream",
     "text": [
      "none run sampling with no certificate\n"
     ]
    },
    {
     "data": {
      "text/plain": "\u001B[2;36m[04/28/25 01:53:57]\u001B[0m\u001B[2;36m \u001B[0m\u001B[34mINFO    \u001B[0m                                                                           \u001B]8;id=756830;file://C:\\Users\\kyawk\\Desktop\\robustness_of_gnns_at_scale-main\\rgnn_at_scale\\attacks\\prbcd.py\u001B\\\u001B[2mprbcd.py\u001B[0m\u001B]8;;\u001B\\\u001B[2m:\u001B[0m\u001B]8;id=211981;file://C:\\Users\\kyawk\\Desktop\\robustness_of_gnns_at_scale-main\\rgnn_at_scale\\attacks\\prbcd.py#102\u001B\\\u001B[2m102\u001B[0m\u001B]8;;\u001B\\\n\u001B[2;36m                    \u001B[0m         Before the attack - Loss: \u001B[1;36m-0.6509091258049011\u001B[0m Accuracy: \u001B[1;36m83.478\u001B[0m %          \u001B[2m            \u001B[0m\n\u001B[2;36m                    \u001B[0m                                                                                   \u001B[2m            \u001B[0m\n",
      "text/html": "<pre style=\"white-space:pre;overflow-x:auto;line-height:normal;font-family:Menlo,'DejaVu Sans Mono',consolas,'Courier New',monospace\"><span style=\"color: #7fbfbf; text-decoration-color: #7fbfbf\">[04/28/25 01:53:57] </span><span style=\"color: #000080; text-decoration-color: #000080\">INFO    </span>                                                                           <a href=\"file://C:\\Users\\kyawk\\Desktop\\robustness_of_gnns_at_scale-main\\rgnn_at_scale\\attacks\\prbcd.py\" target=\"_blank\"><span style=\"color: #7f7f7f; text-decoration-color: #7f7f7f\">prbcd.py</span></a><span style=\"color: #7f7f7f; text-decoration-color: #7f7f7f\">:</span><a href=\"file://C:\\Users\\kyawk\\Desktop\\robustness_of_gnns_at_scale-main\\rgnn_at_scale\\attacks\\prbcd.py#102\" target=\"_blank\"><span style=\"color: #7f7f7f; text-decoration-color: #7f7f7f\">102</span></a>\n<span style=\"color: #7fbfbf; text-decoration-color: #7fbfbf\">                    </span>         Before the attack - Loss: <span style=\"color: #008080; text-decoration-color: #008080; font-weight: bold\">-0.6509091258049011</span> Accuracy: <span style=\"color: #008080; text-decoration-color: #008080; font-weight: bold\">83.478</span> %          <span style=\"color: #7f7f7f; text-decoration-color: #7f7f7f\">            </span>\n<span style=\"color: #7fbfbf; text-decoration-color: #7fbfbf\">                    </span>                                                                                   <span style=\"color: #7f7f7f; text-decoration-color: #7f7f7f\">            </span>\n</pre>\n"
     },
     "metadata": {},
     "output_type": "display_data"
    },
    {
     "name": "stderr",
     "output_type": "stream",
     "text": [
      "  0%|          | 0/50 [00:00<?, ?it/s]"
     ]
    },
    {
     "data": {
      "text/plain": "\u001B[2;36m[04/28/25 01:53:58]\u001B[0m\u001B[2;36m \u001B[0m\u001B[34mINFO    \u001B[0m                                                                           \u001B]8;id=142271;file://C:\\Users\\kyawk\\Desktop\\robustness_of_gnns_at_scale-main\\rgnn_at_scale\\attacks\\prbcd.py\u001B\\\u001B[2mprbcd.py\u001B[0m\u001B]8;;\u001B\\\u001B[2m:\u001B[0m\u001B]8;id=677185;file://C:\\Users\\kyawk\\Desktop\\robustness_of_gnns_at_scale-main\\rgnn_at_scale\\attacks\\prbcd.py#148\u001B\\\u001B[2m148\u001B[0m\u001B]8;;\u001B\\\n\u001B[2;36m                    \u001B[0m         Epoch: \u001B[1;36m0\u001B[0m Loss: \u001B[1;36m-0.6508852243423462\u001B[0m Accuracy: \u001B[1;36m82.885\u001B[0m %                     \u001B[2m            \u001B[0m\n\u001B[2;36m                    \u001B[0m                                                                                   \u001B[2m            \u001B[0m\n",
      "text/html": "<pre style=\"white-space:pre;overflow-x:auto;line-height:normal;font-family:Menlo,'DejaVu Sans Mono',consolas,'Courier New',monospace\"><span style=\"color: #7fbfbf; text-decoration-color: #7fbfbf\">[04/28/25 01:53:58] </span><span style=\"color: #000080; text-decoration-color: #000080\">INFO    </span>                                                                           <a href=\"file://C:\\Users\\kyawk\\Desktop\\robustness_of_gnns_at_scale-main\\rgnn_at_scale\\attacks\\prbcd.py\" target=\"_blank\"><span style=\"color: #7f7f7f; text-decoration-color: #7f7f7f\">prbcd.py</span></a><span style=\"color: #7f7f7f; text-decoration-color: #7f7f7f\">:</span><a href=\"file://C:\\Users\\kyawk\\Desktop\\robustness_of_gnns_at_scale-main\\rgnn_at_scale\\attacks\\prbcd.py#148\" target=\"_blank\"><span style=\"color: #7f7f7f; text-decoration-color: #7f7f7f\">148</span></a>\n<span style=\"color: #7fbfbf; text-decoration-color: #7fbfbf\">                    </span>         Epoch: <span style=\"color: #008080; text-decoration-color: #008080; font-weight: bold\">0</span> Loss: <span style=\"color: #008080; text-decoration-color: #008080; font-weight: bold\">-0.6508852243423462</span> Accuracy: <span style=\"color: #008080; text-decoration-color: #008080; font-weight: bold\">82.885</span> %                     <span style=\"color: #7f7f7f; text-decoration-color: #7f7f7f\">            </span>\n<span style=\"color: #7fbfbf; text-decoration-color: #7fbfbf\">                    </span>                                                                                   <span style=\"color: #7f7f7f; text-decoration-color: #7f7f7f\">            </span>\n</pre>\n"
     },
     "metadata": {},
     "output_type": "display_data"
    },
    {
     "name": "stderr",
     "output_type": "stream",
     "text": [
      "  2%|▏         | 1/50 [00:01<01:12,  1.49s/it]"
     ]
    },
    {
     "name": "stdout",
     "output_type": "stream",
     "text": [
      "none run resampling with no certificate\n"
     ]
    },
    {
     "name": "stderr",
     "output_type": "stream",
     "text": [
      "  4%|▍         | 2/50 [00:02<01:10,  1.46s/it]"
     ]
    },
    {
     "name": "stdout",
     "output_type": "stream",
     "text": [
      "none run resampling with no certificate\n"
     ]
    },
    {
     "name": "stderr",
     "output_type": "stream",
     "text": [
      "  6%|▌         | 3/50 [00:04<01:08,  1.46s/it]"
     ]
    },
    {
     "name": "stdout",
     "output_type": "stream",
     "text": [
      "none run resampling with no certificate\n"
     ]
    },
    {
     "name": "stderr",
     "output_type": "stream",
     "text": [
      "  8%|▊         | 4/50 [00:05<01:05,  1.43s/it]"
     ]
    },
    {
     "name": "stdout",
     "output_type": "stream",
     "text": [
      "none run resampling with no certificate\n"
     ]
    },
    {
     "name": "stderr",
     "output_type": "stream",
     "text": [
      " 10%|█         | 5/50 [00:06<00:59,  1.33s/it]"
     ]
    },
    {
     "name": "stdout",
     "output_type": "stream",
     "text": [
      "none run resampling with no certificate\n"
     ]
    },
    {
     "name": "stderr",
     "output_type": "stream",
     "text": [
      " 12%|█▏        | 6/50 [00:07<00:56,  1.29s/it]"
     ]
    },
    {
     "name": "stdout",
     "output_type": "stream",
     "text": [
      "none run resampling with no certificate\n"
     ]
    },
    {
     "name": "stderr",
     "output_type": "stream",
     "text": [
      " 14%|█▍        | 7/50 [00:09<00:52,  1.23s/it]"
     ]
    },
    {
     "name": "stdout",
     "output_type": "stream",
     "text": [
      "none run resampling with no certificate\n"
     ]
    },
    {
     "name": "stderr",
     "output_type": "stream",
     "text": [
      " 16%|█▌        | 8/50 [00:10<00:49,  1.18s/it]"
     ]
    },
    {
     "name": "stdout",
     "output_type": "stream",
     "text": [
      "none run resampling with no certificate\n"
     ]
    },
    {
     "name": "stderr",
     "output_type": "stream",
     "text": [
      " 18%|█▊        | 9/50 [00:11<00:51,  1.26s/it]"
     ]
    },
    {
     "name": "stdout",
     "output_type": "stream",
     "text": [
      "none run resampling with no certificate\n"
     ]
    },
    {
     "name": "stderr",
     "output_type": "stream",
     "text": [
      " 20%|██        | 10/50 [00:12<00:51,  1.29s/it]"
     ]
    },
    {
     "name": "stdout",
     "output_type": "stream",
     "text": [
      "none run resampling with no certificate\n"
     ]
    },
    {
     "name": "stderr",
     "output_type": "stream",
     "text": [
      " 22%|██▏       | 11/50 [00:14<00:51,  1.32s/it]"
     ]
    },
    {
     "name": "stdout",
     "output_type": "stream",
     "text": [
      "none run resampling with no certificate\n"
     ]
    },
    {
     "name": "stderr",
     "output_type": "stream",
     "text": [
      " 24%|██▍       | 12/50 [00:15<00:48,  1.26s/it]"
     ]
    },
    {
     "name": "stdout",
     "output_type": "stream",
     "text": [
      "none run resampling with no certificate\n"
     ]
    },
    {
     "name": "stderr",
     "output_type": "stream",
     "text": [
      " 26%|██▌       | 13/50 [00:16<00:44,  1.21s/it]"
     ]
    },
    {
     "name": "stdout",
     "output_type": "stream",
     "text": [
      "none run resampling with no certificate\n"
     ]
    },
    {
     "name": "stderr",
     "output_type": "stream",
     "text": [
      " 28%|██▊       | 14/50 [00:17<00:42,  1.18s/it]"
     ]
    },
    {
     "name": "stdout",
     "output_type": "stream",
     "text": [
      "none run resampling with no certificate\n"
     ]
    },
    {
     "name": "stderr",
     "output_type": "stream",
     "text": [
      " 30%|███       | 15/50 [00:18<00:40,  1.15s/it]"
     ]
    },
    {
     "name": "stdout",
     "output_type": "stream",
     "text": [
      "none run resampling with no certificate\n"
     ]
    },
    {
     "name": "stderr",
     "output_type": "stream",
     "text": [
      " 32%|███▏      | 16/50 [00:19<00:38,  1.13s/it]"
     ]
    },
    {
     "name": "stdout",
     "output_type": "stream",
     "text": [
      "none run resampling with no certificate\n"
     ]
    },
    {
     "name": "stderr",
     "output_type": "stream",
     "text": [
      " 34%|███▍      | 17/50 [00:20<00:37,  1.13s/it]"
     ]
    },
    {
     "name": "stdout",
     "output_type": "stream",
     "text": [
      "none run resampling with no certificate\n"
     ]
    },
    {
     "name": "stderr",
     "output_type": "stream",
     "text": [
      " 36%|███▌      | 18/50 [00:22<00:35,  1.12s/it]"
     ]
    },
    {
     "name": "stdout",
     "output_type": "stream",
     "text": [
      "none run resampling with no certificate\n"
     ]
    },
    {
     "name": "stderr",
     "output_type": "stream",
     "text": [
      " 38%|███▊      | 19/50 [00:23<00:35,  1.16s/it]"
     ]
    },
    {
     "name": "stdout",
     "output_type": "stream",
     "text": [
      "none run resampling with no certificate\n"
     ]
    },
    {
     "name": "stderr",
     "output_type": "stream",
     "text": [
      " 40%|████      | 20/50 [00:24<00:35,  1.18s/it]"
     ]
    },
    {
     "name": "stdout",
     "output_type": "stream",
     "text": [
      "none run resampling with no certificate\n"
     ]
    },
    {
     "data": {
      "text/plain": "\u001B[2;36m[04/28/25 01:54:22]\u001B[0m\u001B[2;36m \u001B[0m\u001B[34mINFO    \u001B[0m                                                                           \u001B]8;id=373848;file://C:\\Users\\kyawk\\Desktop\\robustness_of_gnns_at_scale-main\\rgnn_at_scale\\attacks\\prbcd.py\u001B\\\u001B[2mprbcd.py\u001B[0m\u001B]8;;\u001B\\\u001B[2m:\u001B[0m\u001B]8;id=325908;file://C:\\Users\\kyawk\\Desktop\\robustness_of_gnns_at_scale-main\\rgnn_at_scale\\attacks\\prbcd.py#148\u001B\\\u001B[2m148\u001B[0m\u001B]8;;\u001B\\\n\u001B[2;36m                    \u001B[0m         Epoch: \u001B[1;36m20\u001B[0m Loss: \u001B[1;36m-0.5134032964706421\u001B[0m Accuracy: \u001B[1;36m74.625\u001B[0m %                    \u001B[2m            \u001B[0m\n\u001B[2;36m                    \u001B[0m                                                                                   \u001B[2m            \u001B[0m\n",
      "text/html": "<pre style=\"white-space:pre;overflow-x:auto;line-height:normal;font-family:Menlo,'DejaVu Sans Mono',consolas,'Courier New',monospace\"><span style=\"color: #7fbfbf; text-decoration-color: #7fbfbf\">[04/28/25 01:54:22] </span><span style=\"color: #000080; text-decoration-color: #000080\">INFO    </span>                                                                           <a href=\"file://C:\\Users\\kyawk\\Desktop\\robustness_of_gnns_at_scale-main\\rgnn_at_scale\\attacks\\prbcd.py\" target=\"_blank\"><span style=\"color: #7f7f7f; text-decoration-color: #7f7f7f\">prbcd.py</span></a><span style=\"color: #7f7f7f; text-decoration-color: #7f7f7f\">:</span><a href=\"file://C:\\Users\\kyawk\\Desktop\\robustness_of_gnns_at_scale-main\\rgnn_at_scale\\attacks\\prbcd.py#148\" target=\"_blank\"><span style=\"color: #7f7f7f; text-decoration-color: #7f7f7f\">148</span></a>\n<span style=\"color: #7fbfbf; text-decoration-color: #7fbfbf\">                    </span>         Epoch: <span style=\"color: #008080; text-decoration-color: #008080; font-weight: bold\">20</span> Loss: <span style=\"color: #008080; text-decoration-color: #008080; font-weight: bold\">-0.5134032964706421</span> Accuracy: <span style=\"color: #008080; text-decoration-color: #008080; font-weight: bold\">74.625</span> %                    <span style=\"color: #7f7f7f; text-decoration-color: #7f7f7f\">            </span>\n<span style=\"color: #7fbfbf; text-decoration-color: #7fbfbf\">                    </span>                                                                                   <span style=\"color: #7f7f7f; text-decoration-color: #7f7f7f\">            </span>\n</pre>\n"
     },
     "metadata": {},
     "output_type": "display_data"
    },
    {
     "name": "stderr",
     "output_type": "stream",
     "text": [
      " 42%|████▏     | 21/50 [00:25<00:33,  1.16s/it]"
     ]
    },
    {
     "name": "stdout",
     "output_type": "stream",
     "text": [
      "none run resampling with no certificate\n"
     ]
    },
    {
     "name": "stderr",
     "output_type": "stream",
     "text": [
      " 44%|████▍     | 22/50 [00:27<00:34,  1.25s/it]"
     ]
    },
    {
     "name": "stdout",
     "output_type": "stream",
     "text": [
      "none run resampling with no certificate\n"
     ]
    },
    {
     "name": "stderr",
     "output_type": "stream",
     "text": [
      " 46%|████▌     | 23/50 [00:28<00:34,  1.28s/it]"
     ]
    },
    {
     "name": "stdout",
     "output_type": "stream",
     "text": [
      "none run resampling with no certificate\n"
     ]
    },
    {
     "name": "stderr",
     "output_type": "stream",
     "text": [
      " 48%|████▊     | 24/50 [00:29<00:33,  1.29s/it]"
     ]
    },
    {
     "name": "stdout",
     "output_type": "stream",
     "text": [
      "none run resampling with no certificate\n"
     ]
    },
    {
     "data": {
      "text/plain": "\u001B[2;36m[04/28/25 01:54:28]\u001B[0m\u001B[2;36m \u001B[0m\u001B[34mINFO    \u001B[0m Loading search space of epoch \u001B[1;36m24\u001B[0m \u001B[1m(\u001B[0m\u001B[33maccuarcy\u001B[0m=\u001B[1;36m0\u001B[0m\u001B[1;36m.7403162121772766\u001B[0m\u001B[1m)\u001B[0m for fine   \u001B]8;id=325362;file://C:\\Users\\kyawk\\Desktop\\robustness_of_gnns_at_scale-main\\rgnn_at_scale\\attacks\\prbcd.py\u001B\\\u001B[2mprbcd.py\u001B[0m\u001B]8;;\u001B\\\u001B[2m:\u001B[0m\u001B]8;id=419649;file://C:\\Users\\kyawk\\Desktop\\robustness_of_gnns_at_scale-main\\rgnn_at_scale\\attacks\\prbcd.py#175\u001B\\\u001B[2m175\u001B[0m\u001B]8;;\u001B\\\n\u001B[2;36m                    \u001B[0m         tuning                                                                    \u001B[2m            \u001B[0m\n\u001B[2;36m                    \u001B[0m                                                                                   \u001B[2m            \u001B[0m\n",
      "text/html": "<pre style=\"white-space:pre;overflow-x:auto;line-height:normal;font-family:Menlo,'DejaVu Sans Mono',consolas,'Courier New',monospace\"><span style=\"color: #7fbfbf; text-decoration-color: #7fbfbf\">[04/28/25 01:54:28] </span><span style=\"color: #000080; text-decoration-color: #000080\">INFO    </span> Loading search space of epoch <span style=\"color: #008080; text-decoration-color: #008080; font-weight: bold\">24</span> <span style=\"font-weight: bold\">(</span><span style=\"color: #808000; text-decoration-color: #808000\">accuarcy</span>=<span style=\"color: #008080; text-decoration-color: #008080; font-weight: bold\">0.7403162121772766</span><span style=\"font-weight: bold\">)</span> for fine   <a href=\"file://C:\\Users\\kyawk\\Desktop\\robustness_of_gnns_at_scale-main\\rgnn_at_scale\\attacks\\prbcd.py\" target=\"_blank\"><span style=\"color: #7f7f7f; text-decoration-color: #7f7f7f\">prbcd.py</span></a><span style=\"color: #7f7f7f; text-decoration-color: #7f7f7f\">:</span><a href=\"file://C:\\Users\\kyawk\\Desktop\\robustness_of_gnns_at_scale-main\\rgnn_at_scale\\attacks\\prbcd.py#175\" target=\"_blank\"><span style=\"color: #7f7f7f; text-decoration-color: #7f7f7f\">175</span></a>\n<span style=\"color: #7fbfbf; text-decoration-color: #7fbfbf\">                    </span>         tuning                                                                    <span style=\"color: #7f7f7f; text-decoration-color: #7f7f7f\">            </span>\n<span style=\"color: #7fbfbf; text-decoration-color: #7fbfbf\">                    </span>                                                                                   <span style=\"color: #7f7f7f; text-decoration-color: #7f7f7f\">            </span>\n</pre>\n"
     },
     "metadata": {},
     "output_type": "display_data"
    },
    {
     "name": "stderr",
     "output_type": "stream",
     "text": [
      " 80%|████████  | 40/50 [00:48<00:11,  1.18s/it]"
     ]
    },
    {
     "data": {
      "text/plain": "\u001B[2;36m[04/28/25 01:54:46]\u001B[0m\u001B[2;36m \u001B[0m\u001B[34mINFO    \u001B[0m                                                                           \u001B]8;id=626313;file://C:\\Users\\kyawk\\Desktop\\robustness_of_gnns_at_scale-main\\rgnn_at_scale\\attacks\\prbcd.py\u001B\\\u001B[2mprbcd.py\u001B[0m\u001B]8;;\u001B\\\u001B[2m:\u001B[0m\u001B]8;id=804780;file://C:\\Users\\kyawk\\Desktop\\robustness_of_gnns_at_scale-main\\rgnn_at_scale\\attacks\\prbcd.py#148\u001B\\\u001B[2m148\u001B[0m\u001B]8;;\u001B\\\n\u001B[2;36m                    \u001B[0m         Epoch: \u001B[1;36m40\u001B[0m Loss: \u001B[1;36m-0.4839021563529968\u001B[0m Accuracy: \u001B[1;36m73.281\u001B[0m %                    \u001B[2m            \u001B[0m\n\u001B[2;36m                    \u001B[0m                                                                                   \u001B[2m            \u001B[0m\n",
      "text/html": "<pre style=\"white-space:pre;overflow-x:auto;line-height:normal;font-family:Menlo,'DejaVu Sans Mono',consolas,'Courier New',monospace\"><span style=\"color: #7fbfbf; text-decoration-color: #7fbfbf\">[04/28/25 01:54:46] </span><span style=\"color: #000080; text-decoration-color: #000080\">INFO    </span>                                                                           <a href=\"file://C:\\Users\\kyawk\\Desktop\\robustness_of_gnns_at_scale-main\\rgnn_at_scale\\attacks\\prbcd.py\" target=\"_blank\"><span style=\"color: #7f7f7f; text-decoration-color: #7f7f7f\">prbcd.py</span></a><span style=\"color: #7f7f7f; text-decoration-color: #7f7f7f\">:</span><a href=\"file://C:\\Users\\kyawk\\Desktop\\robustness_of_gnns_at_scale-main\\rgnn_at_scale\\attacks\\prbcd.py#148\" target=\"_blank\"><span style=\"color: #7f7f7f; text-decoration-color: #7f7f7f\">148</span></a>\n<span style=\"color: #7fbfbf; text-decoration-color: #7fbfbf\">                    </span>         Epoch: <span style=\"color: #008080; text-decoration-color: #008080; font-weight: bold\">40</span> Loss: <span style=\"color: #008080; text-decoration-color: #008080; font-weight: bold\">-0.4839021563529968</span> Accuracy: <span style=\"color: #008080; text-decoration-color: #008080; font-weight: bold\">73.281</span> %                    <span style=\"color: #7f7f7f; text-decoration-color: #7f7f7f\">            </span>\n<span style=\"color: #7fbfbf; text-decoration-color: #7fbfbf\">                    </span>                                                                                   <span style=\"color: #7f7f7f; text-decoration-color: #7f7f7f\">            </span>\n</pre>\n"
     },
     "metadata": {},
     "output_type": "display_data"
    },
    {
     "name": "stderr",
     "output_type": "stream",
     "text": [
      "100%|██████████| 50/50 [00:59<00:00,  1.19s/it]\n"
     ]
    },
    {
     "data": {
      "text/plain": "\u001B[2;36m[04/28/25 01:55:04]\u001B[0m\u001B[2;36m \u001B[0m\u001B[34mINFO    \u001B[0m Lock \u001B[1;36m2826161702928\u001B[0m acquired on cache\\evasion_global_adj.json.lock      \u001B]8;id=645309;file://C:\\Users\\kyawk\\anaconda3\\envs\\Masterarbeit_2_0\\Lib\\site-packages\\filelock.py\u001B\\\u001B[2mfilelock.py\u001B[0m\u001B]8;;\u001B\\\u001B[2m:\u001B[0m\u001B]8;id=696417;file://C:\\Users\\kyawk\\anaconda3\\envs\\Masterarbeit_2_0\\Lib\\site-packages\\filelock.py#274\u001B\\\u001B[2m274\u001B[0m\u001B]8;;\u001B\\\n",
      "text/html": "<pre style=\"white-space:pre;overflow-x:auto;line-height:normal;font-family:Menlo,'DejaVu Sans Mono',consolas,'Courier New',monospace\"><span style=\"color: #7fbfbf; text-decoration-color: #7fbfbf\">[04/28/25 01:55:04] </span><span style=\"color: #000080; text-decoration-color: #000080\">INFO    </span> Lock <span style=\"color: #008080; text-decoration-color: #008080; font-weight: bold\">2826161702928</span> acquired on cache\\evasion_global_adj.json.lock      <a href=\"file://C:\\Users\\kyawk\\anaconda3\\envs\\Masterarbeit_2_0\\Lib\\site-packages\\filelock.py\" target=\"_blank\"><span style=\"color: #7f7f7f; text-decoration-color: #7f7f7f\">filelock.py</span></a><span style=\"color: #7f7f7f; text-decoration-color: #7f7f7f\">:</span><a href=\"file://C:\\Users\\kyawk\\anaconda3\\envs\\Masterarbeit_2_0\\Lib\\site-packages\\filelock.py#274\" target=\"_blank\"><span style=\"color: #7f7f7f; text-decoration-color: #7f7f7f\">274</span></a>\n</pre>\n"
     },
     "metadata": {},
     "output_type": "display_data"
    },
    {
     "data": {
      "text/plain": "\u001B[2;36m                   \u001B[0m\u001B[2;36m \u001B[0m\u001B[34mINFO    \u001B[0m Lock \u001B[1;36m2826161702928\u001B[0m released on cache\\evasion_global_adj.json.lock      \u001B]8;id=251911;file://C:\\Users\\kyawk\\anaconda3\\envs\\Masterarbeit_2_0\\Lib\\site-packages\\filelock.py\u001B\\\u001B[2mfilelock.py\u001B[0m\u001B]8;;\u001B\\\u001B[2m:\u001B[0m\u001B]8;id=495674;file://C:\\Users\\kyawk\\anaconda3\\envs\\Masterarbeit_2_0\\Lib\\site-packages\\filelock.py#318\u001B\\\u001B[2m318\u001B[0m\u001B]8;;\u001B\\\n",
      "text/html": "<pre style=\"white-space:pre;overflow-x:auto;line-height:normal;font-family:Menlo,'DejaVu Sans Mono',consolas,'Courier New',monospace\"><span style=\"color: #7fbfbf; text-decoration-color: #7fbfbf\">                    </span><span style=\"color: #000080; text-decoration-color: #000080\">INFO    </span> Lock <span style=\"color: #008080; text-decoration-color: #008080; font-weight: bold\">2826161702928</span> released on cache\\evasion_global_adj.json.lock      <a href=\"file://C:\\Users\\kyawk\\anaconda3\\envs\\Masterarbeit_2_0\\Lib\\site-packages\\filelock.py\" target=\"_blank\"><span style=\"color: #7f7f7f; text-decoration-color: #7f7f7f\">filelock.py</span></a><span style=\"color: #7f7f7f; text-decoration-color: #7f7f7f\">:</span><a href=\"file://C:\\Users\\kyawk\\anaconda3\\envs\\Masterarbeit_2_0\\Lib\\site-packages\\filelock.py#318\" target=\"_blank\"><span style=\"color: #7f7f7f; text-decoration-color: #7f7f7f\">318</span></a>\n</pre>\n"
     },
     "metadata": {},
     "output_type": "display_data"
    },
    {
     "data": {
      "text/plain": "\u001B[2;36m                   \u001B[0m\u001B[2;36m \u001B[0m\u001B[34mINFO    \u001B[0m Lock \u001B[1;36m2826161702928\u001B[0m acquired on cache\\evasion_global_attr.json.lock     \u001B]8;id=447217;file://C:\\Users\\kyawk\\anaconda3\\envs\\Masterarbeit_2_0\\Lib\\site-packages\\filelock.py\u001B\\\u001B[2mfilelock.py\u001B[0m\u001B]8;;\u001B\\\u001B[2m:\u001B[0m\u001B]8;id=200609;file://C:\\Users\\kyawk\\anaconda3\\envs\\Masterarbeit_2_0\\Lib\\site-packages\\filelock.py#274\u001B\\\u001B[2m274\u001B[0m\u001B]8;;\u001B\\\n",
      "text/html": "<pre style=\"white-space:pre;overflow-x:auto;line-height:normal;font-family:Menlo,'DejaVu Sans Mono',consolas,'Courier New',monospace\"><span style=\"color: #7fbfbf; text-decoration-color: #7fbfbf\">                    </span><span style=\"color: #000080; text-decoration-color: #000080\">INFO    </span> Lock <span style=\"color: #008080; text-decoration-color: #008080; font-weight: bold\">2826161702928</span> acquired on cache\\evasion_global_attr.json.lock     <a href=\"file://C:\\Users\\kyawk\\anaconda3\\envs\\Masterarbeit_2_0\\Lib\\site-packages\\filelock.py\" target=\"_blank\"><span style=\"color: #7f7f7f; text-decoration-color: #7f7f7f\">filelock.py</span></a><span style=\"color: #7f7f7f; text-decoration-color: #7f7f7f\">:</span><a href=\"file://C:\\Users\\kyawk\\anaconda3\\envs\\Masterarbeit_2_0\\Lib\\site-packages\\filelock.py#274\" target=\"_blank\"><span style=\"color: #7f7f7f; text-decoration-color: #7f7f7f\">274</span></a>\n</pre>\n"
     },
     "metadata": {},
     "output_type": "display_data"
    },
    {
     "data": {
      "text/plain": "\u001B[2;36m                   \u001B[0m\u001B[2;36m \u001B[0m\u001B[34mINFO    \u001B[0m Lock \u001B[1;36m2826161702928\u001B[0m released on cache\\evasion_global_attr.json.lock     \u001B]8;id=352485;file://C:\\Users\\kyawk\\anaconda3\\envs\\Masterarbeit_2_0\\Lib\\site-packages\\filelock.py\u001B\\\u001B[2mfilelock.py\u001B[0m\u001B]8;;\u001B\\\u001B[2m:\u001B[0m\u001B]8;id=88265;file://C:\\Users\\kyawk\\anaconda3\\envs\\Masterarbeit_2_0\\Lib\\site-packages\\filelock.py#318\u001B\\\u001B[2m318\u001B[0m\u001B]8;;\u001B\\\n",
      "text/html": "<pre style=\"white-space:pre;overflow-x:auto;line-height:normal;font-family:Menlo,'DejaVu Sans Mono',consolas,'Courier New',monospace\"><span style=\"color: #7fbfbf; text-decoration-color: #7fbfbf\">                    </span><span style=\"color: #000080; text-decoration-color: #000080\">INFO    </span> Lock <span style=\"color: #008080; text-decoration-color: #008080; font-weight: bold\">2826161702928</span> released on cache\\evasion_global_attr.json.lock     <a href=\"file://C:\\Users\\kyawk\\anaconda3\\envs\\Masterarbeit_2_0\\Lib\\site-packages\\filelock.py\" target=\"_blank\"><span style=\"color: #7f7f7f; text-decoration-color: #7f7f7f\">filelock.py</span></a><span style=\"color: #7f7f7f; text-decoration-color: #7f7f7f\">:</span><a href=\"file://C:\\Users\\kyawk\\anaconda3\\envs\\Masterarbeit_2_0\\Lib\\site-packages\\filelock.py#318\" target=\"_blank\"><span style=\"color: #7f7f7f; text-decoration-color: #7f7f7f\">318</span></a>\n</pre>\n"
     },
     "metadata": {},
     "output_type": "display_data"
    },
    {
     "name": "stdout",
     "output_type": "stream",
     "text": [
      "time:  68.30050239991397\n",
      "none: \n",
      "{'results': [{'label': 'Vanilla GCN', 'epsilon': 0.25, 'accuracy': 0.7292490005493164}]}\n",
      "RESULTS\n",
      "('sampling_grid_radii', 'semi:', True, 'time:', 71.77674240013584, {'results': [{'label': 'Vanilla GCN', 'epsilon': 0.25, 'accuracy': 0.730434775352478}]})\n",
      "\n",
      "\n",
      "('sampling_grid_binary_class', 'semi:', True, 'time:', 76.61857259995304, {'results': [{'label': 'Vanilla GCN', 'epsilon': 0.25, 'accuracy': 0.7359683513641357}]})\n",
      "\n",
      "\n",
      "('sampling_grid_binary_class_alt', 'semi:', True, 'time:', 82.01152889989316, {'results': [{'label': 'Vanilla GCN', 'epsilon': 0.25, 'accuracy': 0.7347826361656189}]})\n",
      "\n",
      "\n",
      "('none', 'semi:', True, 'time:', 68.30050239991397, {'results': [{'label': 'Vanilla GCN', 'epsilon': 0.25, 'accuracy': 0.7292490005493164}]})\n",
      "\n"
     ]
    },
    {
     "data": {
      "text/plain": "[None, None, None, None]"
     },
     "execution_count": 39,
     "metadata": {},
     "output_type": "execute_result"
    }
   ],
   "execution_count": 39
  },
  {
   "metadata": {},
   "cell_type": "markdown",
   "source": [
    "### 2.2.1 Global PR-BCD Attack without Cert\n",
    "\n",
    "Now let's do the same with a non-local `PR-BCD` attack. For this, we use [experiments/experiment_global_attack_direct.py](https://github.com/sigeisler/robustness_of_gnns_at_scale/blob/main/experiments/experiment_global_attack_direct.py#L63)."
   ]
  },
  {
   "metadata": {
    "ExecuteTime": {
     "end_time": "2025-04-04T16:09:55.673048500Z",
     "start_time": "2025-04-04T16:08:48.295334600Z"
    }
   },
   "cell_type": "code",
   "source": [
    "from DeleteCache import delete_pert_files_and_folders\n",
    "\n",
    "delete_pert_files_and_folders(\n",
    "    cache_dir=\"cache\",\n",
    "    pert_adj_storage_type=\"evasion_global_adj\",\n",
    "    pert_attr_storage_type=\"evasion_global_attr\"\n",
    ")\n",
    "\n",
    "global_prbcd_statistics = experiment_global_attack_direct.run(\n",
    "    data_dir = './data',\n",
    "    dataset = 'cora_ml',\n",
    "    attack = 'PRBCD',\n",
    "    attack_params = dict(\n",
    "        epochs=50,\n",
    "        fine_tune_epochs=100,\n",
    "        keep_heuristic=\"WeightOnly\",\n",
    "        search_space_size=100_000,\n",
    "        block_size=2000,\n",
    "        do_synchronize=True,\n",
    "        loss_type=\"tanhMargin\",\n",
    "    ),\n",
    "    epsilons = [0.25],\n",
    "    binary_attr = False,\n",
    "    make_undirected = True,\n",
    "    seed=0,\n",
    "    artifact_dir = 'cache',\n",
    "    pert_adj_storage_type = 'evasion_global_adj',\n",
    "    pert_attr_storage_type = 'evasion_global_attr',\n",
    "    model_label = 'Vanilla GCN',\n",
    "    model_storage_type = 'demo',\n",
    "    #device = 0,\n",
    "    #data_device = 0,\n",
    "    device = \"cpu\",\n",
    "    data_device = \"cpu\",\n",
    "    debug_level = \"info\",\n",
    ")\n",
    "\n",
    "print(global_prbcd_statistics)"
   ],
   "outputs": [
    {
     "name": "stdout",
     "output_type": "stream",
     "text": [
      "Deleted file: cache\\evasion_global_adj.json\n",
      "Deleted file: cache\\evasion_global_attr.json\n",
      "Deleted directory: cache\\evasion_global_adj\n",
      "Deleted directory: cache\\evasion_global_attr\n"
     ]
    },
    {
     "data": {
      "text/plain": "\u001B[2;36m[04/04/25 18:08:49]\u001B[0m\u001B[2;36m \u001B[0m\u001B[34mINFO    \u001B[0m \u001B[1m{\u001B[0m\u001B[32m'dataset'\u001B[0m: \u001B[32m'cora_ml'\u001B[0m, \u001B[32m'attack'\u001B[0m: \u001B[32m'PRBCD'\u001B[0m, \u001B[32m'attack_params'\u001B[0m: \u001B[1m{\u001B[0m\u001B[32m'epochs'\u001B[0m: \u001B[1;36m50\u001B[0m, \u001B]8;id=459632;file://C:\\Users\\kyawk\\Desktop\\robustness_of_gnns_at_scale-main\\experiments\\common.py\u001B\\\u001B[2mcommon.py\u001B[0m\u001B]8;;\u001B\\\u001B[2m:\u001B[0m\u001B]8;id=492268;file://C:\\Users\\kyawk\\Desktop\\robustness_of_gnns_at_scale-main\\experiments\\common.py#38\u001B\\\u001B[2m38\u001B[0m\u001B]8;;\u001B\\\n\u001B[2;36m                    \u001B[0m         \u001B[32m'fine_tune_epochs'\u001B[0m: \u001B[1;36m100\u001B[0m, \u001B[32m'keep_heuristic'\u001B[0m: \u001B[32m'WeightOnly'\u001B[0m,                  \u001B[2m            \u001B[0m\n\u001B[2;36m                    \u001B[0m         \u001B[32m'search_space_size'\u001B[0m: \u001B[1;36m100000\u001B[0m, \u001B[32m'block_size'\u001B[0m: \u001B[1;36m2000\u001B[0m, \u001B[32m'do_synchronize'\u001B[0m: \u001B[3;92mTrue\u001B[0m,  \u001B[2m            \u001B[0m\n\u001B[2;36m                    \u001B[0m         \u001B[32m'loss_type'\u001B[0m: \u001B[32m'tanhMargin'\u001B[0m\u001B[1m}\u001B[0m, \u001B[32m'epsilons'\u001B[0m: \u001B[1m[\u001B[0m\u001B[1;36m0.25\u001B[0m\u001B[1m]\u001B[0m, \u001B[32m'make_undirected'\u001B[0m: \u001B[3;92mTrue\u001B[0m,  \u001B[2m            \u001B[0m\n\u001B[2;36m                    \u001B[0m         \u001B[32m'binary_attr'\u001B[0m: \u001B[3;91mFalse\u001B[0m, \u001B[32m'seed'\u001B[0m: \u001B[1;36m0\u001B[0m, \u001B[32m'artifact_dir'\u001B[0m: \u001B[32m'cache'\u001B[0m,                 \u001B[2m            \u001B[0m\n\u001B[2;36m                    \u001B[0m         \u001B[32m'pert_adj_storage_type'\u001B[0m: \u001B[32m'evasion_global_adj'\u001B[0m, \u001B[32m'pert_attr_storage_type'\u001B[0m:  \u001B[2m            \u001B[0m\n\u001B[2;36m                    \u001B[0m         \u001B[32m'evasion_global_attr'\u001B[0m, \u001B[32m'model_label'\u001B[0m: \u001B[32m'Vanilla GCN'\u001B[0m,                      \u001B[2m            \u001B[0m\n\u001B[2;36m                    \u001B[0m         \u001B[32m'model_storage_type'\u001B[0m: \u001B[32m'demo'\u001B[0m, \u001B[32m'device'\u001B[0m: \u001B[32m'cpu'\u001B[0m, \u001B[32m'data_device'\u001B[0m: \u001B[32m'cpu'\u001B[0m\u001B[1m}\u001B[0m      \u001B[2m            \u001B[0m\n",
      "text/html": "<pre style=\"white-space:pre;overflow-x:auto;line-height:normal;font-family:Menlo,'DejaVu Sans Mono',consolas,'Courier New',monospace\"><span style=\"color: #7fbfbf; text-decoration-color: #7fbfbf\">[04/04/25 18:08:49] </span><span style=\"color: #000080; text-decoration-color: #000080\">INFO    </span> <span style=\"font-weight: bold\">{</span><span style=\"color: #008000; text-decoration-color: #008000\">'dataset'</span>: <span style=\"color: #008000; text-decoration-color: #008000\">'cora_ml'</span>, <span style=\"color: #008000; text-decoration-color: #008000\">'attack'</span>: <span style=\"color: #008000; text-decoration-color: #008000\">'PRBCD'</span>, <span style=\"color: #008000; text-decoration-color: #008000\">'attack_params'</span>: <span style=\"font-weight: bold\">{</span><span style=\"color: #008000; text-decoration-color: #008000\">'epochs'</span>: <span style=\"color: #008080; text-decoration-color: #008080; font-weight: bold\">50</span>, <a href=\"file://C:\\Users\\kyawk\\Desktop\\robustness_of_gnns_at_scale-main\\experiments\\common.py\" target=\"_blank\"><span style=\"color: #7f7f7f; text-decoration-color: #7f7f7f\">common.py</span></a><span style=\"color: #7f7f7f; text-decoration-color: #7f7f7f\">:</span><a href=\"file://C:\\Users\\kyawk\\Desktop\\robustness_of_gnns_at_scale-main\\experiments\\common.py#38\" target=\"_blank\"><span style=\"color: #7f7f7f; text-decoration-color: #7f7f7f\">38</span></a>\n<span style=\"color: #7fbfbf; text-decoration-color: #7fbfbf\">                    </span>         <span style=\"color: #008000; text-decoration-color: #008000\">'fine_tune_epochs'</span>: <span style=\"color: #008080; text-decoration-color: #008080; font-weight: bold\">100</span>, <span style=\"color: #008000; text-decoration-color: #008000\">'keep_heuristic'</span>: <span style=\"color: #008000; text-decoration-color: #008000\">'WeightOnly'</span>,                  <span style=\"color: #7f7f7f; text-decoration-color: #7f7f7f\">            </span>\n<span style=\"color: #7fbfbf; text-decoration-color: #7fbfbf\">                    </span>         <span style=\"color: #008000; text-decoration-color: #008000\">'search_space_size'</span>: <span style=\"color: #008080; text-decoration-color: #008080; font-weight: bold\">100000</span>, <span style=\"color: #008000; text-decoration-color: #008000\">'block_size'</span>: <span style=\"color: #008080; text-decoration-color: #008080; font-weight: bold\">2000</span>, <span style=\"color: #008000; text-decoration-color: #008000\">'do_synchronize'</span>: <span style=\"color: #00ff00; text-decoration-color: #00ff00; font-style: italic\">True</span>,  <span style=\"color: #7f7f7f; text-decoration-color: #7f7f7f\">            </span>\n<span style=\"color: #7fbfbf; text-decoration-color: #7fbfbf\">                    </span>         <span style=\"color: #008000; text-decoration-color: #008000\">'loss_type'</span>: <span style=\"color: #008000; text-decoration-color: #008000\">'tanhMargin'</span><span style=\"font-weight: bold\">}</span>, <span style=\"color: #008000; text-decoration-color: #008000\">'epsilons'</span>: <span style=\"font-weight: bold\">[</span><span style=\"color: #008080; text-decoration-color: #008080; font-weight: bold\">0.25</span><span style=\"font-weight: bold\">]</span>, <span style=\"color: #008000; text-decoration-color: #008000\">'make_undirected'</span>: <span style=\"color: #00ff00; text-decoration-color: #00ff00; font-style: italic\">True</span>,  <span style=\"color: #7f7f7f; text-decoration-color: #7f7f7f\">            </span>\n<span style=\"color: #7fbfbf; text-decoration-color: #7fbfbf\">                    </span>         <span style=\"color: #008000; text-decoration-color: #008000\">'binary_attr'</span>: <span style=\"color: #ff0000; text-decoration-color: #ff0000; font-style: italic\">False</span>, <span style=\"color: #008000; text-decoration-color: #008000\">'seed'</span>: <span style=\"color: #008080; text-decoration-color: #008080; font-weight: bold\">0</span>, <span style=\"color: #008000; text-decoration-color: #008000\">'artifact_dir'</span>: <span style=\"color: #008000; text-decoration-color: #008000\">'cache'</span>,                 <span style=\"color: #7f7f7f; text-decoration-color: #7f7f7f\">            </span>\n<span style=\"color: #7fbfbf; text-decoration-color: #7fbfbf\">                    </span>         <span style=\"color: #008000; text-decoration-color: #008000\">'pert_adj_storage_type'</span>: <span style=\"color: #008000; text-decoration-color: #008000\">'evasion_global_adj'</span>, <span style=\"color: #008000; text-decoration-color: #008000\">'pert_attr_storage_type'</span>:  <span style=\"color: #7f7f7f; text-decoration-color: #7f7f7f\">            </span>\n<span style=\"color: #7fbfbf; text-decoration-color: #7fbfbf\">                    </span>         <span style=\"color: #008000; text-decoration-color: #008000\">'evasion_global_attr'</span>, <span style=\"color: #008000; text-decoration-color: #008000\">'model_label'</span>: <span style=\"color: #008000; text-decoration-color: #008000\">'Vanilla GCN'</span>,                      <span style=\"color: #7f7f7f; text-decoration-color: #7f7f7f\">            </span>\n<span style=\"color: #7fbfbf; text-decoration-color: #7fbfbf\">                    </span>         <span style=\"color: #008000; text-decoration-color: #008000\">'model_storage_type'</span>: <span style=\"color: #008000; text-decoration-color: #008000\">'demo'</span>, <span style=\"color: #008000; text-decoration-color: #008000\">'device'</span>: <span style=\"color: #008000; text-decoration-color: #008000\">'cpu'</span>, <span style=\"color: #008000; text-decoration-color: #008000\">'data_device'</span>: <span style=\"color: #008000; text-decoration-color: #008000\">'cpu'</span><span style=\"font-weight: bold\">}</span>      <span style=\"color: #7f7f7f; text-decoration-color: #7f7f7f\">            </span>\n</pre>\n"
     },
     "metadata": {},
     "output_type": "display_data"
    },
    {
     "data": {
      "text/plain": "\u001B[2;36m                   \u001B[0m\u001B[2;36m \u001B[0m\u001B[34mINFO    \u001B[0m Lock \u001B[1;36m1487087321488\u001B[0m acquired on cache\\demo.json.lock                    \u001B]8;id=565504;file://C:\\Users\\kyawk\\anaconda3\\envs\\Masterarbeit_2_0\\Lib\\site-packages\\filelock.py\u001B\\\u001B[2mfilelock.py\u001B[0m\u001B]8;;\u001B\\\u001B[2m:\u001B[0m\u001B]8;id=40306;file://C:\\Users\\kyawk\\anaconda3\\envs\\Masterarbeit_2_0\\Lib\\site-packages\\filelock.py#274\u001B\\\u001B[2m274\u001B[0m\u001B]8;;\u001B\\\n",
      "text/html": "<pre style=\"white-space:pre;overflow-x:auto;line-height:normal;font-family:Menlo,'DejaVu Sans Mono',consolas,'Courier New',monospace\"><span style=\"color: #7fbfbf; text-decoration-color: #7fbfbf\">                    </span><span style=\"color: #000080; text-decoration-color: #000080\">INFO    </span> Lock <span style=\"color: #008080; text-decoration-color: #008080; font-weight: bold\">1487087321488</span> acquired on cache\\demo.json.lock                    <a href=\"file://C:\\Users\\kyawk\\anaconda3\\envs\\Masterarbeit_2_0\\Lib\\site-packages\\filelock.py\" target=\"_blank\"><span style=\"color: #7f7f7f; text-decoration-color: #7f7f7f\">filelock.py</span></a><span style=\"color: #7f7f7f; text-decoration-color: #7f7f7f\">:</span><a href=\"file://C:\\Users\\kyawk\\anaconda3\\envs\\Masterarbeit_2_0\\Lib\\site-packages\\filelock.py#274\" target=\"_blank\"><span style=\"color: #7f7f7f; text-decoration-color: #7f7f7f\">274</span></a>\n</pre>\n"
     },
     "metadata": {},
     "output_type": "display_data"
    },
    {
     "data": {
      "text/plain": "\u001B[2;36m                   \u001B[0m\u001B[2;36m \u001B[0m\u001B[34mINFO    \u001B[0m Lock \u001B[1;36m1487087321488\u001B[0m released on cache\\demo.json.lock                    \u001B]8;id=174300;file://C:\\Users\\kyawk\\anaconda3\\envs\\Masterarbeit_2_0\\Lib\\site-packages\\filelock.py\u001B\\\u001B[2mfilelock.py\u001B[0m\u001B]8;;\u001B\\\u001B[2m:\u001B[0m\u001B]8;id=756213;file://C:\\Users\\kyawk\\anaconda3\\envs\\Masterarbeit_2_0\\Lib\\site-packages\\filelock.py#318\u001B\\\u001B[2m318\u001B[0m\u001B]8;;\u001B\\\n",
      "text/html": "<pre style=\"white-space:pre;overflow-x:auto;line-height:normal;font-family:Menlo,'DejaVu Sans Mono',consolas,'Courier New',monospace\"><span style=\"color: #7fbfbf; text-decoration-color: #7fbfbf\">                    </span><span style=\"color: #000080; text-decoration-color: #000080\">INFO    </span> Lock <span style=\"color: #008080; text-decoration-color: #008080; font-weight: bold\">1487087321488</span> released on cache\\demo.json.lock                    <a href=\"file://C:\\Users\\kyawk\\anaconda3\\envs\\Masterarbeit_2_0\\Lib\\site-packages\\filelock.py\" target=\"_blank\"><span style=\"color: #7f7f7f; text-decoration-color: #7f7f7f\">filelock.py</span></a><span style=\"color: #7f7f7f; text-decoration-color: #7f7f7f\">:</span><a href=\"file://C:\\Users\\kyawk\\anaconda3\\envs\\Masterarbeit_2_0\\Lib\\site-packages\\filelock.py#318\" target=\"_blank\"><span style=\"color: #7f7f7f; text-decoration-color: #7f7f7f\">318</span></a>\n</pre>\n"
     },
     "metadata": {},
     "output_type": "display_data"
    },
    {
     "data": {
      "text/plain": "\u001B[2;36m                   \u001B[0m\u001B[2;36m \u001B[0m\u001B[34mINFO    \u001B[0m Evaluate  PRBCD for model \u001B[32m'Vanilla GCN'\u001B[0m.        \u001B]8;id=232461;file://C:\\Users\\kyawk\\Desktop\\robustness_of_gnns_at_scale-main\\experiments\\experiment_global_attack_direct.py\u001B\\\u001B[2mexperiment_global_attack_direct.py\u001B[0m\u001B]8;;\u001B\\\u001B[2m:\u001B[0m\u001B]8;id=88024;file://C:\\Users\\kyawk\\Desktop\\robustness_of_gnns_at_scale-main\\experiments\\experiment_global_attack_direct.py#139\u001B\\\u001B[2m139\u001B[0m\u001B]8;;\u001B\\\n",
      "text/html": "<pre style=\"white-space:pre;overflow-x:auto;line-height:normal;font-family:Menlo,'DejaVu Sans Mono',consolas,'Courier New',monospace\"><span style=\"color: #7fbfbf; text-decoration-color: #7fbfbf\">                    </span><span style=\"color: #000080; text-decoration-color: #000080\">INFO    </span> Evaluate  PRBCD for model <span style=\"color: #008000; text-decoration-color: #008000\">'Vanilla GCN'</span>.        <a href=\"file://C:\\Users\\kyawk\\Desktop\\robustness_of_gnns_at_scale-main\\experiments\\experiment_global_attack_direct.py\" target=\"_blank\"><span style=\"color: #7f7f7f; text-decoration-color: #7f7f7f\">experiment_global_attack_direct.py</span></a><span style=\"color: #7f7f7f; text-decoration-color: #7f7f7f\">:</span><a href=\"file://C:\\Users\\kyawk\\Desktop\\robustness_of_gnns_at_scale-main\\experiments\\experiment_global_attack_direct.py#139\" target=\"_blank\"><span style=\"color: #7f7f7f; text-decoration-color: #7f7f7f\">139</span></a>\n</pre>\n"
     },
     "metadata": {},
     "output_type": "display_data"
    },
    {
     "data": {
      "text/plain": "\u001B[2;36m                   \u001B[0m\u001B[2;36m \u001B[0m\u001B[34mINFO    \u001B[0m Lock \u001B[1;36m1487050451088\u001B[0m acquired on cache\\evasion_global_adj.json.lock      \u001B]8;id=291200;file://C:\\Users\\kyawk\\anaconda3\\envs\\Masterarbeit_2_0\\Lib\\site-packages\\filelock.py\u001B\\\u001B[2mfilelock.py\u001B[0m\u001B]8;;\u001B\\\u001B[2m:\u001B[0m\u001B]8;id=861081;file://C:\\Users\\kyawk\\anaconda3\\envs\\Masterarbeit_2_0\\Lib\\site-packages\\filelock.py#274\u001B\\\u001B[2m274\u001B[0m\u001B]8;;\u001B\\\n",
      "text/html": "<pre style=\"white-space:pre;overflow-x:auto;line-height:normal;font-family:Menlo,'DejaVu Sans Mono',consolas,'Courier New',monospace\"><span style=\"color: #7fbfbf; text-decoration-color: #7fbfbf\">                    </span><span style=\"color: #000080; text-decoration-color: #000080\">INFO    </span> Lock <span style=\"color: #008080; text-decoration-color: #008080; font-weight: bold\">1487050451088</span> acquired on cache\\evasion_global_adj.json.lock      <a href=\"file://C:\\Users\\kyawk\\anaconda3\\envs\\Masterarbeit_2_0\\Lib\\site-packages\\filelock.py\" target=\"_blank\"><span style=\"color: #7f7f7f; text-decoration-color: #7f7f7f\">filelock.py</span></a><span style=\"color: #7f7f7f; text-decoration-color: #7f7f7f\">:</span><a href=\"file://C:\\Users\\kyawk\\anaconda3\\envs\\Masterarbeit_2_0\\Lib\\site-packages\\filelock.py#274\" target=\"_blank\"><span style=\"color: #7f7f7f; text-decoration-color: #7f7f7f\">274</span></a>\n</pre>\n"
     },
     "metadata": {},
     "output_type": "display_data"
    },
    {
     "data": {
      "text/plain": "\u001B[2;36m                   \u001B[0m\u001B[2;36m \u001B[0m\u001B[34mINFO    \u001B[0m Lock \u001B[1;36m1487050451088\u001B[0m released on cache\\evasion_global_adj.json.lock      \u001B]8;id=833123;file://C:\\Users\\kyawk\\anaconda3\\envs\\Masterarbeit_2_0\\Lib\\site-packages\\filelock.py\u001B\\\u001B[2mfilelock.py\u001B[0m\u001B]8;;\u001B\\\u001B[2m:\u001B[0m\u001B]8;id=147354;file://C:\\Users\\kyawk\\anaconda3\\envs\\Masterarbeit_2_0\\Lib\\site-packages\\filelock.py#318\u001B\\\u001B[2m318\u001B[0m\u001B]8;;\u001B\\\n",
      "text/html": "<pre style=\"white-space:pre;overflow-x:auto;line-height:normal;font-family:Menlo,'DejaVu Sans Mono',consolas,'Courier New',monospace\"><span style=\"color: #7fbfbf; text-decoration-color: #7fbfbf\">                    </span><span style=\"color: #000080; text-decoration-color: #000080\">INFO    </span> Lock <span style=\"color: #008080; text-decoration-color: #008080; font-weight: bold\">1487050451088</span> released on cache\\evasion_global_adj.json.lock      <a href=\"file://C:\\Users\\kyawk\\anaconda3\\envs\\Masterarbeit_2_0\\Lib\\site-packages\\filelock.py\" target=\"_blank\"><span style=\"color: #7f7f7f; text-decoration-color: #7f7f7f\">filelock.py</span></a><span style=\"color: #7f7f7f; text-decoration-color: #7f7f7f\">:</span><a href=\"file://C:\\Users\\kyawk\\anaconda3\\envs\\Masterarbeit_2_0\\Lib\\site-packages\\filelock.py#318\" target=\"_blank\"><span style=\"color: #7f7f7f; text-decoration-color: #7f7f7f\">318</span></a>\n</pre>\n"
     },
     "metadata": {},
     "output_type": "display_data"
    },
    {
     "data": {
      "text/plain": "\u001B[2;36m                   \u001B[0m\u001B[2;36m \u001B[0m\u001B[34mINFO    \u001B[0m Lock \u001B[1;36m1487050874128\u001B[0m acquired on cache\\evasion_global_attr.json.lock     \u001B]8;id=909421;file://C:\\Users\\kyawk\\anaconda3\\envs\\Masterarbeit_2_0\\Lib\\site-packages\\filelock.py\u001B\\\u001B[2mfilelock.py\u001B[0m\u001B]8;;\u001B\\\u001B[2m:\u001B[0m\u001B]8;id=902959;file://C:\\Users\\kyawk\\anaconda3\\envs\\Masterarbeit_2_0\\Lib\\site-packages\\filelock.py#274\u001B\\\u001B[2m274\u001B[0m\u001B]8;;\u001B\\\n",
      "text/html": "<pre style=\"white-space:pre;overflow-x:auto;line-height:normal;font-family:Menlo,'DejaVu Sans Mono',consolas,'Courier New',monospace\"><span style=\"color: #7fbfbf; text-decoration-color: #7fbfbf\">                    </span><span style=\"color: #000080; text-decoration-color: #000080\">INFO    </span> Lock <span style=\"color: #008080; text-decoration-color: #008080; font-weight: bold\">1487050874128</span> acquired on cache\\evasion_global_attr.json.lock     <a href=\"file://C:\\Users\\kyawk\\anaconda3\\envs\\Masterarbeit_2_0\\Lib\\site-packages\\filelock.py\" target=\"_blank\"><span style=\"color: #7f7f7f; text-decoration-color: #7f7f7f\">filelock.py</span></a><span style=\"color: #7f7f7f; text-decoration-color: #7f7f7f\">:</span><a href=\"file://C:\\Users\\kyawk\\anaconda3\\envs\\Masterarbeit_2_0\\Lib\\site-packages\\filelock.py#274\" target=\"_blank\"><span style=\"color: #7f7f7f; text-decoration-color: #7f7f7f\">274</span></a>\n</pre>\n"
     },
     "metadata": {},
     "output_type": "display_data"
    },
    {
     "data": {
      "text/plain": "\u001B[2;36m                   \u001B[0m\u001B[2;36m \u001B[0m\u001B[34mINFO    \u001B[0m Lock \u001B[1;36m1487050874128\u001B[0m released on cache\\evasion_global_attr.json.lock     \u001B]8;id=416682;file://C:\\Users\\kyawk\\anaconda3\\envs\\Masterarbeit_2_0\\Lib\\site-packages\\filelock.py\u001B\\\u001B[2mfilelock.py\u001B[0m\u001B]8;;\u001B\\\u001B[2m:\u001B[0m\u001B]8;id=455492;file://C:\\Users\\kyawk\\anaconda3\\envs\\Masterarbeit_2_0\\Lib\\site-packages\\filelock.py#318\u001B\\\u001B[2m318\u001B[0m\u001B]8;;\u001B\\\n",
      "text/html": "<pre style=\"white-space:pre;overflow-x:auto;line-height:normal;font-family:Menlo,'DejaVu Sans Mono',consolas,'Courier New',monospace\"><span style=\"color: #7fbfbf; text-decoration-color: #7fbfbf\">                    </span><span style=\"color: #000080; text-decoration-color: #000080\">INFO    </span> Lock <span style=\"color: #008080; text-decoration-color: #008080; font-weight: bold\">1487050874128</span> released on cache\\evasion_global_attr.json.lock     <a href=\"file://C:\\Users\\kyawk\\anaconda3\\envs\\Masterarbeit_2_0\\Lib\\site-packages\\filelock.py\" target=\"_blank\"><span style=\"color: #7f7f7f; text-decoration-color: #7f7f7f\">filelock.py</span></a><span style=\"color: #7f7f7f; text-decoration-color: #7f7f7f\">:</span><a href=\"file://C:\\Users\\kyawk\\anaconda3\\envs\\Masterarbeit_2_0\\Lib\\site-packages\\filelock.py#318\" target=\"_blank\"><span style=\"color: #7f7f7f; text-decoration-color: #7f7f7f\">318</span></a>\n</pre>\n"
     },
     "metadata": {},
     "output_type": "display_data"
    },
    {
     "data": {
      "text/plain": "\u001B[2;36m                   \u001B[0m\u001B[2;36m \u001B[0m\u001B[34mINFO    \u001B[0m No cached perturbations found for model \u001B[32m'Vanilla GCN'\u001B[0m and eps \u001B[1;36m0.25\u001B[0m.      \u001B]8;id=76317;file://C:\\Users\\kyawk\\Desktop\\robustness_of_gnns_at_scale-main\\experiments\\common.py\u001B\\\u001B[2mcommon.py\u001B[0m\u001B]8;;\u001B\\\u001B[2m:\u001B[0m\u001B]8;id=953193;file://C:\\Users\\kyawk\\Desktop\\robustness_of_gnns_at_scale-main\\experiments\\common.py#109\u001B\\\u001B[2m109\u001B[0m\u001B]8;;\u001B\\\n\u001B[2;36m                    \u001B[0m         Execute attack\u001B[33m...\u001B[0m                                                        \u001B[2m             \u001B[0m\n",
      "text/html": "<pre style=\"white-space:pre;overflow-x:auto;line-height:normal;font-family:Menlo,'DejaVu Sans Mono',consolas,'Courier New',monospace\"><span style=\"color: #7fbfbf; text-decoration-color: #7fbfbf\">                    </span><span style=\"color: #000080; text-decoration-color: #000080\">INFO    </span> No cached perturbations found for model <span style=\"color: #008000; text-decoration-color: #008000\">'Vanilla GCN'</span> and eps <span style=\"color: #008080; text-decoration-color: #008080; font-weight: bold\">0.25</span>.      <a href=\"file://C:\\Users\\kyawk\\Desktop\\robustness_of_gnns_at_scale-main\\experiments\\common.py\" target=\"_blank\"><span style=\"color: #7f7f7f; text-decoration-color: #7f7f7f\">common.py</span></a><span style=\"color: #7f7f7f; text-decoration-color: #7f7f7f\">:</span><a href=\"file://C:\\Users\\kyawk\\Desktop\\robustness_of_gnns_at_scale-main\\experiments\\common.py#109\" target=\"_blank\"><span style=\"color: #7f7f7f; text-decoration-color: #7f7f7f\">109</span></a>\n<span style=\"color: #7fbfbf; text-decoration-color: #7fbfbf\">                    </span>         Execute attack<span style=\"color: #808000; text-decoration-color: #808000\">...</span>                                                        <span style=\"color: #7f7f7f; text-decoration-color: #7f7f7f\">             </span>\n</pre>\n"
     },
     "metadata": {},
     "output_type": "display_data"
    },
    {
     "data": {
      "text/plain": "\u001B[2;36m                   \u001B[0m\u001B[2;36m \u001B[0m\u001B[34mINFO    \u001B[0m                                                                            \u001B]8;id=133528;file://C:\\Users\\kyawk\\Desktop\\robustness_of_gnns_at_scale-main\\rgnn_at_scale\\attacks\\prbcd.py\u001B\\\u001B[2mprbcd.py\u001B[0m\u001B]8;;\u001B\\\u001B[2m:\u001B[0m\u001B]8;id=665009;file://C:\\Users\\kyawk\\Desktop\\robustness_of_gnns_at_scale-main\\rgnn_at_scale\\attacks\\prbcd.py#90\u001B\\\u001B[2m90\u001B[0m\u001B]8;;\u001B\\\n\u001B[2;36m                    \u001B[0m         Before the attack - Loss: \u001B[1;36m-0.6509091258049011\u001B[0m Accuracy: \u001B[1;36m83.478\u001B[0m %           \u001B[2m           \u001B[0m\n\u001B[2;36m                    \u001B[0m                                                                                    \u001B[2m           \u001B[0m\n",
      "text/html": "<pre style=\"white-space:pre;overflow-x:auto;line-height:normal;font-family:Menlo,'DejaVu Sans Mono',consolas,'Courier New',monospace\"><span style=\"color: #7fbfbf; text-decoration-color: #7fbfbf\">                    </span><span style=\"color: #000080; text-decoration-color: #000080\">INFO    </span>                                                                            <a href=\"file://C:\\Users\\kyawk\\Desktop\\robustness_of_gnns_at_scale-main\\rgnn_at_scale\\attacks\\prbcd.py\" target=\"_blank\"><span style=\"color: #7f7f7f; text-decoration-color: #7f7f7f\">prbcd.py</span></a><span style=\"color: #7f7f7f; text-decoration-color: #7f7f7f\">:</span><a href=\"file://C:\\Users\\kyawk\\Desktop\\robustness_of_gnns_at_scale-main\\rgnn_at_scale\\attacks\\prbcd.py#90\" target=\"_blank\"><span style=\"color: #7f7f7f; text-decoration-color: #7f7f7f\">90</span></a>\n<span style=\"color: #7fbfbf; text-decoration-color: #7fbfbf\">                    </span>         Before the attack - Loss: <span style=\"color: #008080; text-decoration-color: #008080; font-weight: bold\">-0.6509091258049011</span> Accuracy: <span style=\"color: #008080; text-decoration-color: #008080; font-weight: bold\">83.478</span> %           <span style=\"color: #7f7f7f; text-decoration-color: #7f7f7f\">           </span>\n<span style=\"color: #7fbfbf; text-decoration-color: #7fbfbf\">                    </span>                                                                                    <span style=\"color: #7f7f7f; text-decoration-color: #7f7f7f\">           </span>\n</pre>\n"
     },
     "metadata": {},
     "output_type": "display_data"
    },
    {
     "name": "stderr",
     "output_type": "stream",
     "text": [
      "\n",
      "\n",
      "  0%|          | 0/50 [00:00<?, ?it/s]\u001B[A\u001B[A"
     ]
    },
    {
     "data": {
      "text/plain": "\u001B[2;36m[04/04/25 18:08:51]\u001B[0m\u001B[2;36m \u001B[0m\u001B[34mINFO    \u001B[0m                                                                           \u001B]8;id=951232;file://C:\\Users\\kyawk\\Desktop\\robustness_of_gnns_at_scale-main\\rgnn_at_scale\\attacks\\prbcd.py\u001B\\\u001B[2mprbcd.py\u001B[0m\u001B]8;;\u001B\\\u001B[2m:\u001B[0m\u001B]8;id=757698;file://C:\\Users\\kyawk\\Desktop\\robustness_of_gnns_at_scale-main\\rgnn_at_scale\\attacks\\prbcd.py#136\u001B\\\u001B[2m136\u001B[0m\u001B]8;;\u001B\\\n\u001B[2;36m                    \u001B[0m         Epoch: \u001B[1;36m0\u001B[0m Loss: \u001B[1;36m-0.6508852243423462\u001B[0m Accuracy: \u001B[1;36m83.360\u001B[0m %                     \u001B[2m            \u001B[0m\n\u001B[2;36m                    \u001B[0m                                                                                   \u001B[2m            \u001B[0m\n",
      "text/html": "<pre style=\"white-space:pre;overflow-x:auto;line-height:normal;font-family:Menlo,'DejaVu Sans Mono',consolas,'Courier New',monospace\"><span style=\"color: #7fbfbf; text-decoration-color: #7fbfbf\">[04/04/25 18:08:51] </span><span style=\"color: #000080; text-decoration-color: #000080\">INFO    </span>                                                                           <a href=\"file://C:\\Users\\kyawk\\Desktop\\robustness_of_gnns_at_scale-main\\rgnn_at_scale\\attacks\\prbcd.py\" target=\"_blank\"><span style=\"color: #7f7f7f; text-decoration-color: #7f7f7f\">prbcd.py</span></a><span style=\"color: #7f7f7f; text-decoration-color: #7f7f7f\">:</span><a href=\"file://C:\\Users\\kyawk\\Desktop\\robustness_of_gnns_at_scale-main\\rgnn_at_scale\\attacks\\prbcd.py#136\" target=\"_blank\"><span style=\"color: #7f7f7f; text-decoration-color: #7f7f7f\">136</span></a>\n<span style=\"color: #7fbfbf; text-decoration-color: #7fbfbf\">                    </span>         Epoch: <span style=\"color: #008080; text-decoration-color: #008080; font-weight: bold\">0</span> Loss: <span style=\"color: #008080; text-decoration-color: #008080; font-weight: bold\">-0.6508852243423462</span> Accuracy: <span style=\"color: #008080; text-decoration-color: #008080; font-weight: bold\">83.360</span> %                     <span style=\"color: #7f7f7f; text-decoration-color: #7f7f7f\">            </span>\n<span style=\"color: #7fbfbf; text-decoration-color: #7fbfbf\">                    </span>                                                                                   <span style=\"color: #7f7f7f; text-decoration-color: #7f7f7f\">            </span>\n</pre>\n"
     },
     "metadata": {},
     "output_type": "display_data"
    },
    {
     "name": "stderr",
     "output_type": "stream",
     "text": [
      "\n",
      "\n",
      "  2%|▏         | 1/50 [00:01<01:07,  1.38s/it]\u001B[A\u001B[A\n",
      "\n",
      "  4%|▍         | 2/50 [00:02<01:08,  1.42s/it]\u001B[A\u001B[A\n",
      "\n",
      "  6%|▌         | 3/50 [00:03<01:02,  1.32s/it]\u001B[A\u001B[A\n",
      "\n",
      "  8%|▊         | 4/50 [00:05<00:57,  1.26s/it]\u001B[A\u001B[A\n",
      "\n",
      " 10%|█         | 5/50 [00:06<00:53,  1.19s/it]\u001B[A\u001B[A\n",
      "\n",
      " 12%|█▏        | 6/50 [00:07<00:50,  1.15s/it]\u001B[A\u001B[A\n",
      "\n",
      " 14%|█▍        | 7/50 [00:08<00:48,  1.13s/it]\u001B[A\u001B[A\n",
      "\n",
      " 16%|█▌        | 8/50 [00:09<00:46,  1.12s/it]\u001B[A\u001B[A\n",
      "\n",
      " 18%|█▊        | 9/50 [00:10<00:45,  1.11s/it]\u001B[A\u001B[A\n",
      "\n",
      " 20%|██        | 10/50 [00:11<00:43,  1.09s/it]\u001B[A\u001B[A\n",
      "\n",
      " 22%|██▏       | 11/50 [00:12<00:42,  1.08s/it]\u001B[A\u001B[A\n",
      "\n",
      " 24%|██▍       | 12/50 [00:13<00:41,  1.10s/it]\u001B[A\u001B[A\n",
      "\n",
      " 26%|██▌       | 13/50 [00:14<00:41,  1.13s/it]\u001B[A\u001B[A\n",
      "\n",
      " 28%|██▊       | 14/50 [00:16<00:41,  1.16s/it]\u001B[A\u001B[A\n",
      "\n",
      " 30%|███       | 15/50 [00:17<00:40,  1.15s/it]\u001B[A\u001B[A\n",
      "\n",
      " 32%|███▏      | 16/50 [00:18<00:38,  1.12s/it]\u001B[A\u001B[A\n",
      "\n",
      " 34%|███▍      | 17/50 [00:19<00:36,  1.10s/it]\u001B[A\u001B[A\n",
      "\n",
      " 36%|███▌      | 18/50 [00:20<00:35,  1.11s/it]\u001B[A\u001B[A\n",
      "\n",
      " 38%|███▊      | 19/50 [00:21<00:34,  1.10s/it]\u001B[A\u001B[A\n",
      "\n",
      " 40%|████      | 20/50 [00:22<00:33,  1.11s/it]\u001B[A\u001B[A"
     ]
    },
    {
     "data": {
      "text/plain": "\u001B[2;36m[04/04/25 18:09:13]\u001B[0m\u001B[2;36m \u001B[0m\u001B[34mINFO    \u001B[0m                                                                           \u001B]8;id=399107;file://C:\\Users\\kyawk\\Desktop\\robustness_of_gnns_at_scale-main\\rgnn_at_scale\\attacks\\prbcd.py\u001B\\\u001B[2mprbcd.py\u001B[0m\u001B]8;;\u001B\\\u001B[2m:\u001B[0m\u001B]8;id=969573;file://C:\\Users\\kyawk\\Desktop\\robustness_of_gnns_at_scale-main\\rgnn_at_scale\\attacks\\prbcd.py#136\u001B\\\u001B[2m136\u001B[0m\u001B]8;;\u001B\\\n\u001B[2;36m                    \u001B[0m         Epoch: \u001B[1;36m20\u001B[0m Loss: \u001B[1;36m-0.6247091889381409\u001B[0m Accuracy: \u001B[1;36m81.423\u001B[0m %                    \u001B[2m            \u001B[0m\n\u001B[2;36m                    \u001B[0m                                                                                   \u001B[2m            \u001B[0m\n",
      "text/html": "<pre style=\"white-space:pre;overflow-x:auto;line-height:normal;font-family:Menlo,'DejaVu Sans Mono',consolas,'Courier New',monospace\"><span style=\"color: #7fbfbf; text-decoration-color: #7fbfbf\">[04/04/25 18:09:13] </span><span style=\"color: #000080; text-decoration-color: #000080\">INFO    </span>                                                                           <a href=\"file://C:\\Users\\kyawk\\Desktop\\robustness_of_gnns_at_scale-main\\rgnn_at_scale\\attacks\\prbcd.py\" target=\"_blank\"><span style=\"color: #7f7f7f; text-decoration-color: #7f7f7f\">prbcd.py</span></a><span style=\"color: #7f7f7f; text-decoration-color: #7f7f7f\">:</span><a href=\"file://C:\\Users\\kyawk\\Desktop\\robustness_of_gnns_at_scale-main\\rgnn_at_scale\\attacks\\prbcd.py#136\" target=\"_blank\"><span style=\"color: #7f7f7f; text-decoration-color: #7f7f7f\">136</span></a>\n<span style=\"color: #7fbfbf; text-decoration-color: #7fbfbf\">                    </span>         Epoch: <span style=\"color: #008080; text-decoration-color: #008080; font-weight: bold\">20</span> Loss: <span style=\"color: #008080; text-decoration-color: #008080; font-weight: bold\">-0.6247091889381409</span> Accuracy: <span style=\"color: #008080; text-decoration-color: #008080; font-weight: bold\">81.423</span> %                    <span style=\"color: #7f7f7f; text-decoration-color: #7f7f7f\">            </span>\n<span style=\"color: #7fbfbf; text-decoration-color: #7fbfbf\">                    </span>                                                                                   <span style=\"color: #7f7f7f; text-decoration-color: #7f7f7f\">            </span>\n</pre>\n"
     },
     "metadata": {},
     "output_type": "display_data"
    },
    {
     "name": "stderr",
     "output_type": "stream",
     "text": [
      "\n",
      "\n",
      " 42%|████▏     | 21/50 [00:23<00:32,  1.14s/it]\u001B[A\u001B[A\n",
      "\n",
      " 44%|████▍     | 22/50 [00:25<00:36,  1.32s/it]\u001B[A\u001B[A\n",
      "\n",
      " 46%|████▌     | 23/50 [00:27<00:36,  1.35s/it]\u001B[A\u001B[A\n",
      "\n",
      " 48%|████▊     | 24/50 [00:28<00:33,  1.30s/it]\u001B[A\u001B[A\n",
      "\n",
      " 50%|█████     | 25/50 [00:29<00:31,  1.27s/it]\u001B[A\u001B[A\n",
      "\n",
      " 52%|█████▏    | 26/50 [00:30<00:30,  1.26s/it]\u001B[A\u001B[A\n",
      "\n",
      " 54%|█████▍    | 27/50 [00:31<00:28,  1.24s/it]\u001B[A\u001B[A\n",
      "\n",
      " 56%|█████▌    | 28/50 [00:33<00:26,  1.22s/it]\u001B[A\u001B[A\n",
      "\n",
      " 58%|█████▊    | 29/50 [00:34<00:24,  1.19s/it]\u001B[A\u001B[A\n",
      "\n",
      " 60%|██████    | 30/50 [00:35<00:23,  1.16s/it]\u001B[A\u001B[A\n",
      "\n",
      " 62%|██████▏   | 31/50 [00:36<00:21,  1.14s/it]\u001B[A\u001B[A\n",
      "\n",
      " 64%|██████▍   | 32/50 [00:37<00:20,  1.13s/it]\u001B[A\u001B[A\n",
      "\n",
      " 66%|██████▌   | 33/50 [00:38<00:18,  1.11s/it]\u001B[A\u001B[A\n",
      "\n",
      " 68%|██████▊   | 34/50 [00:39<00:17,  1.10s/it]\u001B[A\u001B[A\n",
      "\n",
      " 70%|███████   | 35/50 [00:40<00:16,  1.09s/it]\u001B[A\u001B[A\n",
      "\n",
      " 72%|███████▏  | 36/50 [00:41<00:15,  1.08s/it]\u001B[A\u001B[A\n",
      "\n",
      " 74%|███████▍  | 37/50 [00:42<00:14,  1.09s/it]\u001B[A\u001B[A\n",
      "\n",
      " 76%|███████▌  | 38/50 [00:43<00:12,  1.08s/it]\u001B[A\u001B[A\n",
      "\n",
      " 78%|███████▊  | 39/50 [00:45<00:11,  1.09s/it]\u001B[A\u001B[A\n",
      "\n",
      " 80%|████████  | 40/50 [00:46<00:11,  1.12s/it]\u001B[A\u001B[A"
     ]
    },
    {
     "data": {
      "text/plain": "\u001B[2;36m[04/04/25 18:09:37]\u001B[0m\u001B[2;36m \u001B[0m\u001B[34mINFO    \u001B[0m                                                                           \u001B]8;id=406531;file://C:\\Users\\kyawk\\Desktop\\robustness_of_gnns_at_scale-main\\rgnn_at_scale\\attacks\\prbcd.py\u001B\\\u001B[2mprbcd.py\u001B[0m\u001B]8;;\u001B\\\u001B[2m:\u001B[0m\u001B]8;id=580994;file://C:\\Users\\kyawk\\Desktop\\robustness_of_gnns_at_scale-main\\rgnn_at_scale\\attacks\\prbcd.py#136\u001B\\\u001B[2m136\u001B[0m\u001B]8;;\u001B\\\n\u001B[2;36m                    \u001B[0m         Epoch: \u001B[1;36m40\u001B[0m Loss: \u001B[1;36m-0.6125603318214417\u001B[0m Accuracy: \u001B[1;36m80.435\u001B[0m %                    \u001B[2m            \u001B[0m\n\u001B[2;36m                    \u001B[0m                                                                                   \u001B[2m            \u001B[0m\n",
      "text/html": "<pre style=\"white-space:pre;overflow-x:auto;line-height:normal;font-family:Menlo,'DejaVu Sans Mono',consolas,'Courier New',monospace\"><span style=\"color: #7fbfbf; text-decoration-color: #7fbfbf\">[04/04/25 18:09:37] </span><span style=\"color: #000080; text-decoration-color: #000080\">INFO    </span>                                                                           <a href=\"file://C:\\Users\\kyawk\\Desktop\\robustness_of_gnns_at_scale-main\\rgnn_at_scale\\attacks\\prbcd.py\" target=\"_blank\"><span style=\"color: #7f7f7f; text-decoration-color: #7f7f7f\">prbcd.py</span></a><span style=\"color: #7f7f7f; text-decoration-color: #7f7f7f\">:</span><a href=\"file://C:\\Users\\kyawk\\Desktop\\robustness_of_gnns_at_scale-main\\rgnn_at_scale\\attacks\\prbcd.py#136\" target=\"_blank\"><span style=\"color: #7f7f7f; text-decoration-color: #7f7f7f\">136</span></a>\n<span style=\"color: #7fbfbf; text-decoration-color: #7fbfbf\">                    </span>         Epoch: <span style=\"color: #008080; text-decoration-color: #008080; font-weight: bold\">40</span> Loss: <span style=\"color: #008080; text-decoration-color: #008080; font-weight: bold\">-0.6125603318214417</span> Accuracy: <span style=\"color: #008080; text-decoration-color: #008080; font-weight: bold\">80.435</span> %                    <span style=\"color: #7f7f7f; text-decoration-color: #7f7f7f\">            </span>\n<span style=\"color: #7fbfbf; text-decoration-color: #7fbfbf\">                    </span>                                                                                   <span style=\"color: #7f7f7f; text-decoration-color: #7f7f7f\">            </span>\n</pre>\n"
     },
     "metadata": {},
     "output_type": "display_data"
    },
    {
     "name": "stderr",
     "output_type": "stream",
     "text": [
      "\n",
      "\n",
      " 82%|████████▏ | 41/50 [00:47<00:10,  1.16s/it]\u001B[A\u001B[A\n",
      "\n",
      " 84%|████████▍ | 42/50 [00:48<00:09,  1.21s/it]\u001B[A\u001B[A\n",
      "\n",
      " 86%|████████▌ | 43/50 [00:49<00:08,  1.18s/it]\u001B[A\u001B[A\n",
      "\n",
      " 88%|████████▊ | 44/50 [00:50<00:06,  1.14s/it]\u001B[A\u001B[A\n",
      "\n",
      " 90%|█████████ | 45/50 [00:51<00:05,  1.11s/it]\u001B[A\u001B[A\n",
      "\n",
      " 92%|█████████▏| 46/50 [00:53<00:04,  1.10s/it]\u001B[A\u001B[A\n",
      "\n",
      " 94%|█████████▍| 47/50 [00:54<00:03,  1.10s/it]\u001B[A\u001B[A\n",
      "\n",
      " 96%|█████████▌| 48/50 [00:55<00:02,  1.09s/it]\u001B[A\u001B[A\n",
      "\n",
      " 98%|█████████▊| 49/50 [00:56<00:01,  1.09s/it]\u001B[A\u001B[A\n",
      "\n",
      "100%|██████████| 50/50 [00:57<00:00,  1.15s/it]\u001B[A\u001B[A\n"
     ]
    },
    {
     "data": {
      "text/plain": "\u001B[2;36m[04/04/25 18:09:55]\u001B[0m\u001B[2;36m \u001B[0m\u001B[34mINFO    \u001B[0m Lock \u001B[1;36m1487050370640\u001B[0m acquired on cache\\evasion_global_adj.json.lock      \u001B]8;id=509654;file://C:\\Users\\kyawk\\anaconda3\\envs\\Masterarbeit_2_0\\Lib\\site-packages\\filelock.py\u001B\\\u001B[2mfilelock.py\u001B[0m\u001B]8;;\u001B\\\u001B[2m:\u001B[0m\u001B]8;id=474924;file://C:\\Users\\kyawk\\anaconda3\\envs\\Masterarbeit_2_0\\Lib\\site-packages\\filelock.py#274\u001B\\\u001B[2m274\u001B[0m\u001B]8;;\u001B\\\n",
      "text/html": "<pre style=\"white-space:pre;overflow-x:auto;line-height:normal;font-family:Menlo,'DejaVu Sans Mono',consolas,'Courier New',monospace\"><span style=\"color: #7fbfbf; text-decoration-color: #7fbfbf\">[04/04/25 18:09:55] </span><span style=\"color: #000080; text-decoration-color: #000080\">INFO    </span> Lock <span style=\"color: #008080; text-decoration-color: #008080; font-weight: bold\">1487050370640</span> acquired on cache\\evasion_global_adj.json.lock      <a href=\"file://C:\\Users\\kyawk\\anaconda3\\envs\\Masterarbeit_2_0\\Lib\\site-packages\\filelock.py\" target=\"_blank\"><span style=\"color: #7f7f7f; text-decoration-color: #7f7f7f\">filelock.py</span></a><span style=\"color: #7f7f7f; text-decoration-color: #7f7f7f\">:</span><a href=\"file://C:\\Users\\kyawk\\anaconda3\\envs\\Masterarbeit_2_0\\Lib\\site-packages\\filelock.py#274\" target=\"_blank\"><span style=\"color: #7f7f7f; text-decoration-color: #7f7f7f\">274</span></a>\n</pre>\n"
     },
     "metadata": {},
     "output_type": "display_data"
    },
    {
     "data": {
      "text/plain": "\u001B[2;36m                   \u001B[0m\u001B[2;36m \u001B[0m\u001B[34mINFO    \u001B[0m Lock \u001B[1;36m1487050370640\u001B[0m released on cache\\evasion_global_adj.json.lock      \u001B]8;id=90462;file://C:\\Users\\kyawk\\anaconda3\\envs\\Masterarbeit_2_0\\Lib\\site-packages\\filelock.py\u001B\\\u001B[2mfilelock.py\u001B[0m\u001B]8;;\u001B\\\u001B[2m:\u001B[0m\u001B]8;id=618258;file://C:\\Users\\kyawk\\anaconda3\\envs\\Masterarbeit_2_0\\Lib\\site-packages\\filelock.py#318\u001B\\\u001B[2m318\u001B[0m\u001B]8;;\u001B\\\n",
      "text/html": "<pre style=\"white-space:pre;overflow-x:auto;line-height:normal;font-family:Menlo,'DejaVu Sans Mono',consolas,'Courier New',monospace\"><span style=\"color: #7fbfbf; text-decoration-color: #7fbfbf\">                    </span><span style=\"color: #000080; text-decoration-color: #000080\">INFO    </span> Lock <span style=\"color: #008080; text-decoration-color: #008080; font-weight: bold\">1487050370640</span> released on cache\\evasion_global_adj.json.lock      <a href=\"file://C:\\Users\\kyawk\\anaconda3\\envs\\Masterarbeit_2_0\\Lib\\site-packages\\filelock.py\" target=\"_blank\"><span style=\"color: #7f7f7f; text-decoration-color: #7f7f7f\">filelock.py</span></a><span style=\"color: #7f7f7f; text-decoration-color: #7f7f7f\">:</span><a href=\"file://C:\\Users\\kyawk\\anaconda3\\envs\\Masterarbeit_2_0\\Lib\\site-packages\\filelock.py#318\" target=\"_blank\"><span style=\"color: #7f7f7f; text-decoration-color: #7f7f7f\">318</span></a>\n</pre>\n"
     },
     "metadata": {},
     "output_type": "display_data"
    },
    {
     "data": {
      "text/plain": "\u001B[2;36m                   \u001B[0m\u001B[2;36m \u001B[0m\u001B[34mINFO    \u001B[0m Lock \u001B[1;36m1487051653200\u001B[0m acquired on cache\\evasion_global_attr.json.lock     \u001B]8;id=121553;file://C:\\Users\\kyawk\\anaconda3\\envs\\Masterarbeit_2_0\\Lib\\site-packages\\filelock.py\u001B\\\u001B[2mfilelock.py\u001B[0m\u001B]8;;\u001B\\\u001B[2m:\u001B[0m\u001B]8;id=597870;file://C:\\Users\\kyawk\\anaconda3\\envs\\Masterarbeit_2_0\\Lib\\site-packages\\filelock.py#274\u001B\\\u001B[2m274\u001B[0m\u001B]8;;\u001B\\\n",
      "text/html": "<pre style=\"white-space:pre;overflow-x:auto;line-height:normal;font-family:Menlo,'DejaVu Sans Mono',consolas,'Courier New',monospace\"><span style=\"color: #7fbfbf; text-decoration-color: #7fbfbf\">                    </span><span style=\"color: #000080; text-decoration-color: #000080\">INFO    </span> Lock <span style=\"color: #008080; text-decoration-color: #008080; font-weight: bold\">1487051653200</span> acquired on cache\\evasion_global_attr.json.lock     <a href=\"file://C:\\Users\\kyawk\\anaconda3\\envs\\Masterarbeit_2_0\\Lib\\site-packages\\filelock.py\" target=\"_blank\"><span style=\"color: #7f7f7f; text-decoration-color: #7f7f7f\">filelock.py</span></a><span style=\"color: #7f7f7f; text-decoration-color: #7f7f7f\">:</span><a href=\"file://C:\\Users\\kyawk\\anaconda3\\envs\\Masterarbeit_2_0\\Lib\\site-packages\\filelock.py#274\" target=\"_blank\"><span style=\"color: #7f7f7f; text-decoration-color: #7f7f7f\">274</span></a>\n</pre>\n"
     },
     "metadata": {},
     "output_type": "display_data"
    },
    {
     "data": {
      "text/plain": "\u001B[2;36m                   \u001B[0m\u001B[2;36m \u001B[0m\u001B[34mINFO    \u001B[0m Lock \u001B[1;36m1487051653200\u001B[0m released on cache\\evasion_global_attr.json.lock     \u001B]8;id=637321;file://C:\\Users\\kyawk\\anaconda3\\envs\\Masterarbeit_2_0\\Lib\\site-packages\\filelock.py\u001B\\\u001B[2mfilelock.py\u001B[0m\u001B]8;;\u001B\\\u001B[2m:\u001B[0m\u001B]8;id=739017;file://C:\\Users\\kyawk\\anaconda3\\envs\\Masterarbeit_2_0\\Lib\\site-packages\\filelock.py#318\u001B\\\u001B[2m318\u001B[0m\u001B]8;;\u001B\\\n",
      "text/html": "<pre style=\"white-space:pre;overflow-x:auto;line-height:normal;font-family:Menlo,'DejaVu Sans Mono',consolas,'Courier New',monospace\"><span style=\"color: #7fbfbf; text-decoration-color: #7fbfbf\">                    </span><span style=\"color: #000080; text-decoration-color: #000080\">INFO    </span> Lock <span style=\"color: #008080; text-decoration-color: #008080; font-weight: bold\">1487051653200</span> released on cache\\evasion_global_attr.json.lock     <a href=\"file://C:\\Users\\kyawk\\anaconda3\\envs\\Masterarbeit_2_0\\Lib\\site-packages\\filelock.py\" target=\"_blank\"><span style=\"color: #7f7f7f; text-decoration-color: #7f7f7f\">filelock.py</span></a><span style=\"color: #7f7f7f; text-decoration-color: #7f7f7f\">:</span><a href=\"file://C:\\Users\\kyawk\\anaconda3\\envs\\Masterarbeit_2_0\\Lib\\site-packages\\filelock.py#318\" target=\"_blank\"><span style=\"color: #7f7f7f; text-decoration-color: #7f7f7f\">318</span></a>\n</pre>\n"
     },
     "metadata": {},
     "output_type": "display_data"
    },
    {
     "name": "stdout",
     "output_type": "stream",
     "text": [
      "{'results': [{'label': 'Vanilla GCN', 'epsilon': 0.25, 'accuracy': 0.8007904887199402}]}\n"
     ]
    }
   ],
   "execution_count": 67
  },
  {
   "cell_type": "code",
   "source": [
    "perturbed_acc_cert = global_prbcd_statistics_cert[\"results\"][0]['accuracy']\n",
    "print(f'Clean accuracy: {100*clean_acc:.2f}%; Accuracy after global PRBCD attack with cert: {100*perturbed_acc_cert:.2f}%')"
   ],
   "metadata": {
    "colab": {
     "base_uri": "https://localhost:8080/"
    },
    "id": "UQwlL5mnkXHO",
    "outputId": "03150aca-0629-443b-c494-a01bdd06b653",
    "ExecuteTime": {
     "end_time": "2025-04-04T16:10:06.588738500Z",
     "start_time": "2025-04-04T16:10:05.823448800Z"
    }
   },
   "outputs": [
    {
     "name": "stdout",
     "output_type": "stream",
     "text": [
      "Clean accuracy: 83.48%; Accuracy after global PRBCD attack with cert: 82.09%\n"
     ]
    }
   ],
   "execution_count": 68
  },
  {
   "metadata": {
    "ExecuteTime": {
     "end_time": "2025-04-04T16:10:09.184257300Z",
     "start_time": "2025-04-04T16:10:08.733488300Z"
    }
   },
   "cell_type": "code",
   "source": [
    "perturbed_acc = global_prbcd_statistics[\"results\"][0]['accuracy']\n",
    "print(f'Clean accuracy: {100*clean_acc:.2f}%; Accuracy after global PRBCD attack: {100*perturbed_acc:.2f}%')"
   ],
   "outputs": [
    {
     "name": "stdout",
     "output_type": "stream",
     "text": [
      "Clean accuracy: 83.48%; Accuracy after global PRBCD attack: 80.08%\n"
     ]
    }
   ],
   "execution_count": 69
  },
  {
   "cell_type": "code",
   "execution_count": null,
   "outputs": [],
   "source": [],
   "metadata": {
    "collapsed": false
   }
  }
 ]
}
